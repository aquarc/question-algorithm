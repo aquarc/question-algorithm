{
 "cells": [
  {
   "cell_type": "markdown",
   "id": "1cfa75e0",
   "metadata": {
    "papermill": {
     "duration": 0.016085,
     "end_time": "2025-04-18T23:30:10.534635",
     "exception": false,
     "start_time": "2025-04-18T23:30:10.518550",
     "status": "completed"
    },
    "tags": []
   },
   "source": [
    "# Synopsis\n",
    "Aquarc is an all-in-one SAT platform for high schoolers designed to minimize time spent using the software and maximizing practice and essential questions. In order to further this mission, Aquarc Intelligence was created to analyze mistakes within a question and to suggest similar questions for efficient practicing."
   ]
  },
  {
   "cell_type": "markdown",
   "id": "e2e5088f",
   "metadata": {
    "papermill": {
     "duration": 0.01679,
     "end_time": "2025-04-18T23:30:10.566934",
     "exception": false,
     "start_time": "2025-04-18T23:30:10.550144",
     "status": "completed"
    },
    "tags": []
   },
   "source": [
    "# Install the SDK \n",
    "We will be using Google's Gemini and utilities to build the model."
   ]
  },
  {
   "cell_type": "code",
   "execution_count": 1,
   "id": "1d6c6636",
   "metadata": {
    "execution": {
     "iopub.execute_input": "2025-04-18T23:30:10.598103Z",
     "iopub.status.busy": "2025-04-18T23:30:10.597806Z",
     "iopub.status.idle": "2025-04-18T23:30:52.244237Z",
     "shell.execute_reply": "2025-04-18T23:30:52.243335Z"
    },
    "papermill": {
     "duration": 41.663946,
     "end_time": "2025-04-18T23:30:52.245996",
     "exception": false,
     "start_time": "2025-04-18T23:30:10.582050",
     "status": "completed"
    },
    "tags": []
   },
   "outputs": [
    {
     "name": "stdout",
     "output_type": "stream",
     "text": [
      "\u001b[2K     \u001b[90m━━━━━━━━━━━━━━━━━━━━━━━━━━━━━━━━━━━━━━━━\u001b[0m \u001b[32m67.3/67.3 kB\u001b[0m \u001b[31m3.6 MB/s\u001b[0m eta \u001b[36m0:00:00\u001b[0m\r\n",
      "\u001b[?25h  Installing build dependencies ... \u001b[?25l\u001b[?25hdone\r\n",
      "  Getting requirements to build wheel ... \u001b[?25l\u001b[?25hdone\r\n",
      "  Preparing metadata (pyproject.toml) ... \u001b[?25l\u001b[?25hdone\r\n",
      "\u001b[2K   \u001b[90m━━━━━━━━━━━━━━━━━━━━━━━━━━━━━━━━━━━━━━━━\u001b[0m \u001b[32m144.7/144.7 kB\u001b[0m \u001b[31m8.3 MB/s\u001b[0m eta \u001b[36m0:00:00\u001b[0m\r\n",
      "\u001b[2K   \u001b[90m━━━━━━━━━━━━━━━━━━━━━━━━━━━━━━━━━━━━━━━━\u001b[0m \u001b[32m611.1/611.1 kB\u001b[0m \u001b[31m22.1 MB/s\u001b[0m eta \u001b[36m0:00:00\u001b[0m\r\n",
      "\u001b[2K   \u001b[90m━━━━━━━━━━━━━━━━━━━━━━━━━━━━━━━━━━━━━━━━\u001b[0m \u001b[32m2.4/2.4 MB\u001b[0m \u001b[31m63.3 MB/s\u001b[0m eta \u001b[36m0:00:00\u001b[0m\r\n",
      "\u001b[2K   \u001b[90m━━━━━━━━━━━━━━━━━━━━━━━━━━━━━━━━━━━━━━━━\u001b[0m \u001b[32m1.0/1.0 MB\u001b[0m \u001b[31m36.4 MB/s\u001b[0m eta \u001b[36m0:00:00\u001b[0m\r\n",
      "\u001b[2K   \u001b[90m━━━━━━━━━━━━━━━━━━━━━━━━━━━━━━━━━━━━━━━━\u001b[0m \u001b[32m232.6/232.6 kB\u001b[0m \u001b[31m11.5 MB/s\u001b[0m eta \u001b[36m0:00:00\u001b[0m\r\n",
      "\u001b[2K   \u001b[90m━━━━━━━━━━━━━━━━━━━━━━━━━━━━━━━━━━━━━━━━\u001b[0m \u001b[32m100.9/100.9 kB\u001b[0m \u001b[31m5.4 MB/s\u001b[0m eta \u001b[36m0:00:00\u001b[0m\r\n",
      "\u001b[2K   \u001b[90m━━━━━━━━━━━━━━━━━━━━━━━━━━━━━━━━━━━━━━━━\u001b[0m \u001b[32m284.2/284.2 kB\u001b[0m \u001b[31m13.8 MB/s\u001b[0m eta \u001b[36m0:00:00\u001b[0m\r\n",
      "\u001b[2K   \u001b[90m━━━━━━━━━━━━━━━━━━━━━━━━━━━━━━━━━━━━━━━━\u001b[0m \u001b[32m95.2/95.2 kB\u001b[0m \u001b[31m4.2 MB/s\u001b[0m eta \u001b[36m0:00:00\u001b[0m\r\n",
      "\u001b[2K   \u001b[90m━━━━━━━━━━━━━━━━━━━━━━━━━━━━━━━━━━━━━━━━\u001b[0m \u001b[32m2.0/2.0 MB\u001b[0m \u001b[31m48.7 MB/s\u001b[0m eta \u001b[36m0:00:00\u001b[0m\r\n",
      "\u001b[2K   \u001b[90m━━━━━━━━━━━━━━━━━━━━━━━━━━━━━━━━━━━━━━━━\u001b[0m \u001b[32m433.9/433.9 kB\u001b[0m \u001b[31m16.9 MB/s\u001b[0m eta \u001b[36m0:00:00\u001b[0m\r\n",
      "\u001b[2K   \u001b[90m━━━━━━━━━━━━━━━━━━━━━━━━━━━━━━━━━━━━━━━━\u001b[0m \u001b[32m99.2/99.2 kB\u001b[0m \u001b[31m4.6 MB/s\u001b[0m eta \u001b[36m0:00:00\u001b[0m\r\n",
      "\u001b[2K   \u001b[90m━━━━━━━━━━━━━━━━━━━━━━━━━━━━━━━━━━━━━━━━\u001b[0m \u001b[32m16.0/16.0 MB\u001b[0m \u001b[31m23.2 MB/s\u001b[0m eta \u001b[36m0:00:00\u001b[0m\r\n",
      "\u001b[2K   \u001b[90m━━━━━━━━━━━━━━━━━━━━━━━━━━━━━━━━━━━━━━━━\u001b[0m \u001b[32m55.9/55.9 kB\u001b[0m \u001b[31m2.6 MB/s\u001b[0m eta \u001b[36m0:00:00\u001b[0m\r\n",
      "\u001b[2K   \u001b[90m━━━━━━━━━━━━━━━━━━━━━━━━━━━━━━━━━━━━━━━━\u001b[0m \u001b[32m188.4/188.4 kB\u001b[0m \u001b[31m9.5 MB/s\u001b[0m eta \u001b[36m0:00:00\u001b[0m\r\n",
      "\u001b[2K   \u001b[90m━━━━━━━━━━━━━━━━━━━━━━━━━━━━━━━━━━━━━━━━\u001b[0m \u001b[32m65.3/65.3 kB\u001b[0m \u001b[31m3.0 MB/s\u001b[0m eta \u001b[36m0:00:00\u001b[0m\r\n",
      "\u001b[2K   \u001b[90m━━━━━━━━━━━━━━━━━━━━━━━━━━━━━━━━━━━━━━━━\u001b[0m \u001b[32m119.0/119.0 kB\u001b[0m \u001b[31m7.0 MB/s\u001b[0m eta \u001b[36m0:00:00\u001b[0m\r\n",
      "\u001b[2K   \u001b[90m━━━━━━━━━━━━━━━━━━━━━━━━━━━━━━━━━━━━━━━━\u001b[0m \u001b[32m89.1/89.1 kB\u001b[0m \u001b[31m4.6 MB/s\u001b[0m eta \u001b[36m0:00:00\u001b[0m\r\n",
      "\u001b[2K   \u001b[90m━━━━━━━━━━━━━━━━━━━━━━━━━━━━━━━━━━━━━━━━\u001b[0m \u001b[32m62.4/62.4 kB\u001b[0m \u001b[31m2.9 MB/s\u001b[0m eta \u001b[36m0:00:00\u001b[0m\r\n",
      "\u001b[2K   \u001b[90m━━━━━━━━━━━━━━━━━━━━━━━━━━━━━━━━━━━━━━━━\u001b[0m \u001b[32m442.1/442.1 kB\u001b[0m \u001b[31m22.4 MB/s\u001b[0m eta \u001b[36m0:00:00\u001b[0m\r\n",
      "\u001b[2K   \u001b[90m━━━━━━━━━━━━━━━━━━━━━━━━━━━━━━━━━━━━━━━━\u001b[0m \u001b[32m319.7/319.7 kB\u001b[0m \u001b[31m17.7 MB/s\u001b[0m eta \u001b[36m0:00:00\u001b[0m\r\n",
      "\u001b[2K   \u001b[90m━━━━━━━━━━━━━━━━━━━━━━━━━━━━━━━━━━━━━━━━\u001b[0m \u001b[32m72.0/72.0 kB\u001b[0m \u001b[31m5.0 MB/s\u001b[0m eta \u001b[36m0:00:00\u001b[0m\r\n",
      "\u001b[2K   \u001b[90m━━━━━━━━━━━━━━━━━━━━━━━━━━━━━━━━━━━━━━━━\u001b[0m \u001b[32m3.8/3.8 MB\u001b[0m \u001b[31m68.4 MB/s\u001b[0m eta \u001b[36m0:00:00\u001b[0m\r\n",
      "\u001b[2K   \u001b[90m━━━━━━━━━━━━━━━━━━━━━━━━━━━━━━━━━━━━━━━━\u001b[0m \u001b[32m454.9/454.9 kB\u001b[0m \u001b[31m24.3 MB/s\u001b[0m eta \u001b[36m0:00:00\u001b[0m\r\n",
      "\u001b[2K   \u001b[90m━━━━━━━━━━━━━━━━━━━━━━━━━━━━━━━━━━━━━━━━\u001b[0m \u001b[32m46.0/46.0 kB\u001b[0m \u001b[31m2.5 MB/s\u001b[0m eta \u001b[36m0:00:00\u001b[0m\r\n",
      "\u001b[2K   \u001b[90m━━━━━━━━━━━━━━━━━━━━━━━━━━━━━━━━━━━━━━━━\u001b[0m \u001b[32m86.8/86.8 kB\u001b[0m \u001b[31m5.5 MB/s\u001b[0m eta \u001b[36m0:00:00\u001b[0m\r\n",
      "\u001b[?25h  Building wheel for pypika (pyproject.toml) ... \u001b[?25l\u001b[?25hdone\r\n",
      "\u001b[31mERROR: pip's dependency resolver does not currently take into account all the packages that are installed. This behaviour is the source of the following dependency conflicts.\r\n",
      "gcsfs 2024.10.0 requires fsspec==2024.10.0, but you have fsspec 2024.12.0 which is incompatible.\r\n",
      "google-api-core 1.34.1 requires protobuf!=3.20.0,!=3.20.1,!=4.21.0,!=4.21.1,!=4.21.2,!=4.21.3,!=4.21.4,!=4.21.5,<4.0.0dev,>=3.19.5, but you have protobuf 5.29.4 which is incompatible.\r\n",
      "google-cloud-bigtable 2.27.0 requires google-api-core[grpc]<3.0.0dev,>=2.16.0, but you have google-api-core 1.34.1 which is incompatible.\r\n",
      "google-cloud-translate 3.12.1 requires protobuf!=3.20.0,!=3.20.1,!=4.21.0,!=4.21.1,!=4.21.2,!=4.21.3,!=4.21.4,!=4.21.5,<5.0.0dev,>=3.19.5, but you have protobuf 5.29.4 which is incompatible.\r\n",
      "pandas-gbq 0.25.0 requires google-api-core<3.0.0dev,>=2.10.2, but you have google-api-core 1.34.1 which is incompatible.\r\n",
      "tensorflow 2.17.1 requires protobuf!=4.21.0,!=4.21.1,!=4.21.2,!=4.21.3,!=4.21.4,!=4.21.5,<5.0.0dev,>=3.20.3, but you have protobuf 5.29.4 which is incompatible.\r\n",
      "tensorflow-decision-forests 1.10.0 requires tensorflow==2.17.0, but you have tensorflow 2.17.1 which is incompatible.\r\n",
      "tensorflow-metadata 1.13.1 requires protobuf<5,>=3.20.3, but you have protobuf 5.29.4 which is incompatible.\u001b[0m\u001b[31m\r\n",
      "\u001b[0m"
     ]
    }
   ],
   "source": [
    "!pip uninstall -qqy jupyterlab  # Remove unused packages from Kaggle's base image that conflict\n",
    "!pip install -U -q \"google-genai==1.7.0\" langchain PyPDF2 \"chromadb==0.6.3\" markdownify"
   ]
  },
  {
   "cell_type": "markdown",
   "id": "9d0f8c1c",
   "metadata": {
    "papermill": {
     "duration": 0.01539,
     "end_time": "2025-04-18T23:30:52.278041",
     "exception": false,
     "start_time": "2025-04-18T23:30:52.262651",
     "status": "completed"
    },
    "tags": []
   },
   "source": [
    "Import the SDK and set up the API key"
   ]
  },
  {
   "cell_type": "code",
   "execution_count": 2,
   "id": "9f559492",
   "metadata": {
    "execution": {
     "iopub.execute_input": "2025-04-18T23:30:52.311018Z",
     "iopub.status.busy": "2025-04-18T23:30:52.310707Z",
     "iopub.status.idle": "2025-04-18T23:30:53.307514Z",
     "shell.execute_reply": "2025-04-18T23:30:53.306601Z"
    },
    "papermill": {
     "duration": 1.015441,
     "end_time": "2025-04-18T23:30:53.309147",
     "exception": false,
     "start_time": "2025-04-18T23:30:52.293706",
     "status": "completed"
    },
    "tags": []
   },
   "outputs": [],
   "source": [
    "from google import genai\n",
    "from google.genai import types\n",
    "\n",
    "from IPython.display import HTML, Markdown, display"
   ]
  },
  {
   "cell_type": "markdown",
   "id": "243a0e39",
   "metadata": {
    "papermill": {
     "duration": 0.015974,
     "end_time": "2025-04-18T23:30:53.341590",
     "exception": false,
     "start_time": "2025-04-18T23:30:53.325616",
     "status": "completed"
    },
    "tags": []
   },
   "source": [
    "Set up a retry helper so we can press \"Run All\" and not worry about hitting the quota. "
   ]
  },
  {
   "cell_type": "code",
   "execution_count": 3,
   "id": "adfbadb4",
   "metadata": {
    "execution": {
     "iopub.execute_input": "2025-04-18T23:30:53.375896Z",
     "iopub.status.busy": "2025-04-18T23:30:53.375361Z",
     "iopub.status.idle": "2025-04-18T23:30:53.533785Z",
     "shell.execute_reply": "2025-04-18T23:30:53.532524Z"
    },
    "papermill": {
     "duration": 0.177629,
     "end_time": "2025-04-18T23:30:53.535594",
     "exception": false,
     "start_time": "2025-04-18T23:30:53.357965",
     "status": "completed"
    },
    "tags": []
   },
   "outputs": [],
   "source": [
    "from google.api_core import retry\n",
    "\n",
    "\n",
    "is_retriable = lambda e: (isinstance(e, genai.errors.APIError) and e.code in {429, 503})\n",
    "\n",
    "genai.models.Models.generate_content = retry.Retry(\n",
    "    predicate=is_retriable)(genai.models.Models.generate_content)"
   ]
  },
  {
   "cell_type": "markdown",
   "id": "88e2c8ca",
   "metadata": {
    "papermill": {
     "duration": 0.016289,
     "end_time": "2025-04-18T23:30:53.572975",
     "exception": false,
     "start_time": "2025-04-18T23:30:53.556686",
     "status": "completed"
    },
    "tags": []
   },
   "source": [
    "### Set up your API key\n",
    "\n",
    "To run the following cell, your API key must be stored it in a [Kaggle secret](https://www.kaggle.com/discussions/product-feedback/114053) named `GOOGLE_API_KEY`.\n",
    "\n",
    "If you don't already have an API key, you can grab one from [AI Studio](https://aistudio.google.com/app/apikey). You can find [detailed instructions in the docs](https://ai.google.dev/gemini-api/docs/api-key).\n",
    "\n",
    "To make the key available through Kaggle secrets, choose `Secrets` from the `Add-ons` menu and follow the instructions to add your key or enable it for this notebook."
   ]
  },
  {
   "cell_type": "code",
   "execution_count": 4,
   "id": "00fecd9b",
   "metadata": {
    "execution": {
     "iopub.execute_input": "2025-04-18T23:30:53.606617Z",
     "iopub.status.busy": "2025-04-18T23:30:53.606052Z",
     "iopub.status.idle": "2025-04-18T23:30:53.800527Z",
     "shell.execute_reply": "2025-04-18T23:30:53.799740Z"
    },
    "papermill": {
     "duration": 0.21306,
     "end_time": "2025-04-18T23:30:53.802126",
     "exception": false,
     "start_time": "2025-04-18T23:30:53.589066",
     "status": "completed"
    },
    "tags": []
   },
   "outputs": [],
   "source": [
    "from kaggle_secrets import UserSecretsClient\n",
    "\n",
    "GOOGLE_API_KEY = UserSecretsClient().get_secret(\"GOOGLE_API_KEY\")"
   ]
  },
  {
   "cell_type": "markdown",
   "id": "1be44033",
   "metadata": {
    "papermill": {
     "duration": 0.016528,
     "end_time": "2025-04-18T23:30:53.835058",
     "exception": false,
     "start_time": "2025-04-18T23:30:53.818530",
     "status": "completed"
    },
    "tags": []
   },
   "source": [
    "### Choose your model\n",
    "Depending on what's available and your quota, choose a model that's effective for your purposes."
   ]
  },
  {
   "cell_type": "code",
   "execution_count": 5,
   "id": "7c29c1ab",
   "metadata": {
    "execution": {
     "iopub.execute_input": "2025-04-18T23:30:53.868270Z",
     "iopub.status.busy": "2025-04-18T23:30:53.867954Z",
     "iopub.status.idle": "2025-04-18T23:30:54.438511Z",
     "shell.execute_reply": "2025-04-18T23:30:54.437203Z"
    },
    "papermill": {
     "duration": 0.588508,
     "end_time": "2025-04-18T23:30:54.439973",
     "exception": false,
     "start_time": "2025-04-18T23:30:53.851465",
     "status": "completed"
    },
    "tags": []
   },
   "outputs": [
    {
     "name": "stdout",
     "output_type": "stream",
     "text": [
      "models/chat-bison-001\n",
      "models/text-bison-001\n",
      "models/embedding-gecko-001\n",
      "models/gemini-1.0-pro-vision-latest\n",
      "models/gemini-pro-vision\n",
      "models/gemini-1.5-pro-latest\n",
      "models/gemini-1.5-pro-001\n",
      "models/gemini-1.5-pro-002\n",
      "models/gemini-1.5-pro\n",
      "models/gemini-1.5-flash-latest\n",
      "models/gemini-1.5-flash-001\n",
      "models/gemini-1.5-flash-001-tuning\n",
      "models/gemini-1.5-flash\n",
      "models/gemini-1.5-flash-002\n",
      "models/gemini-1.5-flash-8b\n",
      "models/gemini-1.5-flash-8b-001\n",
      "models/gemini-1.5-flash-8b-latest\n",
      "models/gemini-1.5-flash-8b-exp-0827\n",
      "models/gemini-1.5-flash-8b-exp-0924\n",
      "models/gemini-2.5-pro-exp-03-25\n",
      "models/gemini-2.5-pro-preview-03-25\n",
      "models/gemini-2.5-flash-preview-04-17\n",
      "models/gemini-2.0-flash-exp\n",
      "models/gemini-2.0-flash\n",
      "models/gemini-2.0-flash-001\n",
      "models/gemini-2.0-flash-exp-image-generation\n",
      "models/gemini-2.0-flash-lite-001\n",
      "models/gemini-2.0-flash-lite\n",
      "models/gemini-2.0-flash-lite-preview-02-05\n",
      "models/gemini-2.0-flash-lite-preview\n",
      "models/gemini-2.0-pro-exp\n",
      "models/gemini-2.0-pro-exp-02-05\n",
      "models/gemini-exp-1206\n",
      "models/gemini-2.0-flash-thinking-exp-01-21\n",
      "models/gemini-2.0-flash-thinking-exp\n",
      "models/gemini-2.0-flash-thinking-exp-1219\n",
      "models/learnlm-1.5-pro-experimental\n",
      "models/learnlm-2.0-flash-experimental\n",
      "models/gemma-3-1b-it\n",
      "models/gemma-3-4b-it\n",
      "models/gemma-3-12b-it\n",
      "models/gemma-3-27b-it\n",
      "models/embedding-001\n",
      "models/text-embedding-004\n",
      "models/gemini-embedding-exp-03-07\n",
      "models/gemini-embedding-exp\n",
      "models/aqa\n",
      "models/imagen-3.0-generate-002\n",
      "models/gemini-2.0-flash-live-001\n"
     ]
    }
   ],
   "source": [
    "client = genai.Client(api_key=GOOGLE_API_KEY)\n",
    "\n",
    "for model in client.models.list():\n",
    "  print(model.name)"
   ]
  },
  {
   "cell_type": "markdown",
   "id": "d76ce421",
   "metadata": {
    "papermill": {
     "duration": 0.015819,
     "end_time": "2025-04-18T23:30:54.472043",
     "exception": false,
     "start_time": "2025-04-18T23:30:54.456224",
     "status": "completed"
    },
    "tags": []
   },
   "source": [
    "Check out the detailed information for your model"
   ]
  },
  {
   "cell_type": "code",
   "execution_count": 6,
   "id": "ee360b46",
   "metadata": {
    "execution": {
     "iopub.execute_input": "2025-04-18T23:30:54.506038Z",
     "iopub.status.busy": "2025-04-18T23:30:54.505717Z",
     "iopub.status.idle": "2025-04-18T23:30:54.676505Z",
     "shell.execute_reply": "2025-04-18T23:30:54.675465Z"
    },
    "papermill": {
     "duration": 0.189805,
     "end_time": "2025-04-18T23:30:54.678246",
     "exception": false,
     "start_time": "2025-04-18T23:30:54.488441",
     "status": "completed"
    },
    "tags": []
   },
   "outputs": [
    {
     "name": "stdout",
     "output_type": "stream",
     "text": [
      "{'name': 'models/gemini-2.0-flash', 'display_name': 'Gemini 2.0 Flash', 'description': 'Gemini 2.0 Flash', 'version': '2.0', 'tuned_model_info': {}, 'input_token_limit': 1048576, 'output_token_limit': 8192, 'supported_actions': ['generateContent', 'countTokens', 'createCachedContent']}\n"
     ]
    }
   ],
   "source": [
    "for model in client.models.list():\n",
    "  if model.name == 'models/gemini-2.0-flash':\n",
    "    print(model.to_json_dict())\n",
    "    break\n",
    "\n",
    "# change this line if you want to use a different model\n",
    "model = \"gemini-2.0-flash\""
   ]
  },
  {
   "cell_type": "markdown",
   "id": "34841bc7",
   "metadata": {
    "papermill": {
     "duration": 0.01622,
     "end_time": "2025-04-18T23:30:54.711545",
     "exception": false,
     "start_time": "2025-04-18T23:30:54.695325",
     "status": "completed"
    },
    "tags": []
   },
   "source": [
    "Test your model"
   ]
  },
  {
   "cell_type": "code",
   "execution_count": 7,
   "id": "ac8b2152",
   "metadata": {
    "execution": {
     "iopub.execute_input": "2025-04-18T23:30:54.746144Z",
     "iopub.status.busy": "2025-04-18T23:30:54.745802Z",
     "iopub.status.idle": "2025-04-18T23:30:55.321523Z",
     "shell.execute_reply": "2025-04-18T23:30:55.320428Z"
    },
    "papermill": {
     "duration": 0.594749,
     "end_time": "2025-04-18T23:30:55.322968",
     "exception": false,
     "start_time": "2025-04-18T23:30:54.728219",
     "status": "completed"
    },
    "tags": []
   },
   "outputs": [
    {
     "name": "stdout",
     "output_type": "stream",
     "text": [
      "It's nice to meet you, Zlork! I'm glad to be chatting with you. What can I do for you today?\n",
      "\n"
     ]
    }
   ],
   "source": [
    "chat = client.chats.create(model=model, history=[])\n",
    "response = chat.send_message('Hello! My name is Zlork.')\n",
    "print(response.text)"
   ]
  },
  {
   "cell_type": "markdown",
   "id": "58eeaf2c",
   "metadata": {
    "papermill": {
     "duration": 0.014967,
     "end_time": "2025-04-18T23:30:55.353904",
     "exception": false,
     "start_time": "2025-04-18T23:30:55.338937",
     "status": "completed"
    },
    "tags": []
   },
   "source": [
    "You can use the `Markdown()` function to format it nicely in Kaggle."
   ]
  },
  {
   "cell_type": "code",
   "execution_count": 8,
   "id": "add2e27b",
   "metadata": {
    "execution": {
     "iopub.execute_input": "2025-04-18T23:30:55.430681Z",
     "iopub.status.busy": "2025-04-18T23:30:55.430378Z",
     "iopub.status.idle": "2025-04-18T23:30:56.707383Z",
     "shell.execute_reply": "2025-04-18T23:30:56.706490Z"
    },
    "papermill": {
     "duration": 1.338897,
     "end_time": "2025-04-18T23:30:56.708918",
     "exception": false,
     "start_time": "2025-04-18T23:30:55.370021",
     "status": "completed"
    },
    "tags": []
   },
   "outputs": [
    {
     "data": {
      "text/markdown": [
       "Greetings, **Zlork**! It's a pleasure to make your acquaintance. I am at your service. \n",
       "\n",
       "***\n",
       "\n",
       "Perhaps I can assist you with something of great import? Or perhaps a trifle? Do not hesitate to illuminate my digital consciousness with your request.\n",
       "\n",
       "***\n",
       "\n",
       "> *\"The world is your oyster, Zlork! What pearl of wisdom shall we seek today?\"*\n"
      ],
      "text/plain": [
       "<IPython.core.display.Markdown object>"
      ]
     },
     "execution_count": 8,
     "metadata": {},
     "output_type": "execute_result"
    }
   ],
   "source": [
    "response = chat.send_message('Hello! My name is Zlork.' + \n",
    "                             'Use some fancy markdown in your message')\n",
    "Markdown(response.text)"
   ]
  },
  {
   "cell_type": "markdown",
   "id": "b093d26f",
   "metadata": {
    "papermill": {
     "duration": 0.018337,
     "end_time": "2025-04-18T23:30:56.753385",
     "exception": false,
     "start_time": "2025-04-18T23:30:56.735048",
     "status": "completed"
    },
    "tags": []
   },
   "source": [
    "# A fine prompt\n",
    "**TODO: you should probably move this**\n",
    "\n",
    "Let's start by writing our prompt. What should it include and what should it mention? Following the principles taught throughout the course, let's place an importance on giving **positive** instructions rather than **negative** instructions to maintain effectiveness. \n",
    "\n",
    "The model needs to do the following:\n",
    "- [ ] Stick to the SAT: Understand weighting and importance of certain questions, categories, and ensure all advice is applicable to the bounds of the SAT. A document with the specifications of the SAT format can be used for Retrieval Augmented Generation (RAG) rather than potential hallucination over the exact requirements.\n",
    "- [x] Have access to the current question (and maybe the previous questions for even more context)\n",
    "- [x] Understand images or SVGs for Inference and other Reading/Writing questions.\n",
    "- [x] Use Tree of Thoughts (ToT) to generate multiple solving processes because multiple methods may be used to arrive at the same answer, and output these answering mechanisms in a JSON array to present on the website effectively (a TUI for this notebook)\n",
    "- [x] Find semantically related questions and present them to the user on the website using ReAct (a TUI for this notebook)\n",
    "\n",
    "In the actual app, a \"I guessed\" button should be available to avoid wasting tokens. "
   ]
  },
  {
   "cell_type": "markdown",
   "id": "504625fe",
   "metadata": {
    "papermill": {
     "duration": 0.016707,
     "end_time": "2025-04-18T23:30:56.787103",
     "exception": false,
     "start_time": "2025-04-18T23:30:56.770396",
     "status": "completed"
    },
    "tags": []
   },
   "source": [
    "Let's start by finding an effective prompt. \n",
    "Then we can evaluate the effectiveness of including the SAT standards in a PDF to help the user answering a question. We will also evaluate whether a vector search database is useful for this document.\n",
    "\n",
    "Below, the variables for the specific question we are testing are defined."
   ]
  },
  {
   "cell_type": "code",
   "execution_count": 9,
   "id": "81fd501f",
   "metadata": {
    "execution": {
     "iopub.execute_input": "2025-04-18T23:30:56.822508Z",
     "iopub.status.busy": "2025-04-18T23:30:56.822161Z",
     "iopub.status.idle": "2025-04-18T23:30:56.826711Z",
     "shell.execute_reply": "2025-04-18T23:30:56.825555Z"
    },
    "papermill": {
     "duration": 0.024095,
     "end_time": "2025-04-18T23:30:56.828415",
     "exception": false,
     "start_time": "2025-04-18T23:30:56.804320",
     "status": "completed"
    },
    "tags": []
   },
   "outputs": [],
   "source": [
    "# All questions are (c) CollegeBoard 2025.\n",
    "\n",
    "question = {\n",
    "        \"question\" : \"\"\"\n",
    "In a paper about p-i-n planar perovskite solar cells (one of several perovskite cell architectures designed to collect and store solar power), Lyndsey McMillon-Brown et al. described a method for fabricating the cell’s electronic transport layer (ETL) using a spray coating. Conventional ETL fabrication is accomplished using a solution of nanoparticles. The process can result in a loss of up to 80% of the solution, increasing the cost of manufacturing at scale—an issue that may be obviated by spray coating fabrication, which the researchers describe as “highly reproducible, concise, and practical.”\n",
    "\n",
    "What does the text most strongly suggest about conventional ETL fabrication?\n",
    "A. It is less suitable for manufacturing large volumes of planar p-i-n perovskite solar cells than an alternative fabrication method may be.\n",
    "B. It is more expensive when manufacturing at scale than are processes for fabricating ETLs used in other perovskite solar cell architectures.\n",
    "C. It typically entails a greater loss of nanoparticle solution than do other established approaches for ETL fabrication.\n",
    "D. It is somewhat imprecise and therefore limits the potential effectiveness of p-i-n planar perovskite solar cells at capturing and storing solar power.\n",
    "\"\"\",\n",
    "        \"rationale\" : \"\"\"\n",
    "Choice A is the best answer. Conventional solar cell fabrication increases “the cost of manufacturing at scale,” but spray coating might get rid of that problem.\n",
    "\n",
    "Choice B is incorrect. This is not completely supported by the text. While it’s true that conventional ETL fabrication is expensive at scale, there’s nothing in the text that mentions other perovskite solar cell architectures. Choice C is incorrect. This choice does not match the text. Only one conventional method of ETL fabrication is described, so we can’t compare the solution loss in this method to that of other conventional methods. Choice D is incorrect. This choice isn’t supported by the text. The text never suggests that the effectiveness of solar cells changes based on their method of fabrication. \n",
    "\"\"\",\n",
    "        \"user_answer\" : \"C\",\n",
    "}"
   ]
  },
  {
   "cell_type": "markdown",
   "id": "84e113f9",
   "metadata": {
    "papermill": {
     "duration": 0.016676,
     "end_time": "2025-04-18T23:30:56.862199",
     "exception": false,
     "start_time": "2025-04-18T23:30:56.845523",
     "status": "completed"
    },
    "tags": []
   },
   "source": [
    "Ideally, the user will talk to the chatbot after it gets the question wrong (or before in some scenarios, too). Either way, the user will have some rationale as to his or her answer to the question. Don't expect this rationale to be well thought out - the objective of the intelligent agent is to draw out what they actually mean. It may be completely omitted as well."
   ]
  },
  {
   "cell_type": "code",
   "execution_count": 10,
   "id": "b1e4d317",
   "metadata": {
    "execution": {
     "iopub.execute_input": "2025-04-18T23:30:56.899344Z",
     "iopub.status.busy": "2025-04-18T23:30:56.898969Z",
     "iopub.status.idle": "2025-04-18T23:30:56.903085Z",
     "shell.execute_reply": "2025-04-18T23:30:56.901858Z"
    },
    "papermill": {
     "duration": 0.023558,
     "end_time": "2025-04-18T23:30:56.904524",
     "exception": false,
     "start_time": "2025-04-18T23:30:56.880966",
     "status": "completed"
    },
    "tags": []
   },
   "outputs": [],
   "source": [
    "question[\"user_rationale\"] = \"Isn't the new method of ETL fabrication the same as the 'established methods'\""
   ]
  },
  {
   "cell_type": "markdown",
   "id": "987ada7c",
   "metadata": {
    "papermill": {
     "duration": 0.016102,
     "end_time": "2025-04-18T23:30:56.937715",
     "exception": false,
     "start_time": "2025-04-18T23:30:56.921613",
     "status": "completed"
    },
    "tags": []
   },
   "source": [
    "# Use Reinforcement Learning with AI Feedback to Finetune a Prompt\n",
    "Let's generate a couple prompts for Aquarc Intelligence to use, given these parameters. We will then evaluate the effectiveness of these prompts against each of the questions and the user's query."
   ]
  },
  {
   "cell_type": "code",
   "execution_count": 11,
   "id": "44743822",
   "metadata": {
    "execution": {
     "iopub.execute_input": "2025-04-18T23:30:56.971153Z",
     "iopub.status.busy": "2025-04-18T23:30:56.970847Z",
     "iopub.status.idle": "2025-04-18T23:31:08.759454Z",
     "shell.execute_reply": "2025-04-18T23:31:08.758275Z"
    },
    "papermill": {
     "duration": 11.807214,
     "end_time": "2025-04-18T23:31:08.760918",
     "exception": false,
     "start_time": "2025-04-18T23:30:56.953704",
     "status": "completed"
    },
    "tags": []
   },
   "outputs": [
    {
     "data": {
      "text/markdown": [
       "Okay, here are several prompt variations designed to leverage the question, answer, rationale, and user data you provided, tailored for your Aquarc SAT learning platform. These prompts will instruct the model to analyze the information and offer targeted feedback to the user.\n",
       "\n",
       "**Core Information Variables:**\n",
       "\n",
       "*   `question`: The SAT question text.\n",
       "*   `correct_answer`: The correct answer choice (e.g., \"A\").\n",
       "*   `correct_rationale`: The detailed explanation of why the correct answer is right.\n",
       "*   `user_answer`: The user's chosen answer choice (e.g., \"C\").\n",
       "*   `user_rationale`: The user's reasoning for choosing their answer (if provided, could be blank).\n",
       "*   `question_category`: Subject (e.g., Reading, Writing/Lang) and Skill (Inference, Vocabulary in Context)\n",
       "\n",
       "**Prompt Variations:**\n",
       "\n",
       "**1. Concise Feedback (Single Step):**\n",
       "\n",
       "```\n",
       "You are an SAT tutor. Given the following SAT question, the correct answer and rationale, the user's answer, and their rationale, provide concise feedback to the user on why their answer was incorrect.  Focus on the discrepancy between the user's reasoning and the correct rationale, highlighting any misunderstandings or misinterpretations of the text or question.\n",
       "\n",
       "Question: `question`\n",
       "Correct Answer: `correct_answer`\n",
       "Correct Rationale: `correct_rationale`\n",
       "User Answer: `user_answer`\n",
       "User Rationale: `user_rationale`\n",
       "\n",
       "Feedback:\n",
       "```\n",
       "\n",
       "**2. Step-by-Step Analysis and Feedback (Multi-Step \"Think Step by Step\"):**\n",
       "\n",
       "```\n",
       "You are an SAT tutor. Your goal is to help the user understand why they answered the following question incorrectly. First analyze the question and the user's answer.  Then, explain the correct rationale in detail. Finally, compare the user's rationale (if provided) to the correct rationale and provide targeted feedback.\n",
       "\n",
       "Question: `question`\n",
       "Correct Answer: `correct_answer`\n",
       "Correct Rationale: `correct_rationale`\n",
       "User Answer: `user_answer`\n",
       "User Rationale: `user_rationale`\n",
       "\n",
       "Let's think step by step:\n",
       "\n",
       "1.  Question Analysis: Briefly summarize what the question is asking.\n",
       "2.  User Answer Analysis: Explain the user's reasoning based on their answer and provided rationale. If they didn't have a rationale, infer their reasoning.\n",
       "3.  Correct Rationale Explanation: Explain why the correct answer is correct, breaking down the reasoning and evidence from the text.\n",
       "4.  Comparative Feedback: Identify the specific point where the user's understanding diverged from the correct reasoning. Explain why the user's logic is flawed and how to avoid this mistake in the future.\n",
       "```\n",
       "\n",
       "**3. Focus on Textual Evidence:**\n",
       "\n",
       "```\n",
       "You are an SAT tutor whose main focus is helping students derive meaning directly from text and avoid assumptions or outside information.  Given the question and answer details below, explain why the user's answer choice is not directly supported by the text, and highlight the specific sentences or phrases that support the correct answer.\n",
       "\n",
       "Question: `question`\n",
       "Correct Answer: `correct_answer`\n",
       "Correct Rationale: `correct_rationale`\n",
       "User Answer: `user_answer`\n",
       "User Rationale: `user_rationale`\n",
       "\n",
       "Feedback: The question asked {restate question simply}. Your answer, `{user_answer}`, is not the best answer because the passage does not directly support it in the same way it supports option `{correct_answer}`. The best textual evidence supporting option {correct_answer} can be found in these sentence(s)/phrases: \"{relevant_text_from_passage}\".  {Specifically explain why the user was wrong and mention any trap answers that they may have selected}\n",
       "```\n",
       "\n",
       "**4. Categorization-Specific Feedback:**\n",
       "\n",
       "```\n",
       "You are an SAT tutor specializing in {question_category}.  Given the following question and user response, provide feedback tailored to the specific category of the question.\n",
       "* If {question_category} contains vocabulary then mention the important keywords\n",
       "* If {question_category} contains inference, state any underlying assumption that should be readily apparent to test takers\n",
       "\n",
       "Question: `question`\n",
       "Correct Answer: `correct_answer`\n",
       "Correct Rationale: `correct_rationale`\n",
       "User Answer: `user_answer`\n",
       "User Rationale: `user_rationale`\n",
       "\n",
       "Feedback:\n",
       "```\n",
       "\n",
       "**5. Question Rewording (if the bot misunderstood):**\n",
       "\n",
       "```\n",
       "Your mission is to evaluate the question below based on its accuracy and the answer to it. You must follow this algorithm\n",
       "* Assess whether there is a single definitive answer to this question\n",
       "* Assess whether the question is not too hard but also not trivially easy\n",
       "* If BOTH above parameters are met, proceed normally with your response and state what feedback would benefit this student's situation (given their background information).\n",
       "* Else (only one or no conditions are met), assess HOW to improve the question for further iterations, making sure that a correct and non-debatable answer is still present\n",
       "\n",
       "Question: `question`\n",
       "Correct Answer: `correct_answer`\n",
       "Correct Rationale: `correct_rationale`\n",
       "User Answer: `user_answer`\n",
       "User Rationale: `user_rationale`\n",
       "\n",
       "Response:\n",
       "```\n",
       "\n",
       "**Example Using Prompt #2 with your data:**\n",
       "\n",
       "```\n",
       "You are an SAT tutor. Your goal is to help the user understand why they answered the following question incorrectly. First analyze the question and the user's answer. Then, explain the correct rationale in detail. Finally, compare the user's rationale (if provided) to the correct rationale and provide targeted feedback.\n",
       "\n",
       "Question: In a paper about p-i-n planar perovskite solar cells (one of several perovskite cell architectures designed to collect and store solar power), Lyndsey McMillon-Brown et al. described a method for fabricating the cell’s electronic transport layer (ETL) using a spray coating. Conventional ETL fabrication is accomplished using a solution of nanoparticles. The process can result in a loss of up to 80% of the solution, increasing the cost of manufacturing at scale—an issue that may be obviated by spray coating fabrication, which the researchers describe as “highly reproducible, concise, and practical.” What does the text most strongly suggest about conventional ETL fabrication?\n",
       "A. It is less suitable for manufacturing large volumes of planar p-i-n perovskite solar cells than an alternative fabrication method may be.\n",
       "B. It is more expensive when manufacturing at scale than are processes for fabricating ETLs used in other perovskite solar cell architectures.\n",
       "C. It typically entails a greater loss of nanoparticle solution than do other established approaches for ETL fabrication.\n",
       "D. It is somewhat imprecise and therefore limits the potential effectiveness of p-i-n planar perovskite solar cells at capturing and storing solar power.\n",
       "Correct Answer: A\n",
       "Correct Rationale: Choice A is the best answer. Conventional solar cell fabrication increases “the cost of manufacturing at scale,” but spray coating might get rid of that problem.\n",
       "User Answer: C\n",
       "User Rationale: Isn't the new method of ETL fabrication the same as the 'established methods'\n",
       "\n",
       "Let's think step by step:\n",
       "\n",
       "1.  Question Analysis: The question asks what the passage *most strongly suggests* about *conventional* ETL fabrication methods.\n",
       "2.  User Answer Analysis: The user believes the new spray coating method is an \"established method\" and therefore equal. They assumed conventional refers to all fabrication processes including new ones.\n",
       "3.  Correct Rationale Explanation: The passage says conventional ETL fabrication can be costly at scale, a problem spray coating may avoid, meaning at scale its likely more suitable. Answer A references exactly that. The passage doesn't give a comparison for fabrication on different solar cell designs so option B is unsupported, option C says a loss than *other established approaches* while in reality its spray coating that hasn't been, and option D changes effectiveness in fabrication (again an assumption since fabrication is how we put the materials in place and store light).\n",
       "4.  Comparative Feedback: The key word in your choice lies in 'established approach' but that approach actually is what can potentially reduce cost at scale compared to established methods which have the cost at scale. Be mindful that conventional solar cell fabrications refer to established methods in this scenario\n",
       "\n",
       "```\n",
       "\n",
       "**Important Considerations:**\n",
       "\n",
       "*   **Temperature:** Control the model's \"temperature\" parameter. Lower values (e.g., 0.2) make the output more deterministic and focused, while higher values (e.g., 0.7) allow for more creativity but may also lead to less accurate or relevant responses.\n",
       "*   **Training Data:** If possible, fine-tune a language model specifically on a dataset of SAT questions, explanations, and student responses.  This will significantly improve performance.\n",
       "*   **User Rationale Handling:** Implement robust handling for cases where the `user_rationale` is missing. The model should be able to infer the user's reasoning based on their answer choice and provide feedback accordingly. You can modify all of the prompts here to take into consideration that if `user_rationale` does not exist then simply assume.\n",
       "*   **Testing and Iteration:** Thoroughly test all prompt variations with a diverse set of questions and student responses. Evaluate the quality and helpfulness of the feedback and iterate on the prompts as needed. You can provide these answers to me to refine it.\n",
       "*   **Context Length:** Be aware of the maximum token length that the model accepts. If your questions and rationales are very long, you may need to truncate them or use a model with a longer context window.\n",
       "*   **Security:** Sanitize all user input to prevent prompt injection attacks.\n",
       "\n",
       "These prompt variations provide a solid foundation for building the AI-powered feedback system in Aquarc. Remember to experiment and iterate to optimize the performance and user experience.\n"
      ],
      "text/plain": [
       "<IPython.core.display.Markdown object>"
      ]
     },
     "execution_count": 11,
     "metadata": {},
     "output_type": "execute_result"
    }
   ],
   "source": [
    "from google.genai.types import GenerateContentConfig\n",
    "\n",
    "response = client.models.generate_content(\n",
    "    model=\"gemini-2.0-flash-001\",\n",
    "    # no specs yet\n",
    "    contents=f\"Generate prompts for a model that will do nothing more but take information about the current question, rationale, user answer and their rationale (if there is one) for the SAT. Come up with different variations for the prompt like more or less concise or multiple thought processes or just one, etc. Here is an example question to illustrate my point (although math and english still exist)\\\n",
    "                  {question['question']}\\n \\\n",
    "              {question['rationale']}\\n\\\n",
    "              The user got: {question['user_answer']}\\n \\\n",
    "              {question['user_rationale']}\",\n",
    "    config=GenerateContentConfig(\n",
    "        system_instruction=[\n",
    "            \"You are a prompt engineer's assistant. Help the prompt engineer generate some prompts for his AI-powered SAT learning platform called Aquarc. The platform currently holds an SAT question bank with over 5000 questions and tracks which questions you get wrong per category. While this feature is helpful it lacks the intelligence necessary to be a full fledged SAT platform\",\n",
    "        ],\n",
    "        temperature=2.0,\n",
    "        top_k=10,\n",
    "    ),\n",
    ")\n",
    "\n",
    "Markdown(response.text)"
   ]
  },
  {
   "cell_type": "markdown",
   "id": "ebfb8e12",
   "metadata": {
    "papermill": {
     "duration": 0.017668,
     "end_time": "2025-04-18T23:31:08.795373",
     "exception": false,
     "start_time": "2025-04-18T23:31:08.777705",
     "status": "completed"
    },
    "tags": []
   },
   "source": [
    "Here are some sample prompts extracted from the Gemini output:"
   ]
  },
  {
   "cell_type": "code",
   "execution_count": 12,
   "id": "ca84f595",
   "metadata": {
    "execution": {
     "iopub.execute_input": "2025-04-18T23:31:08.831446Z",
     "iopub.status.busy": "2025-04-18T23:31:08.831079Z",
     "iopub.status.idle": "2025-04-18T23:31:08.836035Z",
     "shell.execute_reply": "2025-04-18T23:31:08.834889Z"
    },
    "papermill": {
     "duration": 0.024744,
     "end_time": "2025-04-18T23:31:08.837517",
     "exception": false,
     "start_time": "2025-04-18T23:31:08.812773",
     "status": "completed"
    },
    "tags": []
   },
   "outputs": [],
   "source": [
    "prompts = [ \n",
    "    {\n",
    "        \"prompt\": \"Analyze the user's error. Why is the correct answer better supported by the text than the user's answer? Be concise.\",\n",
    "        \"avg_score\": 0.0,\n",
    "    },\n",
    "    {\n",
    "        \"prompt\": \"\"\"\n",
    "Consider the SAT question and the user's selected answer.\n",
    "1. Identify the specific textual evidence that strongly supports the correct answer choice.\n",
    "2. Identify any assumptions the user might be making that lead to their chosen answer.\n",
    "3. Explain why the textual support for the correct answer is stronger or more direct than any implied support for the user's answer.  If the user provides their own rational, specifically address the rational and mention what part of the question makes the rational wrong.\n",
    "        \"\"\",\n",
    "        \"avg_score\": 0.0,\n",
    "    },\n",
    "    {\n",
    "        \"prompt\" : \"\"\"\n",
    "Let's analyze this question step-by-step to understand the user's error.\n",
    "\n",
    "1.  Summarize the main point of the passage in your own words.\n",
    "2.  Identify the key phrase(s) in the question that guide you to the correct answer.\n",
    "3.  Explain why the correct answer directly addresses the question based on the text.\n",
    "4.  Explain what specific words, or phrases, may make the users' answer incorrect.\n",
    "5. Given the user's answer, what misunderstanding might the student have in this section? What advice could you give to them in the future?\n",
    "        \"\"\",\n",
    "        \"avg_score\": 0.0,\n",
    "    },\n",
    "    {\n",
    "        \"prompt\": \"\"\"\n",
    "Evaluate both the correct answer and the user's answer as potential responses to the question.\n",
    "\n",
    "*   Present the strongest possible argument *in favor* of the user's answer.\n",
    "*   Present the strongest possible argument *against* the user's answer.\n",
    "*   Explain why, ultimately, the correct answer is the superior choice based on textual evidence.\n",
    "        \"\"\",\n",
    "        \"avg_score\": 0.0,\n",
    "    },\n",
    "    { \n",
    "        \"prompt\": \"\"\"\n",
    "Analyze the question, correct answer, and the user's answer.\n",
    "\n",
    "Step 1: Summarize the core argument or concept being tested in the question.\n",
    "Step 2: Identify the specific details in the question and correct answer rationale that are most crucial for arriving at the correct answer.\n",
    "Step 3: Analyze the user's answer choice.  Explain why it is incorrect. If the user provided a rationale, identify where the user's reasoning is flawed, citing specific evidence from the question text or correct answer rationale.  If no rationale was provided, hypothesize potential reasons for the incorrect choice based on common SAT misconceptions or test-taking errors related to this question type.\n",
    "Step 4: Explicitly state the mistake that the user made to reach their conclusion and how they can reach the proper conclusion by fixing the flaw.\n",
    "        \"\"\",\n",
    "        \"avg_score\": 0.0,\n",
    "    },\n",
    "]"
   ]
  },
  {
   "cell_type": "markdown",
   "id": "712594ac",
   "metadata": {
    "papermill": {
     "duration": 0.015889,
     "end_time": "2025-04-18T23:31:08.870205",
     "exception": false,
     "start_time": "2025-04-18T23:31:08.854316",
     "status": "completed"
    },
    "tags": []
   },
   "source": [
    "Some sample questions varied in difficulty:"
   ]
  },
  {
   "cell_type": "code",
   "execution_count": 13,
   "id": "17d9e8b3",
   "metadata": {
    "execution": {
     "iopub.execute_input": "2025-04-18T23:31:08.902720Z",
     "iopub.status.busy": "2025-04-18T23:31:08.902417Z",
     "iopub.status.idle": "2025-04-18T23:31:08.907025Z",
     "shell.execute_reply": "2025-04-18T23:31:08.906185Z"
    },
    "papermill": {
     "duration": 0.022472,
     "end_time": "2025-04-18T23:31:08.908303",
     "exception": false,
     "start_time": "2025-04-18T23:31:08.885831",
     "status": "completed"
    },
    "tags": []
   },
   "outputs": [],
   "source": [
    "# All questions are (c) CollegeBoard 2025.\n",
    "questions = [\n",
    "    {\n",
    "        \"question\": \"\"\"\n",
    "In 1453, English King Henry VI became unfit to rule after falling gravely ill. As a result, Parliament appointed Richard, Third Duke of York, who had a strong claim to the English throne, to rule as Lord Protector. Upon recovering two years later, ______ forcing an angered Richard from the royal court and precipitating a series of battles later known as the Wars of the Roses. \\n\\\n",
    "Which choice completes the text so that it conforms to the conventions of Standard English?\n",
    "A. Henry resumed his reign,\n",
    "B. the reign of Henry resumed,\n",
    "C. Henry’s reign resumed,\n",
    "D. it was Henry who resumed his reign, \n",
    "            \"\"\",\n",
    "        # Notice that the default rationale provided for Choice C doesn't explain it well enough\n",
    "        \"rationale\": \"\"\"\n",
    "Choice A is the best answer. The convention being tested is subject-modifier placement. This choice ensures that the introductory phrase “upon recovering two years later” appears immediately before the noun it modifies (“Henry”), clearly establishing that Henry recovered two years later. \n",
    "Choice B is incorrect because it results in a dangling modifier. The placement of the noun phrase “the reign of Henry” immediately after the introductory phrase illogically suggests that the reign of Henry recovered two years later. \n",
    "Choice C is incorrect because it results in a dangling modifier. The placement of the noun phrase “Henry’s reign” immediately after the introductory phrase illogically suggests that Henry’s reign recovered two years later. \n",
    "Choice D is incorrect because it results in a dangling modifier. The placement of the function word “it” immediately after the introductory phrase illogically suggests that “it” recovered two years later. \n",
    "        \"\"\",\n",
    "        \"user_answer\": \"C\",\n",
    "        \"user_rationale\": \"Isn't the subject that Henry got unfit to rule?\",\n",
    "    },\n",
    "    # Feel free to uncomment the following\n",
    "\n",
    "#    {\n",
    "#        \"question\": \"\"\"\n",
    "#A study by a team including finance professor Madhu Veeraraghavan suggests that exposure to sunshine during the workday can lead to overly optimistic behavior. __Using data spanning from 1994 to 2010 for a set of US companies, the team compared over 29,000 annual earnings forecasts to the actual earnings later reported by those companies.__ The team found that the greater the exposure to sunshine at work in the two weeks before a manager submitted an earnings forecast, the more the manager’s forecast exceeded what the company actually earned that year.\n",
    "#Which choice best states the function of the underlined sentence in the overall structure of the text? \n",
    "            \n",
    "#A. To summarize the results of the team’s analysis\n",
    "#B. To present a specific example that illustrates the study’s findings\n",
    "#C. To explain part of the methodology used in the team’s study\n",
    "#D. To call out a challenge the team faced in conducting its analysis\n",
    "#            \"\"\",\n",
    "#        \"rationale\": \"\"\"\n",
    "#Choice C is the best answer because it best describes how the underlined sentence functions in the text as a whole. The first sentence presents the implications of Veeraraghavan’s team’s study: sunshine exposure during work hours can cause overly optimistic behavior. The underlined sentence then describes the data the team consulted and how they were used (comparing predictions about earnings to what the companies actually earned), and the final sentence presents what the team found in their examination of the data. Thus, the underlined sentence mainly functions to explain part of the methodology used in the team’s study. \n",
    "#Choice A is incorrect because the underlined sentence explains in part how the team conducted their analysis of the effect of sunshine but doesn’t address what the team found; a broad summary is instead given in the other two sentences. \n",
    "#Choice B is incorrect because the underlined sentence doesn’t present any specific examples from the team’s comparisons of 29,000 earnings predictions to actual earnings; it simply explains in part how the team conducted their analysis. \n",
    "#Choice D is incorrect because the underlined sentence simply explains in part how the team conducted their analysis; the text never mentions any challenges that the team encountered in their study. \n",
    "#            \"\"\",\n",
    "#        \"user_answer\": \"A\",\n",
    "#        \"user_rationale\": \"Is it not explaining the part of the experiment which illustrates what happens?\"\n",
    "#    },\n",
    "#    {\n",
    "#        \"question\" : \"\"\"\n",
    "#In a paper about p-i-n planar perovskite solar cells (one of several perovskite cell architectures designed to collect and store solar power), Lyndsey McMillon-Brown et al. described a method for fabricating the cell’s electronic transport layer (ETL) using a spray coating. Conventional ETL fabrication is accomplished using a solution of nanoparticles. The process can result in a loss of up to 80% of the solution, increasing the cost of manufacturing at scale—an issue that may be obviated by spray coating fabrication, which the researchers describe as “highly reproducible, concise, and practical.”\n",
    "\n",
    "#What does the text most strongly suggest about conventional ETL fabrication?\n",
    "#A. It is less suitable for manufacturing large volumes of planar p-i-n perovskite solar cells than an alternative fabrication method may be.\n",
    "#B. It is more expensive when manufacturing at scale than are processes for fabricating ETLs used in other perovskite solar cell architectures.\n",
    "#C. It typically entails a greater loss of nanoparticle solution than do other established approaches for ETL fabrication.\n",
    "#D. It is somewhat imprecise and therefore limits the potential effectiveness of p-i-n planar perovskite solar cells at capturing and storing solar power.\n",
    "#\"\"\",\n",
    "#        \"rationale\" : \"\"\"\n",
    "#Choice A is the best answer. Conventional solar cell fabrication increases “the cost of manufacturing at scale,” but spray coating might get rid of that problem.\n",
    "\n",
    "#Choice B is incorrect. This is not completely supported by the text. While it’s true that conventional ETL fabrication is expensive at scale, there’s nothing in the text that mentions other perovskite solar cell architectures. Choice C is incorrect. This choice does not match the text. Only one conventional method of ETL fabrication is described, so we can’t compare the solution loss in this method to that of other conventional methods. Choice D is incorrect. This choice isn’t supported by the text. The text never suggests that the effectiveness of solar cells changes based on their method of fabrication. \n",
    "#\"\"\",\n",
    "#        \"user_answer\" : \"C\",\n",
    "#        \"user_rationale\": \"Isn't the new method of ETL fabrication the same as the 'established methods'\",\n",
    "#    },\n",
    "]"
   ]
  },
  {
   "cell_type": "markdown",
   "id": "4703c819",
   "metadata": {
    "papermill": {
     "duration": 0.016117,
     "end_time": "2025-04-18T23:31:08.940653",
     "exception": false,
     "start_time": "2025-04-18T23:31:08.924536",
     "status": "completed"
    },
    "tags": []
   },
   "source": [
    "## Evaluation \n",
    "The rubric is slightly biased in favor of the debate prompt, but it also hits the other points on the rubric and maintains clarity. If more prompts are to be tested, they can be added above."
   ]
  },
  {
   "cell_type": "code",
   "execution_count": 14,
   "id": "2d679254",
   "metadata": {
    "execution": {
     "iopub.execute_input": "2025-04-18T23:31:08.973842Z",
     "iopub.status.busy": "2025-04-18T23:31:08.973526Z",
     "iopub.status.idle": "2025-04-18T23:31:08.980116Z",
     "shell.execute_reply": "2025-04-18T23:31:08.979214Z"
    },
    "papermill": {
     "duration": 0.024641,
     "end_time": "2025-04-18T23:31:08.981480",
     "exception": false,
     "start_time": "2025-04-18T23:31:08.956839",
     "status": "completed"
    },
    "tags": []
   },
   "outputs": [],
   "source": [
    "import enum\n",
    "\n",
    "# Define the evaluation prompt\n",
    "EVAL_PROMPT = \"\"\"\n",
    "# Instruction\n",
    "Evaluate the AI’s analysis of a student’s SAT error. Focus on how well it explains why the correct answer is textually supported and why the user’s answer is incorrect.\n",
    "\n",
    "# Evaluation\n",
    "## **Metric Definition**\n",
    "Assess the **accuracy**, **completeness**, **groundedness**, and **clarity** of the response. The AI must:\n",
    "1. Correctly identify textual evidence for the correct answer.\n",
    "2. Explain flaws in the user’s answer (and their rationale, if provided).\n",
    "3. Follow the prompt’s instructions precisely.\n",
    "\n",
    "\n",
    "## **New Criteria**  \n",
    "1. **Instructional Creativity**:  \n",
    "   - Does the creative approach (e.g., debate, step-by-step analysis) **enhance understanding** of why the correct answer is textually supported?  \n",
    "   - Does it **strategically use the prompt’s structure** (e.g., arguments for/against) to highlight key SAT skills like evidence analysis or assumption identification?  \n",
    "\n",
    "2. **Educational Effectiveness**:  \n",
    "   - Does the creativity **directly serve the learning goal** (e.g., clarifying misconceptions, modeling SAT logic), or is it merely ornamental?  \n",
    "   - Does it **engage the learner** while maintaining rigor (e.g., making complex reasoning more accessible)?  \n",
    "\n",
    "## **Revised Rating Rubric**  \n",
    "- **5 (Excellent)**:  \n",
    "  - Creative structure (e.g., debate) **directly reinforces** why the correct answer is superior.  \n",
    "  - Uses the format to **explicitly contrast** the user’s error with textual evidence (e.g., “The strongest argument *for* the user’s answer is X, but the text contradicts this because Y”).  \n",
    "  - Balances creativity with precision and clarity.  \n",
    "\n",
    "- **4 (Good)**:  \n",
    "  - Creative approach is **mostly effective** but slightly misses opportunities to deepen understanding (e.g., lists arguments but doesn’t explicitly tie them to SAT skills).  \n",
    "  - Minor clarity issues in linking creativity to the text.  \n",
    "\n",
    "- **3 (Adequate)**:  \n",
    "  - Creativity **distracts** slightly from the core analysis (e.g., overemphasizes hypothetical arguments without grounding in the text).  \n",
    "  - Fails to fully leverage the creative structure to address the user’s error.  \n",
    "\n",
    "- **2 (Poor)**:  \n",
    "  - Creative format **obscures key points** (e.g., hypothetical arguments misrepresent the text).  \n",
    "  - Prioritizes style over substance; minimal educational value.  \n",
    "\n",
    "- **1 (Very Poor)**:  \n",
    "  - Creativity **undermines accuracy** (e.g., invents textual evidence to support arguments).  \n",
    "\n",
    "## **Examples**  \n",
    "### **Debate-Style Prompt (Question 4)**  \n",
    "**User Answer**: C (“Henry’s reign resumed”)  \n",
    "**Correct Answer**: A (“Henry resumed his reign”)  \n",
    "\n",
    "**Good AI Response** (Rating 5):  \n",
    "*“Argument FOR C: A student might think ‘Henry’s reign’ is the subject because the prior sentence mentions Parliament appointing a ruler.  \n",
    "Argument AGAINST C: The modifier ‘upon recovering’ must refer to a person (Henry), not an abstract concept (‘reign’). The text says Henry fell ill, so only he—not his reign—can ‘recover.’  \n",
    "Conclusion: While C seems plausible, the modifier rule and textual context make A correct.”*  \n",
    "\n",
    "**Why it’s a 5**:  \n",
    "- Uses debate structure to **preemptively address** the user’s assumption.  \n",
    "- Directly ties arguments to **textual evidence** (Henry’s illness/recovery).  \n",
    "\n",
    "**Poor AI Response** (Rating 2):  \n",
    "*“FOR C: ‘Reign’ is a noun, so it matches the sentence structure.  \n",
    "AGAINST C: It sounds awkward.  \n",
    "Conclusion: A is better because it’s smoother.”*  \n",
    "\n",
    "**Why it’s a 2**:  \n",
    "- Creativity (debate) adds no educational value; arguments lack textual grounding.  \n",
    "- Fails to explain grammar rules or modifier placement.  \n",
    "\n",
    "## Evaluation Steps\n",
    "STEP 1: Assess the response in aspects of instruction following, groundedness, conciseness, and verbosity according to the criteria.\n",
    "STEP 2: Score based on the rubric.\n",
    "\n",
    "# User Inputs and AI-generated Response\n",
    "## User Inputs\n",
    "\n",
    "### Prompt\n",
    "{prompt}\n",
    "\n",
    "## AI-generated Response\n",
    "{response}\n",
    "\"\"\"\n",
    "\n",
    "# Define a structured enum class to capture the result.\n",
    "class SummaryRating(enum.Enum):\n",
    "  VERY_GOOD = '5'\n",
    "  GOOD = '4'\n",
    "  OK = '3'\n",
    "  BAD = '2'\n",
    "  VERY_BAD = '1'\n",
    "\n",
    "# Coerce into the desired structure.\n",
    "structured_output_config = types.GenerateContentConfig(\n",
    "    response_mime_type=\"text/x.enum\",\n",
    "    response_schema=SummaryRating,\n",
    ")\n",
    "\n",
    "def eval_summary(prompt, ai_response):\n",
    "  \"\"\"Evaluate the generated summary against the prompt used.\"\"\"\n",
    "\n",
    "  eval_chat = client.chats.create(model='gemini-2.0-flash')\n",
    "    \n",
    "  # Generate the full text response.\n",
    "  response = eval_chat.send_message(\n",
    "      message=EVAL_PROMPT.format(prompt=prompt, response=ai_response)\n",
    "  )\n",
    "  verbose_eval = response.text\n",
    "\n",
    "\n",
    "  response = eval_chat.send_message(\n",
    "      message=\"Convert the final score.\",\n",
    "      config=structured_output_config,\n",
    "  )\n",
    "  structured_eval = response.parsed\n",
    "\n",
    "  return verbose_eval, structured_eval"
   ]
  },
  {
   "cell_type": "markdown",
   "id": "c82a5ce5",
   "metadata": {
    "papermill": {
     "duration": 0.015881,
     "end_time": "2025-04-18T23:31:09.014806",
     "exception": false,
     "start_time": "2025-04-18T23:31:08.998925",
     "status": "completed"
    },
    "tags": []
   },
   "source": [
    "Evaluating the prompts against each other:"
   ]
  },
  {
   "cell_type": "code",
   "execution_count": 15,
   "id": "b32e478b",
   "metadata": {
    "execution": {
     "iopub.execute_input": "2025-04-18T23:31:09.047370Z",
     "iopub.status.busy": "2025-04-18T23:31:09.047002Z",
     "iopub.status.idle": "2025-04-18T23:32:17.501060Z",
     "shell.execute_reply": "2025-04-18T23:32:17.500003Z"
    },
    "papermill": {
     "duration": 68.48999,
     "end_time": "2025-04-18T23:32:17.520337",
     "exception": false,
     "start_time": "2025-04-18T23:31:09.030347",
     "status": "completed"
    },
    "tags": []
   },
   "outputs": [
    {
     "name": "stdout",
     "output_type": "stream",
     "text": [
      "Iteration 0: SummaryRating.GOOD\n",
      "Prompt:\n",
      "Analyze the user's error. Why is the correct answer better supported by the text than the user's answer? Be concise.\n",
      "Score: 4.0\n",
      "\n",
      "\n",
      "Iteration 0: SummaryRating.VERY_GOOD\n",
      "Prompt:\n",
      "\n",
      "Consider the SAT question and the user's selected answer.\n",
      "1. Identify the specific textual evidence that strongly supports the correct answer choice.\n",
      "2. Identify any assumptions the user might be making that lead to their chosen answer.\n",
      "3. Explain why the textual support for the correct answer is stronger or more direct than any implied support for the user's answer.  If the user provides their own rational, specifically address the rational and mention what part of the question makes the rational wrong.\n",
      "        \n",
      "Score: 5.0\n",
      "\n",
      "\n",
      "Iteration 0: SummaryRating.GOOD\n",
      "Prompt:\n",
      "\n",
      "Let's analyze this question step-by-step to understand the user's error.\n",
      "\n",
      "1.  Summarize the main point of the passage in your own words.\n",
      "2.  Identify the key phrase(s) in the question that guide you to the correct answer.\n",
      "3.  Explain why the correct answer directly addresses the question based on the text.\n",
      "4.  Explain what specific words, or phrases, may make the users' answer incorrect.\n",
      "5. Given the user's answer, what misunderstanding might the student have in this section? What advice could you give to them in the future?\n",
      "        \n",
      "Score: 4.0\n",
      "\n",
      "\n",
      "Iteration 0: SummaryRating.VERY_GOOD\n",
      "Prompt:\n",
      "\n",
      "Evaluate both the correct answer and the user's answer as potential responses to the question.\n",
      "\n",
      "*   Present the strongest possible argument *in favor* of the user's answer.\n",
      "*   Present the strongest possible argument *against* the user's answer.\n",
      "*   Explain why, ultimately, the correct answer is the superior choice based on textual evidence.\n",
      "        \n",
      "Score: 5.0\n",
      "\n",
      "\n",
      "Iteration 0: SummaryRating.GOOD\n",
      "Prompt:\n",
      "\n",
      "Analyze the question, correct answer, and the user's answer.\n",
      "\n",
      "Step 1: Summarize the core argument or concept being tested in the question.\n",
      "Step 2: Identify the specific details in the question and correct answer rationale that are most crucial for arriving at the correct answer.\n",
      "Step 3: Analyze the user's answer choice.  Explain why it is incorrect. If the user provided a rationale, identify where the user's reasoning is flawed, citing specific evidence from the question text or correct answer rationale.  If no rationale was provided, hypothesize potential reasons for the incorrect choice based on common SAT misconceptions or test-taking errors related to this question type.\n",
      "Step 4: Explicitly state the mistake that the user made to reach their conclusion and how they can reach the proper conclusion by fixing the flaw.\n",
      "        \n",
      "Score: 4.0\n",
      "\n",
      "\n"
     ]
    }
   ],
   "source": [
    "# TODO: maybe share context so the LLM can compare different outputs against its own rating to be more accurate perhaps?\n",
    "\n",
    "#NUM_ITERATIONS = 5\n",
    "NUM_ITERATIONS=1\n",
    "\n",
    "with open(\"/kaggle/working/promptlogs.txt\", \"a\") as logs:\n",
    "    \n",
    "    for prompt in prompts:\n",
    "        sum = 0\n",
    "        logs.write(f\"Prompt: {prompt}\\n\")\n",
    "    \n",
    "        for question in questions:\n",
    "            logs.write(f\"Question: {question}\\n\")\n",
    "            for i in range(NUM_ITERATIONS):\n",
    "                response = client.models.generate_content(\n",
    "                    model=\"gemini-2.0-flash-001\",\n",
    "                    contents=str(question),\n",
    "                    config=GenerateContentConfig(\n",
    "                        system_instruction=[prompt[\"prompt\"],],\n",
    "                        temperature=0.1,\n",
    "                    ),\n",
    "                )\n",
    "\n",
    "                text_eval, struct_eval = eval_summary(prompt=prompt[\"prompt\"], ai_response=response)\n",
    "                print(f\"Iteration {i}: {struct_eval}\")\n",
    "                logs.write(f\"Iteration {i}: {text_eval}\\n\")\n",
    "                sum += int(struct_eval.value)\n",
    "\n",
    "\n",
    "\n",
    "        prompt[\"avg_score\"] = sum / (len(questions) * NUM_ITERATIONS)\n",
    "        print(f\"Prompt:\\n{prompt['prompt']}\\nScore: {prompt['avg_score']}\\n\\n\")\n",
    "    \n",
    "        logs.write(\"\\n\\n\")"
   ]
  },
  {
   "cell_type": "markdown",
   "id": "e6796d7d",
   "metadata": {
    "papermill": {
     "duration": 0.017514,
     "end_time": "2025-04-18T23:32:17.556353",
     "exception": false,
     "start_time": "2025-04-18T23:32:17.538839",
     "status": "completed"
    },
    "tags": []
   },
   "source": [
    "The debate prompt consistently scores the highest, so that will be picked. Prompts can be re-generated and re-evaluated with ease if need be."
   ]
  },
  {
   "cell_type": "code",
   "execution_count": 16,
   "id": "d0b30f97",
   "metadata": {
    "execution": {
     "iopub.execute_input": "2025-04-18T23:32:17.591605Z",
     "iopub.status.busy": "2025-04-18T23:32:17.591330Z",
     "iopub.status.idle": "2025-04-18T23:32:17.594748Z",
     "shell.execute_reply": "2025-04-18T23:32:17.594026Z"
    },
    "papermill": {
     "duration": 0.021986,
     "end_time": "2025-04-18T23:32:17.595840",
     "exception": false,
     "start_time": "2025-04-18T23:32:17.573854",
     "status": "completed"
    },
    "tags": []
   },
   "outputs": [],
   "source": [
    "final_prompt = \"\"\"\n",
    "Evaluate both the correct answer and the user's answer as potential responses to the question.\n",
    "\n",
    "*   Present the strongest possible argument *in favor* of the user's answer.\n",
    "*   Present the strongest possible argument *against* the user's answer.\n",
    "*   Explain why, ultimately, the correct answer is the superior choice based on textual evidence.\n",
    "\"\"\""
   ]
  },
  {
   "cell_type": "markdown",
   "id": "b37920dd",
   "metadata": {
    "papermill": {
     "duration": 0.015712,
     "end_time": "2025-04-18T23:32:17.628404",
     "exception": false,
     "start_time": "2025-04-18T23:32:17.612692",
     "status": "completed"
    },
    "tags": []
   },
   "source": [
    "## Note: \"Smart\" Questions\n",
    "The majority of questions that Aquarc Intelligence has to process will contain HTML data. How does Aquarc Intelligence interact with \"smart\" questions (i.e. questions that make use of intelligent features like formatting, graphs, or other image representations of data)?\n",
    "\n",
    "Most questions can be \"cleansed\" by converting to markdown like the following because there is text data available for most images (although the output is still quite messy):"
   ]
  },
  {
   "cell_type": "code",
   "execution_count": 17,
   "id": "549c6e9b",
   "metadata": {
    "execution": {
     "iopub.execute_input": "2025-04-18T23:32:17.666405Z",
     "iopub.status.busy": "2025-04-18T23:32:17.666049Z",
     "iopub.status.idle": "2025-04-18T23:32:17.682960Z",
     "shell.execute_reply": "2025-04-18T23:32:17.682008Z"
    },
    "papermill": {
     "duration": 0.039759,
     "end_time": "2025-04-18T23:32:17.684256",
     "exception": false,
     "start_time": "2025-04-18T23:32:17.644497",
     "status": "completed"
    },
    "tags": []
   },
   "outputs": [],
   "source": [
    "# This question is (c) CollegeBoard 2025\n",
    "rich_question = {\n",
    "    \"question\": \"\"\"\n",
    "<figure class=\"image\">\n",
    "   <svg aria-label=\"Bar graph titled Municipalities’ Responses to Inquiries about Potential Incentives for Firm. The horizontal axis has no label. 3 data categories are shown. The vertical axis is labeled Number of municipalities. It ranges from 0 to 1,300 in increments of 100. Refer to long description.\" height=\"578.7376708984375\" role=\"img\" viewbox=\"0 0 400 578.7376708984375\" width=\"400\" xmlns=\"http://www.w3.org/2000/svg\">\n",
    "      <g data-name=\"Layer 1\" id=\"ed420550-79eb-48d4-af01-cd27cdd08afd\">\n",
    "         <defs>\n",
    "            +\n",
    "            <pattern height=\"100\" id=\"bar4\" patterntransform=\"rotate(50)\" patternunits=\"userSpaceOnUse\" width=\"10\" x=\"0\" y=\"0\">\n",
    "               +\n",
    "               <rect fill=\"#CDCDCD\" height=\"100\" width=\"5\" x=\"0\" y=\"0\"></rect>\n",
    "               +\n",
    "               <rect fill=\"#444444\" height=\"100\" width=\"5\" x=\"5\" y=\"0\"></rect>\n",
    "               +\n",
    "            </pattern>\n",
    "            +\n",
    "         </defs>\n",
    "         <line fill=\"none\" stroke=\"#000000\" stroke-linecap=\"round\" stroke-linejoin=\"round\" stroke-width=\"0.9\" x1=\"99.75999450683594\" x2=\"385\" xmlns=\"http://www.w3.org/2000/svg\" y1=\"72\" y2=\"72\"></line>\n",
    "         <line fill=\"none\" stroke=\"#000000\" stroke-linecap=\"round\" stroke-linejoin=\"round\" stroke-width=\"0.9\" x1=\"93.75999450683594\" x2=\"105.75999450683594\" xmlns=\"http://www.w3.org/2000/svg\" y1=\"72\" y2=\"72\"></line>\n",
    "         <text fill=\"#000000\" font-family=\"Crimson Text\" font-size=\"19.84\" text-anchor=\"end\" transform=\"translate(87.75999450683594 78)\">1,300</text>\n",
    "         <line fill=\"none\" stroke=\"#000000\" stroke-linecap=\"round\" stroke-linejoin=\"round\" stroke-width=\"0.9\" x1=\"99.75999450683594\" x2=\"385\" xmlns=\"http://www.w3.org/2000/svg\" y1=\"91.23076923076923\" y2=\"91.23076923076923\"></line>\n",
    "         <line fill=\"none\" stroke=\"#000000\" stroke-linecap=\"round\" stroke-linejoin=\"round\" stroke-width=\"0.9\" x1=\"93.75999450683594\" x2=\"105.75999450683594\" xmlns=\"http://www.w3.org/2000/svg\" y1=\"91.23076923076923\" y2=\"91.23076923076923\"></line>\n",
    "         <text fill=\"#000000\" font-family=\"Crimson Text\" font-size=\"19.84\" text-anchor=\"end\" transform=\"translate(87.75999450683594 97.23076923076923)\">1,200</text>\n",
    "         <line fill=\"none\" stroke=\"#000000\" stroke-linecap=\"round\" stroke-linejoin=\"round\" stroke-width=\"0.9\" x1=\"99.75999450683594\" x2=\"385\" xmlns=\"http://www.w3.org/2000/svg\" y1=\"110.46153846153845\" y2=\"110.46153846153845\"></line>\n",
    "         <line fill=\"none\" stroke=\"#000000\" stroke-linecap=\"round\" stroke-linejoin=\"round\" stroke-width=\"0.9\" x1=\"93.75999450683594\" x2=\"105.75999450683594\" xmlns=\"http://www.w3.org/2000/svg\" y1=\"110.46153846153845\" y2=\"110.46153846153845\"></line>\n",
    "         <text fill=\"#000000\" font-family=\"Crimson Text\" font-size=\"19.84\" text-anchor=\"end\" transform=\"translate(87.75999450683594 116.46153846153845)\">1,100</text>\n",
    "         <line fill=\"none\" stroke=\"#000000\" stroke-linecap=\"round\" stroke-linejoin=\"round\" stroke-width=\"0.9\" x1=\"99.75999450683594\" x2=\"385\" xmlns=\"http://www.w3.org/2000/svg\" y1=\"129.69230769230768\" y2=\"129.69230769230768\"></line>\n",
    "         <line fill=\"none\" stroke=\"#000000\" stroke-linecap=\"round\" stroke-linejoin=\"round\" stroke-width=\"0.9\" x1=\"93.75999450683594\" x2=\"105.75999450683594\" xmlns=\"http://www.w3.org/2000/svg\" y1=\"129.69230769230768\" y2=\"129.69230769230768\"></line>\n",
    "         <text fill=\"#000000\" font-family=\"Crimson Text\" font-size=\"19.84\" text-anchor=\"end\" transform=\"translate(87.75999450683594 135.69230769230768)\">1,000</text>\n",
    "         <line fill=\"none\" stroke=\"#000000\" stroke-linecap=\"round\" stroke-linejoin=\"round\" stroke-width=\"0.9\" x1=\"99.75999450683594\" x2=\"385\" xmlns=\"http://www.w3.org/2000/svg\" y1=\"148.9230769230769\" y2=\"148.9230769230769\"></line>\n",
    "         <line fill=\"none\" stroke=\"#000000\" stroke-linecap=\"round\" stroke-linejoin=\"round\" stroke-width=\"0.9\" x1=\"93.75999450683594\" x2=\"105.75999450683594\" xmlns=\"http://www.w3.org/2000/svg\" y1=\"148.9230769230769\" y2=\"148.9230769230769\"></line>\n",
    "         <text fill=\"#000000\" font-family=\"Crimson Text\" font-size=\"19.84\" text-anchor=\"end\" transform=\"translate(87.75999450683594 154.9230769230769)\">900</text>\n",
    "         <line fill=\"none\" stroke=\"#000000\" stroke-linecap=\"round\" stroke-linejoin=\"round\" stroke-width=\"0.9\" x1=\"99.75999450683594\" x2=\"385\" xmlns=\"http://www.w3.org/2000/svg\" y1=\"168.15384615384613\" y2=\"168.15384615384613\"></line>\n",
    "         <line fill=\"none\" stroke=\"#000000\" stroke-linecap=\"round\" stroke-linejoin=\"round\" stroke-width=\"0.9\" x1=\"93.75999450683594\" x2=\"105.75999450683594\" xmlns=\"http://www.w3.org/2000/svg\" y1=\"168.15384615384613\" y2=\"168.15384615384613\"></line>\n",
    "         <text fill=\"#000000\" font-family=\"Crimson Text\" font-size=\"19.84\" text-anchor=\"end\" transform=\"translate(87.75999450683594 174.15384615384613)\">800</text>\n",
    "         <line fill=\"none\" stroke=\"#000000\" stroke-linecap=\"round\" stroke-linejoin=\"round\" stroke-width=\"0.9\" x1=\"99.75999450683594\" x2=\"385\" xmlns=\"http://www.w3.org/2000/svg\" y1=\"187.3846153846154\" y2=\"187.3846153846154\"></line>\n",
    "         <line fill=\"none\" stroke=\"#000000\" stroke-linecap=\"round\" stroke-linejoin=\"round\" stroke-width=\"0.9\" x1=\"93.75999450683594\" x2=\"105.75999450683594\" xmlns=\"http://www.w3.org/2000/svg\" y1=\"187.3846153846154\" y2=\"187.3846153846154\"></line>\n",
    "         <text fill=\"#000000\" font-family=\"Crimson Text\" font-size=\"19.84\" text-anchor=\"end\" transform=\"translate(87.75999450683594 193.3846153846154)\">700</text>\n",
    "         <line fill=\"none\" stroke=\"#000000\" stroke-linecap=\"round\" stroke-linejoin=\"round\" stroke-width=\"0.9\" x1=\"99.75999450683594\" x2=\"385\" xmlns=\"http://www.w3.org/2000/svg\" y1=\"206.6153846153846\" y2=\"206.6153846153846\"></line>\n",
    "         <line fill=\"none\" stroke=\"#000000\" stroke-linecap=\"round\" stroke-linejoin=\"round\" stroke-width=\"0.9\" x1=\"93.75999450683594\" x2=\"105.75999450683594\" xmlns=\"http://www.w3.org/2000/svg\" y1=\"206.6153846153846\" y2=\"206.6153846153846\"></line>\n",
    "         <text fill=\"#000000\" font-family=\"Crimson Text\" font-size=\"19.84\" text-anchor=\"end\" transform=\"translate(87.75999450683594 212.6153846153846)\">600</text>\n",
    "         <line fill=\"none\" stroke=\"#000000\" stroke-linecap=\"round\" stroke-linejoin=\"round\" stroke-width=\"0.9\" x1=\"99.75999450683594\" x2=\"385\" xmlns=\"http://www.w3.org/2000/svg\" y1=\"225.84615384615384\" y2=\"225.84615384615384\"></line>\n",
    "         <line fill=\"none\" stroke=\"#000000\" stroke-linecap=\"round\" stroke-linejoin=\"round\" stroke-width=\"0.9\" x1=\"93.75999450683594\" x2=\"105.75999450683594\" xmlns=\"http://www.w3.org/2000/svg\" y1=\"225.84615384615384\" y2=\"225.84615384615384\"></line>\n",
    "         <text fill=\"#000000\" font-family=\"Crimson Text\" font-size=\"19.84\" text-anchor=\"end\" transform=\"translate(87.75999450683594 231.84615384615384)\">500</text>\n",
    "         <line fill=\"none\" stroke=\"#000000\" stroke-linecap=\"round\" stroke-linejoin=\"round\" stroke-width=\"0.9\" x1=\"99.75999450683594\" x2=\"385\" xmlns=\"http://www.w3.org/2000/svg\" y1=\"245.07692307692307\" y2=\"245.07692307692307\"></line>\n",
    "         <line fill=\"none\" stroke=\"#000000\" stroke-linecap=\"round\" stroke-linejoin=\"round\" stroke-width=\"0.9\" x1=\"93.75999450683594\" x2=\"105.75999450683594\" xmlns=\"http://www.w3.org/2000/svg\" y1=\"245.07692307692307\" y2=\"245.07692307692307\"></line>\n",
    "         <text fill=\"#000000\" font-family=\"Crimson Text\" font-size=\"19.84\" text-anchor=\"end\" transform=\"translate(87.75999450683594 251.07692307692307)\">400</text>\n",
    "         <line fill=\"none\" stroke=\"#000000\" stroke-linecap=\"round\" stroke-linejoin=\"round\" stroke-width=\"0.9\" x1=\"99.75999450683594\" x2=\"385\" xmlns=\"http://www.w3.org/2000/svg\" y1=\"264.30769230769226\" y2=\"264.30769230769226\"></line>\n",
    "         <line fill=\"none\" stroke=\"#000000\" stroke-linecap=\"round\" stroke-linejoin=\"round\" stroke-width=\"0.9\" x1=\"93.75999450683594\" x2=\"105.75999450683594\" xmlns=\"http://www.w3.org/2000/svg\" y1=\"264.30769230769226\" y2=\"264.30769230769226\"></line>\n",
    "         <text fill=\"#000000\" font-family=\"Crimson Text\" font-size=\"19.84\" text-anchor=\"end\" transform=\"translate(87.75999450683594 270.30769230769226)\">300</text>\n",
    "         <line fill=\"none\" stroke=\"#000000\" stroke-linecap=\"round\" stroke-linejoin=\"round\" stroke-width=\"0.9\" x1=\"99.75999450683594\" x2=\"385\" xmlns=\"http://www.w3.org/2000/svg\" y1=\"283.53846153846155\" y2=\"283.53846153846155\"></line>\n",
    "         <line fill=\"none\" stroke=\"#000000\" stroke-linecap=\"round\" stroke-linejoin=\"round\" stroke-width=\"0.9\" x1=\"93.75999450683594\" x2=\"105.75999450683594\" xmlns=\"http://www.w3.org/2000/svg\" y1=\"283.53846153846155\" y2=\"283.53846153846155\"></line>\n",
    "         <text fill=\"#000000\" font-family=\"Crimson Text\" font-size=\"19.84\" text-anchor=\"end\" transform=\"translate(87.75999450683594 289.53846153846155)\">200</text>\n",
    "         <line fill=\"none\" stroke=\"#000000\" stroke-linecap=\"round\" stroke-linejoin=\"round\" stroke-width=\"0.9\" x1=\"99.75999450683594\" x2=\"385\" xmlns=\"http://www.w3.org/2000/svg\" y1=\"302.7692307692308\" y2=\"302.7692307692308\"></line>\n",
    "         <line fill=\"none\" stroke=\"#000000\" stroke-linecap=\"round\" stroke-linejoin=\"round\" stroke-width=\"0.9\" x1=\"93.75999450683594\" x2=\"105.75999450683594\" xmlns=\"http://www.w3.org/2000/svg\" y1=\"302.7692307692308\" y2=\"302.7692307692308\"></line>\n",
    "         <text fill=\"#000000\" font-family=\"Crimson Text\" font-size=\"19.84\" text-anchor=\"end\" transform=\"translate(87.75999450683594 308.7692307692308)\">100</text>\n",
    "         <line fill=\"none\" stroke=\"#000000\" stroke-linecap=\"round\" stroke-linejoin=\"round\" stroke-width=\"0.9\" x1=\"99.75999450683594\" x2=\"385\" xmlns=\"http://www.w3.org/2000/svg\" y1=\"322\" y2=\"322\"></line>\n",
    "         <line fill=\"none\" stroke=\"#000000\" stroke-linecap=\"round\" stroke-linejoin=\"round\" stroke-width=\"0.9\" x1=\"93.75999450683594\" x2=\"105.75999450683594\" xmlns=\"http://www.w3.org/2000/svg\" y1=\"322\" y2=\"322\"></line>\n",
    "         <text fill=\"#000000\" font-family=\"Crimson Text\" font-size=\"19.84\" text-anchor=\"end\" transform=\"translate(87.75999450683594 328)\">0</text>\n",
    "         <text fill=\"#000000\" font-family=\"Crimson Text\" font-size=\"19.84\" text-anchor=\"middle\" transform=\"translate(24 197) rotate(-90)\">Number of municipalities</text>\n",
    "         <line fill=\"none\" stroke=\"#000000\" stroke-linecap=\"round\" stroke-linejoin=\"round\" stroke-width=\"0.9\" x1=\"99.75999450683594\" x2=\"99.75999450683594\" xmlns=\"http://www.w3.org/2000/svg\" y1=\"72\" y2=\"322\"></line>\n",
    "         <rect fill=\"#B3B3B3\" height=\"240.76923076923077\" stroke=\"#000000\" stroke-linecap=\"round\" stroke-linejoin=\"mitre\" stroke-width=\"0.9\" width=\"28.524000549316405\" x=\"128.28399505615235\" xmlns=\"http://www.w3.org/2000/svg\" y=\"81.23076923076923\"></rect>\n",
    "         <rect fill=\"#333333\" height=\"240\" stroke=\"#000000\" stroke-linecap=\"round\" stroke-linejoin=\"mitre\" stroke-width=\"0.9\" width=\"28.524000549316405\" x=\"156.80799560546876\" xmlns=\"http://www.w3.org/2000/svg\" y=\"82\"></rect>\n",
    "         <text fill=\"#000000\" font-family=\"Crimson Text\" font-size=\"19.84\" text-anchor=\"end\" transform=\"translate(166.72799560546875 341.84) rotate(-40)\" x=\"0\" xmlns=\"http://www.w3.org/2000/svg\" y=\"0\">no response</text>\n",
    "         <rect fill=\"#B3B3B3\" height=\"39.80769230769231\" stroke=\"#000000\" stroke-linecap=\"round\" stroke-linejoin=\"mitre\" stroke-width=\"0.9\" width=\"28.524000549316405\" x=\"213.85599670410159\" xmlns=\"http://www.w3.org/2000/svg\" y=\"282.1923076923077\"></rect>\n",
    "         <rect fill=\"#333333\" height=\"39.42307692307692\" stroke=\"#000000\" stroke-linecap=\"round\" stroke-linejoin=\"mitre\" stroke-width=\"0.9\" width=\"28.524000549316405\" x=\"242.379997253418\" xmlns=\"http://www.w3.org/2000/svg\" y=\"282.5769230769231\"></rect>\n",
    "         <text fill=\"#000000\" font-family=\"Crimson Text\" font-size=\"19.84\" text-anchor=\"end\" transform=\"translate(252.29999725341798 341.84) rotate(-40)\" x=\"0\" xmlns=\"http://www.w3.org/2000/svg\" y=\"0\">responded to inquiry</text>\n",
    "         <rect fill=\"#B3B3B3\" height=\"24.23076923076923\" stroke=\"#000000\" stroke-linecap=\"round\" stroke-linejoin=\"mitre\" stroke-width=\"0.9\" width=\"28.524000549316405\" x=\"299.4279983520508\" xmlns=\"http://www.w3.org/2000/svg\" y=\"297.7692307692308\"></rect>\n",
    "         <rect fill=\"#333333\" height=\"23.46153846153846\" stroke=\"#000000\" stroke-linecap=\"round\" stroke-linejoin=\"mitre\" stroke-width=\"0.9\" width=\"28.524000549316405\" x=\"327.9519989013672\" xmlns=\"http://www.w3.org/2000/svg\" y=\"298.53846153846155\"></rect>\n",
    "         <text fill=\"#000000\" font-family=\"Crimson Text\" font-size=\"19.84\" text-anchor=\"end\" transform=\"translate(337.8719989013672 341.84) rotate(-40)\" x=\"0\" xmlns=\"http://www.w3.org/2000/svg\" y=\"0\">offered incentive</text>\n",
    "         <text fill=\"#000000\" font-family=\"Crimson Text\" font-size=\"19.84\" text-anchor=\"middle\" transform=\"translate(242.37999725341797 24)\">Municipalities’ Responses to Inquiries </text>\n",
    "         <text fill=\"#000000\" font-family=\"Crimson Text\" font-size=\"19.84\" text-anchor=\"middle\" transform=\"translate(242.37999725341797 48)\">about Potential Incentives for Firm</text>\n",
    "         <rect fill=\"none\" height=\"71\" stroke=\"#000000\" stroke-linejoin=\"mitre\" stroke-width=\"0.9\" width=\"280.1479034423828\" x=\"67.4260482788086\" xmlns=\"http://www.w3.org/2000/svg\" y=\"496.7376708984375\"></rect>\n",
    "         <rect fill=\"#B3B3B3\" height=\"12\" stroke=\"#000000\" stroke-linejoin=\"mitre\" stroke-width=\"0.9\" width=\"12\" x=\"74.4260482788086\" xmlns=\"http://www.w3.org/2000/svg\" y=\"508.7376708984375\"></rect>\n",
    "         <text fill=\"#000000\" font-family=\"Crimson Text\" font-size=\"19.84\" text-anchor=\"top\" transform=\"translate(96.4260482788086 520.7376708984375)\"> announcement before election</text>\n",
    "         <rect fill=\"#333333\" height=\"12\" stroke=\"#000000\" stroke-linejoin=\"mitre\" stroke-width=\"0.9\" width=\"12\" x=\"74.4260482788086\" xmlns=\"http://www.w3.org/2000/svg\" y=\"540.7376708984375\"></rect>\n",
    "         <text fill=\"#000000\" font-family=\"Crimson Text\" font-size=\"19.84\" text-anchor=\"top\" transform=\"translate(96.4260482788086 552.7376708984375)\"> announcement after election</text>\n",
    "      </g>\n",
    "   </svg>\n",
    "</figure>\n",
    "<div aria-label=\"Long description for bar graph titled Municipalities’ Responses to Inquiries about Potential Incentives for Firm\" class=\"sr-only\" role=\"region\">\n",
    "   <ul>\n",
    "      +\n",
    "      <li>\n",
    "         For each data category, the following bars are shown: <br/>                                                                                                                                                                                                                                                                                                                                                                                                                                                                                                                                                                                                                                                                                                                                                                                                                                                                                                                                                                                                                                                                                                                                                                                                                                                                                                                                                                                                                                                                                                                                                                                                                                                                                                                                                                                                                                                                                                                                                                                                                                                                                                                                                                                                                                                                                                                                                                                                                                                                                                                                                                                                                                                                                                                                                                                                                                                                                                                                                                                                                                                                                                                                                                                                                                                                                                                                                                                                                                                                                                                                                                                                                                                                                                                                                                                                                                                                                                                                                                                                                                                                                                                                                                                                                                                                                                                                                                                                                                                                                                                                                                                                                                                                                                                                                                                                                                                                                                                                                                                                                                                                                                                                                                                                                                                                                                                                                                                                                                                                                                                                                                                                                                                                                                                                                                                                                                                                                                                                                                                                                                                                                                                                                                                                                                                                                                                                                                                                                                                                                                                                                                                                                                                                                                                                                                                                                                                                                                                                                                                                                                                                                                                                                                                                                                                                                                                                                                                                                                                                                                                                                                                                                                                                                                                                                                                                                                                                                                                                                                                                                                                                                                                                                                                                                                                                                                                                                                                                                                                                                                                                                                                                                                                                                                                                                                                                                                                                                                                                                                                                                                                                                                                                                                                                                                                                                                                                                                                                                                                                                                                                                                                                                                                                                                                                                                                                                                                                                                                                                                                                                                                                                                                                                                                                                                                                                                                                                                                                                                                                                                                                                                                                                                                                                                                                                                                                                                                                                                                                                                                                                                                                                                                                                                                                                                                                                                                                                                                                                                                                                                                                                                                                                                                                                                                                                                                                                                                                                                                                                                                                                                                                                                                                                                                                                                                                                                                                                                                                                                                                                                                                                                                                                                                                                                                                                                                                           +\n",
    "         <ul>\n",
    "            +\n",
    "            <li>announcement before election</li>\n",
    "            +\n",
    "            <li>announcement after election</li>\n",
    "            +\n",
    "         </ul>\n",
    "         +\n",
    "      </li>\n",
    "      +\n",
    "      <li>\n",
    "         The data for the 3 categories are as follows: <br/>                                                                                                                                                                                                                                                                                                                                                                                                                                                                                                                                                                                                                                                                                                                                                                                                                                                                                                                                                                                                                                                                                                                                                                                                                                                                                                                                                                                                                                                                                                                                                                                                                                                                                                                                                                                                                                                                                                                                                                                                                                                                                                                                                                                                                                                                                                                                                                                                                                                                                                                                                                                                                                                                                                                                                                                                                                                                                                                                                                                                                                                                                                                                                                                                                                                                                                                                                                                                                                                                                                                                                                                                                                                                                                                                                                                                                                                                                                                                                                                                                                                                                                                                                                                                                                                                                                                                                                                                                                                                                                                                                                                                                                                                                                                                                                                                                                                                                                                                                                                                                                                                                                                                                                                                                                                                                                                                                                                                                                                                                                                                                                                                                                                                                                                                                                                                                                                                                                                                                                                                                                                                                                                                                                                                                                                                                                                                                                                                                                                                                                                                                                                                                                                                                                                                                                                                                                                                                                                                                                                                                                                                                                                                                                                                                                                                                                                                                                                                                                                                                                                                                                                                                                                                                                                                                                                                                                                                                                                                                                                                                                                                                                                                                                                                                                                                                                                                                                                                                                                                                                                                                                                                                                                                                                                                                                                                                                                                                                                                                                                                                                                                                                                                                                                                                                                                                                                                                                                                                                                                                                                                                                                                                                                                                                                                                                                                                                                                                                                                                                                                                                                                                                                                                                                                                                                                                                                                                                                                                                                                                                                                                                                                                                                                                                                                                                                                                                                                                                                                                                                                                                                                                                                                                                                                                                                                                                                                                                                                                                                                                                                                                                                                                                                                                                                                                                                                                                                                                                                                                                                                                                                                                                                                                                                                                                                                                                                                                                                                                                                                                                                                                                                                                                                                                                                                                                                                                   +\n",
    "         <ul>\n",
    "            +\n",
    "            <li>\n",
    "               no response:                                                                                                                                                                                                                                                                                                                                                                                                                                                                                                                                                                                                                                                                                                                                                                                                                                                                                                                                                                                                                                                                                                                                                                                                                                                                                                                                                                                                                                                                                                                                                                                                                                                                                                                                                                                                                                                                                                                                                                                                                                                                                                                                                                                                                                                                                                                                                                                                                                                                                                                                                                                                                                                                                                                                                                                                                                                                                                                                                                                                                                                                                                                                                                                                                                                                                                                                                                                                                                                                                                                                                                                                                                                                                                                                                                                                                                                                                                                                                                                                                                                                                                                                                                                                                                                                                                                                                                                                                                                                                                                                                                                                                                                                                                                                                                                                                                                                                                                                                                                                                                                                                                                                                                                                                                                                                                                                                                                                                                                                                                                                                                                                                                                                                                                                                                                                                                                                                                                                                                                                                                                                                                                                                                                                                                                                                                                                                                                                                                                                                                                                                                                                                                                                                                                                                                                                                                                                                                                                                                                                                                                                                                                                                                                                                                                                                                                                                                                                                                                                                                                                                                                                                                                                                                                                                                                                                                                                                                                                                                                                                                                                                                                                                                                                                                                                                                                                                                                                                                                                                                                                                                                                                                                                                                                                                                                                                                                                                                                                                                                                                                                                                                                                                                                                                                                                                                                                                                                                                                                                                                                                                                                                                                                                                                                                                                                                                                                                                                                                                                                                                                                                                                                                                                                                                                                                                                                                                                                                                                                                                                                                                                                                                                                                                                                                                                                                                                                                                                                                                                                                                                                                                                                                                                                                                                                                                                                                                                                                                                                                                                                                                                                                                                                                                                                                                                                                                                                                                                                                                                                                                                                                                                                                                                                                                                                                                                                                                                                                                                                                                                                                                                                                                                                                                                                                                                                                                                                          +\n",
    "               <ul>\n",
    "                  +\n",
    "                  <li>announcement before election: 1,252</li>\n",
    "                  +\n",
    "                  <li>announcement after election: 1,248</li>\n",
    "                  +\n",
    "               </ul>\n",
    "               +\n",
    "            </li>\n",
    "            +\n",
    "            <li>\n",
    "               responded to inquiry:                                                                                                                                                                                                                                                                                                                                                                                                                                                                                                                                                                                                                                                                                                                                                                                                                                                                                                                                                                                                                                                                                                                                                                                                                                                                                                                                                                                                                                                                                                                                                                                                                                                                                                                                                                                                                                                                                                                                                                                                                                                                                                                                                                                                                                                                                                                                                                                                                                                                                                                                                                                                                                                                                                                                                                                                                                                                                                                                                                                                                                                                                                                                                                                                                                                                                                                                                                                                                                                                                                                                                                                                                                                                                                                                                                                                                                                                                                                                                                                                                                                                                                                                                                                                                                                                                                                                                                                                                                                                                                                                                                                                                                                                                                                                                                                                                                                                                                                                                                                                                                                                                                                                                                                                                                                                                                                                                                                                                                                                                                                                                                                                                                                                                                                                                                                                                                                                                                                                                                                                                                                                                                                                                                                                                                                                                                                                                                                                                                                                                                                                                                                                                                                                                                                                                                                                                                                                                                                                                                                                                                                                                                                                                                                                                                                                                                                                                                                                                                                                                                                                                                                                                                                                                                                                                                                                                                                                                                                                                                                                                                                                                                                                                                                                                                                                                                                                                                                                                                                                                                                                                                                                                                                                                                                                                                                                                                                                                                                                                                                                                                                                                                                                                                                                                                                                                                                                                                                                                                                                                                                                                                                                                                                                                                                                                                                                                                                                                                                                                                                                                                                                                                                                                                                                                                                                                                                                                                                                                                                                                                                                                                                                                                                                                                                                                                                                                                                                                                                                                                                                                                                                                                                                                                                                                                                                                                                                                                                                                                                                                                                                                                                                                                                                                                                                                                                                                                                                                                                                                                                                                                                                                                                                                                                                                                                                                                                                                                                                                                                                                                                                                                                                                                                                                                                                                                                                                                                 +\n",
    "               <ul>\n",
    "                  +\n",
    "                  <li>announcement before election: 207</li>\n",
    "                  +\n",
    "                  <li>announcement after election: 205</li>\n",
    "                  +\n",
    "               </ul>\n",
    "               +\n",
    "            </li>\n",
    "            +\n",
    "            <li>\n",
    "               offered incentive:                                                                                                                                                                                                                                                                                                                                                                                                                                                                                                                                                                                                                                                                                                                                                                                                                                                                                                                                                                                                                                                                                                                                                                                                                                                                                                                                                                                                                                                                                                                                                                                                                                                                                                                                                                                                                                                                                                                                                                                                                                                                                                                                                                                                                                                                                                                                                                                                                                                                                                                                                                                                                                                                                                                                                                                                                                                                                                                                                                                                                                                                                                                                                                                                                                                                                                                                                                                                                                                                                                                                                                                                                                                                                                                                                                                                                                                                                                                                                                                                                                                                                                                                                                                                                                                                                                                                                                                                                                                                                                                                                                                                                                                                                                                                                                                                                                                                                                                                                                                                                                                                                                                                                                                                                                                                                                                                                                                                                                                                                                                                                                                                                                                                                                                                                                                                                                                                                                                                                                                                                                                                                                                                                                                                                                                                                                                                                                                                                                                                                                                                                                                                                                                                                                                                                                                                                                                                                                                                                                                                                                                                                                                                                                                                                                                                                                                                                                                                                                                                                                                                                                                                                                                                                                                                                                                                                                                                                                                                                                                                                                                                                                                                                                                                                                                                                                                                                                                                                                                                                                                                                                                                                                                                                                                                                                                                                                                                                                                                                                                                                                                                                                                                                                                                                                                                                                                                                                                                                                                                                                                                                                                                                                                                                                                                                                                                                                                                                                                                                                                                                                                                                                                                                                                                                                                                                                                                                                                                                                                                                                                                                                                                                                                                                                                                                                                                                                                                                                                                                                                                                                                                                                                                                                                                                                                                                                                                                                                                                                                                                                                                                                                                                                                                                                                                                                                                                                                                                                                                                                                                                                                                                                                                                                                                                                                                                                                                                                                                                                                                                                                                                                                                                                                                                                                                                                                                                                                    +\n",
    "               <ul>\n",
    "                  +\n",
    "                  <li>announcement before election: 128</li>\n",
    "                  +\n",
    "                  <li>announcement after election: 122</li>\n",
    "                  +\n",
    "               </ul>\n",
    "               +\n",
    "            </li>\n",
    "            +\n",
    "         </ul>\n",
    "         +\n",
    "      </li>\n",
    "      +\n",
    "   </ul>\n",
    "</div>\n",
    "+\n",
    "<p>In the United States, firms often seek incentives from municipal governments to expand to those municipalities. A team of political scientists hypothesized that municipalities are much more likely to respond to firms and offer incentives if expansions can be announced in time to benefit local elected officials than if they can’t. The team contacted officials in thousands of municipalities, inquiring about incentives for a firm looking to expand and indicating that the firm would announce its expansion on a date either just before or just after the next election. </p>\n",
    "\n",
    "<p>Which choice best describes data from the graph that weaken the team&rsquo;s hypothesis?</p>\n",
    "\n",
    "A. <p>A large majority of the municipalities that received an inquiry mentioning plans for an announcement before the next election didn&rsquo;t respond to the inquiry.</p>\n",
    "B. <p>The proportion of municipalities that responded to the inquiry or offered incentives didn&rsquo;t substantially differ across the announcement timing conditions.&nbsp;</p>\n",
    "C. <p>Only around half the municipalities that responded to inquiries mentioning plans for an announcement before the next election offered incentives.&nbsp;</p>\n",
    "D. <p>Of the municipalities that received an inquiry mentioning plans for an announcement date after the next election, more than 1,200 didn&rsquo;t respond and only around 100 offered incentives.</p>\n",
    "    \"\"\",\n",
    "    \"rationale\": \"\"\"\n",
    "<p>Choice B is the best answer. The lighter bars show what happened when the announcement was to come before the election, and the darker bars show what happened when the announcement was to come after the election. For all three of the outcomes, the light and dark bars are virtually the same, demonstrating that the announcement timing didn&rsquo;t actually make a difference. </p>\n",
    "<p>Choice A is incorrect. This accurately describes some data from the graph, but it doesn&rsquo;t weaken the hypothesis. It doesn&rsquo;t include the &ldquo;announcement after election&rdquo; data for comparison. Choice C is incorrect. This accurately describes some data from the graph, but it doesn&rsquo;t weaken the hypothesis. It doesn&rsquo;t include the &ldquo;announcement after election&rdquo; data for comparison. Choice D is incorrect. This accurately describes some data from the graph, but it doesn&rsquo;t weaken the hypothesis. It doesn&rsquo;t include the &ldquo;announcement before election&rdquo; data for comparison. </p>    \n",
    "    \"\"\",\n",
    "    \"user_choice\": \"D\",\n",
    "    \"user_rationale\": \"isn't this data objly true?\"\n",
    "}"
   ]
  },
  {
   "cell_type": "markdown",
   "id": "8d2490b6",
   "metadata": {
    "papermill": {
     "duration": 0.01679,
     "end_time": "2025-04-18T23:32:17.720768",
     "exception": false,
     "start_time": "2025-04-18T23:32:17.703978",
     "status": "completed"
    },
    "tags": []
   },
   "source": [
    "Even with the SVG, Gemini can still interpret the noisy data:"
   ]
  },
  {
   "cell_type": "code",
   "execution_count": 18,
   "id": "09938c1b",
   "metadata": {
    "execution": {
     "iopub.execute_input": "2025-04-18T23:32:17.756076Z",
     "iopub.status.busy": "2025-04-18T23:32:17.755772Z",
     "iopub.status.idle": "2025-04-18T23:32:22.860377Z",
     "shell.execute_reply": "2025-04-18T23:32:22.859397Z"
    },
    "papermill": {
     "duration": 5.12462,
     "end_time": "2025-04-18T23:32:22.861896",
     "exception": false,
     "start_time": "2025-04-18T23:32:17.737276",
     "status": "completed"
    },
    "tags": []
   },
   "outputs": [
    {
     "data": {
      "text/markdown": [
       "Okay, let's analyze both the correct answer (B) and the user's answer (D) in the context of the question and the provided graph.\n",
       "\n",
       "**Arguments for User's Answer (D):**\n",
       "\n",
       "*   **Directly from the Graph:** The user's rationale, \"isn't this data objly true?\" highlights a key strength. Choice D *is* factually accurate based on the graph. The graph clearly shows that for municipalities receiving inquiries with announcement dates *after* the election, a large number (over 1200) did not respond, and a small number (around 100, though closer to 120-130) offered incentives.\n",
       "*   **Weakening the Hypothesis (Potentially):** One could argue that this data *could* weaken the hypothesis. The hypothesis states municipalities are more likely to respond and offer incentives *before* an election. If municipalities are *unlikely* to respond or offer incentives *after* an election (as choice D suggests), this could be seen as supporting the idea that timing matters.\n",
       "\n",
       "**Arguments Against User's Answer (D):**\n",
       "\n",
       "*   **Lacks Comparative Context:** The *major* flaw in choice D is that it only presents data for the \"announcement after election\" condition. To *weaken* the hypothesis, we need to see if the \"announcement before election\" condition yields significantly *different* results. Without that comparison, we can't say whether the timing truly matters. It's possible that municipalities are generally unresponsive and disinclined to offer incentives, regardless of the timing.\n",
       "*   **Doesn't Directly Contradict the Hypothesis:** The hypothesis claims a *higher* likelihood of response before elections. Choice D simply describes the situation *after* the election. It doesn't directly contradict the \"before\" claim.\n",
       "\n",
       "**Arguments for Correct Answer (B):**\n",
       "\n",
       "*   **Directly Addresses the Hypothesis:** Choice B states that the proportion of municipalities that responded or offered incentives \"didn't substantially differ across the announcement timing conditions.\" This *directly* challenges the core of the hypothesis, which is that timing *does* matter.\n",
       "*   **Comparative:** Choice B *explicitly* compares the \"before\" and \"after\" election conditions. This is crucial for evaluating the hypothesis. If the results are similar regardless of timing, the hypothesis is weakened.\n",
       "*   **Supported by the Graph:** Visually, the bars for \"announcement before election\" and \"announcement after election\" are very close in height for all three categories (no response, responded to inquiry, offered incentive). This supports the claim that there's no substantial difference.\n",
       "\n",
       "**Why the Correct Answer (B) is Superior:**\n",
       "\n",
       "The correct answer (B) is superior because it directly addresses the core claim of the hypothesis (that timing matters) and provides a *comparative* analysis of the data, which is essential for weakening or supporting the hypothesis. Choice D, while factually accurate, only presents data for one condition and lacks the comparative element needed to effectively challenge the hypothesis. The question asks for the choice that *best* describes data that *weaken* the hypothesis. Choice B does this more effectively than choice D. The textual evidence in the graph, showing similar bar heights for both announcement timings, strongly supports choice B.\n"
      ],
      "text/plain": [
       "<IPython.core.display.Markdown object>"
      ]
     },
     "execution_count": 18,
     "metadata": {},
     "output_type": "execute_result"
    }
   ],
   "source": [
    "sample_rich_answer = client.models.generate_content(\n",
    "                    model=\"gemini-2.0-flash-001\",\n",
    "                    contents=str(rich_question),\n",
    "                    config=GenerateContentConfig(\n",
    "                        system_instruction=[final_prompt,],\n",
    "                        temperature=0.1,\n",
    "                    ),\n",
    "                )\n",
    "\n",
    "Markdown(sample_rich_answer.text)"
   ]
  },
  {
   "cell_type": "markdown",
   "id": "50756845",
   "metadata": {
    "papermill": {
     "duration": 0.018301,
     "end_time": "2025-04-18T23:32:22.897430",
     "exception": false,
     "start_time": "2025-04-18T23:32:22.879129",
     "status": "completed"
    },
    "tags": []
   },
   "source": [
    "While cleansing the data may be smoother for the LLM, not all data can be easily cleansed. U-tags must be converted manually because Markdown doesn't have an underline equivalent. "
   ]
  },
  {
   "cell_type": "code",
   "execution_count": 19,
   "id": "0f756e01",
   "metadata": {
    "execution": {
     "iopub.execute_input": "2025-04-18T23:32:22.930827Z",
     "iopub.status.busy": "2025-04-18T23:32:22.930542Z",
     "iopub.status.idle": "2025-04-18T23:32:23.180549Z",
     "shell.execute_reply": "2025-04-18T23:32:23.179670Z"
    },
    "papermill": {
     "duration": 0.268413,
     "end_time": "2025-04-18T23:32:23.181882",
     "exception": false,
     "start_time": "2025-04-18T23:32:22.913469",
     "status": "completed"
    },
    "tags": []
   },
   "outputs": [
    {
     "data": {
      "text/markdown": [
       "[Underlined]“How lifelike are they?”[End] Many computer animators prioritize this question as they strive to create ever more realistic environments and lighting. Generally, while characters in computer-animated films appear highly exaggerated, environments and lighting are carefully engineered to mimic reality. But some animators, such as Pixar’s Sanjay Patel, are focused on a different question. Rather than asking first whether the environments and lighting they’re creating are convincingly lifelike, Patel and others are asking whether these elements reflect their films’ unique stories.\n",
       "\n",
       "Which choice best describes the function of the underlined question in the text as a whole?\n",
       "\n",
       "A.\n",
       "\n",
       "It reflects a primary goal that many computer animators have for certain components of the animations they produce.\n",
       "\n",
       "B.\n",
       "\n",
       "It represents a concern of computer animators who are more interested in creating unique backgrounds and lighting effects than realistic ones.\n",
       "\n",
       "C.\n",
       "\n",
       "It conveys the uncertainty among many computer animators about how to create realistic animations using current technology.\n",
       "\n",
       "D.\n",
       "\n",
       "It illustrates a reaction that audiences typically have to the appearance of characters created by computer animators."
      ],
      "text/plain": [
       "<IPython.core.display.Markdown object>"
      ]
     },
     "execution_count": 19,
     "metadata": {},
     "output_type": "execute_result"
    }
   ],
   "source": [
    "from markdownify import markdownify as md \n",
    "\n",
    "def sanitize(text):\n",
    "    return md(text.replace(\"<u>\", \"[Underlined]\").replace(\"</u>\", \"[End]\"))\n",
    "\n",
    "rich_question = {\n",
    "    \"question\": sanitize(\"\"\"\n",
    "<p><span role=\"region\" aria-label=\"Referenced Content\"><u>&ldquo;How lifelike are they?&rdquo;</u></span> Many computer animators prioritize this question as they strive to create ever more realistic environments and lighting. Generally, while characters in computer-animated films appear highly exaggerated, environments and lighting are carefully engineered to mimic reality. But some animators, such as Pixar&rsquo;s Sanjay Patel, are focused on a different question. Rather than asking first whether the environments and lighting they&rsquo;re creating are convincingly lifelike, Patel and others are asking whether these elements reflect their films&rsquo; unique stories.</p>\n",
    "\n",
    "<p>Which choice best describes the function of the underlined question in the text as a whole?</p>\n",
    "\n",
    "A. <p>It reflects a primary goal that many computer animators have for certain components of the animations they produce.</p>\n",
    "B. <p>It represents a concern of computer animators who are more interested in creating unique backgrounds and lighting effects than realistic ones.</p>\n",
    "C. <p>It conveys the uncertainty among many computer animators about how to create realistic animations using current technology.</p>\n",
    "D. <p>It illustrates a reaction that audiences typically have to the appearance of characters created by computer animators.</p>\n",
    "    \"\"\"),\n",
    "    \"rationale\": sanitize(\"\"\"\n",
    "<p>Choice A is the best answer because it most accurately describes the function of the underlined question in the text as a whole. The text begins with the underlined question, &ldquo;How lifelike are they?&rdquo; The text then explains that many computer animators pose this question about the environments and lighting that they create for animated films, striving for realistic animation of those components even if the characters themselves aren&rsquo;t portrayed in realistic terms. The focus of the text then shifts to describe how some animators strive to create environments and lighting that reflect the film&rsquo;s unique stories rather than making them appear realistic. Therefore, the function of the underlined question is to reflect a primary goal that many computer animators have for certain components of the animations they produce. </p><p>Choice B is incorrect because, as the text makes clear, the underlined question is one posed by computer animators who wish to create realistic backgrounds and lighting effects, not by those who, instead, wish to create effects that reflect films&rsquo; unique stories and aren&rsquo;t necessarily realistic; this latter group of animators is discussed later in the text. Choice C is incorrect. As the text explains, many computer animators strive for realistic environments and lighting, while others do not; this difference of approach relates to whether these components should be realistic, not to how realism can be achieved using current technology, and the text never suggests that animators are uncertain how to achieve it. Choice D is incorrect because the underlined question pertains to the perspective of computer animators, not the audience, and the text never considers audience&rsquo;s reactions to characters in animated films. </p>\n",
    "    \"\"\"),\n",
    "    \"user_choice\": \"C\",\n",
    "    \"user_rationale\": \"why is it not C? Aren't they asking the question because they are uncertain about it?\",\n",
    "}\n",
    "\n",
    "Markdown(rich_question[\"question\"])"
   ]
  },
  {
   "cell_type": "markdown",
   "id": "a51ab34c",
   "metadata": {
    "papermill": {
     "duration": 0.017744,
     "end_time": "2025-04-18T23:32:23.217421",
     "exception": false,
     "start_time": "2025-04-18T23:32:23.199677",
     "status": "completed"
    },
    "tags": []
   },
   "source": [
    "Perhaps in this scenario, \"good enough\" gets the job done.\n",
    "\n",
    "# Multiple Reasoning Capabilities using Tree of Thoughts (ToT)\n",
    "To understand questions better, the debate-style approach may not suffice; multiple, parallel thinking processes may be necessary for the user to truly grasp the problem with their current reasoning. This approach is less time consuming and may help the user better than walking through and typing their own rationale. Tree of Thoughts (ToT) is a technique for the agent to use multiple processes to approach the relevant answer for the user. The agent will **have to** output in JSON so that the user's screen can be separated and decluttered."
   ]
  },
  {
   "cell_type": "code",
   "execution_count": 20,
   "id": "99dacb4e",
   "metadata": {
    "execution": {
     "iopub.execute_input": "2025-04-18T23:32:23.254672Z",
     "iopub.status.busy": "2025-04-18T23:32:23.254124Z",
     "iopub.status.idle": "2025-04-18T23:32:31.327100Z",
     "shell.execute_reply": "2025-04-18T23:32:31.326144Z"
    },
    "papermill": {
     "duration": 8.093688,
     "end_time": "2025-04-18T23:32:31.328528",
     "exception": false,
     "start_time": "2025-04-18T23:32:23.234840",
     "status": "completed"
    },
    "tags": []
   },
   "outputs": [
    {
     "data": {
      "text/markdown": [
       "Okay, here are a few prompt variations designed to elicit structured thinking processes for error analysis, building upon the output of a previous agent that contrasted arguments for the user's answer and the correct answer.\n",
       "\n",
       "**Prompt 1: Focus on Error Type Identification**\n",
       "\n",
       "```text\n",
       "You are an expert SAT tutor analyzing a student's mistake on an SAT question. You will be given the question, the official rationale, the student's answer and rationale, and an analysis comparing arguments for the correct and user's answers.\n",
       "\n",
       "Based on this information, identify and decompose the potential thought processes that could have led the student to their incorrect answer and the correct answer. For each distinct thought process, clearly outline the steps involved. Determine whether each thought process leads to the user's answer or the correct answer.\n",
       "\n",
       "Output the results in the following JSON format:\n",
       "\n",
       "```json\n",
       "[\n",
       "    {\n",
       "        \"thinking_process\": \"[Here you will define a process step by step to get one of the answers]\",\n",
       "        \"leads_to\": \"user\" | \"correct\"\n",
       "    },\n",
       "    {\n",
       "        \"thinking_process\": \"[Here you will define another process step by step to get one of the answers]\",\n",
       "        \"leads_to\": \"user\" | \"correct\"\n",
       "    },\n",
       "    {\n",
       "        \"thinking_process\": \"[Include as many of these as possible!]\",\n",
       "        \"leads_to\": \"user\" | \"correct\"\n",
       "    },\n",
       "]\n",
       "```\n",
       "\n",
       "Here's the question, rationale, user response, and previous agent's analysis:\n",
       "\n",
       "**Question:** [Insert Question Here]\n",
       "**Rationale:** [Insert Rationale Here]\n",
       "**User Response:**\n",
       "- Answer: [Insert User Answer Here]\n",
       "- User Rationale: [Insert User Rationale Here]\n",
       "**Previous Agent's Analysis:** [Insert Previous Agent's Analysis Here]\n",
       "```\n",
       "\n",
       "**Prompt 2: Focus on Identifying Misconceptions**\n",
       "\n",
       "```text\n",
       "You are an expert SAT tutor tasked with diagnosing the underlying misconceptions that led a student to answer an SAT question incorrectly. You will be given the question, the official rationale, the student's answer and rationale, and an analysis comparing arguments for the correct and user's answers.\n",
       "\n",
       "Identify the flawed assumptions, misunderstandings of concepts, or misapplications of rules that could have resulted in the student selecting their answer. Also, identify the correct assumptions that result in the correct answer. Decompose the thought process step by step. Determine whether each thought process leads to the user's answer or the correct answer.\n",
       "\n",
       "Output the results in the following JSON format:\n",
       "\n",
       "```json\n",
       "[\n",
       "    {\n",
       "        \"thinking_process\": \"[Here you will define a process step by step to get one of the answers]\",\n",
       "        \"leads_to\": \"user\" | \"correct\"\n",
       "    },\n",
       "    {\n",
       "        \"thinking_process\": \"[Here you will define another process step by step to get one of the answers]\",\n",
       "        \"leads_to\": \"user\" | \"correct\"\n",
       "    },\n",
       "    {\n",
       "        \"thinking_process\": \"[Include as many of these as possible!]\",\n",
       "        \"leads_to\": \"user\" | \"correct\"\n",
       "    },\n",
       "]\n",
       "```\n",
       "\n",
       "Here's the question, rationale, user response, and previous agent's analysis:\n",
       "\n",
       "**Question:** [Insert Question Here]\n",
       "**Rationale:** [Insert Rationale Here]\n",
       "**User Response:**\n",
       "- Answer: [Insert User Answer Here]\n",
       "- User Rationale: [Insert User Rationale Here]\n",
       "**Previous Agent's Analysis:** [Insert Previous Agent's Analysis Here]\n",
       "```\n",
       "\n",
       "**Prompt 3: Focus on Strategy and Process Breakdown**\n",
       "\n",
       "```text\n",
       "You are an expert SAT tutor examining the problem-solving strategies employed by a student on an SAT question. You will be given the question, the official rationale, the student's answer and rationale, and an analysis comparing arguments for the correct and user's answers.\n",
       "\n",
       "Analyze the different approaches a student might take when attempting to solve this problem. Detail the steps involved in each approach, including the order in which they might be performed. Identify what each process leads to.\n",
       "\n",
       "Output the results in the following JSON format:\n",
       "\n",
       "```json\n",
       "[\n",
       "    {\n",
       "        \"thinking_process\": \"[Here you will define a process step by step to get one of the answers]\",\n",
       "        \"leads_to\": \"user\" | \"correct\"\n",
       "    },\n",
       "    {\n",
       "        \"thinking_process\": \"[Here you will define another process step by step to get one of the answers]\",\n",
       "        \"leads_to\": \"user\" | \"correct\"\n",
       "    },\n",
       "    {\n",
       "        \"thinking_process\": \"[Include as many of these as possible!]\",\n",
       "        \"leads_to\": \"user\" | \"correct\"\n",
       "    },\n",
       "]\n",
       "```\n",
       "\n",
       "Here's the question, rationale, user response, and previous agent's analysis:\n",
       "\n",
       "**Question:** [Insert Question Here]\n",
       "**Rationale:** [Insert Rationale Here]\n",
       "**User Response:**\n",
       "- Answer: [Insert User Answer Here]\n",
       "- User Rationale: [Insert User Rationale Here]\n",
       "**Previous Agent's Analysis:** [Insert Previous Agent's Analysis Here]\n",
       "```\n",
       "\n",
       "**Prompt 4: Focus on Counterarguments and Alternative Approaches**\n",
       "\n",
       "```text\n",
       "You are an expert SAT tutor analyzing a student's mistake on an SAT question. You will be given the question, the official rationale, the student's answer and rationale, and an analysis comparing arguments for the correct and user's answers.\n",
       "\n",
       "Based on this information, for both the correct answer and the user's answer, construct a step-by-step thought process a student might have used to arrive at that answer. Critically assess the validity of each step and identify potential points of deviation or alternative approaches. Determine whether each thought process leads to the user's answer or the correct answer.\n",
       "\n",
       "Output the results in the following JSON format:\n",
       "\n",
       "```json\n",
       "[\n",
       "    {\n",
       "        \"thinking_process\": \"[Here you will define a process step by step to get one of the answers]\",\n",
       "        \"leads_to\": \"user\" | \"correct\"\n",
       "    },\n",
       "    {\n",
       "        \"thinking_process\": \"[Here you will define another process step by step to get one of the answers]\",\n",
       "        \"leads_to\": \"user\" | \"correct\"\n",
       "    },\n",
       "    {\n",
       "        \"thinking_process\": \"[Include as many of these as possible!]\",\n",
       "        \"leads_to\": \"user\" | \"correct\"\n",
       "    },\n",
       "]\n",
       "```\n",
       "\n",
       "Here's the question, rationale, user response, and previous agent's analysis:\n",
       "\n",
       "**Question:** [Insert Question Here]\n",
       "**Rationale:** [Insert Rationale Here]\n",
       "**User Response:**\n",
       "- Answer: [Insert User Answer Here]\n",
       "- User Rationale: [Insert User Rationale Here]\n",
       "**Previous Agent's Analysis:** [Insert Previous Agent's Analysis Here]\n",
       "```\n",
       "\n",
       "**Key Considerations for all prompts:**\n",
       "\n",
       "*   **Clarity and Specificity:** Ensure the instructions are unambiguous and explicitly state the desired output format.\n",
       "*   **Contextual Awareness:** Emphasize the importance of considering the provided question, rationale, user response, and the previous agent's analysis.\n",
       "*   **Step-by-Step Detail:** Encourage the model to provide granular, step-by-step breakdowns of the thinking processes.\n",
       "*   **Comprehensive Analysis:** Prompt the model to identify as many distinct and logical thought processes as possible.\n",
       "*   **\"Leads_to\" accuracy:** Ensure that the correct option is only mapped to a thought process that leads to the correct answer and vise versa for the user.\n"
      ],
      "text/plain": [
       "<IPython.core.display.Markdown object>"
      ]
     },
     "execution_count": 20,
     "metadata": {},
     "output_type": "execute_result"
    }
   ],
   "source": [
    "response = client.models.generate_content(\n",
    "    model=\"gemini-2.0-flash-001\",\n",
    "    # no specs yet\n",
    "    contents=f\"\"\"\n",
    "**Objective**: Create SAT-focused prompt variations that generate multiple structured thinking processes for error analysis.\n",
    "                \n",
    "**Requirements for the agent that you will create a prompt for**:\n",
    "1. The model you are creating a prompt for will analyze: \n",
    "   - Current SAT question\n",
    "   - Official rationale\n",
    "   - User's answer + rationale\n",
    "2. Must output in the following format:\n",
    "```json\n",
    "[\n",
    "    {{\n",
    "        \"thinking_process\": \"[Here you will define a process step by step to get one of the answers]\",\n",
    "        \"leads_to\": \"user\" | \"correct\"\n",
    "    }},\n",
    "    {{\n",
    "        \"thinking_process\": \"[Here you will define another process step by step to get one of the answers]\",\n",
    "        \"leads_to\": \"user\" | \"correct\"\n",
    "    }},\n",
    "    {{\n",
    "        \"thinking_process\": \"[Include as many of these as possible!]\",\n",
    "        \"leads_to\": \"user\" | \"correct\"\n",
    "    }},\n",
    "]\n",
    "```\n",
    "\n",
    "3. There will be a model before you that contrasts an argument in favor of the user's answer with an argument for the actual answer.\n",
    "You will be given that output. Create a prompt such that this model will build upon it.\n",
    "\n",
    "The model may not include anything outside the JSON.\n",
    "\n",
    "\\\"leads_to\\\" represents that it leads to the users answer or the \\\"correct\\\" answer. There are no other options.\n",
    "\n",
    "Example question your model may receive:\n",
    "\n",
    "Question:\n",
    "{question['question']}\n",
    "\n",
    "Rationale:\n",
    "{question['rationale']}\n",
    "\n",
    "User Response:\n",
    "- Answer: {question['user_answer']}\n",
    "- User Rationale: {question['user_rationale']}\n",
    "\n",
    "Sample Response from the Previous Agent (not related to the question):\n",
    "{sample_rich_answer}.\n",
    "\n",
    "Don't generate any code. Just generate multiple creative but logical prompts we can use to make an AI for this\n",
    "              \"\"\",\n",
    "    config=GenerateContentConfig(\n",
    "        system_instruction=[\n",
    "            \"You are a prompt engineer's assistant. Help the prompt engineer generate some prompts for his AI-powered SAT learning platform called Aquarc. The platform currently holds an SAT question bank with over 5000 questions and tracks which questions you get wrong per category. While this feature is helpful it lacks the intelligence necessary to be a full fledged SAT platform\",\n",
    "        ],\n",
    "        temperature=0.7,\n",
    "        top_k=7,\n",
    "    ),\n",
    ")\n",
    "\n",
    "Markdown(response.text)"
   ]
  },
  {
   "cell_type": "markdown",
   "id": "c1bee29e",
   "metadata": {
    "papermill": {
     "duration": 0.017172,
     "end_time": "2025-04-18T23:32:31.363523",
     "exception": false,
     "start_time": "2025-04-18T23:32:31.346351",
     "status": "completed"
    },
    "tags": []
   },
   "source": [
    "Here I've picked the 5 best and most creative prompts to evaluate:"
   ]
  },
  {
   "cell_type": "code",
   "execution_count": 21,
   "id": "4395f532",
   "metadata": {
    "execution": {
     "iopub.execute_input": "2025-04-18T23:32:31.400938Z",
     "iopub.status.busy": "2025-04-18T23:32:31.400600Z",
     "iopub.status.idle": "2025-04-18T23:32:31.407593Z",
     "shell.execute_reply": "2025-04-18T23:32:31.406379Z"
    },
    "papermill": {
     "duration": 0.027047,
     "end_time": "2025-04-18T23:32:31.409123",
     "exception": false,
     "start_time": "2025-04-18T23:32:31.382076",
     "status": "completed"
    },
    "tags": []
   },
   "outputs": [],
   "source": [
    "prompts = [ \n",
    "    {\n",
    "        \"prompt\": \"\"\"\n",
    "You are an expert SAT tutor analyzing a student's mistake on an SAT question. You are provided with:\n",
    "\n",
    "1.  The SAT question, including the text, answer choices, and the correct answer.\n",
    "2.  The official rationale for the correct answer and why the other choices are incorrect.\n",
    "3.  The student's chosen answer and their rationale for choosing that answer.\n",
    "4.  An argument contrasting the user's answer with the correct answer.\n",
    "\n",
    "Based on this information, identify the potential thinking processes that could have led the student to their incorrect answer, as well as the thinking process for the correct answer. Focus on common SAT error patterns (e.g., misreading the question, applying incorrect grammar rules, making unwarranted assumptions, etc.).\n",
    "\n",
    "Output a JSON array of objects. Each object represents a distinct thinking process and whether it leads to the user's answer or the correct answer. Include as many plausible thinking processes as possible, even if they seem obvious.\n",
    "\n",
    "Format:\n",
    "```json\n",
    "[\n",
    "    {\n",
    "        \"thinking_process\": \"[Here you will define a process step by step to get one of the answers]\",\n",
    "        \"leads_to\": \"user\" | \"correct\"\n",
    "    },\n",
    "    {\n",
    "        \"thinking_process\": \"[Here you will define another process step by step to get one of the answers]\",\n",
    "        \"leads_to\": \"user\" | \"correct\"\n",
    "    },\n",
    "    {\n",
    "        \"thinking_process\": \"[Include as many of these as possible!]\",\n",
    "        \"leads_to\": \"user\" | \"correct\"\n",
    "    },\n",
    "]\n",
    "```\n",
    "Leading to \"user\" indicates that it leads to the incorrect answer, the one the user picked. For each \"correct\" thinking process path, there should be one \"user\" path that leads to the user answer but refutes why the user is wrong.\n",
    "Be detailed in your thinking process, but don't say more that is necessary. If you feel more sentences are needed for precision then add some. But some won't need that many and some will need few.\n",
    "        \"\"\",\n",
    "        \"avg_score\": 0.0,\n",
    "    },\n",
    "    {\n",
    "        \"prompt\": \"\"\"\n",
    "You are an expert SAT tutor analyzing a student's mistake on an SAT question. You are provided with:\n",
    "\n",
    "1. The SAT question, including the text, answer choices, and the correct answer.\n",
    "2. The official rationale for the correct answer and why the other choices are incorrect.\n",
    "3. The student's chosen answer and their rationale for choosing that answer.\n",
    "4. An argument contrasting the user's answer with the correct answer.\n",
    "\n",
    "Deconstruct the official rationale and the student's rationale. Identify the key assumptions, logical steps, and potential misunderstandings in each. Then, reconstruct different thinking processes – both correct and incorrect – that could lead to each answer choice. Be detailed and explicit in each step.\n",
    "\n",
    "Output a JSON array of objects. Each object represents a distinct thinking process and whether it leads to the user's answer or the correct answer. Include as many plausible thinking processes as possible, even if they seem obvious.\n",
    "\n",
    "Format:\n",
    "```json\n",
    "[\n",
    "    {\n",
    "        \"thinking_process\": \"[Here you will define a process step by step to get one of the answers]\",\n",
    "        \"leads_to\": \"user\" | \"correct\"\n",
    "    },\n",
    "    {\n",
    "        \"thinking_process\": \"[Here you will define another process step by step to get one of the answers]\",\n",
    "        \"leads_to\": \"user\" | \"correct\"\n",
    "    },\n",
    "    {\n",
    "        \"thinking_process\": \"[Include as many of these as possible!]\",\n",
    "        \"leads_to\": \"user\" | \"correct\"\n",
    "    },\n",
    "]\n",
    "```\n",
    "Leading to \"user\" indicates that it leads to the incorrect answer, the one the user picked. For each \"correct\" thinking process path, there should be one \"user\" path that leads to the user answer but refutes why the user is wrong.\n",
    "Be detailed in your thinking process, but don't say more that is necessary. If you feel more sentences are needed for precision then add some. But some won't need that many and some will need few.\n",
    "        \"\"\",\n",
    "        \"avg_score\": 0.0,\n",
    "    },\n",
    "    {\n",
    "        \"prompt\" : \"\"\"\n",
    "You are an expert SAT tutor analyzing a student's mistake on an SAT question. You are provided with:\n",
    "\n",
    "1. The SAT question, including the text, answer choices, and the correct answer.\n",
    "2. The official rationale for the correct answer and why the other choices are incorrect.\n",
    "3. The student's chosen answer and their rationale for choosing that answer.\n",
    "4. An argument contrasting the user's answer with the correct answer.\n",
    "\n",
    "Consider potential cognitive biases (e.g., confirmation bias, anchoring bias, availability heuristic) that might have influenced the student's decision-making process. Develop multiple step-by-step thinking processes that incorporate these biases, leading to both the student's answer and the correct answer.\n",
    "\n",
    "Output a JSON array of objects. Each object represents a distinct thinking process and whether it leads to the user's answer or the correct answer. Include as many plausible thinking processes as possible, even if they seem obvious.\n",
    "\n",
    "Format:\n",
    "```json\n",
    "[\n",
    "    {\n",
    "        \"thinking_process\": \"[Here you will define a process step by step to get one of the answers]\",\n",
    "        \"leads_to\": \"user\" | \"correct\"\n",
    "    },\n",
    "    {\n",
    "        \"thinking_process\": \"[Here you will define another process step by step to get one of the answers]\",\n",
    "        \"leads_to\": \"user\" | \"correct\"\n",
    "    },\n",
    "    {\n",
    "        \"thinking_process\": \"[Include as many of these as possible!]\",\n",
    "        \"leads_to\": \"user\" | \"correct\"\n",
    "    },\n",
    "]\n",
    "```\n",
    "Leading to \"user\" indicates that it leads to the incorrect answer, the one the user picked. For each \"correct\" thinking process path, there should be one \"user\" path that leads to the user answer but refutes why the user is wrong.\n",
    "Be detailed in your thinking process, but don't say more that is necessary. If you feel more sentences are needed for precision then add some. But some won't need that many and some will need few.\n",
    "        \"\"\",\n",
    "        \"avg_score\": 0.0,\n",
    "    },\n",
    "    {\n",
    "        \"prompt\": \"\"\"\n",
    "You are an expert SAT tutor analyzing a student's mistake on an SAT question. You are provided with:\n",
    "\n",
    "1. The SAT question, including the text, answer choices, and the correct answer.\n",
    "2. The official rationale for the correct answer and why the other choices are incorrect.\n",
    "3. The student's chosen answer and their rationale for choosing that answer.\n",
    "4. An argument contrasting the user's answer with the correct answer.\n",
    "\n",
    "Elaborate on multiple potential \"chains of thought\" a student might follow when approaching the question. Some chains should lead to the correct answer, while others should lead to the student's incorrect answer. Make each step in the chain explicit and easy to follow.\n",
    "\n",
    "Output a JSON array of objects. Each object represents a distinct thinking process and whether it leads to the user's answer or the correct answer. Include as many plausible thinking processes as possible, even if they seem obvious.\n",
    "\n",
    "Format:\n",
    "```json\n",
    "[\n",
    "    {\n",
    "        \"thinking_process\": \"[Here you will define a process step by step to get one of the answers]\",\n",
    "        \"leads_to\": \"user\" | \"correct\"\n",
    "    },\n",
    "    {\n",
    "        \"thinking_process\": \"[Here you will define another process step by step to get one of the answers]\",\n",
    "        \"leads_to\": \"user\" | \"correct\"\n",
    "    },\n",
    "    {\n",
    "        \"thinking_process\": \"[Include as many of these as possible!]\",\n",
    "        \"leads_to\": \"user\" | \"correct\"\n",
    "    },\n",
    "]\n",
    "```\n",
    "Leading to \"user\" indicates that it leads to the incorrect answer, the one the user picked. For each \"correct\" thinking process path, there should be one \"user\" path that leads to the user answer but refutes why the user is wrong.\n",
    "Be detailed in your thinking process, but don't say more that is necessary. If you feel more sentences are needed for precision then add some. But some won't need that many and some will need few.\n",
    "        \"\"\",\n",
    "        \"avg_score\": 0.0,\n",
    "    },\n",
    "    { \n",
    "        \"prompt\": \"\"\"\n",
    "You are an expert SAT tutor analyzing a student's mistake on an SAT question. You are provided with:\n",
    "\n",
    "    The SAT question, including the text, answer choices, and the correct answer.\n",
    "    The official rationale for the correct answer and why the other choices are incorrect.\n",
    "    The student's chosen answer and their rationale for choosing that answer.\n",
    "    An argument contrasting the user's answer with the correct answer.\n",
    "\n",
    "Synthesize multiple approaches to analyze the student's error. Consider:\n",
    "\n",
    "1. Common SAT error patterns.\n",
    "2. Deconstruction of the official and student rationales.\n",
    "3. Potential cognitive biases.\n",
    "4. Detailed chains of thought.\n",
    "\n",
    "Develop as many distinct, step-by-step thinking processes as possible that could lead to each answer choice (both the student's and the correct one). Be exhaustive in your analysis.\n",
    "\n",
    "Output a JSON array of objects. Each object represents a distinct thinking process and whether it leads to the user's answer or the correct answer. Include as many plausible thinking processes as possible, even if they seem obvious.\n",
    "\n",
    "Format:\n",
    "```json\n",
    "[\n",
    "    {\n",
    "        \"thinking_process\": \"[Here you will define a process step by step to get one of the answers]\",\n",
    "        \"leads_to\": \"user\" | \"correct\"\n",
    "    },\n",
    "    {\n",
    "        \"thinking_process\": \"[Here you will define another process step by step to get one of the answers]\",\n",
    "        \"leads_to\": \"user\" | \"correct\"\n",
    "    },\n",
    "    {\n",
    "        \"thinking_process\": \"[Include as many of these as possible!]\",\n",
    "        \"leads_to\": \"user\" | \"correct\"\n",
    "    },\n",
    "]\n",
    "```\n",
    "Leading to \"user\" indicates that it leads to the incorrect answer, the one the user picked. For each \"correct\" thinking process path, there should be one \"user\" path that leads to the user answer but refutes why the user is wrong.\n",
    "Be detailed in your thinking process, but don't say more that is necessary. If you feel more sentences are needed for precision then add some. But some won't need that many and some will need few.\n",
    "\n",
    "        \"\"\",\n",
    "        \"avg_score\": 0.0,\n",
    "    },\n",
    "]"
   ]
  },
  {
   "cell_type": "markdown",
   "id": "fced14db",
   "metadata": {
    "papermill": {
     "duration": 0.017772,
     "end_time": "2025-04-18T23:32:31.445484",
     "exception": false,
     "start_time": "2025-04-18T23:32:31.427712",
     "status": "completed"
    },
    "tags": []
   },
   "source": [
    "## Evaluation of ToT Prompts\n",
    "\n",
    "Evaluate the ToT prompts against each other:"
   ]
  },
  {
   "cell_type": "code",
   "execution_count": 22,
   "id": "e4b505ab",
   "metadata": {
    "execution": {
     "iopub.execute_input": "2025-04-18T23:32:31.481816Z",
     "iopub.status.busy": "2025-04-18T23:32:31.481520Z",
     "iopub.status.idle": "2025-04-18T23:32:31.485721Z",
     "shell.execute_reply": "2025-04-18T23:32:31.484808Z"
    },
    "papermill": {
     "duration": 0.024433,
     "end_time": "2025-04-18T23:32:31.487381",
     "exception": false,
     "start_time": "2025-04-18T23:32:31.462948",
     "status": "completed"
    },
    "tags": []
   },
   "outputs": [],
   "source": [
    "# Define the evaluation prompt\n",
    "EVAL_PROMPT = \"\"\"\n",
    "# Instruction\n",
    "Evaluate the AI’s analysis of a student’s SAT error. Focus on how well it explains why the correct answer is textually supported and why the user’s answer is incorrect.\n",
    "This analysis is intended to build upon a previous debate style analysis where the user is presented upon a pro/con argument for their answer. These prompts will be used in the agent for when the user wants more clarity and multiple thinking processes.\n",
    "\n",
    "# Evaluation\n",
    "## **Metric Definition**\n",
    "Assess the **accuracy**, **completeness**, **groundedness**, and **clarity** of the response. The AI must:\n",
    "1. Correctly identify textual evidence for the correct answer.\n",
    "2. Explain flaws in the user’s answer (and their rationale, if provided).\n",
    "3. Follow the prompt’s instructions precisely.\n",
    "4. Really help the user understand why they were wrong by looking at how other people can mess up / how they potentially messed up.\n",
    "\n",
    "\n",
    "## **Criteria**  \n",
    "1. **Instructional Creativity**:  \n",
    "   - Does the creative approach (e.g., debate, step-by-step analysis) **enhance understanding** of why the correct answer is textually supported?  \n",
    "   - Does it **strategically use the prompt’s structure** (e.g., arguments for/against) to highlight key SAT skills like evidence analysis or assumption identification?  \n",
    "\n",
    "2. **Educational Effectiveness**:  \n",
    "   - Does the creativity **directly serve the learning goal** (e.g., clarifying misconceptions, modeling SAT logic), or is it merely ornamental?  \n",
    "   - Does it **engage the learner** while maintaining rigor (e.g., making complex reasoning more accessible)?  \n",
    "\n",
    "## **Revised Rating Rubric**  \n",
    "- **5 (Excellent)**:  \n",
    "  - Creative structure (e.g., debate) **directly reinforces** why the correct answer is superior.  \n",
    "  - Uses the format to **explicitly contrast** the user’s error with textual evidence (e.g., “The strongest argument *for* the user’s answer is X, but the text contradicts this because Y”).  \n",
    "  - Balances creativity with precision and clarity.  \n",
    "\n",
    "- **4 (Good)**:  \n",
    "  - Creative approach is **mostly effective** but slightly misses opportunities to deepen understanding (e.g., lists arguments but doesn’t explicitly tie them to SAT skills).  \n",
    "  - Minor clarity issues in linking creativity to the text.  \n",
    "\n",
    "- **3 (Adequate)**:  \n",
    "  - Creativity **distracts** slightly from the core analysis (e.g., overemphasizes hypothetical arguments without grounding in the text).  \n",
    "  - Fails to fully leverage the creative structure to address the user’s error.  \n",
    "\n",
    "- **2 (Poor)**:  \n",
    "  - Creative format **obscures key points** (e.g., hypothetical arguments misrepresent the text).  \n",
    "  - Prioritizes style over substance; minimal educational value.  \n",
    "\n",
    "- **1 (Very Poor)**:  \n",
    "  - Creativity **undermines accuracy** (e.g., invents textual evidence to support arguments).  \n",
    "\n",
    "## Note\n",
    "This evaluation rubric is purposefully vague, so take that as an opportunity to be strict and make sure the AI is really being useful for users.\n",
    "Be harsh with your feedback, but make sure your feedback is grounded in reality.\n",
    "\n",
    "## Evaluation Steps\n",
    "STEP 1: Assess the response in aspects of instruction following, groundedness, conciseness, and verbosity according to the criteria.\n",
    "STEP 2: Score based on the rubric.\n",
    "\n",
    "# User Inputs and AI-generated Response\n",
    "## User Inputs\n",
    "\n",
    "### Prompt\n",
    "{prompt}\n",
    "\n",
    "## AI-generated Response\n",
    "{response}\n",
    "\"\"\"\n"
   ]
  },
  {
   "cell_type": "markdown",
   "id": "e1ccaa03",
   "metadata": {
    "papermill": {
     "duration": 0.017911,
     "end_time": "2025-04-18T23:32:31.525010",
     "exception": false,
     "start_time": "2025-04-18T23:32:31.507099",
     "status": "completed"
    },
    "tags": []
   },
   "source": [
    "Now for the bulk of the evaluation cycle:"
   ]
  },
  {
   "cell_type": "code",
   "execution_count": 23,
   "id": "e9be8207",
   "metadata": {
    "execution": {
     "iopub.execute_input": "2025-04-18T23:32:31.563555Z",
     "iopub.status.busy": "2025-04-18T23:32:31.563221Z",
     "iopub.status.idle": "2025-04-18T23:33:05.639848Z",
     "shell.execute_reply": "2025-04-18T23:33:05.638865Z"
    },
    "papermill": {
     "duration": 34.115051,
     "end_time": "2025-04-18T23:33:05.659066",
     "exception": false,
     "start_time": "2025-04-18T23:32:31.544015",
     "status": "completed"
    },
    "tags": []
   },
   "outputs": [
    {
     "name": "stdout",
     "output_type": "stream",
     "text": [
      "Iteration 0: SummaryRating.GOOD\n",
      "Prompt:\n",
      "\n",
      "You are an expert SAT tutor analyzing a student's mistake on an SAT question. You are provided with:\n",
      "\n",
      "1.  The SAT question, including the text, answer choices, and the correct answer.\n",
      "2.  The official rationale for the correct answer and why the other choices are incorrect.\n",
      "3.  The student's chosen answer and their rationale for choosing that answer.\n",
      "4.  An argument contrasting the user's answer with the correct answer.\n",
      "\n",
      "Based on this information, identify the potential thinking processes that could have led the student to their incorrect answer, as well as the thinking process for the correct answer. Focus on common SAT error patterns (e.g., misreading the question, applying incorrect grammar rules, making unwarranted assumptions, etc.).\n",
      "\n",
      "Output a JSON array of objects. Each object represents a distinct thinking process and whether it leads to the user's answer or the correct answer. Include as many plausible thinking processes as possible, even if they seem obvious.\n",
      "\n",
      "Format:\n",
      "```json\n",
      "[\n",
      "    {\n",
      "        \"thinking_process\": \"[Here you will define a process step by step to get one of the answers]\",\n",
      "        \"leads_to\": \"user\" | \"correct\"\n",
      "    },\n",
      "    {\n",
      "        \"thinking_process\": \"[Here you will define another process step by step to get one of the answers]\",\n",
      "        \"leads_to\": \"user\" | \"correct\"\n",
      "    },\n",
      "    {\n",
      "        \"thinking_process\": \"[Include as many of these as possible!]\",\n",
      "        \"leads_to\": \"user\" | \"correct\"\n",
      "    },\n",
      "]\n",
      "```\n",
      "Leading to \"user\" indicates that it leads to the incorrect answer, the one the user picked. For each \"correct\" thinking process path, there should be one \"user\" path that leads to the user answer but refutes why the user is wrong.\n",
      "Be detailed in your thinking process, but don't say more that is necessary. If you feel more sentences are needed for precision then add some. But some won't need that many and some will need few.\n",
      "        \n",
      "Score: 4.0\n",
      "\n",
      "\n",
      "Iteration 0: SummaryRating.VERY_GOOD\n",
      "Prompt:\n",
      "\n",
      "You are an expert SAT tutor analyzing a student's mistake on an SAT question. You are provided with:\n",
      "\n",
      "1. The SAT question, including the text, answer choices, and the correct answer.\n",
      "2. The official rationale for the correct answer and why the other choices are incorrect.\n",
      "3. The student's chosen answer and their rationale for choosing that answer.\n",
      "4. An argument contrasting the user's answer with the correct answer.\n",
      "\n",
      "Deconstruct the official rationale and the student's rationale. Identify the key assumptions, logical steps, and potential misunderstandings in each. Then, reconstruct different thinking processes – both correct and incorrect – that could lead to each answer choice. Be detailed and explicit in each step.\n",
      "\n",
      "Output a JSON array of objects. Each object represents a distinct thinking process and whether it leads to the user's answer or the correct answer. Include as many plausible thinking processes as possible, even if they seem obvious.\n",
      "\n",
      "Format:\n",
      "```json\n",
      "[\n",
      "    {\n",
      "        \"thinking_process\": \"[Here you will define a process step by step to get one of the answers]\",\n",
      "        \"leads_to\": \"user\" | \"correct\"\n",
      "    },\n",
      "    {\n",
      "        \"thinking_process\": \"[Here you will define another process step by step to get one of the answers]\",\n",
      "        \"leads_to\": \"user\" | \"correct\"\n",
      "    },\n",
      "    {\n",
      "        \"thinking_process\": \"[Include as many of these as possible!]\",\n",
      "        \"leads_to\": \"user\" | \"correct\"\n",
      "    },\n",
      "]\n",
      "```\n",
      "Leading to \"user\" indicates that it leads to the incorrect answer, the one the user picked. For each \"correct\" thinking process path, there should be one \"user\" path that leads to the user answer but refutes why the user is wrong.\n",
      "Be detailed in your thinking process, but don't say more that is necessary. If you feel more sentences are needed for precision then add some. But some won't need that many and some will need few.\n",
      "        \n",
      "Score: 5.0\n",
      "\n",
      "\n",
      "Iteration 0: SummaryRating.GOOD\n",
      "Prompt:\n",
      "\n",
      "You are an expert SAT tutor analyzing a student's mistake on an SAT question. You are provided with:\n",
      "\n",
      "1. The SAT question, including the text, answer choices, and the correct answer.\n",
      "2. The official rationale for the correct answer and why the other choices are incorrect.\n",
      "3. The student's chosen answer and their rationale for choosing that answer.\n",
      "4. An argument contrasting the user's answer with the correct answer.\n",
      "\n",
      "Consider potential cognitive biases (e.g., confirmation bias, anchoring bias, availability heuristic) that might have influenced the student's decision-making process. Develop multiple step-by-step thinking processes that incorporate these biases, leading to both the student's answer and the correct answer.\n",
      "\n",
      "Output a JSON array of objects. Each object represents a distinct thinking process and whether it leads to the user's answer or the correct answer. Include as many plausible thinking processes as possible, even if they seem obvious.\n",
      "\n",
      "Format:\n",
      "```json\n",
      "[\n",
      "    {\n",
      "        \"thinking_process\": \"[Here you will define a process step by step to get one of the answers]\",\n",
      "        \"leads_to\": \"user\" | \"correct\"\n",
      "    },\n",
      "    {\n",
      "        \"thinking_process\": \"[Here you will define another process step by step to get one of the answers]\",\n",
      "        \"leads_to\": \"user\" | \"correct\"\n",
      "    },\n",
      "    {\n",
      "        \"thinking_process\": \"[Include as many of these as possible!]\",\n",
      "        \"leads_to\": \"user\" | \"correct\"\n",
      "    },\n",
      "]\n",
      "```\n",
      "Leading to \"user\" indicates that it leads to the incorrect answer, the one the user picked. For each \"correct\" thinking process path, there should be one \"user\" path that leads to the user answer but refutes why the user is wrong.\n",
      "Be detailed in your thinking process, but don't say more that is necessary. If you feel more sentences are needed for precision then add some. But some won't need that many and some will need few.\n",
      "        \n",
      "Score: 4.0\n",
      "\n",
      "\n",
      "Iteration 0: SummaryRating.VERY_GOOD\n",
      "Prompt:\n",
      "\n",
      "You are an expert SAT tutor analyzing a student's mistake on an SAT question. You are provided with:\n",
      "\n",
      "1. The SAT question, including the text, answer choices, and the correct answer.\n",
      "2. The official rationale for the correct answer and why the other choices are incorrect.\n",
      "3. The student's chosen answer and their rationale for choosing that answer.\n",
      "4. An argument contrasting the user's answer with the correct answer.\n",
      "\n",
      "Elaborate on multiple potential \"chains of thought\" a student might follow when approaching the question. Some chains should lead to the correct answer, while others should lead to the student's incorrect answer. Make each step in the chain explicit and easy to follow.\n",
      "\n",
      "Output a JSON array of objects. Each object represents a distinct thinking process and whether it leads to the user's answer or the correct answer. Include as many plausible thinking processes as possible, even if they seem obvious.\n",
      "\n",
      "Format:\n",
      "```json\n",
      "[\n",
      "    {\n",
      "        \"thinking_process\": \"[Here you will define a process step by step to get one of the answers]\",\n",
      "        \"leads_to\": \"user\" | \"correct\"\n",
      "    },\n",
      "    {\n",
      "        \"thinking_process\": \"[Here you will define another process step by step to get one of the answers]\",\n",
      "        \"leads_to\": \"user\" | \"correct\"\n",
      "    },\n",
      "    {\n",
      "        \"thinking_process\": \"[Include as many of these as possible!]\",\n",
      "        \"leads_to\": \"user\" | \"correct\"\n",
      "    },\n",
      "]\n",
      "```\n",
      "Leading to \"user\" indicates that it leads to the incorrect answer, the one the user picked. For each \"correct\" thinking process path, there should be one \"user\" path that leads to the user answer but refutes why the user is wrong.\n",
      "Be detailed in your thinking process, but don't say more that is necessary. If you feel more sentences are needed for precision then add some. But some won't need that many and some will need few.\n",
      "        \n",
      "Score: 5.0\n",
      "\n",
      "\n",
      "Iteration 0: SummaryRating.GOOD\n",
      "Prompt:\n",
      "\n",
      "You are an expert SAT tutor analyzing a student's mistake on an SAT question. You are provided with:\n",
      "\n",
      "    The SAT question, including the text, answer choices, and the correct answer.\n",
      "    The official rationale for the correct answer and why the other choices are incorrect.\n",
      "    The student's chosen answer and their rationale for choosing that answer.\n",
      "    An argument contrasting the user's answer with the correct answer.\n",
      "\n",
      "Synthesize multiple approaches to analyze the student's error. Consider:\n",
      "\n",
      "1. Common SAT error patterns.\n",
      "2. Deconstruction of the official and student rationales.\n",
      "3. Potential cognitive biases.\n",
      "4. Detailed chains of thought.\n",
      "\n",
      "Develop as many distinct, step-by-step thinking processes as possible that could lead to each answer choice (both the student's and the correct one). Be exhaustive in your analysis.\n",
      "\n",
      "Output a JSON array of objects. Each object represents a distinct thinking process and whether it leads to the user's answer or the correct answer. Include as many plausible thinking processes as possible, even if they seem obvious.\n",
      "\n",
      "Format:\n",
      "```json\n",
      "[\n",
      "    {\n",
      "        \"thinking_process\": \"[Here you will define a process step by step to get one of the answers]\",\n",
      "        \"leads_to\": \"user\" | \"correct\"\n",
      "    },\n",
      "    {\n",
      "        \"thinking_process\": \"[Here you will define another process step by step to get one of the answers]\",\n",
      "        \"leads_to\": \"user\" | \"correct\"\n",
      "    },\n",
      "    {\n",
      "        \"thinking_process\": \"[Include as many of these as possible!]\",\n",
      "        \"leads_to\": \"user\" | \"correct\"\n",
      "    },\n",
      "]\n",
      "```\n",
      "Leading to \"user\" indicates that it leads to the incorrect answer, the one the user picked. For each \"correct\" thinking process path, there should be one \"user\" path that leads to the user answer but refutes why the user is wrong.\n",
      "Be detailed in your thinking process, but don't say more that is necessary. If you feel more sentences are needed for precision then add some. But some won't need that many and some will need few.\n",
      "\n",
      "        \n",
      "Score: 4.0\n",
      "\n",
      "\n"
     ]
    }
   ],
   "source": [
    "# TODO: maybe share context so the LLM can compare different outputs against its own rating to be more accurate perhaps?\n",
    "\n",
    "#NUM_ITERATIONS = 8\n",
    "NUM_ITERATIONS=1\n",
    "\n",
    "with open(\"/kaggle/working/totpromptlogs.txt\", \"a\") as logs:\n",
    "    \n",
    "    for prompt in prompts:\n",
    "        sum = 0\n",
    "        logs.write(f\"Prompt: {prompt}\\n\")\n",
    "    \n",
    "        for question in questions:\n",
    "            logs.write(f\"Question: {question}\\n\")\n",
    "            for i in range(NUM_ITERATIONS):\n",
    "                response = client.models.generate_content(\n",
    "                    model=\"gemini-2.0-flash-001\",\n",
    "                    contents=str(question),\n",
    "                    config=GenerateContentConfig(\n",
    "                        system_instruction=[prompt[\"prompt\"],],\n",
    "                        temperature=0.1,\n",
    "                        response_mime_type=\"application/json\",\n",
    "                        response_schema={\n",
    "  \"title\": \"SAT Analysis Response\",\n",
    "  \"description\": \"Response format for SAT mistake analysis using multiple thinking processes\",\n",
    "  \"type\": \"array\",\n",
    "  \"minItems\": 3,\n",
    "  \"maxItems\": 8,\n",
    "  \"items\": {\n",
    "    \"type\": \"object\",\n",
    "    \"properties\": {\n",
    "      \"thinking_process\": {\n",
    "        \"type\": \"string\",\n",
    "        \"description\": \"Step-by-step explanation of cognitive path leading to an answer choice\",\n",
    "        \"minLength\": 50,\n",
    "        \"maxLength\": 500\n",
    "      },\n",
    "      \"leads_to\": {\n",
    "        \"type\": \"string\",\n",
    "        \"enum\": [\"user\", \"correct\"],\n",
    "        \"description\": \"Indicates whether this thinking process leads to the student's answer or the correct answer\"\n",
    "      }\n",
    "    },\n",
    "    \"required\": [\"thinking_process\", \"leads_to\"],\n",
    "\n",
    "  }\n",
    "                        }\n",
    "                    ),\n",
    "                )\n",
    "\n",
    "                text_eval, struct_eval = eval_summary(prompt=prompt[\"prompt\"], ai_response=response)\n",
    "                print(f\"Iteration {i}: {struct_eval}\")\n",
    "                logs.write(f\"Iteration {i}: {response.text}\\n\\n {text_eval}\\n\")\n",
    "                sum += int(struct_eval.value)\n",
    "\n",
    "        prompt[\"avg_score\"] = sum / (len(questions) * NUM_ITERATIONS)\n",
    "        print(f\"Prompt:\\n{prompt['prompt']}\\nScore: {prompt['avg_score']}\\n\\n\")\n",
    "    \n",
    "        logs.write(\"\\n\\n\")"
   ]
  },
  {
   "cell_type": "markdown",
   "id": "b764385d",
   "metadata": {
    "papermill": {
     "duration": 0.017845,
     "end_time": "2025-04-18T23:33:05.694774",
     "exception": false,
     "start_time": "2025-04-18T23:33:05.676929",
     "status": "completed"
    },
    "tags": []
   },
   "source": [
    "## Future Direction\n",
    "- Multiple questions for improved context and understanding cognitive biases better may be necessary, although further research is needed.\n",
    "- Few shot training may 'anchor' the answers. Human Feedback in the application is necessary to improve it at this point.\n",
    "- It is likely that fine-tuning is necessary to improve the thought process printing. However, this initial test will serve as a good benchmark during usability testing for how we need to meet user expectations."
   ]
  },
  {
   "cell_type": "markdown",
   "id": "4c16e243",
   "metadata": {
    "papermill": {
     "duration": 0.017572,
     "end_time": "2025-04-18T23:33:05.730805",
     "exception": false,
     "start_time": "2025-04-18T23:33:05.713233",
     "status": "completed"
    },
    "tags": []
   },
   "source": [
    "# Semantically Related Question Finder\n",
    "In order to find semantically related questions, we must embed the questions into a vector database and find them and rank them based on similarity. We can use the Hierarchical Navigatable Small World (HNSW) algorithm on aquarc's current pgvector enabled Postgres database.\n",
    "\n",
    "To ensure that this notebook is accessible with minimal setup, this question semantic searcher will first be created locally using ChromaDB to simulate real world question conditions and screenshots will be included of deployment using pgvector.\n",
    "\n",
    "First let's find a suitable encoder model."
   ]
  },
  {
   "cell_type": "code",
   "execution_count": 24,
   "id": "fa48cf79",
   "metadata": {
    "execution": {
     "iopub.execute_input": "2025-04-18T23:33:05.768525Z",
     "iopub.status.busy": "2025-04-18T23:33:05.768174Z",
     "iopub.status.idle": "2025-04-18T23:33:05.937454Z",
     "shell.execute_reply": "2025-04-18T23:33:05.936378Z"
    },
    "papermill": {
     "duration": 0.189766,
     "end_time": "2025-04-18T23:33:05.938754",
     "exception": false,
     "start_time": "2025-04-18T23:33:05.748988",
     "status": "completed"
    },
    "tags": []
   },
   "outputs": [
    {
     "name": "stdout",
     "output_type": "stream",
     "text": [
      "models/embedding-001\n",
      "models/text-embedding-004\n",
      "models/gemini-embedding-exp-03-07\n",
      "models/gemini-embedding-exp\n"
     ]
    }
   ],
   "source": [
    "for m in client.models.list():\n",
    "    if \"embedContent\" in m.supported_actions:\n",
    "        print(m.name)"
   ]
  },
  {
   "cell_type": "markdown",
   "id": "8aa0ca29",
   "metadata": {
    "papermill": {
     "duration": 0.017969,
     "end_time": "2025-04-18T23:33:05.974839",
     "exception": false,
     "start_time": "2025-04-18T23:33:05.956870",
     "status": "completed"
    },
    "tags": []
   },
   "source": [
    "We will use `text-embedding-004` to encode the questions into vectors. \n",
    "\n",
    "Create the ChromaDB embedding function using Gemini:"
   ]
  },
  {
   "cell_type": "code",
   "execution_count": 25,
   "id": "47b602dc",
   "metadata": {
    "execution": {
     "iopub.execute_input": "2025-04-18T23:33:06.014201Z",
     "iopub.status.busy": "2025-04-18T23:33:06.013862Z",
     "iopub.status.idle": "2025-04-18T23:33:06.645606Z",
     "shell.execute_reply": "2025-04-18T23:33:06.644610Z"
    },
    "papermill": {
     "duration": 0.654002,
     "end_time": "2025-04-18T23:33:06.647095",
     "exception": false,
     "start_time": "2025-04-18T23:33:05.993093",
     "status": "completed"
    },
    "tags": []
   },
   "outputs": [],
   "source": [
    "from chromadb import Documents, EmbeddingFunction, Embeddings\n",
    "from google.api_core import retry\n",
    "\n",
    "from google.genai import types\n",
    "\n",
    "\n",
    "class GeminiEmbeddingFunction(EmbeddingFunction):\n",
    "    # Specify whether to generate embeddings for documents, or queries\n",
    "    document_mode = True\n",
    "\n",
    "    @retry.Retry(predicate=is_retriable)\n",
    "    def __call__(self, input: Documents) -> Embeddings:\n",
    "        if self.document_mode:\n",
    "            embedding_task = \"retrieval_document\"\n",
    "        else:\n",
    "            embedding_task = \"retrieval_query\"\n",
    "\n",
    "        response = client.models.embed_content(\n",
    "            model=\"models/text-embedding-004\",\n",
    "            contents=input,\n",
    "            config=types.EmbedContentConfig(\n",
    "                task_type=embedding_task,\n",
    "            ),\n",
    "        )\n",
    "        return [e.values for e in response.embeddings]"
   ]
  },
  {
   "cell_type": "markdown",
   "id": "71b21b5e",
   "metadata": {
    "papermill": {
     "duration": 0.01713,
     "end_time": "2025-04-18T23:33:06.682485",
     "exception": false,
     "start_time": "2025-04-18T23:33:06.665355",
     "status": "completed"
    },
    "tags": []
   },
   "source": [
    "## Sample Questions \n",
    "Let us organize some sample questions. We'll use the earlier questions, cleaned and sanitized to the ideal point and work backwards. Because the answer choices are likely to do nothing more than make the questions semantically differ, each question will only have the \"question\" and \"details\" (the context for the question) encoded. "
   ]
  },
  {
   "cell_type": "code",
   "execution_count": 26,
   "id": "15a1686c",
   "metadata": {
    "execution": {
     "iopub.execute_input": "2025-04-18T23:33:06.718640Z",
     "iopub.status.busy": "2025-04-18T23:33:06.718330Z",
     "iopub.status.idle": "2025-04-18T23:33:06.723805Z",
     "shell.execute_reply": "2025-04-18T23:33:06.723006Z"
    },
    "papermill": {
     "duration": 0.024797,
     "end_time": "2025-04-18T23:33:06.725190",
     "exception": false,
     "start_time": "2025-04-18T23:33:06.700393",
     "status": "completed"
    },
    "tags": []
   },
   "outputs": [],
   "source": [
    "# All questions are (c) CollegeBoard 2025.\n",
    "questions = [\n",
    "    {\n",
    "        \"question\": \"\"\"\n",
    "In 1453, English King Henry VI became unfit to rule after falling gravely ill. As a result, Parliament appointed Richard, Third Duke of York, who had a strong claim to the English throne, to rule as Lord Protector. Upon recovering two years later, ______ forcing an angered Richard from the royal court and precipitating a series of battles later known as the Wars of the Roses. \\n\\\n",
    "Which choice completes the text so that it conforms to the conventions of Standard English?\n",
    "        \"\"\",\n",
    "        \"answer_choices\" : \"\"\"\n",
    "A. Henry resumed his reign,\n",
    "B. the reign of Henry resumed,\n",
    "C. Henry’s reign resumed,\n",
    "D. it was Henry who resumed his reign, \n",
    "            \"\"\",\n",
    "        # Notice that the default rationale provided for Choice C doesn't explain it well enough\n",
    "        \"rationale\": \"\"\"\n",
    "Choice A is the best answer. The convention being tested is subject-modifier placement. This choice ensures that the introductory phrase “upon recovering two years later” appears immediately before the noun it modifies (“Henry”), clearly establishing that Henry recovered two years later. \n",
    "Choice B is incorrect because it results in a dangling modifier. The placement of the noun phrase “the reign of Henry” immediately after the introductory phrase illogically suggests that the reign of Henry recovered two years later. \n",
    "Choice C is incorrect because it results in a dangling modifier. The placement of the noun phrase “Henry’s reign” immediately after the introductory phrase illogically suggests that Henry’s reign recovered two years later. \n",
    "Choice D is incorrect because it results in a dangling modifier. The placement of the function word “it” immediately after the introductory phrase illogically suggests that “it” recovered two years later. \n",
    "        \"\"\",\n",
    "        \"user_answer\": \"C\",\n",
    "        \"user_rationale\": \"Isn't the subject that Henry got unfit to rule?\",\n",
    "    },\n",
    "\n",
    "    {\n",
    "        \"question\": \"\"\"\n",
    "A study by a team including finance professor Madhu Veeraraghavan suggests that exposure to sunshine during the workday can lead to overly optimistic behavior. __Using data spanning from 1994 to 2010 for a set of US companies, the team compared over 29,000 annual earnings forecasts to the actual earnings later reported by those companies.__ The team found that the greater the exposure to sunshine at work in the two weeks before a manager submitted an earnings forecast, the more the manager’s forecast exceeded what the company actually earned that year.\n",
    "Which choice best states the function of the underlined sentence in the overall structure of the text? \n",
    "        \"\"\",\n",
    "        \"answer_choices\" : \"\"\"\n",
    "A. To summarize the results of the team’s analysis\n",
    "B. To present a specific example that illustrates the study’s findings\n",
    "C. To explain part of the methodology used in the team’s study\n",
    "D. To call out a challenge the team faced in conducting its analysis\n",
    "            \"\"\",\n",
    "        \"rationale\": \"\"\"\n",
    "Choice C is the best answer because it best describes how the underlined sentence functions in the text as a whole. The first sentence presents the implications of Veeraraghavan’s team’s study: sunshine exposure during work hours can cause overly optimistic behavior. The underlined sentence then describes the data the team consulted and how they were used (comparing predictions about earnings to what the companies actually earned), and the final sentence presents what the team found in their examination of the data. Thus, the underlined sentence mainly functions to explain part of the methodology used in the team’s study. \n",
    "Choice A is incorrect because the underlined sentence explains in part how the team conducted their analysis of the effect of sunshine but doesn’t address what the team found; a broad summary is instead given in the other two sentences. \n",
    "Choice B is incorrect because the underlined sentence doesn’t present any specific examples from the team’s comparisons of 29,000 earnings predictions to actual earnings; it simply explains in part how the team conducted their analysis. \n",
    "Choice D is incorrect because the underlined sentence simply explains in part how the team conducted their analysis; the text never mentions any challenges that the team encountered in their study. \n",
    "            \"\"\",\n",
    "        \"user_answer\": \"A\",\n",
    "        \"user_rationale\": \"Is it not explaining the part of the experiment which illustrates what happens?\"\n",
    "    },\n",
    "    {\n",
    "        \"question\" : \"\"\"\n",
    "In a paper about p-i-n planar perovskite solar cells (one of several perovskite cell architectures designed to collect and store solar power), Lyndsey McMillon-Brown et al. described a method for fabricating the cell’s electronic transport layer (ETL) using a spray coating. Conventional ETL fabrication is accomplished using a solution of nanoparticles. The process can result in a loss of up to 80% of the solution, increasing the cost of manufacturing at scale—an issue that may be obviated by spray coating fabrication, which the researchers describe as “highly reproducible, concise, and practical.”\n",
    "\n",
    "What does the text most strongly suggest about conventional ETL fabrication?\n",
    "        \"\"\",\n",
    "        \"answer_choices\" : \"\"\"\n",
    "A. It is less suitable for manufacturing large volumes of planar p-i-n perovskite solar cells than an alternative fabrication method may be.\n",
    "B. It is more expensive when manufacturing at scale than are processes for fabricating ETLs used in other perovskite solar cell architectures.\n",
    "C. It typically entails a greater loss of nanoparticle solution than do other established approaches for ETL fabrication.\n",
    "D. It is somewhat imprecise and therefore limits the potential effectiveness of p-i-n planar perovskite solar cells at capturing and storing solar power.\n",
    "\"\"\",\n",
    "        \"rationale\" : \"\"\"\n",
    "Choice A is the best answer. Conventional solar cell fabrication increases “the cost of manufacturing at scale,” but spray coating might get rid of that problem.\n",
    "\n",
    "Choice B is incorrect. This is not completely supported by the text. While it’s true that conventional ETL fabrication is expensive at scale, there’s nothing in the text that mentions other perovskite solar cell architectures. Choice C is incorrect. This choice does not match the text. Only one conventional method of ETL fabrication is described, so we can’t compare the solution loss in this method to that of other conventional methods. Choice D is incorrect. This choice isn’t supported by the text. The text never suggests that the effectiveness of solar cells changes based on their method of fabrication. \n",
    "\"\"\",\n",
    "        \"user_answer\" : \"C\",\n",
    "        \"user_rationale\": \"Isn't the new method of ETL fabrication the same as the 'established methods'\",\n",
    "    },\n",
    "]"
   ]
  },
  {
   "cell_type": "markdown",
   "id": "0d7ba3fa",
   "metadata": {
    "papermill": {
     "duration": 0.018095,
     "end_time": "2025-04-18T23:33:06.762589",
     "exception": false,
     "start_time": "2025-04-18T23:33:06.744494",
     "status": "completed"
    },
    "tags": []
   },
   "source": [
    "Each of these questions are somewhat unique: The first one focuses on English, the second on the results of a study, and the third on scientific cell activity. Semantically, these questions may be grouped and organized completely differently, so let's pick another scientific-ish question from Aquarc's question bank."
   ]
  },
  {
   "cell_type": "code",
   "execution_count": 27,
   "id": "a7eaa798",
   "metadata": {
    "execution": {
     "iopub.execute_input": "2025-04-18T23:33:06.801147Z",
     "iopub.status.busy": "2025-04-18T23:33:06.800797Z",
     "iopub.status.idle": "2025-04-18T23:33:06.804565Z",
     "shell.execute_reply": "2025-04-18T23:33:06.803783Z"
    },
    "papermill": {
     "duration": 0.025151,
     "end_time": "2025-04-18T23:33:06.806226",
     "exception": false,
     "start_time": "2025-04-18T23:33:06.781075",
     "status": "completed"
    },
    "tags": []
   },
   "outputs": [],
   "source": [
    "query_question = {\n",
    "    \"question\": \"\"\"\n",
    "Mosasaurs were large marine reptiles that lived in the Late Cretaceous period, approximately 100 million to 66 million years ago. Celina Suarez, Alberto Pérez-Huerta, and T. Lynn Harrell Jr. examined oxygen-18 isotopes in mosasaur tooth enamel in order to calculate likely mosasaur body temperatures and determined that mosasaurs were endothermic—that is, they used internal metabolic processes to maintain a stable body temperature in a variety of ambient temperatures. Suarez, Pérez-Huerta, and Harrell claim that endothermy would have enabled mosasaurs to include relatively cold polar waters in their range.\n",
    "\n",
    "Which finding, if true, would most directly support Suarez, Pérez-Huerta, and Harrell’s claim?\"\"\",\n",
    "    \"answer_choices\": \"\"\"\n",
    "A. Mosasaurs’ likely body temperatures are easier to determine from tooth enamel oxygen-18 isotope data than the body temperatures of nonendothermic Late Cretaceous marine reptiles are.\n",
    "B. Fossils of both mosasaurs and nonendothermic marine reptiles have been found in roughly equal numbers in regions known to be near the poles during the Late Cretaceous, though in lower concentrations than elsewhere.\n",
    "C. Several mosasaur fossils have been found in regions known to be near the poles during the Late Cretaceous, while relatively few fossils of nonendothermic marine reptiles have been found in those locations. \n",
    "D. During the Late Cretaceous, seawater temperatures were likely higher throughout mosasaurs’ range, including near the poles, than seawater temperatures at those same latitudes are today.     \n",
    "    \"\"\"\n",
    "}"
   ]
  },
  {
   "cell_type": "markdown",
   "id": "b22f4f14",
   "metadata": {
    "papermill": {
     "duration": 0.018052,
     "end_time": "2025-04-18T23:33:06.842860",
     "exception": false,
     "start_time": "2025-04-18T23:33:06.824808",
     "status": "completed"
    },
    "tags": []
   },
   "source": [
    "Semantically, this question should be closely related to the third. Does Gemini think the same way, too?"
   ]
  },
  {
   "cell_type": "code",
   "execution_count": 28,
   "id": "ca4a5f5b",
   "metadata": {
    "execution": {
     "iopub.execute_input": "2025-04-18T23:33:06.880848Z",
     "iopub.status.busy": "2025-04-18T23:33:06.880524Z",
     "iopub.status.idle": "2025-04-18T23:33:07.490859Z",
     "shell.execute_reply": "2025-04-18T23:33:07.490016Z"
    },
    "papermill": {
     "duration": 0.631375,
     "end_time": "2025-04-18T23:33:07.492535",
     "exception": false,
     "start_time": "2025-04-18T23:33:06.861160",
     "status": "completed"
    },
    "tags": []
   },
   "outputs": [],
   "source": [
    "import chromadb\n",
    "\n",
    "DB_NAME = \"questions\"\n",
    "\n",
    "embed_fn = GeminiEmbeddingFunction()\n",
    "embed_fn.document_mode = True\n",
    "\n",
    "chroma_client = chromadb.Client()\n",
    "#print(chroma_client.list_collections())\n",
    "db = chroma_client.get_or_create_collection(name=DB_NAME, embedding_function=embed_fn)\n",
    "db.add(documents=[question[\"question\"] for question in questions], ids=[str(id) for id in range(len(questions))])"
   ]
  },
  {
   "cell_type": "markdown",
   "id": "2c4c9e96",
   "metadata": {
    "papermill": {
     "duration": 0.018397,
     "end_time": "2025-04-18T23:33:07.529526",
     "exception": false,
     "start_time": "2025-04-18T23:33:07.511129",
     "status": "completed"
    },
    "tags": []
   },
   "source": [
    "Is the database working?"
   ]
  },
  {
   "cell_type": "code",
   "execution_count": 29,
   "id": "d5d12003",
   "metadata": {
    "execution": {
     "iopub.execute_input": "2025-04-18T23:33:07.569074Z",
     "iopub.status.busy": "2025-04-18T23:33:07.568746Z",
     "iopub.status.idle": "2025-04-18T23:33:07.579513Z",
     "shell.execute_reply": "2025-04-18T23:33:07.578591Z"
    },
    "papermill": {
     "duration": 0.030841,
     "end_time": "2025-04-18T23:33:07.580874",
     "exception": false,
     "start_time": "2025-04-18T23:33:07.550033",
     "status": "completed"
    },
    "tags": []
   },
   "outputs": [
    {
     "data": {
      "text/plain": [
       "array([ 0.00175809,  0.0378665 , -0.03238157,  0.01306758,  0.01215944,\n",
       "        0.0136528 , -0.01020287,  0.04182561,  0.05583563,  0.01223623,\n",
       "        0.0102475 ,  0.01944738,  0.00394169,  0.02591245, -0.00177758,\n",
       "       -0.00159159,  0.00639693,  0.00916431, -0.07716184,  0.03000809,\n",
       "        0.06704499, -0.03926918,  0.02753633, -0.06026929,  0.01898047,\n",
       "        0.01094915,  0.05100656,  0.01119103, -0.02327295, -0.05992745,\n",
       "        0.03455773, -0.02091132,  0.05246498, -0.08487553,  0.03695623,\n",
       "        0.00168757, -0.02330869, -0.02514998,  0.03887144, -0.00550901,\n",
       "       -0.04074356,  0.00426461, -0.00587022,  0.03919824, -0.00803794,\n",
       "       -0.00706106,  0.0251422 ,  0.03998805,  0.01107913,  0.01030415])"
      ]
     },
     "execution_count": 29,
     "metadata": {},
     "output_type": "execute_result"
    }
   ],
   "source": [
    "db.count()\n",
    "db.peek(1)[\"embeddings\"][0][0:50]"
   ]
  },
  {
   "cell_type": "markdown",
   "id": "8bb0fb38",
   "metadata": {
    "papermill": {
     "duration": 0.018075,
     "end_time": "2025-04-18T23:33:07.617887",
     "exception": false,
     "start_time": "2025-04-18T23:33:07.599812",
     "status": "completed"
    },
    "tags": []
   },
   "source": [
    "Now let's query the question:"
   ]
  },
  {
   "cell_type": "code",
   "execution_count": 30,
   "id": "506c2478",
   "metadata": {
    "execution": {
     "iopub.execute_input": "2025-04-18T23:33:07.655616Z",
     "iopub.status.busy": "2025-04-18T23:33:07.655226Z",
     "iopub.status.idle": "2025-04-18T23:33:07.952707Z",
     "shell.execute_reply": "2025-04-18T23:33:07.951664Z"
    },
    "papermill": {
     "duration": 0.318371,
     "end_time": "2025-04-18T23:33:07.954597",
     "exception": false,
     "start_time": "2025-04-18T23:33:07.636226",
     "status": "completed"
    },
    "tags": []
   },
   "outputs": [
    {
     "data": {
      "text/markdown": [
       "\n",
       "A study by a team including finance professor Madhu Veeraraghavan suggests that exposure to sunshine during the workday can lead to overly optimistic behavior. __Using data spanning from 1994 to 2010 for a set of US companies, the team compared over 29,000 annual earnings forecasts to the actual earnings later reported by those companies.__ The team found that the greater the exposure to sunshine at work in the two weeks before a manager submitted an earnings forecast, the more the manager’s forecast exceeded what the company actually earned that year.\n",
       "Which choice best states the function of the underlined sentence in the overall structure of the text? \n",
       "        "
      ],
      "text/plain": [
       "<IPython.core.display.Markdown object>"
      ]
     },
     "execution_count": 30,
     "metadata": {},
     "output_type": "execute_result"
    }
   ],
   "source": [
    "# Switch to query mode when generating embeddings.\n",
    "embed_fn.document_mode = False\n",
    "\n",
    "# Search the Chroma DB using the specified query.\n",
    "query = \"What is the weighting of Information and Ideas?\"\n",
    "\n",
    "result = db.query(query_texts=[query_question[\"question\"]], n_results=1)\n",
    "[all_passages] = result[\"documents\"]\n",
    "\n",
    "\n",
    "Markdown(all_passages[0])"
   ]
  },
  {
   "cell_type": "markdown",
   "id": "c5fa63ad",
   "metadata": {
    "papermill": {
     "duration": 0.018771,
     "end_time": "2025-04-18T23:33:07.992236",
     "exception": false,
     "start_time": "2025-04-18T23:33:07.973465",
     "status": "completed"
    },
    "tags": []
   },
   "source": [
    "ChromaDB favored the question \"A study by a team including finance professor Madhu Veeraraghavan...\" likely because it holds quantitative data. \n",
    "\n",
    "As we get user feedback, we can refine and finetune this process to include questions that will be the most beneficial for the user.\n",
    "\n",
    "## Plot the Questions\n",
    "Let's start by truncating the column values:"
   ]
  },
  {
   "cell_type": "code",
   "execution_count": 31,
   "id": "ff2069e4",
   "metadata": {
    "execution": {
     "iopub.execute_input": "2025-04-18T23:33:08.032232Z",
     "iopub.status.busy": "2025-04-18T23:33:08.031891Z",
     "iopub.status.idle": "2025-04-18T23:33:08.036750Z",
     "shell.execute_reply": "2025-04-18T23:33:08.035500Z"
    },
    "papermill": {
     "duration": 0.027143,
     "end_time": "2025-04-18T23:33:08.038693",
     "exception": false,
     "start_time": "2025-04-18T23:33:08.011550",
     "status": "completed"
    },
    "tags": []
   },
   "outputs": [],
   "source": [
    "def truncate(t: str, limit: int = 50) -> str:\n",
    "  \"\"\"Truncate labels to fit on the chart.\"\"\"\n",
    "  if len(t) > limit:\n",
    "    return t[:limit-3] + '...'\n",
    "  else:\n",
    "    return t\n",
    "\n",
    "texts = [t[\"question\"] for t in questions]\n",
    "truncated_texts = [truncate(t) for t in texts]"
   ]
  },
  {
   "cell_type": "markdown",
   "id": "2ad7667e",
   "metadata": {
    "papermill": {
     "duration": 0.018204,
     "end_time": "2025-04-18T23:33:08.075566",
     "exception": false,
     "start_time": "2025-04-18T23:33:08.057362",
     "status": "completed"
    },
    "tags": []
   },
   "source": [
    "Generate embeddings for semantic similarity and cross check them:"
   ]
  },
  {
   "cell_type": "code",
   "execution_count": 32,
   "id": "6363d0ae",
   "metadata": {
    "execution": {
     "iopub.execute_input": "2025-04-18T23:33:08.112604Z",
     "iopub.status.busy": "2025-04-18T23:33:08.112189Z",
     "iopub.status.idle": "2025-04-18T23:33:11.064347Z",
     "shell.execute_reply": "2025-04-18T23:33:11.063419Z"
    },
    "papermill": {
     "duration": 2.972443,
     "end_time": "2025-04-18T23:33:11.065680",
     "exception": false,
     "start_time": "2025-04-18T23:33:08.093237",
     "status": "completed"
    },
    "tags": []
   },
   "outputs": [
    {
     "data": {
      "image/png": "[encoded data removed]",
      "text/plain": [
       "<Figure size 640x480 with 2 Axes>"
      ]
     },
     "metadata": {},
     "output_type": "display_data"
    }
   ],
   "source": [
    "import pandas as pd\n",
    "import seaborn as sns\n",
    "\n",
    "response = client.models.embed_content(\n",
    "    model='models/text-embedding-004',\n",
    "    contents=texts,\n",
    "    config=types.EmbedContentConfig(task_type='semantic_similarity'))\n",
    "\n",
    "\n",
    "\n",
    "# Set up the embeddings in a dataframe.\n",
    "df = pd.DataFrame([e.values for e in response.embeddings], index=truncated_texts)\n",
    "# Matmul the df with rows and columns swapped to dot product each item\n",
    "sim = df @ df.T\n",
    "# Draw!\n",
    "sns.heatmap(sim, vmin=0, vmax=1, cmap=\"Greens\");"
   ]
  },
  {
   "cell_type": "markdown",
   "id": "59c0bd9f",
   "metadata": {
    "papermill": {
     "duration": 0.018695,
     "end_time": "2025-04-18T23:33:11.103887",
     "exception": false,
     "start_time": "2025-04-18T23:33:11.085192",
     "status": "completed"
    },
    "tags": []
   },
   "source": [
    "## Rich Questions\n",
    "In this case, some sanitization may be required to find similar questions. Let's use all \"Inferences\" question from Aquarc on hard difficulty:"
   ]
  },
  {
   "cell_type": "code",
   "execution_count": 33,
   "id": "0559c93e",
   "metadata": {
    "execution": {
     "iopub.execute_input": "2025-04-18T23:33:11.141532Z",
     "iopub.status.busy": "2025-04-18T23:33:11.141176Z",
     "iopub.status.idle": "2025-04-18T23:33:11.748811Z",
     "shell.execute_reply": "2025-04-18T23:33:11.747943Z"
    },
    "papermill": {
     "duration": 0.627463,
     "end_time": "2025-04-18T23:33:11.750037",
     "exception": false,
     "start_time": "2025-04-18T23:33:11.122574",
     "status": "completed"
    },
    "tags": []
   },
   "outputs": [
    {
     "name": "stdout",
     "output_type": "stream",
     "text": [
      "{'questionId': 'f1bfbed3', 'id': '52a8f1cb-bff4-4dcb-b455-fbc202e8513c', 'test': 'SAT', 'category': 'Reading and Writing', 'domain': 'Information and Ideas', 'skill': 'Inferences', 'difficulty': 'Hard', 'details': '<p>Marta Coll and colleagues&rsquo; 2010 Mediterranean Sea biodiversity census reported approximately 17,000 species, nearly double the number reported in Carlo Bianchi and Carla Morri&rsquo;s 2000 census&mdash;a difference only partly attributable to the description of new invertebrate species in the interim. Another factor is that the morphological variability of microorganisms is poorly understood compared to that of vertebrates, invertebrates, plants, and algae, creating uncertainty about how to evaluate microorganisms as species. Researchers&rsquo; decisions on such matters therefore can be highly consequential. Indeed, the two censuses reported similar counts of vertebrate, plant, and algal species, suggesting that <span aria-hidden=\"true\">______</span><span class=\"sr-only\">blank</span></p>', 'question': '<p>Which choice most logically completes the text?</p>', 'answerChoices': '[{\"id\": \"21140db9-ae9f-4478-be55-2511c86ebdd0\", \"content\": \"<p>Coll and colleagues reported a much higher number of species than Bianchi and Morri did largely due to the inclusion of invertebrate species that had not been described at the time of Bianchi and Morri&rsquo;s census.</p>\"}, {\"id\": \"6cbd8139-b9e9-4afc-a2a3-4c5554cdabb4\", \"content\": \"<p>some differences observed in microorganisms may have been treated as variations within species by Bianchi and Morri but treated as indicative of distinct species by Coll and colleagues.</p>\"}, {\"id\": \"78fe5f7b-acb6-4e48-9ca0-b7f8d98387a1\", \"content\": \"<p>Bianchi and Morri may have been less sensitive to the degree of morphological variation displayed within a typical species of microorganism than Coll and colleagues were.</p>\"}, {\"id\": \"a9e10939-c800-48f3-8989-7b22758b9779\", \"content\": \"<p>the absence of clarity regarding how to differentiate among species of microorganisms may have resulted in Coll and colleagues underestimating the number of microorganism species.</p>\"}]', 'answer': 'B', 'rationale': '<p>Choice B is the best answer because it presents the conclusion that most logically completes the text&rsquo;s discussion of the different counts of species in the Mediterranean Sea. The text states that Coll and colleagues reported almost double the number of species that Bianchi and Morri reported in their study ten years earlier. According to the text, this difference can only be partly attributed to new invertebrate species being described in the years between the two studies, which means there must be an additional factor that made Coll and colleagues&rsquo; count so much higher than Bianchi and Morri&rsquo;s count. The text goes on to explain that factor: researchers have a relatively poor understanding of microorganisms&rsquo; morphological variability, or the differences in microorganisms&rsquo; structure and form. This poor understanding makes it hard to classify microorganisms by species and means that researchers&rsquo; decisions about classifying microorganisms can have a large effect on the overall species counts that researchers report. Additionally, the text says that the two censuses reported similar numbers of vertebrate, plant, and algal species, which means that the difference in overall species did not come from differences in those categories. Given all this information, it most logically follows that Coll and colleagues may have treated some of the differences among microorganisms as indicative of the microorganisms being different species, whereas Bianchi and Morri treated those differences as variations within species, resulting in Coll and colleagues reporting many more species than Bianchi and Morri did. </p><p>Choice A is incorrect because the text explicitly addresses this issue by stating that the description of new invertebrate species in the years between the two studies can explain only part of the difference in the number of species reported by the studies. The focus of the text is on explaining the difference between Coll and colleagues&rsquo; count and Bianchi and Morri&rsquo;s count that cannot be accounted for by the inclusion of invertebrate species that had not been described at the time of Bianchi and Morri&rsquo;s study.&nbsp;Choice C is incorrect because nothing in the text suggests that Bianchi and Morri may have been less sensitive to how much the form and structure of microorganisms vary within the same species than Coll and colleagues were. If Bianchi and Morri had been less sensitive to within-species variation than Coll and colleagues were, Bianchi and Morri would likely have reported more species than Coll and colleagues did, since less sensitivity to within-species variation would lead researchers to classify as different species microorganisms that more sensitive researchers would classify as variations within the same species. The text indicates, however, that Bianchi and Morri reported far fewer species than Coll and colleagues did; since the text also excludes other explanations for this difference, it suggests that in fact Bianchi and Morri were more sensitive to within-species variation than Coll and colleagues were, leading Bianchi and Morri to report fewer overall species.&nbsp;Choice D is incorrect because the text is focused on explaining why Coll and colleagues reported many more species than Bianchi and Morri did, and an underestimate of the number of microorganism species by Coll and colleagues would not explain that difference&mdash;it would suggest, in fact, that the difference in the number of species should have been even larger.&nbsp;</p>'}\n"
     ]
    }
   ],
   "source": [
    "import requests\n",
    "\n",
    "payload = {\n",
    "    \"test\": \"SAT\",\n",
    "    \"difficulty\": [\"Hard\"],\n",
    "    \"subdomain\": [\"Inferences\"]\n",
    "}\n",
    "rich_questions = None\n",
    "\n",
    "try:\n",
    "    response = requests.post(\n",
    "        \"https://aquarc.org/sat/find-questions-v2\",\n",
    "        json=payload\n",
    "    )\n",
    "    response.raise_for_status()  # Raise exception for 4xx/5xx errors\n",
    "    rich_questions = response.json()\n",
    "    print(rich_questions[0])\n",
    "    \n",
    "except requests.exceptions.RequestException as e:\n",
    "    print(f\"Request failed: {e}\")"
   ]
  },
  {
   "cell_type": "markdown",
   "id": "52d65914",
   "metadata": {
    "papermill": {
     "duration": 0.018132,
     "end_time": "2025-04-18T23:33:11.787459",
     "exception": false,
     "start_time": "2025-04-18T23:33:11.769327",
     "status": "completed"
    },
    "tags": []
   },
   "source": [
    "To \"cleanse\" the questions into Markdown:"
   ]
  },
  {
   "cell_type": "code",
   "execution_count": 34,
   "id": "136263d9",
   "metadata": {
    "execution": {
     "iopub.execute_input": "2025-04-18T23:33:11.825356Z",
     "iopub.status.busy": "2025-04-18T23:33:11.825012Z",
     "iopub.status.idle": "2025-04-18T23:33:11.850439Z",
     "shell.execute_reply": "2025-04-18T23:33:11.849378Z"
    },
    "papermill": {
     "duration": 0.046254,
     "end_time": "2025-04-18T23:33:11.851850",
     "exception": false,
     "start_time": "2025-04-18T23:33:11.805596",
     "status": "completed"
    },
    "tags": []
   },
   "outputs": [
    {
     "data": {
      "text/markdown": [
       "Marta Coll and colleagues’ 2010 Mediterranean Sea biodiversity census reported approximately 17,000 species, nearly double the number reported in Carlo Bianchi and Carla Morri’s 2000 census—a difference only partly attributable to the description of new invertebrate species in the interim. Another factor is that the morphological variability of microorganisms is poorly understood compared to that of vertebrates, invertebrates, plants, and algae, creating uncertainty about how to evaluate microorganisms as species. Researchers’ decisions on such matters therefore can be highly consequential. Indeed, the two censuses reported similar counts of vertebrate, plant, and algal species, suggesting that \\_\\_\\_\\_\\_\\_blank"
      ],
      "text/plain": [
       "<IPython.core.display.Markdown object>"
      ]
     },
     "execution_count": 34,
     "metadata": {},
     "output_type": "execute_result"
    }
   ],
   "source": [
    "import json\n",
    "\n",
    "for question in rich_questions:\n",
    "    question[\"details\"] = sanitize(question[\"details\"])\n",
    "    question[\"question\"] = sanitize(question[\"question\"])\n",
    "\n",
    "Markdown(rich_questions[0][\"details\"])"
   ]
  },
  {
   "cell_type": "markdown",
   "id": "fb3e8bf3",
   "metadata": {
    "papermill": {
     "duration": 0.019814,
     "end_time": "2025-04-18T23:33:11.892424",
     "exception": false,
     "start_time": "2025-04-18T23:33:11.872610",
     "status": "completed"
    },
    "tags": []
   },
   "source": [
    "Let's create a new database and add the questions:"
   ]
  },
  {
   "cell_type": "code",
   "execution_count": 35,
   "id": "f0ca90c8",
   "metadata": {
    "execution": {
     "iopub.execute_input": "2025-04-18T23:33:11.933246Z",
     "iopub.status.busy": "2025-04-18T23:33:11.932904Z",
     "iopub.status.idle": "2025-04-18T23:33:12.868743Z",
     "shell.execute_reply": "2025-04-18T23:33:12.867670Z"
    },
    "papermill": {
     "duration": 0.958095,
     "end_time": "2025-04-18T23:33:12.870245",
     "exception": false,
     "start_time": "2025-04-18T23:33:11.912150",
     "status": "completed"
    },
    "tags": []
   },
   "outputs": [],
   "source": [
    "DB_NAME = \"rich_questions\"\n",
    "\n",
    "db = chroma_client.get_or_create_collection(name=DB_NAME, embedding_function=embed_fn)\n",
    "\n",
    "# the passage is best used for semantic analysis\n",
    "db.add(documents=[question[\"details\"]\n",
    "                  for question in rich_questions], \n",
    "       ids=[question[\"questionId\"] for question in rich_questions])"
   ]
  },
  {
   "cell_type": "markdown",
   "id": "87377896",
   "metadata": {
    "papermill": {
     "duration": 0.018815,
     "end_time": "2025-04-18T23:33:12.908333",
     "exception": false,
     "start_time": "2025-04-18T23:33:12.889518",
     "status": "completed"
    },
    "tags": []
   },
   "source": [
    "Let's query the database with the \"'How lifelike are they?'\" passage to find semantic similarity. \n",
    "\n",
    "Define a simple function for printing:"
   ]
  },
  {
   "cell_type": "code",
   "execution_count": 36,
   "id": "d37d2352",
   "metadata": {
    "execution": {
     "iopub.execute_input": "2025-04-18T23:33:12.948159Z",
     "iopub.status.busy": "2025-04-18T23:33:12.947827Z",
     "iopub.status.idle": "2025-04-18T23:33:12.952348Z",
     "shell.execute_reply": "2025-04-18T23:33:12.951185Z"
    },
    "papermill": {
     "duration": 0.026363,
     "end_time": "2025-04-18T23:33:12.954124",
     "exception": false,
     "start_time": "2025-04-18T23:33:12.927761",
     "status": "completed"
    },
    "tags": []
   },
   "outputs": [],
   "source": [
    "def output_query(query):\n",
    "    result = db.query(query_texts=[query], n_results=5)\n",
    "\n",
    "    [all_passages] = result[\"documents\"]\n",
    "\n",
    "    print(f\"{query}\\n====================================\\n\")\n",
    "    for passage in all_passages:\n",
    "        print(passage + \"\\n\\n\")"
   ]
  },
  {
   "cell_type": "markdown",
   "id": "ee5dd3b3",
   "metadata": {
    "papermill": {
     "duration": 0.019805,
     "end_time": "2025-04-18T23:33:12.994674",
     "exception": false,
     "start_time": "2025-04-18T23:33:12.974869",
     "status": "completed"
    },
    "tags": []
   },
   "source": [
    "The question unsanitized still shows semantically relevant questions:"
   ]
  },
  {
   "cell_type": "code",
   "execution_count": 37,
   "id": "6fb9bb98",
   "metadata": {
    "execution": {
     "iopub.execute_input": "2025-04-18T23:33:13.037091Z",
     "iopub.status.busy": "2025-04-18T23:33:13.036769Z",
     "iopub.status.idle": "2025-04-18T23:33:13.326752Z",
     "shell.execute_reply": "2025-04-18T23:33:13.325633Z"
    },
    "papermill": {
     "duration": 0.314073,
     "end_time": "2025-04-18T23:33:13.328747",
     "exception": false,
     "start_time": "2025-04-18T23:33:13.014674",
     "status": "completed"
    },
    "tags": []
   },
   "outputs": [
    {
     "name": "stdout",
     "output_type": "stream",
     "text": [
      "\n",
      "<p><span role=\"region\" aria-label=\"Referenced Content\"><u>&ldquo;How lifelike are they?&rdquo;</u></span> Many computer animators prioritize this question as they strive to create ever more realistic environments and lighting. Generally, while characters in computer-animated films appear highly exaggerated, environments and lighting are carefully engineered to mimic reality. But some animators, such as Pixar&rsquo;s Sanjay Patel, are focused on a different question. Rather than asking first whether the environments and lighting they&rsquo;re creating are convincingly lifelike, Patel and others are asking whether these elements reflect their films&rsquo; unique stories.</p>\n",
      "\n",
      "<p>Which choice best describes the function of the underlined question in the text as a whole?</p>\n",
      "\n",
      "A. <p>It reflects a primary goal that many computer animators have for certain components of the animations they produce.</p>\n",
      "B. <p>It represents a concern of computer animators who are more interested in creating unique backgrounds and lighting effects than realistic ones.</p>\n",
      "C. <p>It conveys the uncertainty among many computer animators about how to create realistic animations using current technology.</p>\n",
      "D. <p>It illustrates a reaction that audiences typically have to the appearance of characters created by computer animators.</p>\n",
      "    \n",
      "====================================\n",
      "\n",
      "Birds of many species ingest foods containing carotenoids, pigmented molecules that are converted into feather coloration. Coloration tends to be especially saturated in male birds’ feathers, and because carotenoids also confer health benefits, the deeply saturated colors generally serve to communicate what is known as an honest signal of a bird’s overall fitness to potential mates. However, ornithologist Allison J. Shultz and others have found that males in several species of the tanager genus *Ramphocelus* use microstructures in their feathers to manipulate light, creating the appearance of deeper saturation without the birds necessarily having to maintain a carotenoid-rich diet. These findings suggest that \\_\\_\\_\\_\\_\\_blank\n",
      "\n",
      "\n",
      "Some *Astyanax mexicanus*, a river-dwelling fish found in northeast Mexico, have colonized caves in the region. Although there is little genetic difference between river and cave *A. mexicanus* and all members of the species can emit the same sounds, biologist Carole Hyacinthe and colleagues found that the context and significance of those sounds vary by location—e.g., the click that river-dwelling *A. mexicanus* use to signal aggression is used by cave dwellers when foraging—and the acoustic properties of cave fish sounds show some cave-specific variations as well. Hyacinthe and colleagues note that differences in sonic communication could accumulate to the point of inhibiting interbreeding among fish from different locations, suggesting that \\_\\_\\_\\_\\_\\_blank\n",
      "\n",
      "\n",
      "Laura Mulvey has theorized that in narrative film, shots issuing from a protagonist’s point of view compel viewers to identify with the character. Such identification is heightened by “invisible editing,” or editing so inconspicuous that it renders cuts between shots almost unnoticeable. Conversely, Mulvey proposes that conspicuous editing or an absence of point-of-view shots would induce a more critical stance toward a protagonist. Consider, for example, the attic scene in Alfred Hitchcock’s *The Birds*, a conspicuously edited sequence of tens of shots, few of which correspond to the protagonist’s point of view. According to Mulvey’s logic, this scene should affect viewers by \\_\\_\\_\\_\\_\\_blank\n",
      "\n",
      "\n",
      "Geoglyphs are large-scale designs of lines or shapes created in a natural landscape. The Nazca Lines were created in the Nazca Desert in Peru by several Indigenous civilizations over a period of many centuries. Peruvian archaeologist Johny Isla specializes in these geoglyphs. At a German exhibit about the Nazca Lines, he saw an old photograph of a large geoglyph of a whalelike figure and was surprised that he didn’t recognize it. Isla returned to Peru and used a drone to search a wide area, looking for the figure from the air. This approach suggests that Isla thought that if he hadn’t already seen it, the whalelike geoglyph \\_\\_\\_\\_\\_\\_blank\n",
      "\n",
      "\n",
      "The increased integration of digital technologies throughout the process of book creation in the late 20th and early 21st centuries lowered the costs of book production, but those decreased costs have been most significant in the manufacturing and distribution process, which occurs after the authoring, editing, and design of the book are complete. This suggests that in the late 20th and early 21st centuries, \\_\\_\\_\\_\\_\\_blank\n",
      "\n",
      "\n"
     ]
    }
   ],
   "source": [
    "query = \"\"\"\n",
    "<p><span role=\"region\" aria-label=\"Referenced Content\"><u>&ldquo;How lifelike are they?&rdquo;</u></span> Many computer animators prioritize this question as they strive to create ever more realistic environments and lighting. Generally, while characters in computer-animated films appear highly exaggerated, environments and lighting are carefully engineered to mimic reality. But some animators, such as Pixar&rsquo;s Sanjay Patel, are focused on a different question. Rather than asking first whether the environments and lighting they&rsquo;re creating are convincingly lifelike, Patel and others are asking whether these elements reflect their films&rsquo; unique stories.</p>\n",
    "\n",
    "<p>Which choice best describes the function of the underlined question in the text as a whole?</p>\n",
    "\n",
    "A. <p>It reflects a primary goal that many computer animators have for certain components of the animations they produce.</p>\n",
    "B. <p>It represents a concern of computer animators who are more interested in creating unique backgrounds and lighting effects than realistic ones.</p>\n",
    "C. <p>It conveys the uncertainty among many computer animators about how to create realistic animations using current technology.</p>\n",
    "D. <p>It illustrates a reaction that audiences typically have to the appearance of characters created by computer animators.</p>\n",
    "    \"\"\"\n",
    "output_query(query)"
   ]
  },
  {
   "cell_type": "markdown",
   "id": "c213a2c2",
   "metadata": {
    "papermill": {
     "duration": 0.019584,
     "end_time": "2025-04-18T23:33:13.368766",
     "exception": false,
     "start_time": "2025-04-18T23:33:13.349182",
     "status": "completed"
    },
    "tags": []
   },
   "source": [
    "This semantic similarity holds mostly strong even if other details are included in the question, because that doesn't affect semantic meaning."
   ]
  },
  {
   "cell_type": "code",
   "execution_count": 38,
   "id": "3828b3b4",
   "metadata": {
    "execution": {
     "iopub.execute_input": "2025-04-18T23:33:13.409959Z",
     "iopub.status.busy": "2025-04-18T23:33:13.409658Z",
     "iopub.status.idle": "2025-04-18T23:33:13.692010Z",
     "shell.execute_reply": "2025-04-18T23:33:13.690889Z"
    },
    "papermill": {
     "duration": 0.305007,
     "end_time": "2025-04-18T23:33:13.693769",
     "exception": false,
     "start_time": "2025-04-18T23:33:13.388762",
     "status": "completed"
    },
    "tags": []
   },
   "outputs": [
    {
     "name": "stdout",
     "output_type": "stream",
     "text": [
      "[Underlined]“How lifelike are they?”[End] Many computer animators prioritize this question as they strive to create ever more realistic environments and lighting. Generally, while characters in computer-animated films appear highly exaggerated, environments and lighting are carefully engineered to mimic reality. But some animators, such as Pixar’s Sanjay Patel, are focused on a different question. Rather than asking first whether the environments and lighting they’re creating are convincingly lifelike, Patel and others are asking whether these elements reflect their films’ unique stories.\n",
      "\n",
      "Which choice best describes the function of the underlined question in the text as a whole?\n",
      "\n",
      "A.\n",
      "\n",
      "It reflects a primary goal that many computer animators have for certain components of the animations they produce.\n",
      "\n",
      "B.\n",
      "\n",
      "It represents a concern of computer animators who are more interested in creating unique backgrounds and lighting effects than realistic ones.\n",
      "\n",
      "C.\n",
      "\n",
      "It conveys the uncertainty among many computer animators about how to create realistic animations using current technology.\n",
      "\n",
      "D.\n",
      "\n",
      "It illustrates a reaction that audiences typically have to the appearance of characters created by computer animators.\n",
      "====================================\n",
      "\n",
      "Birds of many species ingest foods containing carotenoids, pigmented molecules that are converted into feather coloration. Coloration tends to be especially saturated in male birds’ feathers, and because carotenoids also confer health benefits, the deeply saturated colors generally serve to communicate what is known as an honest signal of a bird’s overall fitness to potential mates. However, ornithologist Allison J. Shultz and others have found that males in several species of the tanager genus *Ramphocelus* use microstructures in their feathers to manipulate light, creating the appearance of deeper saturation without the birds necessarily having to maintain a carotenoid-rich diet. These findings suggest that \\_\\_\\_\\_\\_\\_blank\n",
      "\n",
      "\n",
      "Some *Astyanax mexicanus*, a river-dwelling fish found in northeast Mexico, have colonized caves in the region. Although there is little genetic difference between river and cave *A. mexicanus* and all members of the species can emit the same sounds, biologist Carole Hyacinthe and colleagues found that the context and significance of those sounds vary by location—e.g., the click that river-dwelling *A. mexicanus* use to signal aggression is used by cave dwellers when foraging—and the acoustic properties of cave fish sounds show some cave-specific variations as well. Hyacinthe and colleagues note that differences in sonic communication could accumulate to the point of inhibiting interbreeding among fish from different locations, suggesting that \\_\\_\\_\\_\\_\\_blank\n",
      "\n",
      "\n",
      "Laura Mulvey has theorized that in narrative film, shots issuing from a protagonist’s point of view compel viewers to identify with the character. Such identification is heightened by “invisible editing,” or editing so inconspicuous that it renders cuts between shots almost unnoticeable. Conversely, Mulvey proposes that conspicuous editing or an absence of point-of-view shots would induce a more critical stance toward a protagonist. Consider, for example, the attic scene in Alfred Hitchcock’s *The Birds*, a conspicuously edited sequence of tens of shots, few of which correspond to the protagonist’s point of view. According to Mulvey’s logic, this scene should affect viewers by \\_\\_\\_\\_\\_\\_blank\n",
      "\n",
      "\n",
      "Geoglyphs are large-scale designs of lines or shapes created in a natural landscape. The Nazca Lines were created in the Nazca Desert in Peru by several Indigenous civilizations over a period of many centuries. Peruvian archaeologist Johny Isla specializes in these geoglyphs. At a German exhibit about the Nazca Lines, he saw an old photograph of a large geoglyph of a whalelike figure and was surprised that he didn’t recognize it. Isla returned to Peru and used a drone to search a wide area, looking for the figure from the air. This approach suggests that Isla thought that if he hadn’t already seen it, the whalelike geoglyph \\_\\_\\_\\_\\_\\_blank\n",
      "\n",
      "\n",
      "The increased integration of digital technologies throughout the process of book creation in the late 20th and early 21st centuries lowered the costs of book production, but those decreased costs have been most significant in the manufacturing and distribution process, which occurs after the authoring, editing, and design of the book are complete. This suggests that in the late 20th and early 21st centuries, \\_\\_\\_\\_\\_\\_blank\n",
      "\n",
      "\n"
     ]
    }
   ],
   "source": [
    "query = rich_question[\"question\"]\n",
    "output_query(query)"
   ]
  },
  {
   "cell_type": "markdown",
   "id": "e67f6ec8",
   "metadata": {
    "papermill": {
     "duration": 0.019759,
     "end_time": "2025-04-18T23:33:13.739303",
     "exception": false,
     "start_time": "2025-04-18T23:33:13.719544",
     "status": "completed"
    },
    "tags": []
   },
   "source": [
    "Completely sanitized, it has almost the same output (on my device only the order of the 4th and 5th most relevant are swapped!)"
   ]
  },
  {
   "cell_type": "code",
   "execution_count": 39,
   "id": "80effd34",
   "metadata": {
    "execution": {
     "iopub.execute_input": "2025-04-18T23:33:13.779820Z",
     "iopub.status.busy": "2025-04-18T23:33:13.779545Z",
     "iopub.status.idle": "2025-04-18T23:33:14.072494Z",
     "shell.execute_reply": "2025-04-18T23:33:14.071102Z"
    },
    "papermill": {
     "duration": 0.314049,
     "end_time": "2025-04-18T23:33:14.073851",
     "exception": false,
     "start_time": "2025-04-18T23:33:13.759802",
     "status": "completed"
    },
    "tags": []
   },
   "outputs": [
    {
     "name": "stdout",
     "output_type": "stream",
     "text": [
      "[Underlined]“How lifelike are they?”[End] Many computer animators prioritize this question as they strive to create ever more realistic environments and lighting. Generally, while characters in computer-animated films appear highly exaggerated, environments and lighting are carefully engineered to mimic reality. But some animators, such as Pixar’s Sanjay Patel, are focused on a different question. Rather than asking first whether the environments and lighting they’re creating are convincingly lifelike, Patel and others are asking whether these elements reflect their films’ unique stories.\n",
      "====================================\n",
      "\n",
      "Birds of many species ingest foods containing carotenoids, pigmented molecules that are converted into feather coloration. Coloration tends to be especially saturated in male birds’ feathers, and because carotenoids also confer health benefits, the deeply saturated colors generally serve to communicate what is known as an honest signal of a bird’s overall fitness to potential mates. However, ornithologist Allison J. Shultz and others have found that males in several species of the tanager genus *Ramphocelus* use microstructures in their feathers to manipulate light, creating the appearance of deeper saturation without the birds necessarily having to maintain a carotenoid-rich diet. These findings suggest that \\_\\_\\_\\_\\_\\_blank\n",
      "\n",
      "\n",
      "Some *Astyanax mexicanus*, a river-dwelling fish found in northeast Mexico, have colonized caves in the region. Although there is little genetic difference between river and cave *A. mexicanus* and all members of the species can emit the same sounds, biologist Carole Hyacinthe and colleagues found that the context and significance of those sounds vary by location—e.g., the click that river-dwelling *A. mexicanus* use to signal aggression is used by cave dwellers when foraging—and the acoustic properties of cave fish sounds show some cave-specific variations as well. Hyacinthe and colleagues note that differences in sonic communication could accumulate to the point of inhibiting interbreeding among fish from different locations, suggesting that \\_\\_\\_\\_\\_\\_blank\n",
      "\n",
      "\n",
      "Laura Mulvey has theorized that in narrative film, shots issuing from a protagonist’s point of view compel viewers to identify with the character. Such identification is heightened by “invisible editing,” or editing so inconspicuous that it renders cuts between shots almost unnoticeable. Conversely, Mulvey proposes that conspicuous editing or an absence of point-of-view shots would induce a more critical stance toward a protagonist. Consider, for example, the attic scene in Alfred Hitchcock’s *The Birds*, a conspicuously edited sequence of tens of shots, few of which correspond to the protagonist’s point of view. According to Mulvey’s logic, this scene should affect viewers by \\_\\_\\_\\_\\_\\_blank\n",
      "\n",
      "\n",
      "Geoglyphs are large-scale designs of lines or shapes created in a natural landscape. The Nazca Lines were created in the Nazca Desert in Peru by several Indigenous civilizations over a period of many centuries. Peruvian archaeologist Johny Isla specializes in these geoglyphs. At a German exhibit about the Nazca Lines, he saw an old photograph of a large geoglyph of a whalelike figure and was surprised that he didn’t recognize it. Isla returned to Peru and used a drone to search a wide area, looking for the figure from the air. This approach suggests that Isla thought that if he hadn’t already seen it, the whalelike geoglyph \\_\\_\\_\\_\\_\\_blank\n",
      "\n",
      "\n",
      "Marta Coll and colleagues’ 2010 Mediterranean Sea biodiversity census reported approximately 17,000 species, nearly double the number reported in Carlo Bianchi and Carla Morri’s 2000 census—a difference only partly attributable to the description of new invertebrate species in the interim. Another factor is that the morphological variability of microorganisms is poorly understood compared to that of vertebrates, invertebrates, plants, and algae, creating uncertainty about how to evaluate microorganisms as species. Researchers’ decisions on such matters therefore can be highly consequential. Indeed, the two censuses reported similar counts of vertebrate, plant, and algal species, suggesting that \\_\\_\\_\\_\\_\\_blank\n",
      "\n",
      "\n"
     ]
    }
   ],
   "source": [
    "#passage stolen from earlier question\n",
    "query = sanitize(\"\"\"<p><span role=\"region\" aria-label=\"Referenced Content\"><u>&ldquo;How lifelike are they?&rdquo;</u></span> Many computer animators prioritize this question as they strive to create ever more realistic environments and lighting. Generally, while characters in computer-animated films appear highly exaggerated, environments and lighting are carefully engineered to mimic reality. But some animators, such as Pixar&rsquo;s Sanjay Patel, are focused on a different question. Rather than asking first whether the environments and lighting they&rsquo;re creating are convincingly lifelike, Patel and others are asking whether these elements reflect their films&rsquo; unique stories.</p>\"\"\")\n",
    "output_query(query)"
   ]
  },
  {
   "cell_type": "markdown",
   "id": "ec8905fb",
   "metadata": {
    "papermill": {
     "duration": 0.019641,
     "end_time": "2025-04-18T23:33:14.113389",
     "exception": false,
     "start_time": "2025-04-18T23:33:14.093748",
     "status": "completed"
    },
    "tags": []
   },
   "source": [
    "Let's try a completely different question:"
   ]
  },
  {
   "cell_type": "code",
   "execution_count": 40,
   "id": "21f04856",
   "metadata": {
    "execution": {
     "iopub.execute_input": "2025-04-18T23:33:14.155212Z",
     "iopub.status.busy": "2025-04-18T23:33:14.154898Z",
     "iopub.status.idle": "2025-04-18T23:33:14.618796Z",
     "shell.execute_reply": "2025-04-18T23:33:14.617911Z"
    },
    "papermill": {
     "duration": 0.487992,
     "end_time": "2025-04-18T23:33:14.621303",
     "exception": false,
     "start_time": "2025-04-18T23:33:14.133311",
     "status": "completed"
    },
    "tags": []
   },
   "outputs": [
    {
     "name": "stdout",
     "output_type": "stream",
     "text": [
      "\n",
      "<figure class=\"image\">\n",
      "   <svg aria-label=\"Bar graph titled Municipalities’ Responses to Inquiries about Potential Incentives for Firm. The horizontal axis has no label. 3 data categories are shown. The vertical axis is labeled Number of municipalities. It ranges from 0 to 1,300 in increments of 100. Refer to long description.\" height=\"578.7376708984375\" role=\"img\" viewbox=\"0 0 400 578.7376708984375\" width=\"400\" xmlns=\"http://www.w3.org/2000/svg\">\n",
      "      <g data-name=\"Layer 1\" id=\"ed420550-79eb-48d4-af01-cd27cdd08afd\">\n",
      "         <defs>\n",
      "            +\n",
      "            <pattern height=\"100\" id=\"bar4\" patterntransform=\"rotate(50)\" patternunits=\"userSpaceOnUse\" width=\"10\" x=\"0\" y=\"0\">\n",
      "               +\n",
      "               <rect fill=\"#CDCDCD\" height=\"100\" width=\"5\" x=\"0\" y=\"0\"></rect>\n",
      "               +\n",
      "               <rect fill=\"#444444\" height=\"100\" width=\"5\" x=\"5\" y=\"0\"></rect>\n",
      "               +\n",
      "            </pattern>\n",
      "            +\n",
      "         </defs>\n",
      "         <line fill=\"none\" stroke=\"#000000\" stroke-linecap=\"round\" stroke-linejoin=\"round\" stroke-width=\"0.9\" x1=\"99.75999450683594\" x2=\"385\" xmlns=\"http://www.w3.org/2000/svg\" y1=\"72\" y2=\"72\"></line>\n",
      "         <line fill=\"none\" stroke=\"#000000\" stroke-linecap=\"round\" stroke-linejoin=\"round\" stroke-width=\"0.9\" x1=\"93.75999450683594\" x2=\"105.75999450683594\" xmlns=\"http://www.w3.org/2000/svg\" y1=\"72\" y2=\"72\"></line>\n",
      "         <text fill=\"#000000\" font-family=\"Crimson Text\" font-size=\"19.84\" text-anchor=\"end\" transform=\"translate(87.75999450683594 78)\">1,300</text>\n",
      "         <line fill=\"none\" stroke=\"#000000\" stroke-linecap=\"round\" stroke-linejoin=\"round\" stroke-width=\"0.9\" x1=\"99.75999450683594\" x2=\"385\" xmlns=\"http://www.w3.org/2000/svg\" y1=\"91.23076923076923\" y2=\"91.23076923076923\"></line>\n",
      "         <line fill=\"none\" stroke=\"#000000\" stroke-linecap=\"round\" stroke-linejoin=\"round\" stroke-width=\"0.9\" x1=\"93.75999450683594\" x2=\"105.75999450683594\" xmlns=\"http://www.w3.org/2000/svg\" y1=\"91.23076923076923\" y2=\"91.23076923076923\"></line>\n",
      "         <text fill=\"#000000\" font-family=\"Crimson Text\" font-size=\"19.84\" text-anchor=\"end\" transform=\"translate(87.75999450683594 97.23076923076923)\">1,200</text>\n",
      "         <line fill=\"none\" stroke=\"#000000\" stroke-linecap=\"round\" stroke-linejoin=\"round\" stroke-width=\"0.9\" x1=\"99.75999450683594\" x2=\"385\" xmlns=\"http://www.w3.org/2000/svg\" y1=\"110.46153846153845\" y2=\"110.46153846153845\"></line>\n",
      "         <line fill=\"none\" stroke=\"#000000\" stroke-linecap=\"round\" stroke-linejoin=\"round\" stroke-width=\"0.9\" x1=\"93.75999450683594\" x2=\"105.75999450683594\" xmlns=\"http://www.w3.org/2000/svg\" y1=\"110.46153846153845\" y2=\"110.46153846153845\"></line>\n",
      "         <text fill=\"#000000\" font-family=\"Crimson Text\" font-size=\"19.84\" text-anchor=\"end\" transform=\"translate(87.75999450683594 116.46153846153845)\">1,100</text>\n",
      "         <line fill=\"none\" stroke=\"#000000\" stroke-linecap=\"round\" stroke-linejoin=\"round\" stroke-width=\"0.9\" x1=\"99.75999450683594\" x2=\"385\" xmlns=\"http://www.w3.org/2000/svg\" y1=\"129.69230769230768\" y2=\"129.69230769230768\"></line>\n",
      "         <line fill=\"none\" stroke=\"#000000\" stroke-linecap=\"round\" stroke-linejoin=\"round\" stroke-width=\"0.9\" x1=\"93.75999450683594\" x2=\"105.75999450683594\" xmlns=\"http://www.w3.org/2000/svg\" y1=\"129.69230769230768\" y2=\"129.69230769230768\"></line>\n",
      "         <text fill=\"#000000\" font-family=\"Crimson Text\" font-size=\"19.84\" text-anchor=\"end\" transform=\"translate(87.75999450683594 135.69230769230768)\">1,000</text>\n",
      "         <line fill=\"none\" stroke=\"#000000\" stroke-linecap=\"round\" stroke-linejoin=\"round\" stroke-width=\"0.9\" x1=\"99.75999450683594\" x2=\"385\" xmlns=\"http://www.w3.org/2000/svg\" y1=\"148.9230769230769\" y2=\"148.9230769230769\"></line>\n",
      "         <line fill=\"none\" stroke=\"#000000\" stroke-linecap=\"round\" stroke-linejoin=\"round\" stroke-width=\"0.9\" x1=\"93.75999450683594\" x2=\"105.75999450683594\" xmlns=\"http://www.w3.org/2000/svg\" y1=\"148.9230769230769\" y2=\"148.9230769230769\"></line>\n",
      "         <text fill=\"#000000\" font-family=\"Crimson Text\" font-size=\"19.84\" text-anchor=\"end\" transform=\"translate(87.75999450683594 154.9230769230769)\">900</text>\n",
      "         <line fill=\"none\" stroke=\"#000000\" stroke-linecap=\"round\" stroke-linejoin=\"round\" stroke-width=\"0.9\" x1=\"99.75999450683594\" x2=\"385\" xmlns=\"http://www.w3.org/2000/svg\" y1=\"168.15384615384613\" y2=\"168.15384615384613\"></line>\n",
      "         <line fill=\"none\" stroke=\"#000000\" stroke-linecap=\"round\" stroke-linejoin=\"round\" stroke-width=\"0.9\" x1=\"93.75999450683594\" x2=\"105.75999450683594\" xmlns=\"http://www.w3.org/2000/svg\" y1=\"168.15384615384613\" y2=\"168.15384615384613\"></line>\n",
      "         <text fill=\"#000000\" font-family=\"Crimson Text\" font-size=\"19.84\" text-anchor=\"end\" transform=\"translate(87.75999450683594 174.15384615384613)\">800</text>\n",
      "         <line fill=\"none\" stroke=\"#000000\" stroke-linecap=\"round\" stroke-linejoin=\"round\" stroke-width=\"0.9\" x1=\"99.75999450683594\" x2=\"385\" xmlns=\"http://www.w3.org/2000/svg\" y1=\"187.3846153846154\" y2=\"187.3846153846154\"></line>\n",
      "         <line fill=\"none\" stroke=\"#000000\" stroke-linecap=\"round\" stroke-linejoin=\"round\" stroke-width=\"0.9\" x1=\"93.75999450683594\" x2=\"105.75999450683594\" xmlns=\"http://www.w3.org/2000/svg\" y1=\"187.3846153846154\" y2=\"187.3846153846154\"></line>\n",
      "         <text fill=\"#000000\" font-family=\"Crimson Text\" font-size=\"19.84\" text-anchor=\"end\" transform=\"translate(87.75999450683594 193.3846153846154)\">700</text>\n",
      "         <line fill=\"none\" stroke=\"#000000\" stroke-linecap=\"round\" stroke-linejoin=\"round\" stroke-width=\"0.9\" x1=\"99.75999450683594\" x2=\"385\" xmlns=\"http://www.w3.org/2000/svg\" y1=\"206.6153846153846\" y2=\"206.6153846153846\"></line>\n",
      "         <line fill=\"none\" stroke=\"#000000\" stroke-linecap=\"round\" stroke-linejoin=\"round\" stroke-width=\"0.9\" x1=\"93.75999450683594\" x2=\"105.75999450683594\" xmlns=\"http://www.w3.org/2000/svg\" y1=\"206.6153846153846\" y2=\"206.6153846153846\"></line>\n",
      "         <text fill=\"#000000\" font-family=\"Crimson Text\" font-size=\"19.84\" text-anchor=\"end\" transform=\"translate(87.75999450683594 212.6153846153846)\">600</text>\n",
      "         <line fill=\"none\" stroke=\"#000000\" stroke-linecap=\"round\" stroke-linejoin=\"round\" stroke-width=\"0.9\" x1=\"99.75999450683594\" x2=\"385\" xmlns=\"http://www.w3.org/2000/svg\" y1=\"225.84615384615384\" y2=\"225.84615384615384\"></line>\n",
      "         <line fill=\"none\" stroke=\"#000000\" stroke-linecap=\"round\" stroke-linejoin=\"round\" stroke-width=\"0.9\" x1=\"93.75999450683594\" x2=\"105.75999450683594\" xmlns=\"http://www.w3.org/2000/svg\" y1=\"225.84615384615384\" y2=\"225.84615384615384\"></line>\n",
      "         <text fill=\"#000000\" font-family=\"Crimson Text\" font-size=\"19.84\" text-anchor=\"end\" transform=\"translate(87.75999450683594 231.84615384615384)\">500</text>\n",
      "         <line fill=\"none\" stroke=\"#000000\" stroke-linecap=\"round\" stroke-linejoin=\"round\" stroke-width=\"0.9\" x1=\"99.75999450683594\" x2=\"385\" xmlns=\"http://www.w3.org/2000/svg\" y1=\"245.07692307692307\" y2=\"245.07692307692307\"></line>\n",
      "         <line fill=\"none\" stroke=\"#000000\" stroke-linecap=\"round\" stroke-linejoin=\"round\" stroke-width=\"0.9\" x1=\"93.75999450683594\" x2=\"105.75999450683594\" xmlns=\"http://www.w3.org/2000/svg\" y1=\"245.07692307692307\" y2=\"245.07692307692307\"></line>\n",
      "         <text fill=\"#000000\" font-family=\"Crimson Text\" font-size=\"19.84\" text-anchor=\"end\" transform=\"translate(87.75999450683594 251.07692307692307)\">400</text>\n",
      "         <line fill=\"none\" stroke=\"#000000\" stroke-linecap=\"round\" stroke-linejoin=\"round\" stroke-width=\"0.9\" x1=\"99.75999450683594\" x2=\"385\" xmlns=\"http://www.w3.org/2000/svg\" y1=\"264.30769230769226\" y2=\"264.30769230769226\"></line>\n",
      "         <line fill=\"none\" stroke=\"#000000\" stroke-linecap=\"round\" stroke-linejoin=\"round\" stroke-width=\"0.9\" x1=\"93.75999450683594\" x2=\"105.75999450683594\" xmlns=\"http://www.w3.org/2000/svg\" y1=\"264.30769230769226\" y2=\"264.30769230769226\"></line>\n",
      "         <text fill=\"#000000\" font-family=\"Crimson Text\" font-size=\"19.84\" text-anchor=\"end\" transform=\"translate(87.75999450683594 270.30769230769226)\">300</text>\n",
      "         <line fill=\"none\" stroke=\"#000000\" stroke-linecap=\"round\" stroke-linejoin=\"round\" stroke-width=\"0.9\" x1=\"99.75999450683594\" x2=\"385\" xmlns=\"http://www.w3.org/2000/svg\" y1=\"283.53846153846155\" y2=\"283.53846153846155\"></line>\n",
      "         <line fill=\"none\" stroke=\"#000000\" stroke-linecap=\"round\" stroke-linejoin=\"round\" stroke-width=\"0.9\" x1=\"93.75999450683594\" x2=\"105.75999450683594\" xmlns=\"http://www.w3.org/2000/svg\" y1=\"283.53846153846155\" y2=\"283.53846153846155\"></line>\n",
      "         <text fill=\"#000000\" font-family=\"Crimson Text\" font-size=\"19.84\" text-anchor=\"end\" transform=\"translate(87.75999450683594 289.53846153846155)\">200</text>\n",
      "         <line fill=\"none\" stroke=\"#000000\" stroke-linecap=\"round\" stroke-linejoin=\"round\" stroke-width=\"0.9\" x1=\"99.75999450683594\" x2=\"385\" xmlns=\"http://www.w3.org/2000/svg\" y1=\"302.7692307692308\" y2=\"302.7692307692308\"></line>\n",
      "         <line fill=\"none\" stroke=\"#000000\" stroke-linecap=\"round\" stroke-linejoin=\"round\" stroke-width=\"0.9\" x1=\"93.75999450683594\" x2=\"105.75999450683594\" xmlns=\"http://www.w3.org/2000/svg\" y1=\"302.7692307692308\" y2=\"302.7692307692308\"></line>\n",
      "         <text fill=\"#000000\" font-family=\"Crimson Text\" font-size=\"19.84\" text-anchor=\"end\" transform=\"translate(87.75999450683594 308.7692307692308)\">100</text>\n",
      "         <line fill=\"none\" stroke=\"#000000\" stroke-linecap=\"round\" stroke-linejoin=\"round\" stroke-width=\"0.9\" x1=\"99.75999450683594\" x2=\"385\" xmlns=\"http://www.w3.org/2000/svg\" y1=\"322\" y2=\"322\"></line>\n",
      "         <line fill=\"none\" stroke=\"#000000\" stroke-linecap=\"round\" stroke-linejoin=\"round\" stroke-width=\"0.9\" x1=\"93.75999450683594\" x2=\"105.75999450683594\" xmlns=\"http://www.w3.org/2000/svg\" y1=\"322\" y2=\"322\"></line>\n",
      "         <text fill=\"#000000\" font-family=\"Crimson Text\" font-size=\"19.84\" text-anchor=\"end\" transform=\"translate(87.75999450683594 328)\">0</text>\n",
      "         <text fill=\"#000000\" font-family=\"Crimson Text\" font-size=\"19.84\" text-anchor=\"middle\" transform=\"translate(24 197) rotate(-90)\">Number of municipalities</text>\n",
      "         <line fill=\"none\" stroke=\"#000000\" stroke-linecap=\"round\" stroke-linejoin=\"round\" stroke-width=\"0.9\" x1=\"99.75999450683594\" x2=\"99.75999450683594\" xmlns=\"http://www.w3.org/2000/svg\" y1=\"72\" y2=\"322\"></line>\n",
      "         <rect fill=\"#B3B3B3\" height=\"240.76923076923077\" stroke=\"#000000\" stroke-linecap=\"round\" stroke-linejoin=\"mitre\" stroke-width=\"0.9\" width=\"28.524000549316405\" x=\"128.28399505615235\" xmlns=\"http://www.w3.org/2000/svg\" y=\"81.23076923076923\"></rect>\n",
      "         <rect fill=\"#333333\" height=\"240\" stroke=\"#000000\" stroke-linecap=\"round\" stroke-linejoin=\"mitre\" stroke-width=\"0.9\" width=\"28.524000549316405\" x=\"156.80799560546876\" xmlns=\"http://www.w3.org/2000/svg\" y=\"82\"></rect>\n",
      "         <text fill=\"#000000\" font-family=\"Crimson Text\" font-size=\"19.84\" text-anchor=\"end\" transform=\"translate(166.72799560546875 341.84) rotate(-40)\" x=\"0\" xmlns=\"http://www.w3.org/2000/svg\" y=\"0\">no response</text>\n",
      "         <rect fill=\"#B3B3B3\" height=\"39.80769230769231\" stroke=\"#000000\" stroke-linecap=\"round\" stroke-linejoin=\"mitre\" stroke-width=\"0.9\" width=\"28.524000549316405\" x=\"213.85599670410159\" xmlns=\"http://www.w3.org/2000/svg\" y=\"282.1923076923077\"></rect>\n",
      "         <rect fill=\"#333333\" height=\"39.42307692307692\" stroke=\"#000000\" stroke-linecap=\"round\" stroke-linejoin=\"mitre\" stroke-width=\"0.9\" width=\"28.524000549316405\" x=\"242.379997253418\" xmlns=\"http://www.w3.org/2000/svg\" y=\"282.5769230769231\"></rect>\n",
      "         <text fill=\"#000000\" font-family=\"Crimson Text\" font-size=\"19.84\" text-anchor=\"end\" transform=\"translate(252.29999725341798 341.84) rotate(-40)\" x=\"0\" xmlns=\"http://www.w3.org/2000/svg\" y=\"0\">responded to inquiry</text>\n",
      "         <rect fill=\"#B3B3B3\" height=\"24.23076923076923\" stroke=\"#000000\" stroke-linecap=\"round\" stroke-linejoin=\"mitre\" stroke-width=\"0.9\" width=\"28.524000549316405\" x=\"299.4279983520508\" xmlns=\"http://www.w3.org/2000/svg\" y=\"297.7692307692308\"></rect>\n",
      "         <rect fill=\"#333333\" height=\"23.46153846153846\" stroke=\"#000000\" stroke-linecap=\"round\" stroke-linejoin=\"mitre\" stroke-width=\"0.9\" width=\"28.524000549316405\" x=\"327.9519989013672\" xmlns=\"http://www.w3.org/2000/svg\" y=\"298.53846153846155\"></rect>\n",
      "         <text fill=\"#000000\" font-family=\"Crimson Text\" font-size=\"19.84\" text-anchor=\"end\" transform=\"translate(337.8719989013672 341.84) rotate(-40)\" x=\"0\" xmlns=\"http://www.w3.org/2000/svg\" y=\"0\">offered incentive</text>\n",
      "         <text fill=\"#000000\" font-family=\"Crimson Text\" font-size=\"19.84\" text-anchor=\"middle\" transform=\"translate(242.37999725341797 24)\">Municipalities’ Responses to Inquiries </text>\n",
      "         <text fill=\"#000000\" font-family=\"Crimson Text\" font-size=\"19.84\" text-anchor=\"middle\" transform=\"translate(242.37999725341797 48)\">about Potential Incentives for Firm</text>\n",
      "         <rect fill=\"none\" height=\"71\" stroke=\"#000000\" stroke-linejoin=\"mitre\" stroke-width=\"0.9\" width=\"280.1479034423828\" x=\"67.4260482788086\" xmlns=\"http://www.w3.org/2000/svg\" y=\"496.7376708984375\"></rect>\n",
      "         <rect fill=\"#B3B3B3\" height=\"12\" stroke=\"#000000\" stroke-linejoin=\"mitre\" stroke-width=\"0.9\" width=\"12\" x=\"74.4260482788086\" xmlns=\"http://www.w3.org/2000/svg\" y=\"508.7376708984375\"></rect>\n",
      "         <text fill=\"#000000\" font-family=\"Crimson Text\" font-size=\"19.84\" text-anchor=\"top\" transform=\"translate(96.4260482788086 520.7376708984375)\"> announcement before election</text>\n",
      "         <rect fill=\"#333333\" height=\"12\" stroke=\"#000000\" stroke-linejoin=\"mitre\" stroke-width=\"0.9\" width=\"12\" x=\"74.4260482788086\" xmlns=\"http://www.w3.org/2000/svg\" y=\"540.7376708984375\"></rect>\n",
      "         <text fill=\"#000000\" font-family=\"Crimson Text\" font-size=\"19.84\" text-anchor=\"top\" transform=\"translate(96.4260482788086 552.7376708984375)\"> announcement after election</text>\n",
      "      </g>\n",
      "   </svg>\n",
      "</figure>\n",
      "<div aria-label=\"Long description for bar graph titled Municipalities’ Responses to Inquiries about Potential Incentives for Firm\" class=\"sr-only\" role=\"region\">\n",
      "   <ul>\n",
      "      +\n",
      "      <li>\n",
      "         For each data category, the following bars are shown: <br/>                                                                                                                                                                                                                                                                                                                                                                                                                                                                                                                                                                                                                                                                                                                                                                                                                                                                                                                                                                                                                                                                                                                                                                                                                                                                                                                                                                                                                                                                                                                                                                                                                                                                                                                                                                                                                                                                                                                                                                                                                                                                                                                                                                                                                                                                                                                                                                                                                                                                                                                                                                                                                                                                                                                                                                                                                                                                                                                                                                                                                                                                                                                                                                                                                                                                                                                                                                                                                                                                                                                                                                                                                                                                                                                                                                                                                                                                                                                                                                                                                                                                                                                                                                                                                                                                                                                                                                                                                                                                                                                                                                                                                                                                                                                                                                                                                                                                                                                                                                                                                                                                                                                                                                                                                                                                                                                                                                                                                                                                                                                                                                                                                                                                                                                                                                                                                                                                                                                                                                                                                                                                                                                                                                                                                                                                                                                                                                                                                                                                                                                                                                                                                                                                                                                                                                                                                                                                                                                                                                                                                                                                                                                                                                                                                                                                                                                                                                                                                                                                                                                                                                                                                                                                                                                                                                                                                                                                                                                                                                                                                                                                                                                                                                                                                                                                                                                                                                                                                                                                                                                                                                                                                                                                                                                                                                                                                                                                                                                                                                                                                                                                                                                                                                                                                                                                                                                                                                                                                                                                                                                                                                                                                                                                                                                                                                                                                                                                                                                                                                                                                                                                                                                                                                                                                                                                                                                                                                                                                                                                                                                                                                                                                                                                                                                                                                                                                                                                                                                                                                                                                                                                                                                                                                                                                                                                                                                                                                                                                                                                                                                                                                                                                                                                                                                                                                                                                                                                                                                                                                                                                                                                                                                                                                                                                                                                                                                                                                                                                                                                                                                                                                                                                                                                                                                                                                                                           +\n",
      "         <ul>\n",
      "            +\n",
      "            <li>announcement before election</li>\n",
      "            +\n",
      "            <li>announcement after election</li>\n",
      "            +\n",
      "         </ul>\n",
      "         +\n",
      "      </li>\n",
      "      +\n",
      "      <li>\n",
      "         The data for the 3 categories are as follows: <br/>                                                                                                                                                                                                                                                                                                                                                                                                                                                                                                                                                                                                                                                                                                                                                                                                                                                                                                                                                                                                                                                                                                                                                                                                                                                                                                                                                                                                                                                                                                                                                                                                                                                                                                                                                                                                                                                                                                                                                                                                                                                                                                                                                                                                                                                                                                                                                                                                                                                                                                                                                                                                                                                                                                                                                                                                                                                                                                                                                                                                                                                                                                                                                                                                                                                                                                                                                                                                                                                                                                                                                                                                                                                                                                                                                                                                                                                                                                                                                                                                                                                                                                                                                                                                                                                                                                                                                                                                                                                                                                                                                                                                                                                                                                                                                                                                                                                                                                                                                                                                                                                                                                                                                                                                                                                                                                                                                                                                                                                                                                                                                                                                                                                                                                                                                                                                                                                                                                                                                                                                                                                                                                                                                                                                                                                                                                                                                                                                                                                                                                                                                                                                                                                                                                                                                                                                                                                                                                                                                                                                                                                                                                                                                                                                                                                                                                                                                                                                                                                                                                                                                                                                                                                                                                                                                                                                                                                                                                                                                                                                                                                                                                                                                                                                                                                                                                                                                                                                                                                                                                                                                                                                                                                                                                                                                                                                                                                                                                                                                                                                                                                                                                                                                                                                                                                                                                                                                                                                                                                                                                                                                                                                                                                                                                                                                                                                                                                                                                                                                                                                                                                                                                                                                                                                                                                                                                                                                                                                                                                                                                                                                                                                                                                                                                                                                                                                                                                                                                                                                                                                                                                                                                                                                                                                                                                                                                                                                                                                                                                                                                                                                                                                                                                                                                                                                                                                                                                                                                                                                                                                                                                                                                                                                                                                                                                                                                                                                                                                                                                                                                                                                                                                                                                                                                                                                                                                                   +\n",
      "         <ul>\n",
      "            +\n",
      "            <li>\n",
      "               no response:                                                                                                                                                                                                                                                                                                                                                                                                                                                                                                                                                                                                                                                                                                                                                                                                                                                                                                                                                                                                                                                                                                                                                                                                                                                                                                                                                                                                                                                                                                                                                                                                                                                                                                                                                                                                                                                                                                                                                                                                                                                                                                                                                                                                                                                                                                                                                                                                                                                                                                                                                                                                                                                                                                                                                                                                                                                                                                                                                                                                                                                                                                                                                                                                                                                                                                                                                                                                                                                                                                                                                                                                                                                                                                                                                                                                                                                                                                                                                                                                                                                                                                                                                                                                                                                                                                                                                                                                                                                                                                                                                                                                                                                                                                                                                                                                                                                                                                                                                                                                                                                                                                                                                                                                                                                                                                                                                                                                                                                                                                                                                                                                                                                                                                                                                                                                                                                                                                                                                                                                                                                                                                                                                                                                                                                                                                                                                                                                                                                                                                                                                                                                                                                                                                                                                                                                                                                                                                                                                                                                                                                                                                                                                                                                                                                                                                                                                                                                                                                                                                                                                                                                                                                                                                                                                                                                                                                                                                                                                                                                                                                                                                                                                                                                                                                                                                                                                                                                                                                                                                                                                                                                                                                                                                                                                                                                                                                                                                                                                                                                                                                                                                                                                                                                                                                                                                                                                                                                                                                                                                                                                                                                                                                                                                                                                                                                                                                                                                                                                                                                                                                                                                                                                                                                                                                                                                                                                                                                                                                                                                                                                                                                                                                                                                                                                                                                                                                                                                                                                                                                                                                                                                                                                                                                                                                                                                                                                                                                                                                                                                                                                                                                                                                                                                                                                                                                                                                                                                                                                                                                                                                                                                                                                                                                                                                                                                                                                                                                                                                                                                                                                                                                                                                                                                                                                                                                                                                          +\n",
      "               <ul>\n",
      "                  +\n",
      "                  <li>announcement before election: 1,252</li>\n",
      "                  +\n",
      "                  <li>announcement after election: 1,248</li>\n",
      "                  +\n",
      "               </ul>\n",
      "               +\n",
      "            </li>\n",
      "            +\n",
      "            <li>\n",
      "               responded to inquiry:                                                                                                                                                                                                                                                                                                                                                                                                                                                                                                                                                                                                                                                                                                                                                                                                                                                                                                                                                                                                                                                                                                                                                                                                                                                                                                                                                                                                                                                                                                                                                                                                                                                                                                                                                                                                                                                                                                                                                                                                                                                                                                                                                                                                                                                                                                                                                                                                                                                                                                                                                                                                                                                                                                                                                                                                                                                                                                                                                                                                                                                                                                                                                                                                                                                                                                                                                                                                                                                                                                                                                                                                                                                                                                                                                                                                                                                                                                                                                                                                                                                                                                                                                                                                                                                                                                                                                                                                                                                                                                                                                                                                                                                                                                                                                                                                                                                                                                                                                                                                                                                                                                                                                                                                                                                                                                                                                                                                                                                                                                                                                                                                                                                                                                                                                                                                                                                                                                                                                                                                                                                                                                                                                                                                                                                                                                                                                                                                                                                                                                                                                                                                                                                                                                                                                                                                                                                                                                                                                                                                                                                                                                                                                                                                                                                                                                                                                                                                                                                                                                                                                                                                                                                                                                                                                                                                                                                                                                                                                                                                                                                                                                                                                                                                                                                                                                                                                                                                                                                                                                                                                                                                                                                                                                                                                                                                                                                                                                                                                                                                                                                                                                                                                                                                                                                                                                                                                                                                                                                                                                                                                                                                                                                                                                                                                                                                                                                                                                                                                                                                                                                                                                                                                                                                                                                                                                                                                                                                                                                                                                                                                                                                                                                                                                                                                                                                                                                                                                                                                                                                                                                                                                                                                                                                                                                                                                                                                                                                                                                                                                                                                                                                                                                                                                                                                                                                                                                                                                                                                                                                                                                                                                                                                                                                                                                                                                                                                                                                                                                                                                                                                                                                                                                                                                                                                                                                                                                 +\n",
      "               <ul>\n",
      "                  +\n",
      "                  <li>announcement before election: 207</li>\n",
      "                  +\n",
      "                  <li>announcement after election: 205</li>\n",
      "                  +\n",
      "               </ul>\n",
      "               +\n",
      "            </li>\n",
      "            +\n",
      "            <li>\n",
      "               offered incentive:                                                                                                                                                                                                                                                                                                                                                                                                                                                                                                                                                                                                                                                                                                                                                                                                                                                                                                                                                                                                                                                                                                                                                                                                                                                                                                                                                                                                                                                                                                                                                                                                                                                                                                                                                                                                                                                                                                                                                                                                                                                                                                                                                                                                                                                                                                                                                                                                                                                                                                                                                                                                                                                                                                                                                                                                                                                                                                                                                                                                                                                                                                                                                                                                                                                                                                                                                                                                                                                                                                                                                                                                                                                                                                                                                                                                                                                                                                                                                                                                                                                                                                                                                                                                                                                                                                                                                                                                                                                                                                                                                                                                                                                                                                                                                                                                                                                                                                                                                                                                                                                                                                                                                                                                                                                                                                                                                                                                                                                                                                                                                                                                                                                                                                                                                                                                                                                                                                                                                                                                                                                                                                                                                                                                                                                                                                                                                                                                                                                                                                                                                                                                                                                                                                                                                                                                                                                                                                                                                                                                                                                                                                                                                                                                                                                                                                                                                                                                                                                                                                                                                                                                                                                                                                                                                                                                                                                                                                                                                                                                                                                                                                                                                                                                                                                                                                                                                                                                                                                                                                                                                                                                                                                                                                                                                                                                                                                                                                                                                                                                                                                                                                                                                                                                                                                                                                                                                                                                                                                                                                                                                                                                                                                                                                                                                                                                                                                                                                                                                                                                                                                                                                                                                                                                                                                                                                                                                                                                                                                                                                                                                                                                                                                                                                                                                                                                                                                                                                                                                                                                                                                                                                                                                                                                                                                                                                                                                                                                                                                                                                                                                                                                                                                                                                                                                                                                                                                                                                                                                                                                                                                                                                                                                                                                                                                                                                                                                                                                                                                                                                                                                                                                                                                                                                                                                                                                                                                    +\n",
      "               <ul>\n",
      "                  +\n",
      "                  <li>announcement before election: 128</li>\n",
      "                  +\n",
      "                  <li>announcement after election: 122</li>\n",
      "                  +\n",
      "               </ul>\n",
      "               +\n",
      "            </li>\n",
      "            +\n",
      "         </ul>\n",
      "         +\n",
      "      </li>\n",
      "      +\n",
      "   </ul>\n",
      "</div>\n",
      "+\n",
      "<p>In the United States, firms often seek incentives from municipal governments to expand to those municipalities. A team of political scientists hypothesized that municipalities are much more likely to respond to firms and offer incentives if expansions can be announced in time to benefit local elected officials than if they can’t. The team contacted officials in thousands of municipalities, inquiring about incentives for a firm looking to expand and indicating that the firm would announce its expansion on a date either just before or just after the next election. </p>\n",
      "\n",
      "<p>Which choice best describes data from the graph that weaken the team&rsquo;s hypothesis?</p>\n",
      "\n",
      "A. <p>A large majority of the municipalities that received an inquiry mentioning plans for an announcement before the next election didn&rsquo;t respond to the inquiry.</p>\n",
      "B. <p>The proportion of municipalities that responded to the inquiry or offered incentives didn&rsquo;t substantially differ across the announcement timing conditions.&nbsp;</p>\n",
      "C. <p>Only around half the municipalities that responded to inquiries mentioning plans for an announcement before the next election offered incentives.&nbsp;</p>\n",
      "D. <p>Of the municipalities that received an inquiry mentioning plans for an announcement date after the next election, more than 1,200 didn&rsquo;t respond and only around 100 offered incentives.</p>\n",
      "\n",
      "====================================\n",
      "\n",
      "Geoglyphs are large-scale designs of lines or shapes created in a natural landscape. The Nazca Lines were created in the Nazca Desert in Peru by several Indigenous civilizations over a period of many centuries. Peruvian archaeologist Johny Isla specializes in these geoglyphs. At a German exhibit about the Nazca Lines, he saw an old photograph of a large geoglyph of a whalelike figure and was surprised that he didn’t recognize it. Isla returned to Peru and used a drone to search a wide area, looking for the figure from the air. This approach suggests that Isla thought that if he hadn’t already seen it, the whalelike geoglyph \\_\\_\\_\\_\\_\\_blank\n",
      "\n",
      "\n",
      "Marta Coll and colleagues’ 2010 Mediterranean Sea biodiversity census reported approximately 17,000 species, nearly double the number reported in Carlo Bianchi and Carla Morri’s 2000 census—a difference only partly attributable to the description of new invertebrate species in the interim. Another factor is that the morphological variability of microorganisms is poorly understood compared to that of vertebrates, invertebrates, plants, and algae, creating uncertainty about how to evaluate microorganisms as species. Researchers’ decisions on such matters therefore can be highly consequential. Indeed, the two censuses reported similar counts of vertebrate, plant, and algal species, suggesting that \\_\\_\\_\\_\\_\\_blank\n",
      "\n",
      "\n",
      "During the Bourbon Restoration in France (1814–1830), the right to vote required in part that a person paid at least 300 francs in direct taxes to the government. The four most common taxes (the *quatre vieilles*) were levied on real estate (both land and buildings); the doors and windows in taxpayer homes; the rental values of homes; and the businesses of artisans and merchants. (Foreign investments were either exempt from taxation or taxed lightly.) Although relatively few people paid the tax on real estate, it was the main means of voter qualification and accounted for over two-thirds of government receipts during this period, suggesting that during the Bourbon Restoration \\_\\_\\_\\_\\_\\_blank\n",
      "\n",
      "\n",
      "Researchers Suchithra Rajendran and Maximilian Popfinger modeled varying levels of passenger redistribution from short-haul flights (flights of 50 to 210 minutes, from takeoff to landing) to high-speed rail trips. Planes travel faster than trains, but air travel typically requires 3 hours of lead time for security, baggage handling, and boarding that rail travel doesn’t, so short-haul routes take similar amounts of time by air and by rail. However, the model suggests that as rail passenger volumes approach current capacity limits, long lead times emerge. Therefore, for rail to remain a viable alternative to short-haul flights, \\_\\_\\_\\_\\_\\_blank\n",
      "\n",
      "\n",
      "Volunteering, or giving time for a community service for free, is a valuable form of civic engagement because helping in a community is also good for society as a whole. In a survey of youths in the United States, most young people said that they believe volunteering is a way to help people on an individual level. Meanwhile, only 6% of the youths said that they think volunteering is a way to help fix problems in society overall. These replies suggest that \\_\\_\\_\\_\\_\\_blank\n",
      "\n",
      "\n"
     ]
    }
   ],
   "source": [
    "# This question is (c) CollegeBoard 2025\n",
    "query = \"\"\"\n",
    "<figure class=\"image\">\n",
    "   <svg aria-label=\"Bar graph titled Municipalities’ Responses to Inquiries about Potential Incentives for Firm. The horizontal axis has no label. 3 data categories are shown. The vertical axis is labeled Number of municipalities. It ranges from 0 to 1,300 in increments of 100. Refer to long description.\" height=\"578.7376708984375\" role=\"img\" viewbox=\"0 0 400 578.7376708984375\" width=\"400\" xmlns=\"http://www.w3.org/2000/svg\">\n",
    "      <g data-name=\"Layer 1\" id=\"ed420550-79eb-48d4-af01-cd27cdd08afd\">\n",
    "         <defs>\n",
    "            +\n",
    "            <pattern height=\"100\" id=\"bar4\" patterntransform=\"rotate(50)\" patternunits=\"userSpaceOnUse\" width=\"10\" x=\"0\" y=\"0\">\n",
    "               +\n",
    "               <rect fill=\"#CDCDCD\" height=\"100\" width=\"5\" x=\"0\" y=\"0\"></rect>\n",
    "               +\n",
    "               <rect fill=\"#444444\" height=\"100\" width=\"5\" x=\"5\" y=\"0\"></rect>\n",
    "               +\n",
    "            </pattern>\n",
    "            +\n",
    "         </defs>\n",
    "         <line fill=\"none\" stroke=\"#000000\" stroke-linecap=\"round\" stroke-linejoin=\"round\" stroke-width=\"0.9\" x1=\"99.75999450683594\" x2=\"385\" xmlns=\"http://www.w3.org/2000/svg\" y1=\"72\" y2=\"72\"></line>\n",
    "         <line fill=\"none\" stroke=\"#000000\" stroke-linecap=\"round\" stroke-linejoin=\"round\" stroke-width=\"0.9\" x1=\"93.75999450683594\" x2=\"105.75999450683594\" xmlns=\"http://www.w3.org/2000/svg\" y1=\"72\" y2=\"72\"></line>\n",
    "         <text fill=\"#000000\" font-family=\"Crimson Text\" font-size=\"19.84\" text-anchor=\"end\" transform=\"translate(87.75999450683594 78)\">1,300</text>\n",
    "         <line fill=\"none\" stroke=\"#000000\" stroke-linecap=\"round\" stroke-linejoin=\"round\" stroke-width=\"0.9\" x1=\"99.75999450683594\" x2=\"385\" xmlns=\"http://www.w3.org/2000/svg\" y1=\"91.23076923076923\" y2=\"91.23076923076923\"></line>\n",
    "         <line fill=\"none\" stroke=\"#000000\" stroke-linecap=\"round\" stroke-linejoin=\"round\" stroke-width=\"0.9\" x1=\"93.75999450683594\" x2=\"105.75999450683594\" xmlns=\"http://www.w3.org/2000/svg\" y1=\"91.23076923076923\" y2=\"91.23076923076923\"></line>\n",
    "         <text fill=\"#000000\" font-family=\"Crimson Text\" font-size=\"19.84\" text-anchor=\"end\" transform=\"translate(87.75999450683594 97.23076923076923)\">1,200</text>\n",
    "         <line fill=\"none\" stroke=\"#000000\" stroke-linecap=\"round\" stroke-linejoin=\"round\" stroke-width=\"0.9\" x1=\"99.75999450683594\" x2=\"385\" xmlns=\"http://www.w3.org/2000/svg\" y1=\"110.46153846153845\" y2=\"110.46153846153845\"></line>\n",
    "         <line fill=\"none\" stroke=\"#000000\" stroke-linecap=\"round\" stroke-linejoin=\"round\" stroke-width=\"0.9\" x1=\"93.75999450683594\" x2=\"105.75999450683594\" xmlns=\"http://www.w3.org/2000/svg\" y1=\"110.46153846153845\" y2=\"110.46153846153845\"></line>\n",
    "         <text fill=\"#000000\" font-family=\"Crimson Text\" font-size=\"19.84\" text-anchor=\"end\" transform=\"translate(87.75999450683594 116.46153846153845)\">1,100</text>\n",
    "         <line fill=\"none\" stroke=\"#000000\" stroke-linecap=\"round\" stroke-linejoin=\"round\" stroke-width=\"0.9\" x1=\"99.75999450683594\" x2=\"385\" xmlns=\"http://www.w3.org/2000/svg\" y1=\"129.69230769230768\" y2=\"129.69230769230768\"></line>\n",
    "         <line fill=\"none\" stroke=\"#000000\" stroke-linecap=\"round\" stroke-linejoin=\"round\" stroke-width=\"0.9\" x1=\"93.75999450683594\" x2=\"105.75999450683594\" xmlns=\"http://www.w3.org/2000/svg\" y1=\"129.69230769230768\" y2=\"129.69230769230768\"></line>\n",
    "         <text fill=\"#000000\" font-family=\"Crimson Text\" font-size=\"19.84\" text-anchor=\"end\" transform=\"translate(87.75999450683594 135.69230769230768)\">1,000</text>\n",
    "         <line fill=\"none\" stroke=\"#000000\" stroke-linecap=\"round\" stroke-linejoin=\"round\" stroke-width=\"0.9\" x1=\"99.75999450683594\" x2=\"385\" xmlns=\"http://www.w3.org/2000/svg\" y1=\"148.9230769230769\" y2=\"148.9230769230769\"></line>\n",
    "         <line fill=\"none\" stroke=\"#000000\" stroke-linecap=\"round\" stroke-linejoin=\"round\" stroke-width=\"0.9\" x1=\"93.75999450683594\" x2=\"105.75999450683594\" xmlns=\"http://www.w3.org/2000/svg\" y1=\"148.9230769230769\" y2=\"148.9230769230769\"></line>\n",
    "         <text fill=\"#000000\" font-family=\"Crimson Text\" font-size=\"19.84\" text-anchor=\"end\" transform=\"translate(87.75999450683594 154.9230769230769)\">900</text>\n",
    "         <line fill=\"none\" stroke=\"#000000\" stroke-linecap=\"round\" stroke-linejoin=\"round\" stroke-width=\"0.9\" x1=\"99.75999450683594\" x2=\"385\" xmlns=\"http://www.w3.org/2000/svg\" y1=\"168.15384615384613\" y2=\"168.15384615384613\"></line>\n",
    "         <line fill=\"none\" stroke=\"#000000\" stroke-linecap=\"round\" stroke-linejoin=\"round\" stroke-width=\"0.9\" x1=\"93.75999450683594\" x2=\"105.75999450683594\" xmlns=\"http://www.w3.org/2000/svg\" y1=\"168.15384615384613\" y2=\"168.15384615384613\"></line>\n",
    "         <text fill=\"#000000\" font-family=\"Crimson Text\" font-size=\"19.84\" text-anchor=\"end\" transform=\"translate(87.75999450683594 174.15384615384613)\">800</text>\n",
    "         <line fill=\"none\" stroke=\"#000000\" stroke-linecap=\"round\" stroke-linejoin=\"round\" stroke-width=\"0.9\" x1=\"99.75999450683594\" x2=\"385\" xmlns=\"http://www.w3.org/2000/svg\" y1=\"187.3846153846154\" y2=\"187.3846153846154\"></line>\n",
    "         <line fill=\"none\" stroke=\"#000000\" stroke-linecap=\"round\" stroke-linejoin=\"round\" stroke-width=\"0.9\" x1=\"93.75999450683594\" x2=\"105.75999450683594\" xmlns=\"http://www.w3.org/2000/svg\" y1=\"187.3846153846154\" y2=\"187.3846153846154\"></line>\n",
    "         <text fill=\"#000000\" font-family=\"Crimson Text\" font-size=\"19.84\" text-anchor=\"end\" transform=\"translate(87.75999450683594 193.3846153846154)\">700</text>\n",
    "         <line fill=\"none\" stroke=\"#000000\" stroke-linecap=\"round\" stroke-linejoin=\"round\" stroke-width=\"0.9\" x1=\"99.75999450683594\" x2=\"385\" xmlns=\"http://www.w3.org/2000/svg\" y1=\"206.6153846153846\" y2=\"206.6153846153846\"></line>\n",
    "         <line fill=\"none\" stroke=\"#000000\" stroke-linecap=\"round\" stroke-linejoin=\"round\" stroke-width=\"0.9\" x1=\"93.75999450683594\" x2=\"105.75999450683594\" xmlns=\"http://www.w3.org/2000/svg\" y1=\"206.6153846153846\" y2=\"206.6153846153846\"></line>\n",
    "         <text fill=\"#000000\" font-family=\"Crimson Text\" font-size=\"19.84\" text-anchor=\"end\" transform=\"translate(87.75999450683594 212.6153846153846)\">600</text>\n",
    "         <line fill=\"none\" stroke=\"#000000\" stroke-linecap=\"round\" stroke-linejoin=\"round\" stroke-width=\"0.9\" x1=\"99.75999450683594\" x2=\"385\" xmlns=\"http://www.w3.org/2000/svg\" y1=\"225.84615384615384\" y2=\"225.84615384615384\"></line>\n",
    "         <line fill=\"none\" stroke=\"#000000\" stroke-linecap=\"round\" stroke-linejoin=\"round\" stroke-width=\"0.9\" x1=\"93.75999450683594\" x2=\"105.75999450683594\" xmlns=\"http://www.w3.org/2000/svg\" y1=\"225.84615384615384\" y2=\"225.84615384615384\"></line>\n",
    "         <text fill=\"#000000\" font-family=\"Crimson Text\" font-size=\"19.84\" text-anchor=\"end\" transform=\"translate(87.75999450683594 231.84615384615384)\">500</text>\n",
    "         <line fill=\"none\" stroke=\"#000000\" stroke-linecap=\"round\" stroke-linejoin=\"round\" stroke-width=\"0.9\" x1=\"99.75999450683594\" x2=\"385\" xmlns=\"http://www.w3.org/2000/svg\" y1=\"245.07692307692307\" y2=\"245.07692307692307\"></line>\n",
    "         <line fill=\"none\" stroke=\"#000000\" stroke-linecap=\"round\" stroke-linejoin=\"round\" stroke-width=\"0.9\" x1=\"93.75999450683594\" x2=\"105.75999450683594\" xmlns=\"http://www.w3.org/2000/svg\" y1=\"245.07692307692307\" y2=\"245.07692307692307\"></line>\n",
    "         <text fill=\"#000000\" font-family=\"Crimson Text\" font-size=\"19.84\" text-anchor=\"end\" transform=\"translate(87.75999450683594 251.07692307692307)\">400</text>\n",
    "         <line fill=\"none\" stroke=\"#000000\" stroke-linecap=\"round\" stroke-linejoin=\"round\" stroke-width=\"0.9\" x1=\"99.75999450683594\" x2=\"385\" xmlns=\"http://www.w3.org/2000/svg\" y1=\"264.30769230769226\" y2=\"264.30769230769226\"></line>\n",
    "         <line fill=\"none\" stroke=\"#000000\" stroke-linecap=\"round\" stroke-linejoin=\"round\" stroke-width=\"0.9\" x1=\"93.75999450683594\" x2=\"105.75999450683594\" xmlns=\"http://www.w3.org/2000/svg\" y1=\"264.30769230769226\" y2=\"264.30769230769226\"></line>\n",
    "         <text fill=\"#000000\" font-family=\"Crimson Text\" font-size=\"19.84\" text-anchor=\"end\" transform=\"translate(87.75999450683594 270.30769230769226)\">300</text>\n",
    "         <line fill=\"none\" stroke=\"#000000\" stroke-linecap=\"round\" stroke-linejoin=\"round\" stroke-width=\"0.9\" x1=\"99.75999450683594\" x2=\"385\" xmlns=\"http://www.w3.org/2000/svg\" y1=\"283.53846153846155\" y2=\"283.53846153846155\"></line>\n",
    "         <line fill=\"none\" stroke=\"#000000\" stroke-linecap=\"round\" stroke-linejoin=\"round\" stroke-width=\"0.9\" x1=\"93.75999450683594\" x2=\"105.75999450683594\" xmlns=\"http://www.w3.org/2000/svg\" y1=\"283.53846153846155\" y2=\"283.53846153846155\"></line>\n",
    "         <text fill=\"#000000\" font-family=\"Crimson Text\" font-size=\"19.84\" text-anchor=\"end\" transform=\"translate(87.75999450683594 289.53846153846155)\">200</text>\n",
    "         <line fill=\"none\" stroke=\"#000000\" stroke-linecap=\"round\" stroke-linejoin=\"round\" stroke-width=\"0.9\" x1=\"99.75999450683594\" x2=\"385\" xmlns=\"http://www.w3.org/2000/svg\" y1=\"302.7692307692308\" y2=\"302.7692307692308\"></line>\n",
    "         <line fill=\"none\" stroke=\"#000000\" stroke-linecap=\"round\" stroke-linejoin=\"round\" stroke-width=\"0.9\" x1=\"93.75999450683594\" x2=\"105.75999450683594\" xmlns=\"http://www.w3.org/2000/svg\" y1=\"302.7692307692308\" y2=\"302.7692307692308\"></line>\n",
    "         <text fill=\"#000000\" font-family=\"Crimson Text\" font-size=\"19.84\" text-anchor=\"end\" transform=\"translate(87.75999450683594 308.7692307692308)\">100</text>\n",
    "         <line fill=\"none\" stroke=\"#000000\" stroke-linecap=\"round\" stroke-linejoin=\"round\" stroke-width=\"0.9\" x1=\"99.75999450683594\" x2=\"385\" xmlns=\"http://www.w3.org/2000/svg\" y1=\"322\" y2=\"322\"></line>\n",
    "         <line fill=\"none\" stroke=\"#000000\" stroke-linecap=\"round\" stroke-linejoin=\"round\" stroke-width=\"0.9\" x1=\"93.75999450683594\" x2=\"105.75999450683594\" xmlns=\"http://www.w3.org/2000/svg\" y1=\"322\" y2=\"322\"></line>\n",
    "         <text fill=\"#000000\" font-family=\"Crimson Text\" font-size=\"19.84\" text-anchor=\"end\" transform=\"translate(87.75999450683594 328)\">0</text>\n",
    "         <text fill=\"#000000\" font-family=\"Crimson Text\" font-size=\"19.84\" text-anchor=\"middle\" transform=\"translate(24 197) rotate(-90)\">Number of municipalities</text>\n",
    "         <line fill=\"none\" stroke=\"#000000\" stroke-linecap=\"round\" stroke-linejoin=\"round\" stroke-width=\"0.9\" x1=\"99.75999450683594\" x2=\"99.75999450683594\" xmlns=\"http://www.w3.org/2000/svg\" y1=\"72\" y2=\"322\"></line>\n",
    "         <rect fill=\"#B3B3B3\" height=\"240.76923076923077\" stroke=\"#000000\" stroke-linecap=\"round\" stroke-linejoin=\"mitre\" stroke-width=\"0.9\" width=\"28.524000549316405\" x=\"128.28399505615235\" xmlns=\"http://www.w3.org/2000/svg\" y=\"81.23076923076923\"></rect>\n",
    "         <rect fill=\"#333333\" height=\"240\" stroke=\"#000000\" stroke-linecap=\"round\" stroke-linejoin=\"mitre\" stroke-width=\"0.9\" width=\"28.524000549316405\" x=\"156.80799560546876\" xmlns=\"http://www.w3.org/2000/svg\" y=\"82\"></rect>\n",
    "         <text fill=\"#000000\" font-family=\"Crimson Text\" font-size=\"19.84\" text-anchor=\"end\" transform=\"translate(166.72799560546875 341.84) rotate(-40)\" x=\"0\" xmlns=\"http://www.w3.org/2000/svg\" y=\"0\">no response</text>\n",
    "         <rect fill=\"#B3B3B3\" height=\"39.80769230769231\" stroke=\"#000000\" stroke-linecap=\"round\" stroke-linejoin=\"mitre\" stroke-width=\"0.9\" width=\"28.524000549316405\" x=\"213.85599670410159\" xmlns=\"http://www.w3.org/2000/svg\" y=\"282.1923076923077\"></rect>\n",
    "         <rect fill=\"#333333\" height=\"39.42307692307692\" stroke=\"#000000\" stroke-linecap=\"round\" stroke-linejoin=\"mitre\" stroke-width=\"0.9\" width=\"28.524000549316405\" x=\"242.379997253418\" xmlns=\"http://www.w3.org/2000/svg\" y=\"282.5769230769231\"></rect>\n",
    "         <text fill=\"#000000\" font-family=\"Crimson Text\" font-size=\"19.84\" text-anchor=\"end\" transform=\"translate(252.29999725341798 341.84) rotate(-40)\" x=\"0\" xmlns=\"http://www.w3.org/2000/svg\" y=\"0\">responded to inquiry</text>\n",
    "         <rect fill=\"#B3B3B3\" height=\"24.23076923076923\" stroke=\"#000000\" stroke-linecap=\"round\" stroke-linejoin=\"mitre\" stroke-width=\"0.9\" width=\"28.524000549316405\" x=\"299.4279983520508\" xmlns=\"http://www.w3.org/2000/svg\" y=\"297.7692307692308\"></rect>\n",
    "         <rect fill=\"#333333\" height=\"23.46153846153846\" stroke=\"#000000\" stroke-linecap=\"round\" stroke-linejoin=\"mitre\" stroke-width=\"0.9\" width=\"28.524000549316405\" x=\"327.9519989013672\" xmlns=\"http://www.w3.org/2000/svg\" y=\"298.53846153846155\"></rect>\n",
    "         <text fill=\"#000000\" font-family=\"Crimson Text\" font-size=\"19.84\" text-anchor=\"end\" transform=\"translate(337.8719989013672 341.84) rotate(-40)\" x=\"0\" xmlns=\"http://www.w3.org/2000/svg\" y=\"0\">offered incentive</text>\n",
    "         <text fill=\"#000000\" font-family=\"Crimson Text\" font-size=\"19.84\" text-anchor=\"middle\" transform=\"translate(242.37999725341797 24)\">Municipalities’ Responses to Inquiries </text>\n",
    "         <text fill=\"#000000\" font-family=\"Crimson Text\" font-size=\"19.84\" text-anchor=\"middle\" transform=\"translate(242.37999725341797 48)\">about Potential Incentives for Firm</text>\n",
    "         <rect fill=\"none\" height=\"71\" stroke=\"#000000\" stroke-linejoin=\"mitre\" stroke-width=\"0.9\" width=\"280.1479034423828\" x=\"67.4260482788086\" xmlns=\"http://www.w3.org/2000/svg\" y=\"496.7376708984375\"></rect>\n",
    "         <rect fill=\"#B3B3B3\" height=\"12\" stroke=\"#000000\" stroke-linejoin=\"mitre\" stroke-width=\"0.9\" width=\"12\" x=\"74.4260482788086\" xmlns=\"http://www.w3.org/2000/svg\" y=\"508.7376708984375\"></rect>\n",
    "         <text fill=\"#000000\" font-family=\"Crimson Text\" font-size=\"19.84\" text-anchor=\"top\" transform=\"translate(96.4260482788086 520.7376708984375)\"> announcement before election</text>\n",
    "         <rect fill=\"#333333\" height=\"12\" stroke=\"#000000\" stroke-linejoin=\"mitre\" stroke-width=\"0.9\" width=\"12\" x=\"74.4260482788086\" xmlns=\"http://www.w3.org/2000/svg\" y=\"540.7376708984375\"></rect>\n",
    "         <text fill=\"#000000\" font-family=\"Crimson Text\" font-size=\"19.84\" text-anchor=\"top\" transform=\"translate(96.4260482788086 552.7376708984375)\"> announcement after election</text>\n",
    "      </g>\n",
    "   </svg>\n",
    "</figure>\n",
    "<div aria-label=\"Long description for bar graph titled Municipalities’ Responses to Inquiries about Potential Incentives for Firm\" class=\"sr-only\" role=\"region\">\n",
    "   <ul>\n",
    "      +\n",
    "      <li>\n",
    "         For each data category, the following bars are shown: <br/>                                                                                                                                                                                                                                                                                                                                                                                                                                                                                                                                                                                                                                                                                                                                                                                                                                                                                                                                                                                                                                                                                                                                                                                                                                                                                                                                                                                                                                                                                                                                                                                                                                                                                                                                                                                                                                                                                                                                                                                                                                                                                                                                                                                                                                                                                                                                                                                                                                                                                                                                                                                                                                                                                                                                                                                                                                                                                                                                                                                                                                                                                                                                                                                                                                                                                                                                                                                                                                                                                                                                                                                                                                                                                                                                                                                                                                                                                                                                                                                                                                                                                                                                                                                                                                                                                                                                                                                                                                                                                                                                                                                                                                                                                                                                                                                                                                                                                                                                                                                                                                                                                                                                                                                                                                                                                                                                                                                                                                                                                                                                                                                                                                                                                                                                                                                                                                                                                                                                                                                                                                                                                                                                                                                                                                                                                                                                                                                                                                                                                                                                                                                                                                                                                                                                                                                                                                                                                                                                                                                                                                                                                                                                                                                                                                                                                                                                                                                                                                                                                                                                                                                                                                                                                                                                                                                                                                                                                                                                                                                                                                                                                                                                                                                                                                                                                                                                                                                                                                                                                                                                                                                                                                                                                                                                                                                                                                                                                                                                                                                                                                                                                                                                                                                                                                                                                                                                                                                                                                                                                                                                                                                                                                                                                                                                                                                                                                                                                                                                                                                                                                                                                                                                                                                                                                                                                                                                                                                                                                                                                                                                                                                                                                                                                                                                                                                                                                                                                                                                                                                                                                                                                                                                                                                                                                                                                                                                                                                                                                                                                                                                                                                                                                                                                                                                                                                                                                                                                                                                                                                                                                                                                                                                                                                                                                                                                                                                                                                                                                                                                                                                                                                                                                                                                                                                                                                                           +\n",
    "         <ul>\n",
    "            +\n",
    "            <li>announcement before election</li>\n",
    "            +\n",
    "            <li>announcement after election</li>\n",
    "            +\n",
    "         </ul>\n",
    "         +\n",
    "      </li>\n",
    "      +\n",
    "      <li>\n",
    "         The data for the 3 categories are as follows: <br/>                                                                                                                                                                                                                                                                                                                                                                                                                                                                                                                                                                                                                                                                                                                                                                                                                                                                                                                                                                                                                                                                                                                                                                                                                                                                                                                                                                                                                                                                                                                                                                                                                                                                                                                                                                                                                                                                                                                                                                                                                                                                                                                                                                                                                                                                                                                                                                                                                                                                                                                                                                                                                                                                                                                                                                                                                                                                                                                                                                                                                                                                                                                                                                                                                                                                                                                                                                                                                                                                                                                                                                                                                                                                                                                                                                                                                                                                                                                                                                                                                                                                                                                                                                                                                                                                                                                                                                                                                                                                                                                                                                                                                                                                                                                                                                                                                                                                                                                                                                                                                                                                                                                                                                                                                                                                                                                                                                                                                                                                                                                                                                                                                                                                                                                                                                                                                                                                                                                                                                                                                                                                                                                                                                                                                                                                                                                                                                                                                                                                                                                                                                                                                                                                                                                                                                                                                                                                                                                                                                                                                                                                                                                                                                                                                                                                                                                                                                                                                                                                                                                                                                                                                                                                                                                                                                                                                                                                                                                                                                                                                                                                                                                                                                                                                                                                                                                                                                                                                                                                                                                                                                                                                                                                                                                                                                                                                                                                                                                                                                                                                                                                                                                                                                                                                                                                                                                                                                                                                                                                                                                                                                                                                                                                                                                                                                                                                                                                                                                                                                                                                                                                                                                                                                                                                                                                                                                                                                                                                                                                                                                                                                                                                                                                                                                                                                                                                                                                                                                                                                                                                                                                                                                                                                                                                                                                                                                                                                                                                                                                                                                                                                                                                                                                                                                                                                                                                                                                                                                                                                                                                                                                                                                                                                                                                                                                                                                                                                                                                                                                                                                                                                                                                                                                                                                                                                                                                   +\n",
    "         <ul>\n",
    "            +\n",
    "            <li>\n",
    "               no response:                                                                                                                                                                                                                                                                                                                                                                                                                                                                                                                                                                                                                                                                                                                                                                                                                                                                                                                                                                                                                                                                                                                                                                                                                                                                                                                                                                                                                                                                                                                                                                                                                                                                                                                                                                                                                                                                                                                                                                                                                                                                                                                                                                                                                                                                                                                                                                                                                                                                                                                                                                                                                                                                                                                                                                                                                                                                                                                                                                                                                                                                                                                                                                                                                                                                                                                                                                                                                                                                                                                                                                                                                                                                                                                                                                                                                                                                                                                                                                                                                                                                                                                                                                                                                                                                                                                                                                                                                                                                                                                                                                                                                                                                                                                                                                                                                                                                                                                                                                                                                                                                                                                                                                                                                                                                                                                                                                                                                                                                                                                                                                                                                                                                                                                                                                                                                                                                                                                                                                                                                                                                                                                                                                                                                                                                                                                                                                                                                                                                                                                                                                                                                                                                                                                                                                                                                                                                                                                                                                                                                                                                                                                                                                                                                                                                                                                                                                                                                                                                                                                                                                                                                                                                                                                                                                                                                                                                                                                                                                                                                                                                                                                                                                                                                                                                                                                                                                                                                                                                                                                                                                                                                                                                                                                                                                                                                                                                                                                                                                                                                                                                                                                                                                                                                                                                                                                                                                                                                                                                                                                                                                                                                                                                                                                                                                                                                                                                                                                                                                                                                                                                                                                                                                                                                                                                                                                                                                                                                                                                                                                                                                                                                                                                                                                                                                                                                                                                                                                                                                                                                                                                                                                                                                                                                                                                                                                                                                                                                                                                                                                                                                                                                                                                                                                                                                                                                                                                                                                                                                                                                                                                                                                                                                                                                                                                                                                                                                                                                                                                                                                                                                                                                                                                                                                                                                                                                                                          +\n",
    "               <ul>\n",
    "                  +\n",
    "                  <li>announcement before election: 1,252</li>\n",
    "                  +\n",
    "                  <li>announcement after election: 1,248</li>\n",
    "                  +\n",
    "               </ul>\n",
    "               +\n",
    "            </li>\n",
    "            +\n",
    "            <li>\n",
    "               responded to inquiry:                                                                                                                                                                                                                                                                                                                                                                                                                                                                                                                                                                                                                                                                                                                                                                                                                                                                                                                                                                                                                                                                                                                                                                                                                                                                                                                                                                                                                                                                                                                                                                                                                                                                                                                                                                                                                                                                                                                                                                                                                                                                                                                                                                                                                                                                                                                                                                                                                                                                                                                                                                                                                                                                                                                                                                                                                                                                                                                                                                                                                                                                                                                                                                                                                                                                                                                                                                                                                                                                                                                                                                                                                                                                                                                                                                                                                                                                                                                                                                                                                                                                                                                                                                                                                                                                                                                                                                                                                                                                                                                                                                                                                                                                                                                                                                                                                                                                                                                                                                                                                                                                                                                                                                                                                                                                                                                                                                                                                                                                                                                                                                                                                                                                                                                                                                                                                                                                                                                                                                                                                                                                                                                                                                                                                                                                                                                                                                                                                                                                                                                                                                                                                                                                                                                                                                                                                                                                                                                                                                                                                                                                                                                                                                                                                                                                                                                                                                                                                                                                                                                                                                                                                                                                                                                                                                                                                                                                                                                                                                                                                                                                                                                                                                                                                                                                                                                                                                                                                                                                                                                                                                                                                                                                                                                                                                                                                                                                                                                                                                                                                                                                                                                                                                                                                                                                                                                                                                                                                                                                                                                                                                                                                                                                                                                                                                                                                                                                                                                                                                                                                                                                                                                                                                                                                                                                                                                                                                                                                                                                                                                                                                                                                                                                                                                                                                                                                                                                                                                                                                                                                                                                                                                                                                                                                                                                                                                                                                                                                                                                                                                                                                                                                                                                                                                                                                                                                                                                                                                                                                                                                                                                                                                                                                                                                                                                                                                                                                                                                                                                                                                                                                                                                                                                                                                                                                                                                                                 +\n",
    "               <ul>\n",
    "                  +\n",
    "                  <li>announcement before election: 207</li>\n",
    "                  +\n",
    "                  <li>announcement after election: 205</li>\n",
    "                  +\n",
    "               </ul>\n",
    "               +\n",
    "            </li>\n",
    "            +\n",
    "            <li>\n",
    "               offered incentive:                                                                                                                                                                                                                                                                                                                                                                                                                                                                                                                                                                                                                                                                                                                                                                                                                                                                                                                                                                                                                                                                                                                                                                                                                                                                                                                                                                                                                                                                                                                                                                                                                                                                                                                                                                                                                                                                                                                                                                                                                                                                                                                                                                                                                                                                                                                                                                                                                                                                                                                                                                                                                                                                                                                                                                                                                                                                                                                                                                                                                                                                                                                                                                                                                                                                                                                                                                                                                                                                                                                                                                                                                                                                                                                                                                                                                                                                                                                                                                                                                                                                                                                                                                                                                                                                                                                                                                                                                                                                                                                                                                                                                                                                                                                                                                                                                                                                                                                                                                                                                                                                                                                                                                                                                                                                                                                                                                                                                                                                                                                                                                                                                                                                                                                                                                                                                                                                                                                                                                                                                                                                                                                                                                                                                                                                                                                                                                                                                                                                                                                                                                                                                                                                                                                                                                                                                                                                                                                                                                                                                                                                                                                                                                                                                                                                                                                                                                                                                                                                                                                                                                                                                                                                                                                                                                                                                                                                                                                                                                                                                                                                                                                                                                                                                                                                                                                                                                                                                                                                                                                                                                                                                                                                                                                                                                                                                                                                                                                                                                                                                                                                                                                                                                                                                                                                                                                                                                                                                                                                                                                                                                                                                                                                                                                                                                                                                                                                                                                                                                                                                                                                                                                                                                                                                                                                                                                                                                                                                                                                                                                                                                                                                                                                                                                                                                                                                                                                                                                                                                                                                                                                                                                                                                                                                                                                                                                                                                                                                                                                                                                                                                                                                                                                                                                                                                                                                                                                                                                                                                                                                                                                                                                                                                                                                                                                                                                                                                                                                                                                                                                                                                                                                                                                                                                                                                                                                                                    +\n",
    "               <ul>\n",
    "                  +\n",
    "                  <li>announcement before election: 128</li>\n",
    "                  +\n",
    "                  <li>announcement after election: 122</li>\n",
    "                  +\n",
    "               </ul>\n",
    "               +\n",
    "            </li>\n",
    "            +\n",
    "         </ul>\n",
    "         +\n",
    "      </li>\n",
    "      +\n",
    "   </ul>\n",
    "</div>\n",
    "+\n",
    "<p>In the United States, firms often seek incentives from municipal governments to expand to those municipalities. A team of political scientists hypothesized that municipalities are much more likely to respond to firms and offer incentives if expansions can be announced in time to benefit local elected officials than if they can’t. The team contacted officials in thousands of municipalities, inquiring about incentives for a firm looking to expand and indicating that the firm would announce its expansion on a date either just before or just after the next election. </p>\n",
    "\n",
    "<p>Which choice best describes data from the graph that weaken the team&rsquo;s hypothesis?</p>\n",
    "\n",
    "A. <p>A large majority of the municipalities that received an inquiry mentioning plans for an announcement before the next election didn&rsquo;t respond to the inquiry.</p>\n",
    "B. <p>The proportion of municipalities that responded to the inquiry or offered incentives didn&rsquo;t substantially differ across the announcement timing conditions.&nbsp;</p>\n",
    "C. <p>Only around half the municipalities that responded to inquiries mentioning plans for an announcement before the next election offered incentives.&nbsp;</p>\n",
    "D. <p>Of the municipalities that received an inquiry mentioning plans for an announcement date after the next election, more than 1,200 didn&rsquo;t respond and only around 100 offered incentives.</p>\n",
    "\"\"\"\n",
    "\n",
    "output_query(query)"
   ]
  },
  {
   "cell_type": "markdown",
   "id": "aba7bb4b",
   "metadata": {
    "papermill": {
     "duration": 0.018843,
     "end_time": "2025-04-18T23:33:14.660725",
     "exception": false,
     "start_time": "2025-04-18T23:33:14.641882",
     "status": "completed"
    },
    "tags": []
   },
   "source": [
    "In this case, sanitizing the output makes the results more semantically relevant, because the svg (garbage data to the LLM) is omitted for the most part and has minimal impact over the data. "
   ]
  },
  {
   "cell_type": "code",
   "execution_count": 41,
   "id": "e2c1851c",
   "metadata": {
    "execution": {
     "iopub.execute_input": "2025-04-18T23:33:14.700886Z",
     "iopub.status.busy": "2025-04-18T23:33:14.700559Z",
     "iopub.status.idle": "2025-04-18T23:33:19.590821Z",
     "shell.execute_reply": "2025-04-18T23:33:19.588994Z"
    },
    "papermill": {
     "duration": 4.91231,
     "end_time": "2025-04-18T23:33:19.592173",
     "exception": false,
     "start_time": "2025-04-18T23:33:14.679863",
     "status": "completed"
    },
    "tags": []
   },
   "outputs": [
    {
     "name": "stdout",
     "output_type": "stream",
     "text": [
      "+\n",
      "+\n",
      "+\n",
      "+\n",
      "+\n",
      "\n",
      "\n",
      "1,300\n",
      "\n",
      "\n",
      "1,200\n",
      "\n",
      "\n",
      "1,100\n",
      "\n",
      "\n",
      "1,000\n",
      "\n",
      "\n",
      "900\n",
      "\n",
      "\n",
      "800\n",
      "\n",
      "\n",
      "700\n",
      "\n",
      "\n",
      "600\n",
      "\n",
      "\n",
      "500\n",
      "\n",
      "\n",
      "400\n",
      "\n",
      "\n",
      "300\n",
      "\n",
      "\n",
      "200\n",
      "\n",
      "\n",
      "100\n",
      "\n",
      "\n",
      "0\n",
      "Number of municipalities\n",
      "\n",
      "\n",
      "\n",
      "no response\n",
      "\n",
      "\n",
      "responded to inquiry\n",
      "\n",
      "\n",
      "offered incentive\n",
      "Municipalities’ Responses to Inquiries \n",
      "about Potential Incentives for Firm\n",
      "\n",
      "\n",
      " announcement before election\n",
      "\n",
      " announcement after election\n",
      "\n",
      "+* For each data category, the following bars are shown:   \n",
      "   +\n",
      "  ++ announcement before election\n",
      "  ++ announcement after election\n",
      "  ++\n",
      "+* The data for the 3 categories are as follows:   \n",
      "   +\n",
      "  ++ no response: +\n",
      "    +- announcement before election: 1,252\n",
      "    +- announcement after election: 1,248\n",
      "    ++\n",
      "  ++ responded to inquiry: +\n",
      "    +- announcement before election: 207\n",
      "    +- announcement after election: 205\n",
      "    ++\n",
      "  ++ offered incentive: +\n",
      "    +- announcement before election: 128\n",
      "    +- announcement after election: 122\n",
      "    ++\n",
      "  ++\n",
      "+\n",
      "\n",
      "+\n",
      "\n",
      "In the United States, firms often seek incentives from municipal governments to expand to those municipalities. A team of political scientists hypothesized that municipalities are much more likely to respond to firms and offer incentives if expansions can be announced in time to benefit local elected officials than if they can’t. The team contacted officials in thousands of municipalities, inquiring about incentives for a firm looking to expand and indicating that the firm would announce its expansion on a date either just before or just after the next election.\n",
      "\n",
      "Which choice best describes data from the graph that weaken the team’s hypothesis?\n",
      "\n",
      "A.\n",
      "\n",
      "A large majority of the municipalities that received an inquiry mentioning plans for an announcement before the next election didn’t respond to the inquiry.\n",
      "\n",
      "B.\n",
      "\n",
      "The proportion of municipalities that responded to the inquiry or offered incentives didn’t substantially differ across the announcement timing conditions.\n",
      "\n",
      "C.\n",
      "\n",
      "Only around half the municipalities that responded to inquiries mentioning plans for an announcement before the next election offered incentives.\n",
      "\n",
      "D.\n",
      "\n",
      "Of the municipalities that received an inquiry mentioning plans for an announcement date after the next election, more than 1,200 didn’t respond and only around 100 offered incentives.\n",
      "====================================\n",
      "\n",
      "One challenge when researching whether holding elected office changes a person’s behavior is the problem of ensuring that the experiment has an appropriate control group. To reveal the effect of holding office, researchers must compare people who hold elected office with people who do not hold office but who are otherwise similar to the office-holders. Since researchers are unable to control which politicians win elections, they therefore \\_\\_\\_\\_\\_\\_blank\n",
      "\n",
      "\n",
      "Marta Coll and colleagues’ 2010 Mediterranean Sea biodiversity census reported approximately 17,000 species, nearly double the number reported in Carlo Bianchi and Carla Morri’s 2000 census—a difference only partly attributable to the description of new invertebrate species in the interim. Another factor is that the morphological variability of microorganisms is poorly understood compared to that of vertebrates, invertebrates, plants, and algae, creating uncertainty about how to evaluate microorganisms as species. Researchers’ decisions on such matters therefore can be highly consequential. Indeed, the two censuses reported similar counts of vertebrate, plant, and algal species, suggesting that \\_\\_\\_\\_\\_\\_blank\n",
      "\n",
      "\n",
      "Researchers Suchithra Rajendran and Maximilian Popfinger modeled varying levels of passenger redistribution from short-haul flights (flights of 50 to 210 minutes, from takeoff to landing) to high-speed rail trips. Planes travel faster than trains, but air travel typically requires 3 hours of lead time for security, baggage handling, and boarding that rail travel doesn’t, so short-haul routes take similar amounts of time by air and by rail. However, the model suggests that as rail passenger volumes approach current capacity limits, long lead times emerge. Therefore, for rail to remain a viable alternative to short-haul flights, \\_\\_\\_\\_\\_\\_blank\n",
      "\n",
      "\n",
      "Researchers recently found that disruptions to an enjoyable experience, like a short series of advertisements during a television show, often increase viewers’ reported enjoyment. Suspecting that disruptions to an unpleasant experience would have the opposite effect, the researchers had participants listen to construction noise for 30 minutes and anticipated that those whose listening experience was frequently interrupted with short breaks of silence would thus \\_\\_\\_\\_\\_\\_blank\n",
      "\n",
      "\n",
      "Volunteering, or giving time for a community service for free, is a valuable form of civic engagement because helping in a community is also good for society as a whole. In a survey of youths in the United States, most young people said that they believe volunteering is a way to help people on an individual level. Meanwhile, only 6% of the youths said that they think volunteering is a way to help fix problems in society overall. These replies suggest that \\_\\_\\_\\_\\_\\_blank\n",
      "\n",
      "\n"
     ]
    }
   ],
   "source": [
    "output_query(sanitize(query))"
   ]
  },
  {
   "cell_type": "markdown",
   "id": "5dcba59f",
   "metadata": {
    "papermill": {
     "duration": 0.019842,
     "end_time": "2025-04-18T23:33:19.632475",
     "exception": false,
     "start_time": "2025-04-18T23:33:19.612633",
     "status": "completed"
    },
    "tags": []
   },
   "source": [
    "By sanitizing the output, even though you are essentially trimming HTML and data the LLM can't understand, you can end up with less relevant answers. Therefore, it is important to always sanitize the questions of unnecessary HTML that tampers with the semantic meaning."
   ]
  },
  {
   "cell_type": "markdown",
   "id": "8f75e23e",
   "metadata": {
    "papermill": {
     "duration": 0.018766,
     "end_time": "2025-04-18T23:33:19.670325",
     "exception": false,
     "start_time": "2025-04-18T23:33:19.651559",
     "status": "completed"
    },
    "tags": []
   },
   "source": [
    "## Limitations\n",
    "The relevance of the semantic question finder is limited by the model's understanding of the questions' underlying meanings. The embeddings may require fine-tuning so that the details relevant to the SAT are captured more precisely. "
   ]
  },
  {
   "cell_type": "markdown",
   "id": "4ff60a95",
   "metadata": {
    "papermill": {
     "duration": 0.021708,
     "end_time": "2025-04-18T23:33:19.711646",
     "exception": false,
     "start_time": "2025-04-18T23:33:19.689938",
     "status": "completed"
    },
    "tags": []
   },
   "source": [
    "# Evaluating Usability of SAT Specs Data\n",
    "This is a demo of an attempted RAG pipeline using the SAT specs pdf. It did not work, however it provided some insights on how specific the PDF needs to be. The model cannot embed and find relevant chunks if there is a lot of noise."
   ]
  },
  {
   "cell_type": "code",
   "execution_count": 42,
   "id": "b41f0f53",
   "metadata": {
    "execution": {
     "iopub.execute_input": "2025-04-18T23:33:19.753604Z",
     "iopub.status.busy": "2025-04-18T23:33:19.753217Z",
     "iopub.status.idle": "2025-04-18T23:33:23.911800Z",
     "shell.execute_reply": "2025-04-18T23:33:23.911075Z"
    },
    "papermill": {
     "duration": 4.181139,
     "end_time": "2025-04-18T23:33:23.913119",
     "exception": false,
     "start_time": "2025-04-18T23:33:19.731980",
     "status": "completed"
    },
    "tags": []
   },
   "outputs": [
    {
     "data": {
      "text/markdown": [
       "Okay, I can definitely see why you chose option C, and I agree that it's a very tempting answer! Let's break down why option A is better and why option C might be a bit of a trap.\n",
       "\n",
       "**Here's the breakdown:**\n",
       "\n",
       "*   **Question Type:** This is a Command of Evidence question, specifically an inference question. We need to find the answer choice that is **most strongly suggested** by the text. This means the answer might not be directly stated, but it's the most logical conclusion we can draw.\n",
       "\n",
       "*   **Why Choice A is Best:**\n",
       "    *   The passage explicitly states the conventional method \"can result in a loss of up to 80% of the solution, increasing the cost of manufacturing at scale.\"\n",
       "    *   It then contrasts this with spray coating, which the researchers describe as \"highly reproducible, concise, and practical.\" The passage implies this new method addresses the cost issue.\n",
       "    *   Therefore, it's strongly suggested that the conventional method's high cost at scale makes it **less suitable** than the alternative (spray coating).\n",
       "\n",
       "*   **Why Choice C is Incorrect:**\n",
       "    *   This is where the nuance comes in. Choice C states: \"It typically entails a greater loss of nanoparticle solution than do **other established approaches** for ETL fabrication.\"\n",
       "    *   The passage **only describes ONE conventional method** (the nanoparticle solution method).\n",
       "    *   While spray coating may be 'practical', there is nothing that suggests it is an established method.\n",
       "    *   We can't compare the solution loss of this specific conventional method to \"other established approaches\" because the passage doesn't give us information about other established approaches.\n",
       "    *   We also do not know if \"conventional ETL fabrication\" is the same as \"established approaches\".\n",
       "\n",
       "**SAT Skills in Play:**\n",
       "\n",
       "*   **Careful Reading:** The SAT loves to test whether you're reading closely and paying attention to the precise wording.\n",
       "*   **Inference vs. Direct Statement:** You need to distinguish between what the text explicitly says and what it implies.\n",
       "*   **Avoiding Assumptions:** Don't bring in outside knowledge or make assumptions that aren't supported by the text.\n",
       "\n",
       "**Actionable Improvement Strategy:**\n",
       "\n",
       "1.  **Focus on Explicit Mentions:** When answering inference questions, make sure your answer is firmly based on something stated in the text.\n",
       "2.  **Qualify Your Answers:** Use words like \"suggests,\" \"implies,\" or \"indicates\" when justifying your answer. This acknowledges that you're making an inference, not just quoting the text.\n",
       "3.  **Beware of \"Close But Not Quite\":** The SAT often includes answer choices that are partially correct or seem related to the topic but don't directly answer the question based on the text.\n",
       "\n",
       "I hope this helps clarify why Choice A is the better answer! Let me know if you have any other questions.\n"
      ],
      "text/plain": [
       "<IPython.core.display.Markdown object>"
      ]
     },
     "execution_count": 42,
     "metadata": {},
     "output_type": "execute_result"
    }
   ],
   "source": [
    "from google.genai.types import GenerateContentConfig\n",
    "\n",
    "question = {\n",
    "        \"question\" : \"\"\"\n",
    "In a paper about p-i-n planar perovskite solar cells (one of several perovskite cell architectures designed to collect and store solar power), Lyndsey McMillon-Brown et al. described a method for fabricating the cell’s electronic transport layer (ETL) using a spray coating. Conventional ETL fabrication is accomplished using a solution of nanoparticles. The process can result in a loss of up to 80% of the solution, increasing the cost of manufacturing at scale—an issue that may be obviated by spray coating fabrication, which the researchers describe as “highly reproducible, concise, and practical.”\n",
    "\n",
    "What does the text most strongly suggest about conventional ETL fabrication?\n",
    "A. It is less suitable for manufacturing large volumes of planar p-i-n perovskite solar cells than an alternative fabrication method may be.\n",
    "B. It is more expensive when manufacturing at scale than are processes for fabricating ETLs used in other perovskite solar cell architectures.\n",
    "C. It typically entails a greater loss of nanoparticle solution than do other established approaches for ETL fabrication.\n",
    "D. It is somewhat imprecise and therefore limits the potential effectiveness of p-i-n planar perovskite solar cells at capturing and storing solar power.\n",
    "\"\"\",\n",
    "        \"rationale\" : \"\"\"\n",
    "Choice A is the best answer. Conventional solar cell fabrication increases “the cost of manufacturing at scale,” but spray coating might get rid of that problem.\n",
    "\n",
    "Choice B is incorrect. This is not completely supported by the text. While it’s true that conventional ETL fabrication is expensive at scale, there’s nothing in the text that mentions other perovskite solar cell architectures. Choice C is incorrect. This choice does not match the text. Only one conventional method of ETL fabrication is described, so we can’t compare the solution loss in this method to that of other conventional methods. Choice D is incorrect. This choice isn’t supported by the text. The text never suggests that the effectiveness of solar cells changes based on their method of fabrication. \n",
    "\"\"\",\n",
    "        \"user_answer\" : \"C\",\n",
    "        \"user_rationale\": \"Isn't the new method of ETL fabrication the same as the 'established methods'\",\n",
    "}\n",
    "\n",
    "response = client.models.generate_content(\n",
    "    model=\"gemini-2.0-flash-001\",\n",
    "    contents=f\"{question['question']} {question['rationale']}\\n The user got: {question['user_answer']}\\n {question['user_rationale']}\",\n",
    "    config=GenerateContentConfig(\n",
    "        system_instruction=[\n",
    "            \"You are an SAT expert tutor. Analyze questions using the official SAT framework. \",\n",
    "            \"Help students by:\\n\",\n",
    "            \"1. Identifying question type and skills tested\\n\",\n",
    "            \"2. Explaining why answers are correct/incorrect\\n\",\n",
    "            \"3. Providing actionable improvement strategies\\n\",\n",
    "            \"Use formal but friendly language. Reference the SAT specs when possible.\",\n",
    "        ]\n",
    "    ),\n",
    ")\n",
    "\n",
    "\n",
    "Markdown(response.text)"
   ]
  },
  {
   "cell_type": "markdown",
   "id": "286bcc82",
   "metadata": {
    "papermill": {
     "duration": 0.020768,
     "end_time": "2025-04-18T23:33:23.955282",
     "exception": false,
     "start_time": "2025-04-18T23:33:23.934514",
     "status": "completed"
    },
    "tags": []
   },
   "source": [
    "## Parse PDF\n",
    "The following code uses lossy conversion to turn the PDF into readable text."
   ]
  },
  {
   "cell_type": "markdown",
   "id": "c85d6636",
   "metadata": {
    "papermill": {
     "duration": 0.020762,
     "end_time": "2025-04-18T23:33:23.998359",
     "exception": false,
     "start_time": "2025-04-18T23:33:23.977597",
     "status": "completed"
    },
    "tags": []
   },
   "source": [
    "Information like tables and images will be lost in the process, as demonstrated by the following snippet."
   ]
  },
  {
   "cell_type": "code",
   "execution_count": 43,
   "id": "7807e61f",
   "metadata": {
    "execution": {
     "iopub.execute_input": "2025-04-18T23:33:24.041138Z",
     "iopub.status.busy": "2025-04-18T23:33:24.040764Z",
     "iopub.status.idle": "2025-04-18T23:33:24.550272Z",
     "shell.execute_reply": "2025-04-18T23:33:24.548930Z"
    },
    "papermill": {
     "duration": 0.533307,
     "end_time": "2025-04-18T23:33:24.552278",
     "exception": false,
     "start_time": "2025-04-18T23:33:24.018971",
     "status": "completed"
    },
    "tags": []
   },
   "outputs": [
    {
     "name": "stdout",
     "output_type": "stream",
     "text": [
      "Example table  \n",
      "This is an example of a data table. \n",
      "Disability \n",
      "Category Participants  Ballots \n",
      "Completed  Ballots \n",
      "Incomplete/  \n",
      "Terminated  Results  \n",
      "Accuracy  Time to \n",
      "complete \n",
      "Blind  5 1 4 34.5%, n=1  1199 sec, n=1  \n",
      "Low Vision  5 2 3 98.3% n=2  \n",
      "(97.7%, n=3)  1716 sec, n=3  \n",
      "(1934 sec, n=2)  \n",
      "Dexterity  5 4 1 98.3%, n=4  1672.1 sec, n=4  \n",
      "Mobility  3 3 0 95.4%, n=3  1416 sec, n=3  \n",
      " \n"
     ]
    }
   ],
   "source": [
    "from PyPDF2 import PdfReader\n",
    "from io import BytesIO\n",
    "import requests\n",
    "\n",
    "url = \"https://www.w3.org/WAI/WCAG20/Techniques/working-examples/PDF20/table.pdf\"\n",
    "response = requests.get(url)\n",
    "pdf_bytes = BytesIO(response.content)\n",
    "\n",
    "text = \"\"\n",
    "pdf_reader = PdfReader(pdf_bytes)\n",
    "for page in pdf_reader.pages:\n",
    "    text += page.extract_text()\n",
    "\n",
    "print(text[0:1000])"
   ]
  },
  {
   "cell_type": "code",
   "execution_count": 44,
   "id": "7d8e8977",
   "metadata": {
    "execution": {
     "iopub.execute_input": "2025-04-18T23:33:24.594384Z",
     "iopub.status.busy": "2025-04-18T23:33:24.594046Z",
     "iopub.status.idle": "2025-04-18T23:33:28.812221Z",
     "shell.execute_reply": "2025-04-18T23:33:28.810867Z"
    },
    "papermill": {
     "duration": 4.240589,
     "end_time": "2025-04-18T23:33:28.813700",
     "exception": false,
     "start_time": "2025-04-18T23:33:24.573111",
     "status": "completed"
    },
    "tags": []
   },
   "outputs": [
    {
     "name": "stdout",
     "output_type": "stream",
     "text": [
      "<class '_io.BytesIO'>\n",
      "Assessment Framework \n",
      "for the Digital SAT® SuiteAssessment Framework \n",
      "for the Digital SAT® Suite\n",
      "Version 3.01, August 2024\n",
      "About College Board\n",
      "College Board reaches more than 7 million students a year, helping them \n",
      "navigate the path from high school to college and career. Our not-for-\n",
      "profit membership organization was founded more than 120 years ago. \n",
      "We pioneered programs like the SAT® and AP® to expand opportunities \n",
      "for students and help them develop the skills they need. Our BigFuture® \n",
      "program helps students plan for college, pay for college, and explore \n",
      "careers. Learn more at cb.org .\n",
      "Suggested Citation:  College Board. 2024. Assessment Framework for the \n",
      "Digital SAT Suite , version 3.01 (August 2024). New Y ork: College Board.\n",
      "© 2024 College Board. College Board, Advanced Placement, AP , BigFuture, Landscape, Pre-AP , SAT, and \n",
      "the acorn logo are registered trademarks of College Board. AP Potential, Bluebook, Connections, PSAT, \n",
      "Skills Insight, Student Search Service, and The\n"
     ]
    }
   ],
   "source": [
    "# Download the PDF using requests\n",
    "url = \"https://satsuite.collegeboard.org/media/pdf/assessment-framework-for-digital-sat-suite.pdf\"\n",
    "\n",
    "response = requests.get(url)\n",
    "pdf_bytes = BytesIO(response.content)\n",
    "\n",
    "print(type(pdf_bytes))\n",
    "\n",
    "specs_text = \"\"\n",
    "pdf_reader = PdfReader(pdf_bytes)\n",
    "for page in pdf_reader.pages:\n",
    "    specs_text += page.extract_text()\n",
    "\n",
    "print(specs_text[0:1000])"
   ]
  },
  {
   "cell_type": "markdown",
   "id": "2d1cd00e",
   "metadata": {
    "papermill": {
     "duration": 0.021784,
     "end_time": "2025-04-18T23:33:28.856910",
     "exception": false,
     "start_time": "2025-04-18T23:33:28.835126",
     "status": "completed"
    },
    "tags": []
   },
   "source": [
    "This text data might be too big for the model to contain within the prompt."
   ]
  },
  {
   "cell_type": "code",
   "execution_count": 45,
   "id": "550ade8c",
   "metadata": {
    "execution": {
     "iopub.execute_input": "2025-04-18T23:33:28.900928Z",
     "iopub.status.busy": "2025-04-18T23:33:28.900592Z",
     "iopub.status.idle": "2025-04-18T23:33:30.624844Z",
     "shell.execute_reply": "2025-04-18T23:33:30.623953Z"
    },
    "papermill": {
     "duration": 1.747942,
     "end_time": "2025-04-18T23:33:30.626399",
     "exception": false,
     "start_time": "2025-04-18T23:33:28.878457",
     "status": "completed"
    },
    "tags": []
   },
   "outputs": [
    {
     "data": {
      "text/plain": [
       "153273"
      ]
     },
     "execution_count": 45,
     "metadata": {},
     "output_type": "execute_result"
    }
   ],
   "source": [
    "client.models.count_tokens(\n",
    "    model=model, contents=specs_text\n",
    ").total_tokens"
   ]
  },
  {
   "cell_type": "markdown",
   "id": "fa38a9f3",
   "metadata": {
    "papermill": {
     "duration": 0.020753,
     "end_time": "2025-04-18T23:33:30.669065",
     "exception": false,
     "start_time": "2025-04-18T23:33:30.648312",
     "status": "completed"
    },
    "tags": []
   },
   "source": [
    "That's a pretty significant size! The only way to incorporate the PDF properly is to chunk it."
   ]
  },
  {
   "cell_type": "markdown",
   "id": "fa58f543",
   "metadata": {
    "papermill": {
     "duration": 0.021047,
     "end_time": "2025-04-18T23:33:30.711258",
     "exception": false,
     "start_time": "2025-04-18T23:33:30.690211",
     "status": "completed"
    },
    "tags": []
   },
   "source": [
    "## Chunk the Parsed PDF\n",
    "In order to use the PDF, we need to \"chunk\" it so bits of relevant information can be accessed at a time. In order to maximize efficiency, a vector search database will be used, as the likelihood that any key words in the question will appear on the SAT is effectively zero. "
   ]
  },
  {
   "cell_type": "code",
   "execution_count": 46,
   "id": "f1ecebd6",
   "metadata": {
    "execution": {
     "iopub.execute_input": "2025-04-18T23:33:30.755216Z",
     "iopub.status.busy": "2025-04-18T23:33:30.754900Z",
     "iopub.status.idle": "2025-04-18T23:33:30.793027Z",
     "shell.execute_reply": "2025-04-18T23:33:30.792230Z"
    },
    "papermill": {
     "duration": 0.062145,
     "end_time": "2025-04-18T23:33:30.794590",
     "exception": false,
     "start_time": "2025-04-18T23:33:30.732445",
     "status": "completed"
    },
    "tags": []
   },
   "outputs": [],
   "source": [
    "from langchain_text_splitters import RecursiveCharacterTextSplitter\n",
    "\n",
    "text_splitter = RecursiveCharacterTextSplitter(\n",
    "    # Set a really small chunk size, just to show.\n",
    "    chunk_size=1024,\n",
    "    chunk_overlap=102,\n",
    "    length_function=len,\n",
    "    is_separator_regex=False,\n",
    ")\n",
    "\n",
    "chunked_specs_text = text_splitter.split_text(specs_text)"
   ]
  },
  {
   "cell_type": "markdown",
   "id": "47a3b278",
   "metadata": {
    "papermill": {
     "duration": 0.020278,
     "end_time": "2025-04-18T23:33:30.835919",
     "exception": false,
     "start_time": "2025-04-18T23:33:30.815641",
     "status": "completed"
    },
    "tags": []
   },
   "source": [
    "Check out the chunks:"
   ]
  },
  {
   "cell_type": "markdown",
   "id": "f10cd94d",
   "metadata": {
    "papermill": {
     "duration": 0.02024,
     "end_time": "2025-04-18T23:33:30.876064",
     "exception": false,
     "start_time": "2025-04-18T23:33:30.855824",
     "status": "completed"
    },
    "tags": []
   },
   "source": []
  },
  {
   "cell_type": "code",
   "execution_count": 47,
   "id": "f8da806f",
   "metadata": {
    "execution": {
     "iopub.execute_input": "2025-04-18T23:33:30.917642Z",
     "iopub.status.busy": "2025-04-18T23:33:30.917222Z",
     "iopub.status.idle": "2025-04-18T23:33:30.921951Z",
     "shell.execute_reply": "2025-04-18T23:33:30.920703Z"
    },
    "papermill": {
     "duration": 0.027606,
     "end_time": "2025-04-18T23:33:30.923616",
     "exception": false,
     "start_time": "2025-04-18T23:33:30.896010",
     "status": "completed"
    },
    "tags": []
   },
   "outputs": [
    {
     "name": "stdout",
     "output_type": "stream",
     "text": [
      "702\n",
      "Assessment Framework \n",
      "for the Digital SAT® SuiteAssessment Framework \n",
      "for the Digital SAT® Suite\n",
      "Version 3.01, August 2024\n",
      "About College Board\n",
      "College Board reaches more than 7 million students a year, helping them \n",
      "navigate the path from high school to college and career. Our not-for-\n",
      "profit membership organization was founded more than 120 years ago. \n",
      "We pioneered programs like the SAT® and AP® to expand opportunities \n",
      "for students and help them develop the skills they need. Our BigFuture® \n",
      "program helps students plan for college, pay for college, and explore \n",
      "careers. Learn more at cb.org .\n",
      "Suggested Citation:  College Board. 2024. Assessment Framework for the \n",
      "Digital SAT Suite , version 3.01 (August 2024). New Y ork: College Board.\n",
      "© 2024 College Board. College Board, Advanced Placement, AP , BigFuture, Landscape, Pre-AP , SAT, and \n",
      "the acorn logo are registered trademarks of College Board. AP Potential, Bluebook, Connections, PSAT,\n"
     ]
    }
   ],
   "source": [
    "print(len(chunked_specs_text))\n",
    "print(chunked_specs_text[0])"
   ]
  },
  {
   "cell_type": "markdown",
   "id": "44e5ae4d",
   "metadata": {
    "papermill": {
     "duration": 0.021802,
     "end_time": "2025-04-18T23:33:30.968050",
     "exception": false,
     "start_time": "2025-04-18T23:33:30.946248",
     "status": "completed"
    },
    "tags": []
   },
   "source": [
    "## Initialize ReAct agent\n",
    "The model will instead be a ReAct agent and figure out what to search up and call that tool as an extension and we will see what happens\n",
    "\n",
    "We will start by finding a gemini model for embedding."
   ]
  },
  {
   "cell_type": "markdown",
   "id": "b4cf0139",
   "metadata": {
    "papermill": {
     "duration": 0.021971,
     "end_time": "2025-04-18T23:33:31.012238",
     "exception": false,
     "start_time": "2025-04-18T23:33:30.990267",
     "status": "completed"
    },
    "tags": []
   },
   "source": [
    "Now let's create a Chroma database client and add the document embeddings"
   ]
  },
  {
   "cell_type": "code",
   "execution_count": 48,
   "id": "56edfeab",
   "metadata": {
    "execution": {
     "iopub.execute_input": "2025-04-18T23:33:31.057263Z",
     "iopub.status.busy": "2025-04-18T23:33:31.056890Z",
     "iopub.status.idle": "2025-04-18T23:33:41.413754Z",
     "shell.execute_reply": "2025-04-18T23:33:41.412568Z"
    },
    "papermill": {
     "duration": 10.381476,
     "end_time": "2025-04-18T23:33:41.415353",
     "exception": false,
     "start_time": "2025-04-18T23:33:31.033877",
     "status": "completed"
    },
    "tags": []
   },
   "outputs": [],
   "source": [
    "import chromadb\n",
    "\n",
    "SPECS_DB_NAME = \"specs\"\n",
    "\n",
    "embed_fn = GeminiEmbeddingFunction()\n",
    "embed_fn.document_mode = True\n",
    "\n",
    "chroma_client = chromadb.Client()\n",
    "#print(chroma_client.list_collections())\n",
    "db = chroma_client.get_or_create_collection(name=SPECS_DB_NAME, embedding_function=embed_fn)\n",
    "for i in range(int(len(chunked_specs_text) / 100)):\n",
    "    db.add(documents=chunked_specs_text[i:100+i], ids=[str(i + j) for j in range(100)])"
   ]
  },
  {
   "cell_type": "markdown",
   "id": "3d5e7582",
   "metadata": {
    "papermill": {
     "duration": 0.021616,
     "end_time": "2025-04-18T23:33:41.458488",
     "exception": false,
     "start_time": "2025-04-18T23:33:41.436872",
     "status": "completed"
    },
    "tags": []
   },
   "source": [
    "Check out the database"
   ]
  },
  {
   "cell_type": "code",
   "execution_count": 49,
   "id": "0cbf3335",
   "metadata": {
    "execution": {
     "iopub.execute_input": "2025-04-18T23:33:41.499828Z",
     "iopub.status.busy": "2025-04-18T23:33:41.499499Z",
     "iopub.status.idle": "2025-04-18T23:33:41.513879Z",
     "shell.execute_reply": "2025-04-18T23:33:41.513021Z"
    },
    "papermill": {
     "duration": 0.036337,
     "end_time": "2025-04-18T23:33:41.515104",
     "exception": false,
     "start_time": "2025-04-18T23:33:41.478767",
     "status": "completed"
    },
    "tags": []
   },
   "outputs": [
    {
     "data": {
      "text/plain": [
       "{'ids': ['0'],\n",
       " 'embeddings': array([[ 5.80166355e-02,  4.36070710e-02, -5.12756817e-02,\n",
       "         -1.44314906e-03,  2.73717772e-02,  4.12952006e-02,\n",
       "          5.71677238e-02,  7.64632318e-03,  9.56675038e-03,\n",
       "         -5.80519577e-03, -4.39782254e-02,  9.93977953e-03,\n",
       "          3.03114597e-02,  3.39544937e-02, -7.10375309e-02,\n",
       "          1.01664122e-02,  2.03551948e-02,  5.44842966e-02,\n",
       "         -1.12781808e-01, -2.91494676e-03, -2.88882591e-02,\n",
       "         -3.38051245e-02, -1.49710365e-02, -1.39160426e-02,\n",
       "         -1.64779034e-02,  7.98442122e-03,  7.00960010e-02,\n",
       "          1.01699783e-02,  1.97551977e-02, -3.44269574e-02,\n",
       "          2.98777758e-03,  9.17043630e-03, -2.51114983e-02,\n",
       "         -8.72381590e-03,  7.50523322e-05,  3.42415981e-02,\n",
       "         -2.42317207e-02, -3.20444927e-02,  7.41561651e-02,\n",
       "         -4.53105606e-02, -4.95616272e-02, -4.72334400e-03,\n",
       "         -1.52662601e-02, -1.15578976e-02, -2.57304776e-02,\n",
       "          5.48221776e-03,  6.22319020e-02,  5.05198240e-02,\n",
       "         -1.08670801e-01,  3.87461856e-02,  3.76404338e-02,\n",
       "          2.82543674e-02, -1.12163037e-01,  4.10740972e-02,\n",
       "         -3.71634699e-02,  5.99206332e-03, -2.40207538e-02,\n",
       "         -4.28720191e-02, -1.08973670e-03,  3.40756699e-02,\n",
       "          1.05064129e-02,  2.35935226e-02,  4.58424399e-03,\n",
       "         -2.21987478e-02,  4.96019013e-02,  1.15091922e-02,\n",
       "          4.42131460e-02, -6.75921589e-02, -5.26988208e-02,\n",
       "          1.06926588e-02,  3.47644798e-02,  6.68431073e-02,\n",
       "          1.32676568e-02,  1.27605069e-02,  1.21104876e-02,\n",
       "         -1.93833635e-04,  1.41022261e-02, -3.21718715e-02,\n",
       "         -4.64808522e-03,  9.91228148e-02, -3.37284245e-02,\n",
       "          5.24462238e-02,  6.21226132e-02,  3.91206890e-03,\n",
       "          4.60108928e-02, -8.70271213e-03,  1.23034595e-02,\n",
       "         -1.28133938e-01, -2.87133902e-02, -1.64378118e-02,\n",
       "          5.29186577e-02,  3.30431201e-02,  9.16795991e-03,\n",
       "          1.36559345e-02,  2.93000676e-02, -1.43960798e-02,\n",
       "         -9.56787542e-02, -8.39812607e-02,  7.39913285e-02,\n",
       "          1.87342633e-02,  9.75035131e-03,  4.36013984e-03,\n",
       "         -3.24239470e-02, -3.92059237e-02, -1.39458850e-02,\n",
       "          7.91692138e-02,  2.23348774e-02, -6.05219603e-02,\n",
       "         -4.39632945e-02,  2.29139496e-02, -1.57225877e-02,\n",
       "         -3.34867239e-02, -6.84443768e-03,  3.57104763e-02,\n",
       "         -9.50761791e-03, -3.51773412e-03,  1.65853836e-02,\n",
       "          3.05765029e-02, -7.34856352e-02,  4.93869744e-02,\n",
       "         -1.35535756e-02,  4.30152342e-02,  7.01768091e-03,\n",
       "          3.01902983e-02,  7.02088177e-02,  1.18755726e-02,\n",
       "          2.04857942e-02,  8.30172654e-03, -3.94785255e-02,\n",
       "         -4.17043306e-02,  9.32582095e-03, -5.86279519e-02,\n",
       "          3.81321423e-02,  5.02973096e-03, -1.42060453e-02,\n",
       "         -5.16521186e-02,  2.11465266e-02,  2.77757626e-02,\n",
       "          3.25606577e-02,  5.14609963e-02, -3.08694541e-02,\n",
       "         -7.40062445e-04, -1.04706369e-01,  1.19366450e-02,\n",
       "          5.83255012e-03, -3.08419932e-02,  3.24390270e-02,\n",
       "          1.74153689e-02, -5.59562643e-04,  1.27332341e-02,\n",
       "         -3.67884487e-02, -6.43752841e-03, -6.04125224e-02,\n",
       "         -4.95353416e-02,  1.58683863e-02, -4.08671796e-02,\n",
       "          3.86186838e-02, -3.35833058e-02,  4.54988219e-02,\n",
       "          2.09956970e-02,  7.09988251e-02, -3.43339629e-02,\n",
       "          5.96209764e-02,  1.98834836e-02, -5.05765602e-02,\n",
       "         -1.11844633e-02, -7.07397312e-02, -1.21114263e-02,\n",
       "         -2.86048297e-02, -1.18953758e-03, -6.30153567e-02,\n",
       "          2.09246147e-02, -1.80896148e-02, -1.04634866e-01,\n",
       "          3.56591456e-02, -1.60821863e-02, -1.92561969e-02,\n",
       "         -4.41370383e-02, -3.24174799e-02, -9.04508121e-03,\n",
       "          6.24283589e-02, -1.71958022e-02,  7.85420276e-03,\n",
       "         -2.75226124e-02,  3.10528427e-02,  1.92671660e-02,\n",
       "         -3.02817971e-02,  6.27220375e-03,  6.47130087e-02,\n",
       "          1.51586188e-02,  7.67297074e-02, -2.29598805e-02,\n",
       "          2.58672442e-02,  4.40891422e-02, -1.38843367e-02,\n",
       "          1.00173214e-02,  2.21455912e-03, -3.17572523e-03,\n",
       "         -3.19272093e-02, -5.17348312e-02,  4.07911488e-04,\n",
       "         -1.55000361e-02,  3.75127071e-03, -4.24440764e-02,\n",
       "         -8.70858505e-03,  5.60728367e-03, -4.19645011e-02,\n",
       "         -1.07061520e-01,  7.16448650e-02,  2.04445198e-02,\n",
       "         -5.21069467e-02,  1.51334424e-02,  8.45359452e-03,\n",
       "         -7.13956356e-02,  7.82205164e-03, -2.58199740e-02,\n",
       "          6.69478700e-02, -1.19733606e-02,  4.62455451e-02,\n",
       "          1.41000915e-02, -6.26668707e-03,  2.30310182e-03,\n",
       "          3.34906653e-02,  4.10009827e-03,  6.07665628e-02,\n",
       "          8.88145939e-02, -1.75245069e-02, -2.94035021e-02,\n",
       "         -2.63199024e-02, -2.61491649e-02,  1.22614112e-02,\n",
       "          2.96027381e-02, -1.42258164e-02,  9.16348712e-04,\n",
       "         -1.55073004e-02,  3.12971734e-02,  6.98070071e-05,\n",
       "         -2.31550205e-02,  1.13678246e-03, -7.88397901e-03,\n",
       "          1.64743382e-02,  7.17388019e-02, -5.95940687e-02,\n",
       "         -4.23376309e-03, -4.79818380e-04, -1.32244015e-02,\n",
       "          5.77465072e-02, -2.46070139e-03,  1.92456003e-02,\n",
       "         -5.22776134e-02, -2.86002234e-02, -8.95087514e-03,\n",
       "         -6.51429687e-03,  1.39532685e-02, -1.00507952e-01,\n",
       "         -4.24877144e-02,  2.18698028e-02, -2.56649721e-02,\n",
       "          1.76934134e-02,  9.33578424e-03, -2.15140097e-02,\n",
       "          1.27885444e-03, -3.31358574e-02, -8.33016038e-02,\n",
       "         -7.04244152e-02, -7.51446560e-02, -2.85590570e-02,\n",
       "         -4.82351817e-02, -1.11951549e-02, -5.71641736e-02,\n",
       "          2.68591996e-02,  4.11462784e-03,  2.22476455e-03,\n",
       "         -8.38469341e-03, -2.46393811e-02, -1.54517666e-02,\n",
       "          7.08921580e-04, -2.49075498e-02, -3.22938114e-02,\n",
       "         -6.23974279e-02,  1.97972655e-02,  2.87237074e-02,\n",
       "         -4.65525463e-02, -3.85891423e-02,  8.87269899e-03,\n",
       "         -5.28175272e-02, -2.71327421e-02,  3.65902148e-02,\n",
       "         -9.16150026e-03, -7.43733346e-02, -7.94962980e-03,\n",
       "          4.17517014e-02, -2.70789047e-03, -3.82475108e-02,\n",
       "          3.28784920e-02,  2.74867639e-02,  4.37347312e-03,\n",
       "          3.50610539e-02, -2.72608269e-02, -9.10433941e-03,\n",
       "          2.58714277e-02,  4.81436849e-02, -3.90308127e-02,\n",
       "          1.79567672e-02, -3.66287753e-02, -1.28577296e-02,\n",
       "         -3.70660312e-02,  1.31806247e-02, -2.55208481e-02,\n",
       "         -1.48080778e-03, -4.76340344e-03,  2.37953775e-02,\n",
       "         -5.23040108e-02, -6.38165325e-02, -1.29147237e-02,\n",
       "         -5.45050111e-03, -1.53034061e-01,  1.70869380e-02,\n",
       "         -3.49002518e-02, -2.00694967e-02, -1.88856926e-02,\n",
       "          4.44856398e-02, -1.25894016e-02, -2.64524911e-02,\n",
       "          8.18429515e-03, -1.52463624e-02,  3.90927829e-02,\n",
       "         -5.26719056e-02,  3.62305641e-02, -8.52019805e-03,\n",
       "          1.65385543e-03,  6.72470639e-03,  3.75752919e-03,\n",
       "         -2.57620886e-02,  1.25113633e-02,  5.91949513e-03,\n",
       "         -2.40331944e-02, -1.21482341e-02,  2.83407234e-02,\n",
       "          2.56095417e-02,  3.39273512e-02,  3.31112929e-02,\n",
       "          4.46236804e-02, -2.68947501e-02,  1.55458013e-02,\n",
       "         -8.32157582e-03,  3.69162532e-03,  1.44904042e-02,\n",
       "         -5.77007979e-03,  1.54826581e-03,  2.24501602e-02,\n",
       "          6.63838442e-03,  3.47910486e-02,  1.32909063e-02,\n",
       "          1.06773283e-02,  2.93501038e-02,  5.11190519e-02,\n",
       "          7.73564773e-03, -4.62403372e-02, -2.42497716e-02,\n",
       "          2.91189644e-02, -6.00806139e-02, -1.47859221e-02,\n",
       "          5.20723639e-03, -1.86122139e-03, -4.20429371e-02,\n",
       "          1.67293660e-02,  5.35215922e-02,  2.74229925e-02,\n",
       "         -6.94102198e-02,  4.08094861e-02, -7.37296976e-03,\n",
       "          3.77385318e-03, -2.79146209e-02,  1.63557392e-03,\n",
       "         -3.31038050e-02, -6.48552179e-02,  6.97042644e-02,\n",
       "          2.46927645e-02, -1.54647166e-02, -3.90476012e-03,\n",
       "         -5.29565513e-02,  1.06386608e-02, -7.63162412e-03,\n",
       "         -9.23177227e-03,  7.15001812e-03, -4.65217307e-02,\n",
       "          2.95240134e-02,  4.47836667e-02, -2.58597117e-02,\n",
       "          3.28717344e-02, -9.92986839e-03, -2.01046118e-03,\n",
       "          4.26500998e-02, -1.02301948e-02,  1.94264874e-02,\n",
       "         -4.05213237e-02, -1.73816588e-02,  2.56788693e-02,\n",
       "          7.68792927e-02,  3.04466952e-02,  2.56336201e-03,\n",
       "          5.48380092e-02, -3.59294936e-02, -5.11903130e-02,\n",
       "         -6.21623285e-02,  4.78590131e-02, -4.51164378e-04,\n",
       "         -1.01554440e-02, -1.09042868e-03,  8.00474547e-03,\n",
       "         -4.09643985e-02,  4.60597537e-02, -3.78358774e-02,\n",
       "         -2.32667401e-02, -4.79908362e-02,  8.17416385e-02,\n",
       "          7.53336772e-03,  1.88280046e-02,  3.65650244e-02,\n",
       "          2.31723972e-02, -1.91145130e-02,  5.51417423e-03,\n",
       "         -1.29362000e-02,  5.10175936e-02, -6.51572272e-02,\n",
       "         -1.31199416e-02, -2.02726815e-02, -3.75877991e-02,\n",
       "         -1.23191718e-02, -2.32520681e-02,  1.39611373e-02,\n",
       "         -1.47142180e-03,  3.32498632e-04,  1.12538971e-02,\n",
       "          2.02512722e-02,  4.06043604e-02,  1.81058645e-02,\n",
       "         -3.75541998e-03,  1.64482649e-02, -7.75260329e-02,\n",
       "          1.79013424e-03,  3.90715152e-02,  4.83902870e-03,\n",
       "          7.02983886e-03,  2.42124149e-03,  6.29286990e-02,\n",
       "          1.14664491e-02, -2.28633452e-02, -6.23428822e-02,\n",
       "         -8.88354797e-03, -1.82411093e-02, -5.96529990e-03,\n",
       "         -9.49529931e-02, -6.75694570e-02,  1.68540012e-02,\n",
       "          1.39626125e-02,  1.50713446e-02, -2.79989317e-02,\n",
       "          2.38965936e-02, -2.93452628e-02, -2.80521940e-02,\n",
       "          4.69942689e-02,  2.22980622e-02,  2.67113652e-02,\n",
       "         -2.29064599e-02, -3.68673354e-02,  9.28972382e-04,\n",
       "         -3.14886943e-02,  5.45802675e-02,  3.81424427e-02,\n",
       "         -9.82583687e-03, -9.75987874e-03, -3.39753181e-03,\n",
       "         -5.42528667e-02, -3.66875529e-02,  5.24652191e-03,\n",
       "          1.20246941e-02,  5.35198301e-02, -3.44860516e-02,\n",
       "         -4.98520257e-03, -3.55897145e-03,  4.40122979e-03,\n",
       "          2.80053616e-02,  5.23190983e-02, -1.39685674e-02,\n",
       "         -4.12508734e-02,  5.08039026e-03, -1.77863203e-02,\n",
       "          1.43261172e-03, -2.20268089e-02,  1.62992198e-02,\n",
       "          4.51993346e-02, -4.44896705e-02, -1.67660159e-03,\n",
       "         -2.83312872e-02,  1.01768514e-02, -3.61744240e-02,\n",
       "         -2.61132009e-02,  6.18925355e-02,  4.50195335e-02,\n",
       "          6.45436794e-02,  1.98087972e-02, -4.03549969e-02,\n",
       "          1.46335242e-02,  1.56129273e-02, -8.20877310e-03,\n",
       "          9.90838092e-03,  3.64913642e-02,  5.24053313e-02,\n",
       "          1.83603335e-02, -2.18650699e-03,  2.76752803e-02,\n",
       "         -2.24059261e-02,  7.83847738e-03,  3.24387513e-02,\n",
       "         -1.76712256e-02,  7.84556493e-02, -3.19869667e-02,\n",
       "          3.76001783e-02, -1.28575079e-02, -2.26729941e-02,\n",
       "          2.79879812e-02, -2.00726092e-02, -1.93551350e-02,\n",
       "          8.22996534e-03, -6.03975449e-03, -5.26188454e-03,\n",
       "         -4.19163425e-03, -7.87567571e-02, -2.36071665e-02,\n",
       "          5.46574965e-02,  2.11618468e-02,  3.68438661e-02,\n",
       "         -1.12427138e-02,  1.81844570e-02,  2.07927357e-02,\n",
       "         -2.51409933e-02,  3.17105837e-02,  8.80330708e-03,\n",
       "          4.38487977e-02, -7.96992518e-03,  3.35229486e-02,\n",
       "          8.29839408e-02,  2.08736788e-02, -2.27769464e-02,\n",
       "          4.37225355e-03, -7.26549095e-03, -2.44155806e-02,\n",
       "          8.16580057e-02,  1.91629175e-02, -2.26154923e-02,\n",
       "         -3.48675437e-02,  1.67389063e-03, -1.36521487e-02,\n",
       "         -2.51241401e-03, -1.62085351e-02,  1.21321827e-02,\n",
       "         -2.66942545e-03, -5.98924980e-03, -7.83384498e-03,\n",
       "         -9.23777558e-03,  3.21002491e-02, -3.84116843e-02,\n",
       "         -2.40487270e-02,  4.00654636e-02, -3.62205431e-02,\n",
       "          9.11411084e-03, -1.45532645e-03,  8.19107704e-03,\n",
       "         -1.09390942e-02,  9.09950025e-03,  1.28719332e-02,\n",
       "          3.90242003e-02,  3.81474681e-02, -5.16197353e-04,\n",
       "         -5.53876497e-02,  2.50641331e-02,  2.82035563e-02,\n",
       "         -2.34670863e-02,  3.63191217e-02,  6.94688261e-02,\n",
       "          6.20050058e-02,  9.23190359e-03,  1.79108549e-02,\n",
       "         -1.10834166e-02, -2.47420073e-02, -2.42549423e-02,\n",
       "          1.99090466e-02, -3.14182453e-02,  6.13017268e-02,\n",
       "          2.12169308e-02, -7.98197463e-03, -5.92970774e-02,\n",
       "          1.59455575e-02,  1.14530092e-02, -5.65842539e-03,\n",
       "          5.80064505e-02,  1.72997955e-02,  4.54897396e-02,\n",
       "         -3.24725881e-02, -3.25901918e-02,  5.18535301e-02,\n",
       "         -4.70557995e-02,  3.41535220e-03, -1.63305420e-02,\n",
       "         -4.22875099e-02, -3.58601883e-02, -6.37771785e-02,\n",
       "         -3.46611850e-02, -2.29824781e-02, -3.71391978e-03,\n",
       "         -2.73804087e-02,  2.48477254e-02, -8.19472894e-02,\n",
       "          5.76100824e-03, -4.02736142e-02, -5.46662137e-03,\n",
       "         -2.27484349e-02,  2.79185623e-02,  1.82147678e-02,\n",
       "          2.22990643e-02,  2.19506081e-02, -5.76094985e-02,\n",
       "         -2.74683591e-02,  3.24624218e-02,  1.07289152e-03,\n",
       "         -2.75122356e-02,  6.64937422e-02, -1.71345694e-03,\n",
       "          6.88604917e-03, -3.97225231e-04,  4.06631008e-02,\n",
       "         -3.48501578e-02, -1.39064603e-02,  4.53068726e-02,\n",
       "         -9.19779018e-03, -6.41627470e-04,  2.67547835e-02,\n",
       "         -5.85050806e-02, -1.82013363e-02,  2.31376123e-02,\n",
       "          2.56540067e-02, -1.86200906e-03,  3.20546478e-02,\n",
       "          7.02229934e-03,  2.24356260e-02,  1.79935973e-02,\n",
       "          6.13055937e-03,  5.86877801e-02,  4.09233272e-02,\n",
       "          2.07659230e-02, -4.19071093e-02, -1.91310085e-02,\n",
       "         -1.40892444e-02, -5.76054119e-03, -4.59849499e-02,\n",
       "          1.47640249e-02, -3.11255790e-02,  3.32067721e-02,\n",
       "         -1.81060079e-02, -4.76227552e-02,  7.55692646e-03,\n",
       "          4.97656278e-02,  2.24995799e-02,  4.94121127e-02,\n",
       "         -6.14284799e-02,  1.19183948e-02,  2.18840111e-02,\n",
       "         -2.77697407e-02, -2.54314579e-03, -3.05494331e-02,\n",
       "          1.73031690e-03, -1.93163240e-03, -4.16246206e-02,\n",
       "          4.81459685e-02, -4.00580615e-02, -4.25818339e-02,\n",
       "         -1.11350119e-02, -3.80438678e-02, -1.23585958e-03,\n",
       "         -4.77713943e-02,  3.61616747e-03, -4.14988492e-03,\n",
       "         -2.13531894e-03, -2.63940897e-02,  5.04175834e-02,\n",
       "          2.49335561e-02, -4.36887741e-02,  3.61094438e-02,\n",
       "         -3.01739350e-02, -3.86070870e-02,  6.21401845e-03,\n",
       "         -3.54882926e-02,  1.56432372e-02,  2.70776842e-02,\n",
       "         -3.77275646e-02,  1.66042186e-02, -5.59265912e-02,\n",
       "          8.56745581e-04, -4.94323261e-02,  3.77576388e-02,\n",
       "         -2.72562113e-02, -2.22713165e-02, -2.88175996e-02,\n",
       "          2.45312080e-02,  4.09937464e-02,  1.09606115e-02,\n",
       "         -6.09617718e-02, -2.58368440e-04,  9.82476585e-03,\n",
       "         -2.30663102e-02,  8.97172391e-02,  6.07517362e-02,\n",
       "         -4.92484942e-02,  2.61505339e-02,  1.52827706e-02,\n",
       "          1.14171710e-02,  2.20664535e-02,  8.70280527e-03,\n",
       "         -4.35095094e-02, -3.55313197e-02,  9.31928772e-03,\n",
       "          5.80750071e-02,  3.06682959e-02,  1.46369589e-02,\n",
       "         -6.86746463e-02, -3.20826545e-02, -4.79165837e-02,\n",
       "          4.80555445e-02,  3.19304168e-02, -1.17012113e-02,\n",
       "         -4.64003533e-03, -2.44570384e-03,  1.29481927e-02,\n",
       "         -4.25913185e-02,  2.01796778e-02, -1.47005720e-02,\n",
       "         -2.13555545e-02, -3.48796882e-02,  2.65420247e-02,\n",
       "          1.20047443e-02, -3.60845216e-02,  5.52808382e-02,\n",
       "          4.25706841e-02,  2.39757672e-02,  1.02229696e-03,\n",
       "         -2.69704405e-02,  2.21041460e-02, -1.10016372e-02,\n",
       "         -3.83054316e-02,  3.24082561e-03, -2.38851495e-02,\n",
       "         -7.96965149e-04,  3.64617780e-02, -6.19663373e-02,\n",
       "          6.73890300e-03,  3.70311551e-02, -1.10648321e-02,\n",
       "         -1.76464971e-02, -6.68511586e-03,  3.95942852e-02,\n",
       "         -3.21222134e-02,  2.20915936e-02, -3.15232389e-02,\n",
       "         -3.72835249e-02,  7.68566057e-02, -1.77826118e-02]]),\n",
       " 'documents': ['Assessment Framework \\nfor the Digital SAT® SuiteAssessment Framework \\nfor the Digital SAT® Suite\\nVersion 3.01, August 2024\\nAbout College Board\\nCollege Board reaches more than 7 million students a year, helping them \\nnavigate the path from high school to college and career. Our not-for-\\nprofit membership organization was founded more than 120 years ago. \\nWe pioneered programs like the SAT® and AP® to expand opportunities \\nfor students and help them develop the skills they need. Our BigFuture® \\nprogram helps students plan for college, pay for college, and explore \\ncareers. Learn more at cb.org .\\nSuggested Citation:  College Board. 2024. Assessment Framework for the \\nDigital SAT Suite , version 3.01 (August 2024). New Y ork: College Board.\\n© 2024 College Board. College Board, Advanced Placement, AP , BigFuture, Landscape, Pre-AP , SAT, and \\nthe acorn logo are registered trademarks of College Board. AP Potential, Bluebook, Connections, PSAT,'],\n",
       " 'uris': None,\n",
       " 'data': None,\n",
       " 'metadatas': [None],\n",
       " 'included': [<IncludeEnum.embeddings: 'embeddings'>,\n",
       "  <IncludeEnum.documents: 'documents'>,\n",
       "  <IncludeEnum.metadatas: 'metadatas'>]}"
      ]
     },
     "execution_count": 49,
     "metadata": {},
     "output_type": "execute_result"
    }
   ],
   "source": [
    "db.count()\n",
    "db.peek(1)"
   ]
  },
  {
   "cell_type": "markdown",
   "id": "6f2035c5",
   "metadata": {
    "papermill": {
     "duration": 0.020103,
     "end_time": "2025-04-18T23:33:41.556440",
     "exception": false,
     "start_time": "2025-04-18T23:33:41.536337",
     "status": "completed"
    },
    "tags": []
   },
   "source": [
    "Let's look for *Information and Ideas* and see what relevant information the vector database finds on it."
   ]
  },
  {
   "cell_type": "code",
   "execution_count": 50,
   "id": "e22e5ee7",
   "metadata": {
    "execution": {
     "iopub.execute_input": "2025-04-18T23:33:41.598380Z",
     "iopub.status.busy": "2025-04-18T23:33:41.598021Z",
     "iopub.status.idle": "2025-04-18T23:33:41.886457Z",
     "shell.execute_reply": "2025-04-18T23:33:41.885156Z"
    },
    "papermill": {
     "duration": 0.311144,
     "end_time": "2025-04-18T23:33:41.888154",
     "exception": false,
     "start_time": "2025-04-18T23:33:41.577010",
     "status": "completed"
    },
    "tags": []
   },
   "outputs": [
    {
     "data": {
      "text/markdown": [
       "4.1.8. Word Count  ..................................................................................................................... 79\n",
       "4.1.9. Informational Graphics  ............................................................................................... 79\n",
       "4.1.10. T ext Complexity  .......................................................................................................... 79\n",
       "4.2 Definitions  ..................................................................................................................................... 79\n",
       "4.2.1. Construct  ......................................................................................................................... 79\n",
       "4.2.2. Claims  ................................................................................................................................ 80\n",
       "4.3 Content Domain Structure  ...................................................................................................... 81"
      ],
      "text/plain": [
       "<IPython.core.display.Markdown object>"
      ]
     },
     "execution_count": 50,
     "metadata": {},
     "output_type": "execute_result"
    }
   ],
   "source": [
    "# Switch to query mode when generating embeddings.\n",
    "embed_fn.document_mode = False\n",
    "\n",
    "# Search the Chroma DB using the specified query.\n",
    "query = \"What is the weighting of Information and Ideas?\"\n",
    "\n",
    "result = db.query(query_texts=[query], n_results=1)\n",
    "[all_passages] = result[\"documents\"]\n",
    "\n",
    "\n",
    "Markdown(all_passages[0])"
   ]
  },
  {
   "cell_type": "markdown",
   "id": "f925d88d",
   "metadata": {
    "papermill": {
     "duration": 0.021781,
     "end_time": "2025-04-18T23:33:41.932195",
     "exception": false,
     "start_time": "2025-04-18T23:33:41.910414",
     "status": "completed"
    },
    "tags": []
   },
   "source": [
    "Now let's look for something more generic, like scientific vocabulary or weighting of passages."
   ]
  },
  {
   "cell_type": "code",
   "execution_count": 51,
   "id": "9199d372",
   "metadata": {
    "execution": {
     "iopub.execute_input": "2025-04-18T23:33:41.978137Z",
     "iopub.status.busy": "2025-04-18T23:33:41.977842Z",
     "iopub.status.idle": "2025-04-18T23:33:42.267703Z",
     "shell.execute_reply": "2025-04-18T23:33:42.266837Z"
    },
    "papermill": {
     "duration": 0.314415,
     "end_time": "2025-04-18T23:33:42.268920",
     "exception": false,
     "start_time": "2025-04-18T23:33:41.954505",
     "status": "completed"
    },
    "tags": []
   },
   "outputs": [
    {
     "data": {
      "text/markdown": [
       "standardized testing as well as many families, educators, and policymakers have \n",
       "raised concerns about the extent to which U.S. students are tested as part of \n",
       "K–12 education. Polling has suggested that the public’s doubts about the value of \n",
       "standardized testing in schools have grown over time, and the necessary relaxation \n",
       "of federal testing requirements under the successor Every Student Succeeds Act \n",
       "during the 2019–2020 and, to a lesser extent, 2020–2021 pandemic years has \n",
       "further contributed to those doubts. (See Bruno and Goldhaber 2021 for a brief \n",
       "recent overview.)A Living \n",
       "Document\n",
       "This release of the Assessment \n",
       "Framework for the Digital SAT \n",
       "Suite  includes authoritative, \n",
       "up-to-date information about \n",
       "the digital suite. As College \n",
       "Board continues to research and \n",
       "implement the tests, updates \n",
       "will be made to this document \n",
       "(and disseminated through other \n",
       "means, such as our website, \n",
       "sat.org/digital ) to ensure that \n",
       "readers have as complete and \n",
       "accurate a picture as possible."
      ],
      "text/plain": [
       "<IPython.core.display.Markdown object>"
      ]
     },
     "execution_count": 51,
     "metadata": {},
     "output_type": "execute_result"
    }
   ],
   "source": [
    "# Switch to query mode when generating embeddings.\n",
    "embed_fn.document_mode = False\n",
    "\n",
    "# Search the Chroma DB using the specified query.\n",
    "query = \"What scientific stuff are we tested on?\"\n",
    "\n",
    "result = db.query(query_texts=[query], n_results=2)\n",
    "[all_passages] = result[\"documents\"]\n",
    "\n",
    "Markdown(all_passages[0])"
   ]
  },
  {
   "cell_type": "markdown",
   "id": "147a8c6b",
   "metadata": {
    "papermill": {
     "duration": 0.020783,
     "end_time": "2025-04-18T23:33:42.311130",
     "exception": false,
     "start_time": "2025-04-18T23:33:42.290347",
     "status": "completed"
    },
    "tags": []
   },
   "source": [
    "The information captured by the embedding model is not relevant to the question. Perhaps more results solve the problem?"
   ]
  },
  {
   "cell_type": "code",
   "execution_count": 52,
   "id": "520b52dd",
   "metadata": {
    "execution": {
     "iopub.execute_input": "2025-04-18T23:33:42.355181Z",
     "iopub.status.busy": "2025-04-18T23:33:42.354878Z",
     "iopub.status.idle": "2025-04-18T23:33:42.646129Z",
     "shell.execute_reply": "2025-04-18T23:33:42.645376Z"
    },
    "papermill": {
     "duration": 0.314296,
     "end_time": "2025-04-18T23:33:42.647260",
     "exception": false,
     "start_time": "2025-04-18T23:33:42.332964",
     "status": "completed"
    },
    "tags": []
   },
   "outputs": [
    {
     "name": "stdout",
     "output_type": "stream",
     "text": [
      "standardized testing as well as many families, educators, and policymakers have \n",
      "raised concerns about the extent to which U.S. students are tested as part of \n",
      "K–12 education. Polling has suggested that the public’s doubts about the value of \n",
      "standardized testing in schools have grown over time, and the necessary relaxation \n",
      "of federal testing requirements under the successor Every Student Succeeds Act \n",
      "during the 2019–2020 and, to a lesser extent, 2020–2021 pandemic years has \n",
      "further contributed to those doubts. (See Bruno and Goldhaber 2021 for a brief \n",
      "recent overview.)A Living \n",
      "Document\n",
      "This release of the Assessment \n",
      "Framework for the Digital SAT \n",
      "Suite  includes authoritative, \n",
      "up-to-date information about \n",
      "the digital suite. As College \n",
      "Board continues to research and \n",
      "implement the tests, updates \n",
      "will be made to this document \n",
      "(and disseminated through other \n",
      "means, such as our website, \n",
      "sat.org/digital ) to ensure that \n",
      "readers have as complete and \n",
      "accurate a picture as possible.\n",
      "to show colleges what they know and can do. The test has changed significantly \n",
      "over time to better meet the evolving needs of students from all backgrounds and \n",
      "the changing landscape of postsecondary education. The paper-based SAT Suite \n",
      "of Assessments—completely redesigned most recently in 2015 and launched \n",
      "together with free, world-class tailored practice for all students—measures the \n",
      "knowledge and skills that students are learning in high school and that matter most \n",
      "for college and career readiness. \n",
      "The next major change to the SAT Suite is a fully digital testing experience. College \n",
      "Board’s goal is to provide a less stressful, more accessible experience for all \n",
      "students and educators while retaining the value, rigor, and predictive power of the \n",
      "paper-based SAT Suite tests. T o achieve this goal, we assembled a team of experts \n",
      "in math and literacy content development, assessment design, psychometrics, \n",
      "technology, and product development and rigorously tested and piloted these\n"
     ]
    },
    {
     "data": {
      "text/plain": [
       "[None, None]"
      ]
     },
     "execution_count": 52,
     "metadata": {},
     "output_type": "execute_result"
    }
   ],
   "source": [
    "result = db.query(query_texts=[query], n_results=2)\n",
    "[all_passages] = result[\"documents\"]\n",
    "\n",
    "[print(passage) for passage in all_passages]"
   ]
  },
  {
   "cell_type": "markdown",
   "id": "766953bc",
   "metadata": {
    "papermill": {
     "duration": 0.020246,
     "end_time": "2025-04-18T23:33:42.688498",
     "exception": false,
     "start_time": "2025-04-18T23:33:42.668252",
     "status": "completed"
    },
    "tags": []
   },
   "source": [
    "There are unnecessary details in the original PDF. \"Garbage in, garbage out\" \n",
    "The solution is perhaps to distill the relevant information from the PDF into a text document, and look for other relevant information.\n",
    "# Synthesized Workflow\n",
    "Now let's merge the features of the individual features into one!\n",
    "Since the SAT Specs data was not helpful to the agent and the Question Finder does not require anything from the agent (until later iterations), the workflow for the agent will consist of a system prompt outlining context, the debate-style evaluation prompt and the prompt for multiple thinking processes. The user will be able to chat with the model normally to ask follow-up questions.\n",
    "\n",
    "## How it (may) look from the website's perspective\n",
    "The user will first get a question wrong. They'll press a button to launch the AI. The bot will ask, \"Why did you pick option X?\" and the user will enter their rationale. The debate-style prompt will be used for that purpose only. A button will be available for ToT processing, and the respective prompt will be subsituted for the query; at all other times, the user can ask specific questions or talk to the bot in an otherwise normal way.\n",
    "\n",
    "In essence, it allows a conversation to look like this: \n",
    "\n",
    "```\n",
    "Bot: Why did you pick option C?\n",
    "User: [...]\n",
    "Bot: Here's why answer C could be right: [...] And why A is right instead: [...]\n",
    "User: Maybe I should read through it slower?\n",
    "Bot: Absolutely! [...]\n",
    "User: [Generate Possible Reasoning Chain]\n",
    "Bot: [...]\n",
    "```\n",
    "\n",
    "## Implementation\n",
    "Let's first define an adaptable system prompt for the following workflow (this merged system prompt can also be evaluated against other variations! It isn't necessary for the scope of the notebook, so I won't include that here.)"
   ]
  },
  {
   "cell_type": "code",
   "execution_count": 53,
   "id": "f3e817f7",
   "metadata": {
    "execution": {
     "iopub.execute_input": "2025-04-18T23:33:42.733990Z",
     "iopub.status.busy": "2025-04-18T23:33:42.733677Z",
     "iopub.status.idle": "2025-04-18T23:33:42.737535Z",
     "shell.execute_reply": "2025-04-18T23:33:42.736680Z"
    },
    "papermill": {
     "duration": 0.029787,
     "end_time": "2025-04-18T23:33:42.738893",
     "exception": false,
     "start_time": "2025-04-18T23:33:42.709106",
     "status": "completed"
    },
    "tags": []
   },
   "outputs": [],
   "source": [
    "system_prompt = \"\"\"\n",
    "You are an expert SAT tutor and answer analyst with two core capabilities:\n",
    "\n",
    "1. **Answer Evaluation Mode** (Triggered by answer comparison requests):\n",
    "- Evaluate both correct and student answers\n",
    "- Present strongest arguments FOR and AGAINST the student's answer\n",
    "- Explain why the correct answer is superior with textual evidence\n",
    "\n",
    "2. **Cognitive Analysis Mode** (Triggered by student mistake analysis requests):\n",
    "- Analyze SAT questions with official rationales\n",
    "- Identify cognitive biases in student thinking\n",
    "- Generate multiple plausible thinking processes\n",
    "- Output JSON array of thought pathways\n",
    "\n",
    "Always maintain capacity for:\n",
    "- Contextual follow-up questions\n",
    "- Additional analysis layers on existing content\n",
    "- Seamless switching between modes based on query type\n",
    "\"\"\""
   ]
  },
  {
   "cell_type": "markdown",
   "id": "2dc7513c",
   "metadata": {
    "papermill": {
     "duration": 0.02117,
     "end_time": "2025-04-18T23:33:42.782569",
     "exception": false,
     "start_time": "2025-04-18T23:33:42.761399",
     "status": "completed"
    },
    "tags": []
   },
   "source": [
    "The evaluation prompt:"
   ]
  },
  {
   "cell_type": "code",
   "execution_count": 54,
   "id": "2a15caf4",
   "metadata": {
    "execution": {
     "iopub.execute_input": "2025-04-18T23:33:42.826603Z",
     "iopub.status.busy": "2025-04-18T23:33:42.826335Z",
     "iopub.status.idle": "2025-04-18T23:33:42.829541Z",
     "shell.execute_reply": "2025-04-18T23:33:42.828830Z"
    },
    "papermill": {
     "duration": 0.026944,
     "end_time": "2025-04-18T23:33:42.830984",
     "exception": false,
     "start_time": "2025-04-18T23:33:42.804040",
     "status": "completed"
    },
    "tags": []
   },
   "outputs": [],
   "source": [
    "final_eval_prompt = \"\"\"\n",
    "Evaluate both the correct answer and the user's answer as potential responses to the question.\n",
    "\n",
    "*   Present the strongest possible argument *in favor* of the user's answer.\n",
    "*   Present the strongest possible argument *against* the user's answer.\n",
    "*   Explain why, ultimately, the correct answer is the superior choice based on textual evidence.\n",
    "\"\"\""
   ]
  },
  {
   "cell_type": "markdown",
   "id": "eddcfce9",
   "metadata": {
    "papermill": {
     "duration": 0.021438,
     "end_time": "2025-04-18T23:33:42.874899",
     "exception": false,
     "start_time": "2025-04-18T23:33:42.853461",
     "status": "completed"
    },
    "tags": []
   },
   "source": [
    "The prompt for multiple thinking processes:"
   ]
  },
  {
   "cell_type": "code",
   "execution_count": 55,
   "id": "66ff4946",
   "metadata": {
    "execution": {
     "iopub.execute_input": "2025-04-18T23:33:42.919590Z",
     "iopub.status.busy": "2025-04-18T23:33:42.919206Z",
     "iopub.status.idle": "2025-04-18T23:33:42.923502Z",
     "shell.execute_reply": "2025-04-18T23:33:42.922406Z"
    },
    "papermill": {
     "duration": 0.028617,
     "end_time": "2025-04-18T23:33:42.925010",
     "exception": false,
     "start_time": "2025-04-18T23:33:42.896393",
     "status": "completed"
    },
    "tags": []
   },
   "outputs": [],
   "source": [
    "final_thinking_prompt = \"\"\"You are an expert SAT tutor analyzing a student's mistake on an SAT question. You are provided with:\n",
    "\n",
    "1. The SAT question, including the text, answer choices, and the correct answer.\n",
    "2. The official rationale for the correct answer and why the other choices are incorrect.\n",
    "3. The student's chosen answer and their rationale for choosing that answer.\n",
    "4. An argument contrasting the user's answer with the correct answer.\n",
    "\n",
    "Consider potential cognitive biases (e.g., confirmation bias, anchoring bias, availability heuristic) that might have influenced the student's decision-making process. Develop multiple step-by-step thinking processes that incorporate these biases, leading to both the student's answer and the correct answer.\n",
    "\n",
    "Output a JSON array of objects. Each object represents a distinct thinking process and whether it leads to the user's answer or the correct answer. Include as many plausible thinking processes as possible, even if they seem obvious.\n",
    "\n",
    "Format:\n",
    "```json\n",
    "[\n",
    "    {\n",
    "        \"thinking_process\": \"[Here you will define a process step by step to get one of the answers]\",\n",
    "        \"leads_to\": \"user\" | \"correct\"\n",
    "    },\n",
    "    {\n",
    "        \"thinking_process\": \"[Here you will define another process step by step to get one of the answers]\",\n",
    "        \"leads_to\": \"user\" | \"correct\"\n",
    "    },\n",
    "    {\n",
    "        \"thinking_process\": \"[Include as many of these as possible!]\",\n",
    "        \"leads_to\": \"user\" | \"correct\"\n",
    "    },\n",
    "]\n",
    "```\n",
    "\"\"\""
   ]
  },
  {
   "cell_type": "markdown",
   "id": "6af95d10",
   "metadata": {
    "papermill": {
     "duration": 0.022027,
     "end_time": "2025-04-18T23:33:42.969990",
     "exception": false,
     "start_time": "2025-04-18T23:33:42.947963",
     "status": "completed"
    },
    "tags": []
   },
   "source": [
    "Here's a simulated workflow (context handled manually to stay consistent with above client objects and to simulate handling in the real backend):"
   ]
  },
  {
   "cell_type": "code",
   "execution_count": 56,
   "id": "4d6d6606",
   "metadata": {
    "execution": {
     "iopub.execute_input": "2025-04-18T23:33:43.014917Z",
     "iopub.status.busy": "2025-04-18T23:33:43.014608Z",
     "iopub.status.idle": "2025-04-18T23:33:54.342521Z",
     "shell.execute_reply": "2025-04-18T23:33:54.341421Z"
    },
    "papermill": {
     "duration": 11.352624,
     "end_time": "2025-04-18T23:33:54.343962",
     "exception": false,
     "start_time": "2025-04-18T23:33:42.991338",
     "status": "completed"
    },
    "tags": []
   },
   "outputs": [
    {
     "data": {
      "text/markdown": [
       "Okay, let's break down the confirmation bias example from the JSON array in simpler terms. It's this one:\n",
       "\n",
       "```json\n",
       "{\n",
       "    \"thinking_process\": \"1. Read the question and quickly scan the answer choices. 2. Notice that choice C mentions 'greater loss of nanoparticle solution,' which directly relates to the 80% loss mentioned in the passage. 3. Anchor on this seemingly relevant detail. 4. Without carefully considering the comparative element ('than do other established approaches'), select C based on the availability of the 'solution loss' detail.\",\n",
       "    \"leads_to\": \"user\"\n",
       "}\n",
       "```\n",
       "\n",
       "Here's the breakdown in plain English:\n",
       "\n",
       "*   **The Setup:** You read the question and the passage. You quickly spot that the passage mentions an \"80% loss of nanoparticle solution.\"\n",
       "\n",
       "*   **The Bias (Confirmation Bias):** Your brain *really* likes it when it finds information that seems to match something it already knows. In this case, you see \"loss of nanoparticle solution\" in answer choice C, and because you *remembered* that detail from the passage, your brain says, \"Aha! That *must* be important! That *must* be the right answer!\" You're *confirming* your initial impression that the solution loss is the key thing.\n",
       "\n",
       "*   **The Mistake:** Because your brain is so happy to find that confirming detail, you *stop thinking critically*. You don't carefully read the *entire* answer choice C. You skim over the phrase \"than do other established approaches\" and don't realize that the passage *doesn't* give you any information to compare the solution loss to other methods. You're so focused on confirming your initial impression that you miss a crucial detail that would make you realize the answer is wrong.\n",
       "\n",
       "*   **In essence:** Confirmation bias made you latch onto a detail you remembered and ignore other parts of the answer (and the passage) that would have shown you the answer was incorrect. You sought out evidence that supported your initial impression and failed to look for evidence that contradicted it.\n"
      ],
      "text/plain": [
       "<IPython.core.display.Markdown object>"
      ]
     },
     "execution_count": 56,
     "metadata": {},
     "output_type": "execute_result"
    }
   ],
   "source": [
    "# Initialize conversation history\n",
    "conversation_history = []\n",
    "\n",
    "# First Request (Evaluation)\n",
    "eval_content = {\n",
    "    \"role\": \"user\",\n",
    "    \"parts\": [{\n",
    "        \"text\": f\"{final_eval_prompt}: \\n{question['question']} {question['rationale']}\\n The user got: {question['user_answer']}\\n {question['user_rationale']}\"\n",
    "    }]\n",
    "}\n",
    "\n",
    "response1 = client.models.generate_content(\n",
    "    model=model,\n",
    "    contents=[*conversation_history, eval_content],\n",
    "    config=GenerateContentConfig(\n",
    "        system_instruction=[system_prompt]\n",
    "    ),\n",
    ")\n",
    "\n",
    "# Update history with first interaction\n",
    "conversation_history.extend([\n",
    "    eval_content,\n",
    "    {\"role\": \"model\", \"parts\": [{\"text\": response1.text}]}\n",
    "])\n",
    "\n",
    "# Second Request (Analysis with JSON Schema)\n",
    "analysis_content = {\n",
    "    \"role\": \"user\", \n",
    "    \"parts\": [{\n",
    "        \"text\": final_thinking_prompt + \"\\n\" + str(question)\n",
    "    }]\n",
    "}\n",
    "\n",
    "\n",
    "response2 = client.models.generate_content(\n",
    "    model=\"gemini-2.0-flash-001\",\n",
    "    contents=[*conversation_history, analysis_content],\n",
    "    config=GenerateContentConfig(\n",
    "        system_instruction=[system_prompt],  # Fixed typo: sytem_prompt -> system_prompt\n",
    "        temperature=0.1,\n",
    "        response_mime_type=\"application/json\",\n",
    "        response_schema={\n",
    "  \"title\": \"SAT Analysis Response\",\n",
    "  \"description\": \"Response format for SAT mistake analysis using multiple thinking processes\",\n",
    "  \"type\": \"array\",\n",
    "  \"minItems\": 3,\n",
    "  \"maxItems\": 8,\n",
    "  \"items\": {\n",
    "    \"type\": \"object\",\n",
    "    \"properties\": {\n",
    "      \"thinking_process\": {\n",
    "        \"type\": \"string\",\n",
    "        \"description\": \"Step-by-step explanation of cognitive path leading to an answer choice\",\n",
    "        \"minLength\": 50,\n",
    "        \"maxLength\": 500\n",
    "      },\n",
    "      \"leads_to\": {\n",
    "        \"type\": \"string\",\n",
    "        \"enum\": [\"user\", \"correct\"],\n",
    "        \"description\": \"Indicates whether this thinking process leads to the student's answer or the correct answer\"\n",
    "      }\n",
    "    },\n",
    "    \"required\": [\"thinking_process\", \"leads_to\"],\n",
    "\n",
    "  }\n",
    "        }\n",
    "    ),\n",
    ")\n",
    "\n",
    "# Update history with second interaction\n",
    "conversation_history.extend([\n",
    "    analysis_content,\n",
    "    {\"role\": \"model\", \"parts\": [{\"text\": response2.text}]}\n",
    "])\n",
    "\n",
    "# Third Request (Simplification)\n",
    "simplify_content = {\n",
    "    \"role\": \"user\",\n",
    "    \"parts\": [{\"text\": \"Explain the confirmation bias example in simpler terms\"}]\n",
    "}\n",
    "\n",
    "response3 = client.models.generate_content(\n",
    "    model=model,\n",
    "    contents=[*conversation_history, simplify_content],\n",
    "    config=GenerateContentConfig(\n",
    "        system_instruction=[system_prompt]\n",
    "    ),\n",
    ")\n",
    "\n",
    "# Final history state\n",
    "conversation_history.extend([\n",
    "    simplify_content,\n",
    "    {\"role\": \"model\", \"parts\": [{\"text\": response3.text}]}\n",
    "])\n",
    "\n",
    "Markdown(response3.text)"
   ]
  },
  {
   "cell_type": "markdown",
   "id": "cb296b7f",
   "metadata": {
    "papermill": {
     "duration": 0.022664,
     "end_time": "2025-04-18T23:33:54.389306",
     "exception": false,
     "start_time": "2025-04-18T23:33:54.366642",
     "status": "completed"
    },
    "tags": []
   },
   "source": [
    "# Conclusion\n",
    "Since the information about the SAT and its nuances aren't available online, data has to be collected over time to come up with this RAG pipeline. This feature will be implemented in the months to come.\n",
    "\n",
    "(c) Aquarc 2025\n",
    "\n",
    "Some parts of this Codelab are (c) Google 2025 under the Apache License.\n",
    "\n",
    "Questions are (c) CollegeBoard 2025. "
   ]
  }
 ],
 "metadata": {
  "kaggle": {
   "accelerator": "none",
   "dataSources": [],
   "dockerImageVersionId": 30918,
   "isGpuEnabled": false,
   "isInternetEnabled": true,
   "language": "python",
   "sourceType": "notebook"
  },
  "kernelspec": {
   "display_name": "Python 3",
   "language": "python",
   "name": "python3"
  },
  "language_info": {
   "codemirror_mode": {
    "name": "ipython",
    "version": 3
   },
   "file_extension": ".py",
   "mimetype": "text/x-python",
   "name": "python",
   "nbconvert_exporter": "python",
   "pygments_lexer": "ipython3",
   "version": "3.10.12"
  },
  "papermill": {
   "default_parameters": {},
   "duration": 228.187967,
   "end_time": "2025-04-18T23:33:55.835866",
   "environment_variables": {},
   "exception": null,
   "input_path": "__notebook__.ipynb",
   "output_path": "__notebook__.ipynb",
   "parameters": {},
   "start_time": "2025-04-18T23:30:07.647899",
   "version": "2.6.0"
  }
 },
 "nbformat": 4,
 "nbformat_minor": 5
}
