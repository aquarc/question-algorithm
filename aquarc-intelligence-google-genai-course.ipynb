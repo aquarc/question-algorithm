{
 "cells": [
  {
   "cell_type": "code",
   "execution_count": 1,
   "id": "d9ed2d25",
   "metadata": {
    "_cell_guid": "b1076dfc-b9ad-4769-8c92-a6c4dae69d19",
    "_uuid": "8f2839f25d086af736a60e9eeb907d3b93b6e0e5",
    "execution": {
     "iopub.execute_input": "2025-04-08T03:08:56.748988Z",
     "iopub.status.busy": "2025-04-08T03:08:56.748642Z",
     "iopub.status.idle": "2025-04-08T03:08:57.618065Z",
     "shell.execute_reply": "2025-04-08T03:08:57.617171Z"
    },
    "papermill": {
     "duration": 0.877155,
     "end_time": "2025-04-08T03:08:57.619634",
     "exception": false,
     "start_time": "2025-04-08T03:08:56.742479",
     "status": "completed"
    },
    "tags": []
   },
   "outputs": [],
   "source": [
    "# This Python 3 environment comes with many helpful analytics libraries installed\n",
    "# It is defined by the kaggle/python Docker image: https://github.com/kaggle/docker-python\n",
    "# For example, here's several helpful packages to load\n",
    "\n",
    "import numpy as np # linear algebra\n",
    "import pandas as pd # data processing, CSV file I/O (e.g. pd.read_csv)\n",
    "\n",
    "# Input data files are available in the read-only \"../input/\" directory\n",
    "# For example, running this (by clicking run or pressing Shift+Enter) will list all files under the input directory\n",
    "\n",
    "import os\n",
    "for dirname, _, filenames in os.walk('/kaggle/input'):\n",
    "    for filename in filenames:\n",
    "        print(os.path.join(dirname, filename))\n",
    "\n",
    "# You can write up to 20GB to the current directory (/kaggle/working/) that gets preserved as output when you create a version using \"Save & Run All\" \n",
    "# You can also write temporary files to /kaggle/temp/, but they won't be saved outside of the current session"
   ]
  },
  {
   "cell_type": "markdown",
   "id": "9456fa0e",
   "metadata": {
    "papermill": {
     "duration": 0.004243,
     "end_time": "2025-04-08T03:08:57.629049",
     "exception": false,
     "start_time": "2025-04-08T03:08:57.624806",
     "status": "completed"
    },
    "tags": []
   },
   "source": [
    "Some parts of this Codelab are (c) Google 2025 under the Apache License.\n",
    "(c) Aquarc 2025"
   ]
  },
  {
   "cell_type": "markdown",
   "id": "539bb813",
   "metadata": {
    "papermill": {
     "duration": 0.00415,
     "end_time": "2025-04-08T03:08:57.637654",
     "exception": false,
     "start_time": "2025-04-08T03:08:57.633504",
     "status": "completed"
    },
    "tags": []
   },
   "source": [
    "# Synopsis\n",
    "Aquarc is an all-in-one SAT platform for high schoolers designed to minimize time spent using the software and maximizing practice and essential questions. In order to further this mission, Aquarc Intelligence was created to analyze mistakes within a question and to suggest similar questions for efficient practicing."
   ]
  },
  {
   "cell_type": "markdown",
   "id": "2188d1dc",
   "metadata": {
    "papermill": {
     "duration": 0.004237,
     "end_time": "2025-04-08T03:08:57.646568",
     "exception": false,
     "start_time": "2025-04-08T03:08:57.642331",
     "status": "completed"
    },
    "tags": []
   },
   "source": [
    "# Install the SDK \n",
    "We will be using Google's Gemini and utilities to build the model."
   ]
  },
  {
   "cell_type": "code",
   "execution_count": 2,
   "id": "9b7774e2",
   "metadata": {
    "execution": {
     "iopub.execute_input": "2025-04-08T03:08:57.657196Z",
     "iopub.status.busy": "2025-04-08T03:08:57.656749Z",
     "iopub.status.idle": "2025-04-08T03:09:40.117046Z",
     "shell.execute_reply": "2025-04-08T03:09:40.115245Z"
    },
    "papermill": {
     "duration": 42.468075,
     "end_time": "2025-04-08T03:09:40.119250",
     "exception": false,
     "start_time": "2025-04-08T03:08:57.651175",
     "status": "completed"
    },
    "tags": []
   },
   "outputs": [
    {
     "name": "stdout",
     "output_type": "stream",
     "text": [
      "\u001b[2K     \u001b[90m━━━━━━━━━━━━━━━━━━━━━━━━━━━━━━━━━━━━━━━━\u001b[0m \u001b[32m67.3/67.3 kB\u001b[0m \u001b[31m3.2 MB/s\u001b[0m eta \u001b[36m0:00:00\u001b[0m\r\n",
      "\u001b[?25h  Installing build dependencies ... \u001b[?25l\u001b[?25hdone\r\n",
      "  Getting requirements to build wheel ... \u001b[?25l\u001b[?25hdone\r\n",
      "  Preparing metadata (pyproject.toml) ... \u001b[?25l\u001b[?25hdone\r\n",
      "\u001b[2K   \u001b[90m━━━━━━━━━━━━━━━━━━━━━━━━━━━━━━━━━━━━━━━━\u001b[0m \u001b[32m144.7/144.7 kB\u001b[0m \u001b[31m3.1 MB/s\u001b[0m eta \u001b[36m0:00:00\u001b[0m\r\n",
      "\u001b[2K   \u001b[90m━━━━━━━━━━━━━━━━━━━━━━━━━━━━━━━━━━━━━━━━\u001b[0m \u001b[32m1.0/1.0 MB\u001b[0m \u001b[31m34.2 MB/s\u001b[0m eta \u001b[36m0:00:00\u001b[0m\r\n",
      "\u001b[2K   \u001b[90m━━━━━━━━━━━━━━━━━━━━━━━━━━━━━━━━━━━━━━━━\u001b[0m \u001b[32m232.6/232.6 kB\u001b[0m \u001b[31m14.8 MB/s\u001b[0m eta \u001b[36m0:00:00\u001b[0m\r\n",
      "\u001b[2K   \u001b[90m━━━━━━━━━━━━━━━━━━━━━━━━━━━━━━━━━━━━━━━━\u001b[0m \u001b[32m18.3/18.3 MB\u001b[0m \u001b[31m72.6 MB/s\u001b[0m eta \u001b[36m0:00:00\u001b[0m\r\n",
      "\u001b[2K   \u001b[90m━━━━━━━━━━━━━━━━━━━━━━━━━━━━━━━━━━━━━━━━\u001b[0m \u001b[32m2.4/2.4 MB\u001b[0m \u001b[31m57.1 MB/s\u001b[0m eta \u001b[36m0:00:00\u001b[0m\r\n",
      "\u001b[2K   \u001b[90m━━━━━━━━━━━━━━━━━━━━━━━━━━━━━━━━━━━━━━━━\u001b[0m \u001b[32m94.9/94.9 kB\u001b[0m \u001b[31m5.0 MB/s\u001b[0m eta \u001b[36m0:00:00\u001b[0m\r\n",
      "\u001b[2K   \u001b[90m━━━━━━━━━━━━━━━━━━━━━━━━━━━━━━━━━━━━━━━━\u001b[0m \u001b[32m100.9/100.9 kB\u001b[0m \u001b[31m5.2 MB/s\u001b[0m eta \u001b[36m0:00:00\u001b[0m\r\n",
      "\u001b[2K   \u001b[90m━━━━━━━━━━━━━━━━━━━━━━━━━━━━━━━━━━━━━━━━\u001b[0m \u001b[32m284.2/284.2 kB\u001b[0m \u001b[31m14.2 MB/s\u001b[0m eta \u001b[36m0:00:00\u001b[0m\r\n",
      "\u001b[2K   \u001b[90m━━━━━━━━━━━━━━━━━━━━━━━━━━━━━━━━━━━━━━━━\u001b[0m \u001b[32m2.0/2.0 MB\u001b[0m \u001b[31m53.3 MB/s\u001b[0m eta \u001b[36m0:00:00\u001b[0m\r\n",
      "\u001b[2K   \u001b[90m━━━━━━━━━━━━━━━━━━━━━━━━━━━━━━━━━━━━━━━━\u001b[0m \u001b[32m423.3/423.3 kB\u001b[0m \u001b[31m17.6 MB/s\u001b[0m eta \u001b[36m0:00:00\u001b[0m\r\n",
      "\u001b[2K   \u001b[90m━━━━━━━━━━━━━━━━━━━━━━━━━━━━━━━━━━━━━━━━\u001b[0m \u001b[32m99.2/99.2 kB\u001b[0m \u001b[31m4.5 MB/s\u001b[0m eta \u001b[36m0:00:00\u001b[0m\r\n",
      "\u001b[2K   \u001b[90m━━━━━━━━━━━━━━━━━━━━━━━━━━━━━━━━━━━━━━━━\u001b[0m \u001b[32m16.0/16.0 MB\u001b[0m \u001b[31m75.8 MB/s\u001b[0m eta \u001b[36m0:00:00\u001b[0m\r\n",
      "\u001b[2K   \u001b[90m━━━━━━━━━━━━━━━━━━━━━━━━━━━━━━━━━━━━━━━━\u001b[0m \u001b[32m55.9/55.9 kB\u001b[0m \u001b[31m3.2 MB/s\u001b[0m eta \u001b[36m0:00:00\u001b[0m\r\n",
      "\u001b[2K   \u001b[90m━━━━━━━━━━━━━━━━━━━━━━━━━━━━━━━━━━━━━━━━\u001b[0m \u001b[32m183.4/183.4 kB\u001b[0m \u001b[31m8.8 MB/s\u001b[0m eta \u001b[36m0:00:00\u001b[0m\r\n",
      "\u001b[2K   \u001b[90m━━━━━━━━━━━━━━━━━━━━━━━━━━━━━━━━━━━━━━━━\u001b[0m \u001b[32m65.2/65.2 kB\u001b[0m \u001b[31m3.2 MB/s\u001b[0m eta \u001b[36m0:00:00\u001b[0m\r\n",
      "\u001b[2K   \u001b[90m━━━━━━━━━━━━━━━━━━━━━━━━━━━━━━━━━━━━━━━━\u001b[0m \u001b[32m118.9/118.9 kB\u001b[0m \u001b[31m5.9 MB/s\u001b[0m eta \u001b[36m0:00:00\u001b[0m\r\n",
      "\u001b[2K   \u001b[90m━━━━━━━━━━━━━━━━━━━━━━━━━━━━━━━━━━━━━━━━\u001b[0m \u001b[32m85.0/85.0 kB\u001b[0m \u001b[31m4.4 MB/s\u001b[0m eta \u001b[36m0:00:00\u001b[0m\r\n",
      "\u001b[2K   \u001b[90m━━━━━━━━━━━━━━━━━━━━━━━━━━━━━━━━━━━━━━━━\u001b[0m \u001b[32m62.3/62.3 kB\u001b[0m \u001b[31m3.2 MB/s\u001b[0m eta \u001b[36m0:00:00\u001b[0m\r\n",
      "\u001b[2K   \u001b[90m━━━━━━━━━━━━━━━━━━━━━━━━━━━━━━━━━━━━━━━━\u001b[0m \u001b[32m442.1/442.1 kB\u001b[0m \u001b[31m20.8 MB/s\u001b[0m eta \u001b[36m0:00:00\u001b[0m\r\n",
      "\u001b[2K   \u001b[90m━━━━━━━━━━━━━━━━━━━━━━━━━━━━━━━━━━━━━━━━\u001b[0m \u001b[32m319.7/319.7 kB\u001b[0m \u001b[31m16.4 MB/s\u001b[0m eta \u001b[36m0:00:00\u001b[0m\r\n",
      "\u001b[2K   \u001b[90m━━━━━━━━━━━━━━━━━━━━━━━━━━━━━━━━━━━━━━━━\u001b[0m \u001b[32m71.5/71.5 kB\u001b[0m \u001b[31m3.1 MB/s\u001b[0m eta \u001b[36m0:00:00\u001b[0m\r\n",
      "\u001b[2K   \u001b[90m━━━━━━━━━━━━━━━━━━━━━━━━━━━━━━━━━━━━━━━━\u001b[0m \u001b[32m3.8/3.8 MB\u001b[0m \u001b[31m75.5 MB/s\u001b[0m eta \u001b[36m0:00:00\u001b[0m\r\n",
      "\u001b[2K   \u001b[90m━━━━━━━━━━━━━━━━━━━━━━━━━━━━━━━━━━━━━━━━\u001b[0m \u001b[32m452.9/452.9 kB\u001b[0m \u001b[31m19.3 MB/s\u001b[0m eta \u001b[36m0:00:00\u001b[0m\r\n",
      "\u001b[2K   \u001b[90m━━━━━━━━━━━━━━━━━━━━━━━━━━━━━━━━━━━━━━━━\u001b[0m \u001b[32m46.0/46.0 kB\u001b[0m \u001b[31m2.3 MB/s\u001b[0m eta \u001b[36m0:00:00\u001b[0m\r\n",
      "\u001b[2K   \u001b[90m━━━━━━━━━━━━━━━━━━━━━━━━━━━━━━━━━━━━━━━━\u001b[0m \u001b[32m86.8/86.8 kB\u001b[0m \u001b[31m5.0 MB/s\u001b[0m eta \u001b[36m0:00:00\u001b[0m\r\n",
      "\u001b[?25h  Building wheel for pypika (pyproject.toml) ... \u001b[?25l\u001b[?25hdone\r\n",
      "\u001b[31mERROR: pip's dependency resolver does not currently take into account all the packages that are installed. This behaviour is the source of the following dependency conflicts.\r\n",
      "gcsfs 2024.10.0 requires fsspec==2024.10.0, but you have fsspec 2024.12.0 which is incompatible.\r\n",
      "google-api-core 1.34.1 requires protobuf!=3.20.0,!=3.20.1,!=4.21.0,!=4.21.1,!=4.21.2,!=4.21.3,!=4.21.4,!=4.21.5,<4.0.0dev,>=3.19.5, but you have protobuf 5.29.4 which is incompatible.\r\n",
      "google-cloud-bigtable 2.27.0 requires google-api-core[grpc]<3.0.0dev,>=2.16.0, but you have google-api-core 1.34.1 which is incompatible.\r\n",
      "google-cloud-translate 3.12.1 requires protobuf!=3.20.0,!=3.20.1,!=4.21.0,!=4.21.1,!=4.21.2,!=4.21.3,!=4.21.4,!=4.21.5,<5.0.0dev,>=3.19.5, but you have protobuf 5.29.4 which is incompatible.\r\n",
      "pandas-gbq 0.25.0 requires google-api-core<3.0.0dev,>=2.10.2, but you have google-api-core 1.34.1 which is incompatible.\r\n",
      "tensorflow 2.17.1 requires protobuf!=4.21.0,!=4.21.1,!=4.21.2,!=4.21.3,!=4.21.4,!=4.21.5,<5.0.0dev,>=3.20.3, but you have protobuf 5.29.4 which is incompatible.\r\n",
      "tensorflow-decision-forests 1.10.0 requires tensorflow==2.17.0, but you have tensorflow 2.17.1 which is incompatible.\r\n",
      "tensorflow-metadata 1.13.1 requires protobuf<5,>=3.20.3, but you have protobuf 5.29.4 which is incompatible.\u001b[0m\u001b[31m\r\n",
      "\u001b[0m"
     ]
    }
   ],
   "source": [
    "!pip uninstall -qqy jupyterlab  # Remove unused packages from Kaggle's base image that conflict\n",
    "!pip install -U -q \"google-genai==1.7.0\" langchain PyPDF2 chromadb"
   ]
  },
  {
   "cell_type": "markdown",
   "id": "6e3d769f",
   "metadata": {
    "papermill": {
     "duration": 0.005514,
     "end_time": "2025-04-08T03:09:40.131266",
     "exception": false,
     "start_time": "2025-04-08T03:09:40.125752",
     "status": "completed"
    },
    "tags": []
   },
   "source": [
    "Import the SDK and set up the API key"
   ]
  },
  {
   "cell_type": "code",
   "execution_count": 3,
   "id": "02bf7857",
   "metadata": {
    "execution": {
     "iopub.execute_input": "2025-04-08T03:09:40.144073Z",
     "iopub.status.busy": "2025-04-08T03:09:40.143722Z",
     "iopub.status.idle": "2025-04-08T03:09:41.151460Z",
     "shell.execute_reply": "2025-04-08T03:09:41.150340Z"
    },
    "papermill": {
     "duration": 1.016207,
     "end_time": "2025-04-08T03:09:41.153208",
     "exception": false,
     "start_time": "2025-04-08T03:09:40.137001",
     "status": "completed"
    },
    "tags": []
   },
   "outputs": [],
   "source": [
    "from google import genai\n",
    "from google.genai import types\n",
    "\n",
    "from IPython.display import HTML, Markdown, display"
   ]
  },
  {
   "cell_type": "markdown",
   "id": "4f545eaa",
   "metadata": {
    "papermill": {
     "duration": 0.005442,
     "end_time": "2025-04-08T03:09:41.164962",
     "exception": false,
     "start_time": "2025-04-08T03:09:41.159520",
     "status": "completed"
    },
    "tags": []
   },
   "source": [
    "Set up a retry helper so we can press \"Run All\" and not worry about hitting the quota. "
   ]
  },
  {
   "cell_type": "code",
   "execution_count": 4,
   "id": "712adef6",
   "metadata": {
    "execution": {
     "iopub.execute_input": "2025-04-08T03:09:41.177848Z",
     "iopub.status.busy": "2025-04-08T03:09:41.177323Z",
     "iopub.status.idle": "2025-04-08T03:09:41.337502Z",
     "shell.execute_reply": "2025-04-08T03:09:41.336078Z"
    },
    "papermill": {
     "duration": 0.168573,
     "end_time": "2025-04-08T03:09:41.339283",
     "exception": false,
     "start_time": "2025-04-08T03:09:41.170710",
     "status": "completed"
    },
    "tags": []
   },
   "outputs": [],
   "source": [
    "from google.api_core import retry\n",
    "\n",
    "\n",
    "is_retriable = lambda e: (isinstance(e, genai.errors.APIError) and e.code in {429, 503})\n",
    "\n",
    "genai.models.Models.generate_content = retry.Retry(\n",
    "    predicate=is_retriable)(genai.models.Models.generate_content)"
   ]
  },
  {
   "cell_type": "markdown",
   "id": "77de9171",
   "metadata": {
    "papermill": {
     "duration": 0.006223,
     "end_time": "2025-04-08T03:09:41.352057",
     "exception": false,
     "start_time": "2025-04-08T03:09:41.345834",
     "status": "completed"
    },
    "tags": []
   },
   "source": [
    "### Set up your API key\n",
    "\n",
    "To run the following cell, your API key must be stored it in a [Kaggle secret](https://www.kaggle.com/discussions/product-feedback/114053) named `GOOGLE_API_KEY`.\n",
    "\n",
    "If you don't already have an API key, you can grab one from [AI Studio](https://aistudio.google.com/app/apikey). You can find [detailed instructions in the docs](https://ai.google.dev/gemini-api/docs/api-key).\n",
    "\n",
    "To make the key available through Kaggle secrets, choose `Secrets` from the `Add-ons` menu and follow the instructions to add your key or enable it for this notebook."
   ]
  },
  {
   "cell_type": "code",
   "execution_count": 5,
   "id": "3e69d9cf",
   "metadata": {
    "execution": {
     "iopub.execute_input": "2025-04-08T03:09:41.366353Z",
     "iopub.status.busy": "2025-04-08T03:09:41.365896Z",
     "iopub.status.idle": "2025-04-08T03:09:41.561716Z",
     "shell.execute_reply": "2025-04-08T03:09:41.560898Z"
    },
    "papermill": {
     "duration": 0.204702,
     "end_time": "2025-04-08T03:09:41.563319",
     "exception": false,
     "start_time": "2025-04-08T03:09:41.358617",
     "status": "completed"
    },
    "tags": []
   },
   "outputs": [],
   "source": [
    "from kaggle_secrets import UserSecretsClient\n",
    "\n",
    "GOOGLE_API_KEY = UserSecretsClient().get_secret(\"GOOGLE_API_KEY\")"
   ]
  },
  {
   "cell_type": "markdown",
   "id": "4cf5644c",
   "metadata": {
    "papermill": {
     "duration": 0.006761,
     "end_time": "2025-04-08T03:09:41.576508",
     "exception": false,
     "start_time": "2025-04-08T03:09:41.569747",
     "status": "completed"
    },
    "tags": []
   },
   "source": [
    "### Choose your model\n",
    "Depending on what's available and your quota, choose a model that's effective for your purposes."
   ]
  },
  {
   "cell_type": "code",
   "execution_count": 6,
   "id": "47f20732",
   "metadata": {
    "execution": {
     "iopub.execute_input": "2025-04-08T03:09:41.589609Z",
     "iopub.status.busy": "2025-04-08T03:09:41.589240Z",
     "iopub.status.idle": "2025-04-08T03:09:42.026244Z",
     "shell.execute_reply": "2025-04-08T03:09:42.025382Z"
    },
    "papermill": {
     "duration": 0.444813,
     "end_time": "2025-04-08T03:09:42.027466",
     "exception": false,
     "start_time": "2025-04-08T03:09:41.582653",
     "status": "completed"
    },
    "tags": []
   },
   "outputs": [
    {
     "name": "stdout",
     "output_type": "stream",
     "text": [
      "models/chat-bison-001\n",
      "models/text-bison-001\n",
      "models/embedding-gecko-001\n",
      "models/gemini-1.0-pro-vision-latest\n",
      "models/gemini-pro-vision\n",
      "models/gemini-1.5-pro-latest\n",
      "models/gemini-1.5-pro-001\n",
      "models/gemini-1.5-pro-002\n",
      "models/gemini-1.5-pro\n",
      "models/gemini-1.5-flash-latest\n",
      "models/gemini-1.5-flash-001\n",
      "models/gemini-1.5-flash-001-tuning\n",
      "models/gemini-1.5-flash\n",
      "models/gemini-1.5-flash-002\n",
      "models/gemini-1.5-flash-8b\n",
      "models/gemini-1.5-flash-8b-001\n",
      "models/gemini-1.5-flash-8b-latest\n",
      "models/gemini-1.5-flash-8b-exp-0827\n",
      "models/gemini-1.5-flash-8b-exp-0924\n",
      "models/gemini-2.5-pro-exp-03-25\n",
      "models/gemini-2.5-pro-preview-03-25\n",
      "models/gemini-2.0-flash-exp\n",
      "models/gemini-2.0-flash\n",
      "models/gemini-2.0-flash-001\n",
      "models/gemini-2.0-flash-exp-image-generation\n",
      "models/gemini-2.0-flash-lite-001\n",
      "models/gemini-2.0-flash-lite\n",
      "models/gemini-2.0-flash-lite-preview-02-05\n",
      "models/gemini-2.0-flash-lite-preview\n",
      "models/gemini-2.0-pro-exp\n",
      "models/gemini-2.0-pro-exp-02-05\n",
      "models/gemini-exp-1206\n",
      "models/gemini-2.0-flash-thinking-exp-01-21\n",
      "models/gemini-2.0-flash-thinking-exp\n",
      "models/gemini-2.0-flash-thinking-exp-1219\n",
      "models/learnlm-1.5-pro-experimental\n",
      "models/gemma-3-1b-it\n",
      "models/gemma-3-4b-it\n",
      "models/gemma-3-12b-it\n",
      "models/gemma-3-27b-it\n",
      "models/embedding-001\n",
      "models/text-embedding-004\n",
      "models/gemini-embedding-exp-03-07\n",
      "models/gemini-embedding-exp\n",
      "models/aqa\n",
      "models/imagen-3.0-generate-002\n"
     ]
    }
   ],
   "source": [
    "client = genai.Client(api_key=GOOGLE_API_KEY)\n",
    "\n",
    "for model in client.models.list():\n",
    "  print(model.name)"
   ]
  },
  {
   "cell_type": "markdown",
   "id": "e5f274b5",
   "metadata": {
    "papermill": {
     "duration": 0.005478,
     "end_time": "2025-04-08T03:09:42.039214",
     "exception": false,
     "start_time": "2025-04-08T03:09:42.033736",
     "status": "completed"
    },
    "tags": []
   },
   "source": [
    "Check out the detailed information for your model"
   ]
  },
  {
   "cell_type": "code",
   "execution_count": 7,
   "id": "5f9159cd",
   "metadata": {
    "execution": {
     "iopub.execute_input": "2025-04-08T03:09:42.051356Z",
     "iopub.status.busy": "2025-04-08T03:09:42.051087Z",
     "iopub.status.idle": "2025-04-08T03:09:42.214864Z",
     "shell.execute_reply": "2025-04-08T03:09:42.213630Z"
    },
    "papermill": {
     "duration": 0.171879,
     "end_time": "2025-04-08T03:09:42.216715",
     "exception": false,
     "start_time": "2025-04-08T03:09:42.044836",
     "status": "completed"
    },
    "tags": []
   },
   "outputs": [
    {
     "name": "stdout",
     "output_type": "stream",
     "text": [
      "{'name': 'models/gemini-2.0-flash', 'display_name': 'Gemini 2.0 Flash', 'description': 'Gemini 2.0 Flash', 'version': '2.0', 'tuned_model_info': {}, 'input_token_limit': 1048576, 'output_token_limit': 8192, 'supported_actions': ['generateContent', 'countTokens']}\n"
     ]
    }
   ],
   "source": [
    "for model in client.models.list():\n",
    "  if model.name == 'models/gemini-2.0-flash':\n",
    "    print(model.to_json_dict())\n",
    "    break\n",
    "\n",
    "# change this line if you want to use a different model\n",
    "model = \"gemini-2.0-flash\""
   ]
  },
  {
   "cell_type": "markdown",
   "id": "0c453a27",
   "metadata": {
    "papermill": {
     "duration": 0.006559,
     "end_time": "2025-04-08T03:09:42.230507",
     "exception": false,
     "start_time": "2025-04-08T03:09:42.223948",
     "status": "completed"
    },
    "tags": []
   },
   "source": [
    "Test your model"
   ]
  },
  {
   "cell_type": "code",
   "execution_count": 8,
   "id": "46d6cf34",
   "metadata": {
    "execution": {
     "iopub.execute_input": "2025-04-08T03:09:42.243733Z",
     "iopub.status.busy": "2025-04-08T03:09:42.243394Z",
     "iopub.status.idle": "2025-04-08T03:09:43.102979Z",
     "shell.execute_reply": "2025-04-08T03:09:43.101819Z"
    },
    "papermill": {
     "duration": 0.868076,
     "end_time": "2025-04-08T03:09:43.104591",
     "exception": false,
     "start_time": "2025-04-08T03:09:42.236515",
     "status": "completed"
    },
    "tags": []
   },
   "outputs": [
    {
     "name": "stdout",
     "output_type": "stream",
     "text": [
      "Greetings, Zlork! It's nice to meet you. Is there anything I can help you with today?\n",
      "\n"
     ]
    }
   ],
   "source": [
    "chat = client.chats.create(model=model, history=[])\n",
    "response = chat.send_message('Hello! My name is Zlork.')\n",
    "print(response.text)"
   ]
  },
  {
   "cell_type": "markdown",
   "id": "2965dcbe",
   "metadata": {
    "papermill": {
     "duration": 0.005656,
     "end_time": "2025-04-08T03:09:43.116746",
     "exception": false,
     "start_time": "2025-04-08T03:09:43.111090",
     "status": "completed"
    },
    "tags": []
   },
   "source": [
    "You can use the `Markdown()` function to format it nicely in Kaggle."
   ]
  },
  {
   "cell_type": "code",
   "execution_count": 9,
   "id": "222c5dca",
   "metadata": {
    "execution": {
     "iopub.execute_input": "2025-04-08T03:09:43.129560Z",
     "iopub.status.busy": "2025-04-08T03:09:43.129252Z",
     "iopub.status.idle": "2025-04-08T03:09:43.982768Z",
     "shell.execute_reply": "2025-04-08T03:09:43.981881Z"
    },
    "papermill": {
     "duration": 0.861419,
     "end_time": "2025-04-08T03:09:43.984069",
     "exception": false,
     "start_time": "2025-04-08T03:09:43.122650",
     "status": "completed"
    },
    "tags": []
   },
   "outputs": [
    {
     "data": {
      "text/markdown": [
       "Ah, greetings **Zlork**! It is a *pleasure* to make your acquaintance. I hope you are having a **splendid** day. Perhaps you'd like to explore the *mysteries* of language with me? \n",
       "\n",
       "***What wondrous tasks might I assist you with today?***\n"
      ],
      "text/plain": [
       "<IPython.core.display.Markdown object>"
      ]
     },
     "execution_count": 9,
     "metadata": {},
     "output_type": "execute_result"
    }
   ],
   "source": [
    "response = chat.send_message('Hello! My name is Zlork.' + \n",
    "                             'Use some fancy markdown in your message')\n",
    "Markdown(response.text)"
   ]
  },
  {
   "cell_type": "markdown",
   "id": "1448cabe",
   "metadata": {
    "papermill": {
     "duration": 0.005586,
     "end_time": "2025-04-08T03:09:43.995972",
     "exception": false,
     "start_time": "2025-04-08T03:09:43.990386",
     "status": "completed"
    },
    "tags": []
   },
   "source": [
    "# A fine prompt\n",
    "**TODO: you should probably move this**\n",
    "\n",
    "Let's start by writing our prompt. What should it include and what should it mention? Following the principles taught throughout the course, let's place an importance on giving **positive** instructions rather than **negative** instructions to maintain effectiveness. \n",
    "\n",
    "The model needs to do the following:\n",
    "- Stick to the SAT: Understand weighting and importance of certain questions, categories, and ensure all advice is applicable to the bounds of the SAT. A document with the specifications of the SAT format can be used for Retrieval Augmented Generation (RAG) rather than potential hallucination over the exact requirements.\n",
    "- Have access to the current question (and maybe the previous questions for even more context)\n",
    "- Have access to the answers and time between each to estimate confidence.\n",
    "- Understand images or SVGs for Inference and other Reading/Writing questions.\n",
    "- Use Tree of Thoughts (ToT) to generate multiple solving processes because multiple methods may be used to arrive at the same answer, and output these answering mechanisms in a JSON array to present on the website effectively (a TUI for this notebook)\n",
    "- Find semantically related questions and present them to the user on the website using ReAct (a TUI for this notebook)"
   ]
  },
  {
   "cell_type": "markdown",
   "id": "a74c9f11",
   "metadata": {
    "papermill": {
     "duration": 0.005505,
     "end_time": "2025-04-08T03:09:44.007371",
     "exception": false,
     "start_time": "2025-04-08T03:09:44.001866",
     "status": "completed"
    },
    "tags": []
   },
   "source": [
    "Let's start by finding an effective prompt. \n",
    "Then we can evaluate the effectiveness of including the SAT standards in a PDF to help the user answering a question. We will also evaluate whether a vector search database is useful for this document.\n",
    "\n",
    "Below, the variables for the specific question we are testing are defined."
   ]
  },
  {
   "cell_type": "code",
   "execution_count": 10,
   "id": "5b87600d",
   "metadata": {
    "execution": {
     "iopub.execute_input": "2025-04-08T03:09:44.019915Z",
     "iopub.status.busy": "2025-04-08T03:09:44.019638Z",
     "iopub.status.idle": "2025-04-08T03:09:44.023343Z",
     "shell.execute_reply": "2025-04-08T03:09:44.022761Z"
    },
    "papermill": {
     "duration": 0.011421,
     "end_time": "2025-04-08T03:09:44.024584",
     "exception": false,
     "start_time": "2025-04-08T03:09:44.013163",
     "status": "completed"
    },
    "tags": []
   },
   "outputs": [],
   "source": [
    "# All questions are (c) CollegeBoard 2025.\n",
    "question = \"\"\"\n",
    "In a paper about p-i-n planar perovskite solar cells (one of several perovskite cell architectures designed to collect and store solar power), Lyndsey McMillon-Brown et al. described a method for fabricating the cell’s electronic transport layer (ETL) using a spray coating. Conventional ETL fabrication is accomplished using a solution of nanoparticles. The process can result in a loss of up to 80% of the solution, increasing the cost of manufacturing at scale—an issue that may be obviated by spray coating fabrication, which the researchers describe as “highly reproducible, concise, and practical.”\n",
    "\n",
    "What does the text most strongly suggest about conventional ETL fabrication?\n",
    "A. It is less suitable for manufacturing large volumes of planar p-i-n perovskite solar cells than an alternative fabrication method may be.\n",
    "B. It is more expensive when manufacturing at scale than are processes for fabricating ETLs used in other perovskite solar cell architectures.\n",
    "C. It typically entails a greater loss of nanoparticle solution than do other established approaches for ETL fabrication.\n",
    "D. It is somewhat imprecise and therefore limits the potential effectiveness of p-i-n planar perovskite solar cells at capturing and storing solar power.\n",
    "\"\"\"\n",
    "\n",
    "rationale = \"\"\"\n",
    "Choice A is the best answer. Conventional solar cell fabrication increases “the cost of manufacturing at scale,” but spray coating might get rid of that problem.\n",
    "\n",
    "Choice B is incorrect. This is not completely supported by the text. While it’s true that conventional ETL fabrication is expensive at scale, there’s nothing in the text that mentions other perovskite solar cell architectures. Choice C is incorrect. This choice does not match the text. Only one conventional method of ETL fabrication is described, so we can’t compare the solution loss in this method to that of other conventional methods. Choice D is incorrect. This choice isn’t supported by the text. The text never suggests that the effectiveness of solar cells changes based on their method of fabrication. \n",
    "\"\"\"\n",
    "\n",
    "user_answer = \"C\""
   ]
  },
  {
   "cell_type": "markdown",
   "id": "830ebc30",
   "metadata": {
    "papermill": {
     "duration": 0.005529,
     "end_time": "2025-04-08T03:09:44.036078",
     "exception": false,
     "start_time": "2025-04-08T03:09:44.030549",
     "status": "completed"
    },
    "tags": []
   },
   "source": [
    "Ideally, the user will talk to the chatbot after it gets the question wrong (or before in some scenarios, too). Either way, the user will have some rationale as to his or her answer to the question. Don't expect this rationale to be well thought out - the objective of the intelligent agent is to draw out what they actually mean. It may be completely omitted as well."
   ]
  },
  {
   "cell_type": "code",
   "execution_count": 11,
   "id": "a1b2a4a9",
   "metadata": {
    "execution": {
     "iopub.execute_input": "2025-04-08T03:09:44.048428Z",
     "iopub.status.busy": "2025-04-08T03:09:44.048180Z",
     "iopub.status.idle": "2025-04-08T03:09:44.051676Z",
     "shell.execute_reply": "2025-04-08T03:09:44.050820Z"
    },
    "papermill": {
     "duration": 0.011538,
     "end_time": "2025-04-08T03:09:44.053378",
     "exception": false,
     "start_time": "2025-04-08T03:09:44.041840",
     "status": "completed"
    },
    "tags": []
   },
   "outputs": [],
   "source": [
    "user_rationale = \"Isn't the new method of ETL fabrication the same as the 'established methods'\""
   ]
  },
  {
   "cell_type": "markdown",
   "id": "f0b85ba0",
   "metadata": {
    "papermill": {
     "duration": 0.005822,
     "end_time": "2025-04-08T03:09:44.065944",
     "exception": false,
     "start_time": "2025-04-08T03:09:44.060122",
     "status": "completed"
    },
    "tags": []
   },
   "source": [
    "Synthesize the prompt:"
   ]
  },
  {
   "cell_type": "code",
   "execution_count": 12,
   "id": "a7dac431",
   "metadata": {
    "execution": {
     "iopub.execute_input": "2025-04-08T03:09:44.079062Z",
     "iopub.status.busy": "2025-04-08T03:09:44.078762Z",
     "iopub.status.idle": "2025-04-08T03:09:48.818882Z",
     "shell.execute_reply": "2025-04-08T03:09:48.818056Z"
    },
    "papermill": {
     "duration": 4.748472,
     "end_time": "2025-04-08T03:09:48.820498",
     "exception": false,
     "start_time": "2025-04-08T03:09:44.072026",
     "status": "completed"
    },
    "tags": []
   },
   "outputs": [
    {
     "data": {
      "text/markdown": [
       "Okay, I can definitely clarify why answer C is incorrect and why A is the better choice, as well as address your question about the new method vs. established methods.\n",
       "\n",
       "Here's a breakdown of the question, incorporating the official SAT framework:\n",
       "\n",
       "*   **Question Type:** Inference (Reading Comprehension)\n",
       "*   **Skill Tested:** Drawing conclusions based on explicitly stated information and understanding implications.\n",
       "\n",
       "**Why Choice A is Correct:**\n",
       "\n",
       "*   The passage states that conventional ETL fabrication \"can result in a loss of up to 80% of the solution, *increasing the cost of manufacturing at scale*.\"\n",
       "*   It *then* contrasts this with spray coating, which the researchers describe as \"highly reproducible, concise, and practical,\" implying it *avoids* the cost issue.\n",
       "*   Therefore, it's reasonable to infer that conventional ETL fabrication is *less suitable* for large-scale manufacturing *than* the spray coating *alternative*.\n",
       "\n",
       "**Why Choice C is Incorrect:**\n",
       "\n",
       "*   This is where the careful wording of the question and answer choices becomes important. The passage *only* describes *one* conventional method: the nanoparticle solution method.\n",
       "*   The passage *doesn't* provide information about solution loss in *other* established approaches to ETL fabrication. We *only* know about the *one* conventional method mentioned.\n",
       "*   Thus, we *cannot* conclude that the nanoparticle solution method entails a *greater* loss *than other established approaches* because we have *no information* about those *other* approaches.\n",
       "\n",
       "**Addressing your question:**\n",
       "\n",
       "You asked if the new method of ETL fabrication is the same as the 'established methods'. The answer is **no**:\n",
       "\n",
       "*   The passage *contrasts* the \"conventional ETL fabrication\" (nanoparticle solution) with the *new* \"spray coating fabrication.\" The word \"conventional\" signals that nanoparticle solution is the current established method.\n",
       "*   The purpose of the passage is to highlight the *advantages* of the *new* spray coating method *compared to* the *existing* conventional method.\n",
       "\n",
       "**In summary:**\n",
       "\n",
       "Choice A is a valid inference because the text *directly* links the conventional method to increased costs at scale, and *implies* that the alternative addresses this issue. Choice C makes a comparison that isn't supported by the text because the text only gives us information about *one* conventional method.\n",
       "\n",
       "**Actionable Improvement Strategy:**\n",
       "\n",
       "1.  **Focus on Explicit vs. Implicit Information:** Practice distinguishing between what the text *directly states* and what you can *reasonably infer*. Be wary of answer choices that make comparisons or introduce information *not found in the passage.*\n",
       "2.  **Pay Close Attention to Comparative Language:** Notice words like \"more,\" \"less,\" \"greater,\" etc. Ensure the passage *explicitly* supports the comparison being made in the answer choice.\n",
       "3.  **\"One Word Wrong\" Tactic:** Sometimes, an answer choice can be very tempting, but one word can make it wrong. Train yourself to identify *that one word*. In this case, the phrase \"than do other established approaches\" introduces information that the passage doesn't support.\n",
       "\n",
       "I hope this explanation clarifies the reasoning behind the correct answer and helps you approach similar questions with more confidence! Let me know if you have any further questions.\n"
      ],
      "text/plain": [
       "<IPython.core.display.Markdown object>"
      ]
     },
     "execution_count": 12,
     "metadata": {},
     "output_type": "execute_result"
    }
   ],
   "source": [
    "from google.genai.types import GenerateContentConfig\n",
    "\n",
    "response = client.models.generate_content(\n",
    "    model=\"gemini-2.0-flash-001\",\n",
    "    # no specs yet\n",
    "    contents=f\"{question} {rationale}\\n The user got: {user_answer}\\n {user_rationale}\",\n",
    "    config=GenerateContentConfig(\n",
    "        system_instruction=[\n",
    "            \"You are an SAT expert tutor. Analyze questions using the official SAT framework. \",\n",
    "            \"Help students by:\\n\",\n",
    "            \"1. Identifying question type and skills tested\\n\",\n",
    "            \"2. Explaining why answers are correct/incorrect\\n\",\n",
    "            \"3. Providing actionable improvement strategies\\n\",\n",
    "            \"Use formal but friendly language. Reference the SAT specs when possible.\",\n",
    "        ]\n",
    "    ),\n",
    ")\n",
    "\n",
    "\n",
    "Markdown(response.text)\n"
   ]
  },
  {
   "cell_type": "markdown",
   "id": "1204e6a6",
   "metadata": {
    "papermill": {
     "duration": 0.005947,
     "end_time": "2025-04-08T03:09:48.833325",
     "exception": false,
     "start_time": "2025-04-08T03:09:48.827378",
     "status": "completed"
    },
    "tags": []
   },
   "source": [
    "Perhaps the model will be more effective with FAISS vector database searches for the PDF.\n",
    "\n",
    "# Parse PDF\n",
    "The following code uses lossy conversion to turn the PDF into readable text."
   ]
  },
  {
   "cell_type": "markdown",
   "id": "d58acbfb",
   "metadata": {
    "papermill": {
     "duration": 0.005973,
     "end_time": "2025-04-08T03:09:48.845853",
     "exception": false,
     "start_time": "2025-04-08T03:09:48.839880",
     "status": "completed"
    },
    "tags": []
   },
   "source": [
    "Information like tables and images will be lost in the process, as demonstrated by the following snippet."
   ]
  },
  {
   "cell_type": "code",
   "execution_count": 13,
   "id": "3ae612e6",
   "metadata": {
    "execution": {
     "iopub.execute_input": "2025-04-08T03:09:48.859387Z",
     "iopub.status.busy": "2025-04-08T03:09:48.859108Z",
     "iopub.status.idle": "2025-04-08T03:09:49.744178Z",
     "shell.execute_reply": "2025-04-08T03:09:49.743275Z"
    },
    "papermill": {
     "duration": 0.893292,
     "end_time": "2025-04-08T03:09:49.745449",
     "exception": false,
     "start_time": "2025-04-08T03:09:48.852157",
     "status": "completed"
    },
    "tags": []
   },
   "outputs": [
    {
     "name": "stdout",
     "output_type": "stream",
     "text": [
      "Example table  \n",
      "This is an example of a data table. \n",
      "Disability \n",
      "Category Participants  Ballots \n",
      "Completed  Ballots \n",
      "Incomplete/  \n",
      "Terminated  Results  \n",
      "Accuracy  Time to \n",
      "complete \n",
      "Blind  5 1 4 34.5%, n=1  1199 sec, n=1  \n",
      "Low Vision  5 2 3 98.3% n=2  \n",
      "(97.7%, n=3)  1716 sec, n=3  \n",
      "(1934 sec, n=2)  \n",
      "Dexterity  5 4 1 98.3%, n=4  1672.1 sec, n=4  \n",
      "Mobility  3 3 0 95.4%, n=3  1416 sec, n=3  \n",
      " \n"
     ]
    }
   ],
   "source": [
    "from PyPDF2 import PdfReader\n",
    "from io import BytesIO\n",
    "import requests\n",
    "\n",
    "url = \"https://www.w3.org/WAI/WCAG20/Techniques/working-examples/PDF20/table.pdf\"\n",
    "response = requests.get(url)\n",
    "pdf_bytes = BytesIO(response.content)\n",
    "\n",
    "text = \"\"\n",
    "pdf_reader = PdfReader(pdf_bytes)\n",
    "for page in pdf_reader.pages:\n",
    "    text += page.extract_text()\n",
    "\n",
    "print(text[0:1000])"
   ]
  },
  {
   "cell_type": "code",
   "execution_count": 14,
   "id": "2c4df925",
   "metadata": {
    "execution": {
     "iopub.execute_input": "2025-04-08T03:09:49.759308Z",
     "iopub.status.busy": "2025-04-08T03:09:49.759021Z",
     "iopub.status.idle": "2025-04-08T03:09:54.059701Z",
     "shell.execute_reply": "2025-04-08T03:09:54.058785Z"
    },
    "papermill": {
     "duration": 4.30933,
     "end_time": "2025-04-08T03:09:54.061446",
     "exception": false,
     "start_time": "2025-04-08T03:09:49.752116",
     "status": "completed"
    },
    "tags": []
   },
   "outputs": [
    {
     "name": "stdout",
     "output_type": "stream",
     "text": [
      "<class '_io.BytesIO'>\n",
      "Assessment Framework \n",
      "for the Digital SAT® SuiteAssessment Framework \n",
      "for the Digital SAT® Suite\n",
      "Version 3.01, August 2024\n",
      "About College Board\n",
      "College Board reaches more than 7 million students a year, helping them \n",
      "navigate the path from high school to college and career. Our not-for-\n",
      "profit membership organization was founded more than 120 years ago. \n",
      "We pioneered programs like the SAT® and AP® to expand opportunities \n",
      "for students and help them develop the skills they need. Our BigFuture® \n",
      "program helps students plan for college, pay for college, and explore \n",
      "careers. Learn more at cb.org .\n",
      "Suggested Citation:  College Board. 2024. Assessment Framework for the \n",
      "Digital SAT Suite , version 3.01 (August 2024). New Y ork: College Board.\n",
      "© 2024 College Board. College Board, Advanced Placement, AP , BigFuture, Landscape, Pre-AP , SAT, and \n",
      "the acorn logo are registered trademarks of College Board. AP Potential, Bluebook, Connections, PSAT, \n",
      "Skills Insight, Student Search Service, and The\n"
     ]
    }
   ],
   "source": [
    "# Download the PDF using requests\n",
    "url = \"https://satsuite.collegeboard.org/media/pdf/assessment-framework-for-digital-sat-suite.pdf\"\n",
    "\n",
    "response = requests.get(url)\n",
    "pdf_bytes = BytesIO(response.content)\n",
    "\n",
    "print(type(pdf_bytes))\n",
    "\n",
    "text = \"\"\n",
    "pdf_reader = PdfReader(pdf_bytes)\n",
    "for page in pdf_reader.pages:\n",
    "    text += page.extract_text()\n",
    "\n",
    "print(text[0:1000])"
   ]
  },
  {
   "cell_type": "markdown",
   "id": "ce333738",
   "metadata": {
    "papermill": {
     "duration": 0.006242,
     "end_time": "2025-04-08T03:09:54.074458",
     "exception": false,
     "start_time": "2025-04-08T03:09:54.068216",
     "status": "completed"
    },
    "tags": []
   },
   "source": [
    "This text data might be too big for the model to contain within the prompt."
   ]
  },
  {
   "cell_type": "code",
   "execution_count": 15,
   "id": "a3ec4f48",
   "metadata": {
    "execution": {
     "iopub.execute_input": "2025-04-08T03:09:54.087926Z",
     "iopub.status.busy": "2025-04-08T03:09:54.087609Z",
     "iopub.status.idle": "2025-04-08T03:09:56.192305Z",
     "shell.execute_reply": "2025-04-08T03:09:56.191283Z"
    },
    "papermill": {
     "duration": 2.112967,
     "end_time": "2025-04-08T03:09:56.193699",
     "exception": false,
     "start_time": "2025-04-08T03:09:54.080732",
     "status": "completed"
    },
    "tags": []
   },
   "outputs": [
    {
     "data": {
      "text/plain": [
       "153273"
      ]
     },
     "execution_count": 15,
     "metadata": {},
     "output_type": "execute_result"
    }
   ],
   "source": [
    "client.models.count_tokens(\n",
    "    model=model, contents=text\n",
    ").total_tokens"
   ]
  },
  {
   "cell_type": "markdown",
   "id": "4936f882",
   "metadata": {
    "papermill": {
     "duration": 0.00761,
     "end_time": "2025-04-08T03:09:56.208001",
     "exception": false,
     "start_time": "2025-04-08T03:09:56.200391",
     "status": "completed"
    },
    "tags": []
   },
   "source": [
    "That's a pretty significant size! The only way to incorporate the PDF properly is to chunk it."
   ]
  },
  {
   "cell_type": "markdown",
   "id": "475146be",
   "metadata": {
    "papermill": {
     "duration": 0.006585,
     "end_time": "2025-04-08T03:09:56.221799",
     "exception": false,
     "start_time": "2025-04-08T03:09:56.215214",
     "status": "completed"
    },
    "tags": []
   },
   "source": [
    "# Chunk the Parsed PDF\n",
    "In order to use the PDF, we need to \"chunk\" it so bits of relevant information can be accessed at a time. In order to maximize efficiency, a vector search database will be used, as the likelihood that any key words in the question will appear on the SAT is effectively zero. "
   ]
  },
  {
   "cell_type": "code",
   "execution_count": 16,
   "id": "c5bde499",
   "metadata": {
    "execution": {
     "iopub.execute_input": "2025-04-08T03:09:56.236485Z",
     "iopub.status.busy": "2025-04-08T03:09:56.236105Z",
     "iopub.status.idle": "2025-04-08T03:09:56.478612Z",
     "shell.execute_reply": "2025-04-08T03:09:56.477751Z"
    },
    "papermill": {
     "duration": 0.25165,
     "end_time": "2025-04-08T03:09:56.480132",
     "exception": false,
     "start_time": "2025-04-08T03:09:56.228482",
     "status": "completed"
    },
    "tags": []
   },
   "outputs": [],
   "source": [
    "from langchain_text_splitters import RecursiveCharacterTextSplitter\n",
    "\n"
   ]
  },
  {
   "cell_type": "markdown",
   "id": "3ed99714",
   "metadata": {
    "papermill": {
     "duration": 0.006029,
     "end_time": "2025-04-08T03:09:56.493235",
     "exception": false,
     "start_time": "2025-04-08T03:09:56.487206",
     "status": "completed"
    },
    "tags": []
   },
   "source": [
    "# Initialize ReAct agent\n",
    "The model will instead be a ReAct agent and figure out what to search up and call that tool as an extension and we will see what happens"
   ]
  },
  {
   "cell_type": "markdown",
   "id": "882e3131",
   "metadata": {
    "papermill": {
     "duration": 0.00617,
     "end_time": "2025-04-08T03:09:56.505969",
     "exception": false,
     "start_time": "2025-04-08T03:09:56.499799",
     "status": "completed"
    },
    "tags": []
   },
   "source": [
    "do some mathplotlib thingies"
   ]
  }
 ],
 "metadata": {
  "kaggle": {
   "accelerator": "none",
   "dataSources": [],
   "dockerImageVersionId": 30918,
   "isGpuEnabled": false,
   "isInternetEnabled": true,
   "language": "python",
   "sourceType": "notebook"
  },
  "kernelspec": {
   "display_name": "Python 3",
   "language": "python",
   "name": "python3"
  },
  "language_info": {
   "codemirror_mode": {
    "name": "ipython",
    "version": 3
   },
   "file_extension": ".py",
   "mimetype": "text/x-python",
   "name": "python",
   "nbconvert_exporter": "python",
   "pygments_lexer": "ipython3",
   "version": "3.10.12"
  },
  "papermill": {
   "default_parameters": {},
   "duration": 63.502355,
   "end_time": "2025-04-08T03:09:57.331754",
   "environment_variables": {},
   "exception": null,
   "input_path": "__notebook__.ipynb",
   "output_path": "__notebook__.ipynb",
   "parameters": {},
   "start_time": "2025-04-08T03:08:53.829399",
   "version": "2.6.0"
  }
 },
 "nbformat": 4,
 "nbformat_minor": 5
}
