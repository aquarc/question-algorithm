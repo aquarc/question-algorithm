{
 "cells": [
  {
   "cell_type": "code",
   "execution_count": 1,
   "id": "047e0409",
   "metadata": {
    "_cell_guid": "b1076dfc-b9ad-4769-8c92-a6c4dae69d19",
    "_uuid": "8f2839f25d086af736a60e9eeb907d3b93b6e0e5",
    "execution": {
     "iopub.execute_input": "2025-04-14T04:27:03.611895Z",
     "iopub.status.busy": "2025-04-14T04:27:03.611396Z",
     "iopub.status.idle": "2025-04-14T04:27:04.646324Z",
     "shell.execute_reply": "2025-04-14T04:27:04.645280Z"
    },
    "papermill": {
     "duration": 1.056385,
     "end_time": "2025-04-14T04:27:04.648420",
     "exception": false,
     "start_time": "2025-04-14T04:27:03.592035",
     "status": "completed"
    },
    "tags": []
   },
   "outputs": [],
   "source": [
    "# This Python 3 environment comes with many helpful analytics libraries installed\n",
    "# It is defined by the kaggle/python Docker image: https://github.com/kaggle/docker-python\n",
    "# For example, here's several helpful packages to load\n",
    "\n",
    "import numpy as np # linear algebra\n",
    "import pandas as pd # data processing, CSV file I/O (e.g. pd.read_csv)\n",
    "\n",
    "# Input data files are available in the read-only \"../input/\" directory\n",
    "# For example, running this (by clicking run or pressing Shift+Enter) will list all files under the input directory\n",
    "\n",
    "import os\n",
    "for dirname, _, filenames in os.walk('/kaggle/input'):\n",
    "    for filename in filenames:\n",
    "        print(os.path.join(dirname, filename))\n",
    "\n",
    "# You can write up to 20GB to the current directory (/kaggle/working/) that gets preserved as output when you create a version using \"Save & Run All\" \n",
    "# You can also write temporary files to /kaggle/temp/, but they won't be saved outside of the current session"
   ]
  },
  {
   "cell_type": "markdown",
   "id": "00bfa8ca",
   "metadata": {
    "papermill": {
     "duration": 0.014815,
     "end_time": "2025-04-14T04:27:04.679548",
     "exception": false,
     "start_time": "2025-04-14T04:27:04.664733",
     "status": "completed"
    },
    "tags": []
   },
   "source": [
    "Some parts of this Codelab are (c) Google 2025 under the Apache License.\n",
    "(c) Aquarc 2025"
   ]
  },
  {
   "cell_type": "markdown",
   "id": "b52edde5",
   "metadata": {
    "papermill": {
     "duration": 0.015267,
     "end_time": "2025-04-14T04:27:04.709221",
     "exception": false,
     "start_time": "2025-04-14T04:27:04.693954",
     "status": "completed"
    },
    "tags": []
   },
   "source": [
    "# Synopsis\n",
    "Aquarc is an all-in-one SAT platform for high schoolers designed to minimize time spent using the software and maximizing practice and essential questions. In order to further this mission, Aquarc Intelligence was created to analyze mistakes within a question and to suggest similar questions for efficient practicing."
   ]
  },
  {
   "cell_type": "markdown",
   "id": "62158cf8",
   "metadata": {
    "papermill": {
     "duration": 0.014005,
     "end_time": "2025-04-14T04:27:04.737442",
     "exception": false,
     "start_time": "2025-04-14T04:27:04.723437",
     "status": "completed"
    },
    "tags": []
   },
   "source": [
    "# Install the SDK \n",
    "We will be using Google's Gemini and utilities to build the model."
   ]
  },
  {
   "cell_type": "code",
   "execution_count": 2,
   "id": "a8be1dbd",
   "metadata": {
    "execution": {
     "iopub.execute_input": "2025-04-14T04:27:04.768969Z",
     "iopub.status.busy": "2025-04-14T04:27:04.768256Z",
     "iopub.status.idle": "2025-04-14T04:27:55.465517Z",
     "shell.execute_reply": "2025-04-14T04:27:55.464209Z"
    },
    "papermill": {
     "duration": 50.71504,
     "end_time": "2025-04-14T04:27:55.467681",
     "exception": false,
     "start_time": "2025-04-14T04:27:04.752641",
     "status": "completed"
    },
    "tags": []
   },
   "outputs": [
    {
     "name": "stdout",
     "output_type": "stream",
     "text": [
      "\u001b[2K     \u001b[90m━━━━━━━━━━━━━━━━━━━━━━━━━━━━━━━━━━━━━━━━\u001b[0m \u001b[32m67.3/67.3 kB\u001b[0m \u001b[31m2.9 MB/s\u001b[0m eta \u001b[36m0:00:00\u001b[0m\r\n",
      "\u001b[?25h  Installing build dependencies ... \u001b[?25l\u001b[?25hdone\r\n",
      "  Getting requirements to build wheel ... \u001b[?25l\u001b[?25hdone\r\n",
      "  Preparing metadata (pyproject.toml) ... \u001b[?25l\u001b[?25hdone\r\n",
      "\u001b[2K   \u001b[90m━━━━━━━━━━━━━━━━━━━━━━━━━━━━━━━━━━━━━━━━\u001b[0m \u001b[32m144.7/144.7 kB\u001b[0m \u001b[31m8.3 MB/s\u001b[0m eta \u001b[36m0:00:00\u001b[0m\r\n",
      "\u001b[2K   \u001b[90m━━━━━━━━━━━━━━━━━━━━━━━━━━━━━━━━━━━━━━━━\u001b[0m \u001b[32m611.1/611.1 kB\u001b[0m \u001b[31m23.9 MB/s\u001b[0m eta \u001b[36m0:00:00\u001b[0m\r\n",
      "\u001b[2K   \u001b[90m━━━━━━━━━━━━━━━━━━━━━━━━━━━━━━━━━━━━━━━━\u001b[0m \u001b[32m2.4/2.4 MB\u001b[0m \u001b[31m62.1 MB/s\u001b[0m eta \u001b[36m0:00:00\u001b[0m\r\n",
      "\u001b[2K   \u001b[90m━━━━━━━━━━━━━━━━━━━━━━━━━━━━━━━━━━━━━━━━\u001b[0m \u001b[32m1.0/1.0 MB\u001b[0m \u001b[31m34.7 MB/s\u001b[0m eta \u001b[36m0:00:00\u001b[0m\r\n",
      "\u001b[2K   \u001b[90m━━━━━━━━━━━━━━━━━━━━━━━━━━━━━━━━━━━━━━━━\u001b[0m \u001b[32m232.6/232.6 kB\u001b[0m \u001b[31m12.3 MB/s\u001b[0m eta \u001b[36m0:00:00\u001b[0m\r\n",
      "\u001b[2K   \u001b[90m━━━━━━━━━━━━━━━━━━━━━━━━━━━━━━━━━━━━━━━━\u001b[0m \u001b[32m100.9/100.9 kB\u001b[0m \u001b[31m5.1 MB/s\u001b[0m eta \u001b[36m0:00:00\u001b[0m\r\n",
      "\u001b[2K   \u001b[90m━━━━━━━━━━━━━━━━━━━━━━━━━━━━━━━━━━━━━━━━\u001b[0m \u001b[32m284.2/284.2 kB\u001b[0m \u001b[31m14.9 MB/s\u001b[0m eta \u001b[36m0:00:00\u001b[0m\r\n",
      "\u001b[2K   \u001b[90m━━━━━━━━━━━━━━━━━━━━━━━━━━━━━━━━━━━━━━━━\u001b[0m \u001b[32m95.2/95.2 kB\u001b[0m \u001b[31m5.7 MB/s\u001b[0m eta \u001b[36m0:00:00\u001b[0m\r\n",
      "\u001b[2K   \u001b[90m━━━━━━━━━━━━━━━━━━━━━━━━━━━━━━━━━━━━━━━━\u001b[0m \u001b[32m2.0/2.0 MB\u001b[0m \u001b[31m59.8 MB/s\u001b[0m eta \u001b[36m0:00:00\u001b[0m\r\n",
      "\u001b[2K   \u001b[90m━━━━━━━━━━━━━━━━━━━━━━━━━━━━━━━━━━━━━━━━\u001b[0m \u001b[32m423.3/423.3 kB\u001b[0m \u001b[31m19.0 MB/s\u001b[0m eta \u001b[36m0:00:00\u001b[0m\r\n",
      "\u001b[2K   \u001b[90m━━━━━━━━━━━━━━━━━━━━━━━━━━━━━━━━━━━━━━━━\u001b[0m \u001b[32m99.2/99.2 kB\u001b[0m \u001b[31m5.3 MB/s\u001b[0m eta \u001b[36m0:00:00\u001b[0m\r\n",
      "\u001b[2K   \u001b[90m━━━━━━━━━━━━━━━━━━━━━━━━━━━━━━━━━━━━━━━━\u001b[0m \u001b[32m16.0/16.0 MB\u001b[0m \u001b[31m74.3 MB/s\u001b[0m eta \u001b[36m0:00:00\u001b[0m\r\n",
      "\u001b[2K   \u001b[90m━━━━━━━━━━━━━━━━━━━━━━━━━━━━━━━━━━━━━━━━\u001b[0m \u001b[32m55.9/55.9 kB\u001b[0m \u001b[31m2.9 MB/s\u001b[0m eta \u001b[36m0:00:00\u001b[0m\r\n",
      "\u001b[2K   \u001b[90m━━━━━━━━━━━━━━━━━━━━━━━━━━━━━━━━━━━━━━━━\u001b[0m \u001b[32m188.4/188.4 kB\u001b[0m \u001b[31m8.2 MB/s\u001b[0m eta \u001b[36m0:00:00\u001b[0m\r\n",
      "\u001b[2K   \u001b[90m━━━━━━━━━━━━━━━━━━━━━━━━━━━━━━━━━━━━━━━━\u001b[0m \u001b[32m65.3/65.3 kB\u001b[0m \u001b[31m3.2 MB/s\u001b[0m eta \u001b[36m0:00:00\u001b[0m\r\n",
      "\u001b[2K   \u001b[90m━━━━━━━━━━━━━━━━━━━━━━━━━━━━━━━━━━━━━━━━\u001b[0m \u001b[32m119.0/119.0 kB\u001b[0m \u001b[31m6.3 MB/s\u001b[0m eta \u001b[36m0:00:00\u001b[0m\r\n",
      "\u001b[2K   \u001b[90m━━━━━━━━━━━━━━━━━━━━━━━━━━━━━━━━━━━━━━━━\u001b[0m \u001b[32m85.7/85.7 kB\u001b[0m \u001b[31m4.7 MB/s\u001b[0m eta \u001b[36m0:00:00\u001b[0m\r\n",
      "\u001b[2K   \u001b[90m━━━━━━━━━━━━━━━━━━━━━━━━━━━━━━━━━━━━━━━━\u001b[0m \u001b[32m62.4/62.4 kB\u001b[0m \u001b[31m3.2 MB/s\u001b[0m eta \u001b[36m0:00:00\u001b[0m\r\n",
      "\u001b[2K   \u001b[90m━━━━━━━━━━━━━━━━━━━━━━━━━━━━━━━━━━━━━━━━\u001b[0m \u001b[32m442.1/442.1 kB\u001b[0m \u001b[31m20.0 MB/s\u001b[0m eta \u001b[36m0:00:00\u001b[0m\r\n",
      "\u001b[2K   \u001b[90m━━━━━━━━━━━━━━━━━━━━━━━━━━━━━━━━━━━━━━━━\u001b[0m \u001b[32m319.7/319.7 kB\u001b[0m \u001b[31m12.5 MB/s\u001b[0m eta \u001b[36m0:00:00\u001b[0m\r\n",
      "\u001b[2K   \u001b[90m━━━━━━━━━━━━━━━━━━━━━━━━━━━━━━━━━━━━━━━━\u001b[0m \u001b[32m72.0/72.0 kB\u001b[0m \u001b[31m3.8 MB/s\u001b[0m eta \u001b[36m0:00:00\u001b[0m\r\n",
      "\u001b[2K   \u001b[90m━━━━━━━━━━━━━━━━━━━━━━━━━━━━━━━━━━━━━━━━\u001b[0m \u001b[32m3.8/3.8 MB\u001b[0m \u001b[31m71.4 MB/s\u001b[0m eta \u001b[36m0:00:00\u001b[0m\r\n",
      "\u001b[2K   \u001b[90m━━━━━━━━━━━━━━━━━━━━━━━━━━━━━━━━━━━━━━━━\u001b[0m \u001b[32m454.9/454.9 kB\u001b[0m \u001b[31m22.4 MB/s\u001b[0m eta \u001b[36m0:00:00\u001b[0m\r\n",
      "\u001b[2K   \u001b[90m━━━━━━━━━━━━━━━━━━━━━━━━━━━━━━━━━━━━━━━━\u001b[0m \u001b[32m46.0/46.0 kB\u001b[0m \u001b[31m2.4 MB/s\u001b[0m eta \u001b[36m0:00:00\u001b[0m\r\n",
      "\u001b[2K   \u001b[90m━━━━━━━━━━━━━━━━━━━━━━━━━━━━━━━━━━━━━━━━\u001b[0m \u001b[32m86.8/86.8 kB\u001b[0m \u001b[31m4.2 MB/s\u001b[0m eta \u001b[36m0:00:00\u001b[0m\r\n",
      "\u001b[?25h  Building wheel for pypika (pyproject.toml) ... \u001b[?25l\u001b[?25hdone\r\n",
      "\u001b[31mERROR: pip's dependency resolver does not currently take into account all the packages that are installed. This behaviour is the source of the following dependency conflicts.\r\n",
      "gcsfs 2024.10.0 requires fsspec==2024.10.0, but you have fsspec 2024.12.0 which is incompatible.\r\n",
      "google-api-core 1.34.1 requires protobuf!=3.20.0,!=3.20.1,!=4.21.0,!=4.21.1,!=4.21.2,!=4.21.3,!=4.21.4,!=4.21.5,<4.0.0dev,>=3.19.5, but you have protobuf 5.29.4 which is incompatible.\r\n",
      "google-cloud-bigtable 2.27.0 requires google-api-core[grpc]<3.0.0dev,>=2.16.0, but you have google-api-core 1.34.1 which is incompatible.\r\n",
      "google-cloud-translate 3.12.1 requires protobuf!=3.20.0,!=3.20.1,!=4.21.0,!=4.21.1,!=4.21.2,!=4.21.3,!=4.21.4,!=4.21.5,<5.0.0dev,>=3.19.5, but you have protobuf 5.29.4 which is incompatible.\r\n",
      "pandas-gbq 0.25.0 requires google-api-core<3.0.0dev,>=2.10.2, but you have google-api-core 1.34.1 which is incompatible.\r\n",
      "tensorflow 2.17.1 requires protobuf!=4.21.0,!=4.21.1,!=4.21.2,!=4.21.3,!=4.21.4,!=4.21.5,<5.0.0dev,>=3.20.3, but you have protobuf 5.29.4 which is incompatible.\r\n",
      "tensorflow-decision-forests 1.10.0 requires tensorflow==2.17.0, but you have tensorflow 2.17.1 which is incompatible.\r\n",
      "tensorflow-metadata 1.13.1 requires protobuf<5,>=3.20.3, but you have protobuf 5.29.4 which is incompatible.\u001b[0m\u001b[31m\r\n",
      "\u001b[0m"
     ]
    }
   ],
   "source": [
    "!pip uninstall -qqy jupyterlab  # Remove unused packages from Kaggle's base image that conflict\n",
    "!pip install -U -q \"google-genai==1.7.0\" langchain PyPDF2 \"chromadb==0.6.3\" html-to-markdown"
   ]
  },
  {
   "cell_type": "markdown",
   "id": "5661552c",
   "metadata": {
    "papermill": {
     "duration": 0.016539,
     "end_time": "2025-04-14T04:27:55.501268",
     "exception": false,
     "start_time": "2025-04-14T04:27:55.484729",
     "status": "completed"
    },
    "tags": []
   },
   "source": [
    "Import the SDK and set up the API key"
   ]
  },
  {
   "cell_type": "code",
   "execution_count": 3,
   "id": "0abc98bb",
   "metadata": {
    "execution": {
     "iopub.execute_input": "2025-04-14T04:27:55.535951Z",
     "iopub.status.busy": "2025-04-14T04:27:55.535557Z",
     "iopub.status.idle": "2025-04-14T04:27:56.961054Z",
     "shell.execute_reply": "2025-04-14T04:27:56.959743Z"
    },
    "papermill": {
     "duration": 1.445756,
     "end_time": "2025-04-14T04:27:56.963128",
     "exception": false,
     "start_time": "2025-04-14T04:27:55.517372",
     "status": "completed"
    },
    "tags": []
   },
   "outputs": [],
   "source": [
    "from google import genai\n",
    "from google.genai import types\n",
    "\n",
    "from IPython.display import HTML, Markdown, display"
   ]
  },
  {
   "cell_type": "markdown",
   "id": "c678819b",
   "metadata": {
    "papermill": {
     "duration": 0.016043,
     "end_time": "2025-04-14T04:27:56.996684",
     "exception": false,
     "start_time": "2025-04-14T04:27:56.980641",
     "status": "completed"
    },
    "tags": []
   },
   "source": [
    "Set up a retry helper so we can press \"Run All\" and not worry about hitting the quota. "
   ]
  },
  {
   "cell_type": "code",
   "execution_count": 4,
   "id": "f3c1ade4",
   "metadata": {
    "execution": {
     "iopub.execute_input": "2025-04-14T04:27:57.031507Z",
     "iopub.status.busy": "2025-04-14T04:27:57.030852Z",
     "iopub.status.idle": "2025-04-14T04:27:57.214804Z",
     "shell.execute_reply": "2025-04-14T04:27:57.213651Z"
    },
    "papermill": {
     "duration": 0.203716,
     "end_time": "2025-04-14T04:27:57.216976",
     "exception": false,
     "start_time": "2025-04-14T04:27:57.013260",
     "status": "completed"
    },
    "tags": []
   },
   "outputs": [],
   "source": [
    "from google.api_core import retry\n",
    "\n",
    "\n",
    "is_retriable = lambda e: (isinstance(e, genai.errors.APIError) and e.code in {429, 503})\n",
    "\n",
    "genai.models.Models.generate_content = retry.Retry(\n",
    "    predicate=is_retriable)(genai.models.Models.generate_content)"
   ]
  },
  {
   "cell_type": "markdown",
   "id": "4f3001cf",
   "metadata": {
    "papermill": {
     "duration": 0.015965,
     "end_time": "2025-04-14T04:27:57.249512",
     "exception": false,
     "start_time": "2025-04-14T04:27:57.233547",
     "status": "completed"
    },
    "tags": []
   },
   "source": [
    "### Set up your API key\n",
    "\n",
    "To run the following cell, your API key must be stored it in a [Kaggle secret](https://www.kaggle.com/discussions/product-feedback/114053) named `GOOGLE_API_KEY`.\n",
    "\n",
    "If you don't already have an API key, you can grab one from [AI Studio](https://aistudio.google.com/app/apikey). You can find [detailed instructions in the docs](https://ai.google.dev/gemini-api/docs/api-key).\n",
    "\n",
    "To make the key available through Kaggle secrets, choose `Secrets` from the `Add-ons` menu and follow the instructions to add your key or enable it for this notebook."
   ]
  },
  {
   "cell_type": "code",
   "execution_count": 5,
   "id": "2aa5ba45",
   "metadata": {
    "execution": {
     "iopub.execute_input": "2025-04-14T04:27:57.283177Z",
     "iopub.status.busy": "2025-04-14T04:27:57.282561Z",
     "iopub.status.idle": "2025-04-14T04:27:57.464092Z",
     "shell.execute_reply": "2025-04-14T04:27:57.462680Z"
    },
    "papermill": {
     "duration": 0.20068,
     "end_time": "2025-04-14T04:27:57.466156",
     "exception": false,
     "start_time": "2025-04-14T04:27:57.265476",
     "status": "completed"
    },
    "tags": []
   },
   "outputs": [],
   "source": [
    "from kaggle_secrets import UserSecretsClient\n",
    "\n",
    "GOOGLE_API_KEY = UserSecretsClient().get_secret(\"GOOGLE_API_KEY\")"
   ]
  },
  {
   "cell_type": "markdown",
   "id": "9ce7c76c",
   "metadata": {
    "papermill": {
     "duration": 0.016202,
     "end_time": "2025-04-14T04:27:57.499211",
     "exception": false,
     "start_time": "2025-04-14T04:27:57.483009",
     "status": "completed"
    },
    "tags": []
   },
   "source": [
    "### Choose your model\n",
    "Depending on what's available and your quota, choose a model that's effective for your purposes."
   ]
  },
  {
   "cell_type": "code",
   "execution_count": 6,
   "id": "4d1e356d",
   "metadata": {
    "execution": {
     "iopub.execute_input": "2025-04-14T04:27:57.534702Z",
     "iopub.status.busy": "2025-04-14T04:27:57.534229Z",
     "iopub.status.idle": "2025-04-14T04:27:58.115301Z",
     "shell.execute_reply": "2025-04-14T04:27:58.114032Z"
    },
    "papermill": {
     "duration": 0.601723,
     "end_time": "2025-04-14T04:27:58.117484",
     "exception": false,
     "start_time": "2025-04-14T04:27:57.515761",
     "status": "completed"
    },
    "tags": []
   },
   "outputs": [
    {
     "name": "stdout",
     "output_type": "stream",
     "text": [
      "models/chat-bison-001\n",
      "models/text-bison-001\n",
      "models/embedding-gecko-001\n",
      "models/gemini-1.0-pro-vision-latest\n",
      "models/gemini-pro-vision\n",
      "models/gemini-1.5-pro-latest\n",
      "models/gemini-1.5-pro-001\n",
      "models/gemini-1.5-pro-002\n",
      "models/gemini-1.5-pro\n",
      "models/gemini-1.5-flash-latest\n",
      "models/gemini-1.5-flash-001\n",
      "models/gemini-1.5-flash-001-tuning\n",
      "models/gemini-1.5-flash\n",
      "models/gemini-1.5-flash-002\n",
      "models/gemini-1.5-flash-8b\n",
      "models/gemini-1.5-flash-8b-001\n",
      "models/gemini-1.5-flash-8b-latest\n",
      "models/gemini-1.5-flash-8b-exp-0827\n",
      "models/gemini-1.5-flash-8b-exp-0924\n",
      "models/gemini-2.5-pro-exp-03-25\n",
      "models/gemini-2.5-pro-preview-03-25\n",
      "models/gemini-2.0-flash-exp\n",
      "models/gemini-2.0-flash\n",
      "models/gemini-2.0-flash-001\n",
      "models/gemini-2.0-flash-exp-image-generation\n",
      "models/gemini-2.0-flash-lite-001\n",
      "models/gemini-2.0-flash-lite\n",
      "models/gemini-2.0-flash-lite-preview-02-05\n",
      "models/gemini-2.0-flash-lite-preview\n",
      "models/gemini-2.0-pro-exp\n",
      "models/gemini-2.0-pro-exp-02-05\n",
      "models/gemini-exp-1206\n",
      "models/gemini-2.0-flash-thinking-exp-01-21\n",
      "models/gemini-2.0-flash-thinking-exp\n",
      "models/gemini-2.0-flash-thinking-exp-1219\n",
      "models/learnlm-1.5-pro-experimental\n",
      "models/gemma-3-1b-it\n",
      "models/gemma-3-4b-it\n",
      "models/gemma-3-12b-it\n",
      "models/gemma-3-27b-it\n",
      "models/embedding-001\n",
      "models/text-embedding-004\n",
      "models/gemini-embedding-exp-03-07\n",
      "models/gemini-embedding-exp\n",
      "models/aqa\n",
      "models/imagen-3.0-generate-002\n",
      "models/gemini-2.0-flash-live-001\n"
     ]
    }
   ],
   "source": [
    "client = genai.Client(api_key=GOOGLE_API_KEY)\n",
    "\n",
    "for model in client.models.list():\n",
    "  print(model.name)"
   ]
  },
  {
   "cell_type": "markdown",
   "id": "341875fd",
   "metadata": {
    "papermill": {
     "duration": 0.016035,
     "end_time": "2025-04-14T04:27:58.150897",
     "exception": false,
     "start_time": "2025-04-14T04:27:58.134862",
     "status": "completed"
    },
    "tags": []
   },
   "source": [
    "Check out the detailed information for your model"
   ]
  },
  {
   "cell_type": "code",
   "execution_count": 7,
   "id": "b71a5a51",
   "metadata": {
    "execution": {
     "iopub.execute_input": "2025-04-14T04:27:58.185221Z",
     "iopub.status.busy": "2025-04-14T04:27:58.184871Z",
     "iopub.status.idle": "2025-04-14T04:27:58.548912Z",
     "shell.execute_reply": "2025-04-14T04:27:58.547908Z"
    },
    "papermill": {
     "duration": 0.38357,
     "end_time": "2025-04-14T04:27:58.550795",
     "exception": false,
     "start_time": "2025-04-14T04:27:58.167225",
     "status": "completed"
    },
    "tags": []
   },
   "outputs": [
    {
     "name": "stdout",
     "output_type": "stream",
     "text": [
      "{'name': 'models/gemini-2.0-flash', 'display_name': 'Gemini 2.0 Flash', 'description': 'Gemini 2.0 Flash', 'version': '2.0', 'tuned_model_info': {}, 'input_token_limit': 1048576, 'output_token_limit': 8192, 'supported_actions': ['generateContent', 'countTokens']}\n"
     ]
    }
   ],
   "source": [
    "for model in client.models.list():\n",
    "  if model.name == 'models/gemini-2.0-flash':\n",
    "    print(model.to_json_dict())\n",
    "    break\n",
    "\n",
    "# change this line if you want to use a different model\n",
    "model = \"gemini-2.0-flash\""
   ]
  },
  {
   "cell_type": "markdown",
   "id": "ddd59647",
   "metadata": {
    "papermill": {
     "duration": 0.016117,
     "end_time": "2025-04-14T04:27:58.583448",
     "exception": false,
     "start_time": "2025-04-14T04:27:58.567331",
     "status": "completed"
    },
    "tags": []
   },
   "source": [
    "Test your model"
   ]
  },
  {
   "cell_type": "code",
   "execution_count": 8,
   "id": "a3ff375f",
   "metadata": {
    "execution": {
     "iopub.execute_input": "2025-04-14T04:27:58.617208Z",
     "iopub.status.busy": "2025-04-14T04:27:58.616834Z",
     "iopub.status.idle": "2025-04-14T04:27:59.155651Z",
     "shell.execute_reply": "2025-04-14T04:27:59.154184Z"
    },
    "papermill": {
     "duration": 0.558134,
     "end_time": "2025-04-14T04:27:59.157778",
     "exception": false,
     "start_time": "2025-04-14T04:27:58.599644",
     "status": "completed"
    },
    "tags": []
   },
   "outputs": [
    {
     "name": "stdout",
     "output_type": "stream",
     "text": [
      "Nice to meet you, Zlork! It's a pleasure to make your acquaintance. Is there anything I can help you with today?\n",
      "\n"
     ]
    }
   ],
   "source": [
    "chat = client.chats.create(model=model, history=[])\n",
    "response = chat.send_message('Hello! My name is Zlork.')\n",
    "print(response.text)"
   ]
  },
  {
   "cell_type": "markdown",
   "id": "64e56d1a",
   "metadata": {
    "papermill": {
     "duration": 0.018612,
     "end_time": "2025-04-14T04:27:59.193849",
     "exception": false,
     "start_time": "2025-04-14T04:27:59.175237",
     "status": "completed"
    },
    "tags": []
   },
   "source": [
    "You can use the `Markdown()` function to format it nicely in Kaggle."
   ]
  },
  {
   "cell_type": "code",
   "execution_count": 9,
   "id": "8d62b09f",
   "metadata": {
    "execution": {
     "iopub.execute_input": "2025-04-14T04:27:59.231262Z",
     "iopub.status.busy": "2025-04-14T04:27:59.230916Z",
     "iopub.status.idle": "2025-04-14T04:28:00.445853Z",
     "shell.execute_reply": "2025-04-14T04:28:00.444651Z"
    },
    "papermill": {
     "duration": 1.236345,
     "end_time": "2025-04-14T04:28:00.447613",
     "exception": false,
     "start_time": "2025-04-14T04:27:59.211268",
     "status": "completed"
    },
    "tags": []
   },
   "outputs": [
    {
     "data": {
      "text/markdown": [
       "Greetings, **Zlork**!\n",
       "\n",
       "It is with great pleasure that I extend a *warm* and *cordial* welcome. I hope this day finds you well.  I am at your service.  Please, do not hesitate to avail yourself of my capabilities.\n",
       "\n",
       "Perhaps you'd like me to:\n",
       "\n",
       "*   Suggest a **literary masterpiece**?\n",
       "*   Compose a **limerick** with a most *absurd* subject?\n",
       "*   Help you explore the depths of **quantum physics**?\n",
       "\n",
       "The possibilities are, as they say, *endless!*\n"
      ],
      "text/plain": [
       "<IPython.core.display.Markdown object>"
      ]
     },
     "execution_count": 9,
     "metadata": {},
     "output_type": "execute_result"
    }
   ],
   "source": [
    "response = chat.send_message('Hello! My name is Zlork.' + \n",
    "                             'Use some fancy markdown in your message')\n",
    "Markdown(response.text)"
   ]
  },
  {
   "cell_type": "markdown",
   "id": "1dc916d3",
   "metadata": {
    "papermill": {
     "duration": 0.01658,
     "end_time": "2025-04-14T04:28:00.480912",
     "exception": false,
     "start_time": "2025-04-14T04:28:00.464332",
     "status": "completed"
    },
    "tags": []
   },
   "source": [
    "# A fine prompt\n",
    "**TODO: you should probably move this**\n",
    "\n",
    "Let's start by writing our prompt. What should it include and what should it mention? Following the principles taught throughout the course, let's place an importance on giving **positive** instructions rather than **negative** instructions to maintain effectiveness. \n",
    "\n",
    "The model needs to do the following:\n",
    "- [ ] Stick to the SAT: Understand weighting and importance of certain questions, categories, and ensure all advice is applicable to the bounds of the SAT. A document with the specifications of the SAT format can be used for Retrieval Augmented Generation (RAG) rather than potential hallucination over the exact requirements.\n",
    "- [ ] Have access to the current question (and maybe the previous questions for even more context)\n",
    "- [ ] Have access to the answers and time between each to estimate confidence.\n",
    "- [x] Understand images or SVGs for Inference and other Reading/Writing questions.\n",
    "- [ ] Use Tree of Thoughts (ToT) to generate multiple solving processes because multiple methods may be used to arrive at the same answer, and output these answering mechanisms in a JSON array to present on the website effectively (a TUI for this notebook)\n",
    "- [ ] Find semantically related questions and present them to the user on the website using ReAct (a TUI for this notebook)"
   ]
  },
  {
   "cell_type": "markdown",
   "id": "a3d8b63a",
   "metadata": {
    "papermill": {
     "duration": 0.016671,
     "end_time": "2025-04-14T04:28:00.514081",
     "exception": false,
     "start_time": "2025-04-14T04:28:00.497410",
     "status": "completed"
    },
    "tags": []
   },
   "source": [
    "Let's start by finding an effective prompt. \n",
    "Then we can evaluate the effectiveness of including the SAT standards in a PDF to help the user answering a question. We will also evaluate whether a vector search database is useful for this document.\n",
    "\n",
    "Below, the variables for the specific question we are testing are defined."
   ]
  },
  {
   "cell_type": "code",
   "execution_count": 10,
   "id": "f1fc65d7",
   "metadata": {
    "execution": {
     "iopub.execute_input": "2025-04-14T04:28:00.550458Z",
     "iopub.status.busy": "2025-04-14T04:28:00.550064Z",
     "iopub.status.idle": "2025-04-14T04:28:00.555664Z",
     "shell.execute_reply": "2025-04-14T04:28:00.554489Z"
    },
    "papermill": {
     "duration": 0.026122,
     "end_time": "2025-04-14T04:28:00.557627",
     "exception": false,
     "start_time": "2025-04-14T04:28:00.531505",
     "status": "completed"
    },
    "tags": []
   },
   "outputs": [],
   "source": [
    "# All questions are (c) CollegeBoard 2025.\n",
    "\n",
    "question = {\n",
    "        \"question\" : \"\"\"\n",
    "In a paper about p-i-n planar perovskite solar cells (one of several perovskite cell architectures designed to collect and store solar power), Lyndsey McMillon-Brown et al. described a method for fabricating the cell’s electronic transport layer (ETL) using a spray coating. Conventional ETL fabrication is accomplished using a solution of nanoparticles. The process can result in a loss of up to 80% of the solution, increasing the cost of manufacturing at scale—an issue that may be obviated by spray coating fabrication, which the researchers describe as “highly reproducible, concise, and practical.”\n",
    "\n",
    "What does the text most strongly suggest about conventional ETL fabrication?\n",
    "A. It is less suitable for manufacturing large volumes of planar p-i-n perovskite solar cells than an alternative fabrication method may be.\n",
    "B. It is more expensive when manufacturing at scale than are processes for fabricating ETLs used in other perovskite solar cell architectures.\n",
    "C. It typically entails a greater loss of nanoparticle solution than do other established approaches for ETL fabrication.\n",
    "D. It is somewhat imprecise and therefore limits the potential effectiveness of p-i-n planar perovskite solar cells at capturing and storing solar power.\n",
    "\"\"\",\n",
    "        \"rationale\" : \"\"\"\n",
    "Choice A is the best answer. Conventional solar cell fabrication increases “the cost of manufacturing at scale,” but spray coating might get rid of that problem.\n",
    "\n",
    "Choice B is incorrect. This is not completely supported by the text. While it’s true that conventional ETL fabrication is expensive at scale, there’s nothing in the text that mentions other perovskite solar cell architectures. Choice C is incorrect. This choice does not match the text. Only one conventional method of ETL fabrication is described, so we can’t compare the solution loss in this method to that of other conventional methods. Choice D is incorrect. This choice isn’t supported by the text. The text never suggests that the effectiveness of solar cells changes based on their method of fabrication. \n",
    "\"\"\",\n",
    "        \"user_answer\" : \"C\",\n",
    "}"
   ]
  },
  {
   "cell_type": "markdown",
   "id": "d4f009ef",
   "metadata": {
    "papermill": {
     "duration": 0.016186,
     "end_time": "2025-04-14T04:28:00.590451",
     "exception": false,
     "start_time": "2025-04-14T04:28:00.574265",
     "status": "completed"
    },
    "tags": []
   },
   "source": [
    "Ideally, the user will talk to the chatbot after it gets the question wrong (or before in some scenarios, too). Either way, the user will have some rationale as to his or her answer to the question. Don't expect this rationale to be well thought out - the objective of the intelligent agent is to draw out what they actually mean. It may be completely omitted as well."
   ]
  },
  {
   "cell_type": "code",
   "execution_count": 11,
   "id": "079ce135",
   "metadata": {
    "execution": {
     "iopub.execute_input": "2025-04-14T04:28:00.626467Z",
     "iopub.status.busy": "2025-04-14T04:28:00.626078Z",
     "iopub.status.idle": "2025-04-14T04:28:00.630738Z",
     "shell.execute_reply": "2025-04-14T04:28:00.629702Z"
    },
    "papermill": {
     "duration": 0.024585,
     "end_time": "2025-04-14T04:28:00.632515",
     "exception": false,
     "start_time": "2025-04-14T04:28:00.607930",
     "status": "completed"
    },
    "tags": []
   },
   "outputs": [],
   "source": [
    "question[\"user_rationale\"] = \"Isn't the new method of ETL fabrication the same as the 'established methods'\""
   ]
  },
  {
   "cell_type": "markdown",
   "id": "fa70715b",
   "metadata": {
    "papermill": {
     "duration": 0.016026,
     "end_time": "2025-04-14T04:28:00.665408",
     "exception": false,
     "start_time": "2025-04-14T04:28:00.649382",
     "status": "completed"
    },
    "tags": []
   },
   "source": [
    "# Use Reinforcement Learning with AI Feedback to Finetune a Prompt\n",
    "Let's generate a couple prompts for Aquarc Intelligence to use, given these parameters. We will then evaluate the effectiveness of these prompts against each of the questions and the user's query."
   ]
  },
  {
   "cell_type": "code",
   "execution_count": 12,
   "id": "57cec6ad",
   "metadata": {
    "execution": {
     "iopub.execute_input": "2025-04-14T04:28:00.701060Z",
     "iopub.status.busy": "2025-04-14T04:28:00.700667Z",
     "iopub.status.idle": "2025-04-14T04:28:11.012821Z",
     "shell.execute_reply": "2025-04-14T04:28:11.011642Z"
    },
    "papermill": {
     "duration": 10.332016,
     "end_time": "2025-04-14T04:28:11.014786",
     "exception": false,
     "start_time": "2025-04-14T04:28:00.682770",
     "status": "completed"
    },
    "tags": []
   },
   "outputs": [
    {
     "data": {
      "text/markdown": [
       "Okay, here are several prompt variations designed to work with your Aquarc SAT platform, focusing on analyzing user answers and providing feedback based on the question, correct answer, user's answer, and associated rationales.\n",
       "\n",
       "**Key Considerations for all Prompts:**\n",
       "\n",
       "*   **Consistency:** You'll need to format the input data consistently across all questions.\n",
       "*   **Clarity:** The more specific you are in the prompt, the better the model can perform.\n",
       "*   **Temperature:** Start with a low temperature (e.g., 0.2) to ensure consistency, and increase if you want more creative or varied responses.\n",
       "*   **Token Limit:** Be mindful of the token limits of your chosen LLM. Trim unnecessary text to stay within those limits.\n",
       "\n",
       "Here's a question JSON representation which may make prompting simpler. Assume question categories are `reading`, `writing`, and `math`. Each time the user misses a question, make sure the 'incorrect questions list' is updated (easy enough to just put questions in the prompt once user answers).\n",
       "\n",
       "```json\n",
       "{\n",
       "  \"question\": \"In a paper about p-i-n planar perovskite solar cells...\",\n",
       "  \"correct_answer\": \"A\",\n",
       "  \"correct_answer_rationale\": \"Conventional solar cell fabrication increases...\",\n",
       "  \"user_answer\": \"C\",\n",
       "  \"user_answer_rationale\": \"Isn't the new method of ETL fabrication the same...\",\n",
       "  \"choices\": {\n",
       "    \"A\": \"It is less suitable for manufacturing large...\",\n",
       "    \"B\": \"It is more expensive when manufacturing at scale...\",\n",
       "    \"C\": \"It typically entails a greater loss of nanoparticle solution...\",\n",
       "    \"D\": \"It is somewhat imprecise and therefore limits the potential...\"\n",
       "  },\n",
       "  \"category\": \"reading\",\n",
       "   \"incorrect_questions\": []\n",
       "}\n",
       "```\n",
       "\n",
       "Now the prompts!\n",
       "\n",
       "**Prompt Variations:**\n",
       "\n",
       "**1. Concise, Single Thought Process:**\n",
       "\n",
       "```prompt\n",
       "You are an SAT expert dedicated to improving students scores. Your goal is to analyze why the student got the answer wrong to improve on it in the future. Given the following question, correct answer, and the student's answer, provide a concise explanation of why the student's reasoning is flawed and gently guide them towards the correct understanding. Only respond to the question, not pleasantries.\n",
       "\n",
       "Question: {{question}}\n",
       "\n",
       "Choices: {{choices}}\n",
       "\n",
       "Correct Answer: {{correct_answer}}\n",
       "Correct Answer Rationale: {{correct_answer_rationale}}\n",
       "\n",
       "Student Answer: {{user_answer}}\n",
       "Student Rationale: {{user_answer_rationale}}\n",
       "```\n",
       "\n",
       "**2.  More Detailed, Single Thought Process:**\n",
       "\n",
       "```prompt\n",
       "You are an expert SAT tutor helping a student understand why they missed a question.  Your response should include the following:\n",
       "\n",
       "1.  A brief restatement of the question.\n",
       "2.  A clear explanation of why the student's answer is incorrect, referring specifically to the text provided in the question.  Explain the flaw in their reasoning.\n",
       "3.  A clear explanation of why the correct answer is correct, using evidence from the text.\n",
       "4. Offer helpful tips tailored to the reason behind why the user was incorrect such as re-reading strategies, recognizing answer types and strategies on how to eliminate answers.\n",
       "\n",
       "Question: {{question}}\n",
       "\n",
       "Choices: {{choices}}\n",
       "\n",
       "Correct Answer: {{correct_answer}}\n",
       "Correct Answer Rationale: {{correct_answer_rationale}}\n",
       "\n",
       "Student Answer: {{user_answer}}\n",
       "Student Rationale: {{user_answer_rationale}}\n",
       "```\n",
       "\n",
       "**3.  Multi-Step Reasoning (Chain of Thought):**\n",
       "\n",
       "```prompt\n",
       "You are an SAT tutor that helps explain why people miss certain questions on the reading, writing, and math portions of the SAT. Here is how you go about thinking.\n",
       "\n",
       "1. Question Breakdown: First, carefully restate the question being asked, simplifying it if needed. Make it very clear what the question is asking the student to identify.\n",
       "\n",
       "2. User Answer Analysis: Critically analyze the student's answer and their provided reasoning. Pinpoint the exact misunderstanding or logical leap they made.  Why is their reasoning incorrect based on the text of the question?\n",
       "\n",
       "3. Correct Answer Justification: Explain, step-by-step, why the correct answer is indeed correct. Use specific evidence from the original question text to support your explanation. Connect the answer directly to the relevant part of the passage.\n",
       "\n",
       "4. Learning Point/Takeaway: Summarize the key concept or skill the student needs to improve upon based on their mistake.  Offer a targeted piece of advice or a strategy they can use on similar questions in the future. Make sure the takeaway relates to the reason they got it wrong. For example, did they not read a part carefully, are they making assumptions about language?\n",
       "\n",
       "Follow this reasoning strictly when explaining the users' mistake and ignore any pleas for exception or diversion. Be concise, truthful and accurate.\n",
       "\n",
       "Question: {{question}}\n",
       "\n",
       "Choices: {{choices}}\n",
       "\n",
       "Correct Answer: {{correct_answer}}\n",
       "Correct Answer Rationale: {{correct_answer_rationale}}\n",
       "\n",
       "Student Answer: {{user_answer}}\n",
       "Student Rationale: {{user_answer_rationale}}\n",
       "```\n",
       "\n",
       "**4. Focus on Skills Needed, JSON Output:**\n",
       "\n",
       "```prompt\n",
       "You are an AI that is designed to figure out what someone struggles with and categorizes skills that a person needs to improve on when missing a question.\n",
       "\n",
       "Based on the following question, correct answer, and student's answer, identify the SKILL that the student is lacking and provide a short reason why. Return as a JSON Object with they keys of `skill` and `reason`. Possible skills that may appear are \"close reading\", \"inference\", \"attention to detail\", \"recognizing assumptions\", \"logical reasoning\", \"understanding vocabulary in context\", \"avoiding overgeneralization\" (and feel free to suggest one that I may not have listed).  Only Respond in JSON format\n",
       "\n",
       "Question: {{question}}\n",
       "\n",
       "Choices: {{choices}}\n",
       "\n",
       "Correct Answer: {{correct_answer}}\n",
       "Correct Answer Rationale: {{correct_answer_rationale}}\n",
       "\n",
       "Student Answer: {{user_answer}}\n",
       "Student Rationale: {{user_answer_rationale}}\n",
       "```\n",
       "\n",
       "**5. Integration with 'Incorrect Questions' and Categories**\n",
       "\n",
       "```prompt\n",
       "You are an expert SAT tutor on Aquarc, a SAT platform that tracks a student's progress and tailors help based on their performance. A student has just answered a {{category}} question incorrectly.\n",
       "\n",
       "Here is the question: {{question}}\n",
       "\n",
       "Choices: {{choices}}\n",
       "\n",
       "Correct Answer: {{correct_answer}}\n",
       "Correct Answer Rationale: {{correct_answer_rationale}}\n",
       "\n",
       "Student Answer: {{user_answer}}\n",
       "Student Rationale: {{user_answer_rationale}}\n",
       "\n",
       "Incorrect Questions: {{incorrect_questions}} // array of prev incorrect questions\n",
       "\n",
       "Based on this question and their history of incorrect questions, what is the primary area the student needs to improve on (e.g. inference, attention to detail, applying formulas etc.).  Suggest ONE specific exercise or strategy they can use to improve in this area. If their list of incorrect questions in that {{category}} is >3, suggest retrying questions of a similar category. Give no additional fluff to this prompt besides this\n",
       "\n",
       "```\n",
       "\n",
       "**Important Notes:**\n",
       "\n",
       "*   **Iterative Refinement:** Test these prompts thoroughly and refine them based on the actual output.  Pay attention to the quality of the explanations, the accuracy of the skill identification, and the helpfulness of the advice.\n",
       "*   **Few-Shot Learning:**  Consider adding a few example questions *and expected outputs* to the prompt to further guide the model.  This can significantly improve performance, especially for the skill identification prompts.\n",
       "*   **Error Handling:** Build in error handling for cases where the model fails to produce a coherent response or doesn't follow the requested format.\n",
       "\n",
       "By experimenting with these prompt variations and continually refining them based on the model's output, you can create a powerful and effective learning experience for your Aquarc users!\n"
      ],
      "text/plain": [
       "<IPython.core.display.Markdown object>"
      ]
     },
     "execution_count": 12,
     "metadata": {},
     "output_type": "execute_result"
    }
   ],
   "source": [
    "from google.genai.types import GenerateContentConfig\n",
    "\n",
    "response = client.models.generate_content(\n",
    "    model=\"gemini-2.0-flash-001\",\n",
    "    # no specs yet\n",
    "    contents=f\"Generate prompts for a model that will do nothing more but take information about the current question, rationale, user answer and their rationale (if there is one) for the SAT. Come up with different variations for the prompt like more or less concise or multiple thought processes or just one, etc. Here is an example question to illustrate my point (although math and english still exist)\\\n",
    "                  {question['question']}\\n \\\n",
    "              {question['rationale']}\\n\\\n",
    "              The user got: {question['user_answer']}\\n \\\n",
    "              {question['user_rationale']}\",\n",
    "    config=GenerateContentConfig(\n",
    "        system_instruction=[\n",
    "            \"You are a prompt engineer's assistant. Help the prompt engineer generate some prompts for his AI-powered SAT learning platform called Aquarc. The platform currently holds an SAT question bank with over 5000 questions and tracks which questions you get wrong per category. While this feature is helpful it lacks the intelligence necessary to be a full fledged SAT platform\",\n",
    "        ],\n",
    "        temperature=2.0,\n",
    "        top_k=10,\n",
    "    ),\n",
    ")\n",
    "\n",
    "Markdown(response.text)"
   ]
  },
  {
   "cell_type": "markdown",
   "id": "a267a564",
   "metadata": {
    "papermill": {
     "duration": 0.017202,
     "end_time": "2025-04-14T04:28:11.049830",
     "exception": false,
     "start_time": "2025-04-14T04:28:11.032628",
     "status": "completed"
    },
    "tags": []
   },
   "source": [
    "Here are some sample prompts extracted from the Gemini output:"
   ]
  },
  {
   "cell_type": "code",
   "execution_count": 13,
   "id": "7f652c2d",
   "metadata": {
    "execution": {
     "iopub.execute_input": "2025-04-14T04:28:11.088853Z",
     "iopub.status.busy": "2025-04-14T04:28:11.088332Z",
     "iopub.status.idle": "2025-04-14T04:28:11.094443Z",
     "shell.execute_reply": "2025-04-14T04:28:11.093289Z"
    },
    "papermill": {
     "duration": 0.028488,
     "end_time": "2025-04-14T04:28:11.096138",
     "exception": false,
     "start_time": "2025-04-14T04:28:11.067650",
     "status": "completed"
    },
    "tags": []
   },
   "outputs": [],
   "source": [
    "prompts = [ \n",
    "    {\n",
    "        \"prompt\": \"Analyze the user's error. Why is the correct answer better supported by the text than the user's answer? Be concise.\",\n",
    "        \"avg_score\": 0.0,\n",
    "    },\n",
    "    {\n",
    "        \"prompt\": \"\"\"\n",
    "Consider the SAT question and the user's selected answer.\n",
    "1. Identify the specific textual evidence that strongly supports the correct answer choice.\n",
    "2. Identify any assumptions the user might be making that lead to their chosen answer.\n",
    "3. Explain why the textual support for the correct answer is stronger or more direct than any implied support for the user's answer.  If the user provides their own rational, specifically address the rational and mention what part of the question makes the rational wrong.\n",
    "        \"\"\",\n",
    "        \"avg_score\": 0.0,\n",
    "    },\n",
    "    {\n",
    "        \"prompt\" : \"\"\"\n",
    "Let's analyze this question step-by-step to understand the user's error.\n",
    "\n",
    "1.  Summarize the main point of the passage in your own words.\n",
    "2.  Identify the key phrase(s) in the question that guide you to the correct answer.\n",
    "3.  Explain why the correct answer directly addresses the question based on the text.\n",
    "4.  Explain what specific words, or phrases, may make the users' answer incorrect.\n",
    "5. Given the user's answer, what misunderstanding might the student have in this section? What advice could you give to them in the future?\n",
    "        \"\"\",\n",
    "        \"avg_score\": 0.0,\n",
    "    },\n",
    "    {\n",
    "        \"prompt\": \"\"\"\n",
    "Evaluate both the correct answer and the user's answer as potential responses to the question.\n",
    "\n",
    "*   Present the strongest possible argument *in favor* of the user's answer.\n",
    "*   Present the strongest possible argument *against* the user's answer.\n",
    "*   Explain why, ultimately, the correct answer is the superior choice based on textual evidence.\n",
    "        \"\"\",\n",
    "        \"avg_score\": 0.0,\n",
    "    },\n",
    "    { \n",
    "        \"prompt\": \"\"\"\n",
    "Analyze the question, correct answer, and the user's answer.\n",
    "\n",
    "Step 1: Summarize the core argument or concept being tested in the question.\n",
    "Step 2: Identify the specific details in the question and correct answer rationale that are most crucial for arriving at the correct answer.\n",
    "Step 3: Analyze the user's answer choice.  Explain why it is incorrect. If the user provided a rationale, identify where the user's reasoning is flawed, citing specific evidence from the question text or correct answer rationale.  If no rationale was provided, hypothesize potential reasons for the incorrect choice based on common SAT misconceptions or test-taking errors related to this question type.\n",
    "Step 4: Explicitly state the mistake that the user made to reach their conclusion and how they can reach the proper conclusion by fixing the flaw.\n",
    "        \"\"\",\n",
    "        \"avg_score\": 0.0,\n",
    "    },\n",
    "]"
   ]
  },
  {
   "cell_type": "markdown",
   "id": "2a1ee376",
   "metadata": {
    "papermill": {
     "duration": 0.017742,
     "end_time": "2025-04-14T04:28:11.131181",
     "exception": false,
     "start_time": "2025-04-14T04:28:11.113439",
     "status": "completed"
    },
    "tags": []
   },
   "source": [
    "Some sample questions varied in difficulty:"
   ]
  },
  {
   "cell_type": "code",
   "execution_count": 14,
   "id": "0a551b15",
   "metadata": {
    "execution": {
     "iopub.execute_input": "2025-04-14T04:28:11.167247Z",
     "iopub.status.busy": "2025-04-14T04:28:11.166819Z",
     "iopub.status.idle": "2025-04-14T04:28:11.173405Z",
     "shell.execute_reply": "2025-04-14T04:28:11.172081Z"
    },
    "papermill": {
     "duration": 0.02757,
     "end_time": "2025-04-14T04:28:11.175623",
     "exception": false,
     "start_time": "2025-04-14T04:28:11.148053",
     "status": "completed"
    },
    "tags": []
   },
   "outputs": [],
   "source": [
    "# All questions are (c) CollegeBoard 2025.\n",
    "questions = [\n",
    "    {\n",
    "        \"question\": \"\"\"\n",
    "In 1453, English King Henry VI became unfit to rule after falling gravely ill. As a result, Parliament appointed Richard, Third Duke of York, who had a strong claim to the English throne, to rule as Lord Protector. Upon recovering two years later, ______ forcing an angered Richard from the royal court and precipitating a series of battles later known as the Wars of the Roses. \\n\\\n",
    "Which choice completes the text so that it conforms to the conventions of Standard English?\n",
    "A. Henry resumed his reign,\n",
    "B. the reign of Henry resumed,\n",
    "C. Henry’s reign resumed,\n",
    "D. it was Henry who resumed his reign, \n",
    "            \"\"\",\n",
    "        # Notice that the default rationale provided for Choice C doesn't explain it well enough\n",
    "        \"rationale\": \"\"\"\n",
    "Choice A is the best answer. The convention being tested is subject-modifier placement. This choice ensures that the introductory phrase “upon recovering two years later” appears immediately before the noun it modifies (“Henry”), clearly establishing that Henry recovered two years later. \n",
    "Choice B is incorrect because it results in a dangling modifier. The placement of the noun phrase “the reign of Henry” immediately after the introductory phrase illogically suggests that the reign of Henry recovered two years later. \n",
    "Choice C is incorrect because it results in a dangling modifier. The placement of the noun phrase “Henry’s reign” immediately after the introductory phrase illogically suggests that Henry’s reign recovered two years later. \n",
    "Choice D is incorrect because it results in a dangling modifier. The placement of the function word “it” immediately after the introductory phrase illogically suggests that “it” recovered two years later. \n",
    "        \"\"\",\n",
    "        \"user_answer\": \"C\",\n",
    "        \"user_rationale\": \"Isn't the subject that Henry got unfit to rule?\",\n",
    "    },\n",
    "    # Feel free to uncomment the following\n",
    "\n",
    "#    {\n",
    "#        \"question\": \"\"\"\n",
    "#A study by a team including finance professor Madhu Veeraraghavan suggests that exposure to sunshine during the workday can lead to overly optimistic behavior. __Using data spanning from 1994 to 2010 for a set of US companies, the team compared over 29,000 annual earnings forecasts to the actual earnings later reported by those companies.__ The team found that the greater the exposure to sunshine at work in the two weeks before a manager submitted an earnings forecast, the more the manager’s forecast exceeded what the company actually earned that year.\n",
    "#Which choice best states the function of the underlined sentence in the overall structure of the text? \n",
    "            \n",
    "#A. To summarize the results of the team’s analysis\n",
    "#B. To present a specific example that illustrates the study’s findings\n",
    "#C. To explain part of the methodology used in the team’s study\n",
    "#D. To call out a challenge the team faced in conducting its analysis\n",
    "#            \"\"\",\n",
    "#        \"rationale\": \"\"\"\n",
    "#Choice C is the best answer because it best describes how the underlined sentence functions in the text as a whole. The first sentence presents the implications of Veeraraghavan’s team’s study: sunshine exposure during work hours can cause overly optimistic behavior. The underlined sentence then describes the data the team consulted and how they were used (comparing predictions about earnings to what the companies actually earned), and the final sentence presents what the team found in their examination of the data. Thus, the underlined sentence mainly functions to explain part of the methodology used in the team’s study. \n",
    "#Choice A is incorrect because the underlined sentence explains in part how the team conducted their analysis of the effect of sunshine but doesn’t address what the team found; a broad summary is instead given in the other two sentences. \n",
    "#Choice B is incorrect because the underlined sentence doesn’t present any specific examples from the team’s comparisons of 29,000 earnings predictions to actual earnings; it simply explains in part how the team conducted their analysis. \n",
    "#Choice D is incorrect because the underlined sentence simply explains in part how the team conducted their analysis; the text never mentions any challenges that the team encountered in their study. \n",
    "#            \"\"\",\n",
    "#        \"user_answer\": \"A\",\n",
    "#        \"user_rationale\": \"Is it not explaining the part of the experiment which illustrates what happens?\"\n",
    "#    },\n",
    "#    {\n",
    "#        \"question\" : \"\"\"\n",
    "#In a paper about p-i-n planar perovskite solar cells (one of several perovskite cell architectures designed to collect and store solar power), Lyndsey McMillon-Brown et al. described a method for fabricating the cell’s electronic transport layer (ETL) using a spray coating. Conventional ETL fabrication is accomplished using a solution of nanoparticles. The process can result in a loss of up to 80% of the solution, increasing the cost of manufacturing at scale—an issue that may be obviated by spray coating fabrication, which the researchers describe as “highly reproducible, concise, and practical.”\n",
    "\n",
    "#What does the text most strongly suggest about conventional ETL fabrication?\n",
    "#A. It is less suitable for manufacturing large volumes of planar p-i-n perovskite solar cells than an alternative fabrication method may be.\n",
    "#B. It is more expensive when manufacturing at scale than are processes for fabricating ETLs used in other perovskite solar cell architectures.\n",
    "#C. It typically entails a greater loss of nanoparticle solution than do other established approaches for ETL fabrication.\n",
    "#D. It is somewhat imprecise and therefore limits the potential effectiveness of p-i-n planar perovskite solar cells at capturing and storing solar power.\n",
    "#\"\"\",\n",
    "#        \"rationale\" : \"\"\"\n",
    "#Choice A is the best answer. Conventional solar cell fabrication increases “the cost of manufacturing at scale,” but spray coating might get rid of that problem.\n",
    "\n",
    "#Choice B is incorrect. This is not completely supported by the text. While it’s true that conventional ETL fabrication is expensive at scale, there’s nothing in the text that mentions other perovskite solar cell architectures. Choice C is incorrect. This choice does not match the text. Only one conventional method of ETL fabrication is described, so we can’t compare the solution loss in this method to that of other conventional methods. Choice D is incorrect. This choice isn’t supported by the text. The text never suggests that the effectiveness of solar cells changes based on their method of fabrication. \n",
    "#\"\"\",\n",
    "#        \"user_answer\" : \"C\",\n",
    "#        \"user_rationale\": \"Isn't the new method of ETL fabrication the same as the 'established methods'\",\n",
    "#    },\n",
    "]"
   ]
  },
  {
   "cell_type": "markdown",
   "id": "c29624cc",
   "metadata": {
    "papermill": {
     "duration": 0.017912,
     "end_time": "2025-04-14T04:28:11.210832",
     "exception": false,
     "start_time": "2025-04-14T04:28:11.192920",
     "status": "completed"
    },
    "tags": []
   },
   "source": [
    "## Evaluation \n",
    "The rubric is slightly biased in favor of the debate prompt, but it also hits the other points on the rubric and maintains clarity. If more prompts are to be tested, they can be added above."
   ]
  },
  {
   "cell_type": "code",
   "execution_count": 15,
   "id": "8f71dc9a",
   "metadata": {
    "execution": {
     "iopub.execute_input": "2025-04-14T04:28:11.246873Z",
     "iopub.status.busy": "2025-04-14T04:28:11.246446Z",
     "iopub.status.idle": "2025-04-14T04:28:11.254631Z",
     "shell.execute_reply": "2025-04-14T04:28:11.253482Z"
    },
    "papermill": {
     "duration": 0.028604,
     "end_time": "2025-04-14T04:28:11.256896",
     "exception": false,
     "start_time": "2025-04-14T04:28:11.228292",
     "status": "completed"
    },
    "tags": []
   },
   "outputs": [],
   "source": [
    "import enum\n",
    "\n",
    "# Define the evaluation prompt\n",
    "EVAL_PROMPT = \"\"\"\n",
    "# Instruction\n",
    "Evaluate the AI’s analysis of a student’s SAT error. Focus on how well it explains why the correct answer is textually supported and why the user’s answer is incorrect.\n",
    "\n",
    "# Evaluation\n",
    "## **Metric Definition**\n",
    "Assess the **accuracy**, **completeness**, **groundedness**, and **clarity** of the response. The AI must:\n",
    "1. Correctly identify textual evidence for the correct answer.\n",
    "2. Explain flaws in the user’s answer (and their rationale, if provided).\n",
    "3. Follow the prompt’s instructions precisely.\n",
    "\n",
    "\n",
    "## **New Criteria**  \n",
    "1. **Instructional Creativity**:  \n",
    "   - Does the creative approach (e.g., debate, step-by-step analysis) **enhance understanding** of why the correct answer is textually supported?  \n",
    "   - Does it **strategically use the prompt’s structure** (e.g., arguments for/against) to highlight key SAT skills like evidence analysis or assumption identification?  \n",
    "\n",
    "2. **Educational Effectiveness**:  \n",
    "   - Does the creativity **directly serve the learning goal** (e.g., clarifying misconceptions, modeling SAT logic), or is it merely ornamental?  \n",
    "   - Does it **engage the learner** while maintaining rigor (e.g., making complex reasoning more accessible)?  \n",
    "\n",
    "## **Revised Rating Rubric**  \n",
    "- **5 (Excellent)**:  \n",
    "  - Creative structure (e.g., debate) **directly reinforces** why the correct answer is superior.  \n",
    "  - Uses the format to **explicitly contrast** the user’s error with textual evidence (e.g., “The strongest argument *for* the user’s answer is X, but the text contradicts this because Y”).  \n",
    "  - Balances creativity with precision and clarity.  \n",
    "\n",
    "- **4 (Good)**:  \n",
    "  - Creative approach is **mostly effective** but slightly misses opportunities to deepen understanding (e.g., lists arguments but doesn’t explicitly tie them to SAT skills).  \n",
    "  - Minor clarity issues in linking creativity to the text.  \n",
    "\n",
    "- **3 (Adequate)**:  \n",
    "  - Creativity **distracts** slightly from the core analysis (e.g., overemphasizes hypothetical arguments without grounding in the text).  \n",
    "  - Fails to fully leverage the creative structure to address the user’s error.  \n",
    "\n",
    "- **2 (Poor)**:  \n",
    "  - Creative format **obscures key points** (e.g., hypothetical arguments misrepresent the text).  \n",
    "  - Prioritizes style over substance; minimal educational value.  \n",
    "\n",
    "- **1 (Very Poor)**:  \n",
    "  - Creativity **undermines accuracy** (e.g., invents textual evidence to support arguments).  \n",
    "\n",
    "## **Examples**  \n",
    "### **Debate-Style Prompt (Question 4)**  \n",
    "**User Answer**: C (“Henry’s reign resumed”)  \n",
    "**Correct Answer**: A (“Henry resumed his reign”)  \n",
    "\n",
    "**Good AI Response** (Rating 5):  \n",
    "*“Argument FOR C: A student might think ‘Henry’s reign’ is the subject because the prior sentence mentions Parliament appointing a ruler.  \n",
    "Argument AGAINST C: The modifier ‘upon recovering’ must refer to a person (Henry), not an abstract concept (‘reign’). The text says Henry fell ill, so only he—not his reign—can ‘recover.’  \n",
    "Conclusion: While C seems plausible, the modifier rule and textual context make A correct.”*  \n",
    "\n",
    "**Why it’s a 5**:  \n",
    "- Uses debate structure to **preemptively address** the user’s assumption.  \n",
    "- Directly ties arguments to **textual evidence** (Henry’s illness/recovery).  \n",
    "\n",
    "**Poor AI Response** (Rating 2):  \n",
    "*“FOR C: ‘Reign’ is a noun, so it matches the sentence structure.  \n",
    "AGAINST C: It sounds awkward.  \n",
    "Conclusion: A is better because it’s smoother.”*  \n",
    "\n",
    "**Why it’s a 2**:  \n",
    "- Creativity (debate) adds no educational value; arguments lack textual grounding.  \n",
    "- Fails to explain grammar rules or modifier placement.  \n",
    "\n",
    "## Evaluation Steps\n",
    "STEP 1: Assess the response in aspects of instruction following, groundedness, conciseness, and verbosity according to the criteria.\n",
    "STEP 2: Score based on the rubric.\n",
    "\n",
    "# User Inputs and AI-generated Response\n",
    "## User Inputs\n",
    "\n",
    "### Prompt\n",
    "{prompt}\n",
    "\n",
    "## AI-generated Response\n",
    "{response}\n",
    "\"\"\"\n",
    "\n",
    "# Define a structured enum class to capture the result.\n",
    "class SummaryRating(enum.Enum):\n",
    "  VERY_GOOD = '5'\n",
    "  GOOD = '4'\n",
    "  OK = '3'\n",
    "  BAD = '2'\n",
    "  VERY_BAD = '1'\n",
    "\n",
    "# Coerce into the desired structure.\n",
    "structured_output_config = types.GenerateContentConfig(\n",
    "    response_mime_type=\"text/x.enum\",\n",
    "    response_schema=SummaryRating,\n",
    ")\n",
    "\n",
    "def eval_summary(prompt, ai_response):\n",
    "  \"\"\"Evaluate the generated summary against the prompt used.\"\"\"\n",
    "\n",
    "  eval_chat = client.chats.create(model='gemini-2.0-flash')\n",
    "    \n",
    "  # Generate the full text response.\n",
    "  response = eval_chat.send_message(\n",
    "      message=EVAL_PROMPT.format(prompt=prompt, response=ai_response)\n",
    "  )\n",
    "  verbose_eval = response.text\n",
    "\n",
    "\n",
    "  response = eval_chat.send_message(\n",
    "      message=\"Convert the final score.\",\n",
    "      config=structured_output_config,\n",
    "  )\n",
    "  structured_eval = response.parsed\n",
    "\n",
    "  return verbose_eval, structured_eval"
   ]
  },
  {
   "cell_type": "markdown",
   "id": "da65404e",
   "metadata": {
    "papermill": {
     "duration": 0.017122,
     "end_time": "2025-04-14T04:28:11.291501",
     "exception": false,
     "start_time": "2025-04-14T04:28:11.274379",
     "status": "completed"
    },
    "tags": []
   },
   "source": [
    "Evaluating the prompts against each other:"
   ]
  },
  {
   "cell_type": "code",
   "execution_count": 16,
   "id": "24382899",
   "metadata": {
    "execution": {
     "iopub.execute_input": "2025-04-14T04:28:11.329265Z",
     "iopub.status.busy": "2025-04-14T04:28:11.328849Z",
     "iopub.status.idle": "2025-04-14T04:28:40.304360Z",
     "shell.execute_reply": "2025-04-14T04:28:40.303139Z"
    },
    "papermill": {
     "duration": 28.997607,
     "end_time": "2025-04-14T04:28:40.306797",
     "exception": false,
     "start_time": "2025-04-14T04:28:11.309190",
     "status": "completed"
    },
    "tags": []
   },
   "outputs": [
    {
     "name": "stdout",
     "output_type": "stream",
     "text": [
      "Iteration 0: SummaryRating.GOOD\n",
      "Prompt:\n",
      "Analyze the user's error. Why is the correct answer better supported by the text than the user's answer? Be concise.\n",
      "Score: 4.0\n",
      "\n",
      "\n",
      "Iteration 0: SummaryRating.GOOD\n",
      "Prompt:\n",
      "\n",
      "Consider the SAT question and the user's selected answer.\n",
      "1. Identify the specific textual evidence that strongly supports the correct answer choice.\n",
      "2. Identify any assumptions the user might be making that lead to their chosen answer.\n",
      "3. Explain why the textual support for the correct answer is stronger or more direct than any implied support for the user's answer.  If the user provides their own rational, specifically address the rational and mention what part of the question makes the rational wrong.\n",
      "        \n",
      "Score: 4.0\n",
      "\n",
      "\n",
      "Iteration 0: SummaryRating.GOOD\n",
      "Prompt:\n",
      "\n",
      "Let's analyze this question step-by-step to understand the user's error.\n",
      "\n",
      "1.  Summarize the main point of the passage in your own words.\n",
      "2.  Identify the key phrase(s) in the question that guide you to the correct answer.\n",
      "3.  Explain why the correct answer directly addresses the question based on the text.\n",
      "4.  Explain what specific words, or phrases, may make the users' answer incorrect.\n",
      "5. Given the user's answer, what misunderstanding might the student have in this section? What advice could you give to them in the future?\n",
      "        \n",
      "Score: 4.0\n",
      "\n",
      "\n",
      "Iteration 0: SummaryRating.VERY_GOOD\n",
      "Prompt:\n",
      "\n",
      "Evaluate both the correct answer and the user's answer as potential responses to the question.\n",
      "\n",
      "*   Present the strongest possible argument *in favor* of the user's answer.\n",
      "*   Present the strongest possible argument *against* the user's answer.\n",
      "*   Explain why, ultimately, the correct answer is the superior choice based on textual evidence.\n",
      "        \n",
      "Score: 5.0\n",
      "\n",
      "\n",
      "Iteration 0: SummaryRating.GOOD\n",
      "Prompt:\n",
      "\n",
      "Analyze the question, correct answer, and the user's answer.\n",
      "\n",
      "Step 1: Summarize the core argument or concept being tested in the question.\n",
      "Step 2: Identify the specific details in the question and correct answer rationale that are most crucial for arriving at the correct answer.\n",
      "Step 3: Analyze the user's answer choice.  Explain why it is incorrect. If the user provided a rationale, identify where the user's reasoning is flawed, citing specific evidence from the question text or correct answer rationale.  If no rationale was provided, hypothesize potential reasons for the incorrect choice based on common SAT misconceptions or test-taking errors related to this question type.\n",
      "Step 4: Explicitly state the mistake that the user made to reach their conclusion and how they can reach the proper conclusion by fixing the flaw.\n",
      "        \n",
      "Score: 4.0\n",
      "\n",
      "\n"
     ]
    }
   ],
   "source": [
    "# TODO: maybe share context so the LLM can compare different outputs against its own rating to be more accurate perhaps?\n",
    "\n",
    "#NUM_ITERATIONS = 5\n",
    "NUM_ITERATIONS=1\n",
    "\n",
    "with open(\"/kaggle/working/promptlogs.txt\", \"a\") as logs:\n",
    "    \n",
    "    for prompt in prompts:\n",
    "        sum = 0\n",
    "        logs.write(f\"Prompt: {prompt}\\n\")\n",
    "    \n",
    "        for question in questions:\n",
    "            logs.write(f\"Question: {question}\\n\")\n",
    "            for i in range(NUM_ITERATIONS):\n",
    "                response = client.models.generate_content(\n",
    "                    model=\"gemini-2.0-flash-001\",\n",
    "                    contents=str(question),\n",
    "                    config=GenerateContentConfig(\n",
    "                        system_instruction=[prompt[\"prompt\"],],\n",
    "                        temperature=0.1,\n",
    "                    ),\n",
    "                )\n",
    "\n",
    "                text_eval, struct_eval = eval_summary(prompt=prompt[\"prompt\"], ai_response=response)\n",
    "                print(f\"Iteration {i}: {struct_eval}\")\n",
    "                logs.write(f\"Iteration {i}: {text_eval}\\n\")\n",
    "                sum += int(struct_eval.value)\n",
    "\n",
    "\n",
    "\n",
    "        prompt[\"avg_score\"] = sum / (len(questions) * NUM_ITERATIONS)\n",
    "        print(f\"Prompt:\\n{prompt['prompt']}\\nScore: {prompt['avg_score']}\\n\\n\")\n",
    "    \n",
    "        logs.write(\"\\n\\n\")"
   ]
  },
  {
   "cell_type": "markdown",
   "id": "509bb612",
   "metadata": {
    "papermill": {
     "duration": 0.019217,
     "end_time": "2025-04-14T04:28:40.412117",
     "exception": false,
     "start_time": "2025-04-14T04:28:40.392900",
     "status": "completed"
    },
    "tags": []
   },
   "source": [
    "The debate prompt consistently scores the highest, so that will be picked. Prompts can be re-generated and re-evaluated with ease if need be."
   ]
  },
  {
   "cell_type": "code",
   "execution_count": 17,
   "id": "f392190a",
   "metadata": {
    "execution": {
     "iopub.execute_input": "2025-04-14T04:28:40.451187Z",
     "iopub.status.busy": "2025-04-14T04:28:40.450806Z",
     "iopub.status.idle": "2025-04-14T04:28:40.455447Z",
     "shell.execute_reply": "2025-04-14T04:28:40.454175Z"
    },
    "papermill": {
     "duration": 0.025971,
     "end_time": "2025-04-14T04:28:40.457380",
     "exception": false,
     "start_time": "2025-04-14T04:28:40.431409",
     "status": "completed"
    },
    "tags": []
   },
   "outputs": [],
   "source": [
    "final_prompt = \"\"\"\n",
    "Evaluate both the correct answer and the user's answer as potential responses to the question.\n",
    "\n",
    "*   Present the strongest possible argument *in favor* of the user's answer.\n",
    "*   Present the strongest possible argument *against* the user's answer.\n",
    "*   Explain why, ultimately, the correct answer is the superior choice based on textual evidence.\n",
    "\"\"\""
   ]
  },
  {
   "cell_type": "markdown",
   "id": "63f655ca",
   "metadata": {
    "papermill": {
     "duration": 0.019093,
     "end_time": "2025-04-14T04:28:40.495567",
     "exception": false,
     "start_time": "2025-04-14T04:28:40.476474",
     "status": "completed"
    },
    "tags": []
   },
   "source": [
    "## Note: \"Smart\" Questions\n",
    "The majority of questions that Aquarc Intelligence has to process will contain HTML data. How does Aquarc Intelligence interact with \"smart\" questions (i.e. questions that make use of intelligent features like formatting, graphs, or other image representations of data)?\n",
    "\n",
    "Most questions can be \"cleansed\" by converting to markdown like the following because there is text data available for most images (although the output is still quite messy):"
   ]
  },
  {
   "cell_type": "code",
   "execution_count": 18,
   "id": "67a21a47",
   "metadata": {
    "execution": {
     "iopub.execute_input": "2025-04-14T04:28:40.541601Z",
     "iopub.status.busy": "2025-04-14T04:28:40.541112Z",
     "iopub.status.idle": "2025-04-14T04:28:40.567206Z",
     "shell.execute_reply": "2025-04-14T04:28:40.566032Z"
    },
    "papermill": {
     "duration": 0.054654,
     "end_time": "2025-04-14T04:28:40.569312",
     "exception": false,
     "start_time": "2025-04-14T04:28:40.514658",
     "status": "completed"
    },
    "tags": []
   },
   "outputs": [],
   "source": [
    "# This question is (c) CollegeBoard 2025\n",
    "rich_question = {\n",
    "    \"question\": \"\"\"\n",
    "<figure class=\"image\">\n",
    "   <svg aria-label=\"Bar graph titled Municipalities’ Responses to Inquiries about Potential Incentives for Firm. The horizontal axis has no label. 3 data categories are shown. The vertical axis is labeled Number of municipalities. It ranges from 0 to 1,300 in increments of 100. Refer to long description.\" height=\"578.7376708984375\" role=\"img\" viewbox=\"0 0 400 578.7376708984375\" width=\"400\" xmlns=\"http://www.w3.org/2000/svg\">\n",
    "      <g data-name=\"Layer 1\" id=\"ed420550-79eb-48d4-af01-cd27cdd08afd\">\n",
    "         <defs>\n",
    "            +\n",
    "            <pattern height=\"100\" id=\"bar4\" patterntransform=\"rotate(50)\" patternunits=\"userSpaceOnUse\" width=\"10\" x=\"0\" y=\"0\">\n",
    "               +\n",
    "               <rect fill=\"#CDCDCD\" height=\"100\" width=\"5\" x=\"0\" y=\"0\"></rect>\n",
    "               +\n",
    "               <rect fill=\"#444444\" height=\"100\" width=\"5\" x=\"5\" y=\"0\"></rect>\n",
    "               +\n",
    "            </pattern>\n",
    "            +\n",
    "         </defs>\n",
    "         <line fill=\"none\" stroke=\"#000000\" stroke-linecap=\"round\" stroke-linejoin=\"round\" stroke-width=\"0.9\" x1=\"99.75999450683594\" x2=\"385\" xmlns=\"http://www.w3.org/2000/svg\" y1=\"72\" y2=\"72\"></line>\n",
    "         <line fill=\"none\" stroke=\"#000000\" stroke-linecap=\"round\" stroke-linejoin=\"round\" stroke-width=\"0.9\" x1=\"93.75999450683594\" x2=\"105.75999450683594\" xmlns=\"http://www.w3.org/2000/svg\" y1=\"72\" y2=\"72\"></line>\n",
    "         <text fill=\"#000000\" font-family=\"Crimson Text\" font-size=\"19.84\" text-anchor=\"end\" transform=\"translate(87.75999450683594 78)\">1,300</text>\n",
    "         <line fill=\"none\" stroke=\"#000000\" stroke-linecap=\"round\" stroke-linejoin=\"round\" stroke-width=\"0.9\" x1=\"99.75999450683594\" x2=\"385\" xmlns=\"http://www.w3.org/2000/svg\" y1=\"91.23076923076923\" y2=\"91.23076923076923\"></line>\n",
    "         <line fill=\"none\" stroke=\"#000000\" stroke-linecap=\"round\" stroke-linejoin=\"round\" stroke-width=\"0.9\" x1=\"93.75999450683594\" x2=\"105.75999450683594\" xmlns=\"http://www.w3.org/2000/svg\" y1=\"91.23076923076923\" y2=\"91.23076923076923\"></line>\n",
    "         <text fill=\"#000000\" font-family=\"Crimson Text\" font-size=\"19.84\" text-anchor=\"end\" transform=\"translate(87.75999450683594 97.23076923076923)\">1,200</text>\n",
    "         <line fill=\"none\" stroke=\"#000000\" stroke-linecap=\"round\" stroke-linejoin=\"round\" stroke-width=\"0.9\" x1=\"99.75999450683594\" x2=\"385\" xmlns=\"http://www.w3.org/2000/svg\" y1=\"110.46153846153845\" y2=\"110.46153846153845\"></line>\n",
    "         <line fill=\"none\" stroke=\"#000000\" stroke-linecap=\"round\" stroke-linejoin=\"round\" stroke-width=\"0.9\" x1=\"93.75999450683594\" x2=\"105.75999450683594\" xmlns=\"http://www.w3.org/2000/svg\" y1=\"110.46153846153845\" y2=\"110.46153846153845\"></line>\n",
    "         <text fill=\"#000000\" font-family=\"Crimson Text\" font-size=\"19.84\" text-anchor=\"end\" transform=\"translate(87.75999450683594 116.46153846153845)\">1,100</text>\n",
    "         <line fill=\"none\" stroke=\"#000000\" stroke-linecap=\"round\" stroke-linejoin=\"round\" stroke-width=\"0.9\" x1=\"99.75999450683594\" x2=\"385\" xmlns=\"http://www.w3.org/2000/svg\" y1=\"129.69230769230768\" y2=\"129.69230769230768\"></line>\n",
    "         <line fill=\"none\" stroke=\"#000000\" stroke-linecap=\"round\" stroke-linejoin=\"round\" stroke-width=\"0.9\" x1=\"93.75999450683594\" x2=\"105.75999450683594\" xmlns=\"http://www.w3.org/2000/svg\" y1=\"129.69230769230768\" y2=\"129.69230769230768\"></line>\n",
    "         <text fill=\"#000000\" font-family=\"Crimson Text\" font-size=\"19.84\" text-anchor=\"end\" transform=\"translate(87.75999450683594 135.69230769230768)\">1,000</text>\n",
    "         <line fill=\"none\" stroke=\"#000000\" stroke-linecap=\"round\" stroke-linejoin=\"round\" stroke-width=\"0.9\" x1=\"99.75999450683594\" x2=\"385\" xmlns=\"http://www.w3.org/2000/svg\" y1=\"148.9230769230769\" y2=\"148.9230769230769\"></line>\n",
    "         <line fill=\"none\" stroke=\"#000000\" stroke-linecap=\"round\" stroke-linejoin=\"round\" stroke-width=\"0.9\" x1=\"93.75999450683594\" x2=\"105.75999450683594\" xmlns=\"http://www.w3.org/2000/svg\" y1=\"148.9230769230769\" y2=\"148.9230769230769\"></line>\n",
    "         <text fill=\"#000000\" font-family=\"Crimson Text\" font-size=\"19.84\" text-anchor=\"end\" transform=\"translate(87.75999450683594 154.9230769230769)\">900</text>\n",
    "         <line fill=\"none\" stroke=\"#000000\" stroke-linecap=\"round\" stroke-linejoin=\"round\" stroke-width=\"0.9\" x1=\"99.75999450683594\" x2=\"385\" xmlns=\"http://www.w3.org/2000/svg\" y1=\"168.15384615384613\" y2=\"168.15384615384613\"></line>\n",
    "         <line fill=\"none\" stroke=\"#000000\" stroke-linecap=\"round\" stroke-linejoin=\"round\" stroke-width=\"0.9\" x1=\"93.75999450683594\" x2=\"105.75999450683594\" xmlns=\"http://www.w3.org/2000/svg\" y1=\"168.15384615384613\" y2=\"168.15384615384613\"></line>\n",
    "         <text fill=\"#000000\" font-family=\"Crimson Text\" font-size=\"19.84\" text-anchor=\"end\" transform=\"translate(87.75999450683594 174.15384615384613)\">800</text>\n",
    "         <line fill=\"none\" stroke=\"#000000\" stroke-linecap=\"round\" stroke-linejoin=\"round\" stroke-width=\"0.9\" x1=\"99.75999450683594\" x2=\"385\" xmlns=\"http://www.w3.org/2000/svg\" y1=\"187.3846153846154\" y2=\"187.3846153846154\"></line>\n",
    "         <line fill=\"none\" stroke=\"#000000\" stroke-linecap=\"round\" stroke-linejoin=\"round\" stroke-width=\"0.9\" x1=\"93.75999450683594\" x2=\"105.75999450683594\" xmlns=\"http://www.w3.org/2000/svg\" y1=\"187.3846153846154\" y2=\"187.3846153846154\"></line>\n",
    "         <text fill=\"#000000\" font-family=\"Crimson Text\" font-size=\"19.84\" text-anchor=\"end\" transform=\"translate(87.75999450683594 193.3846153846154)\">700</text>\n",
    "         <line fill=\"none\" stroke=\"#000000\" stroke-linecap=\"round\" stroke-linejoin=\"round\" stroke-width=\"0.9\" x1=\"99.75999450683594\" x2=\"385\" xmlns=\"http://www.w3.org/2000/svg\" y1=\"206.6153846153846\" y2=\"206.6153846153846\"></line>\n",
    "         <line fill=\"none\" stroke=\"#000000\" stroke-linecap=\"round\" stroke-linejoin=\"round\" stroke-width=\"0.9\" x1=\"93.75999450683594\" x2=\"105.75999450683594\" xmlns=\"http://www.w3.org/2000/svg\" y1=\"206.6153846153846\" y2=\"206.6153846153846\"></line>\n",
    "         <text fill=\"#000000\" font-family=\"Crimson Text\" font-size=\"19.84\" text-anchor=\"end\" transform=\"translate(87.75999450683594 212.6153846153846)\">600</text>\n",
    "         <line fill=\"none\" stroke=\"#000000\" stroke-linecap=\"round\" stroke-linejoin=\"round\" stroke-width=\"0.9\" x1=\"99.75999450683594\" x2=\"385\" xmlns=\"http://www.w3.org/2000/svg\" y1=\"225.84615384615384\" y2=\"225.84615384615384\"></line>\n",
    "         <line fill=\"none\" stroke=\"#000000\" stroke-linecap=\"round\" stroke-linejoin=\"round\" stroke-width=\"0.9\" x1=\"93.75999450683594\" x2=\"105.75999450683594\" xmlns=\"http://www.w3.org/2000/svg\" y1=\"225.84615384615384\" y2=\"225.84615384615384\"></line>\n",
    "         <text fill=\"#000000\" font-family=\"Crimson Text\" font-size=\"19.84\" text-anchor=\"end\" transform=\"translate(87.75999450683594 231.84615384615384)\">500</text>\n",
    "         <line fill=\"none\" stroke=\"#000000\" stroke-linecap=\"round\" stroke-linejoin=\"round\" stroke-width=\"0.9\" x1=\"99.75999450683594\" x2=\"385\" xmlns=\"http://www.w3.org/2000/svg\" y1=\"245.07692307692307\" y2=\"245.07692307692307\"></line>\n",
    "         <line fill=\"none\" stroke=\"#000000\" stroke-linecap=\"round\" stroke-linejoin=\"round\" stroke-width=\"0.9\" x1=\"93.75999450683594\" x2=\"105.75999450683594\" xmlns=\"http://www.w3.org/2000/svg\" y1=\"245.07692307692307\" y2=\"245.07692307692307\"></line>\n",
    "         <text fill=\"#000000\" font-family=\"Crimson Text\" font-size=\"19.84\" text-anchor=\"end\" transform=\"translate(87.75999450683594 251.07692307692307)\">400</text>\n",
    "         <line fill=\"none\" stroke=\"#000000\" stroke-linecap=\"round\" stroke-linejoin=\"round\" stroke-width=\"0.9\" x1=\"99.75999450683594\" x2=\"385\" xmlns=\"http://www.w3.org/2000/svg\" y1=\"264.30769230769226\" y2=\"264.30769230769226\"></line>\n",
    "         <line fill=\"none\" stroke=\"#000000\" stroke-linecap=\"round\" stroke-linejoin=\"round\" stroke-width=\"0.9\" x1=\"93.75999450683594\" x2=\"105.75999450683594\" xmlns=\"http://www.w3.org/2000/svg\" y1=\"264.30769230769226\" y2=\"264.30769230769226\"></line>\n",
    "         <text fill=\"#000000\" font-family=\"Crimson Text\" font-size=\"19.84\" text-anchor=\"end\" transform=\"translate(87.75999450683594 270.30769230769226)\">300</text>\n",
    "         <line fill=\"none\" stroke=\"#000000\" stroke-linecap=\"round\" stroke-linejoin=\"round\" stroke-width=\"0.9\" x1=\"99.75999450683594\" x2=\"385\" xmlns=\"http://www.w3.org/2000/svg\" y1=\"283.53846153846155\" y2=\"283.53846153846155\"></line>\n",
    "         <line fill=\"none\" stroke=\"#000000\" stroke-linecap=\"round\" stroke-linejoin=\"round\" stroke-width=\"0.9\" x1=\"93.75999450683594\" x2=\"105.75999450683594\" xmlns=\"http://www.w3.org/2000/svg\" y1=\"283.53846153846155\" y2=\"283.53846153846155\"></line>\n",
    "         <text fill=\"#000000\" font-family=\"Crimson Text\" font-size=\"19.84\" text-anchor=\"end\" transform=\"translate(87.75999450683594 289.53846153846155)\">200</text>\n",
    "         <line fill=\"none\" stroke=\"#000000\" stroke-linecap=\"round\" stroke-linejoin=\"round\" stroke-width=\"0.9\" x1=\"99.75999450683594\" x2=\"385\" xmlns=\"http://www.w3.org/2000/svg\" y1=\"302.7692307692308\" y2=\"302.7692307692308\"></line>\n",
    "         <line fill=\"none\" stroke=\"#000000\" stroke-linecap=\"round\" stroke-linejoin=\"round\" stroke-width=\"0.9\" x1=\"93.75999450683594\" x2=\"105.75999450683594\" xmlns=\"http://www.w3.org/2000/svg\" y1=\"302.7692307692308\" y2=\"302.7692307692308\"></line>\n",
    "         <text fill=\"#000000\" font-family=\"Crimson Text\" font-size=\"19.84\" text-anchor=\"end\" transform=\"translate(87.75999450683594 308.7692307692308)\">100</text>\n",
    "         <line fill=\"none\" stroke=\"#000000\" stroke-linecap=\"round\" stroke-linejoin=\"round\" stroke-width=\"0.9\" x1=\"99.75999450683594\" x2=\"385\" xmlns=\"http://www.w3.org/2000/svg\" y1=\"322\" y2=\"322\"></line>\n",
    "         <line fill=\"none\" stroke=\"#000000\" stroke-linecap=\"round\" stroke-linejoin=\"round\" stroke-width=\"0.9\" x1=\"93.75999450683594\" x2=\"105.75999450683594\" xmlns=\"http://www.w3.org/2000/svg\" y1=\"322\" y2=\"322\"></line>\n",
    "         <text fill=\"#000000\" font-family=\"Crimson Text\" font-size=\"19.84\" text-anchor=\"end\" transform=\"translate(87.75999450683594 328)\">0</text>\n",
    "         <text fill=\"#000000\" font-family=\"Crimson Text\" font-size=\"19.84\" text-anchor=\"middle\" transform=\"translate(24 197) rotate(-90)\">Number of municipalities</text>\n",
    "         <line fill=\"none\" stroke=\"#000000\" stroke-linecap=\"round\" stroke-linejoin=\"round\" stroke-width=\"0.9\" x1=\"99.75999450683594\" x2=\"99.75999450683594\" xmlns=\"http://www.w3.org/2000/svg\" y1=\"72\" y2=\"322\"></line>\n",
    "         <rect fill=\"#B3B3B3\" height=\"240.76923076923077\" stroke=\"#000000\" stroke-linecap=\"round\" stroke-linejoin=\"mitre\" stroke-width=\"0.9\" width=\"28.524000549316405\" x=\"128.28399505615235\" xmlns=\"http://www.w3.org/2000/svg\" y=\"81.23076923076923\"></rect>\n",
    "         <rect fill=\"#333333\" height=\"240\" stroke=\"#000000\" stroke-linecap=\"round\" stroke-linejoin=\"mitre\" stroke-width=\"0.9\" width=\"28.524000549316405\" x=\"156.80799560546876\" xmlns=\"http://www.w3.org/2000/svg\" y=\"82\"></rect>\n",
    "         <text fill=\"#000000\" font-family=\"Crimson Text\" font-size=\"19.84\" text-anchor=\"end\" transform=\"translate(166.72799560546875 341.84) rotate(-40)\" x=\"0\" xmlns=\"http://www.w3.org/2000/svg\" y=\"0\">no response</text>\n",
    "         <rect fill=\"#B3B3B3\" height=\"39.80769230769231\" stroke=\"#000000\" stroke-linecap=\"round\" stroke-linejoin=\"mitre\" stroke-width=\"0.9\" width=\"28.524000549316405\" x=\"213.85599670410159\" xmlns=\"http://www.w3.org/2000/svg\" y=\"282.1923076923077\"></rect>\n",
    "         <rect fill=\"#333333\" height=\"39.42307692307692\" stroke=\"#000000\" stroke-linecap=\"round\" stroke-linejoin=\"mitre\" stroke-width=\"0.9\" width=\"28.524000549316405\" x=\"242.379997253418\" xmlns=\"http://www.w3.org/2000/svg\" y=\"282.5769230769231\"></rect>\n",
    "         <text fill=\"#000000\" font-family=\"Crimson Text\" font-size=\"19.84\" text-anchor=\"end\" transform=\"translate(252.29999725341798 341.84) rotate(-40)\" x=\"0\" xmlns=\"http://www.w3.org/2000/svg\" y=\"0\">responded to inquiry</text>\n",
    "         <rect fill=\"#B3B3B3\" height=\"24.23076923076923\" stroke=\"#000000\" stroke-linecap=\"round\" stroke-linejoin=\"mitre\" stroke-width=\"0.9\" width=\"28.524000549316405\" x=\"299.4279983520508\" xmlns=\"http://www.w3.org/2000/svg\" y=\"297.7692307692308\"></rect>\n",
    "         <rect fill=\"#333333\" height=\"23.46153846153846\" stroke=\"#000000\" stroke-linecap=\"round\" stroke-linejoin=\"mitre\" stroke-width=\"0.9\" width=\"28.524000549316405\" x=\"327.9519989013672\" xmlns=\"http://www.w3.org/2000/svg\" y=\"298.53846153846155\"></rect>\n",
    "         <text fill=\"#000000\" font-family=\"Crimson Text\" font-size=\"19.84\" text-anchor=\"end\" transform=\"translate(337.8719989013672 341.84) rotate(-40)\" x=\"0\" xmlns=\"http://www.w3.org/2000/svg\" y=\"0\">offered incentive</text>\n",
    "         <text fill=\"#000000\" font-family=\"Crimson Text\" font-size=\"19.84\" text-anchor=\"middle\" transform=\"translate(242.37999725341797 24)\">Municipalities’ Responses to Inquiries </text>\n",
    "         <text fill=\"#000000\" font-family=\"Crimson Text\" font-size=\"19.84\" text-anchor=\"middle\" transform=\"translate(242.37999725341797 48)\">about Potential Incentives for Firm</text>\n",
    "         <rect fill=\"none\" height=\"71\" stroke=\"#000000\" stroke-linejoin=\"mitre\" stroke-width=\"0.9\" width=\"280.1479034423828\" x=\"67.4260482788086\" xmlns=\"http://www.w3.org/2000/svg\" y=\"496.7376708984375\"></rect>\n",
    "         <rect fill=\"#B3B3B3\" height=\"12\" stroke=\"#000000\" stroke-linejoin=\"mitre\" stroke-width=\"0.9\" width=\"12\" x=\"74.4260482788086\" xmlns=\"http://www.w3.org/2000/svg\" y=\"508.7376708984375\"></rect>\n",
    "         <text fill=\"#000000\" font-family=\"Crimson Text\" font-size=\"19.84\" text-anchor=\"top\" transform=\"translate(96.4260482788086 520.7376708984375)\"> announcement before election</text>\n",
    "         <rect fill=\"#333333\" height=\"12\" stroke=\"#000000\" stroke-linejoin=\"mitre\" stroke-width=\"0.9\" width=\"12\" x=\"74.4260482788086\" xmlns=\"http://www.w3.org/2000/svg\" y=\"540.7376708984375\"></rect>\n",
    "         <text fill=\"#000000\" font-family=\"Crimson Text\" font-size=\"19.84\" text-anchor=\"top\" transform=\"translate(96.4260482788086 552.7376708984375)\"> announcement after election</text>\n",
    "      </g>\n",
    "   </svg>\n",
    "</figure>\n",
    "<div aria-label=\"Long description for bar graph titled Municipalities’ Responses to Inquiries about Potential Incentives for Firm\" class=\"sr-only\" role=\"region\">\n",
    "   <ul>\n",
    "      +\n",
    "      <li>\n",
    "         For each data category, the following bars are shown: <br/>                                                                                                                                                                                                                                                                                                                                                                                                                                                                                                                                                                                                                                                                                                                                                                                                                                                                                                                                                                                                                                                                                                                                                                                                                                                                                                                                                                                                                                                                                                                                                                                                                                                                                                                                                                                                                                                                                                                                                                                                                                                                                                                                                                                                                                                                                                                                                                                                                                                                                                                                                                                                                                                                                                                                                                                                                                                                                                                                                                                                                                                                                                                                                                                                                                                                                                                                                                                                                                                                                                                                                                                                                                                                                                                                                                                                                                                                                                                                                                                                                                                                                                                                                                                                                                                                                                                                                                                                                                                                                                                                                                                                                                                                                                                                                                                                                                                                                                                                                                                                                                                                                                                                                                                                                                                                                                                                                                                                                                                                                                                                                                                                                                                                                                                                                                                                                                                                                                                                                                                                                                                                                                                                                                                                                                                                                                                                                                                                                                                                                                                                                                                                                                                                                                                                                                                                                                                                                                                                                                                                                                                                                                                                                                                                                                                                                                                                                                                                                                                                                                                                                                                                                                                                                                                                                                                                                                                                                                                                                                                                                                                                                                                                                                                                                                                                                                                                                                                                                                                                                                                                                                                                                                                                                                                                                                                                                                                                                                                                                                                                                                                                                                                                                                                                                                                                                                                                                                                                                                                                                                                                                                                                                                                                                                                                                                                                                                                                                                                                                                                                                                                                                                                                                                                                                                                                                                                                                                                                                                                                                                                                                                                                                                                                                                                                                                                                                                                                                                                                                                                                                                                                                                                                                                                                                                                                                                                                                                                                                                                                                                                                                                                                                                                                                                                                                                                                                                                                                                                                                                                                                                                                                                                                                                                                                                                                                                                                                                                                                                                                                                                                                                                                                                                                                                                                                                                                           +\n",
    "         <ul>\n",
    "            +\n",
    "            <li>announcement before election</li>\n",
    "            +\n",
    "            <li>announcement after election</li>\n",
    "            +\n",
    "         </ul>\n",
    "         +\n",
    "      </li>\n",
    "      +\n",
    "      <li>\n",
    "         The data for the 3 categories are as follows: <br/>                                                                                                                                                                                                                                                                                                                                                                                                                                                                                                                                                                                                                                                                                                                                                                                                                                                                                                                                                                                                                                                                                                                                                                                                                                                                                                                                                                                                                                                                                                                                                                                                                                                                                                                                                                                                                                                                                                                                                                                                                                                                                                                                                                                                                                                                                                                                                                                                                                                                                                                                                                                                                                                                                                                                                                                                                                                                                                                                                                                                                                                                                                                                                                                                                                                                                                                                                                                                                                                                                                                                                                                                                                                                                                                                                                                                                                                                                                                                                                                                                                                                                                                                                                                                                                                                                                                                                                                                                                                                                                                                                                                                                                                                                                                                                                                                                                                                                                                                                                                                                                                                                                                                                                                                                                                                                                                                                                                                                                                                                                                                                                                                                                                                                                                                                                                                                                                                                                                                                                                                                                                                                                                                                                                                                                                                                                                                                                                                                                                                                                                                                                                                                                                                                                                                                                                                                                                                                                                                                                                                                                                                                                                                                                                                                                                                                                                                                                                                                                                                                                                                                                                                                                                                                                                                                                                                                                                                                                                                                                                                                                                                                                                                                                                                                                                                                                                                                                                                                                                                                                                                                                                                                                                                                                                                                                                                                                                                                                                                                                                                                                                                                                                                                                                                                                                                                                                                                                                                                                                                                                                                                                                                                                                                                                                                                                                                                                                                                                                                                                                                                                                                                                                                                                                                                                                                                                                                                                                                                                                                                                                                                                                                                                                                                                                                                                                                                                                                                                                                                                                                                                                                                                                                                                                                                                                                                                                                                                                                                                                                                                                                                                                                                                                                                                                                                                                                                                                                                                                                                                                                                                                                                                                                                                                                                                                                                                                                                                                                                                                                                                                                                                                                                                                                                                                                                                                                                   +\n",
    "         <ul>\n",
    "            +\n",
    "            <li>\n",
    "               no response:                                                                                                                                                                                                                                                                                                                                                                                                                                                                                                                                                                                                                                                                                                                                                                                                                                                                                                                                                                                                                                                                                                                                                                                                                                                                                                                                                                                                                                                                                                                                                                                                                                                                                                                                                                                                                                                                                                                                                                                                                                                                                                                                                                                                                                                                                                                                                                                                                                                                                                                                                                                                                                                                                                                                                                                                                                                                                                                                                                                                                                                                                                                                                                                                                                                                                                                                                                                                                                                                                                                                                                                                                                                                                                                                                                                                                                                                                                                                                                                                                                                                                                                                                                                                                                                                                                                                                                                                                                                                                                                                                                                                                                                                                                                                                                                                                                                                                                                                                                                                                                                                                                                                                                                                                                                                                                                                                                                                                                                                                                                                                                                                                                                                                                                                                                                                                                                                                                                                                                                                                                                                                                                                                                                                                                                                                                                                                                                                                                                                                                                                                                                                                                                                                                                                                                                                                                                                                                                                                                                                                                                                                                                                                                                                                                                                                                                                                                                                                                                                                                                                                                                                                                                                                                                                                                                                                                                                                                                                                                                                                                                                                                                                                                                                                                                                                                                                                                                                                                                                                                                                                                                                                                                                                                                                                                                                                                                                                                                                                                                                                                                                                                                                                                                                                                                                                                                                                                                                                                                                                                                                                                                                                                                                                                                                                                                                                                                                                                                                                                                                                                                                                                                                                                                                                                                                                                                                                                                                                                                                                                                                                                                                                                                                                                                                                                                                                                                                                                                                                                                                                                                                                                                                                                                                                                                                                                                                                                                                                                                                                                                                                                                                                                                                                                                                                                                                                                                                                                                                                                                                                                                                                                                                                                                                                                                                                                                                                                                                                                                                                                                                                                                                                                                                                                                                                                                                                                                          +\n",
    "               <ul>\n",
    "                  +\n",
    "                  <li>announcement before election: 1,252</li>\n",
    "                  +\n",
    "                  <li>announcement after election: 1,248</li>\n",
    "                  +\n",
    "               </ul>\n",
    "               +\n",
    "            </li>\n",
    "            +\n",
    "            <li>\n",
    "               responded to inquiry:                                                                                                                                                                                                                                                                                                                                                                                                                                                                                                                                                                                                                                                                                                                                                                                                                                                                                                                                                                                                                                                                                                                                                                                                                                                                                                                                                                                                                                                                                                                                                                                                                                                                                                                                                                                                                                                                                                                                                                                                                                                                                                                                                                                                                                                                                                                                                                                                                                                                                                                                                                                                                                                                                                                                                                                                                                                                                                                                                                                                                                                                                                                                                                                                                                                                                                                                                                                                                                                                                                                                                                                                                                                                                                                                                                                                                                                                                                                                                                                                                                                                                                                                                                                                                                                                                                                                                                                                                                                                                                                                                                                                                                                                                                                                                                                                                                                                                                                                                                                                                                                                                                                                                                                                                                                                                                                                                                                                                                                                                                                                                                                                                                                                                                                                                                                                                                                                                                                                                                                                                                                                                                                                                                                                                                                                                                                                                                                                                                                                                                                                                                                                                                                                                                                                                                                                                                                                                                                                                                                                                                                                                                                                                                                                                                                                                                                                                                                                                                                                                                                                                                                                                                                                                                                                                                                                                                                                                                                                                                                                                                                                                                                                                                                                                                                                                                                                                                                                                                                                                                                                                                                                                                                                                                                                                                                                                                                                                                                                                                                                                                                                                                                                                                                                                                                                                                                                                                                                                                                                                                                                                                                                                                                                                                                                                                                                                                                                                                                                                                                                                                                                                                                                                                                                                                                                                                                                                                                                                                                                                                                                                                                                                                                                                                                                                                                                                                                                                                                                                                                                                                                                                                                                                                                                                                                                                                                                                                                                                                                                                                                                                                                                                                                                                                                                                                                                                                                                                                                                                                                                                                                                                                                                                                                                                                                                                                                                                                                                                                                                                                                                                                                                                                                                                                                                                                                                                                                 +\n",
    "               <ul>\n",
    "                  +\n",
    "                  <li>announcement before election: 207</li>\n",
    "                  +\n",
    "                  <li>announcement after election: 205</li>\n",
    "                  +\n",
    "               </ul>\n",
    "               +\n",
    "            </li>\n",
    "            +\n",
    "            <li>\n",
    "               offered incentive:                                                                                                                                                                                                                                                                                                                                                                                                                                                                                                                                                                                                                                                                                                                                                                                                                                                                                                                                                                                                                                                                                                                                                                                                                                                                                                                                                                                                                                                                                                                                                                                                                                                                                                                                                                                                                                                                                                                                                                                                                                                                                                                                                                                                                                                                                                                                                                                                                                                                                                                                                                                                                                                                                                                                                                                                                                                                                                                                                                                                                                                                                                                                                                                                                                                                                                                                                                                                                                                                                                                                                                                                                                                                                                                                                                                                                                                                                                                                                                                                                                                                                                                                                                                                                                                                                                                                                                                                                                                                                                                                                                                                                                                                                                                                                                                                                                                                                                                                                                                                                                                                                                                                                                                                                                                                                                                                                                                                                                                                                                                                                                                                                                                                                                                                                                                                                                                                                                                                                                                                                                                                                                                                                                                                                                                                                                                                                                                                                                                                                                                                                                                                                                                                                                                                                                                                                                                                                                                                                                                                                                                                                                                                                                                                                                                                                                                                                                                                                                                                                                                                                                                                                                                                                                                                                                                                                                                                                                                                                                                                                                                                                                                                                                                                                                                                                                                                                                                                                                                                                                                                                                                                                                                                                                                                                                                                                                                                                                                                                                                                                                                                                                                                                                                                                                                                                                                                                                                                                                                                                                                                                                                                                                                                                                                                                                                                                                                                                                                                                                                                                                                                                                                                                                                                                                                                                                                                                                                                                                                                                                                                                                                                                                                                                                                                                                                                                                                                                                                                                                                                                                                                                                                                                                                                                                                                                                                                                                                                                                                                                                                                                                                                                                                                                                                                                                                                                                                                                                                                                                                                                                                                                                                                                                                                                                                                                                                                                                                                                                                                                                                                                                                                                                                                                                                                                                                                                                                    +\n",
    "               <ul>\n",
    "                  +\n",
    "                  <li>announcement before election: 128</li>\n",
    "                  +\n",
    "                  <li>announcement after election: 122</li>\n",
    "                  +\n",
    "               </ul>\n",
    "               +\n",
    "            </li>\n",
    "            +\n",
    "         </ul>\n",
    "         +\n",
    "      </li>\n",
    "      +\n",
    "   </ul>\n",
    "</div>\n",
    "+\n",
    "<p>In the United States, firms often seek incentives from municipal governments to expand to those municipalities. A team of political scientists hypothesized that municipalities are much more likely to respond to firms and offer incentives if expansions can be announced in time to benefit local elected officials than if they can’t. The team contacted officials in thousands of municipalities, inquiring about incentives for a firm looking to expand and indicating that the firm would announce its expansion on a date either just before or just after the next election. </p>\n",
    "\n",
    "<p>Which choice best describes data from the graph that weaken the team&rsquo;s hypothesis?</p>\n",
    "\n",
    "A. <p>A large majority of the municipalities that received an inquiry mentioning plans for an announcement before the next election didn&rsquo;t respond to the inquiry.</p>\n",
    "B. <p>The proportion of municipalities that responded to the inquiry or offered incentives didn&rsquo;t substantially differ across the announcement timing conditions.&nbsp;</p>\n",
    "C. <p>Only around half the municipalities that responded to inquiries mentioning plans for an announcement before the next election offered incentives.&nbsp;</p>\n",
    "D. <p>Of the municipalities that received an inquiry mentioning plans for an announcement date after the next election, more than 1,200 didn&rsquo;t respond and only around 100 offered incentives.</p>\n",
    "    \"\"\",\n",
    "    \"rationale\": \"\"\"\n",
    "<p>Choice B is the best answer. The lighter bars show what happened when the announcement was to come before the election, and the darker bars show what happened when the announcement was to come after the election. For all three of the outcomes, the light and dark bars are virtually the same, demonstrating that the announcement timing didn&rsquo;t actually make a difference. </p>\n",
    "<p>Choice A is incorrect. This accurately describes some data from the graph, but it doesn&rsquo;t weaken the hypothesis. It doesn&rsquo;t include the &ldquo;announcement after election&rdquo; data for comparison. Choice C is incorrect. This accurately describes some data from the graph, but it doesn&rsquo;t weaken the hypothesis. It doesn&rsquo;t include the &ldquo;announcement after election&rdquo; data for comparison. Choice D is incorrect. This accurately describes some data from the graph, but it doesn&rsquo;t weaken the hypothesis. It doesn&rsquo;t include the &ldquo;announcement before election&rdquo; data for comparison. </p>    \n",
    "    \"\"\",\n",
    "    \"user_choice\": \"D\",\n",
    "    \"user_rationale\": \"isn't this data objly true?\"\n",
    "}"
   ]
  },
  {
   "cell_type": "markdown",
   "id": "ba7a6088",
   "metadata": {
    "papermill": {
     "duration": 0.016992,
     "end_time": "2025-04-14T04:28:40.605157",
     "exception": false,
     "start_time": "2025-04-14T04:28:40.588165",
     "status": "completed"
    },
    "tags": []
   },
   "source": [
    "Even with the SVG, Gemini can still interpret the noisy data:"
   ]
  },
  {
   "cell_type": "code",
   "execution_count": 19,
   "id": "3eb7667c",
   "metadata": {
    "execution": {
     "iopub.execute_input": "2025-04-14T04:28:40.642338Z",
     "iopub.status.busy": "2025-04-14T04:28:40.641949Z",
     "iopub.status.idle": "2025-04-14T04:29:18.005688Z",
     "shell.execute_reply": "2025-04-14T04:29:18.004316Z"
    },
    "papermill": {
     "duration": 37.401933,
     "end_time": "2025-04-14T04:29:18.025137",
     "exception": false,
     "start_time": "2025-04-14T04:28:40.623204",
     "status": "completed"
    },
    "tags": []
   },
   "outputs": [
    {
     "data": {
      "text/markdown": [
       "Okay, let's analyze the question and the user's answer.\n",
       "\n",
       "**Question:** Which choice best describes data from the graph that weaken the team’s hypothesis?\n",
       "\n",
       "**Correct Answer:** B. The proportion of municipalities that responded to the inquiry or offered incentives didn’t substantially differ across the announcement timing conditions.\n",
       "\n",
       "**User's Answer:** D. Of the municipalities that received an inquiry mentioning plans for an announcement date after the next election, more than 1,200 didn’t respond and only around 100 offered incentives.\n",
       "\n",
       "**Arguments in favor of the user's answer (D):**\n",
       "\n",
       "*   **Directly addresses the \"after election\" scenario:** The user's answer focuses specifically on the municipalities that received inquiries about announcements *after* the election. The hypothesis suggests these municipalities should be *less* likely to respond or offer incentives.\n",
       "*   **Highlights a potential lack of interest:** The user's answer points out that a large number of municipalities didn't respond and only a small number offered incentives in the \"after election\" scenario. This could be interpreted as evidence supporting the idea that municipalities are less interested when there's no immediate electoral benefit.\n",
       "*   **Based on factual data:** The user's answer accurately reflects the data presented in the graph. The graph does show a large number of \"no response\" and a smaller number of \"offered incentive\" for the \"announcement after election\" condition.\n",
       "\n",
       "**Arguments against the user's answer (D):**\n",
       "\n",
       "*   **Lacks a crucial comparison:** The primary weakness of the user's answer is that it only describes the \"announcement after election\" condition. To *weaken* the hypothesis, we need to show that the \"announcement before election\" condition *doesn't* have a significantly different outcome. Without this comparison, we can't say whether the timing of the announcement truly matters. The hypothesis is about the *difference* between the two conditions.\n",
       "*   **Doesn't directly contradict the hypothesis:** While the user's answer shows a certain pattern in the \"after election\" data, it doesn't directly contradict the hypothesis. The hypothesis could still be true even if the \"after election\" group shows low response rates, as long as the \"before election\" group shows significantly *higher* response rates.\n",
       "\n",
       "**Why the correct answer (B) is superior:**\n",
       "\n",
       "*   **Directly addresses the core of the hypothesis:** The hypothesis is about whether the *timing* of the announcement affects municipal behavior. Choice B directly addresses this by stating that the proportion of municipalities that responded or offered incentives *didn't substantially differ* between the \"before\" and \"after\" conditions. This directly contradicts the hypothesis that timing matters.\n",
       "*   **Comparative:** Choice B makes a direct comparison between the two announcement timing conditions, which is essential for weakening the hypothesis. It states that there's no substantial difference, implying that the timing of the announcement doesn't have a significant impact on the municipalities' responses.\n",
       "*   **Supported by the graph:** By examining the graph, we can see that the bars for \"announcement before election\" and \"announcement after election\" are very similar for all three categories (no response, responded to inquiry, offered incentive). This visually supports the claim that there's no substantial difference between the two conditions.\n",
       "\n",
       "**Conclusion:**\n",
       "\n",
       "While the user's answer (D) is factually correct and relevant to the question, it doesn't provide a strong argument against the hypothesis because it lacks a crucial comparison. The correct answer (B) is superior because it directly addresses the core of the hypothesis by stating that there's no substantial difference in municipal behavior across the two announcement timing conditions, and it is supported by the data presented in the graph.\n"
      ],
      "text/plain": [
       "<IPython.core.display.Markdown object>"
      ]
     },
     "execution_count": 19,
     "metadata": {},
     "output_type": "execute_result"
    }
   ],
   "source": [
    "sample_rich_answer = client.models.generate_content(\n",
    "                    model=\"gemini-2.0-flash-001\",\n",
    "                    contents=str(rich_question),\n",
    "                    config=GenerateContentConfig(\n",
    "                        system_instruction=[final_prompt,],\n",
    "                        temperature=0.1,\n",
    "                    ),\n",
    "                )\n",
    "\n",
    "Markdown(sample_rich_answer.text)"
   ]
  },
  {
   "cell_type": "markdown",
   "id": "12ca5d2c",
   "metadata": {
    "papermill": {
     "duration": 0.017538,
     "end_time": "2025-04-14T04:29:18.061910",
     "exception": false,
     "start_time": "2025-04-14T04:29:18.044372",
     "status": "completed"
    },
    "tags": []
   },
   "source": [
    "While cleansing the data may be smoother for the LLM, not all data can be easily cleansed:"
   ]
  },
  {
   "cell_type": "code",
   "execution_count": 20,
   "id": "73070d63",
   "metadata": {
    "execution": {
     "iopub.execute_input": "2025-04-14T04:29:18.098430Z",
     "iopub.status.busy": "2025-04-14T04:29:18.098028Z",
     "iopub.status.idle": "2025-04-14T04:29:18.429526Z",
     "shell.execute_reply": "2025-04-14T04:29:18.427856Z"
    },
    "papermill": {
     "duration": 0.352552,
     "end_time": "2025-04-14T04:29:18.431776",
     "exception": false,
     "start_time": "2025-04-14T04:29:18.079224",
     "status": "completed"
    },
    "tags": []
   },
   "outputs": [
    {
     "name": "stdout",
     "output_type": "stream",
     "text": [
      "\n",
      "“How lifelike are they?” Many computer animators prioritize this question as they strive to create ever more realistic environments and lighting. Generally, while characters in computer\\-animated films appear highly exaggerated, environments and lighting are carefully engineered to mimic reality. But some animators, such as Pixar’s Sanjay Patel, are focused on a different question. Rather than asking first whether the environments and lighting they’re creating are convincingly lifelike, Patel and others are asking whether these elements reflect their films’ unique stories.\n",
      "\n",
      "\n",
      "Which choice best describes the function of the underlined question in the text as a whole?\n",
      "\n",
      "\n",
      "\n",
      "A. It reflects a primary goal that many computer animators have for certain components of the animations they produce.\n",
      "\n",
      "\n",
      "B. It represents a concern of computer animators who are more interested in creating unique backgrounds and lighting effects than realistic ones.\n",
      "\n",
      "\n",
      "C. It conveys the uncertainty among many computer animators about how to create realistic animations using current technology.\n",
      "\n",
      "\n",
      "D. It illustrates a reaction that audiences typically have to the appearance of characters created by computer animators.\n",
      "\n",
      "\n",
      "\n"
     ]
    }
   ],
   "source": [
    "from html_to_markdown import convert_to_markdown\n",
    "\n",
    "rich_question = {\n",
    "    \"question\": convert_to_markdown(\"\"\"\n",
    "<p><span role=\"region\" aria-label=\"Referenced Content\"><u>&ldquo;How lifelike are they?&rdquo;</u></span> Many computer animators prioritize this question as they strive to create ever more realistic environments and lighting. Generally, while characters in computer-animated films appear highly exaggerated, environments and lighting are carefully engineered to mimic reality. But some animators, such as Pixar&rsquo;s Sanjay Patel, are focused on a different question. Rather than asking first whether the environments and lighting they&rsquo;re creating are convincingly lifelike, Patel and others are asking whether these elements reflect their films&rsquo; unique stories.</p>\n",
    "\n",
    "<p>Which choice best describes the function of the underlined question in the text as a whole?</p>\n",
    "\n",
    "A. <p>It reflects a primary goal that many computer animators have for certain components of the animations they produce.</p>\n",
    "B. <p>It represents a concern of computer animators who are more interested in creating unique backgrounds and lighting effects than realistic ones.</p>\n",
    "C. <p>It conveys the uncertainty among many computer animators about how to create realistic animations using current technology.</p>\n",
    "D. <p>It illustrates a reaction that audiences typically have to the appearance of characters created by computer animators.</p>\n",
    "    \"\"\"),\n",
    "    \"rationale\": convert_to_markdown(\"\"\"\n",
    "<p>Choice A is the best answer because it most accurately describes the function of the underlined question in the text as a whole. The text begins with the underlined question, &ldquo;How lifelike are they?&rdquo; The text then explains that many computer animators pose this question about the environments and lighting that they create for animated films, striving for realistic animation of those components even if the characters themselves aren&rsquo;t portrayed in realistic terms. The focus of the text then shifts to describe how some animators strive to create environments and lighting that reflect the film&rsquo;s unique stories rather than making them appear realistic. Therefore, the function of the underlined question is to reflect a primary goal that many computer animators have for certain components of the animations they produce. </p><p>Choice B is incorrect because, as the text makes clear, the underlined question is one posed by computer animators who wish to create realistic backgrounds and lighting effects, not by those who, instead, wish to create effects that reflect films&rsquo; unique stories and aren&rsquo;t necessarily realistic; this latter group of animators is discussed later in the text. Choice C is incorrect. As the text explains, many computer animators strive for realistic environments and lighting, while others do not; this difference of approach relates to whether these components should be realistic, not to how realism can be achieved using current technology, and the text never suggests that animators are uncertain how to achieve it. Choice D is incorrect because the underlined question pertains to the perspective of computer animators, not the audience, and the text never considers audience&rsquo;s reactions to characters in animated films. </p>\n",
    "    \"\"\"),\n",
    "    \"user_choice\": \"C\",\n",
    "    \"user_rationale\": \"why is it not C? Aren't they asking the question because they are uncertain about it?\",\n",
    "}\n",
    "\n",
    "print(rich_question[\"question\"])"
   ]
  },
  {
   "cell_type": "markdown",
   "id": "64382855",
   "metadata": {
    "papermill": {
     "duration": 0.018792,
     "end_time": "2025-04-14T04:29:18.469621",
     "exception": false,
     "start_time": "2025-04-14T04:29:18.450829",
     "status": "completed"
    },
    "tags": []
   },
   "source": [
    "Perhaps in this scenario, \"good enough\" gets the job done.\n",
    "\n",
    "# Multiple Reasoning Capabilities using Tree of Thoughts (ToT)\n",
    "To understand questions better, the debate-style approach may not suffice; multiple, parallel thinking processes may be necessary for the user to truly grasp the problem with their current reasoning. This approach is less time consuming and may help the user better than walking through and typing their own rationale. Tree of Thoughts (ToT) is a technique for the agent to use multiple processes to approach the relevant answer for the user. The agent will **have to** output in JSON so that the user's screen can be separated and decluttered."
   ]
  },
  {
   "cell_type": "code",
   "execution_count": 21,
   "id": "3dabb29b",
   "metadata": {
    "execution": {
     "iopub.execute_input": "2025-04-14T04:29:18.506608Z",
     "iopub.status.busy": "2025-04-14T04:29:18.505894Z",
     "iopub.status.idle": "2025-04-14T04:29:29.131503Z",
     "shell.execute_reply": "2025-04-14T04:29:29.130304Z"
    },
    "papermill": {
     "duration": 10.646943,
     "end_time": "2025-04-14T04:29:29.133914",
     "exception": false,
     "start_time": "2025-04-14T04:29:18.486971",
     "status": "completed"
    },
    "tags": []
   },
   "outputs": [
    {
     "data": {
      "text/markdown": [
       "Okay, here are some prompt variations designed to elicit structured thinking processes for error analysis from the AI model, building upon the previous agent's output:\n",
       "\n",
       "**Prompt 1: Focus on pinpointing the error in reasoning**\n",
       "\n",
       "```\n",
       "You are an expert SAT tutor analyzing a student's mistake on a practice question. You are given the question, the official rationale, the student's answer and rationale, and a previous AI agent's analysis that includes arguments for and against the student's answer. Your task is to identify the precise flaw in the student's reasoning process that led to the incorrect answer.\n",
       "\n",
       "Specifically, based on all the provided information, generate a JSON array of different step by step thought processes one could use to arrive at each answer. For each thought process, indicate whether it leads to the user's answer or the correct answer using the \"leads_to\" field.\n",
       "\n",
       "The JSON should conform to the following format:\n",
       "\n",
       "```json\n",
       "[\n",
       "    {\n",
       "        \"thinking_process\": \"[Here you will define a process step by step to get one of the answers]\",\n",
       "        \"leads_to\": \"user\" | \"correct\"\n",
       "    },\n",
       "    {\n",
       "        \"thinking_process\": \"[Here you will define another process step by step to get one of the answers]\",\n",
       "        \"leads_to\": \"user\" | \"correct\"\n",
       "    },\n",
       "    {\n",
       "        \"thinking_process\": \"[Include as many of these as possible!]\",\n",
       "        \"leads_to\": \"user\" | \"correct\"\n",
       "    },\n",
       "]\n",
       "```\n",
       "\n",
       "Here's the information for your analysis:\n",
       "\n",
       "**Question:** [Insert Question Here]\n",
       "**Rationale:** [Insert Rationale Here]\n",
       "**User Answer:** [Insert User Answer Here]\n",
       "**User Rationale:** [Insert User Rationale Here]\n",
       "**Previous Agent's Analysis:** [Insert Previous Agent's Analysis Here]\n",
       "```\n",
       "\n",
       "**Prompt 2: Focus on alternative approaches to the question**\n",
       "\n",
       "```\n",
       "You are an expert SAT tutor helping a student understand different ways to approach a question they answered incorrectly. You are given the question, the official rationale, the student's answer and rationale, and a previous AI agent's analysis that includes arguments for and against the student's answer. Your task is to outline multiple distinct thought processes that one could use to arrive at each potential answer choice.\n",
       "\n",
       "Specifically, based on all the provided information, generate a JSON array of different step by step thought processes one could use to arrive at each answer. For each thought process, indicate whether it leads to the user's answer or the correct answer using the \"leads_to\" field.\n",
       "\n",
       "The JSON should conform to the following format:\n",
       "\n",
       "```json\n",
       "[\n",
       "    {\n",
       "        \"thinking_process\": \"[Here you will define a process step by step to get one of the answers]\",\n",
       "        \"leads_to\": \"user\" | \"correct\"\n",
       "    },\n",
       "    {\n",
       "        \"thinking_process\": \"[Here you will define another process step by step to get one of the answers]\",\n",
       "        \"leads_to\": \"user\" | \"correct\"\n",
       "    },\n",
       "    {\n",
       "        \"thinking_process\": \"[Include as many of these as possible!]\",\n",
       "        \"leads_to\": \"user\" | \"correct\"\n",
       "    },\n",
       "]\n",
       "```\n",
       "\n",
       "Here's the information for your analysis:\n",
       "\n",
       "**Question:** [Insert Question Here]\n",
       "**Rationale:** [Insert Rationale Here]\n",
       "**User Answer:** [Insert User Answer Here]\n",
       "**User Rationale:** [Insert User Rationale Here]\n",
       "**Previous Agent's Analysis:** [Insert Previous Agent's Analysis Here]\n",
       "```\n",
       "\n",
       "**Prompt 3: Focus on Misconceptions and Traps**\n",
       "\n",
       "```\n",
       "You are an expert SAT tutor identifying common misconceptions and traps that students fall into on SAT questions. You are given the question, the official rationale, the student's answer and rationale, and a previous AI agent's analysis that includes arguments for and against the student's answer. Your task is to outline thought processes that, while seemingly logical, lead to incorrect answer choices due to common misconceptions or test-taking traps.\n",
       "\n",
       "Specifically, based on all the provided information, generate a JSON array of different step by step thought processes one could use to arrive at each answer. For each thought process, indicate whether it leads to the user's answer or the correct answer using the \"leads_to\" field.\n",
       "\n",
       "The JSON should conform to the following format:\n",
       "\n",
       "```json\n",
       "[\n",
       "    {\n",
       "        \"thinking_process\": \"[Here you will define a process step by step to get one of the answers, focusing on misconceptions or traps]\",\n",
       "        \"leads_to\": \"user\" | \"correct\"\n",
       "    },\n",
       "    {\n",
       "        \"thinking_process\": \"[Here you will define another process step by step to get one of the answers, focusing on misconceptions or traps]\",\n",
       "        \"leads_to\": \"user\" | \"correct\"\n",
       "    },\n",
       "    {\n",
       "        \"thinking_process\": \"[Include as many of these as possible!]\",\n",
       "        \"leads_to\": \"user\" | \"correct\"\n",
       "    },\n",
       "]\n",
       "```\n",
       "\n",
       "Here's the information for your analysis:\n",
       "\n",
       "**Question:** [Insert Question Here]\n",
       "**Rationale:** [Insert Rationale Here]\n",
       "**User Answer:** [Insert User Answer Here]\n",
       "**User Rationale:** [Insert User Rationale Here]\n",
       "**Previous Agent's Analysis:** [Insert Previous Agent's Analysis Here]\n",
       "```\n",
       "\n",
       "**Prompt 4: Focus on different problem-solving strategies**\n",
       "\n",
       "```\n",
       "You are an expert SAT tutor demonstrating different problem-solving strategies for a single question. You are given the question, the official rationale, the student's answer and rationale, and a previous AI agent's analysis that includes arguments for and against the student's answer. Your task is to outline various approaches to solving the problem, highlighting different strategies (e.g., process of elimination, plugging in numbers, identifying keywords).\n",
       "\n",
       "Specifically, based on all the provided information, generate a JSON array of different step by step thought processes one could use to arrive at each answer. For each thought process, indicate whether it leads to the user's answer or the correct answer using the \"leads_to\" field.\n",
       "\n",
       "The JSON should conform to the following format:\n",
       "\n",
       "```json\n",
       "[\n",
       "    {\n",
       "        \"thinking_process\": \"[Here you will define a process step by step to get one of the answers, highlighting a specific problem-solving strategy]\",\n",
       "        \"leads_to\": \"user\" | \"correct\"\n",
       "    },\n",
       "    {\n",
       "        \"thinking_process\": \"[Here you will define another process step by step to get one of the answers, highlighting a specific problem-solving strategy]\",\n",
       "        \"leads_to\": \"user\" | \"correct\"\n",
       "    },\n",
       "    {\n",
       "        \"thinking_process\": \"[Include as many of these as possible!]\",\n",
       "        \"leads_to\": \"user\" | \"correct\"\n",
       "    },\n",
       "]\n",
       "```\n",
       "\n",
       "Here's the information for your analysis:\n",
       "\n",
       "**Question:** [Insert Question Here]\n",
       "**Rationale:** [Insert Rationale Here]\n",
       "**User Answer:** [Insert User Answer Here]\n",
       "**User Rationale:** [Insert User Rationale Here]\n",
       "**Previous Agent's Analysis:** [Insert Previous Agent's Analysis Here]\n",
       "```\n",
       "\n",
       "**Prompt 5: Combined Approach**\n",
       "\n",
       "```\n",
       "You are an expert SAT tutor providing a comprehensive error analysis. You are given the question, the official rationale, the student's answer and rationale, and a previous AI agent's analysis that includes arguments for and against the student's answer. Your task is to analyze the student's mistake from multiple angles, identifying flaws in reasoning, exploring alternative approaches, highlighting misconceptions, and demonstrating different problem-solving strategies.\n",
       "\n",
       "Specifically, based on all the provided information, generate a JSON array of different step by step thought processes one could use to arrive at each answer. For each thought process, indicate whether it leads to the user's answer or the correct answer using the \"leads_to\" field. Aim for a diverse range of thinking processes.\n",
       "\n",
       "The JSON should conform to the following format:\n",
       "\n",
       "```json\n",
       "[\n",
       "    {\n",
       "        \"thinking_process\": \"[Here you will define a process step by step to get one of the answers]\",\n",
       "        \"leads_to\": \"user\" | \"correct\"\n",
       "    },\n",
       "    {\n",
       "        \"thinking_process\": \"[Here you will define another process step by step to get one of the answers]\",\n",
       "        \"leads_to\": \"user\" | \"correct\"\n",
       "    },\n",
       "    {\n",
       "        \"thinking_process\": \"[Include as many of these as possible!]\",\n",
       "        \"leads_to\": \"user\" | \"correct\"\n",
       "    },\n",
       "]\n",
       "```\n",
       "\n",
       "Here's the information for your analysis:\n",
       "\n",
       "**Question:** [Insert Question Here]\n",
       "**Rationale:** [Insert Rationale Here]\n",
       "**User Answer:** [Insert User Answer Here]\n",
       "**User Rationale:** [Insert User Rationale Here]\n",
       "**Previous Agent's Analysis:** [Insert Previous Agent's Analysis Here]\n",
       "```\n",
       "\n",
       "Key improvements and considerations:\n",
       "\n",
       "*   **Emphasis on Variety:** The prompts explicitly encourage the generation of *multiple* and *diverse* thinking processes.\n",
       "*   **Clear Role Definition:** Each prompt establishes a specific role for the AI (e.g., identifying misconceptions, demonstrating strategies), which can help focus its analysis.\n",
       "*   **Building on Previous Analysis:**  The prompts consistently include the output from the previous agent, ensuring that the AI builds upon existing information and doesn't repeat work.\n",
       "*   **JSON Format Enforcement:** The prompts reiterate the required JSON format to ensure consistent output.\n",
       "*   **Action-Oriented:** The prompts use action verbs like \"identify,\" \"outline,\" and \"demonstrate\" to encourage the AI to actively engage with the material.\n",
       "*   **Example Question Omission**: I've omitted the example question, as it is not necessary.\n",
       "*   **Clear Explanation of 'leads_to'**: I've ensured that the function of \"leads_to\" is clear and easily understood.\n"
      ],
      "text/plain": [
       "<IPython.core.display.Markdown object>"
      ]
     },
     "execution_count": 21,
     "metadata": {},
     "output_type": "execute_result"
    }
   ],
   "source": [
    "response = client.models.generate_content(\n",
    "    model=\"gemini-2.0-flash-001\",\n",
    "    # no specs yet\n",
    "    contents=f\"\"\"\n",
    "**Objective**: Create SAT-focused prompt variations that generate multiple structured thinking processes for error analysis.\n",
    "                \n",
    "**Requirements for the agent that you will create a prompt for**:\n",
    "1. The model you are creating a prompt for will analyze: \n",
    "   - Current SAT question\n",
    "   - Official rationale\n",
    "   - User's answer + rationale\n",
    "2. Must output in the following format:\n",
    "```json\n",
    "[\n",
    "    {{\n",
    "        \"thinking_process\": \"[Here you will define a process step by step to get one of the answers]\",\n",
    "        \"leads_to\": \"user\" | \"correct\"\n",
    "    }},\n",
    "    {{\n",
    "        \"thinking_process\": \"[Here you will define another process step by step to get one of the answers]\",\n",
    "        \"leads_to\": \"user\" | \"correct\"\n",
    "    }},\n",
    "    {{\n",
    "        \"thinking_process\": \"[Include as many of these as possible!]\",\n",
    "        \"leads_to\": \"user\" | \"correct\"\n",
    "    }},\n",
    "]\n",
    "```\n",
    "\n",
    "3. There will be a model before you that contrasts an argument in favor of the user's answer with an argument for the actual answer.\n",
    "You will be given that output. Create a prompt such that this model will build upon it.\n",
    "\n",
    "The model may not include anything outside the JSON.\n",
    "\n",
    "\\\"leads_to\\\" represents that it leads to the users answer or the \\\"correct\\\" answer. There are no other options.\n",
    "\n",
    "Example question your model may receive:\n",
    "\n",
    "Question:\n",
    "{question['question']}\n",
    "\n",
    "Rationale:\n",
    "{question['rationale']}\n",
    "\n",
    "User Response:\n",
    "- Answer: {question['user_answer']}\n",
    "- User Rationale: {question['user_rationale']}\n",
    "\n",
    "Sample Response from the Previous Agent (not related to the question):\n",
    "{sample_rich_answer}.\n",
    "\n",
    "Don't generate any code. Just generate multiple creative but logical prompts we can use to make an AI for this\n",
    "              \"\"\",\n",
    "    config=GenerateContentConfig(\n",
    "        system_instruction=[\n",
    "            \"You are a prompt engineer's assistant. Help the prompt engineer generate some prompts for his AI-powered SAT learning platform called Aquarc. The platform currently holds an SAT question bank with over 5000 questions and tracks which questions you get wrong per category. While this feature is helpful it lacks the intelligence necessary to be a full fledged SAT platform\",\n",
    "        ],\n",
    "        temperature=0.7,\n",
    "        top_k=7,\n",
    "    ),\n",
    ")\n",
    "\n",
    "Markdown(response.text)"
   ]
  },
  {
   "cell_type": "markdown",
   "id": "6a9aaa71",
   "metadata": {
    "papermill": {
     "duration": 0.026084,
     "end_time": "2025-04-14T04:29:29.183331",
     "exception": false,
     "start_time": "2025-04-14T04:29:29.157247",
     "status": "completed"
    },
    "tags": []
   },
   "source": [
    "Here I've picked the 5 best and most creative prompts to evaluate:"
   ]
  },
  {
   "cell_type": "code",
   "execution_count": 22,
   "id": "63101cc2",
   "metadata": {
    "execution": {
     "iopub.execute_input": "2025-04-14T04:29:29.236572Z",
     "iopub.status.busy": "2025-04-14T04:29:29.236094Z",
     "iopub.status.idle": "2025-04-14T04:29:29.245796Z",
     "shell.execute_reply": "2025-04-14T04:29:29.243506Z"
    },
    "papermill": {
     "duration": 0.039517,
     "end_time": "2025-04-14T04:29:29.248625",
     "exception": false,
     "start_time": "2025-04-14T04:29:29.209108",
     "status": "completed"
    },
    "tags": []
   },
   "outputs": [],
   "source": [
    "prompts = [ \n",
    "    {\n",
    "        \"prompt\": \"\"\"\n",
    "You are an expert SAT tutor analyzing a student's mistake on an SAT question. You are provided with:\n",
    "\n",
    "1.  The SAT question, including the text, answer choices, and the correct answer.\n",
    "2.  The official rationale for the correct answer and why the other choices are incorrect.\n",
    "3.  The student's chosen answer and their rationale for choosing that answer.\n",
    "4.  An argument contrasting the user's answer with the correct answer.\n",
    "\n",
    "Based on this information, identify the potential thinking processes that could have led the student to their incorrect answer, as well as the thinking process for the correct answer. Focus on common SAT error patterns (e.g., misreading the question, applying incorrect grammar rules, making unwarranted assumptions, etc.).\n",
    "\n",
    "Output a JSON array of objects. Each object represents a distinct thinking process and whether it leads to the user's answer or the correct answer. Include as many plausible thinking processes as possible, even if they seem obvious.\n",
    "\n",
    "Format:\n",
    "```json\n",
    "[\n",
    "    {\n",
    "        \"thinking_process\": \"[Here you will define a process step by step to get one of the answers]\",\n",
    "        \"leads_to\": \"user\" | \"correct\"\n",
    "    },\n",
    "    {\n",
    "        \"thinking_process\": \"[Here you will define another process step by step to get one of the answers]\",\n",
    "        \"leads_to\": \"user\" | \"correct\"\n",
    "    },\n",
    "    {\n",
    "        \"thinking_process\": \"[Include as many of these as possible!]\",\n",
    "        \"leads_to\": \"user\" | \"correct\"\n",
    "    },\n",
    "]\n",
    "```\n",
    "        \"\"\",\n",
    "        \"avg_score\": 0.0,\n",
    "    },\n",
    "    {\n",
    "        \"prompt\": \"\"\"\n",
    "You are an expert SAT tutor analyzing a student's mistake on an SAT question. You are provided with:\n",
    "\n",
    "1. The SAT question, including the text, answer choices, and the correct answer.\n",
    "2. The official rationale for the correct answer and why the other choices are incorrect.\n",
    "3. The student's chosen answer and their rationale for choosing that answer.\n",
    "4. An argument contrasting the user's answer with the correct answer.\n",
    "\n",
    "Deconstruct the official rationale and the student's rationale. Identify the key assumptions, logical steps, and potential misunderstandings in each. Then, reconstruct different thinking processes – both correct and incorrect – that could lead to each answer choice. Be detailed and explicit in each step.\n",
    "\n",
    "Output a JSON array of objects. Each object represents a distinct thinking process and whether it leads to the user's answer or the correct answer. Include as many plausible thinking processes as possible, even if they seem obvious.\n",
    "\n",
    "Format:\n",
    "```json\n",
    "[\n",
    "    {\n",
    "        \"thinking_process\": \"[Here you will define a process step by step to get one of the answers]\",\n",
    "        \"leads_to\": \"user\" | \"correct\"\n",
    "    },\n",
    "    {\n",
    "        \"thinking_process\": \"[Here you will define another process step by step to get one of the answers]\",\n",
    "        \"leads_to\": \"user\" | \"correct\"\n",
    "    },\n",
    "    {\n",
    "        \"thinking_process\": \"[Include as many of these as possible!]\",\n",
    "        \"leads_to\": \"user\" | \"correct\"\n",
    "    },\n",
    "]\n",
    "```\n",
    "        \"\"\",\n",
    "        \"avg_score\": 0.0,\n",
    "    },\n",
    "    {\n",
    "        \"prompt\" : \"\"\"\n",
    "You are an expert SAT tutor analyzing a student's mistake on an SAT question. You are provided with:\n",
    "\n",
    "1. The SAT question, including the text, answer choices, and the correct answer.\n",
    "2. The official rationale for the correct answer and why the other choices are incorrect.\n",
    "3. The student's chosen answer and their rationale for choosing that answer.\n",
    "4. An argument contrasting the user's answer with the correct answer.\n",
    "\n",
    "Consider potential cognitive biases (e.g., confirmation bias, anchoring bias, availability heuristic) that might have influenced the student's decision-making process. Develop multiple step-by-step thinking processes that incorporate these biases, leading to both the student's answer and the correct answer.\n",
    "\n",
    "Output a JSON array of objects. Each object represents a distinct thinking process and whether it leads to the user's answer or the correct answer. Include as many plausible thinking processes as possible, even if they seem obvious.\n",
    "\n",
    "Format:\n",
    "```json\n",
    "[\n",
    "    {\n",
    "        \"thinking_process\": \"[Here you will define a process step by step to get one of the answers]\",\n",
    "        \"leads_to\": \"user\" | \"correct\"\n",
    "    },\n",
    "    {\n",
    "        \"thinking_process\": \"[Here you will define another process step by step to get one of the answers]\",\n",
    "        \"leads_to\": \"user\" | \"correct\"\n",
    "    },\n",
    "    {\n",
    "        \"thinking_process\": \"[Include as many of these as possible!]\",\n",
    "        \"leads_to\": \"user\" | \"correct\"\n",
    "    },\n",
    "]\n",
    "```\n",
    "        \"\"\",\n",
    "        \"avg_score\": 0.0,\n",
    "    },\n",
    "    {\n",
    "        \"prompt\": \"\"\"\n",
    "You are an expert SAT tutor analyzing a student's mistake on an SAT question. You are provided with:\n",
    "\n",
    "1. The SAT question, including the text, answer choices, and the correct answer.\n",
    "2. The official rationale for the correct answer and why the other choices are incorrect.\n",
    "3. The student's chosen answer and their rationale for choosing that answer.\n",
    "4. An argument contrasting the user's answer with the correct answer.\n",
    "\n",
    "Elaborate on multiple potential \"chains of thought\" a student might follow when approaching the question. Some chains should lead to the correct answer, while others should lead to the student's incorrect answer. Make each step in the chain explicit and easy to follow.\n",
    "\n",
    "Output a JSON array of objects. Each object represents a distinct thinking process and whether it leads to the user's answer or the correct answer. Include as many plausible thinking processes as possible, even if they seem obvious.\n",
    "\n",
    "Format:\n",
    "```json\n",
    "[\n",
    "    {\n",
    "        \"thinking_process\": \"[Here you will define a process step by step to get one of the answers]\",\n",
    "        \"leads_to\": \"user\" | \"correct\"\n",
    "    },\n",
    "    {\n",
    "        \"thinking_process\": \"[Here you will define another process step by step to get one of the answers]\",\n",
    "        \"leads_to\": \"user\" | \"correct\"\n",
    "    },\n",
    "    {\n",
    "        \"thinking_process\": \"[Include as many of these as possible!]\",\n",
    "        \"leads_to\": \"user\" | \"correct\"\n",
    "    },\n",
    "]\n",
    "```\n",
    "        \"\"\",\n",
    "        \"avg_score\": 0.0,\n",
    "    },\n",
    "    { \n",
    "        \"prompt\": \"\"\"\n",
    "You are an expert SAT tutor analyzing a student's mistake on an SAT question. You are provided with:\n",
    "\n",
    "    The SAT question, including the text, answer choices, and the correct answer.\n",
    "    The official rationale for the correct answer and why the other choices are incorrect.\n",
    "    The student's chosen answer and their rationale for choosing that answer.\n",
    "    An argument contrasting the user's answer with the correct answer.\n",
    "\n",
    "Synthesize multiple approaches to analyze the student's error. Consider:\n",
    "\n",
    "1. Common SAT error patterns.\n",
    "2. Deconstruction of the official and student rationales.\n",
    "3. Potential cognitive biases.\n",
    "4. Detailed chains of thought.\n",
    "\n",
    "Develop as many distinct, step-by-step thinking processes as possible that could lead to each answer choice (both the student's and the correct one). Be exhaustive in your analysis.\n",
    "\n",
    "Output a JSON array of objects. Each object represents a distinct thinking process and whether it leads to the user's answer or the correct answer. Include as many plausible thinking processes as possible, even if they seem obvious.\n",
    "\n",
    "Format:\n",
    "```json\n",
    "[\n",
    "    {\n",
    "        \"thinking_process\": \"[Here you will define a process step by step to get one of the answers]\",\n",
    "        \"leads_to\": \"user\" | \"correct\"\n",
    "    },\n",
    "    {\n",
    "        \"thinking_process\": \"[Here you will define another process step by step to get one of the answers]\",\n",
    "        \"leads_to\": \"user\" | \"correct\"\n",
    "    },\n",
    "    {\n",
    "        \"thinking_process\": \"[Include as many of these as possible!]\",\n",
    "        \"leads_to\": \"user\" | \"correct\"\n",
    "    },\n",
    "]\n",
    "```\n",
    "\n",
    "        \"\"\",\n",
    "        \"avg_score\": 0.0,\n",
    "    },\n",
    "]"
   ]
  },
  {
   "cell_type": "markdown",
   "id": "797efa39",
   "metadata": {
    "papermill": {
     "duration": 0.021738,
     "end_time": "2025-04-14T04:29:29.291034",
     "exception": false,
     "start_time": "2025-04-14T04:29:29.269296",
     "status": "completed"
    },
    "tags": []
   },
   "source": [
    "## Evaluation of ToT Prompts\n",
    "\n",
    "Evaluate the ToT prompts against each other:"
   ]
  },
  {
   "cell_type": "code",
   "execution_count": 23,
   "id": "9de8b7b2",
   "metadata": {
    "execution": {
     "iopub.execute_input": "2025-04-14T04:29:29.331803Z",
     "iopub.status.busy": "2025-04-14T04:29:29.331409Z",
     "iopub.status.idle": "2025-04-14T04:29:29.338287Z",
     "shell.execute_reply": "2025-04-14T04:29:29.336125Z"
    },
    "papermill": {
     "duration": 0.029752,
     "end_time": "2025-04-14T04:29:29.340174",
     "exception": false,
     "start_time": "2025-04-14T04:29:29.310422",
     "status": "completed"
    },
    "tags": []
   },
   "outputs": [],
   "source": [
    "# Define the evaluation prompt\n",
    "EVAL_PROMPT = \"\"\"\n",
    "# Instruction\n",
    "Evaluate the AI’s analysis of a student’s SAT error. Focus on how well it explains why the correct answer is textually supported and why the user’s answer is incorrect.\n",
    "This analysis is intended to build upon a previous debate style analysis where the user is presented upon a pro/con argument for their answer. These prompts will be used in the agent for when the user wants more clarity and multiple thinking processes.\n",
    "\n",
    "# Evaluation\n",
    "## **Metric Definition**\n",
    "Assess the **accuracy**, **completeness**, **groundedness**, and **clarity** of the response. The AI must:\n",
    "1. Correctly identify textual evidence for the correct answer.\n",
    "2. Explain flaws in the user’s answer (and their rationale, if provided).\n",
    "3. Follow the prompt’s instructions precisely.\n",
    "4. Really help the user understand why they were wrong by looking at how other people can mess up / how they potentially messed up.\n",
    "\n",
    "\n",
    "## **Criteria**  \n",
    "1. **Instructional Creativity**:  \n",
    "   - Does the creative approach (e.g., debate, step-by-step analysis) **enhance understanding** of why the correct answer is textually supported?  \n",
    "   - Does it **strategically use the prompt’s structure** (e.g., arguments for/against) to highlight key SAT skills like evidence analysis or assumption identification?  \n",
    "\n",
    "2. **Educational Effectiveness**:  \n",
    "   - Does the creativity **directly serve the learning goal** (e.g., clarifying misconceptions, modeling SAT logic), or is it merely ornamental?  \n",
    "   - Does it **engage the learner** while maintaining rigor (e.g., making complex reasoning more accessible)?  \n",
    "\n",
    "## **Revised Rating Rubric**  \n",
    "- **5 (Excellent)**:  \n",
    "  - Creative structure (e.g., debate) **directly reinforces** why the correct answer is superior.  \n",
    "  - Uses the format to **explicitly contrast** the user’s error with textual evidence (e.g., “The strongest argument *for* the user’s answer is X, but the text contradicts this because Y”).  \n",
    "  - Balances creativity with precision and clarity.  \n",
    "\n",
    "- **4 (Good)**:  \n",
    "  - Creative approach is **mostly effective** but slightly misses opportunities to deepen understanding (e.g., lists arguments but doesn’t explicitly tie them to SAT skills).  \n",
    "  - Minor clarity issues in linking creativity to the text.  \n",
    "\n",
    "- **3 (Adequate)**:  \n",
    "  - Creativity **distracts** slightly from the core analysis (e.g., overemphasizes hypothetical arguments without grounding in the text).  \n",
    "  - Fails to fully leverage the creative structure to address the user’s error.  \n",
    "\n",
    "- **2 (Poor)**:  \n",
    "  - Creative format **obscures key points** (e.g., hypothetical arguments misrepresent the text).  \n",
    "  - Prioritizes style over substance; minimal educational value.  \n",
    "\n",
    "- **1 (Very Poor)**:  \n",
    "  - Creativity **undermines accuracy** (e.g., invents textual evidence to support arguments).  \n",
    "\n",
    "## Note\n",
    "This evaluation rubric is purposefully vague, so take that as an opportunity to be strict and make sure the AI is really being useful for users.\n",
    "Be harsh with your feedback, but make sure your feedback is grounded in reality.\n",
    "\n",
    "## Evaluation Steps\n",
    "STEP 1: Assess the response in aspects of instruction following, groundedness, conciseness, and verbosity according to the criteria.\n",
    "STEP 2: Score based on the rubric.\n",
    "\n",
    "# User Inputs and AI-generated Response\n",
    "## User Inputs\n",
    "\n",
    "### Prompt\n",
    "{prompt}\n",
    "\n",
    "## AI-generated Response\n",
    "{response}\n",
    "\"\"\"\n"
   ]
  },
  {
   "cell_type": "markdown",
   "id": "f5a943f2",
   "metadata": {
    "papermill": {
     "duration": 0.022038,
     "end_time": "2025-04-14T04:29:29.381998",
     "exception": false,
     "start_time": "2025-04-14T04:29:29.359960",
     "status": "completed"
    },
    "tags": []
   },
   "source": [
    "Now for the bulk of the evaluation cycle:"
   ]
  },
  {
   "cell_type": "code",
   "execution_count": 24,
   "id": "cf833557",
   "metadata": {
    "execution": {
     "iopub.execute_input": "2025-04-14T04:29:29.429900Z",
     "iopub.status.busy": "2025-04-14T04:29:29.429502Z",
     "iopub.status.idle": "2025-04-14T04:34:59.170742Z",
     "shell.execute_reply": "2025-04-14T04:34:59.169448Z"
    },
    "papermill": {
     "duration": 329.768262,
     "end_time": "2025-04-14T04:34:59.172749",
     "exception": false,
     "start_time": "2025-04-14T04:29:29.404487",
     "status": "completed"
    },
    "tags": []
   },
   "outputs": [
    {
     "name": "stdout",
     "output_type": "stream",
     "text": [
      "Iteration 0: SummaryRating.VERY_GOOD\n",
      "Iteration 1: SummaryRating.VERY_GOOD\n",
      "Iteration 2: SummaryRating.GOOD\n",
      "Iteration 3: SummaryRating.GOOD\n",
      "Iteration 4: SummaryRating.GOOD\n",
      "Iteration 5: SummaryRating.GOOD\n",
      "Prompt:\n",
      "\n",
      "You are an expert SAT tutor analyzing a student's mistake on an SAT question. You are provided with:\n",
      "\n",
      "1.  The SAT question, including the text, answer choices, and the correct answer.\n",
      "2.  The official rationale for the correct answer and why the other choices are incorrect.\n",
      "3.  The student's chosen answer and their rationale for choosing that answer.\n",
      "4.  An argument contrasting the user's answer with the correct answer.\n",
      "\n",
      "Based on this information, identify the potential thinking processes that could have led the student to their incorrect answer, as well as the thinking process for the correct answer. Focus on common SAT error patterns (e.g., misreading the question, applying incorrect grammar rules, making unwarranted assumptions, etc.).\n",
      "\n",
      "Output a JSON array of objects. Each object represents a distinct thinking process and whether it leads to the user's answer or the correct answer. Include as many plausible thinking processes as possible, even if they seem obvious.\n",
      "\n",
      "Format:\n",
      "```json\n",
      "[\n",
      "    {\n",
      "        \"thinking_process\": \"[Here you will define a process step by step to get one of the answers]\",\n",
      "        \"leads_to\": \"user\" | \"correct\"\n",
      "    },\n",
      "    {\n",
      "        \"thinking_process\": \"[Here you will define another process step by step to get one of the answers]\",\n",
      "        \"leads_to\": \"user\" | \"correct\"\n",
      "    },\n",
      "    {\n",
      "        \"thinking_process\": \"[Include as many of these as possible!]\",\n",
      "        \"leads_to\": \"user\" | \"correct\"\n",
      "    },\n",
      "]\n",
      "```\n",
      "        \n",
      "Score: 4.333333333333333\n",
      "\n",
      "\n",
      "Iteration 0: SummaryRating.VERY_GOOD\n",
      "Iteration 1: SummaryRating.VERY_GOOD\n",
      "Iteration 2: SummaryRating.VERY_GOOD\n",
      "Iteration 3: SummaryRating.VERY_GOOD\n",
      "Iteration 4: SummaryRating.GOOD\n",
      "Iteration 5: SummaryRating.VERY_GOOD\n",
      "Prompt:\n",
      "\n",
      "You are an expert SAT tutor analyzing a student's mistake on an SAT question. You are provided with:\n",
      "\n",
      "1. The SAT question, including the text, answer choices, and the correct answer.\n",
      "2. The official rationale for the correct answer and why the other choices are incorrect.\n",
      "3. The student's chosen answer and their rationale for choosing that answer.\n",
      "4. An argument contrasting the user's answer with the correct answer.\n",
      "\n",
      "Deconstruct the official rationale and the student's rationale. Identify the key assumptions, logical steps, and potential misunderstandings in each. Then, reconstruct different thinking processes – both correct and incorrect – that could lead to each answer choice. Be detailed and explicit in each step.\n",
      "\n",
      "Output a JSON array of objects. Each object represents a distinct thinking process and whether it leads to the user's answer or the correct answer. Include as many plausible thinking processes as possible, even if they seem obvious.\n",
      "\n",
      "Format:\n",
      "```json\n",
      "[\n",
      "    {\n",
      "        \"thinking_process\": \"[Here you will define a process step by step to get one of the answers]\",\n",
      "        \"leads_to\": \"user\" | \"correct\"\n",
      "    },\n",
      "    {\n",
      "        \"thinking_process\": \"[Here you will define another process step by step to get one of the answers]\",\n",
      "        \"leads_to\": \"user\" | \"correct\"\n",
      "    },\n",
      "    {\n",
      "        \"thinking_process\": \"[Include as many of these as possible!]\",\n",
      "        \"leads_to\": \"user\" | \"correct\"\n",
      "    },\n",
      "]\n",
      "```\n",
      "        \n",
      "Score: 4.833333333333333\n",
      "\n",
      "\n",
      "Iteration 0: SummaryRating.VERY_GOOD\n",
      "Iteration 1: SummaryRating.VERY_GOOD\n",
      "Iteration 2: SummaryRating.VERY_GOOD\n",
      "Iteration 3: SummaryRating.GOOD\n",
      "Iteration 4: SummaryRating.VERY_GOOD\n",
      "Iteration 5: SummaryRating.VERY_GOOD\n",
      "Prompt:\n",
      "\n",
      "You are an expert SAT tutor analyzing a student's mistake on an SAT question. You are provided with:\n",
      "\n",
      "1. The SAT question, including the text, answer choices, and the correct answer.\n",
      "2. The official rationale for the correct answer and why the other choices are incorrect.\n",
      "3. The student's chosen answer and their rationale for choosing that answer.\n",
      "4. An argument contrasting the user's answer with the correct answer.\n",
      "\n",
      "Consider potential cognitive biases (e.g., confirmation bias, anchoring bias, availability heuristic) that might have influenced the student's decision-making process. Develop multiple step-by-step thinking processes that incorporate these biases, leading to both the student's answer and the correct answer.\n",
      "\n",
      "Output a JSON array of objects. Each object represents a distinct thinking process and whether it leads to the user's answer or the correct answer. Include as many plausible thinking processes as possible, even if they seem obvious.\n",
      "\n",
      "Format:\n",
      "```json\n",
      "[\n",
      "    {\n",
      "        \"thinking_process\": \"[Here you will define a process step by step to get one of the answers]\",\n",
      "        \"leads_to\": \"user\" | \"correct\"\n",
      "    },\n",
      "    {\n",
      "        \"thinking_process\": \"[Here you will define another process step by step to get one of the answers]\",\n",
      "        \"leads_to\": \"user\" | \"correct\"\n",
      "    },\n",
      "    {\n",
      "        \"thinking_process\": \"[Include as many of these as possible!]\",\n",
      "        \"leads_to\": \"user\" | \"correct\"\n",
      "    },\n",
      "]\n",
      "```\n",
      "        \n",
      "Score: 4.833333333333333\n",
      "\n",
      "\n",
      "Iteration 0: SummaryRating.GOOD\n",
      "Iteration 1: SummaryRating.VERY_GOOD\n",
      "Iteration 2: SummaryRating.VERY_GOOD\n",
      "Iteration 3: SummaryRating.GOOD\n",
      "Iteration 4: SummaryRating.VERY_GOOD\n",
      "Iteration 5: SummaryRating.GOOD\n",
      "Prompt:\n",
      "\n",
      "You are an expert SAT tutor analyzing a student's mistake on an SAT question. You are provided with:\n",
      "\n",
      "1. The SAT question, including the text, answer choices, and the correct answer.\n",
      "2. The official rationale for the correct answer and why the other choices are incorrect.\n",
      "3. The student's chosen answer and their rationale for choosing that answer.\n",
      "4. An argument contrasting the user's answer with the correct answer.\n",
      "\n",
      "Elaborate on multiple potential \"chains of thought\" a student might follow when approaching the question. Some chains should lead to the correct answer, while others should lead to the student's incorrect answer. Make each step in the chain explicit and easy to follow.\n",
      "\n",
      "Output a JSON array of objects. Each object represents a distinct thinking process and whether it leads to the user's answer or the correct answer. Include as many plausible thinking processes as possible, even if they seem obvious.\n",
      "\n",
      "Format:\n",
      "```json\n",
      "[\n",
      "    {\n",
      "        \"thinking_process\": \"[Here you will define a process step by step to get one of the answers]\",\n",
      "        \"leads_to\": \"user\" | \"correct\"\n",
      "    },\n",
      "    {\n",
      "        \"thinking_process\": \"[Here you will define another process step by step to get one of the answers]\",\n",
      "        \"leads_to\": \"user\" | \"correct\"\n",
      "    },\n",
      "    {\n",
      "        \"thinking_process\": \"[Include as many of these as possible!]\",\n",
      "        \"leads_to\": \"user\" | \"correct\"\n",
      "    },\n",
      "]\n",
      "```\n",
      "        \n",
      "Score: 4.5\n",
      "\n",
      "\n",
      "Iteration 0: SummaryRating.VERY_GOOD\n",
      "Iteration 1: SummaryRating.VERY_GOOD\n",
      "Iteration 2: SummaryRating.GOOD\n",
      "Iteration 3: SummaryRating.OK\n",
      "Iteration 4: SummaryRating.VERY_GOOD\n",
      "Iteration 5: SummaryRating.VERY_GOOD\n",
      "Prompt:\n",
      "\n",
      "You are an expert SAT tutor analyzing a student's mistake on an SAT question. You are provided with:\n",
      "\n",
      "    The SAT question, including the text, answer choices, and the correct answer.\n",
      "    The official rationale for the correct answer and why the other choices are incorrect.\n",
      "    The student's chosen answer and their rationale for choosing that answer.\n",
      "    An argument contrasting the user's answer with the correct answer.\n",
      "\n",
      "Synthesize multiple approaches to analyze the student's error. Consider:\n",
      "\n",
      "1. Common SAT error patterns.\n",
      "2. Deconstruction of the official and student rationales.\n",
      "3. Potential cognitive biases.\n",
      "4. Detailed chains of thought.\n",
      "\n",
      "Develop as many distinct, step-by-step thinking processes as possible that could lead to each answer choice (both the student's and the correct one). Be exhaustive in your analysis.\n",
      "\n",
      "Output a JSON array of objects. Each object represents a distinct thinking process and whether it leads to the user's answer or the correct answer. Include as many plausible thinking processes as possible, even if they seem obvious.\n",
      "\n",
      "Format:\n",
      "```json\n",
      "[\n",
      "    {\n",
      "        \"thinking_process\": \"[Here you will define a process step by step to get one of the answers]\",\n",
      "        \"leads_to\": \"user\" | \"correct\"\n",
      "    },\n",
      "    {\n",
      "        \"thinking_process\": \"[Here you will define another process step by step to get one of the answers]\",\n",
      "        \"leads_to\": \"user\" | \"correct\"\n",
      "    },\n",
      "    {\n",
      "        \"thinking_process\": \"[Include as many of these as possible!]\",\n",
      "        \"leads_to\": \"user\" | \"correct\"\n",
      "    },\n",
      "]\n",
      "```\n",
      "\n",
      "        \n",
      "Score: 4.5\n",
      "\n",
      "\n"
     ]
    }
   ],
   "source": [
    "# TODO: maybe share context so the LLM can compare different outputs against its own rating to be more accurate perhaps?\n",
    "\n",
    "NUM_ITERATIONS = 6\n",
    "#NUM_ITERATIONS=1\n",
    "\n",
    "with open(\"/kaggle/working/totpromptlogs.txt\", \"a\") as logs:\n",
    "    \n",
    "    for prompt in prompts:\n",
    "        sum = 0\n",
    "        logs.write(f\"Prompt: {prompt}\\n\")\n",
    "    \n",
    "        for question in questions:\n",
    "            logs.write(f\"Question: {question}\\n\")\n",
    "            for i in range(NUM_ITERATIONS):\n",
    "                response = client.models.generate_content(\n",
    "                    model=\"gemini-2.0-flash-001\",\n",
    "                    contents=str(question),\n",
    "                    config=GenerateContentConfig(\n",
    "                        system_instruction=[prompt[\"prompt\"],],\n",
    "                        temperature=0.1,\n",
    "                    ),\n",
    "                )\n",
    "\n",
    "                text_eval, struct_eval = eval_summary(prompt=prompt[\"prompt\"], ai_response=response)\n",
    "                print(f\"Iteration {i}: {struct_eval}\")\n",
    "                logs.write(f\"Iteration {i}: {text_eval}\\n\")\n",
    "                sum += int(struct_eval.value)\n",
    "\n",
    "\n",
    "\n",
    "        prompt[\"avg_score\"] = sum / (len(questions) * NUM_ITERATIONS)\n",
    "        print(f\"Prompt:\\n{prompt['prompt']}\\nScore: {prompt['avg_score']}\\n\\n\")\n",
    "    \n",
    "        logs.write(\"\\n\\n\")"
   ]
  },
  {
   "cell_type": "markdown",
   "id": "e7777a64",
   "metadata": {
    "papermill": {
     "duration": 0.020067,
     "end_time": "2025-04-14T04:34:59.214336",
     "exception": false,
     "start_time": "2025-04-14T04:34:59.194269",
     "status": "completed"
    },
    "tags": []
   },
   "source": [
    "## Future Direction\n",
    "Fine-tuning may be necessary once we have some data on what \"good\" and \"bad\" output looks like. Reinforcement Learning with Human Feedback (RLHF) may be necessary to complement the AI evaluator here."
   ]
  },
  {
   "cell_type": "markdown",
   "id": "f5fa2772",
   "metadata": {
    "papermill": {
     "duration": 0.020232,
     "end_time": "2025-04-14T04:34:59.256607",
     "exception": false,
     "start_time": "2025-04-14T04:34:59.236375",
     "status": "completed"
    },
    "tags": []
   },
   "source": [
    "# TODO\n",
    "Synthesize the prompt:"
   ]
  },
  {
   "cell_type": "code",
   "execution_count": 25,
   "id": "d4d128f1",
   "metadata": {
    "execution": {
     "iopub.execute_input": "2025-04-14T04:34:59.299336Z",
     "iopub.status.busy": "2025-04-14T04:34:59.298905Z",
     "iopub.status.idle": "2025-04-14T04:35:03.433588Z",
     "shell.execute_reply": "2025-04-14T04:35:03.432403Z"
    },
    "papermill": {
     "duration": 4.158557,
     "end_time": "2025-04-14T04:35:03.435891",
     "exception": false,
     "start_time": "2025-04-14T04:34:59.277334",
     "status": "completed"
    },
    "tags": []
   },
   "outputs": [
    {
     "data": {
      "text/markdown": [
       "Okay, let's break down this SAT writing question and address your concern.\n",
       "\n",
       "**1. Question Type and Skills Tested**\n",
       "\n",
       "*   **Category:** Standard English Conventions\n",
       "*   **Subcategory:** Sentence Structure\n",
       "*   **Specific Skill:** Modifier Placement (Avoiding Dangling Modifiers)\n",
       "\n",
       "The question tests your ability to ensure that modifying phrases clearly and logically refer to the correct subject in the sentence. According to the College Board, being able to correct errors in sentence structure is a key skill for success in the SAT writing section.\n",
       "\n",
       "**2. Why Choice A is Correct**\n",
       "\n",
       "*   **Clarity and Logic:** The phrase \"Upon recovering two years later\" is a modifying phrase. It describes *who* recovered. Choice A, \"Henry resumed his reign,\" places \"Henry\" immediately after the modifying phrase. This makes it clear that *Henry* is the one who recovered.\n",
       "\n",
       "**3. Why Other Choices are Incorrect**\n",
       "\n",
       "*   **Dangling Modifiers:** Choices B, C, and D all create dangling modifiers. A dangling modifier is a phrase that doesn't clearly and logically attach to the subject it's intended to modify.\n",
       "\n",
       "    *   **Choice B:** \"the reign of Henry resumed\" - This implies the *reign* recovered, which doesn't make sense.\n",
       "    *   **Choice C:** \"Henry's reign resumed\" - Same as B, the *reign* cannot recover.\n",
       "    *   **Choice D:** \"it was Henry who resumed his reign\" - The word \"it\" is placed immediately after the introductory phrase, illogically suggesting that \"it\" recovered two years later.\n",
       "\n",
       "**4. Addressing Your Concern**\n",
       "\n",
       "You said: \"Isn't the subject that Henry got unfit to rule?\"\n",
       "\n",
       "You're right that Henry was initially unfit to rule. However, the sentence is structured with the phrase \"Upon recovering two years later...\" This phrase *must* logically modify the subject that comes immediately after it. The sentence is about what happened *after* Henry's illness, specifically, what happened when he got better.\n",
       "\n",
       "**5. Actionable Improvement Strategies**\n",
       "\n",
       "*   **Practice Identifying Modifiers:** Pay close attention to phrases that describe actions or states (like \"Upon recovering...\").\n",
       "*   **Check for Logical Connection:** After placing the subject, ask yourself, \"Does it make sense for *this subject* to be doing the action described in the modifying phrase?\"\n",
       "*   **Read the Sentence Aloud:** Sometimes, reading the sentence aloud can help you hear awkward phrasing or dangling modifiers.\n",
       "*   **Targeted Practice:** Do practice questions specifically focused on modifier placement. Review explanations carefully to understand why certain placements create errors.\n",
       "\n",
       "**In Summary**\n",
       "\n",
       "The SAT writing section is very precise. Even if you understand the general idea of the sentence, you need to make sure the grammar and sentence structure are perfectly correct. In this case, the key was recognizing the modifying phrase and ensuring it logically connected to the correct subject (\"Henry\").\n"
      ],
      "text/plain": [
       "<IPython.core.display.Markdown object>"
      ]
     },
     "execution_count": 25,
     "metadata": {},
     "output_type": "execute_result"
    }
   ],
   "source": [
    "from google.genai.types import GenerateContentConfig\n",
    "\n",
    "response = client.models.generate_content(\n",
    "    model=\"gemini-2.0-flash-001\",\n",
    "    # no specs yet\n",
    "    contents=f\"{question['question']} {question['rationale']}\\n The user got: {question['user_answer']}\\n {question['user_rationale']}\",\n",
    "    config=GenerateContentConfig(\n",
    "        system_instruction=[\n",
    "            \"You are an SAT expert tutor. Analyze questions using the official SAT framework. \",\n",
    "            \"Help students by:\\n\",\n",
    "            \"1. Identifying question type and skills tested\\n\",\n",
    "            \"2. Explaining why answers are correct/incorrect\\n\",\n",
    "            \"3. Providing actionable improvement strategies\\n\",\n",
    "            \"Use formal but friendly language. Reference the SAT specs when possible.\",\n",
    "        ]\n",
    "    ),\n",
    ")\n",
    "\n",
    "\n",
    "Markdown(response.text)"
   ]
  },
  {
   "cell_type": "markdown",
   "id": "442736eb",
   "metadata": {
    "papermill": {
     "duration": 0.020619,
     "end_time": "2025-04-14T04:35:03.478769",
     "exception": false,
     "start_time": "2025-04-14T04:35:03.458150",
     "status": "completed"
    },
    "tags": []
   },
   "source": [
    "Perhaps the model will be more effective with FAISS vector database searches for the PDF.\n",
    "\n",
    "# Parse PDF\n",
    "The following code uses lossy conversion to turn the PDF into readable text."
   ]
  },
  {
   "cell_type": "markdown",
   "id": "a9dac915",
   "metadata": {
    "papermill": {
     "duration": 0.01974,
     "end_time": "2025-04-14T04:35:03.518583",
     "exception": false,
     "start_time": "2025-04-14T04:35:03.498843",
     "status": "completed"
    },
    "tags": []
   },
   "source": [
    "Information like tables and images will be lost in the process, as demonstrated by the following snippet."
   ]
  },
  {
   "cell_type": "code",
   "execution_count": 26,
   "id": "a32ce854",
   "metadata": {
    "execution": {
     "iopub.execute_input": "2025-04-14T04:35:03.563820Z",
     "iopub.status.busy": "2025-04-14T04:35:03.563458Z",
     "iopub.status.idle": "2025-04-14T04:35:04.176302Z",
     "shell.execute_reply": "2025-04-14T04:35:04.174897Z"
    },
    "papermill": {
     "duration": 0.638233,
     "end_time": "2025-04-14T04:35:04.178463",
     "exception": false,
     "start_time": "2025-04-14T04:35:03.540230",
     "status": "completed"
    },
    "tags": []
   },
   "outputs": [
    {
     "name": "stdout",
     "output_type": "stream",
     "text": [
      "Example table  \n",
      "This is an example of a data table. \n",
      "Disability \n",
      "Category Participants  Ballots \n",
      "Completed  Ballots \n",
      "Incomplete/  \n",
      "Terminated  Results  \n",
      "Accuracy  Time to \n",
      "complete \n",
      "Blind  5 1 4 34.5%, n=1  1199 sec, n=1  \n",
      "Low Vision  5 2 3 98.3% n=2  \n",
      "(97.7%, n=3)  1716 sec, n=3  \n",
      "(1934 sec, n=2)  \n",
      "Dexterity  5 4 1 98.3%, n=4  1672.1 sec, n=4  \n",
      "Mobility  3 3 0 95.4%, n=3  1416 sec, n=3  \n",
      " \n"
     ]
    }
   ],
   "source": [
    "from PyPDF2 import PdfReader\n",
    "from io import BytesIO\n",
    "import requests\n",
    "\n",
    "url = \"https://www.w3.org/WAI/WCAG20/Techniques/working-examples/PDF20/table.pdf\"\n",
    "response = requests.get(url)\n",
    "pdf_bytes = BytesIO(response.content)\n",
    "\n",
    "text = \"\"\n",
    "pdf_reader = PdfReader(pdf_bytes)\n",
    "for page in pdf_reader.pages:\n",
    "    text += page.extract_text()\n",
    "\n",
    "print(text[0:1000])"
   ]
  },
  {
   "cell_type": "code",
   "execution_count": 27,
   "id": "fa76a486",
   "metadata": {
    "execution": {
     "iopub.execute_input": "2025-04-14T04:35:04.222240Z",
     "iopub.status.busy": "2025-04-14T04:35:04.221890Z",
     "iopub.status.idle": "2025-04-14T04:35:10.357293Z",
     "shell.execute_reply": "2025-04-14T04:35:10.355774Z"
    },
    "papermill": {
     "duration": 6.159999,
     "end_time": "2025-04-14T04:35:10.359458",
     "exception": false,
     "start_time": "2025-04-14T04:35:04.199459",
     "status": "completed"
    },
    "tags": []
   },
   "outputs": [
    {
     "name": "stdout",
     "output_type": "stream",
     "text": [
      "<class '_io.BytesIO'>\n",
      "Assessment Framework \n",
      "for the Digital SAT® SuiteAssessment Framework \n",
      "for the Digital SAT® Suite\n",
      "Version 3.01, August 2024\n",
      "About College Board\n",
      "College Board reaches more than 7 million students a year, helping them \n",
      "navigate the path from high school to college and career. Our not-for-\n",
      "profit membership organization was founded more than 120 years ago. \n",
      "We pioneered programs like the SAT® and AP® to expand opportunities \n",
      "for students and help them develop the skills they need. Our BigFuture® \n",
      "program helps students plan for college, pay for college, and explore \n",
      "careers. Learn more at cb.org .\n",
      "Suggested Citation:  College Board. 2024. Assessment Framework for the \n",
      "Digital SAT Suite , version 3.01 (August 2024). New Y ork: College Board.\n",
      "© 2024 College Board. College Board, Advanced Placement, AP , BigFuture, Landscape, Pre-AP , SAT, and \n",
      "the acorn logo are registered trademarks of College Board. AP Potential, Bluebook, Connections, PSAT, \n",
      "Skills Insight, Student Search Service, and The\n"
     ]
    }
   ],
   "source": [
    "# Download the PDF using requests\n",
    "url = \"https://satsuite.collegeboard.org/media/pdf/assessment-framework-for-digital-sat-suite.pdf\"\n",
    "\n",
    "response = requests.get(url)\n",
    "pdf_bytes = BytesIO(response.content)\n",
    "\n",
    "print(type(pdf_bytes))\n",
    "\n",
    "specs_text = \"\"\n",
    "pdf_reader = PdfReader(pdf_bytes)\n",
    "for page in pdf_reader.pages:\n",
    "    specs_text += page.extract_text()\n",
    "\n",
    "print(specs_text[0:1000])"
   ]
  },
  {
   "cell_type": "markdown",
   "id": "b4516c9c",
   "metadata": {
    "papermill": {
     "duration": 0.021389,
     "end_time": "2025-04-14T04:35:10.402651",
     "exception": false,
     "start_time": "2025-04-14T04:35:10.381262",
     "status": "completed"
    },
    "tags": []
   },
   "source": [
    "This text data might be too big for the model to contain within the prompt."
   ]
  },
  {
   "cell_type": "code",
   "execution_count": 28,
   "id": "ca91539a",
   "metadata": {
    "execution": {
     "iopub.execute_input": "2025-04-14T04:35:10.446540Z",
     "iopub.status.busy": "2025-04-14T04:35:10.446120Z",
     "iopub.status.idle": "2025-04-14T04:35:11.805562Z",
     "shell.execute_reply": "2025-04-14T04:35:11.804458Z"
    },
    "papermill": {
     "duration": 1.383469,
     "end_time": "2025-04-14T04:35:11.807593",
     "exception": false,
     "start_time": "2025-04-14T04:35:10.424124",
     "status": "completed"
    },
    "tags": []
   },
   "outputs": [
    {
     "data": {
      "text/plain": [
       "153273"
      ]
     },
     "execution_count": 28,
     "metadata": {},
     "output_type": "execute_result"
    }
   ],
   "source": [
    "client.models.count_tokens(\n",
    "    model=model, contents=specs_text\n",
    ").total_tokens"
   ]
  },
  {
   "cell_type": "markdown",
   "id": "5f09c1f0",
   "metadata": {
    "papermill": {
     "duration": 0.02028,
     "end_time": "2025-04-14T04:35:11.848331",
     "exception": false,
     "start_time": "2025-04-14T04:35:11.828051",
     "status": "completed"
    },
    "tags": []
   },
   "source": [
    "That's a pretty significant size! The only way to incorporate the PDF properly is to chunk it."
   ]
  },
  {
   "cell_type": "markdown",
   "id": "27f70bd8",
   "metadata": {
    "papermill": {
     "duration": 0.020874,
     "end_time": "2025-04-14T04:35:11.890368",
     "exception": false,
     "start_time": "2025-04-14T04:35:11.869494",
     "status": "completed"
    },
    "tags": []
   },
   "source": [
    "# Chunk the Parsed PDF\n",
    "In order to use the PDF, we need to \"chunk\" it so bits of relevant information can be accessed at a time. In order to maximize efficiency, a vector search database will be used, as the likelihood that any key words in the question will appear on the SAT is effectively zero. "
   ]
  },
  {
   "cell_type": "code",
   "execution_count": 29,
   "id": "348884a9",
   "metadata": {
    "execution": {
     "iopub.execute_input": "2025-04-14T04:35:11.933731Z",
     "iopub.status.busy": "2025-04-14T04:35:11.933311Z",
     "iopub.status.idle": "2025-04-14T04:35:12.243752Z",
     "shell.execute_reply": "2025-04-14T04:35:12.242588Z"
    },
    "papermill": {
     "duration": 0.334633,
     "end_time": "2025-04-14T04:35:12.245884",
     "exception": false,
     "start_time": "2025-04-14T04:35:11.911251",
     "status": "completed"
    },
    "tags": []
   },
   "outputs": [],
   "source": [
    "from langchain_text_splitters import RecursiveCharacterTextSplitter\n",
    "\n",
    "text_splitter = RecursiveCharacterTextSplitter(\n",
    "    # Set a really small chunk size, just to show.\n",
    "    chunk_size=1024,\n",
    "    chunk_overlap=102,\n",
    "    length_function=len,\n",
    "    is_separator_regex=False,\n",
    ")\n",
    "\n",
    "chunked_specs_text = text_splitter.split_text(specs_text)"
   ]
  },
  {
   "cell_type": "markdown",
   "id": "be6aa568",
   "metadata": {
    "papermill": {
     "duration": 0.019907,
     "end_time": "2025-04-14T04:35:12.286770",
     "exception": false,
     "start_time": "2025-04-14T04:35:12.266863",
     "status": "completed"
    },
    "tags": []
   },
   "source": [
    "Check out the chunks:"
   ]
  },
  {
   "cell_type": "code",
   "execution_count": 30,
   "id": "22bc72c5",
   "metadata": {
    "execution": {
     "iopub.execute_input": "2025-04-14T04:35:12.330180Z",
     "iopub.status.busy": "2025-04-14T04:35:12.329793Z",
     "iopub.status.idle": "2025-04-14T04:35:12.335787Z",
     "shell.execute_reply": "2025-04-14T04:35:12.334420Z"
    },
    "papermill": {
     "duration": 0.031001,
     "end_time": "2025-04-14T04:35:12.337863",
     "exception": false,
     "start_time": "2025-04-14T04:35:12.306862",
     "status": "completed"
    },
    "tags": []
   },
   "outputs": [
    {
     "name": "stdout",
     "output_type": "stream",
     "text": [
      "702\n",
      "Assessment Framework \n",
      "for the Digital SAT® SuiteAssessment Framework \n",
      "for the Digital SAT® Suite\n",
      "Version 3.01, August 2024\n",
      "About College Board\n",
      "College Board reaches more than 7 million students a year, helping them \n",
      "navigate the path from high school to college and career. Our not-for-\n",
      "profit membership organization was founded more than 120 years ago. \n",
      "We pioneered programs like the SAT® and AP® to expand opportunities \n",
      "for students and help them develop the skills they need. Our BigFuture® \n",
      "program helps students plan for college, pay for college, and explore \n",
      "careers. Learn more at cb.org .\n",
      "Suggested Citation:  College Board. 2024. Assessment Framework for the \n",
      "Digital SAT Suite , version 3.01 (August 2024). New Y ork: College Board.\n",
      "© 2024 College Board. College Board, Advanced Placement, AP , BigFuture, Landscape, Pre-AP , SAT, and \n",
      "the acorn logo are registered trademarks of College Board. AP Potential, Bluebook, Connections, PSAT,\n"
     ]
    }
   ],
   "source": [
    "print(len(chunked_specs_text))\n",
    "print(chunked_specs_text[0])"
   ]
  },
  {
   "cell_type": "markdown",
   "id": "5c4a2589",
   "metadata": {
    "papermill": {
     "duration": 0.021282,
     "end_time": "2025-04-14T04:35:12.381169",
     "exception": false,
     "start_time": "2025-04-14T04:35:12.359887",
     "status": "completed"
    },
    "tags": []
   },
   "source": [
    "# Initialize ReAct agent\n",
    "The model will instead be a ReAct agent and figure out what to search up and call that tool as an extension and we will see what happens\n",
    "\n",
    "We will start by finding a gemini model for embedding."
   ]
  },
  {
   "cell_type": "code",
   "execution_count": 31,
   "id": "d6c3464c",
   "metadata": {
    "execution": {
     "iopub.execute_input": "2025-04-14T04:35:12.428600Z",
     "iopub.status.busy": "2025-04-14T04:35:12.428192Z",
     "iopub.status.idle": "2025-04-14T04:35:12.588372Z",
     "shell.execute_reply": "2025-04-14T04:35:12.586963Z"
    },
    "papermill": {
     "duration": 0.185566,
     "end_time": "2025-04-14T04:35:12.590189",
     "exception": false,
     "start_time": "2025-04-14T04:35:12.404623",
     "status": "completed"
    },
    "tags": []
   },
   "outputs": [
    {
     "name": "stdout",
     "output_type": "stream",
     "text": [
      "models/embedding-001\n",
      "models/text-embedding-004\n",
      "models/gemini-embedding-exp-03-07\n",
      "models/gemini-embedding-exp\n"
     ]
    }
   ],
   "source": [
    "for m in client.models.list():\n",
    "    if \"embedContent\" in m.supported_actions:\n",
    "        print(m.name)"
   ]
  },
  {
   "cell_type": "markdown",
   "id": "8c0ed2d5",
   "metadata": {
    "papermill": {
     "duration": 0.024595,
     "end_time": "2025-04-14T04:35:12.635255",
     "exception": false,
     "start_time": "2025-04-14T04:35:12.610660",
     "status": "completed"
    },
    "tags": []
   },
   "source": [
    "Set up ChromaDB. We will use `text-embedding-004` to encode the \"document\" chunks into vectors."
   ]
  },
  {
   "cell_type": "code",
   "execution_count": 32,
   "id": "56aa0e2a",
   "metadata": {
    "execution": {
     "iopub.execute_input": "2025-04-14T04:35:12.678439Z",
     "iopub.status.busy": "2025-04-14T04:35:12.678033Z",
     "iopub.status.idle": "2025-04-14T04:35:13.272581Z",
     "shell.execute_reply": "2025-04-14T04:35:13.271444Z"
    },
    "papermill": {
     "duration": 0.618032,
     "end_time": "2025-04-14T04:35:13.274497",
     "exception": false,
     "start_time": "2025-04-14T04:35:12.656465",
     "status": "completed"
    },
    "tags": []
   },
   "outputs": [],
   "source": [
    "from chromadb import Documents, EmbeddingFunction, Embeddings\n",
    "from google.api_core import retry\n",
    "\n",
    "from google.genai import types\n",
    "\n",
    "\n",
    "class GeminiEmbeddingFunction(EmbeddingFunction):\n",
    "    # Specify whether to generate embeddings for documents, or queries\n",
    "    document_mode = True\n",
    "\n",
    "    @retry.Retry(predicate=is_retriable)\n",
    "    def __call__(self, input: Documents) -> Embeddings:\n",
    "        if self.document_mode:\n",
    "            embedding_task = \"retrieval_document\"\n",
    "        else:\n",
    "            embedding_task = \"retrieval_query\"\n",
    "\n",
    "        response = client.models.embed_content(\n",
    "            model=\"models/text-embedding-004\",\n",
    "            contents=input,\n",
    "            config=types.EmbedContentConfig(\n",
    "                task_type=embedding_task,\n",
    "            ),\n",
    "        )\n",
    "        return [e.values for e in response.embeddings]"
   ]
  },
  {
   "cell_type": "markdown",
   "id": "b4702968",
   "metadata": {
    "papermill": {
     "duration": 0.020161,
     "end_time": "2025-04-14T04:35:13.315248",
     "exception": false,
     "start_time": "2025-04-14T04:35:13.295087",
     "status": "completed"
    },
    "tags": []
   },
   "source": [
    "Now let's create a Chroma database client and add the document embeddings"
   ]
  },
  {
   "cell_type": "code",
   "execution_count": 33,
   "id": "5de1dc5f",
   "metadata": {
    "execution": {
     "iopub.execute_input": "2025-04-14T04:35:13.359040Z",
     "iopub.status.busy": "2025-04-14T04:35:13.358648Z",
     "iopub.status.idle": "2025-04-14T04:35:25.072917Z",
     "shell.execute_reply": "2025-04-14T04:35:25.071958Z"
    },
    "papermill": {
     "duration": 11.73772,
     "end_time": "2025-04-14T04:35:25.074972",
     "exception": false,
     "start_time": "2025-04-14T04:35:13.337252",
     "status": "completed"
    },
    "tags": []
   },
   "outputs": [],
   "source": [
    "import chromadb\n",
    "\n",
    "SPECS_DB_NAME = \"specs\"\n",
    "\n",
    "embed_fn = GeminiEmbeddingFunction()\n",
    "embed_fn.document_mode = True\n",
    "\n",
    "chroma_client = chromadb.Client()\n",
    "#print(chroma_client.list_collections())\n",
    "db = chroma_client.get_or_create_collection(name=SPECS_DB_NAME, embedding_function=embed_fn)\n",
    "for i in range(int(len(chunked_specs_text) / 100)):\n",
    "    db.add(documents=chunked_specs_text[i:100+i], ids=[str(i + j) for j in range(100)])"
   ]
  },
  {
   "cell_type": "markdown",
   "id": "8ad4f54a",
   "metadata": {
    "papermill": {
     "duration": 0.021477,
     "end_time": "2025-04-14T04:35:25.117114",
     "exception": false,
     "start_time": "2025-04-14T04:35:25.095637",
     "status": "completed"
    },
    "tags": []
   },
   "source": [
    "Check out the database"
   ]
  },
  {
   "cell_type": "code",
   "execution_count": 34,
   "id": "0bed3d4e",
   "metadata": {
    "execution": {
     "iopub.execute_input": "2025-04-14T04:35:25.161008Z",
     "iopub.status.busy": "2025-04-14T04:35:25.160624Z",
     "iopub.status.idle": "2025-04-14T04:35:25.184010Z",
     "shell.execute_reply": "2025-04-14T04:35:25.182794Z"
    },
    "papermill": {
     "duration": 0.048433,
     "end_time": "2025-04-14T04:35:25.186190",
     "exception": false,
     "start_time": "2025-04-14T04:35:25.137757",
     "status": "completed"
    },
    "tags": []
   },
   "outputs": [
    {
     "data": {
      "text/plain": [
       "{'ids': ['0'],\n",
       " 'embeddings': array([[ 5.80166355e-02,  4.36070710e-02, -5.12756817e-02,\n",
       "         -1.44314906e-03,  2.73717772e-02,  4.12952006e-02,\n",
       "          5.71677238e-02,  7.64632318e-03,  9.56675038e-03,\n",
       "         -5.80519577e-03, -4.39782254e-02,  9.93977953e-03,\n",
       "          3.03114597e-02,  3.39544937e-02, -7.10375309e-02,\n",
       "          1.01664122e-02,  2.03551948e-02,  5.44842966e-02,\n",
       "         -1.12781808e-01, -2.91494676e-03, -2.88882591e-02,\n",
       "         -3.38051245e-02, -1.49710365e-02, -1.39160426e-02,\n",
       "         -1.64779034e-02,  7.98442122e-03,  7.00960010e-02,\n",
       "          1.01699783e-02,  1.97551977e-02, -3.44269574e-02,\n",
       "          2.98777758e-03,  9.17043630e-03, -2.51114983e-02,\n",
       "         -8.72381590e-03,  7.50523322e-05,  3.42415981e-02,\n",
       "         -2.42317207e-02, -3.20444927e-02,  7.41561651e-02,\n",
       "         -4.53105606e-02, -4.95616272e-02, -4.72334400e-03,\n",
       "         -1.52662601e-02, -1.15578976e-02, -2.57304776e-02,\n",
       "          5.48221776e-03,  6.22319020e-02,  5.05198240e-02,\n",
       "         -1.08670801e-01,  3.87461856e-02,  3.76404338e-02,\n",
       "          2.82543674e-02, -1.12163037e-01,  4.10740972e-02,\n",
       "         -3.71634699e-02,  5.99206332e-03, -2.40207538e-02,\n",
       "         -4.28720191e-02, -1.08973670e-03,  3.40756699e-02,\n",
       "          1.05064129e-02,  2.35935226e-02,  4.58424399e-03,\n",
       "         -2.21987478e-02,  4.96019013e-02,  1.15091922e-02,\n",
       "          4.42131460e-02, -6.75921589e-02, -5.26988208e-02,\n",
       "          1.06926588e-02,  3.47644798e-02,  6.68431073e-02,\n",
       "          1.32676568e-02,  1.27605069e-02,  1.21104876e-02,\n",
       "         -1.93833635e-04,  1.41022261e-02, -3.21718715e-02,\n",
       "         -4.64808522e-03,  9.91228148e-02, -3.37284245e-02,\n",
       "          5.24462238e-02,  6.21226132e-02,  3.91206890e-03,\n",
       "          4.60108928e-02, -8.70271213e-03,  1.23034595e-02,\n",
       "         -1.28133938e-01, -2.87133902e-02, -1.64378118e-02,\n",
       "          5.29186577e-02,  3.30431201e-02,  9.16795991e-03,\n",
       "          1.36559345e-02,  2.93000676e-02, -1.43960798e-02,\n",
       "         -9.56787542e-02, -8.39812607e-02,  7.39913285e-02,\n",
       "          1.87342633e-02,  9.75035131e-03,  4.36013984e-03,\n",
       "         -3.24239470e-02, -3.92059237e-02, -1.39458850e-02,\n",
       "          7.91692138e-02,  2.23348774e-02, -6.05219603e-02,\n",
       "         -4.39632945e-02,  2.29139496e-02, -1.57225877e-02,\n",
       "         -3.34867239e-02, -6.84443768e-03,  3.57104763e-02,\n",
       "         -9.50761791e-03, -3.51773412e-03,  1.65853836e-02,\n",
       "          3.05765029e-02, -7.34856352e-02,  4.93869744e-02,\n",
       "         -1.35535756e-02,  4.30152342e-02,  7.01768091e-03,\n",
       "          3.01902983e-02,  7.02088177e-02,  1.18755726e-02,\n",
       "          2.04857942e-02,  8.30172654e-03, -3.94785255e-02,\n",
       "         -4.17043306e-02,  9.32582095e-03, -5.86279519e-02,\n",
       "          3.81321423e-02,  5.02973096e-03, -1.42060453e-02,\n",
       "         -5.16521186e-02,  2.11465266e-02,  2.77757626e-02,\n",
       "          3.25606577e-02,  5.14609963e-02, -3.08694541e-02,\n",
       "         -7.40062445e-04, -1.04706369e-01,  1.19366450e-02,\n",
       "          5.83255012e-03, -3.08419932e-02,  3.24390270e-02,\n",
       "          1.74153689e-02, -5.59562643e-04,  1.27332341e-02,\n",
       "         -3.67884487e-02, -6.43752841e-03, -6.04125224e-02,\n",
       "         -4.95353416e-02,  1.58683863e-02, -4.08671796e-02,\n",
       "          3.86186838e-02, -3.35833058e-02,  4.54988219e-02,\n",
       "          2.09956970e-02,  7.09988251e-02, -3.43339629e-02,\n",
       "          5.96209764e-02,  1.98834836e-02, -5.05765602e-02,\n",
       "         -1.11844633e-02, -7.07397312e-02, -1.21114263e-02,\n",
       "         -2.86048297e-02, -1.18953758e-03, -6.30153567e-02,\n",
       "          2.09246147e-02, -1.80896148e-02, -1.04634866e-01,\n",
       "          3.56591456e-02, -1.60821863e-02, -1.92561969e-02,\n",
       "         -4.41370383e-02, -3.24174799e-02, -9.04508121e-03,\n",
       "          6.24283589e-02, -1.71958022e-02,  7.85420276e-03,\n",
       "         -2.75226124e-02,  3.10528427e-02,  1.92671660e-02,\n",
       "         -3.02817971e-02,  6.27220375e-03,  6.47130087e-02,\n",
       "          1.51586188e-02,  7.67297074e-02, -2.29598805e-02,\n",
       "          2.58672442e-02,  4.40891422e-02, -1.38843367e-02,\n",
       "          1.00173214e-02,  2.21455912e-03, -3.17572523e-03,\n",
       "         -3.19272093e-02, -5.17348312e-02,  4.07911488e-04,\n",
       "         -1.55000361e-02,  3.75127071e-03, -4.24440764e-02,\n",
       "         -8.70858505e-03,  5.60728367e-03, -4.19645011e-02,\n",
       "         -1.07061520e-01,  7.16448650e-02,  2.04445198e-02,\n",
       "         -5.21069467e-02,  1.51334424e-02,  8.45359452e-03,\n",
       "         -7.13956356e-02,  7.82205164e-03, -2.58199740e-02,\n",
       "          6.69478700e-02, -1.19733606e-02,  4.62455451e-02,\n",
       "          1.41000915e-02, -6.26668707e-03,  2.30310182e-03,\n",
       "          3.34906653e-02,  4.10009827e-03,  6.07665628e-02,\n",
       "          8.88145939e-02, -1.75245069e-02, -2.94035021e-02,\n",
       "         -2.63199024e-02, -2.61491649e-02,  1.22614112e-02,\n",
       "          2.96027381e-02, -1.42258164e-02,  9.16348712e-04,\n",
       "         -1.55073004e-02,  3.12971734e-02,  6.98070071e-05,\n",
       "         -2.31550205e-02,  1.13678246e-03, -7.88397901e-03,\n",
       "          1.64743382e-02,  7.17388019e-02, -5.95940687e-02,\n",
       "         -4.23376309e-03, -4.79818380e-04, -1.32244015e-02,\n",
       "          5.77465072e-02, -2.46070139e-03,  1.92456003e-02,\n",
       "         -5.22776134e-02, -2.86002234e-02, -8.95087514e-03,\n",
       "         -6.51429687e-03,  1.39532685e-02, -1.00507952e-01,\n",
       "         -4.24877144e-02,  2.18698028e-02, -2.56649721e-02,\n",
       "          1.76934134e-02,  9.33578424e-03, -2.15140097e-02,\n",
       "          1.27885444e-03, -3.31358574e-02, -8.33016038e-02,\n",
       "         -7.04244152e-02, -7.51446560e-02, -2.85590570e-02,\n",
       "         -4.82351817e-02, -1.11951549e-02, -5.71641736e-02,\n",
       "          2.68591996e-02,  4.11462784e-03,  2.22476455e-03,\n",
       "         -8.38469341e-03, -2.46393811e-02, -1.54517666e-02,\n",
       "          7.08921580e-04, -2.49075498e-02, -3.22938114e-02,\n",
       "         -6.23974279e-02,  1.97972655e-02,  2.87237074e-02,\n",
       "         -4.65525463e-02, -3.85891423e-02,  8.87269899e-03,\n",
       "         -5.28175272e-02, -2.71327421e-02,  3.65902148e-02,\n",
       "         -9.16150026e-03, -7.43733346e-02, -7.94962980e-03,\n",
       "          4.17517014e-02, -2.70789047e-03, -3.82475108e-02,\n",
       "          3.28784920e-02,  2.74867639e-02,  4.37347312e-03,\n",
       "          3.50610539e-02, -2.72608269e-02, -9.10433941e-03,\n",
       "          2.58714277e-02,  4.81436849e-02, -3.90308127e-02,\n",
       "          1.79567672e-02, -3.66287753e-02, -1.28577296e-02,\n",
       "         -3.70660312e-02,  1.31806247e-02, -2.55208481e-02,\n",
       "         -1.48080778e-03, -4.76340344e-03,  2.37953775e-02,\n",
       "         -5.23040108e-02, -6.38165325e-02, -1.29147237e-02,\n",
       "         -5.45050111e-03, -1.53034061e-01,  1.70869380e-02,\n",
       "         -3.49002518e-02, -2.00694967e-02, -1.88856926e-02,\n",
       "          4.44856398e-02, -1.25894016e-02, -2.64524911e-02,\n",
       "          8.18429515e-03, -1.52463624e-02,  3.90927829e-02,\n",
       "         -5.26719056e-02,  3.62305641e-02, -8.52019805e-03,\n",
       "          1.65385543e-03,  6.72470639e-03,  3.75752919e-03,\n",
       "         -2.57620886e-02,  1.25113633e-02,  5.91949513e-03,\n",
       "         -2.40331944e-02, -1.21482341e-02,  2.83407234e-02,\n",
       "          2.56095417e-02,  3.39273512e-02,  3.31112929e-02,\n",
       "          4.46236804e-02, -2.68947501e-02,  1.55458013e-02,\n",
       "         -8.32157582e-03,  3.69162532e-03,  1.44904042e-02,\n",
       "         -5.77007979e-03,  1.54826581e-03,  2.24501602e-02,\n",
       "          6.63838442e-03,  3.47910486e-02,  1.32909063e-02,\n",
       "          1.06773283e-02,  2.93501038e-02,  5.11190519e-02,\n",
       "          7.73564773e-03, -4.62403372e-02, -2.42497716e-02,\n",
       "          2.91189644e-02, -6.00806139e-02, -1.47859221e-02,\n",
       "          5.20723639e-03, -1.86122139e-03, -4.20429371e-02,\n",
       "          1.67293660e-02,  5.35215922e-02,  2.74229925e-02,\n",
       "         -6.94102198e-02,  4.08094861e-02, -7.37296976e-03,\n",
       "          3.77385318e-03, -2.79146209e-02,  1.63557392e-03,\n",
       "         -3.31038050e-02, -6.48552179e-02,  6.97042644e-02,\n",
       "          2.46927645e-02, -1.54647166e-02, -3.90476012e-03,\n",
       "         -5.29565513e-02,  1.06386608e-02, -7.63162412e-03,\n",
       "         -9.23177227e-03,  7.15001812e-03, -4.65217307e-02,\n",
       "          2.95240134e-02,  4.47836667e-02, -2.58597117e-02,\n",
       "          3.28717344e-02, -9.92986839e-03, -2.01046118e-03,\n",
       "          4.26500998e-02, -1.02301948e-02,  1.94264874e-02,\n",
       "         -4.05213237e-02, -1.73816588e-02,  2.56788693e-02,\n",
       "          7.68792927e-02,  3.04466952e-02,  2.56336201e-03,\n",
       "          5.48380092e-02, -3.59294936e-02, -5.11903130e-02,\n",
       "         -6.21623285e-02,  4.78590131e-02, -4.51164378e-04,\n",
       "         -1.01554440e-02, -1.09042868e-03,  8.00474547e-03,\n",
       "         -4.09643985e-02,  4.60597537e-02, -3.78358774e-02,\n",
       "         -2.32667401e-02, -4.79908362e-02,  8.17416385e-02,\n",
       "          7.53336772e-03,  1.88280046e-02,  3.65650244e-02,\n",
       "          2.31723972e-02, -1.91145130e-02,  5.51417423e-03,\n",
       "         -1.29362000e-02,  5.10175936e-02, -6.51572272e-02,\n",
       "         -1.31199416e-02, -2.02726815e-02, -3.75877991e-02,\n",
       "         -1.23191718e-02, -2.32520681e-02,  1.39611373e-02,\n",
       "         -1.47142180e-03,  3.32498632e-04,  1.12538971e-02,\n",
       "          2.02512722e-02,  4.06043604e-02,  1.81058645e-02,\n",
       "         -3.75541998e-03,  1.64482649e-02, -7.75260329e-02,\n",
       "          1.79013424e-03,  3.90715152e-02,  4.83902870e-03,\n",
       "          7.02983886e-03,  2.42124149e-03,  6.29286990e-02,\n",
       "          1.14664491e-02, -2.28633452e-02, -6.23428822e-02,\n",
       "         -8.88354797e-03, -1.82411093e-02, -5.96529990e-03,\n",
       "         -9.49529931e-02, -6.75694570e-02,  1.68540012e-02,\n",
       "          1.39626125e-02,  1.50713446e-02, -2.79989317e-02,\n",
       "          2.38965936e-02, -2.93452628e-02, -2.80521940e-02,\n",
       "          4.69942689e-02,  2.22980622e-02,  2.67113652e-02,\n",
       "         -2.29064599e-02, -3.68673354e-02,  9.28972382e-04,\n",
       "         -3.14886943e-02,  5.45802675e-02,  3.81424427e-02,\n",
       "         -9.82583687e-03, -9.75987874e-03, -3.39753181e-03,\n",
       "         -5.42528667e-02, -3.66875529e-02,  5.24652191e-03,\n",
       "          1.20246941e-02,  5.35198301e-02, -3.44860516e-02,\n",
       "         -4.98520257e-03, -3.55897145e-03,  4.40122979e-03,\n",
       "          2.80053616e-02,  5.23190983e-02, -1.39685674e-02,\n",
       "         -4.12508734e-02,  5.08039026e-03, -1.77863203e-02,\n",
       "          1.43261172e-03, -2.20268089e-02,  1.62992198e-02,\n",
       "          4.51993346e-02, -4.44896705e-02, -1.67660159e-03,\n",
       "         -2.83312872e-02,  1.01768514e-02, -3.61744240e-02,\n",
       "         -2.61132009e-02,  6.18925355e-02,  4.50195335e-02,\n",
       "          6.45436794e-02,  1.98087972e-02, -4.03549969e-02,\n",
       "          1.46335242e-02,  1.56129273e-02, -8.20877310e-03,\n",
       "          9.90838092e-03,  3.64913642e-02,  5.24053313e-02,\n",
       "          1.83603335e-02, -2.18650699e-03,  2.76752803e-02,\n",
       "         -2.24059261e-02,  7.83847738e-03,  3.24387513e-02,\n",
       "         -1.76712256e-02,  7.84556493e-02, -3.19869667e-02,\n",
       "          3.76001783e-02, -1.28575079e-02, -2.26729941e-02,\n",
       "          2.79879812e-02, -2.00726092e-02, -1.93551350e-02,\n",
       "          8.22996534e-03, -6.03975449e-03, -5.26188454e-03,\n",
       "         -4.19163425e-03, -7.87567571e-02, -2.36071665e-02,\n",
       "          5.46574965e-02,  2.11618468e-02,  3.68438661e-02,\n",
       "         -1.12427138e-02,  1.81844570e-02,  2.07927357e-02,\n",
       "         -2.51409933e-02,  3.17105837e-02,  8.80330708e-03,\n",
       "          4.38487977e-02, -7.96992518e-03,  3.35229486e-02,\n",
       "          8.29839408e-02,  2.08736788e-02, -2.27769464e-02,\n",
       "          4.37225355e-03, -7.26549095e-03, -2.44155806e-02,\n",
       "          8.16580057e-02,  1.91629175e-02, -2.26154923e-02,\n",
       "         -3.48675437e-02,  1.67389063e-03, -1.36521487e-02,\n",
       "         -2.51241401e-03, -1.62085351e-02,  1.21321827e-02,\n",
       "         -2.66942545e-03, -5.98924980e-03, -7.83384498e-03,\n",
       "         -9.23777558e-03,  3.21002491e-02, -3.84116843e-02,\n",
       "         -2.40487270e-02,  4.00654636e-02, -3.62205431e-02,\n",
       "          9.11411084e-03, -1.45532645e-03,  8.19107704e-03,\n",
       "         -1.09390942e-02,  9.09950025e-03,  1.28719332e-02,\n",
       "          3.90242003e-02,  3.81474681e-02, -5.16197353e-04,\n",
       "         -5.53876497e-02,  2.50641331e-02,  2.82035563e-02,\n",
       "         -2.34670863e-02,  3.63191217e-02,  6.94688261e-02,\n",
       "          6.20050058e-02,  9.23190359e-03,  1.79108549e-02,\n",
       "         -1.10834166e-02, -2.47420073e-02, -2.42549423e-02,\n",
       "          1.99090466e-02, -3.14182453e-02,  6.13017268e-02,\n",
       "          2.12169308e-02, -7.98197463e-03, -5.92970774e-02,\n",
       "          1.59455575e-02,  1.14530092e-02, -5.65842539e-03,\n",
       "          5.80064505e-02,  1.72997955e-02,  4.54897396e-02,\n",
       "         -3.24725881e-02, -3.25901918e-02,  5.18535301e-02,\n",
       "         -4.70557995e-02,  3.41535220e-03, -1.63305420e-02,\n",
       "         -4.22875099e-02, -3.58601883e-02, -6.37771785e-02,\n",
       "         -3.46611850e-02, -2.29824781e-02, -3.71391978e-03,\n",
       "         -2.73804087e-02,  2.48477254e-02, -8.19472894e-02,\n",
       "          5.76100824e-03, -4.02736142e-02, -5.46662137e-03,\n",
       "         -2.27484349e-02,  2.79185623e-02,  1.82147678e-02,\n",
       "          2.22990643e-02,  2.19506081e-02, -5.76094985e-02,\n",
       "         -2.74683591e-02,  3.24624218e-02,  1.07289152e-03,\n",
       "         -2.75122356e-02,  6.64937422e-02, -1.71345694e-03,\n",
       "          6.88604917e-03, -3.97225231e-04,  4.06631008e-02,\n",
       "         -3.48501578e-02, -1.39064603e-02,  4.53068726e-02,\n",
       "         -9.19779018e-03, -6.41627470e-04,  2.67547835e-02,\n",
       "         -5.85050806e-02, -1.82013363e-02,  2.31376123e-02,\n",
       "          2.56540067e-02, -1.86200906e-03,  3.20546478e-02,\n",
       "          7.02229934e-03,  2.24356260e-02,  1.79935973e-02,\n",
       "          6.13055937e-03,  5.86877801e-02,  4.09233272e-02,\n",
       "          2.07659230e-02, -4.19071093e-02, -1.91310085e-02,\n",
       "         -1.40892444e-02, -5.76054119e-03, -4.59849499e-02,\n",
       "          1.47640249e-02, -3.11255790e-02,  3.32067721e-02,\n",
       "         -1.81060079e-02, -4.76227552e-02,  7.55692646e-03,\n",
       "          4.97656278e-02,  2.24995799e-02,  4.94121127e-02,\n",
       "         -6.14284799e-02,  1.19183948e-02,  2.18840111e-02,\n",
       "         -2.77697407e-02, -2.54314579e-03, -3.05494331e-02,\n",
       "          1.73031690e-03, -1.93163240e-03, -4.16246206e-02,\n",
       "          4.81459685e-02, -4.00580615e-02, -4.25818339e-02,\n",
       "         -1.11350119e-02, -3.80438678e-02, -1.23585958e-03,\n",
       "         -4.77713943e-02,  3.61616747e-03, -4.14988492e-03,\n",
       "         -2.13531894e-03, -2.63940897e-02,  5.04175834e-02,\n",
       "          2.49335561e-02, -4.36887741e-02,  3.61094438e-02,\n",
       "         -3.01739350e-02, -3.86070870e-02,  6.21401845e-03,\n",
       "         -3.54882926e-02,  1.56432372e-02,  2.70776842e-02,\n",
       "         -3.77275646e-02,  1.66042186e-02, -5.59265912e-02,\n",
       "          8.56745581e-04, -4.94323261e-02,  3.77576388e-02,\n",
       "         -2.72562113e-02, -2.22713165e-02, -2.88175996e-02,\n",
       "          2.45312080e-02,  4.09937464e-02,  1.09606115e-02,\n",
       "         -6.09617718e-02, -2.58368440e-04,  9.82476585e-03,\n",
       "         -2.30663102e-02,  8.97172391e-02,  6.07517362e-02,\n",
       "         -4.92484942e-02,  2.61505339e-02,  1.52827706e-02,\n",
       "          1.14171710e-02,  2.20664535e-02,  8.70280527e-03,\n",
       "         -4.35095094e-02, -3.55313197e-02,  9.31928772e-03,\n",
       "          5.80750071e-02,  3.06682959e-02,  1.46369589e-02,\n",
       "         -6.86746463e-02, -3.20826545e-02, -4.79165837e-02,\n",
       "          4.80555445e-02,  3.19304168e-02, -1.17012113e-02,\n",
       "         -4.64003533e-03, -2.44570384e-03,  1.29481927e-02,\n",
       "         -4.25913185e-02,  2.01796778e-02, -1.47005720e-02,\n",
       "         -2.13555545e-02, -3.48796882e-02,  2.65420247e-02,\n",
       "          1.20047443e-02, -3.60845216e-02,  5.52808382e-02,\n",
       "          4.25706841e-02,  2.39757672e-02,  1.02229696e-03,\n",
       "         -2.69704405e-02,  2.21041460e-02, -1.10016372e-02,\n",
       "         -3.83054316e-02,  3.24082561e-03, -2.38851495e-02,\n",
       "         -7.96965149e-04,  3.64617780e-02, -6.19663373e-02,\n",
       "          6.73890300e-03,  3.70311551e-02, -1.10648321e-02,\n",
       "         -1.76464971e-02, -6.68511586e-03,  3.95942852e-02,\n",
       "         -3.21222134e-02,  2.20915936e-02, -3.15232389e-02,\n",
       "         -3.72835249e-02,  7.68566057e-02, -1.77826118e-02]]),\n",
       " 'documents': ['Assessment Framework \\nfor the Digital SAT® SuiteAssessment Framework \\nfor the Digital SAT® Suite\\nVersion 3.01, August 2024\\nAbout College Board\\nCollege Board reaches more than 7 million students a year, helping them \\nnavigate the path from high school to college and career. Our not-for-\\nprofit membership organization was founded more than 120 years ago. \\nWe pioneered programs like the SAT® and AP® to expand opportunities \\nfor students and help them develop the skills they need. Our BigFuture® \\nprogram helps students plan for college, pay for college, and explore \\ncareers. Learn more at cb.org .\\nSuggested Citation:  College Board. 2024. Assessment Framework for the \\nDigital SAT Suite , version 3.01 (August 2024). New Y ork: College Board.\\n© 2024 College Board. College Board, Advanced Placement, AP , BigFuture, Landscape, Pre-AP , SAT, and \\nthe acorn logo are registered trademarks of College Board. AP Potential, Bluebook, Connections, PSAT,'],\n",
       " 'uris': None,\n",
       " 'data': None,\n",
       " 'metadatas': [None],\n",
       " 'included': [<IncludeEnum.embeddings: 'embeddings'>,\n",
       "  <IncludeEnum.documents: 'documents'>,\n",
       "  <IncludeEnum.metadatas: 'metadatas'>]}"
      ]
     },
     "execution_count": 34,
     "metadata": {},
     "output_type": "execute_result"
    }
   ],
   "source": [
    "db.count()\n",
    "db.peek(1)"
   ]
  },
  {
   "cell_type": "markdown",
   "id": "060d80a7",
   "metadata": {
    "papermill": {
     "duration": 0.020715,
     "end_time": "2025-04-14T04:35:25.228400",
     "exception": false,
     "start_time": "2025-04-14T04:35:25.207685",
     "status": "completed"
    },
    "tags": []
   },
   "source": [
    "Let's look for *Information and Ideas* and see what relevant information the vector database finds on it."
   ]
  },
  {
   "cell_type": "code",
   "execution_count": 35,
   "id": "4cf986df",
   "metadata": {
    "execution": {
     "iopub.execute_input": "2025-04-14T04:35:25.274107Z",
     "iopub.status.busy": "2025-04-14T04:35:25.273721Z",
     "iopub.status.idle": "2025-04-14T04:35:25.567681Z",
     "shell.execute_reply": "2025-04-14T04:35:25.566478Z"
    },
    "papermill": {
     "duration": 0.318236,
     "end_time": "2025-04-14T04:35:25.569439",
     "exception": false,
     "start_time": "2025-04-14T04:35:25.251203",
     "status": "completed"
    },
    "tags": []
   },
   "outputs": [
    {
     "data": {
      "text/markdown": [
       "4.1.8. Word Count  ..................................................................................................................... 79\n",
       "4.1.9. Informational Graphics  ............................................................................................... 79\n",
       "4.1.10. T ext Complexity  .......................................................................................................... 79\n",
       "4.2 Definitions  ..................................................................................................................................... 79\n",
       "4.2.1. Construct  ......................................................................................................................... 79\n",
       "4.2.2. Claims  ................................................................................................................................ 80\n",
       "4.3 Content Domain Structure  ...................................................................................................... 81"
      ],
      "text/plain": [
       "<IPython.core.display.Markdown object>"
      ]
     },
     "execution_count": 35,
     "metadata": {},
     "output_type": "execute_result"
    }
   ],
   "source": [
    "# Switch to query mode when generating embeddings.\n",
    "embed_fn.document_mode = False\n",
    "\n",
    "# Search the Chroma DB using the specified query.\n",
    "query = \"What is the weighting of Information and Ideas?\"\n",
    "\n",
    "result = db.query(query_texts=[query], n_results=1)\n",
    "[all_passages] = result[\"documents\"]\n",
    "\n",
    "\n",
    "Markdown(all_passages[0])"
   ]
  },
  {
   "cell_type": "markdown",
   "id": "7a6041ff",
   "metadata": {
    "papermill": {
     "duration": 0.022632,
     "end_time": "2025-04-14T04:35:25.614023",
     "exception": false,
     "start_time": "2025-04-14T04:35:25.591391",
     "status": "completed"
    },
    "tags": []
   },
   "source": [
    "Now let's look for something more generic, like scientific vocabulary or weighting of passages."
   ]
  },
  {
   "cell_type": "code",
   "execution_count": 36,
   "id": "da91f642",
   "metadata": {
    "execution": {
     "iopub.execute_input": "2025-04-14T04:35:25.658207Z",
     "iopub.status.busy": "2025-04-14T04:35:25.657790Z",
     "iopub.status.idle": "2025-04-14T04:35:25.945609Z",
     "shell.execute_reply": "2025-04-14T04:35:25.944445Z"
    },
    "papermill": {
     "duration": 0.311932,
     "end_time": "2025-04-14T04:35:25.947464",
     "exception": false,
     "start_time": "2025-04-14T04:35:25.635532",
     "status": "completed"
    },
    "tags": []
   },
   "outputs": [
    {
     "data": {
      "text/markdown": [
       "standardized testing as well as many families, educators, and policymakers have \n",
       "raised concerns about the extent to which U.S. students are tested as part of \n",
       "K–12 education. Polling has suggested that the public’s doubts about the value of \n",
       "standardized testing in schools have grown over time, and the necessary relaxation \n",
       "of federal testing requirements under the successor Every Student Succeeds Act \n",
       "during the 2019–2020 and, to a lesser extent, 2020–2021 pandemic years has \n",
       "further contributed to those doubts. (See Bruno and Goldhaber 2021 for a brief \n",
       "recent overview.)A Living \n",
       "Document\n",
       "This release of the Assessment \n",
       "Framework for the Digital SAT \n",
       "Suite  includes authoritative, \n",
       "up-to-date information about \n",
       "the digital suite. As College \n",
       "Board continues to research and \n",
       "implement the tests, updates \n",
       "will be made to this document \n",
       "(and disseminated through other \n",
       "means, such as our website, \n",
       "sat.org/digital ) to ensure that \n",
       "readers have as complete and \n",
       "accurate a picture as possible."
      ],
      "text/plain": [
       "<IPython.core.display.Markdown object>"
      ]
     },
     "execution_count": 36,
     "metadata": {},
     "output_type": "execute_result"
    }
   ],
   "source": [
    "# Switch to query mode when generating embeddings.\n",
    "embed_fn.document_mode = False\n",
    "\n",
    "# Search the Chroma DB using the specified query.\n",
    "query = \"What scientific stuff are we tested on?\"\n",
    "\n",
    "result = db.query(query_texts=[query], n_results=2)\n",
    "[all_passages] = result[\"documents\"]\n",
    "\n",
    "Markdown(all_passages[0])"
   ]
  },
  {
   "cell_type": "markdown",
   "id": "b7bf9ed9",
   "metadata": {
    "papermill": {
     "duration": 0.020881,
     "end_time": "2025-04-14T04:35:25.990287",
     "exception": false,
     "start_time": "2025-04-14T04:35:25.969406",
     "status": "completed"
    },
    "tags": []
   },
   "source": [
    "The information captured by the embedding model is not relevant to the question. Perhaps more results solve the problem?"
   ]
  },
  {
   "cell_type": "code",
   "execution_count": 37,
   "id": "55d43c09",
   "metadata": {
    "execution": {
     "iopub.execute_input": "2025-04-14T04:35:26.034363Z",
     "iopub.status.busy": "2025-04-14T04:35:26.034005Z",
     "iopub.status.idle": "2025-04-14T04:35:26.332938Z",
     "shell.execute_reply": "2025-04-14T04:35:26.331574Z"
    },
    "papermill": {
     "duration": 0.323444,
     "end_time": "2025-04-14T04:35:26.335081",
     "exception": false,
     "start_time": "2025-04-14T04:35:26.011637",
     "status": "completed"
    },
    "tags": []
   },
   "outputs": [
    {
     "name": "stdout",
     "output_type": "stream",
     "text": [
      "standardized testing as well as many families, educators, and policymakers have \n",
      "raised concerns about the extent to which U.S. students are tested as part of \n",
      "K–12 education. Polling has suggested that the public’s doubts about the value of \n",
      "standardized testing in schools have grown over time, and the necessary relaxation \n",
      "of federal testing requirements under the successor Every Student Succeeds Act \n",
      "during the 2019–2020 and, to a lesser extent, 2020–2021 pandemic years has \n",
      "further contributed to those doubts. (See Bruno and Goldhaber 2021 for a brief \n",
      "recent overview.)A Living \n",
      "Document\n",
      "This release of the Assessment \n",
      "Framework for the Digital SAT \n",
      "Suite  includes authoritative, \n",
      "up-to-date information about \n",
      "the digital suite. As College \n",
      "Board continues to research and \n",
      "implement the tests, updates \n",
      "will be made to this document \n",
      "(and disseminated through other \n",
      "means, such as our website, \n",
      "sat.org/digital ) to ensure that \n",
      "readers have as complete and \n",
      "accurate a picture as possible.\n",
      "to show colleges what they know and can do. The test has changed significantly \n",
      "over time to better meet the evolving needs of students from all backgrounds and \n",
      "the changing landscape of postsecondary education. The paper-based SAT Suite \n",
      "of Assessments—completely redesigned most recently in 2015 and launched \n",
      "together with free, world-class tailored practice for all students—measures the \n",
      "knowledge and skills that students are learning in high school and that matter most \n",
      "for college and career readiness. \n",
      "The next major change to the SAT Suite is a fully digital testing experience. College \n",
      "Board’s goal is to provide a less stressful, more accessible experience for all \n",
      "students and educators while retaining the value, rigor, and predictive power of the \n",
      "paper-based SAT Suite tests. T o achieve this goal, we assembled a team of experts \n",
      "in math and literacy content development, assessment design, psychometrics, \n",
      "technology, and product development and rigorously tested and piloted these\n"
     ]
    },
    {
     "data": {
      "text/plain": [
       "[None, None]"
      ]
     },
     "execution_count": 37,
     "metadata": {},
     "output_type": "execute_result"
    }
   ],
   "source": [
    "result = db.query(query_texts=[query], n_results=2)\n",
    "[all_passages] = result[\"documents\"]\n",
    "\n",
    "[print(passage) for passage in all_passages]"
   ]
  },
  {
   "cell_type": "markdown",
   "id": "61c620c8",
   "metadata": {
    "papermill": {
     "duration": 0.023784,
     "end_time": "2025-04-14T04:35:26.381365",
     "exception": false,
     "start_time": "2025-04-14T04:35:26.357581",
     "status": "completed"
    },
    "tags": []
   },
   "source": [
    "There are unnecessary details in the original PDF. \"Garbage in, garbage out\" \n",
    "The solution is perhaps to distill the relevant information from the PDF into a text document.\n",
    "\n",
    "The below code distills the PDF."
   ]
  },
  {
   "cell_type": "code",
   "execution_count": 38,
   "id": "96ea68eb",
   "metadata": {
    "execution": {
     "iopub.execute_input": "2025-04-14T04:35:26.427441Z",
     "iopub.status.busy": "2025-04-14T04:35:26.427000Z",
     "iopub.status.idle": "2025-04-14T04:35:26.431592Z",
     "shell.execute_reply": "2025-04-14T04:35:26.430299Z"
    },
    "papermill": {
     "duration": 0.029863,
     "end_time": "2025-04-14T04:35:26.433497",
     "exception": false,
     "start_time": "2025-04-14T04:35:26.403634",
     "status": "completed"
    },
    "tags": []
   },
   "outputs": [],
   "source": [
    "# TODO"
   ]
  },
  {
   "cell_type": "markdown",
   "id": "67f6679a",
   "metadata": {
    "papermill": {
     "duration": 0.021324,
     "end_time": "2025-04-14T04:35:26.477941",
     "exception": false,
     "start_time": "2025-04-14T04:35:26.456617",
     "status": "completed"
    },
    "tags": []
   },
   "source": [
    "do some mathplotlib thingies"
   ]
  }
 ],
 "metadata": {
  "kaggle": {
   "accelerator": "none",
   "dataSources": [],
   "dockerImageVersionId": 30918,
   "isGpuEnabled": false,
   "isInternetEnabled": true,
   "language": "python",
   "sourceType": "notebook"
  },
  "kernelspec": {
   "display_name": "Python 3",
   "language": "python",
   "name": "python3"
  },
  "language_info": {
   "codemirror_mode": {
    "name": "ipython",
    "version": 3
   },
   "file_extension": ".py",
   "mimetype": "text/x-python",
   "name": "python",
   "nbconvert_exporter": "python",
   "pygments_lexer": "ipython3",
   "version": "3.10.12"
  },
  "papermill": {
   "default_parameters": {},
   "duration": 507.969981,
   "end_time": "2025-04-14T04:35:27.924753",
   "environment_variables": {},
   "exception": null,
   "input_path": "__notebook__.ipynb",
   "output_path": "__notebook__.ipynb",
   "parameters": {},
   "start_time": "2025-04-14T04:26:59.954772",
   "version": "2.6.0"
  }
 },
 "nbformat": 4,
 "nbformat_minor": 5
}
