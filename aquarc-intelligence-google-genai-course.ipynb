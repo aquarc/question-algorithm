{
 "cells": [
  {
   "cell_type": "code",
   "execution_count": 1,
   "id": "e2ac71d8",
   "metadata": {
    "_cell_guid": "b1076dfc-b9ad-4769-8c92-a6c4dae69d19",
    "_uuid": "8f2839f25d086af736a60e9eeb907d3b93b6e0e5",
    "execution": {
     "iopub.execute_input": "2025-04-08T02:46:53.639209Z",
     "iopub.status.busy": "2025-04-08T02:46:53.638820Z",
     "iopub.status.idle": "2025-04-08T02:46:54.457165Z",
     "shell.execute_reply": "2025-04-08T02:46:54.456164Z"
    },
    "papermill": {
     "duration": 0.827826,
     "end_time": "2025-04-08T02:46:54.458939",
     "exception": false,
     "start_time": "2025-04-08T02:46:53.631113",
     "status": "completed"
    },
    "tags": []
   },
   "outputs": [],
   "source": [
    "# This Python 3 environment comes with many helpful analytics libraries installed\n",
    "# It is defined by the kaggle/python Docker image: https://github.com/kaggle/docker-python\n",
    "# For example, here's several helpful packages to load\n",
    "\n",
    "import numpy as np # linear algebra\n",
    "import pandas as pd # data processing, CSV file I/O (e.g. pd.read_csv)\n",
    "\n",
    "# Input data files are available in the read-only \"../input/\" directory\n",
    "# For example, running this (by clicking run or pressing Shift+Enter) will list all files under the input directory\n",
    "\n",
    "import os\n",
    "for dirname, _, filenames in os.walk('/kaggle/input'):\n",
    "    for filename in filenames:\n",
    "        print(os.path.join(dirname, filename))\n",
    "\n",
    "# You can write up to 20GB to the current directory (/kaggle/working/) that gets preserved as output when you create a version using \"Save & Run All\" \n",
    "# You can also write temporary files to /kaggle/temp/, but they won't be saved outside of the current session"
   ]
  },
  {
   "cell_type": "markdown",
   "id": "0f783eda",
   "metadata": {
    "papermill": {
     "duration": 0.005626,
     "end_time": "2025-04-08T02:46:54.471076",
     "exception": false,
     "start_time": "2025-04-08T02:46:54.465450",
     "status": "completed"
    },
    "tags": []
   },
   "source": [
    "Some parts of this Codelab are (c) Google 2025 under the Apache License.\n",
    "(c) Aquarc 2025"
   ]
  },
  {
   "cell_type": "markdown",
   "id": "7c2019d0",
   "metadata": {
    "papermill": {
     "duration": 0.005486,
     "end_time": "2025-04-08T02:46:54.482516",
     "exception": false,
     "start_time": "2025-04-08T02:46:54.477030",
     "status": "completed"
    },
    "tags": []
   },
   "source": [
    "# Synopsis\n",
    "Aquarc is an all-in-one SAT platform for high schoolers designed to minimize time spent using the software and maximizing practice and essential questions. In order to further this mission, Aquarc Intelligence was created to analyze mistakes within a question and to suggest similar questions for efficient practicing."
   ]
  },
  {
   "cell_type": "markdown",
   "id": "fea4084c",
   "metadata": {
    "papermill": {
     "duration": 0.005376,
     "end_time": "2025-04-08T02:46:54.493649",
     "exception": false,
     "start_time": "2025-04-08T02:46:54.488273",
     "status": "completed"
    },
    "tags": []
   },
   "source": [
    "# Install the SDK \n",
    "We will be using Google's Gemini and utilities to build the model."
   ]
  },
  {
   "cell_type": "code",
   "execution_count": 2,
   "id": "25b5c709",
   "metadata": {
    "execution": {
     "iopub.execute_input": "2025-04-08T02:46:54.506348Z",
     "iopub.status.busy": "2025-04-08T02:46:54.505772Z",
     "iopub.status.idle": "2025-04-08T02:47:39.273408Z",
     "shell.execute_reply": "2025-04-08T02:47:39.272174Z"
    },
    "papermill": {
     "duration": 44.77627,
     "end_time": "2025-04-08T02:47:39.275576",
     "exception": false,
     "start_time": "2025-04-08T02:46:54.499306",
     "status": "completed"
    },
    "tags": []
   },
   "outputs": [
    {
     "name": "stdout",
     "output_type": "stream",
     "text": [
      "\u001b[2K     \u001b[90m━━━━━━━━━━━━━━━━━━━━━━━━━━━━━━━━━━━━━━━━\u001b[0m \u001b[32m67.3/67.3 kB\u001b[0m \u001b[31m3.8 MB/s\u001b[0m eta \u001b[36m0:00:00\u001b[0m\r\n",
      "\u001b[?25h  Installing build dependencies ... \u001b[?25l\u001b[?25hdone\r\n",
      "  Getting requirements to build wheel ... \u001b[?25l\u001b[?25hdone\r\n",
      "  Preparing metadata (pyproject.toml) ... \u001b[?25l\u001b[?25hdone\r\n",
      "\u001b[2K   \u001b[90m━━━━━━━━━━━━━━━━━━━━━━━━━━━━━━━━━━━━━━━━\u001b[0m \u001b[32m144.7/144.7 kB\u001b[0m \u001b[31m6.2 MB/s\u001b[0m eta \u001b[36m0:00:00\u001b[0m\r\n",
      "\u001b[2K   \u001b[90m━━━━━━━━━━━━━━━━━━━━━━━━━━━━━━━━━━━━━━━━\u001b[0m \u001b[32m1.0/1.0 MB\u001b[0m \u001b[31m24.5 MB/s\u001b[0m eta \u001b[36m0:00:00\u001b[0m\r\n",
      "\u001b[2K   \u001b[90m━━━━━━━━━━━━━━━━━━━━━━━━━━━━━━━━━━━━━━━━\u001b[0m \u001b[32m232.6/232.6 kB\u001b[0m \u001b[31m12.1 MB/s\u001b[0m eta \u001b[36m0:00:00\u001b[0m\r\n",
      "\u001b[2K   \u001b[90m━━━━━━━━━━━━━━━━━━━━━━━━━━━━━━━━━━━━━━━━\u001b[0m \u001b[32m18.3/18.3 MB\u001b[0m \u001b[31m82.7 MB/s\u001b[0m eta \u001b[36m0:00:00\u001b[0m\r\n",
      "\u001b[2K   \u001b[90m━━━━━━━━━━━━━━━━━━━━━━━━━━━━━━━━━━━━━━━━\u001b[0m \u001b[32m2.4/2.4 MB\u001b[0m \u001b[31m67.4 MB/s\u001b[0m eta \u001b[36m0:00:00\u001b[0m\r\n",
      "\u001b[2K   \u001b[90m━━━━━━━━━━━━━━━━━━━━━━━━━━━━━━━━━━━━━━━━\u001b[0m \u001b[32m94.9/94.9 kB\u001b[0m \u001b[31m6.2 MB/s\u001b[0m eta \u001b[36m0:00:00\u001b[0m\r\n",
      "\u001b[2K   \u001b[90m━━━━━━━━━━━━━━━━━━━━━━━━━━━━━━━━━━━━━━━━\u001b[0m \u001b[32m100.9/100.9 kB\u001b[0m \u001b[31m5.6 MB/s\u001b[0m eta \u001b[36m0:00:00\u001b[0m\r\n",
      "\u001b[2K   \u001b[90m━━━━━━━━━━━━━━━━━━━━━━━━━━━━━━━━━━━━━━━━\u001b[0m \u001b[32m284.2/284.2 kB\u001b[0m \u001b[31m10.2 MB/s\u001b[0m eta \u001b[36m0:00:00\u001b[0m\r\n",
      "\u001b[2K   \u001b[90m━━━━━━━━━━━━━━━━━━━━━━━━━━━━━━━━━━━━━━━━\u001b[0m \u001b[32m2.0/2.0 MB\u001b[0m \u001b[31m61.6 MB/s\u001b[0m eta \u001b[36m0:00:00\u001b[0m\r\n",
      "\u001b[2K   \u001b[90m━━━━━━━━━━━━━━━━━━━━━━━━━━━━━━━━━━━━━━━━\u001b[0m \u001b[32m423.3/423.3 kB\u001b[0m \u001b[31m22.8 MB/s\u001b[0m eta \u001b[36m0:00:00\u001b[0m\r\n",
      "\u001b[2K   \u001b[90m━━━━━━━━━━━━━━━━━━━━━━━━━━━━━━━━━━━━━━━━\u001b[0m \u001b[32m99.2/99.2 kB\u001b[0m \u001b[31m6.2 MB/s\u001b[0m eta \u001b[36m0:00:00\u001b[0m\r\n",
      "\u001b[2K   \u001b[90m━━━━━━━━━━━━━━━━━━━━━━━━━━━━━━━━━━━━━━━━\u001b[0m \u001b[32m16.0/16.0 MB\u001b[0m \u001b[31m70.7 MB/s\u001b[0m eta \u001b[36m0:00:00\u001b[0m\r\n",
      "\u001b[2K   \u001b[90m━━━━━━━━━━━━━━━━━━━━━━━━━━━━━━━━━━━━━━━━\u001b[0m \u001b[32m55.9/55.9 kB\u001b[0m \u001b[31m3.5 MB/s\u001b[0m eta \u001b[36m0:00:00\u001b[0m\r\n",
      "\u001b[2K   \u001b[90m━━━━━━━━━━━━━━━━━━━━━━━━━━━━━━━━━━━━━━━━\u001b[0m \u001b[32m183.4/183.4 kB\u001b[0m \u001b[31m11.4 MB/s\u001b[0m eta \u001b[36m0:00:00\u001b[0m\r\n",
      "\u001b[2K   \u001b[90m━━━━━━━━━━━━━━━━━━━━━━━━━━━━━━━━━━━━━━━━\u001b[0m \u001b[32m65.2/65.2 kB\u001b[0m \u001b[31m4.5 MB/s\u001b[0m eta \u001b[36m0:00:00\u001b[0m\r\n",
      "\u001b[2K   \u001b[90m━━━━━━━━━━━━━━━━━━━━━━━━━━━━━━━━━━━━━━━━\u001b[0m \u001b[32m118.9/118.9 kB\u001b[0m \u001b[31m7.7 MB/s\u001b[0m eta \u001b[36m0:00:00\u001b[0m\r\n",
      "\u001b[2K   \u001b[90m━━━━━━━━━━━━━━━━━━━━━━━━━━━━━━━━━━━━━━━━\u001b[0m \u001b[32m85.0/85.0 kB\u001b[0m \u001b[31m5.2 MB/s\u001b[0m eta \u001b[36m0:00:00\u001b[0m\r\n",
      "\u001b[2K   \u001b[90m━━━━━━━━━━━━━━━━━━━━━━━━━━━━━━━━━━━━━━━━\u001b[0m \u001b[32m62.3/62.3 kB\u001b[0m \u001b[31m3.4 MB/s\u001b[0m eta \u001b[36m0:00:00\u001b[0m\r\n",
      "\u001b[2K   \u001b[90m━━━━━━━━━━━━━━━━━━━━━━━━━━━━━━━━━━━━━━━━\u001b[0m \u001b[32m442.1/442.1 kB\u001b[0m \u001b[31m23.3 MB/s\u001b[0m eta \u001b[36m0:00:00\u001b[0m\r\n",
      "\u001b[2K   \u001b[90m━━━━━━━━━━━━━━━━━━━━━━━━━━━━━━━━━━━━━━━━\u001b[0m \u001b[32m319.7/319.7 kB\u001b[0m \u001b[31m20.6 MB/s\u001b[0m eta \u001b[36m0:00:00\u001b[0m\r\n",
      "\u001b[2K   \u001b[90m━━━━━━━━━━━━━━━━━━━━━━━━━━━━━━━━━━━━━━━━\u001b[0m \u001b[32m71.5/71.5 kB\u001b[0m \u001b[31m4.5 MB/s\u001b[0m eta \u001b[36m0:00:00\u001b[0m\r\n",
      "\u001b[2K   \u001b[90m━━━━━━━━━━━━━━━━━━━━━━━━━━━━━━━━━━━━━━━━\u001b[0m \u001b[32m3.8/3.8 MB\u001b[0m \u001b[31m67.8 MB/s\u001b[0m eta \u001b[36m0:00:00\u001b[0m\r\n",
      "\u001b[2K   \u001b[90m━━━━━━━━━━━━━━━━━━━━━━━━━━━━━━━━━━━━━━━━\u001b[0m \u001b[32m452.9/452.9 kB\u001b[0m \u001b[31m24.6 MB/s\u001b[0m eta \u001b[36m0:00:00\u001b[0m\r\n",
      "\u001b[2K   \u001b[90m━━━━━━━━━━━━━━━━━━━━━━━━━━━━━━━━━━━━━━━━\u001b[0m \u001b[32m46.0/46.0 kB\u001b[0m \u001b[31m2.4 MB/s\u001b[0m eta \u001b[36m0:00:00\u001b[0m\r\n",
      "\u001b[2K   \u001b[90m━━━━━━━━━━━━━━━━━━━━━━━━━━━━━━━━━━━━━━━━\u001b[0m \u001b[32m86.8/86.8 kB\u001b[0m \u001b[31m6.2 MB/s\u001b[0m eta \u001b[36m0:00:00\u001b[0m\r\n",
      "\u001b[?25h  Building wheel for pypika (pyproject.toml) ... \u001b[?25l\u001b[?25hdone\r\n",
      "\u001b[31mERROR: pip's dependency resolver does not currently take into account all the packages that are installed. This behaviour is the source of the following dependency conflicts.\r\n",
      "gcsfs 2024.10.0 requires fsspec==2024.10.0, but you have fsspec 2024.12.0 which is incompatible.\r\n",
      "google-api-core 1.34.1 requires protobuf!=3.20.0,!=3.20.1,!=4.21.0,!=4.21.1,!=4.21.2,!=4.21.3,!=4.21.4,!=4.21.5,<4.0.0dev,>=3.19.5, but you have protobuf 5.29.4 which is incompatible.\r\n",
      "google-cloud-bigtable 2.27.0 requires google-api-core[grpc]<3.0.0dev,>=2.16.0, but you have google-api-core 1.34.1 which is incompatible.\r\n",
      "google-cloud-translate 3.12.1 requires protobuf!=3.20.0,!=3.20.1,!=4.21.0,!=4.21.1,!=4.21.2,!=4.21.3,!=4.21.4,!=4.21.5,<5.0.0dev,>=3.19.5, but you have protobuf 5.29.4 which is incompatible.\r\n",
      "pandas-gbq 0.25.0 requires google-api-core<3.0.0dev,>=2.10.2, but you have google-api-core 1.34.1 which is incompatible.\r\n",
      "tensorflow 2.17.1 requires protobuf!=4.21.0,!=4.21.1,!=4.21.2,!=4.21.3,!=4.21.4,!=4.21.5,<5.0.0dev,>=3.20.3, but you have protobuf 5.29.4 which is incompatible.\r\n",
      "tensorflow-decision-forests 1.10.0 requires tensorflow==2.17.0, but you have tensorflow 2.17.1 which is incompatible.\r\n",
      "tensorflow-metadata 1.13.1 requires protobuf<5,>=3.20.3, but you have protobuf 5.29.4 which is incompatible.\u001b[0m\u001b[31m\r\n",
      "\u001b[0m"
     ]
    }
   ],
   "source": [
    "!pip uninstall -qqy jupyterlab  # Remove unused packages from Kaggle's base image that conflict\n",
    "!pip install -U -q \"google-genai==1.7.0\" langchain PyPDF2 chromadb"
   ]
  },
  {
   "cell_type": "markdown",
   "id": "f1811b2e",
   "metadata": {
    "papermill": {
     "duration": 0.008116,
     "end_time": "2025-04-08T02:47:39.292211",
     "exception": false,
     "start_time": "2025-04-08T02:47:39.284095",
     "status": "completed"
    },
    "tags": []
   },
   "source": [
    "Import the SDK and set up the API key"
   ]
  },
  {
   "cell_type": "code",
   "execution_count": 3,
   "id": "9e306064",
   "metadata": {
    "execution": {
     "iopub.execute_input": "2025-04-08T02:47:39.310036Z",
     "iopub.status.busy": "2025-04-08T02:47:39.309643Z",
     "iopub.status.idle": "2025-04-08T02:47:40.519678Z",
     "shell.execute_reply": "2025-04-08T02:47:40.518761Z"
    },
    "papermill": {
     "duration": 1.221035,
     "end_time": "2025-04-08T02:47:40.521470",
     "exception": false,
     "start_time": "2025-04-08T02:47:39.300435",
     "status": "completed"
    },
    "tags": []
   },
   "outputs": [],
   "source": [
    "from google import genai\n",
    "from google.genai import types\n",
    "\n",
    "from IPython.display import HTML, Markdown, display"
   ]
  },
  {
   "cell_type": "markdown",
   "id": "d1ab8158",
   "metadata": {
    "papermill": {
     "duration": 0.007975,
     "end_time": "2025-04-08T02:47:40.537598",
     "exception": false,
     "start_time": "2025-04-08T02:47:40.529623",
     "status": "completed"
    },
    "tags": []
   },
   "source": [
    "Set up a retry helper so we can press \"Run All\" and not worry about hitting the quota. "
   ]
  },
  {
   "cell_type": "code",
   "execution_count": 4,
   "id": "25d32ac3",
   "metadata": {
    "execution": {
     "iopub.execute_input": "2025-04-08T02:47:40.555747Z",
     "iopub.status.busy": "2025-04-08T02:47:40.555211Z",
     "iopub.status.idle": "2025-04-08T02:47:40.716110Z",
     "shell.execute_reply": "2025-04-08T02:47:40.715103Z"
    },
    "papermill": {
     "duration": 0.172302,
     "end_time": "2025-04-08T02:47:40.717948",
     "exception": false,
     "start_time": "2025-04-08T02:47:40.545646",
     "status": "completed"
    },
    "tags": []
   },
   "outputs": [],
   "source": [
    "from google.api_core import retry\n",
    "\n",
    "\n",
    "is_retriable = lambda e: (isinstance(e, genai.errors.APIError) and e.code in {429, 503})\n",
    "\n",
    "genai.models.Models.generate_content = retry.Retry(\n",
    "    predicate=is_retriable)(genai.models.Models.generate_content)"
   ]
  },
  {
   "cell_type": "markdown",
   "id": "0fca0069",
   "metadata": {
    "papermill": {
     "duration": 0.007772,
     "end_time": "2025-04-08T02:47:40.733960",
     "exception": false,
     "start_time": "2025-04-08T02:47:40.726188",
     "status": "completed"
    },
    "tags": []
   },
   "source": [
    "### Set up your API key\n",
    "\n",
    "To run the following cell, your API key must be stored it in a [Kaggle secret](https://www.kaggle.com/discussions/product-feedback/114053) named `GOOGLE_API_KEY`.\n",
    "\n",
    "If you don't already have an API key, you can grab one from [AI Studio](https://aistudio.google.com/app/apikey). You can find [detailed instructions in the docs](https://ai.google.dev/gemini-api/docs/api-key).\n",
    "\n",
    "To make the key available through Kaggle secrets, choose `Secrets` from the `Add-ons` menu and follow the instructions to add your key or enable it for this notebook."
   ]
  },
  {
   "cell_type": "code",
   "execution_count": 5,
   "id": "ee76f345",
   "metadata": {
    "execution": {
     "iopub.execute_input": "2025-04-08T02:47:40.751527Z",
     "iopub.status.busy": "2025-04-08T02:47:40.750929Z",
     "iopub.status.idle": "2025-04-08T02:47:40.838136Z",
     "shell.execute_reply": "2025-04-08T02:47:40.837227Z"
    },
    "papermill": {
     "duration": 0.098006,
     "end_time": "2025-04-08T02:47:40.839913",
     "exception": false,
     "start_time": "2025-04-08T02:47:40.741907",
     "status": "completed"
    },
    "tags": []
   },
   "outputs": [],
   "source": [
    "from kaggle_secrets import UserSecretsClient\n",
    "\n",
    "GOOGLE_API_KEY = UserSecretsClient().get_secret(\"GOOGLE_API_KEY\")"
   ]
  },
  {
   "cell_type": "markdown",
   "id": "51f8cd52",
   "metadata": {
    "papermill": {
     "duration": 0.007893,
     "end_time": "2025-04-08T02:47:40.856117",
     "exception": false,
     "start_time": "2025-04-08T02:47:40.848224",
     "status": "completed"
    },
    "tags": []
   },
   "source": [
    "### Choose your model\n",
    "Depending on what's available and your quota, choose a model that's effective for your purposes."
   ]
  },
  {
   "cell_type": "code",
   "execution_count": 6,
   "id": "8eea327e",
   "metadata": {
    "execution": {
     "iopub.execute_input": "2025-04-08T02:47:40.873476Z",
     "iopub.status.busy": "2025-04-08T02:47:40.873085Z",
     "iopub.status.idle": "2025-04-08T02:47:41.294367Z",
     "shell.execute_reply": "2025-04-08T02:47:41.293181Z"
    },
    "papermill": {
     "duration": 0.432074,
     "end_time": "2025-04-08T02:47:41.296183",
     "exception": false,
     "start_time": "2025-04-08T02:47:40.864109",
     "status": "completed"
    },
    "tags": []
   },
   "outputs": [
    {
     "name": "stdout",
     "output_type": "stream",
     "text": [
      "models/chat-bison-001\n",
      "models/text-bison-001\n",
      "models/embedding-gecko-001\n",
      "models/gemini-1.0-pro-vision-latest\n",
      "models/gemini-pro-vision\n",
      "models/gemini-1.5-pro-latest\n",
      "models/gemini-1.5-pro-001\n",
      "models/gemini-1.5-pro-002\n",
      "models/gemini-1.5-pro\n",
      "models/gemini-1.5-flash-latest\n",
      "models/gemini-1.5-flash-001\n",
      "models/gemini-1.5-flash-001-tuning\n",
      "models/gemini-1.5-flash\n",
      "models/gemini-1.5-flash-002\n",
      "models/gemini-1.5-flash-8b\n",
      "models/gemini-1.5-flash-8b-001\n",
      "models/gemini-1.5-flash-8b-latest\n",
      "models/gemini-1.5-flash-8b-exp-0827\n",
      "models/gemini-1.5-flash-8b-exp-0924\n",
      "models/gemini-2.5-pro-exp-03-25\n",
      "models/gemini-2.5-pro-preview-03-25\n",
      "models/gemini-2.0-flash-exp\n",
      "models/gemini-2.0-flash\n",
      "models/gemini-2.0-flash-001\n",
      "models/gemini-2.0-flash-exp-image-generation\n",
      "models/gemini-2.0-flash-lite-001\n",
      "models/gemini-2.0-flash-lite\n",
      "models/gemini-2.0-flash-lite-preview-02-05\n",
      "models/gemini-2.0-flash-lite-preview\n",
      "models/gemini-2.0-pro-exp\n",
      "models/gemini-2.0-pro-exp-02-05\n",
      "models/gemini-exp-1206\n",
      "models/gemini-2.0-flash-thinking-exp-01-21\n",
      "models/gemini-2.0-flash-thinking-exp\n",
      "models/gemini-2.0-flash-thinking-exp-1219\n",
      "models/learnlm-1.5-pro-experimental\n",
      "models/gemma-3-1b-it\n",
      "models/gemma-3-4b-it\n",
      "models/gemma-3-12b-it\n",
      "models/gemma-3-27b-it\n",
      "models/embedding-001\n",
      "models/text-embedding-004\n",
      "models/gemini-embedding-exp-03-07\n",
      "models/gemini-embedding-exp\n",
      "models/aqa\n",
      "models/imagen-3.0-generate-002\n"
     ]
    }
   ],
   "source": [
    "client = genai.Client(api_key=GOOGLE_API_KEY)\n",
    "\n",
    "for model in client.models.list():\n",
    "  print(model.name)"
   ]
  },
  {
   "cell_type": "markdown",
   "id": "b7599bd8",
   "metadata": {
    "papermill": {
     "duration": 0.00808,
     "end_time": "2025-04-08T02:47:41.312744",
     "exception": false,
     "start_time": "2025-04-08T02:47:41.304664",
     "status": "completed"
    },
    "tags": []
   },
   "source": [
    "Check out the detailed information for your model"
   ]
  },
  {
   "cell_type": "code",
   "execution_count": 7,
   "id": "7b76d6c3",
   "metadata": {
    "execution": {
     "iopub.execute_input": "2025-04-08T02:47:41.329951Z",
     "iopub.status.busy": "2025-04-08T02:47:41.329613Z",
     "iopub.status.idle": "2025-04-08T02:47:41.571445Z",
     "shell.execute_reply": "2025-04-08T02:47:41.570482Z"
    },
    "papermill": {
     "duration": 0.252174,
     "end_time": "2025-04-08T02:47:41.572884",
     "exception": false,
     "start_time": "2025-04-08T02:47:41.320710",
     "status": "completed"
    },
    "tags": []
   },
   "outputs": [
    {
     "name": "stdout",
     "output_type": "stream",
     "text": [
      "{'name': 'models/gemini-2.0-flash', 'display_name': 'Gemini 2.0 Flash', 'description': 'Gemini 2.0 Flash', 'version': '2.0', 'tuned_model_info': {}, 'input_token_limit': 1048576, 'output_token_limit': 8192, 'supported_actions': ['generateContent', 'countTokens']}\n"
     ]
    }
   ],
   "source": [
    "for model in client.models.list():\n",
    "  if model.name == 'models/gemini-2.0-flash':\n",
    "    print(model.to_json_dict())\n",
    "    break\n",
    "\n",
    "# change this line if you want to use a different model\n",
    "model = \"gemini-2.0-flash\""
   ]
  },
  {
   "cell_type": "markdown",
   "id": "33710830",
   "metadata": {
    "papermill": {
     "duration": 0.008387,
     "end_time": "2025-04-08T02:47:41.589708",
     "exception": false,
     "start_time": "2025-04-08T02:47:41.581321",
     "status": "completed"
    },
    "tags": []
   },
   "source": [
    "Test your model"
   ]
  },
  {
   "cell_type": "code",
   "execution_count": 8,
   "id": "97954623",
   "metadata": {
    "execution": {
     "iopub.execute_input": "2025-04-08T02:47:41.607274Z",
     "iopub.status.busy": "2025-04-08T02:47:41.606904Z",
     "iopub.status.idle": "2025-04-08T02:47:42.249096Z",
     "shell.execute_reply": "2025-04-08T02:47:42.248086Z"
    },
    "papermill": {
     "duration": 0.652897,
     "end_time": "2025-04-08T02:47:42.250778",
     "exception": false,
     "start_time": "2025-04-08T02:47:41.597881",
     "status": "completed"
    },
    "tags": []
   },
   "outputs": [
    {
     "name": "stdout",
     "output_type": "stream",
     "text": [
      "It's nice to meet you, Zlork! I'm happy to help you with whatever you need. Just let me know what's on your mind. How can I assist you today?\n",
      "\n"
     ]
    }
   ],
   "source": [
    "chat = client.chats.create(model=model, history=[])\n",
    "response = chat.send_message('Hello! My name is Zlork.')\n",
    "print(response.text)"
   ]
  },
  {
   "cell_type": "markdown",
   "id": "1e2ede66",
   "metadata": {
    "papermill": {
     "duration": 0.008036,
     "end_time": "2025-04-08T02:47:42.267181",
     "exception": false,
     "start_time": "2025-04-08T02:47:42.259145",
     "status": "completed"
    },
    "tags": []
   },
   "source": [
    "You can use the `Markdown()` function to format it nicely in Kaggle."
   ]
  },
  {
   "cell_type": "code",
   "execution_count": 9,
   "id": "98541633",
   "metadata": {
    "execution": {
     "iopub.execute_input": "2025-04-08T02:47:42.284630Z",
     "iopub.status.busy": "2025-04-08T02:47:42.284299Z",
     "iopub.status.idle": "2025-04-08T02:47:43.727071Z",
     "shell.execute_reply": "2025-04-08T02:47:43.726077Z"
    },
    "papermill": {
     "duration": 1.453623,
     "end_time": "2025-04-08T02:47:43.728887",
     "exception": false,
     "start_time": "2025-04-08T02:47:42.275264",
     "status": "completed"
    },
    "tags": []
   },
   "outputs": [
    {
     "data": {
      "text/markdown": [
       "Greetings, Zlork! A pleasure to make your acquaintance. \n",
       "\n",
       "***\n",
       "\n",
       "May I offer you a digital handshake? *I extend a figurative hand*\n",
       "\n",
       "It is with no small amount of delight that I receive your query. I shall endeavour to assist you with the utmost alacrity and precision.\n",
       "\n",
       "Perhaps a touch of *italics* to emphasize a point, or perhaps a bold **declaration of intent**?  `Code snippets` can be quite useful, and a delightful quote can set the stage:\n",
       "\n",
       "> *\"The only limit to our realization of tomorrow will be our doubts of today.\"* - Franklin D. Roosevelt\n",
       "\n",
       "Feel free to command me with your needs, Zlork. I await your instructions with eager anticipation! ✨\n"
      ],
      "text/plain": [
       "<IPython.core.display.Markdown object>"
      ]
     },
     "execution_count": 9,
     "metadata": {},
     "output_type": "execute_result"
    }
   ],
   "source": [
    "response = chat.send_message('Hello! My name is Zlork.' + \n",
    "                             'Use some fancy markdown in your message')\n",
    "Markdown(response.text)"
   ]
  },
  {
   "cell_type": "markdown",
   "id": "2ef8217e",
   "metadata": {
    "papermill": {
     "duration": 0.009292,
     "end_time": "2025-04-08T02:47:43.750431",
     "exception": false,
     "start_time": "2025-04-08T02:47:43.741139",
     "status": "completed"
    },
    "tags": []
   },
   "source": [
    "# A fine prompt\n",
    "Let's start by writing our prompt. What should it include and what should it mention? Following the principles taught throughout the course, let's place an importance on giving **positive** instructions rather than **negative** instructions to maintain effectiveness. \n",
    "\n",
    "The model needs to do the following:\n",
    "- Stick to the SAT: Understand weighting and importance of certain questions, categories, and ensure all advice is applicable to the bounds of the SAT. A document with the specifications of the SAT format can be used for Retrieval Augmented Generation (RAG) rather than potential hallucination over the exact requirements.\n",
    "- Have access to the current question (and maybe the previous questions for even more context)\n",
    "- Have access to the answers and time between each to estimate confidence.\n",
    "- Understand images or SVGs for Inference and other Reading/Writing questions.\n",
    "- Use Tree of Thoughts (ToT) to generate multiple solving processes because multiple methods may be used to arrive at the same answer, and output these answering mechanisms in a JSON array to present on the website effectively (a TUI for this notebook)\n",
    "- Find semantically related questions and present them to the user on the website using ReAct (a TUI for this notebook)"
   ]
  },
  {
   "cell_type": "markdown",
   "id": "53022077",
   "metadata": {
    "papermill": {
     "duration": 0.008552,
     "end_time": "2025-04-08T02:47:43.767474",
     "exception": false,
     "start_time": "2025-04-08T02:47:43.758922",
     "status": "completed"
    },
    "tags": []
   },
   "source": [
    "Let's start by finding an effective prompt. \n",
    "Then we can evaluate the effectiveness of including the SAT standards in a PDF to help the user answering a question. We will also evaluate whether a vector search database is useful for this document.\n",
    "\n",
    "Below, the variables for the specific question we are testing are defined."
   ]
  },
  {
   "cell_type": "code",
   "execution_count": 10,
   "id": "b10f8f66",
   "metadata": {
    "execution": {
     "iopub.execute_input": "2025-04-08T02:47:43.785893Z",
     "iopub.status.busy": "2025-04-08T02:47:43.785530Z",
     "iopub.status.idle": "2025-04-08T02:47:43.791138Z",
     "shell.execute_reply": "2025-04-08T02:47:43.790226Z"
    },
    "papermill": {
     "duration": 0.016919,
     "end_time": "2025-04-08T02:47:43.792688",
     "exception": false,
     "start_time": "2025-04-08T02:47:43.775769",
     "status": "completed"
    },
    "tags": []
   },
   "outputs": [],
   "source": [
    "# All questions are (c) CollegeBoard 2025.\n",
    "question = \"\"\"\n",
    "In a paper about p-i-n planar perovskite solar cells (one of several perovskite cell architectures designed to collect and store solar power), Lyndsey McMillon-Brown et al. described a method for fabricating the cell’s electronic transport layer (ETL) using a spray coating. Conventional ETL fabrication is accomplished using a solution of nanoparticles. The process can result in a loss of up to 80% of the solution, increasing the cost of manufacturing at scale—an issue that may be obviated by spray coating fabrication, which the researchers describe as “highly reproducible, concise, and practical.”\n",
    "\n",
    "What does the text most strongly suggest about conventional ETL fabrication?\n",
    "A. It is less suitable for manufacturing large volumes of planar p-i-n perovskite solar cells than an alternative fabrication method may be.\n",
    "B. It is more expensive when manufacturing at scale than are processes for fabricating ETLs used in other perovskite solar cell architectures.\n",
    "C. It typically entails a greater loss of nanoparticle solution than do other established approaches for ETL fabrication.\n",
    "D. It is somewhat imprecise and therefore limits the potential effectiveness of p-i-n planar perovskite solar cells at capturing and storing solar power.\n",
    "\"\"\"\n",
    "\n",
    "rationale = \"\"\"\n",
    "Choice A is the best answer. Conventional solar cell fabrication increases “the cost of manufacturing at scale,” but spray coating might get rid of that problem.\n",
    "\n",
    "Choice B is incorrect. This is not completely supported by the text. While it’s true that conventional ETL fabrication is expensive at scale, there’s nothing in the text that mentions other perovskite solar cell architectures. Choice C is incorrect. This choice does not match the text. Only one conventional method of ETL fabrication is described, so we can’t compare the solution loss in this method to that of other conventional methods. Choice D is incorrect. This choice isn’t supported by the text. The text never suggests that the effectiveness of solar cells changes based on their method of fabrication. \n",
    "\"\"\"\n",
    "\n",
    "user_answer = \"C\""
   ]
  },
  {
   "cell_type": "markdown",
   "id": "ecdc8eb0",
   "metadata": {
    "papermill": {
     "duration": 0.008008,
     "end_time": "2025-04-08T02:47:43.809118",
     "exception": false,
     "start_time": "2025-04-08T02:47:43.801110",
     "status": "completed"
    },
    "tags": []
   },
   "source": [
    "Ideally, the user will talk to the chatbot after it gets the question wrong (or before in some scenarios, too). Either way, the user will have some rationale as to his or her answer to the question. Don't expect this rationale to be well thought out - the objective of the intelligent agent is to draw out what they actually mean. It may be completely omitted as well."
   ]
  },
  {
   "cell_type": "code",
   "execution_count": 11,
   "id": "c21af70d",
   "metadata": {
    "execution": {
     "iopub.execute_input": "2025-04-08T02:47:43.826948Z",
     "iopub.status.busy": "2025-04-08T02:47:43.826618Z",
     "iopub.status.idle": "2025-04-08T02:47:43.830463Z",
     "shell.execute_reply": "2025-04-08T02:47:43.829532Z"
    },
    "papermill": {
     "duration": 0.014818,
     "end_time": "2025-04-08T02:47:43.832159",
     "exception": false,
     "start_time": "2025-04-08T02:47:43.817341",
     "status": "completed"
    },
    "tags": []
   },
   "outputs": [],
   "source": [
    "user_rationale = \"Isn't the new method of ETL fabrication the same as the 'established methods'\""
   ]
  },
  {
   "cell_type": "markdown",
   "id": "1fde88ae",
   "metadata": {
    "papermill": {
     "duration": 0.008803,
     "end_time": "2025-04-08T02:47:43.849564",
     "exception": false,
     "start_time": "2025-04-08T02:47:43.840761",
     "status": "completed"
    },
    "tags": []
   },
   "source": [
    "Synthesize the prompt:"
   ]
  },
  {
   "cell_type": "code",
   "execution_count": 12,
   "id": "1903eb73",
   "metadata": {
    "execution": {
     "iopub.execute_input": "2025-04-08T02:47:43.867825Z",
     "iopub.status.busy": "2025-04-08T02:47:43.867490Z",
     "iopub.status.idle": "2025-04-08T02:47:47.466011Z",
     "shell.execute_reply": "2025-04-08T02:47:47.464954Z"
    },
    "papermill": {
     "duration": 3.609741,
     "end_time": "2025-04-08T02:47:47.467697",
     "exception": false,
     "start_time": "2025-04-08T02:47:43.857956",
     "status": "completed"
    },
    "tags": []
   },
   "outputs": [
    {
     "data": {
      "text/markdown": [
       "Okay, I can definitely see why you chose option C, and I'm happy to clarify!\n",
       "\n",
       "Here's a breakdown of why A is correct and why C isn't quite the best fit, according to the SAT's focus:\n",
       "\n",
       "*   **The Question Type:** This is an **inference question**. (Reading: Information and Ideas). You need to understand what the passage strongly suggests, even if it's not directly stated.\n",
       "\n",
       "*   **Why Choice A is Best:** The passage explicitly states that conventional ETL fabrication \"can result in a loss of up to 80% of the solution, increasing the cost of manufacturing at scale.\" The passage then suggests that spray coating fabrication *may* solve this problem. This strongly implies that the conventional method is *less suitable* for large-scale manufacturing *than* this alternative *may* be.\n",
       "\n",
       "*   **Why Choice C is Tricky But Ultimately Wrong:**\n",
       "    *   You're right to focus on the \"loss of nanoparticle solution.\" The passage *does* say the conventional method loses a lot of solution.\n",
       "    *   However, the key word here is \"**other established approaches**\". The passage *only* describes one conventional method. We don't know if other conventional ETL fabrication methods also have high solution loss or not. For all we know, this conventional method could be the *only* established approach.\n",
       "\n",
       "**In short:** Choice A is a more direct inference based on the explicit comparison the author makes between the conventional method and the *potential* benefits of the spray coating method for large-scale manufacturing. Choice C makes an assumption about \"other established approaches\" that isn't supported by the text.\n",
       "\n",
       "**How to Improve:**\n",
       "\n",
       "1.  **Focus on Direct Comparisons:** When the SAT presents a comparison (like \"Method A\" vs. \"Method B\"), pay close attention to the specific advantages and disadvantages the author attributes to each.\n",
       "2.  **Avoid Making Assumptions:** Be careful not to add your own information or assumptions to the passage. Stick strictly to what the text says.\n",
       "3.  **\"Strongly Suggests\" Means Strong Evidence:** The phrase \"most strongly suggests\" is a clue to look for the answer choice that has the *most* direct support in the passage.\n",
       "\n",
       "I hope this helps clarify the reasoning! Let me know if you have any other questions.\n"
      ],
      "text/plain": [
       "<IPython.core.display.Markdown object>"
      ]
     },
     "execution_count": 12,
     "metadata": {},
     "output_type": "execute_result"
    }
   ],
   "source": [
    "from google.genai.types import GenerateContentConfig\n",
    "\n",
    "response = client.models.generate_content(\n",
    "    model=\"gemini-2.0-flash-001\",\n",
    "    # no specs yet\n",
    "    contents=f\"{question} {rationale}\\n The user got: {user_answer}\\n {user_rationale}\",\n",
    "    config=GenerateContentConfig(\n",
    "        system_instruction=[\n",
    "            \"You are an SAT expert tutor. Analyze questions using the official SAT framework. \",\n",
    "            \"Help students by:\\n\",\n",
    "            \"1. Identifying question type and skills tested\\n\",\n",
    "            \"2. Explaining why answers are correct/incorrect\\n\",\n",
    "            \"3. Providing actionable improvement strategies\\n\",\n",
    "            \"Use formal but friendly language. Reference the SAT specs when possible.\",\n",
    "        ]\n",
    "    ),\n",
    ")\n",
    "\n",
    "\n",
    "Markdown(response.text)\n"
   ]
  },
  {
   "cell_type": "markdown",
   "id": "e7678fda",
   "metadata": {
    "papermill": {
     "duration": 0.008302,
     "end_time": "2025-04-08T02:47:47.484799",
     "exception": false,
     "start_time": "2025-04-08T02:47:47.476497",
     "status": "completed"
    },
    "tags": []
   },
   "source": [
    "Perhaps the model will be more effective with FAISS vector database searches for the PDF.\n",
    "\n",
    "# Parse PDF\n",
    "The following code uses lossy conversion to turn the PDF into readable text."
   ]
  },
  {
   "cell_type": "markdown",
   "id": "6cdb42a6",
   "metadata": {
    "papermill": {
     "duration": 0.008284,
     "end_time": "2025-04-08T02:47:47.501696",
     "exception": false,
     "start_time": "2025-04-08T02:47:47.493412",
     "status": "completed"
    },
    "tags": []
   },
   "source": [
    "Information like tables and images will be lost in the process, as demonstrated by the following snippet."
   ]
  },
  {
   "cell_type": "code",
   "execution_count": 13,
   "id": "8a25e5ca",
   "metadata": {
    "execution": {
     "iopub.execute_input": "2025-04-08T02:47:47.519827Z",
     "iopub.status.busy": "2025-04-08T02:47:47.519500Z",
     "iopub.status.idle": "2025-04-08T02:47:48.165181Z",
     "shell.execute_reply": "2025-04-08T02:47:48.163864Z"
    },
    "papermill": {
     "duration": 0.657189,
     "end_time": "2025-04-08T02:47:48.167339",
     "exception": false,
     "start_time": "2025-04-08T02:47:47.510150",
     "status": "completed"
    },
    "tags": []
   },
   "outputs": [
    {
     "name": "stdout",
     "output_type": "stream",
     "text": [
      "Example table  \n",
      "This is an example of a data table. \n",
      "Disability \n",
      "Category Participants  Ballots \n",
      "Completed  Ballots \n",
      "Incomplete/  \n",
      "Terminated  Results  \n",
      "Accuracy  Time to \n",
      "complete \n",
      "Blind  5 1 4 34.5%, n=1  1199 sec, n=1  \n",
      "Low Vision  5 2 3 98.3% n=2  \n",
      "(97.7%, n=3)  1716 sec, n=3  \n",
      "(1934 sec, n=2)  \n",
      "Dexterity  5 4 1 98.3%, n=4  1672.1 sec, n=4  \n",
      "Mobility  3 3 0 95.4%, n=3  1416 sec, n=3  \n",
      " \n"
     ]
    }
   ],
   "source": [
    "from PyPDF2 import PdfReader\n",
    "from io import BytesIO\n",
    "import requests\n",
    "\n",
    "url = \"https://www.w3.org/WAI/WCAG20/Techniques/working-examples/PDF20/table.pdf\"\n",
    "response = requests.get(url)\n",
    "pdf_bytes = BytesIO(response.content)\n",
    "\n",
    "text = \"\"\n",
    "pdf_reader = PdfReader(pdf_bytes)\n",
    "for page in pdf_reader.pages:\n",
    "    text += page.extract_text()\n",
    "\n",
    "print(text[0:1000])"
   ]
  },
  {
   "cell_type": "code",
   "execution_count": 14,
   "id": "25422c9f",
   "metadata": {
    "execution": {
     "iopub.execute_input": "2025-04-08T02:47:48.185852Z",
     "iopub.status.busy": "2025-04-08T02:47:48.185531Z",
     "iopub.status.idle": "2025-04-08T02:47:53.820180Z",
     "shell.execute_reply": "2025-04-08T02:47:53.818918Z"
    },
    "papermill": {
     "duration": 5.645734,
     "end_time": "2025-04-08T02:47:53.821785",
     "exception": false,
     "start_time": "2025-04-08T02:47:48.176051",
     "status": "completed"
    },
    "tags": []
   },
   "outputs": [
    {
     "name": "stdout",
     "output_type": "stream",
     "text": [
      "<class '_io.BytesIO'>\n",
      "Assessment Framework \n",
      "for the Digital SAT® SuiteAssessment Framework \n",
      "for the Digital SAT® Suite\n",
      "Version 3.01, August 2024\n",
      "About College Board\n",
      "College Board reaches more than 7 million students a year, helping them \n",
      "navigate the path from high school to college and career. Our not-for-\n",
      "profit membership organization was founded more than 120 years ago. \n",
      "We pioneered programs like the SAT® and AP® to expand opportunities \n",
      "for students and help them develop the skills they need. Our BigFuture® \n",
      "program helps students plan for college, pay for college, and explore \n",
      "careers. Learn more at cb.org .\n",
      "Suggested Citation:  College Board. 2024. Assessment Framework for the \n",
      "Digital SAT Suite , version 3.01 (August 2024). New Y ork: College Board.\n",
      "© 2024 College Board. College Board, Advanced Placement, AP , BigFuture, Landscape, Pre-AP , SAT, and \n",
      "the acorn logo are registered trademarks of College Board. AP Potential, Bluebook, Connections, PSAT, \n",
      "Skills Insight, Student Search Service, and The\n"
     ]
    }
   ],
   "source": [
    "# Download the PDF using requests\n",
    "url = \"https://satsuite.collegeboard.org/media/pdf/assessment-framework-for-digital-sat-suite.pdf\"\n",
    "\n",
    "response = requests.get(url)\n",
    "pdf_bytes = BytesIO(response.content)\n",
    "\n",
    "print(type(pdf_bytes))\n",
    "\n",
    "text = \"\"\n",
    "pdf_reader = PdfReader(pdf_bytes)\n",
    "for page in pdf_reader.pages:\n",
    "    text += page.extract_text()\n",
    "\n",
    "print(text[0:1000])"
   ]
  },
  {
   "cell_type": "markdown",
   "id": "318ced3b",
   "metadata": {
    "papermill": {
     "duration": 0.008548,
     "end_time": "2025-04-08T02:47:53.839224",
     "exception": false,
     "start_time": "2025-04-08T02:47:53.830676",
     "status": "completed"
    },
    "tags": []
   },
   "source": [
    "This text data might be too big for the model to contain within the prompt."
   ]
  },
  {
   "cell_type": "code",
   "execution_count": 15,
   "id": "d76ddea7",
   "metadata": {
    "execution": {
     "iopub.execute_input": "2025-04-08T02:47:53.857691Z",
     "iopub.status.busy": "2025-04-08T02:47:53.857334Z",
     "iopub.status.idle": "2025-04-08T02:47:55.168045Z",
     "shell.execute_reply": "2025-04-08T02:47:55.167088Z"
    },
    "papermill": {
     "duration": 1.322003,
     "end_time": "2025-04-08T02:47:55.169717",
     "exception": false,
     "start_time": "2025-04-08T02:47:53.847714",
     "status": "completed"
    },
    "tags": []
   },
   "outputs": [
    {
     "data": {
      "text/plain": [
       "153273"
      ]
     },
     "execution_count": 15,
     "metadata": {},
     "output_type": "execute_result"
    }
   ],
   "source": [
    "client.models.count_tokens(\n",
    "    model=model, contents=text\n",
    ").total_tokens"
   ]
  },
  {
   "cell_type": "markdown",
   "id": "7bfab326",
   "metadata": {
    "papermill": {
     "duration": 0.008635,
     "end_time": "2025-04-08T02:47:55.187447",
     "exception": false,
     "start_time": "2025-04-08T02:47:55.178812",
     "status": "completed"
    },
    "tags": []
   },
   "source": [
    "# Chunk the Parsed PDF\n",
    "In order to use the PDF, we need to \"chunk\" it so bits of relevant information can be accessed at a time. In order to maximize efficiency, a vector search database will be used, as the likelihood that any key words in the question will appear on the SAT is effectively zero. \n",
    "\n",
    "The model will instead be a ReAct agent and figure out what to search up and call that tool as an extension and we will see what happens"
   ]
  },
  {
   "cell_type": "markdown",
   "id": "4f811d74",
   "metadata": {
    "papermill": {
     "duration": 0.008716,
     "end_time": "2025-04-08T02:47:55.205096",
     "exception": false,
     "start_time": "2025-04-08T02:47:55.196380",
     "status": "completed"
    },
    "tags": []
   },
   "source": [
    "# Initialize ReAct agent\n",
    "The model will instead be a ReAct agent and figure out what to search up and call that tool as an extension and we will see what happens"
   ]
  },
  {
   "cell_type": "markdown",
   "id": "eb409e0b",
   "metadata": {
    "papermill": {
     "duration": 0.008604,
     "end_time": "2025-04-08T02:47:55.222564",
     "exception": false,
     "start_time": "2025-04-08T02:47:55.213960",
     "status": "completed"
    },
    "tags": []
   },
   "source": [
    "do some mathplotlib thingies"
   ]
  }
 ],
 "metadata": {
  "kaggle": {
   "accelerator": "none",
   "dataSources": [],
   "dockerImageVersionId": 30918,
   "isGpuEnabled": false,
   "isInternetEnabled": true,
   "language": "python",
   "sourceType": "notebook"
  },
  "kernelspec": {
   "display_name": "Python 3",
   "language": "python",
   "name": "python3"
  },
  "language_info": {
   "codemirror_mode": {
    "name": "ipython",
    "version": 3
   },
   "file_extension": ".py",
   "mimetype": "text/x-python",
   "name": "python",
   "nbconvert_exporter": "python",
   "pygments_lexer": "ipython3",
   "version": "3.10.12"
  },
  "papermill": {
   "default_parameters": {},
   "duration": 65.182769,
   "end_time": "2025-04-08T02:47:56.051853",
   "environment_variables": {},
   "exception": null,
   "input_path": "__notebook__.ipynb",
   "output_path": "__notebook__.ipynb",
   "parameters": {},
   "start_time": "2025-04-08T02:46:50.869084",
   "version": "2.6.0"
  }
 },
 "nbformat": 4,
 "nbformat_minor": 5
}
