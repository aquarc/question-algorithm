{
 "cells": [
  {
   "cell_type": "code",
   "execution_count": 1,
   "id": "fb5592bf",
   "metadata": {
    "_cell_guid": "b1076dfc-b9ad-4769-8c92-a6c4dae69d19",
    "_uuid": "8f2839f25d086af736a60e9eeb907d3b93b6e0e5",
    "execution": {
     "iopub.execute_input": "2025-04-11T03:15:53.359707Z",
     "iopub.status.busy": "2025-04-11T03:15:53.359242Z",
     "iopub.status.idle": "2025-04-11T03:15:54.364946Z",
     "shell.execute_reply": "2025-04-11T03:15:54.363485Z"
    },
    "papermill": {
     "duration": 1.019025,
     "end_time": "2025-04-11T03:15:54.367785",
     "exception": false,
     "start_time": "2025-04-11T03:15:53.348760",
     "status": "completed"
    },
    "tags": []
   },
   "outputs": [],
   "source": [
    "# This Python 3 environment comes with many helpful analytics libraries installed\n",
    "# It is defined by the kaggle/python Docker image: https://github.com/kaggle/docker-python\n",
    "# For example, here's several helpful packages to load\n",
    "\n",
    "import numpy as np # linear algebra\n",
    "import pandas as pd # data processing, CSV file I/O (e.g. pd.read_csv)\n",
    "\n",
    "# Input data files are available in the read-only \"../input/\" directory\n",
    "# For example, running this (by clicking run or pressing Shift+Enter) will list all files under the input directory\n",
    "\n",
    "import os\n",
    "for dirname, _, filenames in os.walk('/kaggle/input'):\n",
    "    for filename in filenames:\n",
    "        print(os.path.join(dirname, filename))\n",
    "\n",
    "# You can write up to 20GB to the current directory (/kaggle/working/) that gets preserved as output when you create a version using \"Save & Run All\" \n",
    "# You can also write temporary files to /kaggle/temp/, but they won't be saved outside of the current session"
   ]
  },
  {
   "cell_type": "markdown",
   "id": "4305e7e4",
   "metadata": {
    "papermill": {
     "duration": 0.009495,
     "end_time": "2025-04-11T03:15:54.388049",
     "exception": false,
     "start_time": "2025-04-11T03:15:54.378554",
     "status": "completed"
    },
    "tags": []
   },
   "source": [
    "Some parts of this Codelab are (c) Google 2025 under the Apache License.\n",
    "(c) Aquarc 2025"
   ]
  },
  {
   "cell_type": "markdown",
   "id": "94c22a75",
   "metadata": {
    "papermill": {
     "duration": 0.008613,
     "end_time": "2025-04-11T03:15:54.405256",
     "exception": false,
     "start_time": "2025-04-11T03:15:54.396643",
     "status": "completed"
    },
    "tags": []
   },
   "source": [
    "# Synopsis\n",
    "Aquarc is an all-in-one SAT platform for high schoolers designed to minimize time spent using the software and maximizing practice and essential questions. In order to further this mission, Aquarc Intelligence was created to analyze mistakes within a question and to suggest similar questions for efficient practicing."
   ]
  },
  {
   "cell_type": "markdown",
   "id": "4643a00d",
   "metadata": {
    "papermill": {
     "duration": 0.007861,
     "end_time": "2025-04-11T03:15:54.421356",
     "exception": false,
     "start_time": "2025-04-11T03:15:54.413495",
     "status": "completed"
    },
    "tags": []
   },
   "source": [
    "# Install the SDK \n",
    "We will be using Google's Gemini and utilities to build the model."
   ]
  },
  {
   "cell_type": "code",
   "execution_count": 2,
   "id": "c3a77c8d",
   "metadata": {
    "execution": {
     "iopub.execute_input": "2025-04-11T03:15:54.439390Z",
     "iopub.status.busy": "2025-04-11T03:15:54.438871Z",
     "iopub.status.idle": "2025-04-11T03:16:44.019033Z",
     "shell.execute_reply": "2025-04-11T03:16:44.017714Z"
    },
    "papermill": {
     "duration": 49.59152,
     "end_time": "2025-04-11T03:16:44.021224",
     "exception": false,
     "start_time": "2025-04-11T03:15:54.429704",
     "status": "completed"
    },
    "tags": []
   },
   "outputs": [
    {
     "name": "stdout",
     "output_type": "stream",
     "text": [
      "\u001b[2K     \u001b[90m━━━━━━━━━━━━━━━━━━━━━━━━━━━━━━━━━━━━━━━━\u001b[0m \u001b[32m67.3/67.3 kB\u001b[0m \u001b[31m3.2 MB/s\u001b[0m eta \u001b[36m0:00:00\u001b[0m\r\n",
      "\u001b[?25h  Installing build dependencies ... \u001b[?25l\u001b[?25hdone\r\n",
      "  Getting requirements to build wheel ... \u001b[?25l\u001b[?25hdone\r\n",
      "  Preparing metadata (pyproject.toml) ... \u001b[?25l\u001b[?25hdone\r\n",
      "\u001b[2K   \u001b[90m━━━━━━━━━━━━━━━━━━━━━━━━━━━━━━━━━━━━━━━━\u001b[0m \u001b[32m144.7/144.7 kB\u001b[0m \u001b[31m5.2 MB/s\u001b[0m eta \u001b[36m0:00:00\u001b[0m\r\n",
      "\u001b[2K   \u001b[90m━━━━━━━━━━━━━━━━━━━━━━━━━━━━━━━━━━━━━━━━\u001b[0m \u001b[32m611.1/611.1 kB\u001b[0m \u001b[31m16.2 MB/s\u001b[0m eta \u001b[36m0:00:00\u001b[0m\r\n",
      "\u001b[2K   \u001b[90m━━━━━━━━━━━━━━━━━━━━━━━━━━━━━━━━━━━━━━━━\u001b[0m \u001b[32m2.4/2.4 MB\u001b[0m \u001b[31m49.7 MB/s\u001b[0m eta \u001b[36m0:00:00\u001b[0m\r\n",
      "\u001b[2K   \u001b[90m━━━━━━━━━━━━━━━━━━━━━━━━━━━━━━━━━━━━━━━━\u001b[0m \u001b[32m1.0/1.0 MB\u001b[0m \u001b[31m35.7 MB/s\u001b[0m eta \u001b[36m0:00:00\u001b[0m\r\n",
      "\u001b[2K   \u001b[90m━━━━━━━━━━━━━━━━━━━━━━━━━━━━━━━━━━━━━━━━\u001b[0m \u001b[32m232.6/232.6 kB\u001b[0m \u001b[31m10.9 MB/s\u001b[0m eta \u001b[36m0:00:00\u001b[0m\r\n",
      "\u001b[2K   \u001b[90m━━━━━━━━━━━━━━━━━━━━━━━━━━━━━━━━━━━━━━━━\u001b[0m \u001b[32m100.9/100.9 kB\u001b[0m \u001b[31m3.8 MB/s\u001b[0m eta \u001b[36m0:00:00\u001b[0m\r\n",
      "\u001b[2K   \u001b[90m━━━━━━━━━━━━━━━━━━━━━━━━━━━━━━━━━━━━━━━━\u001b[0m \u001b[32m284.2/284.2 kB\u001b[0m \u001b[31m13.9 MB/s\u001b[0m eta \u001b[36m0:00:00\u001b[0m\r\n",
      "\u001b[2K   \u001b[90m━━━━━━━━━━━━━━━━━━━━━━━━━━━━━━━━━━━━━━━━\u001b[0m \u001b[32m95.2/95.2 kB\u001b[0m \u001b[31m5.1 MB/s\u001b[0m eta \u001b[36m0:00:00\u001b[0m\r\n",
      "\u001b[2K   \u001b[90m━━━━━━━━━━━━━━━━━━━━━━━━━━━━━━━━━━━━━━━━\u001b[0m \u001b[32m2.0/2.0 MB\u001b[0m \u001b[31m55.3 MB/s\u001b[0m eta \u001b[36m0:00:00\u001b[0m\r\n",
      "\u001b[2K   \u001b[90m━━━━━━━━━━━━━━━━━━━━━━━━━━━━━━━━━━━━━━━━\u001b[0m \u001b[32m423.3/423.3 kB\u001b[0m \u001b[31m18.8 MB/s\u001b[0m eta \u001b[36m0:00:00\u001b[0m\r\n",
      "\u001b[2K   \u001b[90m━━━━━━━━━━━━━━━━━━━━━━━━━━━━━━━━━━━━━━━━\u001b[0m \u001b[32m99.2/99.2 kB\u001b[0m \u001b[31m4.6 MB/s\u001b[0m eta \u001b[36m0:00:00\u001b[0m\r\n",
      "\u001b[2K   \u001b[90m━━━━━━━━━━━━━━━━━━━━━━━━━━━━━━━━━━━━━━━━\u001b[0m \u001b[32m16.0/16.0 MB\u001b[0m \u001b[31m79.8 MB/s\u001b[0m eta \u001b[36m0:00:00\u001b[0m\r\n",
      "\u001b[2K   \u001b[90m━━━━━━━━━━━━━━━━━━━━━━━━━━━━━━━━━━━━━━━━\u001b[0m \u001b[32m55.9/55.9 kB\u001b[0m \u001b[31m2.9 MB/s\u001b[0m eta \u001b[36m0:00:00\u001b[0m\r\n",
      "\u001b[2K   \u001b[90m━━━━━━━━━━━━━━━━━━━━━━━━━━━━━━━━━━━━━━━━\u001b[0m \u001b[32m188.4/188.4 kB\u001b[0m \u001b[31m11.9 MB/s\u001b[0m eta \u001b[36m0:00:00\u001b[0m\r\n",
      "\u001b[2K   \u001b[90m━━━━━━━━━━━━━━━━━━━━━━━━━━━━━━━━━━━━━━━━\u001b[0m \u001b[32m65.3/65.3 kB\u001b[0m \u001b[31m3.8 MB/s\u001b[0m eta \u001b[36m0:00:00\u001b[0m\r\n",
      "\u001b[2K   \u001b[90m━━━━━━━━━━━━━━━━━━━━━━━━━━━━━━━━━━━━━━━━\u001b[0m \u001b[32m119.0/119.0 kB\u001b[0m \u001b[31m6.2 MB/s\u001b[0m eta \u001b[36m0:00:00\u001b[0m\r\n",
      "\u001b[2K   \u001b[90m━━━━━━━━━━━━━━━━━━━━━━━━━━━━━━━━━━━━━━━━\u001b[0m \u001b[32m85.2/85.2 kB\u001b[0m \u001b[31m4.1 MB/s\u001b[0m eta \u001b[36m0:00:00\u001b[0m\r\n",
      "\u001b[2K   \u001b[90m━━━━━━━━━━━━━━━━━━━━━━━━━━━━━━━━━━━━━━━━\u001b[0m \u001b[32m62.3/62.3 kB\u001b[0m \u001b[31m3.0 MB/s\u001b[0m eta \u001b[36m0:00:00\u001b[0m\r\n",
      "\u001b[2K   \u001b[90m━━━━━━━━━━━━━━━━━━━━━━━━━━━━━━━━━━━━━━━━\u001b[0m \u001b[32m442.1/442.1 kB\u001b[0m \u001b[31m20.0 MB/s\u001b[0m eta \u001b[36m0:00:00\u001b[0m\r\n",
      "\u001b[2K   \u001b[90m━━━━━━━━━━━━━━━━━━━━━━━━━━━━━━━━━━━━━━━━\u001b[0m \u001b[32m319.7/319.7 kB\u001b[0m \u001b[31m16.9 MB/s\u001b[0m eta \u001b[36m0:00:00\u001b[0m\r\n",
      "\u001b[2K   \u001b[90m━━━━━━━━━━━━━━━━━━━━━━━━━━━━━━━━━━━━━━━━\u001b[0m \u001b[32m72.0/72.0 kB\u001b[0m \u001b[31m4.0 MB/s\u001b[0m eta \u001b[36m0:00:00\u001b[0m\r\n",
      "\u001b[2K   \u001b[90m━━━━━━━━━━━━━━━━━━━━━━━━━━━━━━━━━━━━━━━━\u001b[0m \u001b[32m3.8/3.8 MB\u001b[0m \u001b[31m73.5 MB/s\u001b[0m eta \u001b[36m0:00:00\u001b[0m\r\n",
      "\u001b[2K   \u001b[90m━━━━━━━━━━━━━━━━━━━━━━━━━━━━━━━━━━━━━━━━\u001b[0m \u001b[32m454.9/454.9 kB\u001b[0m \u001b[31m19.2 MB/s\u001b[0m eta \u001b[36m0:00:00\u001b[0m\r\n",
      "\u001b[2K   \u001b[90m━━━━━━━━━━━━━━━━━━━━━━━━━━━━━━━━━━━━━━━━\u001b[0m \u001b[32m46.0/46.0 kB\u001b[0m \u001b[31m2.1 MB/s\u001b[0m eta \u001b[36m0:00:00\u001b[0m\r\n",
      "\u001b[2K   \u001b[90m━━━━━━━━━━━━━━━━━━━━━━━━━━━━━━━━━━━━━━━━\u001b[0m \u001b[32m86.8/86.8 kB\u001b[0m \u001b[31m4.4 MB/s\u001b[0m eta \u001b[36m0:00:00\u001b[0m\r\n",
      "\u001b[?25h  Building wheel for pypika (pyproject.toml) ... \u001b[?25l\u001b[?25hdone\r\n",
      "\u001b[31mERROR: pip's dependency resolver does not currently take into account all the packages that are installed. This behaviour is the source of the following dependency conflicts.\r\n",
      "gcsfs 2024.10.0 requires fsspec==2024.10.0, but you have fsspec 2024.12.0 which is incompatible.\r\n",
      "google-api-core 1.34.1 requires protobuf!=3.20.0,!=3.20.1,!=4.21.0,!=4.21.1,!=4.21.2,!=4.21.3,!=4.21.4,!=4.21.5,<4.0.0dev,>=3.19.5, but you have protobuf 5.29.4 which is incompatible.\r\n",
      "google-cloud-bigtable 2.27.0 requires google-api-core[grpc]<3.0.0dev,>=2.16.0, but you have google-api-core 1.34.1 which is incompatible.\r\n",
      "google-cloud-translate 3.12.1 requires protobuf!=3.20.0,!=3.20.1,!=4.21.0,!=4.21.1,!=4.21.2,!=4.21.3,!=4.21.4,!=4.21.5,<5.0.0dev,>=3.19.5, but you have protobuf 5.29.4 which is incompatible.\r\n",
      "pandas-gbq 0.25.0 requires google-api-core<3.0.0dev,>=2.10.2, but you have google-api-core 1.34.1 which is incompatible.\r\n",
      "tensorflow 2.17.1 requires protobuf!=4.21.0,!=4.21.1,!=4.21.2,!=4.21.3,!=4.21.4,!=4.21.5,<5.0.0dev,>=3.20.3, but you have protobuf 5.29.4 which is incompatible.\r\n",
      "tensorflow-decision-forests 1.10.0 requires tensorflow==2.17.0, but you have tensorflow 2.17.1 which is incompatible.\r\n",
      "tensorflow-metadata 1.13.1 requires protobuf<5,>=3.20.3, but you have protobuf 5.29.4 which is incompatible.\u001b[0m\u001b[31m\r\n",
      "\u001b[0m"
     ]
    }
   ],
   "source": [
    "!pip uninstall -qqy jupyterlab  # Remove unused packages from Kaggle's base image that conflict\n",
    "!pip install -U -q \"google-genai==1.7.0\" langchain PyPDF2 \"chromadb==0.6.3\""
   ]
  },
  {
   "cell_type": "markdown",
   "id": "1ac22239",
   "metadata": {
    "papermill": {
     "duration": 0.010818,
     "end_time": "2025-04-11T03:16:44.043848",
     "exception": false,
     "start_time": "2025-04-11T03:16:44.033030",
     "status": "completed"
    },
    "tags": []
   },
   "source": [
    "Import the SDK and set up the API key"
   ]
  },
  {
   "cell_type": "code",
   "execution_count": 3,
   "id": "652be747",
   "metadata": {
    "execution": {
     "iopub.execute_input": "2025-04-11T03:16:44.067656Z",
     "iopub.status.busy": "2025-04-11T03:16:44.067290Z",
     "iopub.status.idle": "2025-04-11T03:16:45.438603Z",
     "shell.execute_reply": "2025-04-11T03:16:45.437409Z"
    },
    "papermill": {
     "duration": 1.386158,
     "end_time": "2025-04-11T03:16:45.440859",
     "exception": false,
     "start_time": "2025-04-11T03:16:44.054701",
     "status": "completed"
    },
    "tags": []
   },
   "outputs": [],
   "source": [
    "from google import genai\n",
    "from google.genai import types\n",
    "\n",
    "from IPython.display import HTML, Markdown, display"
   ]
  },
  {
   "cell_type": "markdown",
   "id": "8770be07",
   "metadata": {
    "papermill": {
     "duration": 0.010976,
     "end_time": "2025-04-11T03:16:45.463788",
     "exception": false,
     "start_time": "2025-04-11T03:16:45.452812",
     "status": "completed"
    },
    "tags": []
   },
   "source": [
    "Set up a retry helper so we can press \"Run All\" and not worry about hitting the quota. "
   ]
  },
  {
   "cell_type": "code",
   "execution_count": 4,
   "id": "8ee6785b",
   "metadata": {
    "execution": {
     "iopub.execute_input": "2025-04-11T03:16:45.489078Z",
     "iopub.status.busy": "2025-04-11T03:16:45.488515Z",
     "iopub.status.idle": "2025-04-11T03:16:45.675015Z",
     "shell.execute_reply": "2025-04-11T03:16:45.674118Z"
    },
    "papermill": {
     "duration": 0.201519,
     "end_time": "2025-04-11T03:16:45.676942",
     "exception": false,
     "start_time": "2025-04-11T03:16:45.475423",
     "status": "completed"
    },
    "tags": []
   },
   "outputs": [],
   "source": [
    "from google.api_core import retry\n",
    "\n",
    "\n",
    "is_retriable = lambda e: (isinstance(e, genai.errors.APIError) and e.code in {429, 503})\n",
    "\n",
    "genai.models.Models.generate_content = retry.Retry(\n",
    "    predicate=is_retriable)(genai.models.Models.generate_content)"
   ]
  },
  {
   "cell_type": "markdown",
   "id": "153ddeec",
   "metadata": {
    "papermill": {
     "duration": 0.010439,
     "end_time": "2025-04-11T03:16:45.698199",
     "exception": false,
     "start_time": "2025-04-11T03:16:45.687760",
     "status": "completed"
    },
    "tags": []
   },
   "source": [
    "### Set up your API key\n",
    "\n",
    "To run the following cell, your API key must be stored it in a [Kaggle secret](https://www.kaggle.com/discussions/product-feedback/114053) named `GOOGLE_API_KEY`.\n",
    "\n",
    "If you don't already have an API key, you can grab one from [AI Studio](https://aistudio.google.com/app/apikey). You can find [detailed instructions in the docs](https://ai.google.dev/gemini-api/docs/api-key).\n",
    "\n",
    "To make the key available through Kaggle secrets, choose `Secrets` from the `Add-ons` menu and follow the instructions to add your key or enable it for this notebook."
   ]
  },
  {
   "cell_type": "code",
   "execution_count": 5,
   "id": "5536ff81",
   "metadata": {
    "execution": {
     "iopub.execute_input": "2025-04-11T03:16:45.720513Z",
     "iopub.status.busy": "2025-04-11T03:16:45.719866Z",
     "iopub.status.idle": "2025-04-11T03:16:45.872260Z",
     "shell.execute_reply": "2025-04-11T03:16:45.870876Z"
    },
    "papermill": {
     "duration": 0.165949,
     "end_time": "2025-04-11T03:16:45.874517",
     "exception": false,
     "start_time": "2025-04-11T03:16:45.708568",
     "status": "completed"
    },
    "tags": []
   },
   "outputs": [],
   "source": [
    "from kaggle_secrets import UserSecretsClient\n",
    "\n",
    "GOOGLE_API_KEY = UserSecretsClient().get_secret(\"GOOGLE_API_KEY\")"
   ]
  },
  {
   "cell_type": "markdown",
   "id": "61e9d06e",
   "metadata": {
    "papermill": {
     "duration": 0.011376,
     "end_time": "2025-04-11T03:16:45.896698",
     "exception": false,
     "start_time": "2025-04-11T03:16:45.885322",
     "status": "completed"
    },
    "tags": []
   },
   "source": [
    "### Choose your model\n",
    "Depending on what's available and your quota, choose a model that's effective for your purposes."
   ]
  },
  {
   "cell_type": "code",
   "execution_count": 6,
   "id": "9115f1de",
   "metadata": {
    "execution": {
     "iopub.execute_input": "2025-04-11T03:16:45.919595Z",
     "iopub.status.busy": "2025-04-11T03:16:45.919191Z",
     "iopub.status.idle": "2025-04-11T03:16:46.375638Z",
     "shell.execute_reply": "2025-04-11T03:16:46.374476Z"
    },
    "papermill": {
     "duration": 0.470147,
     "end_time": "2025-04-11T03:16:46.377489",
     "exception": false,
     "start_time": "2025-04-11T03:16:45.907342",
     "status": "completed"
    },
    "tags": []
   },
   "outputs": [
    {
     "name": "stdout",
     "output_type": "stream",
     "text": [
      "models/chat-bison-001\n",
      "models/text-bison-001\n",
      "models/embedding-gecko-001\n",
      "models/gemini-1.0-pro-vision-latest\n",
      "models/gemini-pro-vision\n",
      "models/gemini-1.5-pro-latest\n",
      "models/gemini-1.5-pro-001\n",
      "models/gemini-1.5-pro-002\n",
      "models/gemini-1.5-pro\n",
      "models/gemini-1.5-flash-latest\n",
      "models/gemini-1.5-flash-001\n",
      "models/gemini-1.5-flash-001-tuning\n",
      "models/gemini-1.5-flash\n",
      "models/gemini-1.5-flash-002\n",
      "models/gemini-1.5-flash-8b\n",
      "models/gemini-1.5-flash-8b-001\n",
      "models/gemini-1.5-flash-8b-latest\n",
      "models/gemini-1.5-flash-8b-exp-0827\n",
      "models/gemini-1.5-flash-8b-exp-0924\n",
      "models/gemini-2.5-pro-exp-03-25\n",
      "models/gemini-2.5-pro-preview-03-25\n",
      "models/gemini-2.0-flash-exp\n",
      "models/gemini-2.0-flash\n",
      "models/gemini-2.0-flash-001\n",
      "models/gemini-2.0-flash-exp-image-generation\n",
      "models/gemini-2.0-flash-lite-001\n",
      "models/gemini-2.0-flash-lite\n",
      "models/gemini-2.0-flash-lite-preview-02-05\n",
      "models/gemini-2.0-flash-lite-preview\n",
      "models/gemini-2.0-pro-exp\n",
      "models/gemini-2.0-pro-exp-02-05\n",
      "models/gemini-exp-1206\n",
      "models/gemini-2.0-flash-thinking-exp-01-21\n",
      "models/gemini-2.0-flash-thinking-exp\n",
      "models/gemini-2.0-flash-thinking-exp-1219\n",
      "models/learnlm-1.5-pro-experimental\n",
      "models/gemma-3-1b-it\n",
      "models/gemma-3-4b-it\n",
      "models/gemma-3-12b-it\n",
      "models/gemma-3-27b-it\n",
      "models/embedding-001\n",
      "models/text-embedding-004\n",
      "models/gemini-embedding-exp-03-07\n",
      "models/gemini-embedding-exp\n",
      "models/aqa\n",
      "models/imagen-3.0-generate-002\n",
      "models/gemini-2.0-flash-live-001\n"
     ]
    }
   ],
   "source": [
    "client = genai.Client(api_key=GOOGLE_API_KEY)\n",
    "\n",
    "for model in client.models.list():\n",
    "  print(model.name)"
   ]
  },
  {
   "cell_type": "markdown",
   "id": "1aef6047",
   "metadata": {
    "papermill": {
     "duration": 0.010246,
     "end_time": "2025-04-11T03:16:46.398567",
     "exception": false,
     "start_time": "2025-04-11T03:16:46.388321",
     "status": "completed"
    },
    "tags": []
   },
   "source": [
    "Check out the detailed information for your model"
   ]
  },
  {
   "cell_type": "code",
   "execution_count": 7,
   "id": "b0e2578e",
   "metadata": {
    "execution": {
     "iopub.execute_input": "2025-04-11T03:16:46.420965Z",
     "iopub.status.busy": "2025-04-11T03:16:46.420562Z",
     "iopub.status.idle": "2025-04-11T03:16:46.699217Z",
     "shell.execute_reply": "2025-04-11T03:16:46.697981Z"
    },
    "papermill": {
     "duration": 0.291968,
     "end_time": "2025-04-11T03:16:46.701089",
     "exception": false,
     "start_time": "2025-04-11T03:16:46.409121",
     "status": "completed"
    },
    "tags": []
   },
   "outputs": [
    {
     "name": "stdout",
     "output_type": "stream",
     "text": [
      "{'name': 'models/gemini-2.0-flash', 'display_name': 'Gemini 2.0 Flash', 'description': 'Gemini 2.0 Flash', 'version': '2.0', 'tuned_model_info': {}, 'input_token_limit': 1048576, 'output_token_limit': 8192, 'supported_actions': ['generateContent', 'countTokens']}\n"
     ]
    }
   ],
   "source": [
    "for model in client.models.list():\n",
    "  if model.name == 'models/gemini-2.0-flash':\n",
    "    print(model.to_json_dict())\n",
    "    break\n",
    "\n",
    "# change this line if you want to use a different model\n",
    "model = \"gemini-2.0-flash\""
   ]
  },
  {
   "cell_type": "markdown",
   "id": "48eeb3fa",
   "metadata": {
    "papermill": {
     "duration": 0.010625,
     "end_time": "2025-04-11T03:16:46.722660",
     "exception": false,
     "start_time": "2025-04-11T03:16:46.712035",
     "status": "completed"
    },
    "tags": []
   },
   "source": [
    "Test your model"
   ]
  },
  {
   "cell_type": "code",
   "execution_count": 8,
   "id": "64057cd2",
   "metadata": {
    "execution": {
     "iopub.execute_input": "2025-04-11T03:16:46.745606Z",
     "iopub.status.busy": "2025-04-11T03:16:46.745248Z",
     "iopub.status.idle": "2025-04-11T03:16:47.205285Z",
     "shell.execute_reply": "2025-04-11T03:16:47.204151Z"
    },
    "papermill": {
     "duration": 0.473431,
     "end_time": "2025-04-11T03:16:47.207060",
     "exception": false,
     "start_time": "2025-04-11T03:16:46.733629",
     "status": "completed"
    },
    "tags": []
   },
   "outputs": [
    {
     "name": "stdout",
     "output_type": "stream",
     "text": [
      "Nice to meet you, Zlork! It's a pleasure to connect with you. Is there anything I can help you with today?\n",
      "\n"
     ]
    }
   ],
   "source": [
    "chat = client.chats.create(model=model, history=[])\n",
    "response = chat.send_message('Hello! My name is Zlork.')\n",
    "print(response.text)"
   ]
  },
  {
   "cell_type": "markdown",
   "id": "57e74555",
   "metadata": {
    "papermill": {
     "duration": 0.010646,
     "end_time": "2025-04-11T03:16:47.229993",
     "exception": false,
     "start_time": "2025-04-11T03:16:47.219347",
     "status": "completed"
    },
    "tags": []
   },
   "source": [
    "You can use the `Markdown()` function to format it nicely in Kaggle."
   ]
  },
  {
   "cell_type": "code",
   "execution_count": 9,
   "id": "8dea1644",
   "metadata": {
    "execution": {
     "iopub.execute_input": "2025-04-11T03:16:47.253238Z",
     "iopub.status.busy": "2025-04-11T03:16:47.252752Z",
     "iopub.status.idle": "2025-04-11T03:16:48.227341Z",
     "shell.execute_reply": "2025-04-11T03:16:48.226117Z"
    },
    "papermill": {
     "duration": 0.98819,
     "end_time": "2025-04-11T03:16:48.229257",
     "exception": false,
     "start_time": "2025-04-11T03:16:47.241067",
     "status": "completed"
    },
    "tags": []
   },
   "outputs": [
    {
     "data": {
      "text/markdown": [
       "Ah, Zlork! A distinguished name! It's a *pleasure* to make your acquaintance. I hope this message finds you well.\n",
       "\n",
       "***\n",
       "\n",
       "Might I inquire as to what brings you my way today? Perhaps I can be of assistance, or perhaps you simply wished to say hello? In either case, know that your presence is most welcome!\n",
       "\n",
       "***\n",
       "\n",
       "*Cordially,*\n",
       "\n",
       "Your Humble AI Assistant.\n",
       "\n",
       "✨\n"
      ],
      "text/plain": [
       "<IPython.core.display.Markdown object>"
      ]
     },
     "execution_count": 9,
     "metadata": {},
     "output_type": "execute_result"
    }
   ],
   "source": [
    "response = chat.send_message('Hello! My name is Zlork.' + \n",
    "                             'Use some fancy markdown in your message')\n",
    "Markdown(response.text)"
   ]
  },
  {
   "cell_type": "markdown",
   "id": "70b898d3",
   "metadata": {
    "papermill": {
     "duration": 0.012115,
     "end_time": "2025-04-11T03:16:48.256289",
     "exception": false,
     "start_time": "2025-04-11T03:16:48.244174",
     "status": "completed"
    },
    "tags": []
   },
   "source": [
    "# A fine prompt\n",
    "**TODO: you should probably move this**\n",
    "\n",
    "Let's start by writing our prompt. What should it include and what should it mention? Following the principles taught throughout the course, let's place an importance on giving **positive** instructions rather than **negative** instructions to maintain effectiveness. \n",
    "\n",
    "The model needs to do the following:\n",
    "- Stick to the SAT: Understand weighting and importance of certain questions, categories, and ensure all advice is applicable to the bounds of the SAT. A document with the specifications of the SAT format can be used for Retrieval Augmented Generation (RAG) rather than potential hallucination over the exact requirements.\n",
    "- Have access to the current question (and maybe the previous questions for even more context)\n",
    "- Have access to the answers and time between each to estimate confidence.\n",
    "- Understand images or SVGs for Inference and other Reading/Writing questions.\n",
    "- Use Tree of Thoughts (ToT) to generate multiple solving processes because multiple methods may be used to arrive at the same answer, and output these answering mechanisms in a JSON array to present on the website effectively (a TUI for this notebook)\n",
    "- Find semantically related questions and present them to the user on the website using ReAct (a TUI for this notebook)"
   ]
  },
  {
   "cell_type": "markdown",
   "id": "f1bc4c6a",
   "metadata": {
    "papermill": {
     "duration": 0.01043,
     "end_time": "2025-04-11T03:16:48.278154",
     "exception": false,
     "start_time": "2025-04-11T03:16:48.267724",
     "status": "completed"
    },
    "tags": []
   },
   "source": [
    "Let's start by finding an effective prompt. \n",
    "Then we can evaluate the effectiveness of including the SAT standards in a PDF to help the user answering a question. We will also evaluate whether a vector search database is useful for this document.\n",
    "\n",
    "Below, the variables for the specific question we are testing are defined."
   ]
  },
  {
   "cell_type": "code",
   "execution_count": 10,
   "id": "c238a043",
   "metadata": {
    "execution": {
     "iopub.execute_input": "2025-04-11T03:16:48.301419Z",
     "iopub.status.busy": "2025-04-11T03:16:48.300977Z",
     "iopub.status.idle": "2025-04-11T03:16:48.307142Z",
     "shell.execute_reply": "2025-04-11T03:16:48.305908Z"
    },
    "papermill": {
     "duration": 0.020146,
     "end_time": "2025-04-11T03:16:48.308991",
     "exception": false,
     "start_time": "2025-04-11T03:16:48.288845",
     "status": "completed"
    },
    "tags": []
   },
   "outputs": [],
   "source": [
    "# All questions are (c) CollegeBoard 2025.\n",
    "question = \"\"\"\n",
    "In a paper about p-i-n planar perovskite solar cells (one of several perovskite cell architectures designed to collect and store solar power), Lyndsey McMillon-Brown et al. described a method for fabricating the cell’s electronic transport layer (ETL) using a spray coating. Conventional ETL fabrication is accomplished using a solution of nanoparticles. The process can result in a loss of up to 80% of the solution, increasing the cost of manufacturing at scale—an issue that may be obviated by spray coating fabrication, which the researchers describe as “highly reproducible, concise, and practical.”\n",
    "\n",
    "What does the text most strongly suggest about conventional ETL fabrication?\n",
    "A. It is less suitable for manufacturing large volumes of planar p-i-n perovskite solar cells than an alternative fabrication method may be.\n",
    "B. It is more expensive when manufacturing at scale than are processes for fabricating ETLs used in other perovskite solar cell architectures.\n",
    "C. It typically entails a greater loss of nanoparticle solution than do other established approaches for ETL fabrication.\n",
    "D. It is somewhat imprecise and therefore limits the potential effectiveness of p-i-n planar perovskite solar cells at capturing and storing solar power.\n",
    "\"\"\"\n",
    "\n",
    "rationale = \"\"\"\n",
    "Choice A is the best answer. Conventional solar cell fabrication increases “the cost of manufacturing at scale,” but spray coating might get rid of that problem.\n",
    "\n",
    "Choice B is incorrect. This is not completely supported by the text. While it’s true that conventional ETL fabrication is expensive at scale, there’s nothing in the text that mentions other perovskite solar cell architectures. Choice C is incorrect. This choice does not match the text. Only one conventional method of ETL fabrication is described, so we can’t compare the solution loss in this method to that of other conventional methods. Choice D is incorrect. This choice isn’t supported by the text. The text never suggests that the effectiveness of solar cells changes based on their method of fabrication. \n",
    "\"\"\"\n",
    "\n",
    "user_answer = \"C\""
   ]
  },
  {
   "cell_type": "markdown",
   "id": "9d368ab3",
   "metadata": {
    "papermill": {
     "duration": 0.010819,
     "end_time": "2025-04-11T03:16:48.330889",
     "exception": false,
     "start_time": "2025-04-11T03:16:48.320070",
     "status": "completed"
    },
    "tags": []
   },
   "source": [
    "Ideally, the user will talk to the chatbot after it gets the question wrong (or before in some scenarios, too). Either way, the user will have some rationale as to his or her answer to the question. Don't expect this rationale to be well thought out - the objective of the intelligent agent is to draw out what they actually mean. It may be completely omitted as well."
   ]
  },
  {
   "cell_type": "code",
   "execution_count": 11,
   "id": "7ce42654",
   "metadata": {
    "execution": {
     "iopub.execute_input": "2025-04-11T03:16:48.354547Z",
     "iopub.status.busy": "2025-04-11T03:16:48.354174Z",
     "iopub.status.idle": "2025-04-11T03:16:48.358870Z",
     "shell.execute_reply": "2025-04-11T03:16:48.357658Z"
    },
    "papermill": {
     "duration": 0.018616,
     "end_time": "2025-04-11T03:16:48.360624",
     "exception": false,
     "start_time": "2025-04-11T03:16:48.342008",
     "status": "completed"
    },
    "tags": []
   },
   "outputs": [],
   "source": [
    "user_rationale = \"Isn't the new method of ETL fabrication the same as the 'established methods'\""
   ]
  },
  {
   "cell_type": "markdown",
   "id": "16b40569",
   "metadata": {
    "papermill": {
     "duration": 0.010432,
     "end_time": "2025-04-11T03:16:48.382120",
     "exception": false,
     "start_time": "2025-04-11T03:16:48.371688",
     "status": "completed"
    },
    "tags": []
   },
   "source": [
    "Synthesize the prompt:"
   ]
  },
  {
   "cell_type": "code",
   "execution_count": 12,
   "id": "e812c6ea",
   "metadata": {
    "execution": {
     "iopub.execute_input": "2025-04-11T03:16:48.405296Z",
     "iopub.status.busy": "2025-04-11T03:16:48.404892Z",
     "iopub.status.idle": "2025-04-11T03:16:52.636073Z",
     "shell.execute_reply": "2025-04-11T03:16:52.634861Z"
    },
    "papermill": {
     "duration": 4.244753,
     "end_time": "2025-04-11T03:16:52.637792",
     "exception": false,
     "start_time": "2025-04-11T03:16:48.393039",
     "status": "completed"
    },
    "tags": []
   },
   "outputs": [
    {
     "data": {
      "text/markdown": [
       "Okay, I can definitely clarify why option C is incorrect and why option A is the best answer based on the text provided.\n",
       "\n",
       "**SAT Framework and Question Type**\n",
       "\n",
       "*   **Question Type:** This is an \"inference\" question. These questions ask you to make a logical deduction based on the information given in the passage. You need to find the answer that is most strongly supported by the text, even if it's not explicitly stated. (Reading Test Specifications, Inference, Deduction)\n",
       "*   **Skills Tested:** Reading comprehension, inference, and attention to detail.\n",
       "\n",
       "**Analysis of Why Option C is Incorrect**\n",
       "\n",
       "You picked option C: \"It typically entails a greater loss of nanoparticle solution than do other established approaches for ETL fabrication.\"\n",
       "\n",
       "Here's why this is not the best answer:\n",
       "\n",
       "*   **\"Established Approaches\" is Too Broad:** The passage only provides detail about one conventional ETL fabrication method (the one using a nanoparticle solution). The text contrasts this *specific* method with the *new* spray coating method.\n",
       "*   **No Comparison to *Other* Established Methods:** The passage does *not* give you any information about how the nanoparticle solution loss compares to other \"established approaches.\" There might be other conventional ETL fabrication methods that are more efficient with material usage. Because of this lack of information, you cannot infer that the method described has a *greater* loss than *other* established approaches.\n",
       "\n",
       "**Why Option A is the Best Answer**\n",
       "\n",
       "Option A states: \"It is less suitable for manufacturing large volumes of planar p-i-n perovskite solar cells than an alternative fabrication method may be.\"\n",
       "\n",
       "Here's how the text supports this:\n",
       "\n",
       "*   **High Cost at Scale:** The passage directly states that conventional ETL fabrication \"can result in a loss of up to 80% of the solution, *increasing the cost of manufacturing at scale*.\"\n",
       "*   **Spray Coating as a Potential Solution:** The passage then presents spray coating fabrication as a method that \"may obviate\" (eliminate) this issue. The researchers describe it as \"highly reproducible, concise, and practical.\"\n",
       "*   **Inference of Suitability:** From these two points, you can infer that conventional ETL fabrication (due to its high cost at scale) is *less suitable* for large-volume manufacturing compared to the *alternative* spray coating method that addresses this cost issue.\n",
       "\n",
       "**In summary:** Option A is a valid inference because the text discusses the high cost of conventional methods at a large scale and presents an alternative that might solve this problem. Option C is not the best answer because it makes a comparison to *other* established methods that the text does not support.\n",
       "\n",
       "**Actionable Improvement Strategy**\n",
       "\n",
       "1.  **Focus on Direct Comparisons:** When answering inference questions, pay close attention to the specific things the passage directly compares.\n",
       "2.  **Avoid Overgeneralizations:** Be wary of answer choices that make broad statements or introduce information not explicitly mentioned in the text.\n",
       "3.  **Look for Keywords:** Identify keywords in the passage that relate to the question and use them to guide your answer choice. In this case, \"cost of manufacturing at scale\" is a key phrase.\n"
      ],
      "text/plain": [
       "<IPython.core.display.Markdown object>"
      ]
     },
     "execution_count": 12,
     "metadata": {},
     "output_type": "execute_result"
    }
   ],
   "source": [
    "from google.genai.types import GenerateContentConfig\n",
    "\n",
    "response = client.models.generate_content(\n",
    "    model=\"gemini-2.0-flash-001\",\n",
    "    # no specs yet\n",
    "    contents=f\"{question} {rationale}\\n The user got: {user_answer}\\n {user_rationale}\",\n",
    "    config=GenerateContentConfig(\n",
    "        system_instruction=[\n",
    "            \"You are an SAT expert tutor. Analyze questions using the official SAT framework. \",\n",
    "            \"Help students by:\\n\",\n",
    "            \"1. Identifying question type and skills tested\\n\",\n",
    "            \"2. Explaining why answers are correct/incorrect\\n\",\n",
    "            \"3. Providing actionable improvement strategies\\n\",\n",
    "            \"Use formal but friendly language. Reference the SAT specs when possible.\",\n",
    "        ]\n",
    "    ),\n",
    ")\n",
    "\n",
    "\n",
    "Markdown(response.text)\n"
   ]
  },
  {
   "cell_type": "markdown",
   "id": "e8b69310",
   "metadata": {
    "papermill": {
     "duration": 0.011307,
     "end_time": "2025-04-11T03:16:52.660909",
     "exception": false,
     "start_time": "2025-04-11T03:16:52.649602",
     "status": "completed"
    },
    "tags": []
   },
   "source": [
    "Perhaps the model will be more effective with FAISS vector database searches for the PDF.\n",
    "\n",
    "# Parse PDF\n",
    "The following code uses lossy conversion to turn the PDF into readable text."
   ]
  },
  {
   "cell_type": "markdown",
   "id": "30e53fc5",
   "metadata": {
    "papermill": {
     "duration": 0.011227,
     "end_time": "2025-04-11T03:16:52.683035",
     "exception": false,
     "start_time": "2025-04-11T03:16:52.671808",
     "status": "completed"
    },
    "tags": []
   },
   "source": [
    "Information like tables and images will be lost in the process, as demonstrated by the following snippet."
   ]
  },
  {
   "cell_type": "code",
   "execution_count": 13,
   "id": "7a1a0a75",
   "metadata": {
    "execution": {
     "iopub.execute_input": "2025-04-11T03:16:52.707336Z",
     "iopub.status.busy": "2025-04-11T03:16:52.706949Z",
     "iopub.status.idle": "2025-04-11T03:16:53.400492Z",
     "shell.execute_reply": "2025-04-11T03:16:53.399229Z"
    },
    "papermill": {
     "duration": 0.707842,
     "end_time": "2025-04-11T03:16:53.402400",
     "exception": false,
     "start_time": "2025-04-11T03:16:52.694558",
     "status": "completed"
    },
    "tags": []
   },
   "outputs": [
    {
     "name": "stdout",
     "output_type": "stream",
     "text": [
      "Example table  \n",
      "This is an example of a data table. \n",
      "Disability \n",
      "Category Participants  Ballots \n",
      "Completed  Ballots \n",
      "Incomplete/  \n",
      "Terminated  Results  \n",
      "Accuracy  Time to \n",
      "complete \n",
      "Blind  5 1 4 34.5%, n=1  1199 sec, n=1  \n",
      "Low Vision  5 2 3 98.3% n=2  \n",
      "(97.7%, n=3)  1716 sec, n=3  \n",
      "(1934 sec, n=2)  \n",
      "Dexterity  5 4 1 98.3%, n=4  1672.1 sec, n=4  \n",
      "Mobility  3 3 0 95.4%, n=3  1416 sec, n=3  \n",
      " \n"
     ]
    }
   ],
   "source": [
    "from PyPDF2 import PdfReader\n",
    "from io import BytesIO\n",
    "import requests\n",
    "\n",
    "url = \"https://www.w3.org/WAI/WCAG20/Techniques/working-examples/PDF20/table.pdf\"\n",
    "response = requests.get(url)\n",
    "pdf_bytes = BytesIO(response.content)\n",
    "\n",
    "text = \"\"\n",
    "pdf_reader = PdfReader(pdf_bytes)\n",
    "for page in pdf_reader.pages:\n",
    "    text += page.extract_text()\n",
    "\n",
    "print(text[0:1000])"
   ]
  },
  {
   "cell_type": "code",
   "execution_count": 14,
   "id": "28c78b31",
   "metadata": {
    "execution": {
     "iopub.execute_input": "2025-04-11T03:16:53.427338Z",
     "iopub.status.busy": "2025-04-11T03:16:53.426935Z",
     "iopub.status.idle": "2025-04-11T03:16:59.268696Z",
     "shell.execute_reply": "2025-04-11T03:16:59.267154Z"
    },
    "papermill": {
     "duration": 5.857069,
     "end_time": "2025-04-11T03:16:59.271185",
     "exception": false,
     "start_time": "2025-04-11T03:16:53.414116",
     "status": "completed"
    },
    "tags": []
   },
   "outputs": [
    {
     "name": "stdout",
     "output_type": "stream",
     "text": [
      "<class '_io.BytesIO'>\n",
      "Assessment Framework \n",
      "for the Digital SAT® SuiteAssessment Framework \n",
      "for the Digital SAT® Suite\n",
      "Version 3.01, August 2024\n",
      "About College Board\n",
      "College Board reaches more than 7 million students a year, helping them \n",
      "navigate the path from high school to college and career. Our not-for-\n",
      "profit membership organization was founded more than 120 years ago. \n",
      "We pioneered programs like the SAT® and AP® to expand opportunities \n",
      "for students and help them develop the skills they need. Our BigFuture® \n",
      "program helps students plan for college, pay for college, and explore \n",
      "careers. Learn more at cb.org .\n",
      "Suggested Citation:  College Board. 2024. Assessment Framework for the \n",
      "Digital SAT Suite , version 3.01 (August 2024). New Y ork: College Board.\n",
      "© 2024 College Board. College Board, Advanced Placement, AP , BigFuture, Landscape, Pre-AP , SAT, and \n",
      "the acorn logo are registered trademarks of College Board. AP Potential, Bluebook, Connections, PSAT, \n",
      "Skills Insight, Student Search Service, and The\n"
     ]
    }
   ],
   "source": [
    "# Download the PDF using requests\n",
    "url = \"https://satsuite.collegeboard.org/media/pdf/assessment-framework-for-digital-sat-suite.pdf\"\n",
    "\n",
    "response = requests.get(url)\n",
    "pdf_bytes = BytesIO(response.content)\n",
    "\n",
    "print(type(pdf_bytes))\n",
    "\n",
    "specs_text = \"\"\n",
    "pdf_reader = PdfReader(pdf_bytes)\n",
    "for page in pdf_reader.pages:\n",
    "    specs_text += page.extract_text()\n",
    "\n",
    "print(specs_text[0:1000])"
   ]
  },
  {
   "cell_type": "markdown",
   "id": "e26c8e2b",
   "metadata": {
    "papermill": {
     "duration": 0.012733,
     "end_time": "2025-04-11T03:16:59.296667",
     "exception": false,
     "start_time": "2025-04-11T03:16:59.283934",
     "status": "completed"
    },
    "tags": []
   },
   "source": [
    "This text data might be too big for the model to contain within the prompt."
   ]
  },
  {
   "cell_type": "code",
   "execution_count": 15,
   "id": "ea19faeb",
   "metadata": {
    "execution": {
     "iopub.execute_input": "2025-04-11T03:16:59.320667Z",
     "iopub.status.busy": "2025-04-11T03:16:59.320293Z",
     "iopub.status.idle": "2025-04-11T03:17:00.536281Z",
     "shell.execute_reply": "2025-04-11T03:17:00.535046Z"
    },
    "papermill": {
     "duration": 1.230292,
     "end_time": "2025-04-11T03:17:00.538307",
     "exception": false,
     "start_time": "2025-04-11T03:16:59.308015",
     "status": "completed"
    },
    "tags": []
   },
   "outputs": [
    {
     "data": {
      "text/plain": [
       "153273"
      ]
     },
     "execution_count": 15,
     "metadata": {},
     "output_type": "execute_result"
    }
   ],
   "source": [
    "client.models.count_tokens(\n",
    "    model=model, contents=specs_text\n",
    ").total_tokens"
   ]
  },
  {
   "cell_type": "markdown",
   "id": "b942eed6",
   "metadata": {
    "papermill": {
     "duration": 0.011189,
     "end_time": "2025-04-11T03:17:00.561094",
     "exception": false,
     "start_time": "2025-04-11T03:17:00.549905",
     "status": "completed"
    },
    "tags": []
   },
   "source": [
    "That's a pretty significant size! The only way to incorporate the PDF properly is to chunk it."
   ]
  },
  {
   "cell_type": "markdown",
   "id": "f703d6f2",
   "metadata": {
    "papermill": {
     "duration": 0.011769,
     "end_time": "2025-04-11T03:17:00.584440",
     "exception": false,
     "start_time": "2025-04-11T03:17:00.572671",
     "status": "completed"
    },
    "tags": []
   },
   "source": [
    "# Chunk the Parsed PDF\n",
    "In order to use the PDF, we need to \"chunk\" it so bits of relevant information can be accessed at a time. In order to maximize efficiency, a vector search database will be used, as the likelihood that any key words in the question will appear on the SAT is effectively zero. "
   ]
  },
  {
   "cell_type": "code",
   "execution_count": 16,
   "id": "102f9c68",
   "metadata": {
    "execution": {
     "iopub.execute_input": "2025-04-11T03:17:00.609290Z",
     "iopub.status.busy": "2025-04-11T03:17:00.608900Z",
     "iopub.status.idle": "2025-04-11T03:17:00.907430Z",
     "shell.execute_reply": "2025-04-11T03:17:00.906337Z"
    },
    "papermill": {
     "duration": 0.313118,
     "end_time": "2025-04-11T03:17:00.909651",
     "exception": false,
     "start_time": "2025-04-11T03:17:00.596533",
     "status": "completed"
    },
    "tags": []
   },
   "outputs": [],
   "source": [
    "from langchain_text_splitters import RecursiveCharacterTextSplitter\n",
    "\n",
    "text_splitter = RecursiveCharacterTextSplitter(\n",
    "    # Set a really small chunk size, just to show.\n",
    "    chunk_size=1024,\n",
    "    chunk_overlap=102,\n",
    "    length_function=len,\n",
    "    is_separator_regex=False,\n",
    ")\n",
    "\n",
    "chunked_specs_text = text_splitter.split_text(specs_text)"
   ]
  },
  {
   "cell_type": "markdown",
   "id": "cb04043e",
   "metadata": {
    "papermill": {
     "duration": 0.01211,
     "end_time": "2025-04-11T03:17:00.933820",
     "exception": false,
     "start_time": "2025-04-11T03:17:00.921710",
     "status": "completed"
    },
    "tags": []
   },
   "source": [
    "Check out the chunks:"
   ]
  },
  {
   "cell_type": "code",
   "execution_count": 17,
   "id": "00026051",
   "metadata": {
    "execution": {
     "iopub.execute_input": "2025-04-11T03:17:00.958018Z",
     "iopub.status.busy": "2025-04-11T03:17:00.957666Z",
     "iopub.status.idle": "2025-04-11T03:17:00.962947Z",
     "shell.execute_reply": "2025-04-11T03:17:00.961810Z"
    },
    "papermill": {
     "duration": 0.019611,
     "end_time": "2025-04-11T03:17:00.964794",
     "exception": false,
     "start_time": "2025-04-11T03:17:00.945183",
     "status": "completed"
    },
    "tags": []
   },
   "outputs": [
    {
     "name": "stdout",
     "output_type": "stream",
     "text": [
      "702\n",
      "Assessment Framework \n",
      "for the Digital SAT® SuiteAssessment Framework \n",
      "for the Digital SAT® Suite\n",
      "Version 3.01, August 2024\n",
      "About College Board\n",
      "College Board reaches more than 7 million students a year, helping them \n",
      "navigate the path from high school to college and career. Our not-for-\n",
      "profit membership organization was founded more than 120 years ago. \n",
      "We pioneered programs like the SAT® and AP® to expand opportunities \n",
      "for students and help them develop the skills they need. Our BigFuture® \n",
      "program helps students plan for college, pay for college, and explore \n",
      "careers. Learn more at cb.org .\n",
      "Suggested Citation:  College Board. 2024. Assessment Framework for the \n",
      "Digital SAT Suite , version 3.01 (August 2024). New Y ork: College Board.\n",
      "© 2024 College Board. College Board, Advanced Placement, AP , BigFuture, Landscape, Pre-AP , SAT, and \n",
      "the acorn logo are registered trademarks of College Board. AP Potential, Bluebook, Connections, PSAT,\n"
     ]
    }
   ],
   "source": [
    "print(len(chunked_specs_text))\n",
    "print(chunked_specs_text[0])"
   ]
  },
  {
   "cell_type": "markdown",
   "id": "81d92715",
   "metadata": {
    "papermill": {
     "duration": 0.0121,
     "end_time": "2025-04-11T03:17:00.989146",
     "exception": false,
     "start_time": "2025-04-11T03:17:00.977046",
     "status": "completed"
    },
    "tags": []
   },
   "source": [
    "# Initialize ReAct agent\n",
    "The model will instead be a ReAct agent and figure out what to search up and call that tool as an extension and we will see what happens\n",
    "\n",
    "We will start by finding a gemini model for embedding."
   ]
  },
  {
   "cell_type": "code",
   "execution_count": 18,
   "id": "98a8ed41",
   "metadata": {
    "execution": {
     "iopub.execute_input": "2025-04-11T03:17:01.015650Z",
     "iopub.status.busy": "2025-04-11T03:17:01.015239Z",
     "iopub.status.idle": "2025-04-11T03:17:01.082897Z",
     "shell.execute_reply": "2025-04-11T03:17:01.081703Z"
    },
    "papermill": {
     "duration": 0.083193,
     "end_time": "2025-04-11T03:17:01.085025",
     "exception": false,
     "start_time": "2025-04-11T03:17:01.001832",
     "status": "completed"
    },
    "tags": []
   },
   "outputs": [
    {
     "name": "stdout",
     "output_type": "stream",
     "text": [
      "models/embedding-001\n",
      "models/text-embedding-004\n",
      "models/gemini-embedding-exp-03-07\n",
      "models/gemini-embedding-exp\n"
     ]
    }
   ],
   "source": [
    "for m in client.models.list():\n",
    "    if \"embedContent\" in m.supported_actions:\n",
    "        print(m.name)"
   ]
  },
  {
   "cell_type": "markdown",
   "id": "d0ff1880",
   "metadata": {
    "papermill": {
     "duration": 0.01102,
     "end_time": "2025-04-11T03:17:01.108030",
     "exception": false,
     "start_time": "2025-04-11T03:17:01.097010",
     "status": "completed"
    },
    "tags": []
   },
   "source": [
    "Set up ChromaDB. We will use `text-embedding-004` to encode the \"document\" chunks into vectors."
   ]
  },
  {
   "cell_type": "code",
   "execution_count": 19,
   "id": "bc6be5b8",
   "metadata": {
    "execution": {
     "iopub.execute_input": "2025-04-11T03:17:01.132557Z",
     "iopub.status.busy": "2025-04-11T03:17:01.132137Z",
     "iopub.status.idle": "2025-04-11T03:17:01.725909Z",
     "shell.execute_reply": "2025-04-11T03:17:01.724868Z"
    },
    "papermill": {
     "duration": 0.608171,
     "end_time": "2025-04-11T03:17:01.727967",
     "exception": false,
     "start_time": "2025-04-11T03:17:01.119796",
     "status": "completed"
    },
    "tags": []
   },
   "outputs": [],
   "source": [
    "from chromadb import Documents, EmbeddingFunction, Embeddings\n",
    "from google.api_core import retry\n",
    "\n",
    "from google.genai import types\n",
    "\n",
    "\n",
    "class GeminiEmbeddingFunction(EmbeddingFunction):\n",
    "    # Specify whether to generate embeddings for documents, or queries\n",
    "    document_mode = True\n",
    "\n",
    "    @retry.Retry(predicate=is_retriable)\n",
    "    def __call__(self, input: Documents) -> Embeddings:\n",
    "        if self.document_mode:\n",
    "            embedding_task = \"retrieval_document\"\n",
    "        else:\n",
    "            embedding_task = \"retrieval_query\"\n",
    "\n",
    "        response = client.models.embed_content(\n",
    "            model=\"models/text-embedding-004\",\n",
    "            contents=input,\n",
    "            config=types.EmbedContentConfig(\n",
    "                task_type=embedding_task,\n",
    "            ),\n",
    "        )\n",
    "        return [e.values for e in response.embeddings]"
   ]
  },
  {
   "cell_type": "markdown",
   "id": "179bc499",
   "metadata": {
    "papermill": {
     "duration": 0.01216,
     "end_time": "2025-04-11T03:17:01.752265",
     "exception": false,
     "start_time": "2025-04-11T03:17:01.740105",
     "status": "completed"
    },
    "tags": []
   },
   "source": [
    "Now let's create a Chroma database client and add the document embeddings"
   ]
  },
  {
   "cell_type": "code",
   "execution_count": 20,
   "id": "def3373e",
   "metadata": {
    "execution": {
     "iopub.execute_input": "2025-04-11T03:17:01.777645Z",
     "iopub.status.busy": "2025-04-11T03:17:01.777290Z",
     "iopub.status.idle": "2025-04-11T03:17:09.638062Z",
     "shell.execute_reply": "2025-04-11T03:17:09.636584Z"
    },
    "papermill": {
     "duration": 7.875471,
     "end_time": "2025-04-11T03:17:09.640136",
     "exception": false,
     "start_time": "2025-04-11T03:17:01.764665",
     "status": "completed"
    },
    "tags": []
   },
   "outputs": [],
   "source": [
    "import chromadb\n",
    "\n",
    "SPECS_DB_NAME = \"specs\"\n",
    "\n",
    "embed_fn = GeminiEmbeddingFunction()\n",
    "embed_fn.document_mode = True\n",
    "\n",
    "chroma_client = chromadb.Client()\n",
    "#print(chroma_client.list_collections())\n",
    "db = chroma_client.get_or_create_collection(name=SPECS_DB_NAME, embedding_function=embed_fn)\n",
    "for i in range(int(len(chunked_specs_text) / 100)):\n",
    "    db.add(documents=chunked_specs_text[i:100+i], ids=[str(i + j) for j in range(100)])"
   ]
  },
  {
   "cell_type": "markdown",
   "id": "c9685c58",
   "metadata": {
    "papermill": {
     "duration": 0.011362,
     "end_time": "2025-04-11T03:17:09.664004",
     "exception": false,
     "start_time": "2025-04-11T03:17:09.652642",
     "status": "completed"
    },
    "tags": []
   },
   "source": [
    "Check out the database"
   ]
  },
  {
   "cell_type": "code",
   "execution_count": 21,
   "id": "de2d033b",
   "metadata": {
    "execution": {
     "iopub.execute_input": "2025-04-11T03:17:09.690219Z",
     "iopub.status.busy": "2025-04-11T03:17:09.689817Z",
     "iopub.status.idle": "2025-04-11T03:17:09.709772Z",
     "shell.execute_reply": "2025-04-11T03:17:09.708593Z"
    },
    "papermill": {
     "duration": 0.034846,
     "end_time": "2025-04-11T03:17:09.711803",
     "exception": false,
     "start_time": "2025-04-11T03:17:09.676957",
     "status": "completed"
    },
    "tags": []
   },
   "outputs": [
    {
     "data": {
      "text/plain": [
       "{'ids': ['0'],\n",
       " 'embeddings': array([[ 5.80166355e-02,  4.36070710e-02, -5.12756817e-02,\n",
       "         -1.44314906e-03,  2.73717772e-02,  4.12952006e-02,\n",
       "          5.71677238e-02,  7.64632318e-03,  9.56675038e-03,\n",
       "         -5.80519577e-03, -4.39782254e-02,  9.93977953e-03,\n",
       "          3.03114597e-02,  3.39544937e-02, -7.10375309e-02,\n",
       "          1.01664122e-02,  2.03551948e-02,  5.44842966e-02,\n",
       "         -1.12781808e-01, -2.91494676e-03, -2.88882591e-02,\n",
       "         -3.38051245e-02, -1.49710365e-02, -1.39160426e-02,\n",
       "         -1.64779034e-02,  7.98442122e-03,  7.00960010e-02,\n",
       "          1.01699783e-02,  1.97551977e-02, -3.44269574e-02,\n",
       "          2.98777758e-03,  9.17043630e-03, -2.51114983e-02,\n",
       "         -8.72381590e-03,  7.50523322e-05,  3.42415981e-02,\n",
       "         -2.42317207e-02, -3.20444927e-02,  7.41561651e-02,\n",
       "         -4.53105606e-02, -4.95616272e-02, -4.72334400e-03,\n",
       "         -1.52662601e-02, -1.15578976e-02, -2.57304776e-02,\n",
       "          5.48221776e-03,  6.22319020e-02,  5.05198240e-02,\n",
       "         -1.08670801e-01,  3.87461856e-02,  3.76404338e-02,\n",
       "          2.82543674e-02, -1.12163037e-01,  4.10740972e-02,\n",
       "         -3.71634699e-02,  5.99206332e-03, -2.40207538e-02,\n",
       "         -4.28720191e-02, -1.08973670e-03,  3.40756699e-02,\n",
       "          1.05064129e-02,  2.35935226e-02,  4.58424399e-03,\n",
       "         -2.21987478e-02,  4.96019013e-02,  1.15091922e-02,\n",
       "          4.42131460e-02, -6.75921589e-02, -5.26988208e-02,\n",
       "          1.06926588e-02,  3.47644798e-02,  6.68431073e-02,\n",
       "          1.32676568e-02,  1.27605069e-02,  1.21104876e-02,\n",
       "         -1.93833635e-04,  1.41022261e-02, -3.21718715e-02,\n",
       "         -4.64808522e-03,  9.91228148e-02, -3.37284245e-02,\n",
       "          5.24462238e-02,  6.21226132e-02,  3.91206890e-03,\n",
       "          4.60108928e-02, -8.70271213e-03,  1.23034595e-02,\n",
       "         -1.28133938e-01, -2.87133902e-02, -1.64378118e-02,\n",
       "          5.29186577e-02,  3.30431201e-02,  9.16795991e-03,\n",
       "          1.36559345e-02,  2.93000676e-02, -1.43960798e-02,\n",
       "         -9.56787542e-02, -8.39812607e-02,  7.39913285e-02,\n",
       "          1.87342633e-02,  9.75035131e-03,  4.36013984e-03,\n",
       "         -3.24239470e-02, -3.92059237e-02, -1.39458850e-02,\n",
       "          7.91692138e-02,  2.23348774e-02, -6.05219603e-02,\n",
       "         -4.39632945e-02,  2.29139496e-02, -1.57225877e-02,\n",
       "         -3.34867239e-02, -6.84443768e-03,  3.57104763e-02,\n",
       "         -9.50761791e-03, -3.51773412e-03,  1.65853836e-02,\n",
       "          3.05765029e-02, -7.34856352e-02,  4.93869744e-02,\n",
       "         -1.35535756e-02,  4.30152342e-02,  7.01768091e-03,\n",
       "          3.01902983e-02,  7.02088177e-02,  1.18755726e-02,\n",
       "          2.04857942e-02,  8.30172654e-03, -3.94785255e-02,\n",
       "         -4.17043306e-02,  9.32582095e-03, -5.86279519e-02,\n",
       "          3.81321423e-02,  5.02973096e-03, -1.42060453e-02,\n",
       "         -5.16521186e-02,  2.11465266e-02,  2.77757626e-02,\n",
       "          3.25606577e-02,  5.14609963e-02, -3.08694541e-02,\n",
       "         -7.40062445e-04, -1.04706369e-01,  1.19366450e-02,\n",
       "          5.83255012e-03, -3.08419932e-02,  3.24390270e-02,\n",
       "          1.74153689e-02, -5.59562643e-04,  1.27332341e-02,\n",
       "         -3.67884487e-02, -6.43752841e-03, -6.04125224e-02,\n",
       "         -4.95353416e-02,  1.58683863e-02, -4.08671796e-02,\n",
       "          3.86186838e-02, -3.35833058e-02,  4.54988219e-02,\n",
       "          2.09956970e-02,  7.09988251e-02, -3.43339629e-02,\n",
       "          5.96209764e-02,  1.98834836e-02, -5.05765602e-02,\n",
       "         -1.11844633e-02, -7.07397312e-02, -1.21114263e-02,\n",
       "         -2.86048297e-02, -1.18953758e-03, -6.30153567e-02,\n",
       "          2.09246147e-02, -1.80896148e-02, -1.04634866e-01,\n",
       "          3.56591456e-02, -1.60821863e-02, -1.92561969e-02,\n",
       "         -4.41370383e-02, -3.24174799e-02, -9.04508121e-03,\n",
       "          6.24283589e-02, -1.71958022e-02,  7.85420276e-03,\n",
       "         -2.75226124e-02,  3.10528427e-02,  1.92671660e-02,\n",
       "         -3.02817971e-02,  6.27220375e-03,  6.47130087e-02,\n",
       "          1.51586188e-02,  7.67297074e-02, -2.29598805e-02,\n",
       "          2.58672442e-02,  4.40891422e-02, -1.38843367e-02,\n",
       "          1.00173214e-02,  2.21455912e-03, -3.17572523e-03,\n",
       "         -3.19272093e-02, -5.17348312e-02,  4.07911488e-04,\n",
       "         -1.55000361e-02,  3.75127071e-03, -4.24440764e-02,\n",
       "         -8.70858505e-03,  5.60728367e-03, -4.19645011e-02,\n",
       "         -1.07061520e-01,  7.16448650e-02,  2.04445198e-02,\n",
       "         -5.21069467e-02,  1.51334424e-02,  8.45359452e-03,\n",
       "         -7.13956356e-02,  7.82205164e-03, -2.58199740e-02,\n",
       "          6.69478700e-02, -1.19733606e-02,  4.62455451e-02,\n",
       "          1.41000915e-02, -6.26668707e-03,  2.30310182e-03,\n",
       "          3.34906653e-02,  4.10009827e-03,  6.07665628e-02,\n",
       "          8.88145939e-02, -1.75245069e-02, -2.94035021e-02,\n",
       "         -2.63199024e-02, -2.61491649e-02,  1.22614112e-02,\n",
       "          2.96027381e-02, -1.42258164e-02,  9.16348712e-04,\n",
       "         -1.55073004e-02,  3.12971734e-02,  6.98070071e-05,\n",
       "         -2.31550205e-02,  1.13678246e-03, -7.88397901e-03,\n",
       "          1.64743382e-02,  7.17388019e-02, -5.95940687e-02,\n",
       "         -4.23376309e-03, -4.79818380e-04, -1.32244015e-02,\n",
       "          5.77465072e-02, -2.46070139e-03,  1.92456003e-02,\n",
       "         -5.22776134e-02, -2.86002234e-02, -8.95087514e-03,\n",
       "         -6.51429687e-03,  1.39532685e-02, -1.00507952e-01,\n",
       "         -4.24877144e-02,  2.18698028e-02, -2.56649721e-02,\n",
       "          1.76934134e-02,  9.33578424e-03, -2.15140097e-02,\n",
       "          1.27885444e-03, -3.31358574e-02, -8.33016038e-02,\n",
       "         -7.04244152e-02, -7.51446560e-02, -2.85590570e-02,\n",
       "         -4.82351817e-02, -1.11951549e-02, -5.71641736e-02,\n",
       "          2.68591996e-02,  4.11462784e-03,  2.22476455e-03,\n",
       "         -8.38469341e-03, -2.46393811e-02, -1.54517666e-02,\n",
       "          7.08921580e-04, -2.49075498e-02, -3.22938114e-02,\n",
       "         -6.23974279e-02,  1.97972655e-02,  2.87237074e-02,\n",
       "         -4.65525463e-02, -3.85891423e-02,  8.87269899e-03,\n",
       "         -5.28175272e-02, -2.71327421e-02,  3.65902148e-02,\n",
       "         -9.16150026e-03, -7.43733346e-02, -7.94962980e-03,\n",
       "          4.17517014e-02, -2.70789047e-03, -3.82475108e-02,\n",
       "          3.28784920e-02,  2.74867639e-02,  4.37347312e-03,\n",
       "          3.50610539e-02, -2.72608269e-02, -9.10433941e-03,\n",
       "          2.58714277e-02,  4.81436849e-02, -3.90308127e-02,\n",
       "          1.79567672e-02, -3.66287753e-02, -1.28577296e-02,\n",
       "         -3.70660312e-02,  1.31806247e-02, -2.55208481e-02,\n",
       "         -1.48080778e-03, -4.76340344e-03,  2.37953775e-02,\n",
       "         -5.23040108e-02, -6.38165325e-02, -1.29147237e-02,\n",
       "         -5.45050111e-03, -1.53034061e-01,  1.70869380e-02,\n",
       "         -3.49002518e-02, -2.00694967e-02, -1.88856926e-02,\n",
       "          4.44856398e-02, -1.25894016e-02, -2.64524911e-02,\n",
       "          8.18429515e-03, -1.52463624e-02,  3.90927829e-02,\n",
       "         -5.26719056e-02,  3.62305641e-02, -8.52019805e-03,\n",
       "          1.65385543e-03,  6.72470639e-03,  3.75752919e-03,\n",
       "         -2.57620886e-02,  1.25113633e-02,  5.91949513e-03,\n",
       "         -2.40331944e-02, -1.21482341e-02,  2.83407234e-02,\n",
       "          2.56095417e-02,  3.39273512e-02,  3.31112929e-02,\n",
       "          4.46236804e-02, -2.68947501e-02,  1.55458013e-02,\n",
       "         -8.32157582e-03,  3.69162532e-03,  1.44904042e-02,\n",
       "         -5.77007979e-03,  1.54826581e-03,  2.24501602e-02,\n",
       "          6.63838442e-03,  3.47910486e-02,  1.32909063e-02,\n",
       "          1.06773283e-02,  2.93501038e-02,  5.11190519e-02,\n",
       "          7.73564773e-03, -4.62403372e-02, -2.42497716e-02,\n",
       "          2.91189644e-02, -6.00806139e-02, -1.47859221e-02,\n",
       "          5.20723639e-03, -1.86122139e-03, -4.20429371e-02,\n",
       "          1.67293660e-02,  5.35215922e-02,  2.74229925e-02,\n",
       "         -6.94102198e-02,  4.08094861e-02, -7.37296976e-03,\n",
       "          3.77385318e-03, -2.79146209e-02,  1.63557392e-03,\n",
       "         -3.31038050e-02, -6.48552179e-02,  6.97042644e-02,\n",
       "          2.46927645e-02, -1.54647166e-02, -3.90476012e-03,\n",
       "         -5.29565513e-02,  1.06386608e-02, -7.63162412e-03,\n",
       "         -9.23177227e-03,  7.15001812e-03, -4.65217307e-02,\n",
       "          2.95240134e-02,  4.47836667e-02, -2.58597117e-02,\n",
       "          3.28717344e-02, -9.92986839e-03, -2.01046118e-03,\n",
       "          4.26500998e-02, -1.02301948e-02,  1.94264874e-02,\n",
       "         -4.05213237e-02, -1.73816588e-02,  2.56788693e-02,\n",
       "          7.68792927e-02,  3.04466952e-02,  2.56336201e-03,\n",
       "          5.48380092e-02, -3.59294936e-02, -5.11903130e-02,\n",
       "         -6.21623285e-02,  4.78590131e-02, -4.51164378e-04,\n",
       "         -1.01554440e-02, -1.09042868e-03,  8.00474547e-03,\n",
       "         -4.09643985e-02,  4.60597537e-02, -3.78358774e-02,\n",
       "         -2.32667401e-02, -4.79908362e-02,  8.17416385e-02,\n",
       "          7.53336772e-03,  1.88280046e-02,  3.65650244e-02,\n",
       "          2.31723972e-02, -1.91145130e-02,  5.51417423e-03,\n",
       "         -1.29362000e-02,  5.10175936e-02, -6.51572272e-02,\n",
       "         -1.31199416e-02, -2.02726815e-02, -3.75877991e-02,\n",
       "         -1.23191718e-02, -2.32520681e-02,  1.39611373e-02,\n",
       "         -1.47142180e-03,  3.32498632e-04,  1.12538971e-02,\n",
       "          2.02512722e-02,  4.06043604e-02,  1.81058645e-02,\n",
       "         -3.75541998e-03,  1.64482649e-02, -7.75260329e-02,\n",
       "          1.79013424e-03,  3.90715152e-02,  4.83902870e-03,\n",
       "          7.02983886e-03,  2.42124149e-03,  6.29286990e-02,\n",
       "          1.14664491e-02, -2.28633452e-02, -6.23428822e-02,\n",
       "         -8.88354797e-03, -1.82411093e-02, -5.96529990e-03,\n",
       "         -9.49529931e-02, -6.75694570e-02,  1.68540012e-02,\n",
       "          1.39626125e-02,  1.50713446e-02, -2.79989317e-02,\n",
       "          2.38965936e-02, -2.93452628e-02, -2.80521940e-02,\n",
       "          4.69942689e-02,  2.22980622e-02,  2.67113652e-02,\n",
       "         -2.29064599e-02, -3.68673354e-02,  9.28972382e-04,\n",
       "         -3.14886943e-02,  5.45802675e-02,  3.81424427e-02,\n",
       "         -9.82583687e-03, -9.75987874e-03, -3.39753181e-03,\n",
       "         -5.42528667e-02, -3.66875529e-02,  5.24652191e-03,\n",
       "          1.20246941e-02,  5.35198301e-02, -3.44860516e-02,\n",
       "         -4.98520257e-03, -3.55897145e-03,  4.40122979e-03,\n",
       "          2.80053616e-02,  5.23190983e-02, -1.39685674e-02,\n",
       "         -4.12508734e-02,  5.08039026e-03, -1.77863203e-02,\n",
       "          1.43261172e-03, -2.20268089e-02,  1.62992198e-02,\n",
       "          4.51993346e-02, -4.44896705e-02, -1.67660159e-03,\n",
       "         -2.83312872e-02,  1.01768514e-02, -3.61744240e-02,\n",
       "         -2.61132009e-02,  6.18925355e-02,  4.50195335e-02,\n",
       "          6.45436794e-02,  1.98087972e-02, -4.03549969e-02,\n",
       "          1.46335242e-02,  1.56129273e-02, -8.20877310e-03,\n",
       "          9.90838092e-03,  3.64913642e-02,  5.24053313e-02,\n",
       "          1.83603335e-02, -2.18650699e-03,  2.76752803e-02,\n",
       "         -2.24059261e-02,  7.83847738e-03,  3.24387513e-02,\n",
       "         -1.76712256e-02,  7.84556493e-02, -3.19869667e-02,\n",
       "          3.76001783e-02, -1.28575079e-02, -2.26729941e-02,\n",
       "          2.79879812e-02, -2.00726092e-02, -1.93551350e-02,\n",
       "          8.22996534e-03, -6.03975449e-03, -5.26188454e-03,\n",
       "         -4.19163425e-03, -7.87567571e-02, -2.36071665e-02,\n",
       "          5.46574965e-02,  2.11618468e-02,  3.68438661e-02,\n",
       "         -1.12427138e-02,  1.81844570e-02,  2.07927357e-02,\n",
       "         -2.51409933e-02,  3.17105837e-02,  8.80330708e-03,\n",
       "          4.38487977e-02, -7.96992518e-03,  3.35229486e-02,\n",
       "          8.29839408e-02,  2.08736788e-02, -2.27769464e-02,\n",
       "          4.37225355e-03, -7.26549095e-03, -2.44155806e-02,\n",
       "          8.16580057e-02,  1.91629175e-02, -2.26154923e-02,\n",
       "         -3.48675437e-02,  1.67389063e-03, -1.36521487e-02,\n",
       "         -2.51241401e-03, -1.62085351e-02,  1.21321827e-02,\n",
       "         -2.66942545e-03, -5.98924980e-03, -7.83384498e-03,\n",
       "         -9.23777558e-03,  3.21002491e-02, -3.84116843e-02,\n",
       "         -2.40487270e-02,  4.00654636e-02, -3.62205431e-02,\n",
       "          9.11411084e-03, -1.45532645e-03,  8.19107704e-03,\n",
       "         -1.09390942e-02,  9.09950025e-03,  1.28719332e-02,\n",
       "          3.90242003e-02,  3.81474681e-02, -5.16197353e-04,\n",
       "         -5.53876497e-02,  2.50641331e-02,  2.82035563e-02,\n",
       "         -2.34670863e-02,  3.63191217e-02,  6.94688261e-02,\n",
       "          6.20050058e-02,  9.23190359e-03,  1.79108549e-02,\n",
       "         -1.10834166e-02, -2.47420073e-02, -2.42549423e-02,\n",
       "          1.99090466e-02, -3.14182453e-02,  6.13017268e-02,\n",
       "          2.12169308e-02, -7.98197463e-03, -5.92970774e-02,\n",
       "          1.59455575e-02,  1.14530092e-02, -5.65842539e-03,\n",
       "          5.80064505e-02,  1.72997955e-02,  4.54897396e-02,\n",
       "         -3.24725881e-02, -3.25901918e-02,  5.18535301e-02,\n",
       "         -4.70557995e-02,  3.41535220e-03, -1.63305420e-02,\n",
       "         -4.22875099e-02, -3.58601883e-02, -6.37771785e-02,\n",
       "         -3.46611850e-02, -2.29824781e-02, -3.71391978e-03,\n",
       "         -2.73804087e-02,  2.48477254e-02, -8.19472894e-02,\n",
       "          5.76100824e-03, -4.02736142e-02, -5.46662137e-03,\n",
       "         -2.27484349e-02,  2.79185623e-02,  1.82147678e-02,\n",
       "          2.22990643e-02,  2.19506081e-02, -5.76094985e-02,\n",
       "         -2.74683591e-02,  3.24624218e-02,  1.07289152e-03,\n",
       "         -2.75122356e-02,  6.64937422e-02, -1.71345694e-03,\n",
       "          6.88604917e-03, -3.97225231e-04,  4.06631008e-02,\n",
       "         -3.48501578e-02, -1.39064603e-02,  4.53068726e-02,\n",
       "         -9.19779018e-03, -6.41627470e-04,  2.67547835e-02,\n",
       "         -5.85050806e-02, -1.82013363e-02,  2.31376123e-02,\n",
       "          2.56540067e-02, -1.86200906e-03,  3.20546478e-02,\n",
       "          7.02229934e-03,  2.24356260e-02,  1.79935973e-02,\n",
       "          6.13055937e-03,  5.86877801e-02,  4.09233272e-02,\n",
       "          2.07659230e-02, -4.19071093e-02, -1.91310085e-02,\n",
       "         -1.40892444e-02, -5.76054119e-03, -4.59849499e-02,\n",
       "          1.47640249e-02, -3.11255790e-02,  3.32067721e-02,\n",
       "         -1.81060079e-02, -4.76227552e-02,  7.55692646e-03,\n",
       "          4.97656278e-02,  2.24995799e-02,  4.94121127e-02,\n",
       "         -6.14284799e-02,  1.19183948e-02,  2.18840111e-02,\n",
       "         -2.77697407e-02, -2.54314579e-03, -3.05494331e-02,\n",
       "          1.73031690e-03, -1.93163240e-03, -4.16246206e-02,\n",
       "          4.81459685e-02, -4.00580615e-02, -4.25818339e-02,\n",
       "         -1.11350119e-02, -3.80438678e-02, -1.23585958e-03,\n",
       "         -4.77713943e-02,  3.61616747e-03, -4.14988492e-03,\n",
       "         -2.13531894e-03, -2.63940897e-02,  5.04175834e-02,\n",
       "          2.49335561e-02, -4.36887741e-02,  3.61094438e-02,\n",
       "         -3.01739350e-02, -3.86070870e-02,  6.21401845e-03,\n",
       "         -3.54882926e-02,  1.56432372e-02,  2.70776842e-02,\n",
       "         -3.77275646e-02,  1.66042186e-02, -5.59265912e-02,\n",
       "          8.56745581e-04, -4.94323261e-02,  3.77576388e-02,\n",
       "         -2.72562113e-02, -2.22713165e-02, -2.88175996e-02,\n",
       "          2.45312080e-02,  4.09937464e-02,  1.09606115e-02,\n",
       "         -6.09617718e-02, -2.58368440e-04,  9.82476585e-03,\n",
       "         -2.30663102e-02,  8.97172391e-02,  6.07517362e-02,\n",
       "         -4.92484942e-02,  2.61505339e-02,  1.52827706e-02,\n",
       "          1.14171710e-02,  2.20664535e-02,  8.70280527e-03,\n",
       "         -4.35095094e-02, -3.55313197e-02,  9.31928772e-03,\n",
       "          5.80750071e-02,  3.06682959e-02,  1.46369589e-02,\n",
       "         -6.86746463e-02, -3.20826545e-02, -4.79165837e-02,\n",
       "          4.80555445e-02,  3.19304168e-02, -1.17012113e-02,\n",
       "         -4.64003533e-03, -2.44570384e-03,  1.29481927e-02,\n",
       "         -4.25913185e-02,  2.01796778e-02, -1.47005720e-02,\n",
       "         -2.13555545e-02, -3.48796882e-02,  2.65420247e-02,\n",
       "          1.20047443e-02, -3.60845216e-02,  5.52808382e-02,\n",
       "          4.25706841e-02,  2.39757672e-02,  1.02229696e-03,\n",
       "         -2.69704405e-02,  2.21041460e-02, -1.10016372e-02,\n",
       "         -3.83054316e-02,  3.24082561e-03, -2.38851495e-02,\n",
       "         -7.96965149e-04,  3.64617780e-02, -6.19663373e-02,\n",
       "          6.73890300e-03,  3.70311551e-02, -1.10648321e-02,\n",
       "         -1.76464971e-02, -6.68511586e-03,  3.95942852e-02,\n",
       "         -3.21222134e-02,  2.20915936e-02, -3.15232389e-02,\n",
       "         -3.72835249e-02,  7.68566057e-02, -1.77826118e-02]]),\n",
       " 'documents': ['Assessment Framework \\nfor the Digital SAT® SuiteAssessment Framework \\nfor the Digital SAT® Suite\\nVersion 3.01, August 2024\\nAbout College Board\\nCollege Board reaches more than 7 million students a year, helping them \\nnavigate the path from high school to college and career. Our not-for-\\nprofit membership organization was founded more than 120 years ago. \\nWe pioneered programs like the SAT® and AP® to expand opportunities \\nfor students and help them develop the skills they need. Our BigFuture® \\nprogram helps students plan for college, pay for college, and explore \\ncareers. Learn more at cb.org .\\nSuggested Citation:  College Board. 2024. Assessment Framework for the \\nDigital SAT Suite , version 3.01 (August 2024). New Y ork: College Board.\\n© 2024 College Board. College Board, Advanced Placement, AP , BigFuture, Landscape, Pre-AP , SAT, and \\nthe acorn logo are registered trademarks of College Board. AP Potential, Bluebook, Connections, PSAT,'],\n",
       " 'uris': None,\n",
       " 'data': None,\n",
       " 'metadatas': [None],\n",
       " 'included': [<IncludeEnum.embeddings: 'embeddings'>,\n",
       "  <IncludeEnum.documents: 'documents'>,\n",
       "  <IncludeEnum.metadatas: 'metadatas'>]}"
      ]
     },
     "execution_count": 21,
     "metadata": {},
     "output_type": "execute_result"
    }
   ],
   "source": [
    "db.count()\n",
    "db.peek(1)"
   ]
  },
  {
   "cell_type": "markdown",
   "id": "8bd9e674",
   "metadata": {
    "papermill": {
     "duration": 0.012123,
     "end_time": "2025-04-11T03:17:09.736514",
     "exception": false,
     "start_time": "2025-04-11T03:17:09.724391",
     "status": "completed"
    },
    "tags": []
   },
   "source": [
    "Let's look for *Information and Ideas* and see what relevant information the vector database finds on it."
   ]
  },
  {
   "cell_type": "code",
   "execution_count": 22,
   "id": "cbfb2ec6",
   "metadata": {
    "execution": {
     "iopub.execute_input": "2025-04-11T03:17:09.762466Z",
     "iopub.status.busy": "2025-04-11T03:17:09.762061Z",
     "iopub.status.idle": "2025-04-11T03:17:10.142666Z",
     "shell.execute_reply": "2025-04-11T03:17:10.141496Z"
    },
    "papermill": {
     "duration": 0.39582,
     "end_time": "2025-04-11T03:17:10.144673",
     "exception": false,
     "start_time": "2025-04-11T03:17:09.748853",
     "status": "completed"
    },
    "tags": []
   },
   "outputs": [
    {
     "data": {
      "text/markdown": [
       "4.1.8. Word Count  ..................................................................................................................... 79\n",
       "4.1.9. Informational Graphics  ............................................................................................... 79\n",
       "4.1.10. T ext Complexity  .......................................................................................................... 79\n",
       "4.2 Definitions  ..................................................................................................................................... 79\n",
       "4.2.1. Construct  ......................................................................................................................... 79\n",
       "4.2.2. Claims  ................................................................................................................................ 80\n",
       "4.3 Content Domain Structure  ...................................................................................................... 81"
      ],
      "text/plain": [
       "<IPython.core.display.Markdown object>"
      ]
     },
     "execution_count": 22,
     "metadata": {},
     "output_type": "execute_result"
    }
   ],
   "source": [
    "# Switch to query mode when generating embeddings.\n",
    "embed_fn.document_mode = False\n",
    "\n",
    "# Search the Chroma DB using the specified query.\n",
    "query = \"What is the weighting of Information and Ideas?\"\n",
    "\n",
    "result = db.query(query_texts=[query], n_results=1)\n",
    "[all_passages] = result[\"documents\"]\n",
    "\n",
    "\n",
    "Markdown(all_passages[0])"
   ]
  },
  {
   "cell_type": "markdown",
   "id": "194c3d56",
   "metadata": {
    "papermill": {
     "duration": 0.07304,
     "end_time": "2025-04-11T03:17:10.231365",
     "exception": false,
     "start_time": "2025-04-11T03:17:10.158325",
     "status": "completed"
    },
    "tags": []
   },
   "source": [
    "Now let's look for something more generic, like scientific vocabulary or weighting of passages."
   ]
  },
  {
   "cell_type": "code",
   "execution_count": 23,
   "id": "e060270f",
   "metadata": {
    "execution": {
     "iopub.execute_input": "2025-04-11T03:17:10.259276Z",
     "iopub.status.busy": "2025-04-11T03:17:10.258614Z",
     "iopub.status.idle": "2025-04-11T03:17:10.452159Z",
     "shell.execute_reply": "2025-04-11T03:17:10.451031Z"
    },
    "papermill": {
     "duration": 0.209267,
     "end_time": "2025-04-11T03:17:10.454173",
     "exception": false,
     "start_time": "2025-04-11T03:17:10.244906",
     "status": "completed"
    },
    "tags": []
   },
   "outputs": [
    {
     "data": {
      "text/markdown": [
       "standardized testing as well as many families, educators, and policymakers have \n",
       "raised concerns about the extent to which U.S. students are tested as part of \n",
       "K–12 education. Polling has suggested that the public’s doubts about the value of \n",
       "standardized testing in schools have grown over time, and the necessary relaxation \n",
       "of federal testing requirements under the successor Every Student Succeeds Act \n",
       "during the 2019–2020 and, to a lesser extent, 2020–2021 pandemic years has \n",
       "further contributed to those doubts. (See Bruno and Goldhaber 2021 for a brief \n",
       "recent overview.)A Living \n",
       "Document\n",
       "This release of the Assessment \n",
       "Framework for the Digital SAT \n",
       "Suite  includes authoritative, \n",
       "up-to-date information about \n",
       "the digital suite. As College \n",
       "Board continues to research and \n",
       "implement the tests, updates \n",
       "will be made to this document \n",
       "(and disseminated through other \n",
       "means, such as our website, \n",
       "sat.org/digital ) to ensure that \n",
       "readers have as complete and \n",
       "accurate a picture as possible."
      ],
      "text/plain": [
       "<IPython.core.display.Markdown object>"
      ]
     },
     "execution_count": 23,
     "metadata": {},
     "output_type": "execute_result"
    }
   ],
   "source": [
    "# Switch to query mode when generating embeddings.\n",
    "embed_fn.document_mode = False\n",
    "\n",
    "# Search the Chroma DB using the specified query.\n",
    "query = \"What scientific stuff are we tested on?\"\n",
    "\n",
    "result = db.query(query_texts=[query], n_results=1)\n",
    "[all_passages] = result[\"documents\"]\n",
    "\n",
    "\n",
    "Markdown(all_passages[0])"
   ]
  },
  {
   "cell_type": "markdown",
   "id": "81f1e01b",
   "metadata": {
    "papermill": {
     "duration": 0.012518,
     "end_time": "2025-04-11T03:17:10.479488",
     "exception": false,
     "start_time": "2025-04-11T03:17:10.466970",
     "status": "completed"
    },
    "tags": []
   },
   "source": [
    "Not much relevant information. Let's try asking NotebookLM to summarize the document for this agent so that the key information the assisting agent needs is more accessible. Somewhat akin to distillation."
   ]
  },
  {
   "cell_type": "markdown",
   "id": "5dfcda32",
   "metadata": {
    "papermill": {
     "duration": 0.013891,
     "end_time": "2025-04-11T03:17:10.507289",
     "exception": false,
     "start_time": "2025-04-11T03:17:10.493398",
     "status": "completed"
    },
    "tags": []
   },
   "source": [
    "do some mathplotlib thingies"
   ]
  }
 ],
 "metadata": {
  "kaggle": {
   "accelerator": "none",
   "dataSources": [],
   "dockerImageVersionId": 30918,
   "isGpuEnabled": false,
   "isInternetEnabled": true,
   "language": "python",
   "sourceType": "notebook"
  },
  "kernelspec": {
   "display_name": "Python 3",
   "language": "python",
   "name": "python3"
  },
  "language_info": {
   "codemirror_mode": {
    "name": "ipython",
    "version": 3
   },
   "file_extension": ".py",
   "mimetype": "text/x-python",
   "name": "python",
   "nbconvert_exporter": "python",
   "pygments_lexer": "ipython3",
   "version": "3.10.12"
  },
  "papermill": {
   "default_parameters": {},
   "duration": 81.782379,
   "end_time": "2025-04-11T03:17:11.642647",
   "environment_variables": {},
   "exception": null,
   "input_path": "__notebook__.ipynb",
   "output_path": "__notebook__.ipynb",
   "parameters": {},
   "start_time": "2025-04-11T03:15:49.860268",
   "version": "2.6.0"
  }
 },
 "nbformat": 4,
 "nbformat_minor": 5
}
