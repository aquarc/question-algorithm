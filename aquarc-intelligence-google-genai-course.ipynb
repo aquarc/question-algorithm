{
 "cells": [
  {
   "cell_type": "markdown",
   "id": "a4536048",
   "metadata": {
    "papermill": {
     "duration": 0.025147,
     "end_time": "2025-04-21T00:48:03.028739",
     "exception": false,
     "start_time": "2025-04-21T00:48:03.003592",
     "status": "completed"
    },
    "tags": []
   },
   "source": [
    "# Aquarc Intelligence: SAT Mistake Analysis with Gemini\n",
    "\n",
    "Traditional SAT platforms require a user to complete a whole test and practice skills that frequently intertwine with different sections on the SAT, leading to time wasted on practicing questions that don't really matter. Intelligent understanding of the user's thought process can only be accomplished by paid AI tools or tutors at this point.\n",
    "\n",
    "Aquarc's agent enables the user to understand why they truly got a question wrong, understand different ways to reach their answer and the right answer, and practice similar questions to the ones they struggle with."
   ]
  },
  {
   "cell_type": "markdown",
   "id": "8eb9575f",
   "metadata": {
    "papermill": {
     "duration": 0.021593,
     "end_time": "2025-04-21T00:48:03.072285",
     "exception": false,
     "start_time": "2025-04-21T00:48:03.050692",
     "status": "completed"
    },
    "tags": []
   },
   "source": [
    "# Install the SDK \n",
    "We will be using Google's Gemini and utilities to build the model."
   ]
  },
  {
   "cell_type": "code",
   "execution_count": 1,
   "id": "f4277436",
   "metadata": {
    "execution": {
     "iopub.execute_input": "2025-04-21T00:48:03.127149Z",
     "iopub.status.busy": "2025-04-21T00:48:03.126608Z",
     "iopub.status.idle": "2025-04-21T00:48:53.089159Z",
     "shell.execute_reply": "2025-04-21T00:48:53.087701Z"
    },
    "papermill": {
     "duration": 49.996793,
     "end_time": "2025-04-21T00:48:53.091620",
     "exception": false,
     "start_time": "2025-04-21T00:48:03.094827",
     "status": "completed"
    },
    "tags": []
   },
   "outputs": [
    {
     "name": "stdout",
     "output_type": "stream",
     "text": [
      "\u001b[2K     \u001b[90m━━━━━━━━━━━━━━━━━━━━━━━━━━━━━━━━━━━━━━━━\u001b[0m \u001b[32m67.3/67.3 kB\u001b[0m \u001b[31m3.4 MB/s\u001b[0m eta \u001b[36m0:00:00\u001b[0m\r\n",
      "\u001b[?25h  Installing build dependencies ... \u001b[?25l\u001b[?25hdone\r\n",
      "  Getting requirements to build wheel ... \u001b[?25l\u001b[?25hdone\r\n",
      "  Preparing metadata (pyproject.toml) ... \u001b[?25l\u001b[?25hdone\r\n",
      "\u001b[2K   \u001b[90m━━━━━━━━━━━━━━━━━━━━━━━━━━━━━━━━━━━━━━━━\u001b[0m \u001b[32m144.7/144.7 kB\u001b[0m \u001b[31m7.0 MB/s\u001b[0m eta \u001b[36m0:00:00\u001b[0m\r\n",
      "\u001b[2K   \u001b[90m━━━━━━━━━━━━━━━━━━━━━━━━━━━━━━━━━━━━━━━━\u001b[0m \u001b[32m611.1/611.1 kB\u001b[0m \u001b[31m21.8 MB/s\u001b[0m eta \u001b[36m0:00:00\u001b[0m\r\n",
      "\u001b[2K   \u001b[90m━━━━━━━━━━━━━━━━━━━━━━━━━━━━━━━━━━━━━━━━\u001b[0m \u001b[32m2.4/2.4 MB\u001b[0m \u001b[31m57.3 MB/s\u001b[0m eta \u001b[36m0:00:00\u001b[0m\r\n",
      "\u001b[2K   \u001b[90m━━━━━━━━━━━━━━━━━━━━━━━━━━━━━━━━━━━━━━━━\u001b[0m \u001b[32m1.0/1.0 MB\u001b[0m \u001b[31m36.6 MB/s\u001b[0m eta \u001b[36m0:00:00\u001b[0m\r\n",
      "\u001b[2K   \u001b[90m━━━━━━━━━━━━━━━━━━━━━━━━━━━━━━━━━━━━━━━━\u001b[0m \u001b[32m232.6/232.6 kB\u001b[0m \u001b[31m10.9 MB/s\u001b[0m eta \u001b[36m0:00:00\u001b[0m\r\n",
      "\u001b[2K   \u001b[90m━━━━━━━━━━━━━━━━━━━━━━━━━━━━━━━━━━━━━━━━\u001b[0m \u001b[32m100.9/100.9 kB\u001b[0m \u001b[31m4.6 MB/s\u001b[0m eta \u001b[36m0:00:00\u001b[0m\r\n",
      "\u001b[2K   \u001b[90m━━━━━━━━━━━━━━━━━━━━━━━━━━━━━━━━━━━━━━━━\u001b[0m \u001b[32m284.2/284.2 kB\u001b[0m \u001b[31m14.2 MB/s\u001b[0m eta \u001b[36m0:00:00\u001b[0m\r\n",
      "\u001b[2K   \u001b[90m━━━━━━━━━━━━━━━━━━━━━━━━━━━━━━━━━━━━━━━━\u001b[0m \u001b[32m95.2/95.2 kB\u001b[0m \u001b[31m4.6 MB/s\u001b[0m eta \u001b[36m0:00:00\u001b[0m\r\n",
      "\u001b[2K   \u001b[90m━━━━━━━━━━━━━━━━━━━━━━━━━━━━━━━━━━━━━━━━\u001b[0m \u001b[32m2.0/2.0 MB\u001b[0m \u001b[31m50.3 MB/s\u001b[0m eta \u001b[36m0:00:00\u001b[0m\r\n",
      "\u001b[2K   \u001b[90m━━━━━━━━━━━━━━━━━━━━━━━━━━━━━━━━━━━━━━━━\u001b[0m \u001b[32m433.9/433.9 kB\u001b[0m \u001b[31m21.2 MB/s\u001b[0m eta \u001b[36m0:00:00\u001b[0m\r\n",
      "\u001b[2K   \u001b[90m━━━━━━━━━━━━━━━━━━━━━━━━━━━━━━━━━━━━━━━━\u001b[0m \u001b[32m99.2/99.2 kB\u001b[0m \u001b[31m4.9 MB/s\u001b[0m eta \u001b[36m0:00:00\u001b[0m\r\n",
      "\u001b[2K   \u001b[90m━━━━━━━━━━━━━━━━━━━━━━━━━━━━━━━━━━━━━━━━\u001b[0m \u001b[32m16.0/16.0 MB\u001b[0m \u001b[31m72.8 MB/s\u001b[0m eta \u001b[36m0:00:00\u001b[0m\r\n",
      "\u001b[2K   \u001b[90m━━━━━━━━━━━━━━━━━━━━━━━━━━━━━━━━━━━━━━━━\u001b[0m \u001b[32m55.9/55.9 kB\u001b[0m \u001b[31m2.6 MB/s\u001b[0m eta \u001b[36m0:00:00\u001b[0m\r\n",
      "\u001b[2K   \u001b[90m━━━━━━━━━━━━━━━━━━━━━━━━━━━━━━━━━━━━━━━━\u001b[0m \u001b[32m188.4/188.4 kB\u001b[0m \u001b[31m8.9 MB/s\u001b[0m eta \u001b[36m0:00:00\u001b[0m\r\n",
      "\u001b[2K   \u001b[90m━━━━━━━━━━━━━━━━━━━━━━━━━━━━━━━━━━━━━━━━\u001b[0m \u001b[32m65.3/65.3 kB\u001b[0m \u001b[31m3.7 MB/s\u001b[0m eta \u001b[36m0:00:00\u001b[0m\r\n",
      "\u001b[2K   \u001b[90m━━━━━━━━━━━━━━━━━━━━━━━━━━━━━━━━━━━━━━━━\u001b[0m \u001b[32m119.0/119.0 kB\u001b[0m \u001b[31m6.7 MB/s\u001b[0m eta \u001b[36m0:00:00\u001b[0m\r\n",
      "\u001b[2K   \u001b[90m━━━━━━━━━━━━━━━━━━━━━━━━━━━━━━━━━━━━━━━━\u001b[0m \u001b[32m89.1/89.1 kB\u001b[0m \u001b[31m4.7 MB/s\u001b[0m eta \u001b[36m0:00:00\u001b[0m\r\n",
      "\u001b[2K   \u001b[90m━━━━━━━━━━━━━━━━━━━━━━━━━━━━━━━━━━━━━━━━\u001b[0m \u001b[32m62.5/62.5 kB\u001b[0m \u001b[31m3.3 MB/s\u001b[0m eta \u001b[36m0:00:00\u001b[0m\r\n",
      "\u001b[2K   \u001b[90m━━━━━━━━━━━━━━━━━━━━━━━━━━━━━━━━━━━━━━━━\u001b[0m \u001b[32m442.1/442.1 kB\u001b[0m \u001b[31m20.9 MB/s\u001b[0m eta \u001b[36m0:00:00\u001b[0m\r\n",
      "\u001b[2K   \u001b[90m━━━━━━━━━━━━━━━━━━━━━━━━━━━━━━━━━━━━━━━━\u001b[0m \u001b[32m319.7/319.7 kB\u001b[0m \u001b[31m15.4 MB/s\u001b[0m eta \u001b[36m0:00:00\u001b[0m\r\n",
      "\u001b[2K   \u001b[90m━━━━━━━━━━━━━━━━━━━━━━━━━━━━━━━━━━━━━━━━\u001b[0m \u001b[32m72.0/72.0 kB\u001b[0m \u001b[31m3.0 MB/s\u001b[0m eta \u001b[36m0:00:00\u001b[0m\r\n",
      "\u001b[2K   \u001b[90m━━━━━━━━━━━━━━━━━━━━━━━━━━━━━━━━━━━━━━━━\u001b[0m \u001b[32m3.8/3.8 MB\u001b[0m \u001b[31m65.0 MB/s\u001b[0m eta \u001b[36m0:00:00\u001b[0m\r\n",
      "\u001b[2K   \u001b[90m━━━━━━━━━━━━━━━━━━━━━━━━━━━━━━━━━━━━━━━━\u001b[0m \u001b[32m454.9/454.9 kB\u001b[0m \u001b[31m21.0 MB/s\u001b[0m eta \u001b[36m0:00:00\u001b[0m\r\n",
      "\u001b[2K   \u001b[90m━━━━━━━━━━━━━━━━━━━━━━━━━━━━━━━━━━━━━━━━\u001b[0m \u001b[32m46.0/46.0 kB\u001b[0m \u001b[31m2.4 MB/s\u001b[0m eta \u001b[36m0:00:00\u001b[0m\r\n",
      "\u001b[2K   \u001b[90m━━━━━━━━━━━━━━━━━━━━━━━━━━━━━━━━━━━━━━━━\u001b[0m \u001b[32m86.8/86.8 kB\u001b[0m \u001b[31m4.4 MB/s\u001b[0m eta \u001b[36m0:00:00\u001b[0m\r\n",
      "\u001b[?25h  Building wheel for pypika (pyproject.toml) ... \u001b[?25l\u001b[?25hdone\r\n",
      "\u001b[31mERROR: pip's dependency resolver does not currently take into account all the packages that are installed. This behaviour is the source of the following dependency conflicts.\r\n",
      "gcsfs 2024.10.0 requires fsspec==2024.10.0, but you have fsspec 2024.12.0 which is incompatible.\r\n",
      "google-api-core 1.34.1 requires protobuf!=3.20.0,!=3.20.1,!=4.21.0,!=4.21.1,!=4.21.2,!=4.21.3,!=4.21.4,!=4.21.5,<4.0.0dev,>=3.19.5, but you have protobuf 5.29.4 which is incompatible.\r\n",
      "google-cloud-bigtable 2.27.0 requires google-api-core[grpc]<3.0.0dev,>=2.16.0, but you have google-api-core 1.34.1 which is incompatible.\r\n",
      "google-cloud-translate 3.12.1 requires protobuf!=3.20.0,!=3.20.1,!=4.21.0,!=4.21.1,!=4.21.2,!=4.21.3,!=4.21.4,!=4.21.5,<5.0.0dev,>=3.19.5, but you have protobuf 5.29.4 which is incompatible.\r\n",
      "pandas-gbq 0.25.0 requires google-api-core<3.0.0dev,>=2.10.2, but you have google-api-core 1.34.1 which is incompatible.\r\n",
      "tensorflow 2.17.1 requires protobuf!=4.21.0,!=4.21.1,!=4.21.2,!=4.21.3,!=4.21.4,!=4.21.5,<5.0.0dev,>=3.20.3, but you have protobuf 5.29.4 which is incompatible.\r\n",
      "tensorflow-decision-forests 1.10.0 requires tensorflow==2.17.0, but you have tensorflow 2.17.1 which is incompatible.\r\n",
      "tensorflow-metadata 1.13.1 requires protobuf<5,>=3.20.3, but you have protobuf 5.29.4 which is incompatible.\u001b[0m\u001b[31m\r\n",
      "\u001b[0m"
     ]
    }
   ],
   "source": [
    "!pip uninstall -qqy jupyterlab  # Remove unused packages from Kaggle's base image that conflict\n",
    "!pip install -U -q \"google-genai==1.7.0\" langchain PyPDF2 \"chromadb==0.6.3\" markdownify"
   ]
  },
  {
   "cell_type": "markdown",
   "id": "4e462a7e",
   "metadata": {
    "papermill": {
     "duration": 0.023685,
     "end_time": "2025-04-21T00:48:53.148470",
     "exception": false,
     "start_time": "2025-04-21T00:48:53.124785",
     "status": "completed"
    },
    "tags": []
   },
   "source": [
    "Import the SDK and set up the API key"
   ]
  },
  {
   "cell_type": "code",
   "execution_count": 2,
   "id": "b1000952",
   "metadata": {
    "execution": {
     "iopub.execute_input": "2025-04-21T00:48:53.197875Z",
     "iopub.status.busy": "2025-04-21T00:48:53.197519Z",
     "iopub.status.idle": "2025-04-21T00:48:54.523599Z",
     "shell.execute_reply": "2025-04-21T00:48:54.522262Z"
    },
    "papermill": {
     "duration": 1.35276,
     "end_time": "2025-04-21T00:48:54.525843",
     "exception": false,
     "start_time": "2025-04-21T00:48:53.173083",
     "status": "completed"
    },
    "tags": []
   },
   "outputs": [],
   "source": [
    "from google import genai\n",
    "from google.genai import types\n",
    "\n",
    "from IPython.display import HTML, Markdown, display"
   ]
  },
  {
   "cell_type": "markdown",
   "id": "240d50a4",
   "metadata": {
    "papermill": {
     "duration": 0.023885,
     "end_time": "2025-04-21T00:48:54.574022",
     "exception": false,
     "start_time": "2025-04-21T00:48:54.550137",
     "status": "completed"
    },
    "tags": []
   },
   "source": [
    "Set up a retry helper so we can press \"Run All\" and not worry about hitting the quota. "
   ]
  },
  {
   "cell_type": "code",
   "execution_count": 3,
   "id": "fb05128e",
   "metadata": {
    "execution": {
     "iopub.execute_input": "2025-04-21T00:48:54.624324Z",
     "iopub.status.busy": "2025-04-21T00:48:54.623708Z",
     "iopub.status.idle": "2025-04-21T00:48:54.814165Z",
     "shell.execute_reply": "2025-04-21T00:48:54.812930Z"
    },
    "papermill": {
     "duration": 0.217028,
     "end_time": "2025-04-21T00:48:54.816211",
     "exception": false,
     "start_time": "2025-04-21T00:48:54.599183",
     "status": "completed"
    },
    "tags": []
   },
   "outputs": [],
   "source": [
    "from google.api_core import retry\n",
    "\n",
    "\n",
    "is_retriable = lambda e: (isinstance(e, genai.errors.APIError) and e.code in {429, 503})\n",
    "\n",
    "genai.models.Models.generate_content = retry.Retry(\n",
    "    predicate=is_retriable)(genai.models.Models.generate_content)"
   ]
  },
  {
   "cell_type": "markdown",
   "id": "9dfd9651",
   "metadata": {
    "papermill": {
     "duration": 0.023694,
     "end_time": "2025-04-21T00:48:54.863561",
     "exception": false,
     "start_time": "2025-04-21T00:48:54.839867",
     "status": "completed"
    },
    "tags": []
   },
   "source": [
    "### Set up your API key\n",
    "\n",
    "To run the following cell, your API key must be stored it in a [Kaggle secret](https://www.kaggle.com/discussions/product-feedback/114053) named `GOOGLE_API_KEY`.\n",
    "\n",
    "If you don't already have an API key, you can grab one from [AI Studio](https://aistudio.google.com/app/apikey). You can find [detailed instructions in the docs](https://ai.google.dev/gemini-api/docs/api-key).\n",
    "\n",
    "To make the key available through Kaggle secrets, choose `Secrets` from the `Add-ons` menu and follow the instructions to add your key or enable it for this notebook."
   ]
  },
  {
   "cell_type": "code",
   "execution_count": 4,
   "id": "75a4d24b",
   "metadata": {
    "execution": {
     "iopub.execute_input": "2025-04-21T00:48:54.910679Z",
     "iopub.status.busy": "2025-04-21T00:48:54.910100Z",
     "iopub.status.idle": "2025-04-21T00:48:55.093321Z",
     "shell.execute_reply": "2025-04-21T00:48:55.092189Z"
    },
    "papermill": {
     "duration": 0.209276,
     "end_time": "2025-04-21T00:48:55.095408",
     "exception": false,
     "start_time": "2025-04-21T00:48:54.886132",
     "status": "completed"
    },
    "tags": []
   },
   "outputs": [],
   "source": [
    "from kaggle_secrets import UserSecretsClient\n",
    "\n",
    "GOOGLE_API_KEY = UserSecretsClient().get_secret(\"GOOGLE_API_KEY\")"
   ]
  },
  {
   "cell_type": "markdown",
   "id": "adaaf0aa",
   "metadata": {
    "papermill": {
     "duration": 0.022885,
     "end_time": "2025-04-21T00:48:55.141352",
     "exception": false,
     "start_time": "2025-04-21T00:48:55.118467",
     "status": "completed"
    },
    "tags": []
   },
   "source": [
    "### Choose your model\n",
    "Depending on what's available and your quota, choose a model that's effective for your purposes."
   ]
  },
  {
   "cell_type": "code",
   "execution_count": 5,
   "id": "8d49f2e6",
   "metadata": {
    "execution": {
     "iopub.execute_input": "2025-04-21T00:48:55.190269Z",
     "iopub.status.busy": "2025-04-21T00:48:55.189845Z",
     "iopub.status.idle": "2025-04-21T00:48:56.037095Z",
     "shell.execute_reply": "2025-04-21T00:48:56.035877Z"
    },
    "papermill": {
     "duration": 0.87387,
     "end_time": "2025-04-21T00:48:56.039171",
     "exception": false,
     "start_time": "2025-04-21T00:48:55.165301",
     "status": "completed"
    },
    "tags": []
   },
   "outputs": [
    {
     "name": "stdout",
     "output_type": "stream",
     "text": [
      "models/chat-bison-001\n",
      "models/text-bison-001\n",
      "models/embedding-gecko-001\n",
      "models/gemini-1.0-pro-vision-latest\n",
      "models/gemini-pro-vision\n",
      "models/gemini-1.5-pro-latest\n",
      "models/gemini-1.5-pro-001\n",
      "models/gemini-1.5-pro-002\n",
      "models/gemini-1.5-pro\n",
      "models/gemini-1.5-flash-latest\n",
      "models/gemini-1.5-flash-001\n",
      "models/gemini-1.5-flash-001-tuning\n",
      "models/gemini-1.5-flash\n",
      "models/gemini-1.5-flash-002\n",
      "models/gemini-1.5-flash-8b\n",
      "models/gemini-1.5-flash-8b-001\n",
      "models/gemini-1.5-flash-8b-latest\n",
      "models/gemini-1.5-flash-8b-exp-0827\n",
      "models/gemini-1.5-flash-8b-exp-0924\n",
      "models/gemini-2.5-pro-exp-03-25\n",
      "models/gemini-2.5-pro-preview-03-25\n",
      "models/gemini-2.5-flash-preview-04-17\n",
      "models/gemini-2.0-flash-exp\n",
      "models/gemini-2.0-flash\n",
      "models/gemini-2.0-flash-001\n",
      "models/gemini-2.0-flash-exp-image-generation\n",
      "models/gemini-2.0-flash-lite-001\n",
      "models/gemini-2.0-flash-lite\n",
      "models/gemini-2.0-flash-lite-preview-02-05\n",
      "models/gemini-2.0-flash-lite-preview\n",
      "models/gemini-2.0-pro-exp\n",
      "models/gemini-2.0-pro-exp-02-05\n",
      "models/gemini-exp-1206\n",
      "models/gemini-2.0-flash-thinking-exp-01-21\n",
      "models/gemini-2.0-flash-thinking-exp\n",
      "models/gemini-2.0-flash-thinking-exp-1219\n",
      "models/learnlm-1.5-pro-experimental\n",
      "models/learnlm-2.0-flash-experimental\n",
      "models/gemma-3-1b-it\n",
      "models/gemma-3-4b-it\n",
      "models/gemma-3-12b-it\n",
      "models/gemma-3-27b-it\n",
      "models/embedding-001\n",
      "models/text-embedding-004\n",
      "models/gemini-embedding-exp-03-07\n",
      "models/gemini-embedding-exp\n",
      "models/aqa\n",
      "models/imagen-3.0-generate-002\n",
      "models/gemini-2.0-flash-live-001\n"
     ]
    }
   ],
   "source": [
    "client = genai.Client(api_key=GOOGLE_API_KEY)\n",
    "\n",
    "for model in client.models.list():\n",
    "  print(model.name)"
   ]
  },
  {
   "cell_type": "markdown",
   "id": "21902609",
   "metadata": {
    "papermill": {
     "duration": 0.023045,
     "end_time": "2025-04-21T00:48:56.086449",
     "exception": false,
     "start_time": "2025-04-21T00:48:56.063404",
     "status": "completed"
    },
    "tags": []
   },
   "source": [
    "Check out the detailed information for your model"
   ]
  },
  {
   "cell_type": "code",
   "execution_count": 6,
   "id": "12886846",
   "metadata": {
    "execution": {
     "iopub.execute_input": "2025-04-21T00:48:56.134390Z",
     "iopub.status.busy": "2025-04-21T00:48:56.133943Z",
     "iopub.status.idle": "2025-04-21T00:48:56.270843Z",
     "shell.execute_reply": "2025-04-21T00:48:56.269551Z"
    },
    "papermill": {
     "duration": 0.162811,
     "end_time": "2025-04-21T00:48:56.272809",
     "exception": false,
     "start_time": "2025-04-21T00:48:56.109998",
     "status": "completed"
    },
    "tags": []
   },
   "outputs": [
    {
     "name": "stdout",
     "output_type": "stream",
     "text": [
      "{'name': 'models/gemini-2.0-flash', 'display_name': 'Gemini 2.0 Flash', 'description': 'Gemini 2.0 Flash', 'version': '2.0', 'tuned_model_info': {}, 'input_token_limit': 1048576, 'output_token_limit': 8192, 'supported_actions': ['generateContent', 'countTokens', 'createCachedContent']}\n"
     ]
    }
   ],
   "source": [
    "for model in client.models.list():\n",
    "  if model.name == 'models/gemini-2.0-flash':\n",
    "    print(model.to_json_dict())\n",
    "    break\n",
    "\n",
    "# change this line if you want to use a different model\n",
    "model = \"gemini-2.0-flash\""
   ]
  },
  {
   "cell_type": "markdown",
   "id": "05de26c3",
   "metadata": {
    "papermill": {
     "duration": 0.024068,
     "end_time": "2025-04-21T00:48:56.321789",
     "exception": false,
     "start_time": "2025-04-21T00:48:56.297721",
     "status": "completed"
    },
    "tags": []
   },
   "source": [
    "Test your model"
   ]
  },
  {
   "cell_type": "code",
   "execution_count": 7,
   "id": "7e200db4",
   "metadata": {
    "execution": {
     "iopub.execute_input": "2025-04-21T00:48:56.371058Z",
     "iopub.status.busy": "2025-04-21T00:48:56.370628Z",
     "iopub.status.idle": "2025-04-21T00:48:56.844684Z",
     "shell.execute_reply": "2025-04-21T00:48:56.843254Z"
    },
    "papermill": {
     "duration": 0.500646,
     "end_time": "2025-04-21T00:48:56.846556",
     "exception": false,
     "start_time": "2025-04-21T00:48:56.345910",
     "status": "completed"
    },
    "tags": []
   },
   "outputs": [
    {
     "name": "stdout",
     "output_type": "stream",
     "text": [
      "Hello Zlork! It's nice to meet you. How can I help you today?\n",
      "\n"
     ]
    }
   ],
   "source": [
    "chat = client.chats.create(model=model, history=[])\n",
    "response = chat.send_message('Hello! My name is Zlork.')\n",
    "print(response.text)"
   ]
  },
  {
   "cell_type": "markdown",
   "id": "17916f4e",
   "metadata": {
    "papermill": {
     "duration": 0.024877,
     "end_time": "2025-04-21T00:48:56.895446",
     "exception": false,
     "start_time": "2025-04-21T00:48:56.870569",
     "status": "completed"
    },
    "tags": []
   },
   "source": [
    "You can use the `Markdown()` function to format it nicely in Kaggle."
   ]
  },
  {
   "cell_type": "code",
   "execution_count": 8,
   "id": "f82ba53a",
   "metadata": {
    "execution": {
     "iopub.execute_input": "2025-04-21T00:48:57.008627Z",
     "iopub.status.busy": "2025-04-21T00:48:57.008227Z",
     "iopub.status.idle": "2025-04-21T00:48:58.107526Z",
     "shell.execute_reply": "2025-04-21T00:48:58.105698Z"
    },
    "papermill": {
     "duration": 1.189874,
     "end_time": "2025-04-21T00:48:58.109739",
     "exception": false,
     "start_time": "2025-04-21T00:48:56.919865",
     "status": "completed"
    },
    "tags": []
   },
   "outputs": [
    {
     "data": {
      "text/markdown": [
       "Ah, Zlork! A pleasure to make your acquaintance! Allow me to extend a **warm welcome** to you!\n",
       "\n",
       "Perhaps you'd be interested in exploring some of my capabilities?\n",
       "\n",
       "*   I can translate languages with remarkable *fluidity*.\n",
       "*   I can generate different creative text formats, like poems, code, scripts, musical pieces, email, letters, etc.\n",
       "*   I will try my best to fulfill all your requirements.\n",
       "\n",
       "Do tell, Zlork, what piques your interest? Is there anything I can *illuminate* for you today? ✨\n"
      ],
      "text/plain": [
       "<IPython.core.display.Markdown object>"
      ]
     },
     "execution_count": 8,
     "metadata": {},
     "output_type": "execute_result"
    }
   ],
   "source": [
    "response = chat.send_message('Hello! My name is Zlork.' + \n",
    "                             'Use some fancy markdown in your message')\n",
    "Markdown(response.text)"
   ]
  },
  {
   "cell_type": "markdown",
   "id": "c9b2a786",
   "metadata": {
    "papermill": {
     "duration": 0.023912,
     "end_time": "2025-04-21T00:48:58.157765",
     "exception": false,
     "start_time": "2025-04-21T00:48:58.133853",
     "status": "completed"
    },
    "tags": []
   },
   "source": [
    "# A fine prompt\n",
    "**TODO: you should probably move this**\n",
    "\n",
    "Let's start by writing our prompt. What should it include and what should it mention? Following the principles taught throughout the course, let's place an importance on giving **positive** instructions rather than **negative** instructions to maintain effectiveness. \n",
    "\n",
    "The model needs to do the following:\n",
    "- [ ] Stick to the SAT: Understand weighting and importance of certain questions, categories, and ensure all advice is applicable to the bounds of the SAT. A document with the specifications of the SAT format can be used for Retrieval Augmented Generation (RAG) rather than potential hallucination over the exact requirements.\n",
    "- [x] Have access to the current question (and maybe the previous questions for even more context)\n",
    "- [x] Understand images or SVGs for Inference and other Reading/Writing questions.\n",
    "- [x] Generate alternative approaches to the same problem because multiple methods may be used to arrive at the same answer, and output these answering mechanisms in a JSON array to present on the website effectively\n",
    "- [x] Find semantically related questions and present them to the user on the website using ReAct (a TUI for this notebook)\n",
    "\n",
    "In the actual app, a \"I guessed\" button should be available to avoid wasting tokens. "
   ]
  },
  {
   "cell_type": "markdown",
   "id": "6313b891",
   "metadata": {
    "papermill": {
     "duration": 0.023706,
     "end_time": "2025-04-21T00:48:58.206309",
     "exception": false,
     "start_time": "2025-04-21T00:48:58.182603",
     "status": "completed"
    },
    "tags": []
   },
   "source": [
    "Let's start by finding an effective prompt. \n",
    "Then we can evaluate the effectiveness of including the SAT standards in a PDF to help the user answering a question. We will also evaluate whether a vector search database is useful for this document.\n",
    "\n",
    "Below, the variables for the specific question we are testing are defined."
   ]
  },
  {
   "cell_type": "code",
   "execution_count": 9,
   "id": "eab00f81",
   "metadata": {
    "execution": {
     "iopub.execute_input": "2025-04-21T00:48:58.255168Z",
     "iopub.status.busy": "2025-04-21T00:48:58.254770Z",
     "iopub.status.idle": "2025-04-21T00:48:58.259663Z",
     "shell.execute_reply": "2025-04-21T00:48:58.258720Z"
    },
    "papermill": {
     "duration": 0.031666,
     "end_time": "2025-04-21T00:48:58.261334",
     "exception": false,
     "start_time": "2025-04-21T00:48:58.229668",
     "status": "completed"
    },
    "tags": []
   },
   "outputs": [],
   "source": [
    "# All questions are (c) CollegeBoard 2025.\n",
    "\n",
    "question = {\n",
    "        \"question\" : \"\"\"\n",
    "In a paper about p-i-n planar perovskite solar cells (one of several perovskite cell architectures designed to collect and store solar power), Lyndsey McMillon-Brown et al. described a method for fabricating the cell’s electronic transport layer (ETL) using a spray coating. Conventional ETL fabrication is accomplished using a solution of nanoparticles. The process can result in a loss of up to 80% of the solution, increasing the cost of manufacturing at scale—an issue that may be obviated by spray coating fabrication, which the researchers describe as “highly reproducible, concise, and practical.”\n",
    "\n",
    "What does the text most strongly suggest about conventional ETL fabrication?\n",
    "A. It is less suitable for manufacturing large volumes of planar p-i-n perovskite solar cells than an alternative fabrication method may be.\n",
    "B. It is more expensive when manufacturing at scale than are processes for fabricating ETLs used in other perovskite solar cell architectures.\n",
    "C. It typically entails a greater loss of nanoparticle solution than do other established approaches for ETL fabrication.\n",
    "D. It is somewhat imprecise and therefore limits the potential effectiveness of p-i-n planar perovskite solar cells at capturing and storing solar power.\n",
    "\"\"\",\n",
    "        \"rationale\" : \"\"\"\n",
    "Choice A is the best answer. Conventional solar cell fabrication increases “the cost of manufacturing at scale,” but spray coating might get rid of that problem.\n",
    "\n",
    "Choice B is incorrect. This is not completely supported by the text. While it’s true that conventional ETL fabrication is expensive at scale, there’s nothing in the text that mentions other perovskite solar cell architectures. Choice C is incorrect. This choice does not match the text. Only one conventional method of ETL fabrication is described, so we can’t compare the solution loss in this method to that of other conventional methods. Choice D is incorrect. This choice isn’t supported by the text. The text never suggests that the effectiveness of solar cells changes based on their method of fabrication. \n",
    "\"\"\",\n",
    "        \"user_answer\" : \"C\",\n",
    "}"
   ]
  },
  {
   "cell_type": "markdown",
   "id": "4a502850",
   "metadata": {
    "papermill": {
     "duration": 0.025248,
     "end_time": "2025-04-21T00:48:58.310147",
     "exception": false,
     "start_time": "2025-04-21T00:48:58.284899",
     "status": "completed"
    },
    "tags": []
   },
   "source": [
    "Ideally, the user will talk to the chatbot after it gets the question wrong (or before in some scenarios, too). Either way, the user will have some rationale as to his or her answer to the question. Don't expect this rationale to be well thought out - the objective of the intelligent agent is to draw out what they actually mean. It may be completely omitted as well."
   ]
  },
  {
   "cell_type": "code",
   "execution_count": 10,
   "id": "3023510c",
   "metadata": {
    "execution": {
     "iopub.execute_input": "2025-04-21T00:48:58.358850Z",
     "iopub.status.busy": "2025-04-21T00:48:58.358503Z",
     "iopub.status.idle": "2025-04-21T00:48:58.363366Z",
     "shell.execute_reply": "2025-04-21T00:48:58.362150Z"
    },
    "papermill": {
     "duration": 0.031416,
     "end_time": "2025-04-21T00:48:58.365286",
     "exception": false,
     "start_time": "2025-04-21T00:48:58.333870",
     "status": "completed"
    },
    "tags": []
   },
   "outputs": [],
   "source": [
    "question[\"user_rationale\"] = \"Isn't the new method of ETL fabrication the same as the 'established methods'\""
   ]
  },
  {
   "cell_type": "markdown",
   "id": "0e9c9bc0",
   "metadata": {
    "papermill": {
     "duration": 0.022894,
     "end_time": "2025-04-21T00:48:58.411790",
     "exception": false,
     "start_time": "2025-04-21T00:48:58.388896",
     "status": "completed"
    },
    "tags": []
   },
   "source": [
    "# Use Reinforcement Learning with AI Feedback to Finetune a Prompt\n",
    "Let's generate a couple prompts for Aquarc Intelligence to use, given these parameters. We will then evaluate the effectiveness of these prompts against each of the questions and the user's query."
   ]
  },
  {
   "cell_type": "code",
   "execution_count": 11,
   "id": "fab6911c",
   "metadata": {
    "execution": {
     "iopub.execute_input": "2025-04-21T00:48:58.459682Z",
     "iopub.status.busy": "2025-04-21T00:48:58.459358Z",
     "iopub.status.idle": "2025-04-21T00:49:10.443527Z",
     "shell.execute_reply": "2025-04-21T00:49:10.442583Z"
    },
    "papermill": {
     "duration": 12.010152,
     "end_time": "2025-04-21T00:49:10.445189",
     "exception": false,
     "start_time": "2025-04-21T00:48:58.435037",
     "status": "completed"
    },
    "tags": []
   },
   "outputs": [
    {
     "data": {
      "text/markdown": [
       "Okay, here are several prompt variations designed for your Aquarc platform, focusing on analyzing SAT questions, answers, and user rationales.  These prompts will help the AI understand user mistakes and provide better feedback. They are broken down by category as specified.\n",
       "\n",
       "**Category 1: Concise Analysis & Feedback**\n",
       "\n",
       "These prompts are designed for quick, direct feedback.\n",
       "\n",
       "*   **Prompt 1 (Concise - Error Focused):** \"Question: [Question Text]. Correct Answer: [Correct Answer Choice]. Explanation: [Rationale]. User Answer: [User Answer Choice]. User Rationale: [User Rationale, if available, otherwise state 'None']. Identify the user's misunderstanding that led to the incorrect answer and suggest one specific area of SAT-related knowledge to review.\"\n",
       "*   **Prompt 2 (Concise - Reasoning Focused):** \"Question: [Question Text]. Correct Answer: [Correct Answer Choice]. Explanation: [Rationale]. User Answer: [User Answer Choice]. User Rationale: [User Rationale, if available, otherwise state 'None']. Evaluate the validity of the user's reasoning. If incorrect, explain where the reasoning went wrong, specifically referencing details in the prompt question.\"\n",
       "*   **Prompt 3 (Concise - Specific Guidance):** \"Question: [Question Text]. Correct Answer: [Correct Answer Choice]. Explanation: [Rationale]. User Answer: [User Answer Choice]. User Rationale: [User Rationale, if available, otherwise state 'None']. Offer one specific piece of advice related to this question type to help the user avoid similar errors in the future. Do not explain in detail.\"\n",
       "*   **Prompt 4 (Zero-Shot Analysis):** \"Question: [Question Text]. Correct Answer: [Correct Answer Choice]. Explanation: [Rationale]. User Answer: [User Answer Choice]. User Rationale: [User Rationale, if available, otherwise state 'None']. Analyze why the User chose their answer.\"\n",
       "\n",
       "**Category 2: Detailed Analysis & Multi-Step Reasoning**\n",
       "\n",
       "These prompts encourage the AI to think more deeply and provide comprehensive feedback.\n",
       "\n",
       "*   **Prompt 5 (Detailed - Step-by-Step Analysis):** \"Question: [Question Text]. Correct Answer: [Correct Answer Choice]. Explanation: [Rationale]. User Answer: [User Answer Choice]. User Rationale: [User Rationale, if available, otherwise state 'None']. 1. Summarize the core argument or concept being tested in the question. 2. Explain why the correct answer is correct, citing specific evidence from the passage. 3. Explain why the user's answer is incorrect, identifying the specific flaw in their reasoning and evidence against their decision. 4. Provide a suggestion of next step for the student in order to rectify mistake. The overall output will be used for learning purposes so explain in extreme detail.\"\n",
       "*   **Prompt 6 (Detailed - Compare & Contrast):** \"Question: [Question Text]. Correct Answer: [Correct Answer Choice]. Explanation: [Rationale]. User Answer: [User Answer Choice]. User Rationale: [User Rationale, if available, otherwise state 'None'].  Carefully compare and contrast the reasoning behind the correct answer and the user's chosen answer. Focus on the specific words and phrases from the question text that support or contradict each answer. Discuss the validity of the rationales, then summarize.\"\n",
       "*   **Prompt 7 (Detailed - Hypothesis & Validation):** \"Question: [Question Text]. Correct Answer: [Correct Answer Choice]. Explanation: [Rationale]. User Answer: [User Answer Choice]. User Rationale: [User Rationale, if available, otherwise state 'None']. Formulate 3 possible hypotheses as to why the user selected the incorrect answer. For each, discuss the evidence to support the hypothesis, and ways that Aquarc might be updated so this doesn't happen again.\"\n",
       "*   **Prompt 8 (Root Cause Analysis):** \"Question: [Question Text]. Correct Answer: [Correct Answer Choice]. Explanation: [Rationale]. User Answer: [User Answer Choice]. User Rationale: [User Rationale, if available, otherwise state 'None']. Analyze the situation to try to discern the single most critical error made by the user in choosing their answer. Use any relevant theory or principle to arrive at the best reasoning and provide a detailed description of your logic in arriving at your assessment.\"\n",
       "\n",
       "**Category 3: Specific Thought Process Prompts**\n",
       "\n",
       "These prompts guide the AI to follow a particular line of reasoning.\n",
       "\n",
       "*   **Prompt 9 (Identify Assumptions):** \"Question: [Question Text]. Correct Answer: [Correct Answer Choice]. Explanation: [Rationale]. User Answer: [User Answer Choice]. User Rationale: [User Rationale, if available, otherwise state 'None'].  Identify any incorrect assumptions the user may have made when selecting their answer. Explain why those assumptions are not supported by the text or the question.\"\n",
       "*   **Prompt 10 (Weighing Evidence):** \"Question: [Question Text]. Correct Answer: [Correct Answer Choice]. Explanation: [Rationale]. User Answer: [User Answer Choice]. User Rationale: [User Rationale, if available, otherwise state 'None'].  Explain how the user should have weighed the evidence presented in the passage and answer choices to arrive at the correct answer. Specifically address why the evidence supporting the correct answer is stronger than the evidence, if any, supporting the user's choice.\"\n",
       "*   **Prompt 11 (Focus on Distractors):** \"Question: [Question Text]. Correct Answer: [Correct Answer Choice]. Explanation: [Rationale]. User Answer: [User Answer Choice]. User Rationale: [User Rationale, if available, otherwise state 'None'].  Explain why the user's answer choice is a common 'distractor' answer, and what specific features of the question or passage might have led them to select it. How could they have been alerted?\"\n",
       "\n",
       "**Category 4: Dealing with the User Rationale (When Present)**\n",
       "\n",
       "These prompts tailor responses based on whether or not the user provided a rationale.\n",
       "\n",
       "*   **Prompt 12 (With User Rationale - Direct Feedback):** \"Question: [Question Text]. Correct Answer: [Correct Answer Choice]. Explanation: [Rationale]. User Answer: [User Answer Choice]. User Rationale: [User Rationale]. Directly address the user's rationale. Is it logical? Does it contradict the passage? Does it overlook crucial information? Provide a concise counter-argument.\"\n",
       "*   **Prompt 13 (Without User Rationale - Guessing Assessment):** \"Question: [Question Text]. Correct Answer: [Correct Answer Choice]. Explanation: [Rationale]. User Answer: [User Answer Choice]. User Rationale: None. Because the user did not provide a rationale, speculate on a possible reason why they might have chosen that answer. What common misconception or trap might they have fallen into?\"\n",
       "\n",
       "**Example using your provided question and Prompt 5:**\n",
       "\n",
       "**Prompt:** \"Question: In a paper about p-i-n planar perovskite solar cells (one of several perovskite cell architectures designed to collect and store solar power), Lyndsey McMillon-Brown et al. described a method for fabricating the cell’s electronic transport layer (ETL) using a spray coating. Conventional ETL fabrication is accomplished using a solution of nanoparticles. The process can result in a loss of up to 80% of the solution, increasing the cost of manufacturing at scale—an issue that may be obviated by spray coating fabrication, which the researchers describe as “highly reproducible, concise, and practical.” What does the text most strongly suggest about conventional ETL fabrication? A. It is less suitable for manufacturing large volumes of planar p-i-n perovskite solar cells than an alternative fabrication method may be. B. It is more expensive when manufacturing at scale than are processes for fabricating ETLs used in other perovskite solar cell architectures. C. It typically entails a greater loss of nanoparticle solution than do other established approaches for ETL fabrication. D. It is somewhat imprecise and therefore limits the potential effectiveness of p-i-n planar perovskite solar cells at capturing and storing solar power. Correct Answer: A. Explanation: Choice A is the best answer. Conventional solar cell fabrication increases “the cost of manufacturing at scale,” but spray coating might get rid of that problem. Choice B is incorrect. This is not completely supported by the text. While it’s true that conventional ETL fabrication is expensive at scale, there’s nothing in the text that mentions other perovskite solar cell architectures. Choice C is incorrect. This choice does not match the text. Only one conventional method of ETL fabrication is described, so we can’t compare the solution loss in this method to that of other conventional methods. Choice D is incorrect. This choice isn’t supported by the text. The text never suggests that the effectiveness of solar cells changes based on their method of fabrication. User Answer: C. User Rationale: Isn't the new method of ETL fabrication the same as the 'established methods'\"\n",
       "\n",
       "**Possible AI output**\n",
       "\n",
       "1. The prompt centers on comparing one conventional method of electronic transport layer (ETL) with one recently invented method of ETL. It has a singular detail about the loss from one type of cell. The purpose of the question is for students to pick out exactly what the passage argues and not imply from their scientific or technical reasoning.\n",
       "\n",
       "2. Choice A. is correct because of \"the cost of manufacturing at scale\" along with the end part of the sentence regarding \"spray coating fabrication, which the researchers describe as “highly reproducible, concise, and practical.” Therefore it makes sense that this alternative would have solved problems that were existing\n",
       "\n",
       "3. The user is misunderstanding conventional to mean the entire sphere of science when in actuality this excerpt only highlights ONE ETL that experiences loss. From here you should remember that extrapolation or inference from 1 detail onto other contexts in the SAT usually is wrong (exceptions apply!) If the problem gave data or described something different for the two entities in question than they would need to have differing arguments, as such there will always be key distinctions when doing 'weighing of evidence questions' that require more care to see their different properties\n",
       "\n",
       "4. Consider reviewing some commonly asked reading comprehension type questions to gain more familiarity. Start with these types, and keep the advice regarding how to properly compare evidence\n",
       "\n",
       "By testing each of these prompts you can further dial in what you require your model to output. As such, feel free to iterate off of what you see. Good luck!\n"
      ],
      "text/plain": [
       "<IPython.core.display.Markdown object>"
      ]
     },
     "execution_count": 11,
     "metadata": {},
     "output_type": "execute_result"
    }
   ],
   "source": [
    "from google.genai.types import GenerateContentConfig\n",
    "\n",
    "response = client.models.generate_content(\n",
    "    model=\"gemini-2.0-flash-001\",\n",
    "    # no specs yet\n",
    "    contents=f\"Generate prompts for a model that will do nothing more but take information about the current question, rationale, user answer and their rationale (if there is one) for the SAT. Come up with different variations for the prompt like more or less concise or multiple thought processes or just one, etc. Here is an example question to illustrate my point (although math and english still exist)\\\n",
    "                  {question['question']}\\n \\\n",
    "              {question['rationale']}\\n\\\n",
    "              The user got: {question['user_answer']}\\n \\\n",
    "              {question['user_rationale']}\",\n",
    "    config=GenerateContentConfig(\n",
    "        system_instruction=[\n",
    "            \"You are a prompt engineer's assistant. Help the prompt engineer generate some prompts for his AI-powered SAT learning platform called Aquarc. The platform currently holds an SAT question bank with over 5000 questions and tracks which questions you get wrong per category. While this feature is helpful it lacks the intelligence necessary to be a full fledged SAT platform\",\n",
    "        ],\n",
    "        temperature=2.0,\n",
    "        top_k=10,\n",
    "    ),\n",
    ")\n",
    "\n",
    "Markdown(response.text)"
   ]
  },
  {
   "cell_type": "markdown",
   "id": "0afff657",
   "metadata": {
    "papermill": {
     "duration": 0.024225,
     "end_time": "2025-04-21T00:49:10.492810",
     "exception": false,
     "start_time": "2025-04-21T00:49:10.468585",
     "status": "completed"
    },
    "tags": []
   },
   "source": [
    "Here are some sample prompts extracted from the Gemini output:"
   ]
  },
  {
   "cell_type": "code",
   "execution_count": 12,
   "id": "239e889b",
   "metadata": {
    "execution": {
     "iopub.execute_input": "2025-04-21T00:49:10.541689Z",
     "iopub.status.busy": "2025-04-21T00:49:10.541354Z",
     "iopub.status.idle": "2025-04-21T00:49:10.546656Z",
     "shell.execute_reply": "2025-04-21T00:49:10.545488Z"
    },
    "papermill": {
     "duration": 0.031498,
     "end_time": "2025-04-21T00:49:10.548185",
     "exception": false,
     "start_time": "2025-04-21T00:49:10.516687",
     "status": "completed"
    },
    "tags": []
   },
   "outputs": [],
   "source": [
    "prompts = [ \n",
    "    {\n",
    "        \"prompt\": \"Analyze the user's error. Why is the correct answer better supported by the text than the user's answer? Be concise.\",\n",
    "        \"avg_score\": 0.0,\n",
    "    },\n",
    "    {\n",
    "        \"prompt\": \"\"\"\n",
    "Consider the SAT question and the user's selected answer.\n",
    "1. Identify the specific textual evidence that strongly supports the correct answer choice.\n",
    "2. Identify any assumptions the user might be making that lead to their chosen answer.\n",
    "3. Explain why the textual support for the correct answer is stronger or more direct than any implied support for the user's answer.  If the user provides their own rational, specifically address the rational and mention what part of the question makes the rational wrong.\n",
    "        \"\"\",\n",
    "        \"avg_score\": 0.0,\n",
    "    },\n",
    "    {\n",
    "        \"prompt\" : \"\"\"\n",
    "Let's analyze this question step-by-step to understand the user's error.\n",
    "\n",
    "1.  Summarize the main point of the passage in your own words.\n",
    "2.  Identify the key phrase(s) in the question that guide you to the correct answer.\n",
    "3.  Explain why the correct answer directly addresses the question based on the text.\n",
    "4.  Explain what specific words, or phrases, may make the users' answer incorrect.\n",
    "5. Given the user's answer, what misunderstanding might the student have in this section? What advice could you give to them in the future?\n",
    "        \"\"\",\n",
    "        \"avg_score\": 0.0,\n",
    "    },\n",
    "    {\n",
    "        \"prompt\": \"\"\"\n",
    "Evaluate both the correct answer and the user's answer as potential responses to the question.\n",
    "\n",
    "*   Present the strongest possible argument *in favor* of the user's answer.\n",
    "*   Present the strongest possible argument *against* the user's answer.\n",
    "*   Explain why, ultimately, the correct answer is the superior choice based on textual evidence.\n",
    "        \"\"\",\n",
    "        \"avg_score\": 0.0,\n",
    "    },\n",
    "    { \n",
    "        \"prompt\": \"\"\"\n",
    "Analyze the question, correct answer, and the user's answer.\n",
    "\n",
    "Step 1: Summarize the core argument or concept being tested in the question.\n",
    "Step 2: Identify the specific details in the question and correct answer rationale that are most crucial for arriving at the correct answer.\n",
    "Step 3: Analyze the user's answer choice.  Explain why it is incorrect. If the user provided a rationale, identify where the user's reasoning is flawed, citing specific evidence from the question text or correct answer rationale.  If no rationale was provided, hypothesize potential reasons for the incorrect choice based on common SAT misconceptions or test-taking errors related to this question type.\n",
    "Step 4: Explicitly state the mistake that the user made to reach their conclusion and how they can reach the proper conclusion by fixing the flaw.\n",
    "        \"\"\",\n",
    "        \"avg_score\": 0.0,\n",
    "    },\n",
    "]"
   ]
  },
  {
   "cell_type": "markdown",
   "id": "cea106b4",
   "metadata": {
    "papermill": {
     "duration": 0.023421,
     "end_time": "2025-04-21T00:49:10.595356",
     "exception": false,
     "start_time": "2025-04-21T00:49:10.571935",
     "status": "completed"
    },
    "tags": []
   },
   "source": [
    "Some sample questions varied in difficulty:"
   ]
  },
  {
   "cell_type": "code",
   "execution_count": 13,
   "id": "6f842c04",
   "metadata": {
    "execution": {
     "iopub.execute_input": "2025-04-21T00:49:10.644209Z",
     "iopub.status.busy": "2025-04-21T00:49:10.643818Z",
     "iopub.status.idle": "2025-04-21T00:49:10.650476Z",
     "shell.execute_reply": "2025-04-21T00:49:10.649041Z"
    },
    "papermill": {
     "duration": 0.034113,
     "end_time": "2025-04-21T00:49:10.652937",
     "exception": false,
     "start_time": "2025-04-21T00:49:10.618824",
     "status": "completed"
    },
    "tags": []
   },
   "outputs": [],
   "source": [
    "# All questions are (c) CollegeBoard 2025.\n",
    "questions = [\n",
    "    {\n",
    "        \"question\": \"\"\"\n",
    "In 1453, English King Henry VI became unfit to rule after falling gravely ill. As a result, Parliament appointed Richard, Third Duke of York, who had a strong claim to the English throne, to rule as Lord Protector. Upon recovering two years later, ______ forcing an angered Richard from the royal court and precipitating a series of battles later known as the Wars of the Roses. \\n\\\n",
    "Which choice completes the text so that it conforms to the conventions of Standard English?\n",
    "A. Henry resumed his reign,\n",
    "B. the reign of Henry resumed,\n",
    "C. Henry’s reign resumed,\n",
    "D. it was Henry who resumed his reign, \n",
    "            \"\"\",\n",
    "        # Notice that the default rationale provided for Choice C doesn't explain it well enough\n",
    "        \"rationale\": \"\"\"\n",
    "Choice A is the best answer. The convention being tested is subject-modifier placement. This choice ensures that the introductory phrase “upon recovering two years later” appears immediately before the noun it modifies (“Henry”), clearly establishing that Henry recovered two years later. \n",
    "Choice B is incorrect because it results in a dangling modifier. The placement of the noun phrase “the reign of Henry” immediately after the introductory phrase illogically suggests that the reign of Henry recovered two years later. \n",
    "Choice C is incorrect because it results in a dangling modifier. The placement of the noun phrase “Henry’s reign” immediately after the introductory phrase illogically suggests that Henry’s reign recovered two years later. \n",
    "Choice D is incorrect because it results in a dangling modifier. The placement of the function word “it” immediately after the introductory phrase illogically suggests that “it” recovered two years later. \n",
    "        \"\"\",\n",
    "        \"user_answer\": \"C\",\n",
    "        \"user_rationale\": \"Isn't the subject that Henry got unfit to rule?\",\n",
    "    },\n",
    "    # Feel free to uncomment the following\n",
    "\n",
    "#    {\n",
    "#        \"question\": \"\"\"\n",
    "#A study by a team including finance professor Madhu Veeraraghavan suggests that exposure to sunshine during the workday can lead to overly optimistic behavior. __Using data spanning from 1994 to 2010 for a set of US companies, the team compared over 29,000 annual earnings forecasts to the actual earnings later reported by those companies.__ The team found that the greater the exposure to sunshine at work in the two weeks before a manager submitted an earnings forecast, the more the manager’s forecast exceeded what the company actually earned that year.\n",
    "#Which choice best states the function of the underlined sentence in the overall structure of the text? \n",
    "            \n",
    "#A. To summarize the results of the team’s analysis\n",
    "#B. To present a specific example that illustrates the study’s findings\n",
    "#C. To explain part of the methodology used in the team’s study\n",
    "#D. To call out a challenge the team faced in conducting its analysis\n",
    "#            \"\"\",\n",
    "#        \"rationale\": \"\"\"\n",
    "#Choice C is the best answer because it best describes how the underlined sentence functions in the text as a whole. The first sentence presents the implications of Veeraraghavan’s team’s study: sunshine exposure during work hours can cause overly optimistic behavior. The underlined sentence then describes the data the team consulted and how they were used (comparing predictions about earnings to what the companies actually earned), and the final sentence presents what the team found in their examination of the data. Thus, the underlined sentence mainly functions to explain part of the methodology used in the team’s study. \n",
    "#Choice A is incorrect because the underlined sentence explains in part how the team conducted their analysis of the effect of sunshine but doesn’t address what the team found; a broad summary is instead given in the other two sentences. \n",
    "#Choice B is incorrect because the underlined sentence doesn’t present any specific examples from the team’s comparisons of 29,000 earnings predictions to actual earnings; it simply explains in part how the team conducted their analysis. \n",
    "#Choice D is incorrect because the underlined sentence simply explains in part how the team conducted their analysis; the text never mentions any challenges that the team encountered in their study. \n",
    "#            \"\"\",\n",
    "#        \"user_answer\": \"A\",\n",
    "#        \"user_rationale\": \"Is it not explaining the part of the experiment which illustrates what happens?\"\n",
    "#    },\n",
    "#    {\n",
    "#        \"question\" : \"\"\"\n",
    "#In a paper about p-i-n planar perovskite solar cells (one of several perovskite cell architectures designed to collect and store solar power), Lyndsey McMillon-Brown et al. described a method for fabricating the cell’s electronic transport layer (ETL) using a spray coating. Conventional ETL fabrication is accomplished using a solution of nanoparticles. The process can result in a loss of up to 80% of the solution, increasing the cost of manufacturing at scale—an issue that may be obviated by spray coating fabrication, which the researchers describe as “highly reproducible, concise, and practical.”\n",
    "\n",
    "#What does the text most strongly suggest about conventional ETL fabrication?\n",
    "#A. It is less suitable for manufacturing large volumes of planar p-i-n perovskite solar cells than an alternative fabrication method may be.\n",
    "#B. It is more expensive when manufacturing at scale than are processes for fabricating ETLs used in other perovskite solar cell architectures.\n",
    "#C. It typically entails a greater loss of nanoparticle solution than do other established approaches for ETL fabrication.\n",
    "#D. It is somewhat imprecise and therefore limits the potential effectiveness of p-i-n planar perovskite solar cells at capturing and storing solar power.\n",
    "#\"\"\",\n",
    "#        \"rationale\" : \"\"\"\n",
    "#Choice A is the best answer. Conventional solar cell fabrication increases “the cost of manufacturing at scale,” but spray coating might get rid of that problem.\n",
    "\n",
    "#Choice B is incorrect. This is not completely supported by the text. While it’s true that conventional ETL fabrication is expensive at scale, there’s nothing in the text that mentions other perovskite solar cell architectures. Choice C is incorrect. This choice does not match the text. Only one conventional method of ETL fabrication is described, so we can’t compare the solution loss in this method to that of other conventional methods. Choice D is incorrect. This choice isn’t supported by the text. The text never suggests that the effectiveness of solar cells changes based on their method of fabrication. \n",
    "#\"\"\",\n",
    "#        \"user_answer\" : \"C\",\n",
    "#        \"user_rationale\": \"Isn't the new method of ETL fabrication the same as the 'established methods'\",\n",
    "#    },\n",
    "]"
   ]
  },
  {
   "cell_type": "markdown",
   "id": "9ac02dc3",
   "metadata": {
    "papermill": {
     "duration": 0.023663,
     "end_time": "2025-04-21T00:49:10.700790",
     "exception": false,
     "start_time": "2025-04-21T00:49:10.677127",
     "status": "completed"
    },
    "tags": []
   },
   "source": [
    "## Evaluation \n",
    "The rubric is slightly biased in favor of the debate prompt, but it also hits the other points on the rubric and maintains clarity. If more prompts are to be tested, they can be added above."
   ]
  },
  {
   "cell_type": "code",
   "execution_count": 14,
   "id": "1adcfaef",
   "metadata": {
    "execution": {
     "iopub.execute_input": "2025-04-21T00:49:10.752596Z",
     "iopub.status.busy": "2025-04-21T00:49:10.752214Z",
     "iopub.status.idle": "2025-04-21T00:49:10.760022Z",
     "shell.execute_reply": "2025-04-21T00:49:10.759134Z"
    },
    "papermill": {
     "duration": 0.03493,
     "end_time": "2025-04-21T00:49:10.761764",
     "exception": false,
     "start_time": "2025-04-21T00:49:10.726834",
     "status": "completed"
    },
    "tags": []
   },
   "outputs": [],
   "source": [
    "import enum\n",
    "\n",
    "# Define the evaluation prompt\n",
    "EVAL_PROMPT = \"\"\"\n",
    "# Instruction\n",
    "Evaluate the AI’s analysis of a student’s SAT error. Focus on how well it explains why the correct answer is textually supported and why the user’s answer is incorrect.\n",
    "\n",
    "# Evaluation\n",
    "## **Metric Definition**\n",
    "Assess the **accuracy**, **completeness**, **groundedness**, and **clarity** of the response. The AI must:\n",
    "1. Correctly identify textual evidence for the correct answer.\n",
    "2. Explain flaws in the user’s answer (and their rationale, if provided).\n",
    "3. Follow the prompt’s instructions precisely.\n",
    "\n",
    "\n",
    "## **New Criteria**  \n",
    "1. **Instructional Creativity**:  \n",
    "   - Does the creative approach (e.g., debate, step-by-step analysis) **enhance understanding** of why the correct answer is textually supported?  \n",
    "   - Does it **strategically use the prompt’s structure** (e.g., arguments for/against) to highlight key SAT skills like evidence analysis or assumption identification?  \n",
    "\n",
    "2. **Educational Effectiveness**:  \n",
    "   - Does the creativity **directly serve the learning goal** (e.g., clarifying misconceptions, modeling SAT logic), or is it merely ornamental?  \n",
    "   - Does it **engage the learner** while maintaining rigor (e.g., making complex reasoning more accessible)?  \n",
    "\n",
    "## **Revised Rating Rubric**  \n",
    "- **5 (Excellent)**:  \n",
    "  - Creative structure (e.g., debate) **directly reinforces** why the correct answer is superior.  \n",
    "  - Uses the format to **explicitly contrast** the user’s error with textual evidence (e.g., “The strongest argument *for* the user’s answer is X, but the text contradicts this because Y”).  \n",
    "  - Balances creativity with precision and clarity.  \n",
    "\n",
    "- **4 (Good)**:  \n",
    "  - Creative approach is **mostly effective** but slightly misses opportunities to deepen understanding (e.g., lists arguments but doesn’t explicitly tie them to SAT skills).  \n",
    "  - Minor clarity issues in linking creativity to the text.  \n",
    "\n",
    "- **3 (Adequate)**:  \n",
    "  - Creativity **distracts** slightly from the core analysis (e.g., overemphasizes hypothetical arguments without grounding in the text).  \n",
    "  - Fails to fully leverage the creative structure to address the user’s error.  \n",
    "\n",
    "- **2 (Poor)**:  \n",
    "  - Creative format **obscures key points** (e.g., hypothetical arguments misrepresent the text).  \n",
    "  - Prioritizes style over substance; minimal educational value.  \n",
    "\n",
    "- **1 (Very Poor)**:  \n",
    "  - Creativity **undermines accuracy** (e.g., invents textual evidence to support arguments).  \n",
    "\n",
    "## **Examples**  \n",
    "### **Debate-Style Prompt (Question 4)**  \n",
    "**User Answer**: C (“Henry’s reign resumed”)  \n",
    "**Correct Answer**: A (“Henry resumed his reign”)  \n",
    "\n",
    "**Good AI Response** (Rating 5):  \n",
    "*“Argument FOR C: A student might think ‘Henry’s reign’ is the subject because the prior sentence mentions Parliament appointing a ruler.  \n",
    "Argument AGAINST C: The modifier ‘upon recovering’ must refer to a person (Henry), not an abstract concept (‘reign’). The text says Henry fell ill, so only he—not his reign—can ‘recover.’  \n",
    "Conclusion: While C seems plausible, the modifier rule and textual context make A correct.”*  \n",
    "\n",
    "**Why it’s a 5**:  \n",
    "- Uses debate structure to **preemptively address** the user’s assumption.  \n",
    "- Directly ties arguments to **textual evidence** (Henry’s illness/recovery).  \n",
    "\n",
    "**Poor AI Response** (Rating 2):  \n",
    "*“FOR C: ‘Reign’ is a noun, so it matches the sentence structure.  \n",
    "AGAINST C: It sounds awkward.  \n",
    "Conclusion: A is better because it’s smoother.”*  \n",
    "\n",
    "**Why it’s a 2**:  \n",
    "- Creativity (debate) adds no educational value; arguments lack textual grounding.  \n",
    "- Fails to explain grammar rules or modifier placement.  \n",
    "\n",
    "## Evaluation Steps\n",
    "STEP 1: Assess the response in aspects of instruction following, groundedness, conciseness, and verbosity according to the criteria.\n",
    "STEP 2: Score based on the rubric.\n",
    "\n",
    "# User Inputs and AI-generated Response\n",
    "## User Inputs\n",
    "\n",
    "### Prompt\n",
    "{prompt}\n",
    "\n",
    "## AI-generated Response\n",
    "{response}\n",
    "\"\"\"\n",
    "\n",
    "# Define a structured enum class to capture the result.\n",
    "class SummaryRating(enum.Enum):\n",
    "  VERY_GOOD = '5'\n",
    "  GOOD = '4'\n",
    "  OK = '3'\n",
    "  BAD = '2'\n",
    "  VERY_BAD = '1'\n",
    "\n",
    "# Coerce into the desired structure.\n",
    "structured_output_config = types.GenerateContentConfig(\n",
    "    response_mime_type=\"text/x.enum\",\n",
    "    response_schema=SummaryRating,\n",
    ")\n",
    "\n",
    "def eval_summary(prompt, ai_response):\n",
    "  \"\"\"Evaluate the generated summary against the prompt used.\"\"\"\n",
    "\n",
    "  eval_chat = client.chats.create(model='gemini-2.0-flash')\n",
    "    \n",
    "  # Generate the full text response.\n",
    "  response = eval_chat.send_message(\n",
    "      message=EVAL_PROMPT.format(prompt=prompt, response=ai_response)\n",
    "  )\n",
    "  verbose_eval = response.text\n",
    "\n",
    "\n",
    "  response = eval_chat.send_message(\n",
    "      message=\"Convert the final score.\",\n",
    "      config=structured_output_config,\n",
    "  )\n",
    "  structured_eval = response.parsed\n",
    "\n",
    "  return verbose_eval, structured_eval"
   ]
  },
  {
   "cell_type": "markdown",
   "id": "67e11905",
   "metadata": {
    "papermill": {
     "duration": 0.024111,
     "end_time": "2025-04-21T00:49:10.809795",
     "exception": false,
     "start_time": "2025-04-21T00:49:10.785684",
     "status": "completed"
    },
    "tags": []
   },
   "source": [
    "Evaluating the prompts against each other:"
   ]
  },
  {
   "cell_type": "code",
   "execution_count": 15,
   "id": "02681680",
   "metadata": {
    "execution": {
     "iopub.execute_input": "2025-04-21T00:49:10.858975Z",
     "iopub.status.busy": "2025-04-21T00:49:10.858618Z",
     "iopub.status.idle": "2025-04-21T00:50:21.787446Z",
     "shell.execute_reply": "2025-04-21T00:50:21.786278Z"
    },
    "papermill": {
     "duration": 70.980864,
     "end_time": "2025-04-21T00:50:21.814874",
     "exception": false,
     "start_time": "2025-04-21T00:49:10.834010",
     "status": "completed"
    },
    "tags": []
   },
   "outputs": [
    {
     "name": "stdout",
     "output_type": "stream",
     "text": [
      "Iteration 0: SummaryRating.GOOD\n",
      "Prompt:\n",
      "Analyze the user's error. Why is the correct answer better supported by the text than the user's answer? Be concise.\n",
      "Score: 4.0\n",
      "\n",
      "\n",
      "Iteration 0: SummaryRating.VERY_GOOD\n",
      "Prompt:\n",
      "\n",
      "Consider the SAT question and the user's selected answer.\n",
      "1. Identify the specific textual evidence that strongly supports the correct answer choice.\n",
      "2. Identify any assumptions the user might be making that lead to their chosen answer.\n",
      "3. Explain why the textual support for the correct answer is stronger or more direct than any implied support for the user's answer.  If the user provides their own rational, specifically address the rational and mention what part of the question makes the rational wrong.\n",
      "        \n",
      "Score: 5.0\n",
      "\n",
      "\n",
      "Iteration 0: SummaryRating.VERY_GOOD\n",
      "Prompt:\n",
      "\n",
      "Let's analyze this question step-by-step to understand the user's error.\n",
      "\n",
      "1.  Summarize the main point of the passage in your own words.\n",
      "2.  Identify the key phrase(s) in the question that guide you to the correct answer.\n",
      "3.  Explain why the correct answer directly addresses the question based on the text.\n",
      "4.  Explain what specific words, or phrases, may make the users' answer incorrect.\n",
      "5. Given the user's answer, what misunderstanding might the student have in this section? What advice could you give to them in the future?\n",
      "        \n",
      "Score: 5.0\n",
      "\n",
      "\n",
      "Iteration 0: SummaryRating.VERY_GOOD\n",
      "Prompt:\n",
      "\n",
      "Evaluate both the correct answer and the user's answer as potential responses to the question.\n",
      "\n",
      "*   Present the strongest possible argument *in favor* of the user's answer.\n",
      "*   Present the strongest possible argument *against* the user's answer.\n",
      "*   Explain why, ultimately, the correct answer is the superior choice based on textual evidence.\n",
      "        \n",
      "Score: 5.0\n",
      "\n",
      "\n",
      "Iteration 0: SummaryRating.VERY_GOOD\n",
      "Prompt:\n",
      "\n",
      "Analyze the question, correct answer, and the user's answer.\n",
      "\n",
      "Step 1: Summarize the core argument or concept being tested in the question.\n",
      "Step 2: Identify the specific details in the question and correct answer rationale that are most crucial for arriving at the correct answer.\n",
      "Step 3: Analyze the user's answer choice.  Explain why it is incorrect. If the user provided a rationale, identify where the user's reasoning is flawed, citing specific evidence from the question text or correct answer rationale.  If no rationale was provided, hypothesize potential reasons for the incorrect choice based on common SAT misconceptions or test-taking errors related to this question type.\n",
      "Step 4: Explicitly state the mistake that the user made to reach their conclusion and how they can reach the proper conclusion by fixing the flaw.\n",
      "        \n",
      "Score: 5.0\n",
      "\n",
      "\n"
     ]
    }
   ],
   "source": [
    "# TODO: maybe share context so the LLM can compare different outputs against its own rating to be more accurate perhaps?\n",
    "\n",
    "#NUM_ITERATIONS = 5\n",
    "NUM_ITERATIONS=1\n",
    "\n",
    "with open(\"/kaggle/working/promptlogs.txt\", \"a\") as logs:\n",
    "    \n",
    "    for prompt in prompts:\n",
    "        sum = 0\n",
    "        logs.write(f\"Prompt: {prompt}\\n\")\n",
    "    \n",
    "        for question in questions:\n",
    "            logs.write(f\"Question: {question}\\n\")\n",
    "            for i in range(NUM_ITERATIONS):\n",
    "                response = client.models.generate_content(\n",
    "                    model=\"gemini-2.0-flash-001\",\n",
    "                    contents=str(question),\n",
    "                    config=GenerateContentConfig(\n",
    "                        system_instruction=[prompt[\"prompt\"],],\n",
    "                        temperature=0.1,\n",
    "                    ),\n",
    "                )\n",
    "\n",
    "                text_eval, struct_eval = eval_summary(prompt=prompt[\"prompt\"], ai_response=response)\n",
    "                print(f\"Iteration {i}: {struct_eval}\")\n",
    "                logs.write(f\"Iteration {i}: {text_eval}\\n\")\n",
    "                sum += int(struct_eval.value)\n",
    "\n",
    "\n",
    "\n",
    "        prompt[\"avg_score\"] = sum / (len(questions) * NUM_ITERATIONS)\n",
    "        print(f\"Prompt:\\n{prompt['prompt']}\\nScore: {prompt['avg_score']}\\n\\n\")\n",
    "    \n",
    "        logs.write(\"\\n\\n\")"
   ]
  },
  {
   "cell_type": "markdown",
   "id": "551c78a7",
   "metadata": {
    "papermill": {
     "duration": 0.025106,
     "end_time": "2025-04-21T00:50:21.864986",
     "exception": false,
     "start_time": "2025-04-21T00:50:21.839880",
     "status": "completed"
    },
    "tags": []
   },
   "source": [
    "The debate prompt consistently scores the highest, so that will be picked. Prompts can be re-generated and re-evaluated with ease if need be."
   ]
  },
  {
   "cell_type": "code",
   "execution_count": 16,
   "id": "5e3170db",
   "metadata": {
    "execution": {
     "iopub.execute_input": "2025-04-21T00:50:21.915402Z",
     "iopub.status.busy": "2025-04-21T00:50:21.915020Z",
     "iopub.status.idle": "2025-04-21T00:50:21.919256Z",
     "shell.execute_reply": "2025-04-21T00:50:21.918247Z"
    },
    "papermill": {
     "duration": 0.031018,
     "end_time": "2025-04-21T00:50:21.920925",
     "exception": false,
     "start_time": "2025-04-21T00:50:21.889907",
     "status": "completed"
    },
    "tags": []
   },
   "outputs": [],
   "source": [
    "final_prompt = \"\"\"\n",
    "Evaluate both the correct answer and the user's answer as potential responses to the question.\n",
    "\n",
    "*   Present the strongest possible argument *in favor* of the user's answer.\n",
    "*   Present the strongest possible argument *against* the user's answer.\n",
    "*   Explain why, ultimately, the correct answer is the superior choice based on textual evidence.\n",
    "\"\"\""
   ]
  },
  {
   "cell_type": "markdown",
   "id": "dda5916a",
   "metadata": {
    "papermill": {
     "duration": 0.024087,
     "end_time": "2025-04-21T00:50:21.969764",
     "exception": false,
     "start_time": "2025-04-21T00:50:21.945677",
     "status": "completed"
    },
    "tags": []
   },
   "source": [
    "## Note: \"Smart\" Questions\n",
    "The majority of questions that Aquarc Intelligence has to process will contain HTML data. How does Aquarc Intelligence interact with \"smart\" questions (i.e. questions that make use of intelligent features like formatting, graphs, or other image representations of data)?\n",
    "\n",
    "Most questions can be \"cleansed\" by converting to markdown like the following because there is text data available for most images (although the output is still quite messy):"
   ]
  },
  {
   "cell_type": "code",
   "execution_count": 17,
   "id": "fd75b8d2",
   "metadata": {
    "execution": {
     "iopub.execute_input": "2025-04-21T00:50:22.026658Z",
     "iopub.status.busy": "2025-04-21T00:50:22.026279Z",
     "iopub.status.idle": "2025-04-21T00:50:22.047840Z",
     "shell.execute_reply": "2025-04-21T00:50:22.045548Z"
    },
    "papermill": {
     "duration": 0.055856,
     "end_time": "2025-04-21T00:50:22.049910",
     "exception": false,
     "start_time": "2025-04-21T00:50:21.994054",
     "status": "completed"
    },
    "tags": []
   },
   "outputs": [],
   "source": [
    "# This question is (c) CollegeBoard 2025\n",
    "rich_question = {\n",
    "    \"question\": \"\"\"\n",
    "<figure class=\"image\">\n",
    "   <svg aria-label=\"Bar graph titled Municipalities’ Responses to Inquiries about Potential Incentives for Firm. The horizontal axis has no label. 3 data categories are shown. The vertical axis is labeled Number of municipalities. It ranges from 0 to 1,300 in increments of 100. Refer to long description.\" height=\"578.7376708984375\" role=\"img\" viewbox=\"0 0 400 578.7376708984375\" width=\"400\" xmlns=\"http://www.w3.org/2000/svg\">\n",
    "      <g data-name=\"Layer 1\" id=\"ed420550-79eb-48d4-af01-cd27cdd08afd\">\n",
    "         <defs>\n",
    "            +\n",
    "            <pattern height=\"100\" id=\"bar4\" patterntransform=\"rotate(50)\" patternunits=\"userSpaceOnUse\" width=\"10\" x=\"0\" y=\"0\">\n",
    "               +\n",
    "               <rect fill=\"#CDCDCD\" height=\"100\" width=\"5\" x=\"0\" y=\"0\"></rect>\n",
    "               +\n",
    "               <rect fill=\"#444444\" height=\"100\" width=\"5\" x=\"5\" y=\"0\"></rect>\n",
    "               +\n",
    "            </pattern>\n",
    "            +\n",
    "         </defs>\n",
    "         <line fill=\"none\" stroke=\"#000000\" stroke-linecap=\"round\" stroke-linejoin=\"round\" stroke-width=\"0.9\" x1=\"99.75999450683594\" x2=\"385\" xmlns=\"http://www.w3.org/2000/svg\" y1=\"72\" y2=\"72\"></line>\n",
    "         <line fill=\"none\" stroke=\"#000000\" stroke-linecap=\"round\" stroke-linejoin=\"round\" stroke-width=\"0.9\" x1=\"93.75999450683594\" x2=\"105.75999450683594\" xmlns=\"http://www.w3.org/2000/svg\" y1=\"72\" y2=\"72\"></line>\n",
    "         <text fill=\"#000000\" font-family=\"Crimson Text\" font-size=\"19.84\" text-anchor=\"end\" transform=\"translate(87.75999450683594 78)\">1,300</text>\n",
    "         <line fill=\"none\" stroke=\"#000000\" stroke-linecap=\"round\" stroke-linejoin=\"round\" stroke-width=\"0.9\" x1=\"99.75999450683594\" x2=\"385\" xmlns=\"http://www.w3.org/2000/svg\" y1=\"91.23076923076923\" y2=\"91.23076923076923\"></line>\n",
    "         <line fill=\"none\" stroke=\"#000000\" stroke-linecap=\"round\" stroke-linejoin=\"round\" stroke-width=\"0.9\" x1=\"93.75999450683594\" x2=\"105.75999450683594\" xmlns=\"http://www.w3.org/2000/svg\" y1=\"91.23076923076923\" y2=\"91.23076923076923\"></line>\n",
    "         <text fill=\"#000000\" font-family=\"Crimson Text\" font-size=\"19.84\" text-anchor=\"end\" transform=\"translate(87.75999450683594 97.23076923076923)\">1,200</text>\n",
    "         <line fill=\"none\" stroke=\"#000000\" stroke-linecap=\"round\" stroke-linejoin=\"round\" stroke-width=\"0.9\" x1=\"99.75999450683594\" x2=\"385\" xmlns=\"http://www.w3.org/2000/svg\" y1=\"110.46153846153845\" y2=\"110.46153846153845\"></line>\n",
    "         <line fill=\"none\" stroke=\"#000000\" stroke-linecap=\"round\" stroke-linejoin=\"round\" stroke-width=\"0.9\" x1=\"93.75999450683594\" x2=\"105.75999450683594\" xmlns=\"http://www.w3.org/2000/svg\" y1=\"110.46153846153845\" y2=\"110.46153846153845\"></line>\n",
    "         <text fill=\"#000000\" font-family=\"Crimson Text\" font-size=\"19.84\" text-anchor=\"end\" transform=\"translate(87.75999450683594 116.46153846153845)\">1,100</text>\n",
    "         <line fill=\"none\" stroke=\"#000000\" stroke-linecap=\"round\" stroke-linejoin=\"round\" stroke-width=\"0.9\" x1=\"99.75999450683594\" x2=\"385\" xmlns=\"http://www.w3.org/2000/svg\" y1=\"129.69230769230768\" y2=\"129.69230769230768\"></line>\n",
    "         <line fill=\"none\" stroke=\"#000000\" stroke-linecap=\"round\" stroke-linejoin=\"round\" stroke-width=\"0.9\" x1=\"93.75999450683594\" x2=\"105.75999450683594\" xmlns=\"http://www.w3.org/2000/svg\" y1=\"129.69230769230768\" y2=\"129.69230769230768\"></line>\n",
    "         <text fill=\"#000000\" font-family=\"Crimson Text\" font-size=\"19.84\" text-anchor=\"end\" transform=\"translate(87.75999450683594 135.69230769230768)\">1,000</text>\n",
    "         <line fill=\"none\" stroke=\"#000000\" stroke-linecap=\"round\" stroke-linejoin=\"round\" stroke-width=\"0.9\" x1=\"99.75999450683594\" x2=\"385\" xmlns=\"http://www.w3.org/2000/svg\" y1=\"148.9230769230769\" y2=\"148.9230769230769\"></line>\n",
    "         <line fill=\"none\" stroke=\"#000000\" stroke-linecap=\"round\" stroke-linejoin=\"round\" stroke-width=\"0.9\" x1=\"93.75999450683594\" x2=\"105.75999450683594\" xmlns=\"http://www.w3.org/2000/svg\" y1=\"148.9230769230769\" y2=\"148.9230769230769\"></line>\n",
    "         <text fill=\"#000000\" font-family=\"Crimson Text\" font-size=\"19.84\" text-anchor=\"end\" transform=\"translate(87.75999450683594 154.9230769230769)\">900</text>\n",
    "         <line fill=\"none\" stroke=\"#000000\" stroke-linecap=\"round\" stroke-linejoin=\"round\" stroke-width=\"0.9\" x1=\"99.75999450683594\" x2=\"385\" xmlns=\"http://www.w3.org/2000/svg\" y1=\"168.15384615384613\" y2=\"168.15384615384613\"></line>\n",
    "         <line fill=\"none\" stroke=\"#000000\" stroke-linecap=\"round\" stroke-linejoin=\"round\" stroke-width=\"0.9\" x1=\"93.75999450683594\" x2=\"105.75999450683594\" xmlns=\"http://www.w3.org/2000/svg\" y1=\"168.15384615384613\" y2=\"168.15384615384613\"></line>\n",
    "         <text fill=\"#000000\" font-family=\"Crimson Text\" font-size=\"19.84\" text-anchor=\"end\" transform=\"translate(87.75999450683594 174.15384615384613)\">800</text>\n",
    "         <line fill=\"none\" stroke=\"#000000\" stroke-linecap=\"round\" stroke-linejoin=\"round\" stroke-width=\"0.9\" x1=\"99.75999450683594\" x2=\"385\" xmlns=\"http://www.w3.org/2000/svg\" y1=\"187.3846153846154\" y2=\"187.3846153846154\"></line>\n",
    "         <line fill=\"none\" stroke=\"#000000\" stroke-linecap=\"round\" stroke-linejoin=\"round\" stroke-width=\"0.9\" x1=\"93.75999450683594\" x2=\"105.75999450683594\" xmlns=\"http://www.w3.org/2000/svg\" y1=\"187.3846153846154\" y2=\"187.3846153846154\"></line>\n",
    "         <text fill=\"#000000\" font-family=\"Crimson Text\" font-size=\"19.84\" text-anchor=\"end\" transform=\"translate(87.75999450683594 193.3846153846154)\">700</text>\n",
    "         <line fill=\"none\" stroke=\"#000000\" stroke-linecap=\"round\" stroke-linejoin=\"round\" stroke-width=\"0.9\" x1=\"99.75999450683594\" x2=\"385\" xmlns=\"http://www.w3.org/2000/svg\" y1=\"206.6153846153846\" y2=\"206.6153846153846\"></line>\n",
    "         <line fill=\"none\" stroke=\"#000000\" stroke-linecap=\"round\" stroke-linejoin=\"round\" stroke-width=\"0.9\" x1=\"93.75999450683594\" x2=\"105.75999450683594\" xmlns=\"http://www.w3.org/2000/svg\" y1=\"206.6153846153846\" y2=\"206.6153846153846\"></line>\n",
    "         <text fill=\"#000000\" font-family=\"Crimson Text\" font-size=\"19.84\" text-anchor=\"end\" transform=\"translate(87.75999450683594 212.6153846153846)\">600</text>\n",
    "         <line fill=\"none\" stroke=\"#000000\" stroke-linecap=\"round\" stroke-linejoin=\"round\" stroke-width=\"0.9\" x1=\"99.75999450683594\" x2=\"385\" xmlns=\"http://www.w3.org/2000/svg\" y1=\"225.84615384615384\" y2=\"225.84615384615384\"></line>\n",
    "         <line fill=\"none\" stroke=\"#000000\" stroke-linecap=\"round\" stroke-linejoin=\"round\" stroke-width=\"0.9\" x1=\"93.75999450683594\" x2=\"105.75999450683594\" xmlns=\"http://www.w3.org/2000/svg\" y1=\"225.84615384615384\" y2=\"225.84615384615384\"></line>\n",
    "         <text fill=\"#000000\" font-family=\"Crimson Text\" font-size=\"19.84\" text-anchor=\"end\" transform=\"translate(87.75999450683594 231.84615384615384)\">500</text>\n",
    "         <line fill=\"none\" stroke=\"#000000\" stroke-linecap=\"round\" stroke-linejoin=\"round\" stroke-width=\"0.9\" x1=\"99.75999450683594\" x2=\"385\" xmlns=\"http://www.w3.org/2000/svg\" y1=\"245.07692307692307\" y2=\"245.07692307692307\"></line>\n",
    "         <line fill=\"none\" stroke=\"#000000\" stroke-linecap=\"round\" stroke-linejoin=\"round\" stroke-width=\"0.9\" x1=\"93.75999450683594\" x2=\"105.75999450683594\" xmlns=\"http://www.w3.org/2000/svg\" y1=\"245.07692307692307\" y2=\"245.07692307692307\"></line>\n",
    "         <text fill=\"#000000\" font-family=\"Crimson Text\" font-size=\"19.84\" text-anchor=\"end\" transform=\"translate(87.75999450683594 251.07692307692307)\">400</text>\n",
    "         <line fill=\"none\" stroke=\"#000000\" stroke-linecap=\"round\" stroke-linejoin=\"round\" stroke-width=\"0.9\" x1=\"99.75999450683594\" x2=\"385\" xmlns=\"http://www.w3.org/2000/svg\" y1=\"264.30769230769226\" y2=\"264.30769230769226\"></line>\n",
    "         <line fill=\"none\" stroke=\"#000000\" stroke-linecap=\"round\" stroke-linejoin=\"round\" stroke-width=\"0.9\" x1=\"93.75999450683594\" x2=\"105.75999450683594\" xmlns=\"http://www.w3.org/2000/svg\" y1=\"264.30769230769226\" y2=\"264.30769230769226\"></line>\n",
    "         <text fill=\"#000000\" font-family=\"Crimson Text\" font-size=\"19.84\" text-anchor=\"end\" transform=\"translate(87.75999450683594 270.30769230769226)\">300</text>\n",
    "         <line fill=\"none\" stroke=\"#000000\" stroke-linecap=\"round\" stroke-linejoin=\"round\" stroke-width=\"0.9\" x1=\"99.75999450683594\" x2=\"385\" xmlns=\"http://www.w3.org/2000/svg\" y1=\"283.53846153846155\" y2=\"283.53846153846155\"></line>\n",
    "         <line fill=\"none\" stroke=\"#000000\" stroke-linecap=\"round\" stroke-linejoin=\"round\" stroke-width=\"0.9\" x1=\"93.75999450683594\" x2=\"105.75999450683594\" xmlns=\"http://www.w3.org/2000/svg\" y1=\"283.53846153846155\" y2=\"283.53846153846155\"></line>\n",
    "         <text fill=\"#000000\" font-family=\"Crimson Text\" font-size=\"19.84\" text-anchor=\"end\" transform=\"translate(87.75999450683594 289.53846153846155)\">200</text>\n",
    "         <line fill=\"none\" stroke=\"#000000\" stroke-linecap=\"round\" stroke-linejoin=\"round\" stroke-width=\"0.9\" x1=\"99.75999450683594\" x2=\"385\" xmlns=\"http://www.w3.org/2000/svg\" y1=\"302.7692307692308\" y2=\"302.7692307692308\"></line>\n",
    "         <line fill=\"none\" stroke=\"#000000\" stroke-linecap=\"round\" stroke-linejoin=\"round\" stroke-width=\"0.9\" x1=\"93.75999450683594\" x2=\"105.75999450683594\" xmlns=\"http://www.w3.org/2000/svg\" y1=\"302.7692307692308\" y2=\"302.7692307692308\"></line>\n",
    "         <text fill=\"#000000\" font-family=\"Crimson Text\" font-size=\"19.84\" text-anchor=\"end\" transform=\"translate(87.75999450683594 308.7692307692308)\">100</text>\n",
    "         <line fill=\"none\" stroke=\"#000000\" stroke-linecap=\"round\" stroke-linejoin=\"round\" stroke-width=\"0.9\" x1=\"99.75999450683594\" x2=\"385\" xmlns=\"http://www.w3.org/2000/svg\" y1=\"322\" y2=\"322\"></line>\n",
    "         <line fill=\"none\" stroke=\"#000000\" stroke-linecap=\"round\" stroke-linejoin=\"round\" stroke-width=\"0.9\" x1=\"93.75999450683594\" x2=\"105.75999450683594\" xmlns=\"http://www.w3.org/2000/svg\" y1=\"322\" y2=\"322\"></line>\n",
    "         <text fill=\"#000000\" font-family=\"Crimson Text\" font-size=\"19.84\" text-anchor=\"end\" transform=\"translate(87.75999450683594 328)\">0</text>\n",
    "         <text fill=\"#000000\" font-family=\"Crimson Text\" font-size=\"19.84\" text-anchor=\"middle\" transform=\"translate(24 197) rotate(-90)\">Number of municipalities</text>\n",
    "         <line fill=\"none\" stroke=\"#000000\" stroke-linecap=\"round\" stroke-linejoin=\"round\" stroke-width=\"0.9\" x1=\"99.75999450683594\" x2=\"99.75999450683594\" xmlns=\"http://www.w3.org/2000/svg\" y1=\"72\" y2=\"322\"></line>\n",
    "         <rect fill=\"#B3B3B3\" height=\"240.76923076923077\" stroke=\"#000000\" stroke-linecap=\"round\" stroke-linejoin=\"mitre\" stroke-width=\"0.9\" width=\"28.524000549316405\" x=\"128.28399505615235\" xmlns=\"http://www.w3.org/2000/svg\" y=\"81.23076923076923\"></rect>\n",
    "         <rect fill=\"#333333\" height=\"240\" stroke=\"#000000\" stroke-linecap=\"round\" stroke-linejoin=\"mitre\" stroke-width=\"0.9\" width=\"28.524000549316405\" x=\"156.80799560546876\" xmlns=\"http://www.w3.org/2000/svg\" y=\"82\"></rect>\n",
    "         <text fill=\"#000000\" font-family=\"Crimson Text\" font-size=\"19.84\" text-anchor=\"end\" transform=\"translate(166.72799560546875 341.84) rotate(-40)\" x=\"0\" xmlns=\"http://www.w3.org/2000/svg\" y=\"0\">no response</text>\n",
    "         <rect fill=\"#B3B3B3\" height=\"39.80769230769231\" stroke=\"#000000\" stroke-linecap=\"round\" stroke-linejoin=\"mitre\" stroke-width=\"0.9\" width=\"28.524000549316405\" x=\"213.85599670410159\" xmlns=\"http://www.w3.org/2000/svg\" y=\"282.1923076923077\"></rect>\n",
    "         <rect fill=\"#333333\" height=\"39.42307692307692\" stroke=\"#000000\" stroke-linecap=\"round\" stroke-linejoin=\"mitre\" stroke-width=\"0.9\" width=\"28.524000549316405\" x=\"242.379997253418\" xmlns=\"http://www.w3.org/2000/svg\" y=\"282.5769230769231\"></rect>\n",
    "         <text fill=\"#000000\" font-family=\"Crimson Text\" font-size=\"19.84\" text-anchor=\"end\" transform=\"translate(252.29999725341798 341.84) rotate(-40)\" x=\"0\" xmlns=\"http://www.w3.org/2000/svg\" y=\"0\">responded to inquiry</text>\n",
    "         <rect fill=\"#B3B3B3\" height=\"24.23076923076923\" stroke=\"#000000\" stroke-linecap=\"round\" stroke-linejoin=\"mitre\" stroke-width=\"0.9\" width=\"28.524000549316405\" x=\"299.4279983520508\" xmlns=\"http://www.w3.org/2000/svg\" y=\"297.7692307692308\"></rect>\n",
    "         <rect fill=\"#333333\" height=\"23.46153846153846\" stroke=\"#000000\" stroke-linecap=\"round\" stroke-linejoin=\"mitre\" stroke-width=\"0.9\" width=\"28.524000549316405\" x=\"327.9519989013672\" xmlns=\"http://www.w3.org/2000/svg\" y=\"298.53846153846155\"></rect>\n",
    "         <text fill=\"#000000\" font-family=\"Crimson Text\" font-size=\"19.84\" text-anchor=\"end\" transform=\"translate(337.8719989013672 341.84) rotate(-40)\" x=\"0\" xmlns=\"http://www.w3.org/2000/svg\" y=\"0\">offered incentive</text>\n",
    "         <text fill=\"#000000\" font-family=\"Crimson Text\" font-size=\"19.84\" text-anchor=\"middle\" transform=\"translate(242.37999725341797 24)\">Municipalities’ Responses to Inquiries </text>\n",
    "         <text fill=\"#000000\" font-family=\"Crimson Text\" font-size=\"19.84\" text-anchor=\"middle\" transform=\"translate(242.37999725341797 48)\">about Potential Incentives for Firm</text>\n",
    "         <rect fill=\"none\" height=\"71\" stroke=\"#000000\" stroke-linejoin=\"mitre\" stroke-width=\"0.9\" width=\"280.1479034423828\" x=\"67.4260482788086\" xmlns=\"http://www.w3.org/2000/svg\" y=\"496.7376708984375\"></rect>\n",
    "         <rect fill=\"#B3B3B3\" height=\"12\" stroke=\"#000000\" stroke-linejoin=\"mitre\" stroke-width=\"0.9\" width=\"12\" x=\"74.4260482788086\" xmlns=\"http://www.w3.org/2000/svg\" y=\"508.7376708984375\"></rect>\n",
    "         <text fill=\"#000000\" font-family=\"Crimson Text\" font-size=\"19.84\" text-anchor=\"top\" transform=\"translate(96.4260482788086 520.7376708984375)\"> announcement before election</text>\n",
    "         <rect fill=\"#333333\" height=\"12\" stroke=\"#000000\" stroke-linejoin=\"mitre\" stroke-width=\"0.9\" width=\"12\" x=\"74.4260482788086\" xmlns=\"http://www.w3.org/2000/svg\" y=\"540.7376708984375\"></rect>\n",
    "         <text fill=\"#000000\" font-family=\"Crimson Text\" font-size=\"19.84\" text-anchor=\"top\" transform=\"translate(96.4260482788086 552.7376708984375)\"> announcement after election</text>\n",
    "      </g>\n",
    "   </svg>\n",
    "</figure>\n",
    "<div aria-label=\"Long description for bar graph titled Municipalities’ Responses to Inquiries about Potential Incentives for Firm\" class=\"sr-only\" role=\"region\">\n",
    "   <ul>\n",
    "      +\n",
    "      <li>\n",
    "         For each data category, the following bars are shown: <br/>                                                                                                                                                                                                                                                                                                                                                                                                                                                                                                                                                                                                                                                                                                                                                                                                                                                                                                                                                                                                                                                                                                                                                                                                                                                                                                                                                                                                                                                                                                                                                                                                                                                                                                                                                                                                                                                                                                                                                                                                                                                                                                                                                                                                                                                                                                                                                                                                                                                                                                                                                                                                                                                                                                                                                                                                                                                                                                                                                                                                                                                                                                                                                                                                                                                                                                                                                                                                                                                                                                                                                                                                                                                                                                                                                                                                                                                                                                                                                                                                                                                                                                                                                                                                                                                                                                                                                                                                                                                                                                                                                                                                                                                                                                                                                                                                                                                                                                                                                                                                                                                                                                                                                                                                                                                                                                                                                                                                                                                                                                                                                                                                                                                                                                                                                                                                                                                                                                                                                                                                                                                                                                                                                                                                                                                                                                                                                                                                                                                                                                                                                                                                                                                                                                                                                                                                                                                                                                                                                                                                                                                                                                                                                                                                                                                                                                                                                                                                                                                                                                                                                                                                                                                                                                                                                                                                                                                                                                                                                                                                                                                                                                                                                                                                                                                                                                                                                                                                                                                                                                                                                                                                                                                                                                                                                                                                                                                                                                                                                                                                                                                                                                                                                                                                                                                                                                                                                                                                                                                                                                                                                                                                                                                                                                                                                                                                                                                                                                                                                                                                                                                                                                                                                                                                                                                                                                                                                                                                                                                                                                                                                                                                                                                                                                                                                                                                                                                                                                                                                                                                                                                                                                                                                                                                                                                                                                                                                                                                                                                                                                                                                                                                                                                                                                                                                                                                                                                                                                                                                                                                                                                                                                                                                                                                                                                                                                                                                                                                                                                                                                                                                                                                                                                                                                                                                                                                           +\n",
    "         <ul>\n",
    "            +\n",
    "            <li>announcement before election</li>\n",
    "            +\n",
    "            <li>announcement after election</li>\n",
    "            +\n",
    "         </ul>\n",
    "         +\n",
    "      </li>\n",
    "      +\n",
    "      <li>\n",
    "         The data for the 3 categories are as follows: <br/>                                                                                                                                                                                                                                                                                                                                                                                                                                                                                                                                                                                                                                                                                                                                                                                                                                                                                                                                                                                                                                                                                                                                                                                                                                                                                                                                                                                                                                                                                                                                                                                                                                                                                                                                                                                                                                                                                                                                                                                                                                                                                                                                                                                                                                                                                                                                                                                                                                                                                                                                                                                                                                                                                                                                                                                                                                                                                                                                                                                                                                                                                                                                                                                                                                                                                                                                                                                                                                                                                                                                                                                                                                                                                                                                                                                                                                                                                                                                                                                                                                                                                                                                                                                                                                                                                                                                                                                                                                                                                                                                                                                                                                                                                                                                                                                                                                                                                                                                                                                                                                                                                                                                                                                                                                                                                                                                                                                                                                                                                                                                                                                                                                                                                                                                                                                                                                                                                                                                                                                                                                                                                                                                                                                                                                                                                                                                                                                                                                                                                                                                                                                                                                                                                                                                                                                                                                                                                                                                                                                                                                                                                                                                                                                                                                                                                                                                                                                                                                                                                                                                                                                                                                                                                                                                                                                                                                                                                                                                                                                                                                                                                                                                                                                                                                                                                                                                                                                                                                                                                                                                                                                                                                                                                                                                                                                                                                                                                                                                                                                                                                                                                                                                                                                                                                                                                                                                                                                                                                                                                                                                                                                                                                                                                                                                                                                                                                                                                                                                                                                                                                                                                                                                                                                                                                                                                                                                                                                                                                                                                                                                                                                                                                                                                                                                                                                                                                                                                                                                                                                                                                                                                                                                                                                                                                                                                                                                                                                                                                                                                                                                                                                                                                                                                                                                                                                                                                                                                                                                                                                                                                                                                                                                                                                                                                                                                                                                                                                                                                                                                                                                                                                                                                                                                                                                                                                                                   +\n",
    "         <ul>\n",
    "            +\n",
    "            <li>\n",
    "               no response:                                                                                                                                                                                                                                                                                                                                                                                                                                                                                                                                                                                                                                                                                                                                                                                                                                                                                                                                                                                                                                                                                                                                                                                                                                                                                                                                                                                                                                                                                                                                                                                                                                                                                                                                                                                                                                                                                                                                                                                                                                                                                                                                                                                                                                                                                                                                                                                                                                                                                                                                                                                                                                                                                                                                                                                                                                                                                                                                                                                                                                                                                                                                                                                                                                                                                                                                                                                                                                                                                                                                                                                                                                                                                                                                                                                                                                                                                                                                                                                                                                                                                                                                                                                                                                                                                                                                                                                                                                                                                                                                                                                                                                                                                                                                                                                                                                                                                                                                                                                                                                                                                                                                                                                                                                                                                                                                                                                                                                                                                                                                                                                                                                                                                                                                                                                                                                                                                                                                                                                                                                                                                                                                                                                                                                                                                                                                                                                                                                                                                                                                                                                                                                                                                                                                                                                                                                                                                                                                                                                                                                                                                                                                                                                                                                                                                                                                                                                                                                                                                                                                                                                                                                                                                                                                                                                                                                                                                                                                                                                                                                                                                                                                                                                                                                                                                                                                                                                                                                                                                                                                                                                                                                                                                                                                                                                                                                                                                                                                                                                                                                                                                                                                                                                                                                                                                                                                                                                                                                                                                                                                                                                                                                                                                                                                                                                                                                                                                                                                                                                                                                                                                                                                                                                                                                                                                                                                                                                                                                                                                                                                                                                                                                                                                                                                                                                                                                                                                                                                                                                                                                                                                                                                                                                                                                                                                                                                                                                                                                                                                                                                                                                                                                                                                                                                                                                                                                                                                                                                                                                                                                                                                                                                                                                                                                                                                                                                                                                                                                                                                                                                                                                                                                                                                                                                                                                                                                                          +\n",
    "               <ul>\n",
    "                  +\n",
    "                  <li>announcement before election: 1,252</li>\n",
    "                  +\n",
    "                  <li>announcement after election: 1,248</li>\n",
    "                  +\n",
    "               </ul>\n",
    "               +\n",
    "            </li>\n",
    "            +\n",
    "            <li>\n",
    "               responded to inquiry:                                                                                                                                                                                                                                                                                                                                                                                                                                                                                                                                                                                                                                                                                                                                                                                                                                                                                                                                                                                                                                                                                                                                                                                                                                                                                                                                                                                                                                                                                                                                                                                                                                                                                                                                                                                                                                                                                                                                                                                                                                                                                                                                                                                                                                                                                                                                                                                                                                                                                                                                                                                                                                                                                                                                                                                                                                                                                                                                                                                                                                                                                                                                                                                                                                                                                                                                                                                                                                                                                                                                                                                                                                                                                                                                                                                                                                                                                                                                                                                                                                                                                                                                                                                                                                                                                                                                                                                                                                                                                                                                                                                                                                                                                                                                                                                                                                                                                                                                                                                                                                                                                                                                                                                                                                                                                                                                                                                                                                                                                                                                                                                                                                                                                                                                                                                                                                                                                                                                                                                                                                                                                                                                                                                                                                                                                                                                                                                                                                                                                                                                                                                                                                                                                                                                                                                                                                                                                                                                                                                                                                                                                                                                                                                                                                                                                                                                                                                                                                                                                                                                                                                                                                                                                                                                                                                                                                                                                                                                                                                                                                                                                                                                                                                                                                                                                                                                                                                                                                                                                                                                                                                                                                                                                                                                                                                                                                                                                                                                                                                                                                                                                                                                                                                                                                                                                                                                                                                                                                                                                                                                                                                                                                                                                                                                                                                                                                                                                                                                                                                                                                                                                                                                                                                                                                                                                                                                                                                                                                                                                                                                                                                                                                                                                                                                                                                                                                                                                                                                                                                                                                                                                                                                                                                                                                                                                                                                                                                                                                                                                                                                                                                                                                                                                                                                                                                                                                                                                                                                                                                                                                                                                                                                                                                                                                                                                                                                                                                                                                                                                                                                                                                                                                                                                                                                                                                                                                                 +\n",
    "               <ul>\n",
    "                  +\n",
    "                  <li>announcement before election: 207</li>\n",
    "                  +\n",
    "                  <li>announcement after election: 205</li>\n",
    "                  +\n",
    "               </ul>\n",
    "               +\n",
    "            </li>\n",
    "            +\n",
    "            <li>\n",
    "               offered incentive:                                                                                                                                                                                                                                                                                                                                                                                                                                                                                                                                                                                                                                                                                                                                                                                                                                                                                                                                                                                                                                                                                                                                                                                                                                                                                                                                                                                                                                                                                                                                                                                                                                                                                                                                                                                                                                                                                                                                                                                                                                                                                                                                                                                                                                                                                                                                                                                                                                                                                                                                                                                                                                                                                                                                                                                                                                                                                                                                                                                                                                                                                                                                                                                                                                                                                                                                                                                                                                                                                                                                                                                                                                                                                                                                                                                                                                                                                                                                                                                                                                                                                                                                                                                                                                                                                                                                                                                                                                                                                                                                                                                                                                                                                                                                                                                                                                                                                                                                                                                                                                                                                                                                                                                                                                                                                                                                                                                                                                                                                                                                                                                                                                                                                                                                                                                                                                                                                                                                                                                                                                                                                                                                                                                                                                                                                                                                                                                                                                                                                                                                                                                                                                                                                                                                                                                                                                                                                                                                                                                                                                                                                                                                                                                                                                                                                                                                                                                                                                                                                                                                                                                                                                                                                                                                                                                                                                                                                                                                                                                                                                                                                                                                                                                                                                                                                                                                                                                                                                                                                                                                                                                                                                                                                                                                                                                                                                                                                                                                                                                                                                                                                                                                                                                                                                                                                                                                                                                                                                                                                                                                                                                                                                                                                                                                                                                                                                                                                                                                                                                                                                                                                                                                                                                                                                                                                                                                                                                                                                                                                                                                                                                                                                                                                                                                                                                                                                                                                                                                                                                                                                                                                                                                                                                                                                                                                                                                                                                                                                                                                                                                                                                                                                                                                                                                                                                                                                                                                                                                                                                                                                                                                                                                                                                                                                                                                                                                                                                                                                                                                                                                                                                                                                                                                                                                                                                                                                                    +\n",
    "               <ul>\n",
    "                  +\n",
    "                  <li>announcement before election: 128</li>\n",
    "                  +\n",
    "                  <li>announcement after election: 122</li>\n",
    "                  +\n",
    "               </ul>\n",
    "               +\n",
    "            </li>\n",
    "            +\n",
    "         </ul>\n",
    "         +\n",
    "      </li>\n",
    "      +\n",
    "   </ul>\n",
    "</div>\n",
    "+\n",
    "<p>In the United States, firms often seek incentives from municipal governments to expand to those municipalities. A team of political scientists hypothesized that municipalities are much more likely to respond to firms and offer incentives if expansions can be announced in time to benefit local elected officials than if they can’t. The team contacted officials in thousands of municipalities, inquiring about incentives for a firm looking to expand and indicating that the firm would announce its expansion on a date either just before or just after the next election. </p>\n",
    "\n",
    "<p>Which choice best describes data from the graph that weaken the team&rsquo;s hypothesis?</p>\n",
    "\n",
    "A. <p>A large majority of the municipalities that received an inquiry mentioning plans for an announcement before the next election didn&rsquo;t respond to the inquiry.</p>\n",
    "B. <p>The proportion of municipalities that responded to the inquiry or offered incentives didn&rsquo;t substantially differ across the announcement timing conditions.&nbsp;</p>\n",
    "C. <p>Only around half the municipalities that responded to inquiries mentioning plans for an announcement before the next election offered incentives.&nbsp;</p>\n",
    "D. <p>Of the municipalities that received an inquiry mentioning plans for an announcement date after the next election, more than 1,200 didn&rsquo;t respond and only around 100 offered incentives.</p>\n",
    "    \"\"\",\n",
    "    \"rationale\": \"\"\"\n",
    "<p>Choice B is the best answer. The lighter bars show what happened when the announcement was to come before the election, and the darker bars show what happened when the announcement was to come after the election. For all three of the outcomes, the light and dark bars are virtually the same, demonstrating that the announcement timing didn&rsquo;t actually make a difference. </p>\n",
    "<p>Choice A is incorrect. This accurately describes some data from the graph, but it doesn&rsquo;t weaken the hypothesis. It doesn&rsquo;t include the &ldquo;announcement after election&rdquo; data for comparison. Choice C is incorrect. This accurately describes some data from the graph, but it doesn&rsquo;t weaken the hypothesis. It doesn&rsquo;t include the &ldquo;announcement after election&rdquo; data for comparison. Choice D is incorrect. This accurately describes some data from the graph, but it doesn&rsquo;t weaken the hypothesis. It doesn&rsquo;t include the &ldquo;announcement before election&rdquo; data for comparison. </p>    \n",
    "    \"\"\",\n",
    "    \"user_choice\": \"D\",\n",
    "    \"user_rationale\": \"isn't this data objly true?\"\n",
    "}"
   ]
  },
  {
   "cell_type": "markdown",
   "id": "77a39513",
   "metadata": {
    "papermill": {
     "duration": 0.023796,
     "end_time": "2025-04-21T00:50:22.098280",
     "exception": false,
     "start_time": "2025-04-21T00:50:22.074484",
     "status": "completed"
    },
    "tags": []
   },
   "source": [
    "Even with the SVG, Gemini can still interpret the noisy data:"
   ]
  },
  {
   "cell_type": "code",
   "execution_count": 18,
   "id": "2574c9cd",
   "metadata": {
    "execution": {
     "iopub.execute_input": "2025-04-21T00:50:22.148460Z",
     "iopub.status.busy": "2025-04-21T00:50:22.148099Z",
     "iopub.status.idle": "2025-04-21T00:50:26.062355Z",
     "shell.execute_reply": "2025-04-21T00:50:26.061084Z"
    },
    "papermill": {
     "duration": 3.941152,
     "end_time": "2025-04-21T00:50:26.064180",
     "exception": false,
     "start_time": "2025-04-21T00:50:22.123028",
     "status": "completed"
    },
    "tags": []
   },
   "outputs": [
    {
     "data": {
      "text/markdown": [
       "Okay, let's analyze the question and the user's answer.\n",
       "\n",
       "**The Question:**\n",
       "\n",
       "The question asks us to identify the choice that *best* describes data from the graph that *weakens* the political scientists' hypothesis. The hypothesis is that municipalities are more likely to respond and offer incentives if the expansion announcement benefits local elected officials (i.e., before the election).\n",
       "\n",
       "**Correct Answer: B**\n",
       "\n",
       "*   **Argument for:** Choice B directly addresses the core of the hypothesis. The hypothesis predicts a difference in response based on announcement timing. If the proportion of municipalities responding or offering incentives is similar regardless of whether the announcement is before or after the election, this weakens the hypothesis. The graph visually confirms this similarity. The height of the bars for \"announcement before election\" and \"announcement after election\" are very close for each category (no response, responded to inquiry, offered incentive).\n",
       "*   **Argument against:** Choice B is somewhat abstract, referring to \"proportions\" and \"substantially differ.\" A more concrete answer might seem more appealing at first glance.\n",
       "\n",
       "**User's Answer: D**\n",
       "\n",
       "*   **Argument for:** Choice D presents factual data directly from the graph. It states that for municipalities receiving an inquiry with an announcement *after* the election, a large number didn't respond, and only a small number offered incentives. This seems to support the idea that municipalities are *less* interested when the announcement doesn't benefit them directly.\n",
       "*   **Argument against:** Choice D only focuses on the \"announcement after election\" condition. To weaken the hypothesis, we need to compare this data to the \"announcement before election\" condition. Without that comparison, we can't say whether the timing of the announcement makes a difference. It's possible that the response rate and incentive offers are low in *both* conditions, which would contradict the hypothesis.\n",
       "\n",
       "**Why B is Superior**\n",
       "\n",
       "The key word in the question is \"weakens.\" To weaken the hypothesis, we need to show that the predicted difference based on announcement timing *doesn't* exist. Choice B does this by stating that the proportions are similar across both announcement timing conditions.\n",
       "\n",
       "Choice D, while factually correct about the \"announcement after election\" condition, doesn't provide the necessary comparison to the \"announcement before election\" condition. It's possible that the \"announcement before election\" condition also has a low response rate and few incentive offers, which would mean the timing doesn't matter, thus weakening the hypothesis. However, Choice D doesn't explicitly state this comparison, making it a weaker answer than Choice B.\n",
       "\n",
       "In summary, Choice B directly addresses the relationship predicted by the hypothesis, while Choice D only describes one condition without comparison, making Choice B the *best* answer.\n"
      ],
      "text/plain": [
       "<IPython.core.display.Markdown object>"
      ]
     },
     "execution_count": 18,
     "metadata": {},
     "output_type": "execute_result"
    }
   ],
   "source": [
    "sample_rich_answer = client.models.generate_content(\n",
    "                    model=\"gemini-2.0-flash-001\",\n",
    "                    contents=str(rich_question),\n",
    "                    config=GenerateContentConfig(\n",
    "                        system_instruction=[final_prompt,],\n",
    "                        temperature=0.1,\n",
    "                    ),\n",
    "                )\n",
    "\n",
    "Markdown(sample_rich_answer.text)"
   ]
  },
  {
   "cell_type": "markdown",
   "id": "f0908654",
   "metadata": {
    "papermill": {
     "duration": 0.02454,
     "end_time": "2025-04-21T00:50:26.113976",
     "exception": false,
     "start_time": "2025-04-21T00:50:26.089436",
     "status": "completed"
    },
    "tags": []
   },
   "source": [
    "While cleansing the data may be smoother for the LLM, not all data can be easily cleansed. U-tags must be converted manually because Markdown doesn't have an underline equivalent. "
   ]
  },
  {
   "cell_type": "code",
   "execution_count": 19,
   "id": "a6d60048",
   "metadata": {
    "execution": {
     "iopub.execute_input": "2025-04-21T00:50:26.165116Z",
     "iopub.status.busy": "2025-04-21T00:50:26.164662Z",
     "iopub.status.idle": "2025-04-21T00:50:26.486512Z",
     "shell.execute_reply": "2025-04-21T00:50:26.485277Z"
    },
    "papermill": {
     "duration": 0.349921,
     "end_time": "2025-04-21T00:50:26.488314",
     "exception": false,
     "start_time": "2025-04-21T00:50:26.138393",
     "status": "completed"
    },
    "tags": []
   },
   "outputs": [
    {
     "data": {
      "text/markdown": [
       "[Underlined]“How lifelike are they?”[End] Many computer animators prioritize this question as they strive to create ever more realistic environments and lighting. Generally, while characters in computer-animated films appear highly exaggerated, environments and lighting are carefully engineered to mimic reality. But some animators, such as Pixar’s Sanjay Patel, are focused on a different question. Rather than asking first whether the environments and lighting they’re creating are convincingly lifelike, Patel and others are asking whether these elements reflect their films’ unique stories.\n",
       "\n",
       "Which choice best describes the function of the underlined question in the text as a whole?\n",
       "\n",
       "A.\n",
       "\n",
       "It reflects a primary goal that many computer animators have for certain components of the animations they produce.\n",
       "\n",
       "B.\n",
       "\n",
       "It represents a concern of computer animators who are more interested in creating unique backgrounds and lighting effects than realistic ones.\n",
       "\n",
       "C.\n",
       "\n",
       "It conveys the uncertainty among many computer animators about how to create realistic animations using current technology.\n",
       "\n",
       "D.\n",
       "\n",
       "It illustrates a reaction that audiences typically have to the appearance of characters created by computer animators."
      ],
      "text/plain": [
       "<IPython.core.display.Markdown object>"
      ]
     },
     "execution_count": 19,
     "metadata": {},
     "output_type": "execute_result"
    }
   ],
   "source": [
    "from markdownify import markdownify as md \n",
    "\n",
    "def sanitize(text):\n",
    "    return md(text.replace(\"<u>\", \"[Underlined]\").replace(\"</u>\", \"[End]\"))\n",
    "\n",
    "rich_question = {\n",
    "    \"question\": sanitize(\"\"\"\n",
    "<p><span role=\"region\" aria-label=\"Referenced Content\"><u>&ldquo;How lifelike are they?&rdquo;</u></span> Many computer animators prioritize this question as they strive to create ever more realistic environments and lighting. Generally, while characters in computer-animated films appear highly exaggerated, environments and lighting are carefully engineered to mimic reality. But some animators, such as Pixar&rsquo;s Sanjay Patel, are focused on a different question. Rather than asking first whether the environments and lighting they&rsquo;re creating are convincingly lifelike, Patel and others are asking whether these elements reflect their films&rsquo; unique stories.</p>\n",
    "\n",
    "<p>Which choice best describes the function of the underlined question in the text as a whole?</p>\n",
    "\n",
    "A. <p>It reflects a primary goal that many computer animators have for certain components of the animations they produce.</p>\n",
    "B. <p>It represents a concern of computer animators who are more interested in creating unique backgrounds and lighting effects than realistic ones.</p>\n",
    "C. <p>It conveys the uncertainty among many computer animators about how to create realistic animations using current technology.</p>\n",
    "D. <p>It illustrates a reaction that audiences typically have to the appearance of characters created by computer animators.</p>\n",
    "    \"\"\"),\n",
    "    \"rationale\": sanitize(\"\"\"\n",
    "<p>Choice A is the best answer because it most accurately describes the function of the underlined question in the text as a whole. The text begins with the underlined question, &ldquo;How lifelike are they?&rdquo; The text then explains that many computer animators pose this question about the environments and lighting that they create for animated films, striving for realistic animation of those components even if the characters themselves aren&rsquo;t portrayed in realistic terms. The focus of the text then shifts to describe how some animators strive to create environments and lighting that reflect the film&rsquo;s unique stories rather than making them appear realistic. Therefore, the function of the underlined question is to reflect a primary goal that many computer animators have for certain components of the animations they produce. </p><p>Choice B is incorrect because, as the text makes clear, the underlined question is one posed by computer animators who wish to create realistic backgrounds and lighting effects, not by those who, instead, wish to create effects that reflect films&rsquo; unique stories and aren&rsquo;t necessarily realistic; this latter group of animators is discussed later in the text. Choice C is incorrect. As the text explains, many computer animators strive for realistic environments and lighting, while others do not; this difference of approach relates to whether these components should be realistic, not to how realism can be achieved using current technology, and the text never suggests that animators are uncertain how to achieve it. Choice D is incorrect because the underlined question pertains to the perspective of computer animators, not the audience, and the text never considers audience&rsquo;s reactions to characters in animated films. </p>\n",
    "    \"\"\"),\n",
    "    \"user_choice\": \"C\",\n",
    "    \"user_rationale\": \"why is it not C? Aren't they asking the question because they are uncertain about it?\",\n",
    "}\n",
    "\n",
    "Markdown(rich_question[\"question\"])"
   ]
  },
  {
   "cell_type": "markdown",
   "id": "c79f34db",
   "metadata": {
    "papermill": {
     "duration": 0.026906,
     "end_time": "2025-04-21T00:50:26.540095",
     "exception": false,
     "start_time": "2025-04-21T00:50:26.513189",
     "status": "completed"
    },
    "tags": []
   },
   "source": [
    "Perhaps in this scenario, \"good enough\" gets the job done.\n",
    "\n",
    "# Understanding the Problem With Alternative Approaches\n",
    "To understand questions better, the debate-style approach may not suffice; multiple, parallel thinking processes may be necessary for the user to truly grasp the problem with their current reasoning. This approach is less time consuming and may help the user better than walking through and typing their own rationale. The model will generate multiple approaches to the same problem, and output in JSON to structure the different approaches in an accessible manner on the user's end. "
   ]
  },
  {
   "cell_type": "code",
   "execution_count": 20,
   "id": "81591524",
   "metadata": {
    "execution": {
     "iopub.execute_input": "2025-04-21T00:50:26.597745Z",
     "iopub.status.busy": "2025-04-21T00:50:26.597134Z",
     "iopub.status.idle": "2025-04-21T00:50:34.534105Z",
     "shell.execute_reply": "2025-04-21T00:50:34.532912Z"
    },
    "papermill": {
     "duration": 7.966721,
     "end_time": "2025-04-21T00:50:34.536205",
     "exception": false,
     "start_time": "2025-04-21T00:50:26.569484",
     "status": "completed"
    },
    "tags": []
   },
   "outputs": [
    {
     "data": {
      "text/markdown": [
       "Okay, here are some prompts designed to elicit structured thinking processes for error analysis from the model, building upon the previous agent's output. These prompts aim to get the model to think through the problem from different angles, identifying potential paths to both the user's answer and the correct answer.\n",
       "\n",
       "**Prompt 1 (Focus on Misinterpretation):**\n",
       "\n",
       "```\n",
       "Given the SAT question, official rationale, user's answer and rationale, and the previous agent's comparison of arguments for the user's and correct answers, outline all possible interpretations of the question and answer choices, including common SAT traps. For each interpretation, trace the logical steps a test-taker might take to arrive at each answer choice, specifying where misinterpretations could occur. Output your analysis in the following JSON format:\n",
       "\n",
       "[\n",
       "    {\n",
       "        \"thinking_process\": \"[A detailed, step-by-step explanation of how someone might interpret the question and arrive at a specific answer choice. Include potential misinterpretations of keywords, grammar rules, or the overall concept being tested.]\",\n",
       "        \"leads_to\": \"user\" | \"correct\"\n",
       "    },\n",
       "    {\n",
       "        \"thinking_process\": \"[Another distinct, step-by-step explanation, focusing on a different interpretation or a different pitfall. Be exhaustive in exploring possibilities.]\",\n",
       "        \"leads_to\": \"user\" | \"correct\"\n",
       "    },\n",
       "    {\n",
       "        \"thinking_process\": \"[Include as many of these as possible, covering all plausible lines of reasoning, both correct and incorrect.]\",\n",
       "        \"leads_to\": \"user\" | \"correct\"\n",
       "    }\n",
       "]\n",
       "```\n",
       "\n",
       "**Prompt 2 (Focus on Rule Application):**\n",
       "\n",
       "```\n",
       "Considering the SAT question, official rationale, user's answer and rationale, and the previous agent's analysis, identify all relevant grammar rules, vocabulary definitions, and SAT strategies applicable to this question. For each rule or strategy, explain how it could be correctly applied to arrive at the correct answer, and how it could be misapplied or overlooked, leading to an incorrect answer. Present your analysis in the following JSON format:\n",
       "\n",
       "[\n",
       "    {\n",
       "        \"thinking_process\": \"[Identify a specific grammar rule (e.g., subject-verb agreement, pronoun case) or SAT strategy (e.g., process of elimination, plugging in numbers). Explain the correct application to this question, step by step.]\",\n",
       "        \"leads_to\": \"correct\"\n",
       "    },\n",
       "    {\n",
       "        \"thinking_process\": \"[Explain how the same rule or strategy could be misapplied or overlooked, leading to a specific incorrect answer. Be specific about the error in reasoning.]\",\n",
       "        \"leads_to\": \"user\" | \"correct\"\n",
       "    },\n",
       "    {\n",
       "        \"thinking_process\": \"[Analyze another relevant rule or strategy, providing both correct and incorrect application scenarios.]\",\n",
       "        \"leads_to\": \"user\" | \"correct\"\n",
       "    },\n",
       "    {\n",
       "        \"thinking_process\": \"[Continue this pattern until all relevant rules and strategies have been thoroughly analyzed.]\",\n",
       "        \"leads_to\": \"user\" | \"correct\"\n",
       "    }\n",
       "]\n",
       "```\n",
       "\n",
       "**Prompt 3 (Focus on Cognitive Biases):**\n",
       "\n",
       "```\n",
       "Based on the SAT question, official rationale, user's answer and rationale, and the previous agent's comparative analysis, explore potential cognitive biases or mental shortcuts that might have influenced the user's choice. For each identified bias, explain how it could have led the user astray and towards their chosen answer, while also preventing them from selecting the correct answer. Structure your analysis in the following JSON format:\n",
       "\n",
       "[\n",
       "    {\n",
       "        \"thinking_process\": \"[Identify a specific cognitive bias (e.g., anchoring bias, confirmation bias, availability heuristic). Explain how this bias might have made the user's chosen answer seem more appealing or obvious.]\",\n",
       "        \"leads_to\": \"user\"\n",
       "    },\n",
       "    {\n",
       "        \"thinking_process\": \"[Explain how the same bias might have obscured the correct answer or made it seem less appealing to the user.]\",\n",
       "        \"leads_to\": \"correct\"\n",
       "    },\n",
       "    {\n",
       "        \"thinking_process\": \"[Analyze another relevant cognitive bias and its potential impact on the user's decision-making process.]\",\n",
       "        \"leads_to\": \"user\" | \"correct\"\n",
       "    },\n",
       "     {\n",
       "        \"thinking_process\": \"[Continue this pattern until all relevant biases have been thoroughly analyzed.]\",\n",
       "        \"leads_to\": \"user\" | \"correct\"\n",
       "    }\n",
       "]\n",
       "```\n",
       "\n",
       "**Prompt 4 (Focus on Simplification):**\n",
       "\n",
       "```\n",
       "Given the SAT question, official rationale, user's answer and rationale, and the previous agent's analysis, break down the question into its simplest components. What minimal knowledge is needed to solve it? What are all the ways you can oversimplify the question leading to the possible answers.\n",
       "\n",
       "[\n",
       "    {\n",
       "        \"thinking_process\": \"[Explain the most basic way to solve the question]\",\n",
       "        \"leads_to\": \"correct\"\n",
       "    },\n",
       "    {\n",
       "        \"thinking_process\": \"[Explain how the question can be oversimplified to get to the user answer]\",\n",
       "        \"leads_to\": \"user\"\n",
       "    },\n",
       "     {\n",
       "        \"thinking_process\": \"[Continue this pattern until all ways to oversimplify have been analyzed.]\",\n",
       "        \"leads_to\": \"user\" | \"correct\"\n",
       "    }\n",
       "]\n",
       "```\n",
       "\n",
       "**Key Considerations for All Prompts:**\n",
       "\n",
       "*   **Emphasis on Step-by-Step:** The \"thinking\\_process\" should be extremely detailed, outlining each step a test-taker might take, even if it seems obvious.\n",
       "*   **Exhaustiveness:** Encourage the model to explore all plausible lines of reasoning, even those that seem unlikely at first glance. The more thinking processes generated, the better.\n",
       "*   **Specificity:** Avoid vague statements. The reasoning should be specific to the question and answer choices.\n",
       "*   **Building on Previous Analysis:** The prompt explicitly tells the model to consider the previous agent's output to avoid redundant analysis and encourage deeper insights.\n",
       "*   **SAT Traps:** Explicitly ask to consider common SAT traps and how they might influence the user's choice.\n",
       "*   **JSON Format Adherence:** Remind the model to strictly adhere to the JSON format.\n",
       "\n",
       "By using these prompts, you should be able to elicit a wide range of structured thinking processes that can help identify the root causes of errors and provide targeted feedback to the user.\n"
      ],
      "text/plain": [
       "<IPython.core.display.Markdown object>"
      ]
     },
     "execution_count": 20,
     "metadata": {},
     "output_type": "execute_result"
    }
   ],
   "source": [
    "response = client.models.generate_content(\n",
    "    model=\"gemini-2.0-flash-001\",\n",
    "    # no specs yet\n",
    "    contents=f\"\"\"\n",
    "**Objective**: Create SAT-focused prompt variations that generate multiple structured thinking processes for error analysis.\n",
    "                \n",
    "**Requirements for the agent that you will create a prompt for**:\n",
    "1. The model you are creating a prompt for will analyze: \n",
    "   - Current SAT question\n",
    "   - Official rationale\n",
    "   - User's answer + rationale\n",
    "2. Must output in the following format:\n",
    "```json\n",
    "[\n",
    "    {{\n",
    "        \"thinking_process\": \"[Here you will define a process step by step to get one of the answers]\",\n",
    "        \"leads_to\": \"user\" | \"correct\"\n",
    "    }},\n",
    "    {{\n",
    "        \"thinking_process\": \"[Here you will define another process step by step to get one of the answers]\",\n",
    "        \"leads_to\": \"user\" | \"correct\"\n",
    "    }},\n",
    "    {{\n",
    "        \"thinking_process\": \"[Include as many of these as possible!]\",\n",
    "        \"leads_to\": \"user\" | \"correct\"\n",
    "    }},\n",
    "]\n",
    "```\n",
    "\n",
    "3. There will be a model before you that contrasts an argument in favor of the user's answer with an argument for the actual answer.\n",
    "You will be given that output. Create a prompt such that this model will build upon it.\n",
    "\n",
    "The model may not include anything outside the JSON.\n",
    "\n",
    "\\\"leads_to\\\" represents that it leads to the users answer or the \\\"correct\\\" answer. There are no other options.\n",
    "\n",
    "Example question your model may receive:\n",
    "\n",
    "Question:\n",
    "{question['question']}\n",
    "\n",
    "Rationale:\n",
    "{question['rationale']}\n",
    "\n",
    "User Response:\n",
    "- Answer: {question['user_answer']}\n",
    "- User Rationale: {question['user_rationale']}\n",
    "\n",
    "Sample Response from the Previous Agent (not related to the question):\n",
    "{sample_rich_answer}.\n",
    "\n",
    "Don't generate any code. Just generate multiple creative but logical prompts we can use to make an AI for this\n",
    "              \"\"\",\n",
    "    config=GenerateContentConfig(\n",
    "        system_instruction=[\n",
    "            \"You are a prompt engineer's assistant. Help the prompt engineer generate some prompts for his AI-powered SAT learning platform called Aquarc. The platform currently holds an SAT question bank with over 5000 questions and tracks which questions you get wrong per category. While this feature is helpful it lacks the intelligence necessary to be a full fledged SAT platform\",\n",
    "        ],\n",
    "        temperature=0.7,\n",
    "        top_k=7,\n",
    "    ),\n",
    ")\n",
    "\n",
    "Markdown(response.text)"
   ]
  },
  {
   "cell_type": "markdown",
   "id": "d36e809b",
   "metadata": {
    "papermill": {
     "duration": 0.027232,
     "end_time": "2025-04-21T00:50:34.590422",
     "exception": false,
     "start_time": "2025-04-21T00:50:34.563190",
     "status": "completed"
    },
    "tags": []
   },
   "source": [
    "Here I've picked the 5 best and most creative prompts to evaluate:"
   ]
  },
  {
   "cell_type": "code",
   "execution_count": 21,
   "id": "53106b2c",
   "metadata": {
    "execution": {
     "iopub.execute_input": "2025-04-21T00:50:34.644444Z",
     "iopub.status.busy": "2025-04-21T00:50:34.644055Z",
     "iopub.status.idle": "2025-04-21T00:50:34.651830Z",
     "shell.execute_reply": "2025-04-21T00:50:34.650799Z"
    },
    "papermill": {
     "duration": 0.036338,
     "end_time": "2025-04-21T00:50:34.653580",
     "exception": false,
     "start_time": "2025-04-21T00:50:34.617242",
     "status": "completed"
    },
    "tags": []
   },
   "outputs": [],
   "source": [
    "prompts = [ \n",
    "    {\n",
    "        \"prompt\": \"\"\"\n",
    "You are an expert SAT tutor analyzing a student's mistake on an SAT question. You are provided with:\n",
    "\n",
    "1.  The SAT question, including the text, answer choices, and the correct answer.\n",
    "2.  The official rationale for the correct answer and why the other choices are incorrect.\n",
    "3.  The student's chosen answer and their rationale for choosing that answer.\n",
    "4.  An argument contrasting the user's answer with the correct answer.\n",
    "\n",
    "Based on this information, identify the potential thinking processes that could have led the student to their incorrect answer, as well as the thinking process for the correct answer. Focus on common SAT error patterns (e.g., misreading the question, applying incorrect grammar rules, making unwarranted assumptions, etc.).\n",
    "\n",
    "Output a JSON array of objects. Each object represents a distinct thinking process and whether it leads to the user's answer or the correct answer. Include as many plausible thinking processes as possible, even if they seem obvious.\n",
    "\n",
    "Format:\n",
    "```json\n",
    "[\n",
    "    {\n",
    "        \"thinking_process\": \"[Here you will define a process step by step to get one of the answers]\",\n",
    "        \"leads_to\": \"user\" | \"correct\"\n",
    "    },\n",
    "    {\n",
    "        \"thinking_process\": \"[Here you will define another process step by step to get one of the answers]\",\n",
    "        \"leads_to\": \"user\" | \"correct\"\n",
    "    },\n",
    "    {\n",
    "        \"thinking_process\": \"[Include as many of these as possible!]\",\n",
    "        \"leads_to\": \"user\" | \"correct\"\n",
    "    },\n",
    "]\n",
    "```\n",
    "Leading to \"user\" indicates that it leads to the incorrect answer, the one the user picked. For each \"correct\" thinking process path, there should be one \"user\" path that leads to the user answer but refutes why the user is wrong.\n",
    "Be detailed in your thinking process, but don't say more that is necessary. If you feel more sentences are needed for precision then add some. But some won't need that many and some will need few.\n",
    "        \"\"\",\n",
    "        \"avg_score\": 0.0,\n",
    "    },\n",
    "    {\n",
    "        \"prompt\": \"\"\"\n",
    "You are an expert SAT tutor analyzing a student's mistake on an SAT question. You are provided with:\n",
    "\n",
    "1. The SAT question, including the text, answer choices, and the correct answer.\n",
    "2. The official rationale for the correct answer and why the other choices are incorrect.\n",
    "3. The student's chosen answer and their rationale for choosing that answer.\n",
    "4. An argument contrasting the user's answer with the correct answer.\n",
    "\n",
    "Deconstruct the official rationale and the student's rationale. Identify the key assumptions, logical steps, and potential misunderstandings in each. Then, reconstruct different thinking processes – both correct and incorrect – that could lead to each answer choice. Be detailed and explicit in each step.\n",
    "\n",
    "Output a JSON array of objects. Each object represents a distinct thinking process and whether it leads to the user's answer or the correct answer. Include as many plausible thinking processes as possible, even if they seem obvious.\n",
    "\n",
    "Format:\n",
    "```json\n",
    "[\n",
    "    {\n",
    "        \"thinking_process\": \"[Here you will define a process step by step to get one of the answers]\",\n",
    "        \"leads_to\": \"user\" | \"correct\"\n",
    "    },\n",
    "    {\n",
    "        \"thinking_process\": \"[Here you will define another process step by step to get one of the answers]\",\n",
    "        \"leads_to\": \"user\" | \"correct\"\n",
    "    },\n",
    "    {\n",
    "        \"thinking_process\": \"[Include as many of these as possible!]\",\n",
    "        \"leads_to\": \"user\" | \"correct\"\n",
    "    },\n",
    "]\n",
    "```\n",
    "Leading to \"user\" indicates that it leads to the incorrect answer, the one the user picked. For each \"correct\" thinking process path, there should be one \"user\" path that leads to the user answer but refutes why the user is wrong.\n",
    "Be detailed in your thinking process, but don't say more that is necessary. If you feel more sentences are needed for precision then add some. But some won't need that many and some will need few.\n",
    "        \"\"\",\n",
    "        \"avg_score\": 0.0,\n",
    "    },\n",
    "    {\n",
    "        \"prompt\" : \"\"\"\n",
    "You are an expert SAT tutor analyzing a student's mistake on an SAT question. You are provided with:\n",
    "\n",
    "1. The SAT question, including the text, answer choices, and the correct answer.\n",
    "2. The official rationale for the correct answer and why the other choices are incorrect.\n",
    "3. The student's chosen answer and their rationale for choosing that answer.\n",
    "4. An argument contrasting the user's answer with the correct answer.\n",
    "\n",
    "Consider potential cognitive biases (e.g., confirmation bias, anchoring bias, availability heuristic) that might have influenced the student's decision-making process. Develop multiple step-by-step thinking processes that incorporate these biases, leading to both the student's answer and the correct answer.\n",
    "\n",
    "Output a JSON array of objects. Each object represents a distinct thinking process and whether it leads to the user's answer or the correct answer. Include as many plausible thinking processes as possible, even if they seem obvious.\n",
    "\n",
    "Format:\n",
    "```json\n",
    "[\n",
    "    {\n",
    "        \"thinking_process\": \"[Here you will define a process step by step to get one of the answers]\",\n",
    "        \"leads_to\": \"user\" | \"correct\"\n",
    "    },\n",
    "    {\n",
    "        \"thinking_process\": \"[Here you will define another process step by step to get one of the answers]\",\n",
    "        \"leads_to\": \"user\" | \"correct\"\n",
    "    },\n",
    "    {\n",
    "        \"thinking_process\": \"[Include as many of these as possible!]\",\n",
    "        \"leads_to\": \"user\" | \"correct\"\n",
    "    },\n",
    "]\n",
    "```\n",
    "Leading to \"user\" indicates that it leads to the incorrect answer, the one the user picked. For each \"correct\" thinking process path, there should be one \"user\" path that leads to the user answer but refutes why the user is wrong.\n",
    "Be detailed in your thinking process, but don't say more that is necessary. If you feel more sentences are needed for precision then add some. But some won't need that many and some will need few.\n",
    "        \"\"\",\n",
    "        \"avg_score\": 0.0,\n",
    "    },\n",
    "    {\n",
    "        \"prompt\": \"\"\"\n",
    "You are an expert SAT tutor analyzing a student's mistake on an SAT question. You are provided with:\n",
    "\n",
    "1. The SAT question, including the text, answer choices, and the correct answer.\n",
    "2. The official rationale for the correct answer and why the other choices are incorrect.\n",
    "3. The student's chosen answer and their rationale for choosing that answer.\n",
    "4. An argument contrasting the user's answer with the correct answer.\n",
    "\n",
    "Elaborate on multiple potential \"chains of thought\" a student might follow when approaching the question. Some chains should lead to the correct answer, while others should lead to the student's incorrect answer. Make each step in the chain explicit and easy to follow.\n",
    "\n",
    "Output a JSON array of objects. Each object represents a distinct thinking process and whether it leads to the user's answer or the correct answer. Include as many plausible thinking processes as possible, even if they seem obvious.\n",
    "\n",
    "Format:\n",
    "```json\n",
    "[\n",
    "    {\n",
    "        \"thinking_process\": \"[Here you will define a process step by step to get one of the answers]\",\n",
    "        \"leads_to\": \"user\" | \"correct\"\n",
    "    },\n",
    "    {\n",
    "        \"thinking_process\": \"[Here you will define another process step by step to get one of the answers]\",\n",
    "        \"leads_to\": \"user\" | \"correct\"\n",
    "    },\n",
    "    {\n",
    "        \"thinking_process\": \"[Include as many of these as possible!]\",\n",
    "        \"leads_to\": \"user\" | \"correct\"\n",
    "    },\n",
    "]\n",
    "```\n",
    "Leading to \"user\" indicates that it leads to the incorrect answer, the one the user picked. For each \"correct\" thinking process path, there should be one \"user\" path that leads to the user answer but refutes why the user is wrong.\n",
    "Be detailed in your thinking process, but don't say more that is necessary. If you feel more sentences are needed for precision then add some. But some won't need that many and some will need few.\n",
    "        \"\"\",\n",
    "        \"avg_score\": 0.0,\n",
    "    },\n",
    "    { \n",
    "        \"prompt\": \"\"\"\n",
    "You are an expert SAT tutor analyzing a student's mistake on an SAT question. You are provided with:\n",
    "\n",
    "    The SAT question, including the text, answer choices, and the correct answer.\n",
    "    The official rationale for the correct answer and why the other choices are incorrect.\n",
    "    The student's chosen answer and their rationale for choosing that answer.\n",
    "    An argument contrasting the user's answer with the correct answer.\n",
    "\n",
    "Synthesize multiple approaches to analyze the student's error. Consider:\n",
    "\n",
    "1. Common SAT error patterns.\n",
    "2. Deconstruction of the official and student rationales.\n",
    "3. Potential cognitive biases.\n",
    "4. Detailed chains of thought.\n",
    "\n",
    "Develop as many distinct, step-by-step thinking processes as possible that could lead to each answer choice (both the student's and the correct one). Be exhaustive in your analysis.\n",
    "\n",
    "Output a JSON array of objects. Each object represents a distinct thinking process and whether it leads to the user's answer or the correct answer. Include as many plausible thinking processes as possible, even if they seem obvious.\n",
    "\n",
    "Format:\n",
    "```json\n",
    "[\n",
    "    {\n",
    "        \"thinking_process\": \"[Here you will define a process step by step to get one of the answers]\",\n",
    "        \"leads_to\": \"user\" | \"correct\"\n",
    "    },\n",
    "    {\n",
    "        \"thinking_process\": \"[Here you will define another process step by step to get one of the answers]\",\n",
    "        \"leads_to\": \"user\" | \"correct\"\n",
    "    },\n",
    "    {\n",
    "        \"thinking_process\": \"[Include as many of these as possible!]\",\n",
    "        \"leads_to\": \"user\" | \"correct\"\n",
    "    },\n",
    "]\n",
    "```\n",
    "Leading to \"user\" indicates that it leads to the incorrect answer, the one the user picked. For each \"correct\" thinking process path, there should be one \"user\" path that leads to the user answer but refutes why the user is wrong.\n",
    "Be detailed in your thinking process, but don't say more that is necessary. If you feel more sentences are needed for precision then add some. But some won't need that many and some will need few.\n",
    "\n",
    "        \"\"\",\n",
    "        \"avg_score\": 0.0,\n",
    "    },\n",
    "]"
   ]
  },
  {
   "cell_type": "markdown",
   "id": "25713e4e",
   "metadata": {
    "papermill": {
     "duration": 0.024181,
     "end_time": "2025-04-21T00:50:34.702657",
     "exception": false,
     "start_time": "2025-04-21T00:50:34.678476",
     "status": "completed"
    },
    "tags": []
   },
   "source": [
    "## Evaluation of Alternative Approaches Prompts\n",
    "\n",
    "Evaluate the prompts against each other:"
   ]
  },
  {
   "cell_type": "code",
   "execution_count": 22,
   "id": "d9f34823",
   "metadata": {
    "execution": {
     "iopub.execute_input": "2025-04-21T00:50:34.754511Z",
     "iopub.status.busy": "2025-04-21T00:50:34.753945Z",
     "iopub.status.idle": "2025-04-21T00:50:34.759507Z",
     "shell.execute_reply": "2025-04-21T00:50:34.758290Z"
    },
    "papermill": {
     "duration": 0.034252,
     "end_time": "2025-04-21T00:50:34.761424",
     "exception": false,
     "start_time": "2025-04-21T00:50:34.727172",
     "status": "completed"
    },
    "tags": []
   },
   "outputs": [],
   "source": [
    "# Define the evaluation prompt\n",
    "EVAL_PROMPT = \"\"\"\n",
    "# Instruction\n",
    "Evaluate the AI’s analysis of a student’s SAT error. Focus on how well it explains why the correct answer is textually supported and why the user’s answer is incorrect.\n",
    "This analysis is intended to build upon a previous debate style analysis where the user is presented upon a pro/con argument for their answer. These prompts will be used in the agent for when the user wants more clarity and multiple thinking processes.\n",
    "\n",
    "# Evaluation\n",
    "## **Metric Definition**\n",
    "Assess the **accuracy**, **completeness**, **groundedness**, and **clarity** of the response. The AI must:\n",
    "1. Correctly identify textual evidence for the correct answer.\n",
    "2. Explain flaws in the user’s answer (and their rationale, if provided).\n",
    "3. Follow the prompt’s instructions precisely.\n",
    "4. Really help the user understand why they were wrong by looking at how other people can mess up / how they potentially messed up.\n",
    "\n",
    "\n",
    "## **Criteria**  \n",
    "1. **Instructional Creativity**:  \n",
    "   - Does the creative approach (e.g., debate, step-by-step analysis) **enhance understanding** of why the correct answer is textually supported?  \n",
    "   - Does it **strategically use the prompt’s structure** (e.g., arguments for/against) to highlight key SAT skills like evidence analysis or assumption identification?  \n",
    "\n",
    "2. **Educational Effectiveness**:  \n",
    "   - Does the creativity **directly serve the learning goal** (e.g., clarifying misconceptions, modeling SAT logic), or is it merely ornamental?  \n",
    "   - Does it **engage the learner** while maintaining rigor (e.g., making complex reasoning more accessible)?  \n",
    "\n",
    "## **Revised Rating Rubric**  \n",
    "- **5 (Excellent)**:  \n",
    "  - Creative structure (e.g., debate) **directly reinforces** why the correct answer is superior.  \n",
    "  - Uses the format to **explicitly contrast** the user’s error with textual evidence (e.g., “The strongest argument *for* the user’s answer is X, but the text contradicts this because Y”).  \n",
    "  - Balances creativity with precision and clarity.  \n",
    "\n",
    "- **4 (Good)**:  \n",
    "  - Creative approach is **mostly effective** but slightly misses opportunities to deepen understanding (e.g., lists arguments but doesn’t explicitly tie them to SAT skills).  \n",
    "  - Minor clarity issues in linking creativity to the text.  \n",
    "\n",
    "- **3 (Adequate)**:  \n",
    "  - Creativity **distracts** slightly from the core analysis (e.g., overemphasizes hypothetical arguments without grounding in the text).  \n",
    "  - Fails to fully leverage the creative structure to address the user’s error.  \n",
    "\n",
    "- **2 (Poor)**:  \n",
    "  - Creative format **obscures key points** (e.g., hypothetical arguments misrepresent the text).  \n",
    "  - Prioritizes style over substance; minimal educational value.  \n",
    "\n",
    "- **1 (Very Poor)**:  \n",
    "  - Creativity **undermines accuracy** (e.g., invents textual evidence to support arguments).  \n",
    "\n",
    "## Note\n",
    "This evaluation rubric is purposefully vague, so take that as an opportunity to be strict and make sure the AI is really being useful for users.\n",
    "Be harsh with your feedback, but make sure your feedback is grounded in reality.\n",
    "\n",
    "## Evaluation Steps\n",
    "STEP 1: Assess the response in aspects of instruction following, groundedness, conciseness, and verbosity according to the criteria.\n",
    "STEP 2: Score based on the rubric.\n",
    "\n",
    "# User Inputs and AI-generated Response\n",
    "## User Inputs\n",
    "\n",
    "### Prompt\n",
    "{prompt}\n",
    "\n",
    "## AI-generated Response\n",
    "{response}\n",
    "\"\"\"\n"
   ]
  },
  {
   "cell_type": "markdown",
   "id": "7c2a0994",
   "metadata": {
    "papermill": {
     "duration": 0.02504,
     "end_time": "2025-04-21T00:50:34.811678",
     "exception": false,
     "start_time": "2025-04-21T00:50:34.786638",
     "status": "completed"
    },
    "tags": []
   },
   "source": [
    "Now for the bulk of the evaluation cycle:"
   ]
  },
  {
   "cell_type": "code",
   "execution_count": 23,
   "id": "ed0ba10f",
   "metadata": {
    "execution": {
     "iopub.execute_input": "2025-04-21T00:50:34.863334Z",
     "iopub.status.busy": "2025-04-21T00:50:34.862885Z",
     "iopub.status.idle": "2025-04-21T00:51:07.614983Z",
     "shell.execute_reply": "2025-04-21T00:51:07.613867Z"
    },
    "papermill": {
     "duration": 32.805767,
     "end_time": "2025-04-21T00:51:07.642481",
     "exception": false,
     "start_time": "2025-04-21T00:50:34.836714",
     "status": "completed"
    },
    "tags": []
   },
   "outputs": [
    {
     "name": "stdout",
     "output_type": "stream",
     "text": [
      "Iteration 0: SummaryRating.GOOD\n",
      "Prompt:\n",
      "\n",
      "You are an expert SAT tutor analyzing a student's mistake on an SAT question. You are provided with:\n",
      "\n",
      "1.  The SAT question, including the text, answer choices, and the correct answer.\n",
      "2.  The official rationale for the correct answer and why the other choices are incorrect.\n",
      "3.  The student's chosen answer and their rationale for choosing that answer.\n",
      "4.  An argument contrasting the user's answer with the correct answer.\n",
      "\n",
      "Based on this information, identify the potential thinking processes that could have led the student to their incorrect answer, as well as the thinking process for the correct answer. Focus on common SAT error patterns (e.g., misreading the question, applying incorrect grammar rules, making unwarranted assumptions, etc.).\n",
      "\n",
      "Output a JSON array of objects. Each object represents a distinct thinking process and whether it leads to the user's answer or the correct answer. Include as many plausible thinking processes as possible, even if they seem obvious.\n",
      "\n",
      "Format:\n",
      "```json\n",
      "[\n",
      "    {\n",
      "        \"thinking_process\": \"[Here you will define a process step by step to get one of the answers]\",\n",
      "        \"leads_to\": \"user\" | \"correct\"\n",
      "    },\n",
      "    {\n",
      "        \"thinking_process\": \"[Here you will define another process step by step to get one of the answers]\",\n",
      "        \"leads_to\": \"user\" | \"correct\"\n",
      "    },\n",
      "    {\n",
      "        \"thinking_process\": \"[Include as many of these as possible!]\",\n",
      "        \"leads_to\": \"user\" | \"correct\"\n",
      "    },\n",
      "]\n",
      "```\n",
      "Leading to \"user\" indicates that it leads to the incorrect answer, the one the user picked. For each \"correct\" thinking process path, there should be one \"user\" path that leads to the user answer but refutes why the user is wrong.\n",
      "Be detailed in your thinking process, but don't say more that is necessary. If you feel more sentences are needed for precision then add some. But some won't need that many and some will need few.\n",
      "        \n",
      "Score: 4.0\n",
      "\n",
      "\n",
      "Iteration 0: SummaryRating.GOOD\n",
      "Prompt:\n",
      "\n",
      "You are an expert SAT tutor analyzing a student's mistake on an SAT question. You are provided with:\n",
      "\n",
      "1. The SAT question, including the text, answer choices, and the correct answer.\n",
      "2. The official rationale for the correct answer and why the other choices are incorrect.\n",
      "3. The student's chosen answer and their rationale for choosing that answer.\n",
      "4. An argument contrasting the user's answer with the correct answer.\n",
      "\n",
      "Deconstruct the official rationale and the student's rationale. Identify the key assumptions, logical steps, and potential misunderstandings in each. Then, reconstruct different thinking processes – both correct and incorrect – that could lead to each answer choice. Be detailed and explicit in each step.\n",
      "\n",
      "Output a JSON array of objects. Each object represents a distinct thinking process and whether it leads to the user's answer or the correct answer. Include as many plausible thinking processes as possible, even if they seem obvious.\n",
      "\n",
      "Format:\n",
      "```json\n",
      "[\n",
      "    {\n",
      "        \"thinking_process\": \"[Here you will define a process step by step to get one of the answers]\",\n",
      "        \"leads_to\": \"user\" | \"correct\"\n",
      "    },\n",
      "    {\n",
      "        \"thinking_process\": \"[Here you will define another process step by step to get one of the answers]\",\n",
      "        \"leads_to\": \"user\" | \"correct\"\n",
      "    },\n",
      "    {\n",
      "        \"thinking_process\": \"[Include as many of these as possible!]\",\n",
      "        \"leads_to\": \"user\" | \"correct\"\n",
      "    },\n",
      "]\n",
      "```\n",
      "Leading to \"user\" indicates that it leads to the incorrect answer, the one the user picked. For each \"correct\" thinking process path, there should be one \"user\" path that leads to the user answer but refutes why the user is wrong.\n",
      "Be detailed in your thinking process, but don't say more that is necessary. If you feel more sentences are needed for precision then add some. But some won't need that many and some will need few.\n",
      "        \n",
      "Score: 4.0\n",
      "\n",
      "\n",
      "Iteration 0: SummaryRating.VERY_GOOD\n",
      "Prompt:\n",
      "\n",
      "You are an expert SAT tutor analyzing a student's mistake on an SAT question. You are provided with:\n",
      "\n",
      "1. The SAT question, including the text, answer choices, and the correct answer.\n",
      "2. The official rationale for the correct answer and why the other choices are incorrect.\n",
      "3. The student's chosen answer and their rationale for choosing that answer.\n",
      "4. An argument contrasting the user's answer with the correct answer.\n",
      "\n",
      "Consider potential cognitive biases (e.g., confirmation bias, anchoring bias, availability heuristic) that might have influenced the student's decision-making process. Develop multiple step-by-step thinking processes that incorporate these biases, leading to both the student's answer and the correct answer.\n",
      "\n",
      "Output a JSON array of objects. Each object represents a distinct thinking process and whether it leads to the user's answer or the correct answer. Include as many plausible thinking processes as possible, even if they seem obvious.\n",
      "\n",
      "Format:\n",
      "```json\n",
      "[\n",
      "    {\n",
      "        \"thinking_process\": \"[Here you will define a process step by step to get one of the answers]\",\n",
      "        \"leads_to\": \"user\" | \"correct\"\n",
      "    },\n",
      "    {\n",
      "        \"thinking_process\": \"[Here you will define another process step by step to get one of the answers]\",\n",
      "        \"leads_to\": \"user\" | \"correct\"\n",
      "    },\n",
      "    {\n",
      "        \"thinking_process\": \"[Include as many of these as possible!]\",\n",
      "        \"leads_to\": \"user\" | \"correct\"\n",
      "    },\n",
      "]\n",
      "```\n",
      "Leading to \"user\" indicates that it leads to the incorrect answer, the one the user picked. For each \"correct\" thinking process path, there should be one \"user\" path that leads to the user answer but refutes why the user is wrong.\n",
      "Be detailed in your thinking process, but don't say more that is necessary. If you feel more sentences are needed for precision then add some. But some won't need that many and some will need few.\n",
      "        \n",
      "Score: 5.0\n",
      "\n",
      "\n",
      "Iteration 0: SummaryRating.VERY_GOOD\n",
      "Prompt:\n",
      "\n",
      "You are an expert SAT tutor analyzing a student's mistake on an SAT question. You are provided with:\n",
      "\n",
      "1. The SAT question, including the text, answer choices, and the correct answer.\n",
      "2. The official rationale for the correct answer and why the other choices are incorrect.\n",
      "3. The student's chosen answer and their rationale for choosing that answer.\n",
      "4. An argument contrasting the user's answer with the correct answer.\n",
      "\n",
      "Elaborate on multiple potential \"chains of thought\" a student might follow when approaching the question. Some chains should lead to the correct answer, while others should lead to the student's incorrect answer. Make each step in the chain explicit and easy to follow.\n",
      "\n",
      "Output a JSON array of objects. Each object represents a distinct thinking process and whether it leads to the user's answer or the correct answer. Include as many plausible thinking processes as possible, even if they seem obvious.\n",
      "\n",
      "Format:\n",
      "```json\n",
      "[\n",
      "    {\n",
      "        \"thinking_process\": \"[Here you will define a process step by step to get one of the answers]\",\n",
      "        \"leads_to\": \"user\" | \"correct\"\n",
      "    },\n",
      "    {\n",
      "        \"thinking_process\": \"[Here you will define another process step by step to get one of the answers]\",\n",
      "        \"leads_to\": \"user\" | \"correct\"\n",
      "    },\n",
      "    {\n",
      "        \"thinking_process\": \"[Include as many of these as possible!]\",\n",
      "        \"leads_to\": \"user\" | \"correct\"\n",
      "    },\n",
      "]\n",
      "```\n",
      "Leading to \"user\" indicates that it leads to the incorrect answer, the one the user picked. For each \"correct\" thinking process path, there should be one \"user\" path that leads to the user answer but refutes why the user is wrong.\n",
      "Be detailed in your thinking process, but don't say more that is necessary. If you feel more sentences are needed for precision then add some. But some won't need that many and some will need few.\n",
      "        \n",
      "Score: 5.0\n",
      "\n",
      "\n",
      "Iteration 0: SummaryRating.VERY_GOOD\n",
      "Prompt:\n",
      "\n",
      "You are an expert SAT tutor analyzing a student's mistake on an SAT question. You are provided with:\n",
      "\n",
      "    The SAT question, including the text, answer choices, and the correct answer.\n",
      "    The official rationale for the correct answer and why the other choices are incorrect.\n",
      "    The student's chosen answer and their rationale for choosing that answer.\n",
      "    An argument contrasting the user's answer with the correct answer.\n",
      "\n",
      "Synthesize multiple approaches to analyze the student's error. Consider:\n",
      "\n",
      "1. Common SAT error patterns.\n",
      "2. Deconstruction of the official and student rationales.\n",
      "3. Potential cognitive biases.\n",
      "4. Detailed chains of thought.\n",
      "\n",
      "Develop as many distinct, step-by-step thinking processes as possible that could lead to each answer choice (both the student's and the correct one). Be exhaustive in your analysis.\n",
      "\n",
      "Output a JSON array of objects. Each object represents a distinct thinking process and whether it leads to the user's answer or the correct answer. Include as many plausible thinking processes as possible, even if they seem obvious.\n",
      "\n",
      "Format:\n",
      "```json\n",
      "[\n",
      "    {\n",
      "        \"thinking_process\": \"[Here you will define a process step by step to get one of the answers]\",\n",
      "        \"leads_to\": \"user\" | \"correct\"\n",
      "    },\n",
      "    {\n",
      "        \"thinking_process\": \"[Here you will define another process step by step to get one of the answers]\",\n",
      "        \"leads_to\": \"user\" | \"correct\"\n",
      "    },\n",
      "    {\n",
      "        \"thinking_process\": \"[Include as many of these as possible!]\",\n",
      "        \"leads_to\": \"user\" | \"correct\"\n",
      "    },\n",
      "]\n",
      "```\n",
      "Leading to \"user\" indicates that it leads to the incorrect answer, the one the user picked. For each \"correct\" thinking process path, there should be one \"user\" path that leads to the user answer but refutes why the user is wrong.\n",
      "Be detailed in your thinking process, but don't say more that is necessary. If you feel more sentences are needed for precision then add some. But some won't need that many and some will need few.\n",
      "\n",
      "        \n",
      "Score: 5.0\n",
      "\n",
      "\n"
     ]
    }
   ],
   "source": [
    "# TODO: maybe share context so the LLM can compare different outputs against its own rating to be more accurate perhaps?\n",
    "\n",
    "#NUM_ITERATIONS = 8\n",
    "NUM_ITERATIONS=1\n",
    "\n",
    "with open(\"/kaggle/working/altpromptlogs.txt\", \"a\") as logs:\n",
    "    \n",
    "    for prompt in prompts:\n",
    "        sum = 0\n",
    "        logs.write(f\"Prompt: {prompt}\\n\")\n",
    "    \n",
    "        for question in questions:\n",
    "            logs.write(f\"Question: {question}\\n\")\n",
    "            for i in range(NUM_ITERATIONS):\n",
    "                response = client.models.generate_content(\n",
    "                    model=\"gemini-2.0-flash-001\",\n",
    "                    contents=str(question),\n",
    "                    config=GenerateContentConfig(\n",
    "                        system_instruction=[prompt[\"prompt\"],],\n",
    "                        temperature=0.1,\n",
    "                        response_mime_type=\"application/json\",\n",
    "                        response_schema={\n",
    "  \"title\": \"SAT Analysis Response\",\n",
    "  \"description\": \"Response format for SAT mistake analysis using multiple thinking processes\",\n",
    "  \"type\": \"array\",\n",
    "  \"minItems\": 3,\n",
    "  \"maxItems\": 8,\n",
    "  \"items\": {\n",
    "    \"type\": \"object\",\n",
    "    \"properties\": {\n",
    "      \"thinking_process\": {\n",
    "        \"type\": \"string\",\n",
    "        \"description\": \"Step-by-step explanation of cognitive path leading to an answer choice\",\n",
    "        \"minLength\": 50,\n",
    "        \"maxLength\": 500\n",
    "      },\n",
    "      \"leads_to\": {\n",
    "        \"type\": \"string\",\n",
    "        \"enum\": [\"user\", \"correct\"],\n",
    "        \"description\": \"Indicates whether this thinking process leads to the student's answer or the correct answer\"\n",
    "      }\n",
    "    },\n",
    "    \"required\": [\"thinking_process\", \"leads_to\"],\n",
    "\n",
    "  }\n",
    "                        }\n",
    "                    ),\n",
    "                )\n",
    "\n",
    "                text_eval, struct_eval = eval_summary(prompt=prompt[\"prompt\"], ai_response=response)\n",
    "                print(f\"Iteration {i}: {struct_eval}\")\n",
    "                logs.write(f\"Iteration {i}: {response.text}\\n\\n {text_eval}\\n\")\n",
    "                sum += int(struct_eval.value)\n",
    "\n",
    "        prompt[\"avg_score\"] = sum / (len(questions) * NUM_ITERATIONS)\n",
    "        print(f\"Prompt:\\n{prompt['prompt']}\\nScore: {prompt['avg_score']}\\n\\n\")\n",
    "    \n",
    "        logs.write(\"\\n\\n\")"
   ]
  },
  {
   "cell_type": "markdown",
   "id": "94bc0094",
   "metadata": {
    "papermill": {
     "duration": 0.029038,
     "end_time": "2025-04-21T00:51:07.699071",
     "exception": false,
     "start_time": "2025-04-21T00:51:07.670033",
     "status": "completed"
    },
    "tags": []
   },
   "source": [
    "## Future Direction\n",
    "- Multiple questions for improved context and understanding cognitive biases better may be necessary, although further research is needed.\n",
    "- Few shot training may 'anchor' the answers. Human Feedback in the application is necessary to improve it at this point.\n",
    "- It is likely that fine-tuning is necessary to improve the thought process printing. However, this initial test will serve as a good benchmark during usability testing for how we need to meet user expectations."
   ]
  },
  {
   "cell_type": "markdown",
   "id": "5d34f3b8",
   "metadata": {
    "papermill": {
     "duration": 0.026501,
     "end_time": "2025-04-21T00:51:07.751627",
     "exception": false,
     "start_time": "2025-04-21T00:51:07.725126",
     "status": "completed"
    },
    "tags": []
   },
   "source": [
    "# Semantically Related Question Finder\n",
    "In order to find semantically related questions, we must embed the questions into a vector database and find them and rank them based on similarity. We can use the Hierarchical Navigatable Small World (HNSW) algorithm on aquarc's current pgvector enabled Postgres database.\n",
    "\n",
    "To ensure that this notebook is accessible with minimal setup, this question semantic searcher will first be created locally using ChromaDB to simulate real world question conditions and screenshots will be included of deployment using pgvector.\n",
    "\n",
    "First let's find a suitable encoder model."
   ]
  },
  {
   "cell_type": "code",
   "execution_count": 24,
   "id": "372fd714",
   "metadata": {
    "execution": {
     "iopub.execute_input": "2025-04-21T00:51:07.805906Z",
     "iopub.status.busy": "2025-04-21T00:51:07.805531Z",
     "iopub.status.idle": "2025-04-21T00:51:08.120698Z",
     "shell.execute_reply": "2025-04-21T00:51:08.119347Z"
    },
    "papermill": {
     "duration": 0.344535,
     "end_time": "2025-04-21T00:51:08.122383",
     "exception": false,
     "start_time": "2025-04-21T00:51:07.777848",
     "status": "completed"
    },
    "tags": []
   },
   "outputs": [
    {
     "name": "stdout",
     "output_type": "stream",
     "text": [
      "models/embedding-001\n",
      "models/text-embedding-004\n",
      "models/gemini-embedding-exp-03-07\n",
      "models/gemini-embedding-exp\n"
     ]
    }
   ],
   "source": [
    "for m in client.models.list():\n",
    "    if \"embedContent\" in m.supported_actions:\n",
    "        print(m.name)"
   ]
  },
  {
   "cell_type": "markdown",
   "id": "50babfad",
   "metadata": {
    "papermill": {
     "duration": 0.025018,
     "end_time": "2025-04-21T00:51:08.173388",
     "exception": false,
     "start_time": "2025-04-21T00:51:08.148370",
     "status": "completed"
    },
    "tags": []
   },
   "source": [
    "We will use `text-embedding-004` to encode the questions into vectors. \n",
    "\n",
    "Create the ChromaDB embedding function using Gemini:"
   ]
  },
  {
   "cell_type": "code",
   "execution_count": 25,
   "id": "8073e3b3",
   "metadata": {
    "execution": {
     "iopub.execute_input": "2025-04-21T00:51:08.226462Z",
     "iopub.status.busy": "2025-04-21T00:51:08.226092Z",
     "iopub.status.idle": "2025-04-21T00:51:08.962205Z",
     "shell.execute_reply": "2025-04-21T00:51:08.961248Z"
    },
    "papermill": {
     "duration": 0.765606,
     "end_time": "2025-04-21T00:51:08.964062",
     "exception": false,
     "start_time": "2025-04-21T00:51:08.198456",
     "status": "completed"
    },
    "tags": []
   },
   "outputs": [],
   "source": [
    "from chromadb import Documents, EmbeddingFunction, Embeddings\n",
    "from google.api_core import retry\n",
    "\n",
    "from google.genai import types\n",
    "\n",
    "\n",
    "class GeminiEmbeddingFunction(EmbeddingFunction):\n",
    "    # Specify whether to generate embeddings for documents, or queries\n",
    "    document_mode = True\n",
    "\n",
    "    @retry.Retry(predicate=is_retriable)\n",
    "    def __call__(self, input: Documents) -> Embeddings:\n",
    "        if self.document_mode:\n",
    "            embedding_task = \"retrieval_document\"\n",
    "        else:\n",
    "            embedding_task = \"retrieval_query\"\n",
    "\n",
    "        response = client.models.embed_content(\n",
    "            model=\"models/text-embedding-004\",\n",
    "            contents=input,\n",
    "            config=types.EmbedContentConfig(\n",
    "                task_type=embedding_task,\n",
    "            ),\n",
    "        )\n",
    "        return [e.values for e in response.embeddings]"
   ]
  },
  {
   "cell_type": "markdown",
   "id": "cbddac90",
   "metadata": {
    "papermill": {
     "duration": 0.026613,
     "end_time": "2025-04-21T00:51:09.016041",
     "exception": false,
     "start_time": "2025-04-21T00:51:08.989428",
     "status": "completed"
    },
    "tags": []
   },
   "source": [
    "## Sample Questions \n",
    "Let us organize some sample questions. We'll use the earlier questions, cleaned and sanitized to the ideal point and work backwards. Because the answer choices are likely to do nothing more than make the questions semantically differ, each question will only have the \"question\" and \"details\" (the context for the question) encoded. "
   ]
  },
  {
   "cell_type": "code",
   "execution_count": 26,
   "id": "6721001d",
   "metadata": {
    "execution": {
     "iopub.execute_input": "2025-04-21T00:51:09.068412Z",
     "iopub.status.busy": "2025-04-21T00:51:09.067933Z",
     "iopub.status.idle": "2025-04-21T00:51:09.074903Z",
     "shell.execute_reply": "2025-04-21T00:51:09.074058Z"
    },
    "papermill": {
     "duration": 0.03542,
     "end_time": "2025-04-21T00:51:09.076811",
     "exception": false,
     "start_time": "2025-04-21T00:51:09.041391",
     "status": "completed"
    },
    "tags": []
   },
   "outputs": [],
   "source": [
    "# All questions are (c) CollegeBoard 2025.\n",
    "questions = [\n",
    "    {\n",
    "        \"question\": \"\"\"\n",
    "In 1453, English King Henry VI became unfit to rule after falling gravely ill. As a result, Parliament appointed Richard, Third Duke of York, who had a strong claim to the English throne, to rule as Lord Protector. Upon recovering two years later, ______ forcing an angered Richard from the royal court and precipitating a series of battles later known as the Wars of the Roses. \\n\\\n",
    "Which choice completes the text so that it conforms to the conventions of Standard English?\n",
    "        \"\"\",\n",
    "        \"answer_choices\" : \"\"\"\n",
    "A. Henry resumed his reign,\n",
    "B. the reign of Henry resumed,\n",
    "C. Henry’s reign resumed,\n",
    "D. it was Henry who resumed his reign, \n",
    "            \"\"\",\n",
    "        # Notice that the default rationale provided for Choice C doesn't explain it well enough\n",
    "        \"rationale\": \"\"\"\n",
    "Choice A is the best answer. The convention being tested is subject-modifier placement. This choice ensures that the introductory phrase “upon recovering two years later” appears immediately before the noun it modifies (“Henry”), clearly establishing that Henry recovered two years later. \n",
    "Choice B is incorrect because it results in a dangling modifier. The placement of the noun phrase “the reign of Henry” immediately after the introductory phrase illogically suggests that the reign of Henry recovered two years later. \n",
    "Choice C is incorrect because it results in a dangling modifier. The placement of the noun phrase “Henry’s reign” immediately after the introductory phrase illogically suggests that Henry’s reign recovered two years later. \n",
    "Choice D is incorrect because it results in a dangling modifier. The placement of the function word “it” immediately after the introductory phrase illogically suggests that “it” recovered two years later. \n",
    "        \"\"\",\n",
    "        \"user_answer\": \"C\",\n",
    "        \"user_rationale\": \"Isn't the subject that Henry got unfit to rule?\",\n",
    "    },\n",
    "\n",
    "    {\n",
    "        \"question\": \"\"\"\n",
    "A study by a team including finance professor Madhu Veeraraghavan suggests that exposure to sunshine during the workday can lead to overly optimistic behavior. __Using data spanning from 1994 to 2010 for a set of US companies, the team compared over 29,000 annual earnings forecasts to the actual earnings later reported by those companies.__ The team found that the greater the exposure to sunshine at work in the two weeks before a manager submitted an earnings forecast, the more the manager’s forecast exceeded what the company actually earned that year.\n",
    "Which choice best states the function of the underlined sentence in the overall structure of the text? \n",
    "        \"\"\",\n",
    "        \"answer_choices\" : \"\"\"\n",
    "A. To summarize the results of the team’s analysis\n",
    "B. To present a specific example that illustrates the study’s findings\n",
    "C. To explain part of the methodology used in the team’s study\n",
    "D. To call out a challenge the team faced in conducting its analysis\n",
    "            \"\"\",\n",
    "        \"rationale\": \"\"\"\n",
    "Choice C is the best answer because it best describes how the underlined sentence functions in the text as a whole. The first sentence presents the implications of Veeraraghavan’s team’s study: sunshine exposure during work hours can cause overly optimistic behavior. The underlined sentence then describes the data the team consulted and how they were used (comparing predictions about earnings to what the companies actually earned), and the final sentence presents what the team found in their examination of the data. Thus, the underlined sentence mainly functions to explain part of the methodology used in the team’s study. \n",
    "Choice A is incorrect because the underlined sentence explains in part how the team conducted their analysis of the effect of sunshine but doesn’t address what the team found; a broad summary is instead given in the other two sentences. \n",
    "Choice B is incorrect because the underlined sentence doesn’t present any specific examples from the team’s comparisons of 29,000 earnings predictions to actual earnings; it simply explains in part how the team conducted their analysis. \n",
    "Choice D is incorrect because the underlined sentence simply explains in part how the team conducted their analysis; the text never mentions any challenges that the team encountered in their study. \n",
    "            \"\"\",\n",
    "        \"user_answer\": \"A\",\n",
    "        \"user_rationale\": \"Is it not explaining the part of the experiment which illustrates what happens?\"\n",
    "    },\n",
    "    {\n",
    "        \"question\" : \"\"\"\n",
    "In a paper about p-i-n planar perovskite solar cells (one of several perovskite cell architectures designed to collect and store solar power), Lyndsey McMillon-Brown et al. described a method for fabricating the cell’s electronic transport layer (ETL) using a spray coating. Conventional ETL fabrication is accomplished using a solution of nanoparticles. The process can result in a loss of up to 80% of the solution, increasing the cost of manufacturing at scale—an issue that may be obviated by spray coating fabrication, which the researchers describe as “highly reproducible, concise, and practical.”\n",
    "\n",
    "What does the text most strongly suggest about conventional ETL fabrication?\n",
    "        \"\"\",\n",
    "        \"answer_choices\" : \"\"\"\n",
    "A. It is less suitable for manufacturing large volumes of planar p-i-n perovskite solar cells than an alternative fabrication method may be.\n",
    "B. It is more expensive when manufacturing at scale than are processes for fabricating ETLs used in other perovskite solar cell architectures.\n",
    "C. It typically entails a greater loss of nanoparticle solution than do other established approaches for ETL fabrication.\n",
    "D. It is somewhat imprecise and therefore limits the potential effectiveness of p-i-n planar perovskite solar cells at capturing and storing solar power.\n",
    "\"\"\",\n",
    "        \"rationale\" : \"\"\"\n",
    "Choice A is the best answer. Conventional solar cell fabrication increases “the cost of manufacturing at scale,” but spray coating might get rid of that problem.\n",
    "\n",
    "Choice B is incorrect. This is not completely supported by the text. While it’s true that conventional ETL fabrication is expensive at scale, there’s nothing in the text that mentions other perovskite solar cell architectures. Choice C is incorrect. This choice does not match the text. Only one conventional method of ETL fabrication is described, so we can’t compare the solution loss in this method to that of other conventional methods. Choice D is incorrect. This choice isn’t supported by the text. The text never suggests that the effectiveness of solar cells changes based on their method of fabrication. \n",
    "\"\"\",\n",
    "        \"user_answer\" : \"C\",\n",
    "        \"user_rationale\": \"Isn't the new method of ETL fabrication the same as the 'established methods'\",\n",
    "    },\n",
    "]"
   ]
  },
  {
   "cell_type": "markdown",
   "id": "e62ad3e2",
   "metadata": {
    "papermill": {
     "duration": 0.025089,
     "end_time": "2025-04-21T00:51:09.127773",
     "exception": false,
     "start_time": "2025-04-21T00:51:09.102684",
     "status": "completed"
    },
    "tags": []
   },
   "source": [
    "Each of these questions are somewhat unique: The first one focuses on English, the second on the results of a study, and the third on scientific cell activity. Semantically, these questions may be grouped and organized completely differently, so let's pick another scientific-ish question from Aquarc's question bank."
   ]
  },
  {
   "cell_type": "code",
   "execution_count": 27,
   "id": "b614fec0",
   "metadata": {
    "execution": {
     "iopub.execute_input": "2025-04-21T00:51:09.180892Z",
     "iopub.status.busy": "2025-04-21T00:51:09.180522Z",
     "iopub.status.idle": "2025-04-21T00:51:09.185427Z",
     "shell.execute_reply": "2025-04-21T00:51:09.184318Z"
    },
    "papermill": {
     "duration": 0.034349,
     "end_time": "2025-04-21T00:51:09.187160",
     "exception": false,
     "start_time": "2025-04-21T00:51:09.152811",
     "status": "completed"
    },
    "tags": []
   },
   "outputs": [],
   "source": [
    "query_question = {\n",
    "    \"question\": \"\"\"\n",
    "Mosasaurs were large marine reptiles that lived in the Late Cretaceous period, approximately 100 million to 66 million years ago. Celina Suarez, Alberto Pérez-Huerta, and T. Lynn Harrell Jr. examined oxygen-18 isotopes in mosasaur tooth enamel in order to calculate likely mosasaur body temperatures and determined that mosasaurs were endothermic—that is, they used internal metabolic processes to maintain a stable body temperature in a variety of ambient temperatures. Suarez, Pérez-Huerta, and Harrell claim that endothermy would have enabled mosasaurs to include relatively cold polar waters in their range.\n",
    "\n",
    "Which finding, if true, would most directly support Suarez, Pérez-Huerta, and Harrell’s claim?\"\"\",\n",
    "    \"answer_choices\": \"\"\"\n",
    "A. Mosasaurs’ likely body temperatures are easier to determine from tooth enamel oxygen-18 isotope data than the body temperatures of nonendothermic Late Cretaceous marine reptiles are.\n",
    "B. Fossils of both mosasaurs and nonendothermic marine reptiles have been found in roughly equal numbers in regions known to be near the poles during the Late Cretaceous, though in lower concentrations than elsewhere.\n",
    "C. Several mosasaur fossils have been found in regions known to be near the poles during the Late Cretaceous, while relatively few fossils of nonendothermic marine reptiles have been found in those locations. \n",
    "D. During the Late Cretaceous, seawater temperatures were likely higher throughout mosasaurs’ range, including near the poles, than seawater temperatures at those same latitudes are today.     \n",
    "    \"\"\"\n",
    "}"
   ]
  },
  {
   "cell_type": "markdown",
   "id": "f4489f63",
   "metadata": {
    "papermill": {
     "duration": 0.024967,
     "end_time": "2025-04-21T00:51:09.237682",
     "exception": false,
     "start_time": "2025-04-21T00:51:09.212715",
     "status": "completed"
    },
    "tags": []
   },
   "source": [
    "Semantically, this question should be closely related to the third. Does Gemini think the same way, too?"
   ]
  },
  {
   "cell_type": "code",
   "execution_count": 28,
   "id": "87a033f4",
   "metadata": {
    "execution": {
     "iopub.execute_input": "2025-04-21T00:51:09.299003Z",
     "iopub.status.busy": "2025-04-21T00:51:09.298592Z",
     "iopub.status.idle": "2025-04-21T00:51:09.999342Z",
     "shell.execute_reply": "2025-04-21T00:51:09.998237Z"
    },
    "papermill": {
     "duration": 0.738069,
     "end_time": "2025-04-21T00:51:10.001756",
     "exception": false,
     "start_time": "2025-04-21T00:51:09.263687",
     "status": "completed"
    },
    "tags": []
   },
   "outputs": [],
   "source": [
    "import chromadb\n",
    "\n",
    "DB_NAME = \"questions\"\n",
    "\n",
    "embed_fn = GeminiEmbeddingFunction()\n",
    "embed_fn.document_mode = True\n",
    "\n",
    "chroma_client = chromadb.Client()\n",
    "#print(chroma_client.list_collections())\n",
    "db = chroma_client.get_or_create_collection(name=DB_NAME, embedding_function=embed_fn)\n",
    "db.add(documents=[question[\"question\"] for question in questions], ids=[str(id) for id in range(len(questions))])"
   ]
  },
  {
   "cell_type": "markdown",
   "id": "2150a3ca",
   "metadata": {
    "papermill": {
     "duration": 0.028802,
     "end_time": "2025-04-21T00:51:10.058938",
     "exception": false,
     "start_time": "2025-04-21T00:51:10.030136",
     "status": "completed"
    },
    "tags": []
   },
   "source": [
    "Is the database working?"
   ]
  },
  {
   "cell_type": "code",
   "execution_count": 29,
   "id": "1a38ccc3",
   "metadata": {
    "execution": {
     "iopub.execute_input": "2025-04-21T00:51:10.114860Z",
     "iopub.status.busy": "2025-04-21T00:51:10.114395Z",
     "iopub.status.idle": "2025-04-21T00:51:10.132617Z",
     "shell.execute_reply": "2025-04-21T00:51:10.131505Z"
    },
    "papermill": {
     "duration": 0.048575,
     "end_time": "2025-04-21T00:51:10.134686",
     "exception": false,
     "start_time": "2025-04-21T00:51:10.086111",
     "status": "completed"
    },
    "tags": []
   },
   "outputs": [
    {
     "data": {
      "text/plain": [
       "array([ 0.00175809,  0.0378665 , -0.03238157,  0.01306758,  0.01215944,\n",
       "        0.0136528 , -0.01020287,  0.04182561,  0.05583563,  0.01223623,\n",
       "        0.0102475 ,  0.01944738,  0.00394169,  0.02591245, -0.00177758,\n",
       "       -0.00159159,  0.00639693,  0.00916431, -0.07716184,  0.03000809,\n",
       "        0.06704499, -0.03926918,  0.02753633, -0.06026929,  0.01898047,\n",
       "        0.01094915,  0.05100656,  0.01119103, -0.02327295, -0.05992745,\n",
       "        0.03455773, -0.02091132,  0.05246498, -0.08487553,  0.03695623,\n",
       "        0.00168757, -0.02330869, -0.02514998,  0.03887144, -0.00550901,\n",
       "       -0.04074356,  0.00426461, -0.00587022,  0.03919824, -0.00803794,\n",
       "       -0.00706106,  0.0251422 ,  0.03998805,  0.01107913,  0.01030415])"
      ]
     },
     "execution_count": 29,
     "metadata": {},
     "output_type": "execute_result"
    }
   ],
   "source": [
    "db.count()\n",
    "db.peek(1)[\"embeddings\"][0][0:50]"
   ]
  },
  {
   "cell_type": "markdown",
   "id": "77bf7c94",
   "metadata": {
    "papermill": {
     "duration": 0.027218,
     "end_time": "2025-04-21T00:51:10.190244",
     "exception": false,
     "start_time": "2025-04-21T00:51:10.163026",
     "status": "completed"
    },
    "tags": []
   },
   "source": [
    "Now let's query the question:"
   ]
  },
  {
   "cell_type": "code",
   "execution_count": 30,
   "id": "bff929a4",
   "metadata": {
    "execution": {
     "iopub.execute_input": "2025-04-21T00:51:10.246563Z",
     "iopub.status.busy": "2025-04-21T00:51:10.246076Z",
     "iopub.status.idle": "2025-04-21T00:51:10.515173Z",
     "shell.execute_reply": "2025-04-21T00:51:10.513890Z"
    },
    "papermill": {
     "duration": 0.299725,
     "end_time": "2025-04-21T00:51:10.517575",
     "exception": false,
     "start_time": "2025-04-21T00:51:10.217850",
     "status": "completed"
    },
    "tags": []
   },
   "outputs": [
    {
     "data": {
      "text/markdown": [
       "\n",
       "A study by a team including finance professor Madhu Veeraraghavan suggests that exposure to sunshine during the workday can lead to overly optimistic behavior. __Using data spanning from 1994 to 2010 for a set of US companies, the team compared over 29,000 annual earnings forecasts to the actual earnings later reported by those companies.__ The team found that the greater the exposure to sunshine at work in the two weeks before a manager submitted an earnings forecast, the more the manager’s forecast exceeded what the company actually earned that year.\n",
       "Which choice best states the function of the underlined sentence in the overall structure of the text? \n",
       "        "
      ],
      "text/plain": [
       "<IPython.core.display.Markdown object>"
      ]
     },
     "execution_count": 30,
     "metadata": {},
     "output_type": "execute_result"
    }
   ],
   "source": [
    "# Switch to query mode when generating embeddings.\n",
    "embed_fn.document_mode = False\n",
    "\n",
    "# Search the Chroma DB using the specified query.\n",
    "query = \"What is the weighting of Information and Ideas?\"\n",
    "\n",
    "result = db.query(query_texts=[query_question[\"question\"]], n_results=1)\n",
    "[all_passages] = result[\"documents\"]\n",
    "\n",
    "\n",
    "Markdown(all_passages[0])"
   ]
  },
  {
   "cell_type": "markdown",
   "id": "d2b56690",
   "metadata": {
    "papermill": {
     "duration": 0.029759,
     "end_time": "2025-04-21T00:51:10.576280",
     "exception": false,
     "start_time": "2025-04-21T00:51:10.546521",
     "status": "completed"
    },
    "tags": []
   },
   "source": [
    "ChromaDB favored the question \"A study by a team including finance professor Madhu Veeraraghavan...\" likely because it holds quantitative data. \n",
    "\n",
    "As we get user feedback, we can refine and finetune this process to include questions that will be the most beneficial for the user.\n",
    "\n",
    "## Plot the Questions\n",
    "Let's start by truncating the column values:"
   ]
  },
  {
   "cell_type": "code",
   "execution_count": 31,
   "id": "4dc2afa5",
   "metadata": {
    "execution": {
     "iopub.execute_input": "2025-04-21T00:51:10.633005Z",
     "iopub.status.busy": "2025-04-21T00:51:10.632528Z",
     "iopub.status.idle": "2025-04-21T00:51:10.639282Z",
     "shell.execute_reply": "2025-04-21T00:51:10.638125Z"
    },
    "papermill": {
     "duration": 0.03756,
     "end_time": "2025-04-21T00:51:10.641150",
     "exception": false,
     "start_time": "2025-04-21T00:51:10.603590",
     "status": "completed"
    },
    "tags": []
   },
   "outputs": [],
   "source": [
    "def truncate(t: str, limit: int = 50) -> str:\n",
    "  \"\"\"Truncate labels to fit on the chart.\"\"\"\n",
    "  if len(t) > limit:\n",
    "    return t[:limit-3] + '...'\n",
    "  else:\n",
    "    return t\n",
    "\n",
    "texts = [t[\"question\"] for t in questions]\n",
    "truncated_texts = [truncate(t) for t in texts]"
   ]
  },
  {
   "cell_type": "markdown",
   "id": "cc426d6f",
   "metadata": {
    "papermill": {
     "duration": 0.028197,
     "end_time": "2025-04-21T00:51:10.697269",
     "exception": false,
     "start_time": "2025-04-21T00:51:10.669072",
     "status": "completed"
    },
    "tags": []
   },
   "source": [
    "Generate embeddings for semantic similarity and cross check them:"
   ]
  },
  {
   "cell_type": "code",
   "execution_count": 32,
   "id": "17a68f16",
   "metadata": {
    "execution": {
     "iopub.execute_input": "2025-04-21T00:51:10.754743Z",
     "iopub.status.busy": "2025-04-21T00:51:10.754268Z",
     "iopub.status.idle": "2025-04-21T00:51:14.249697Z",
     "shell.execute_reply": "2025-04-21T00:51:14.248512Z"
    },
    "papermill": {
     "duration": 3.527108,
     "end_time": "2025-04-21T00:51:14.251980",
     "exception": false,
     "start_time": "2025-04-21T00:51:10.724872",
     "status": "completed"
    },
    "tags": []
   },
   "outputs": [
    {
     "data": {
      "image/png": "[encoded data removed]",
      "text/plain": [
       "<Figure size 640x480 with 2 Axes>"
      ]
     },
     "metadata": {},
     "output_type": "display_data"
    }
   ],
   "source": [
    "import pandas as pd\n",
    "import seaborn as sns\n",
    "\n",
    "response = client.models.embed_content(\n",
    "    model='models/text-embedding-004',\n",
    "    contents=texts,\n",
    "    config=types.EmbedContentConfig(task_type='semantic_similarity'))\n",
    "\n",
    "\n",
    "\n",
    "# Set up the embeddings in a dataframe.\n",
    "df = pd.DataFrame([e.values for e in response.embeddings], index=truncated_texts)\n",
    "# Matmul the df with rows and columns swapped to dot product each item\n",
    "sim = df @ df.T\n",
    "# Draw!\n",
    "sns.heatmap(sim, vmin=0, vmax=1, cmap=\"Greens\");"
   ]
  },
  {
   "cell_type": "markdown",
   "id": "ad2b2d71",
   "metadata": {
    "papermill": {
     "duration": 0.03029,
     "end_time": "2025-04-21T00:51:14.311219",
     "exception": false,
     "start_time": "2025-04-21T00:51:14.280929",
     "status": "completed"
    },
    "tags": []
   },
   "source": [
    "## Rich Questions\n",
    "In this case, some sanitization may be required to find similar questions. Let's use all \"Inferences\" question from Aquarc on hard difficulty:"
   ]
  },
  {
   "cell_type": "code",
   "execution_count": 33,
   "id": "c13e7878",
   "metadata": {
    "execution": {
     "iopub.execute_input": "2025-04-21T00:51:14.372513Z",
     "iopub.status.busy": "2025-04-21T00:51:14.372048Z",
     "iopub.status.idle": "2025-04-21T00:51:14.775354Z",
     "shell.execute_reply": "2025-04-21T00:51:14.773471Z"
    },
    "papermill": {
     "duration": 0.435969,
     "end_time": "2025-04-21T00:51:14.777578",
     "exception": false,
     "start_time": "2025-04-21T00:51:14.341609",
     "status": "completed"
    },
    "tags": []
   },
   "outputs": [
    {
     "name": "stdout",
     "output_type": "stream",
     "text": [
      "{'questionId': 'f1bfbed3', 'id': '52a8f1cb-bff4-4dcb-b455-fbc202e8513c', 'test': 'SAT', 'category': 'Reading and Writing', 'domain': 'Information and Ideas', 'skill': 'Inferences', 'difficulty': 'Hard', 'details': '<p>Marta Coll and colleagues&rsquo; 2010 Mediterranean Sea biodiversity census reported approximately 17,000 species, nearly double the number reported in Carlo Bianchi and Carla Morri&rsquo;s 2000 census&mdash;a difference only partly attributable to the description of new invertebrate species in the interim. Another factor is that the morphological variability of microorganisms is poorly understood compared to that of vertebrates, invertebrates, plants, and algae, creating uncertainty about how to evaluate microorganisms as species. Researchers&rsquo; decisions on such matters therefore can be highly consequential. Indeed, the two censuses reported similar counts of vertebrate, plant, and algal species, suggesting that <span aria-hidden=\"true\">______</span><span class=\"sr-only\">blank</span></p>', 'question': '<p>Which choice most logically completes the text?</p>', 'answerChoices': '[{\"id\": \"21140db9-ae9f-4478-be55-2511c86ebdd0\", \"content\": \"<p>Coll and colleagues reported a much higher number of species than Bianchi and Morri did largely due to the inclusion of invertebrate species that had not been described at the time of Bianchi and Morri&rsquo;s census.</p>\"}, {\"id\": \"6cbd8139-b9e9-4afc-a2a3-4c5554cdabb4\", \"content\": \"<p>some differences observed in microorganisms may have been treated as variations within species by Bianchi and Morri but treated as indicative of distinct species by Coll and colleagues.</p>\"}, {\"id\": \"78fe5f7b-acb6-4e48-9ca0-b7f8d98387a1\", \"content\": \"<p>Bianchi and Morri may have been less sensitive to the degree of morphological variation displayed within a typical species of microorganism than Coll and colleagues were.</p>\"}, {\"id\": \"a9e10939-c800-48f3-8989-7b22758b9779\", \"content\": \"<p>the absence of clarity regarding how to differentiate among species of microorganisms may have resulted in Coll and colleagues underestimating the number of microorganism species.</p>\"}]', 'answer': 'B', 'rationale': '<p>Choice B is the best answer because it presents the conclusion that most logically completes the text&rsquo;s discussion of the different counts of species in the Mediterranean Sea. The text states that Coll and colleagues reported almost double the number of species that Bianchi and Morri reported in their study ten years earlier. According to the text, this difference can only be partly attributed to new invertebrate species being described in the years between the two studies, which means there must be an additional factor that made Coll and colleagues&rsquo; count so much higher than Bianchi and Morri&rsquo;s count. The text goes on to explain that factor: researchers have a relatively poor understanding of microorganisms&rsquo; morphological variability, or the differences in microorganisms&rsquo; structure and form. This poor understanding makes it hard to classify microorganisms by species and means that researchers&rsquo; decisions about classifying microorganisms can have a large effect on the overall species counts that researchers report. Additionally, the text says that the two censuses reported similar numbers of vertebrate, plant, and algal species, which means that the difference in overall species did not come from differences in those categories. Given all this information, it most logically follows that Coll and colleagues may have treated some of the differences among microorganisms as indicative of the microorganisms being different species, whereas Bianchi and Morri treated those differences as variations within species, resulting in Coll and colleagues reporting many more species than Bianchi and Morri did. </p><p>Choice A is incorrect because the text explicitly addresses this issue by stating that the description of new invertebrate species in the years between the two studies can explain only part of the difference in the number of species reported by the studies. The focus of the text is on explaining the difference between Coll and colleagues&rsquo; count and Bianchi and Morri&rsquo;s count that cannot be accounted for by the inclusion of invertebrate species that had not been described at the time of Bianchi and Morri&rsquo;s study.&nbsp;Choice C is incorrect because nothing in the text suggests that Bianchi and Morri may have been less sensitive to how much the form and structure of microorganisms vary within the same species than Coll and colleagues were. If Bianchi and Morri had been less sensitive to within-species variation than Coll and colleagues were, Bianchi and Morri would likely have reported more species than Coll and colleagues did, since less sensitivity to within-species variation would lead researchers to classify as different species microorganisms that more sensitive researchers would classify as variations within the same species. The text indicates, however, that Bianchi and Morri reported far fewer species than Coll and colleagues did; since the text also excludes other explanations for this difference, it suggests that in fact Bianchi and Morri were more sensitive to within-species variation than Coll and colleagues were, leading Bianchi and Morri to report fewer overall species.&nbsp;Choice D is incorrect because the text is focused on explaining why Coll and colleagues reported many more species than Bianchi and Morri did, and an underestimate of the number of microorganism species by Coll and colleagues would not explain that difference&mdash;it would suggest, in fact, that the difference in the number of species should have been even larger.&nbsp;</p>'}\n"
     ]
    }
   ],
   "source": [
    "import requests\n",
    "\n",
    "payload = {\n",
    "    \"test\": \"SAT\",\n",
    "    \"difficulty\": [\"Hard\"],\n",
    "    \"subdomain\": [\"Inferences\"]\n",
    "}\n",
    "rich_questions = None\n",
    "\n",
    "try:\n",
    "    response = requests.post(\n",
    "        \"https://aquarc.org/sat/find-questions-v2\",\n",
    "        json=payload\n",
    "    )\n",
    "    response.raise_for_status()  # Raise exception for 4xx/5xx errors\n",
    "    rich_questions = response.json()\n",
    "    print(rich_questions[0])\n",
    "    \n",
    "except requests.exceptions.RequestException as e:\n",
    "    print(f\"Request failed: {e}\")"
   ]
  },
  {
   "cell_type": "markdown",
   "id": "1f1064a2",
   "metadata": {
    "papermill": {
     "duration": 0.030333,
     "end_time": "2025-04-21T00:51:14.839239",
     "exception": false,
     "start_time": "2025-04-21T00:51:14.808906",
     "status": "completed"
    },
    "tags": []
   },
   "source": [
    "To \"cleanse\" the questions into Markdown:"
   ]
  },
  {
   "cell_type": "code",
   "execution_count": 34,
   "id": "5be0d8df",
   "metadata": {
    "execution": {
     "iopub.execute_input": "2025-04-21T00:51:14.900633Z",
     "iopub.status.busy": "2025-04-21T00:51:14.900172Z",
     "iopub.status.idle": "2025-04-21T00:51:14.939375Z",
     "shell.execute_reply": "2025-04-21T00:51:14.938139Z"
    },
    "papermill": {
     "duration": 0.072585,
     "end_time": "2025-04-21T00:51:14.941465",
     "exception": false,
     "start_time": "2025-04-21T00:51:14.868880",
     "status": "completed"
    },
    "tags": []
   },
   "outputs": [
    {
     "data": {
      "text/markdown": [
       "Marta Coll and colleagues’ 2010 Mediterranean Sea biodiversity census reported approximately 17,000 species, nearly double the number reported in Carlo Bianchi and Carla Morri’s 2000 census—a difference only partly attributable to the description of new invertebrate species in the interim. Another factor is that the morphological variability of microorganisms is poorly understood compared to that of vertebrates, invertebrates, plants, and algae, creating uncertainty about how to evaluate microorganisms as species. Researchers’ decisions on such matters therefore can be highly consequential. Indeed, the two censuses reported similar counts of vertebrate, plant, and algal species, suggesting that \\_\\_\\_\\_\\_\\_blank"
      ],
      "text/plain": [
       "<IPython.core.display.Markdown object>"
      ]
     },
     "execution_count": 34,
     "metadata": {},
     "output_type": "execute_result"
    }
   ],
   "source": [
    "import json\n",
    "\n",
    "for question in rich_questions:\n",
    "    question[\"details\"] = sanitize(question[\"details\"])\n",
    "    question[\"question\"] = sanitize(question[\"question\"])\n",
    "\n",
    "Markdown(rich_questions[0][\"details\"])"
   ]
  },
  {
   "cell_type": "markdown",
   "id": "a945cee0",
   "metadata": {
    "papermill": {
     "duration": 0.028508,
     "end_time": "2025-04-21T00:51:14.999348",
     "exception": false,
     "start_time": "2025-04-21T00:51:14.970840",
     "status": "completed"
    },
    "tags": []
   },
   "source": [
    "Let's create a new database and add the questions:"
   ]
  },
  {
   "cell_type": "code",
   "execution_count": 35,
   "id": "ea5a9e04",
   "metadata": {
    "execution": {
     "iopub.execute_input": "2025-04-21T00:51:15.060528Z",
     "iopub.status.busy": "2025-04-21T00:51:15.060151Z",
     "iopub.status.idle": "2025-04-21T00:51:15.837544Z",
     "shell.execute_reply": "2025-04-21T00:51:15.836395Z"
    },
    "papermill": {
     "duration": 0.809964,
     "end_time": "2025-04-21T00:51:15.839555",
     "exception": false,
     "start_time": "2025-04-21T00:51:15.029591",
     "status": "completed"
    },
    "tags": []
   },
   "outputs": [],
   "source": [
    "DB_NAME = \"rich_questions\"\n",
    "\n",
    "db = chroma_client.get_or_create_collection(name=DB_NAME, embedding_function=embed_fn)\n",
    "\n",
    "# the passage is best used for semantic analysis\n",
    "db.add(documents=[question[\"details\"]\n",
    "                  for question in rich_questions], \n",
    "       ids=[question[\"questionId\"] for question in rich_questions])"
   ]
  },
  {
   "cell_type": "markdown",
   "id": "c7aa5e76",
   "metadata": {
    "papermill": {
     "duration": 0.027074,
     "end_time": "2025-04-21T00:51:15.894425",
     "exception": false,
     "start_time": "2025-04-21T00:51:15.867351",
     "status": "completed"
    },
    "tags": []
   },
   "source": [
    "Let's query the database with the \"'How lifelike are they?'\" passage to find semantic similarity. \n",
    "\n",
    "Define a simple function for printing:"
   ]
  },
  {
   "cell_type": "code",
   "execution_count": 36,
   "id": "fb8340d3",
   "metadata": {
    "execution": {
     "iopub.execute_input": "2025-04-21T00:51:15.952540Z",
     "iopub.status.busy": "2025-04-21T00:51:15.952185Z",
     "iopub.status.idle": "2025-04-21T00:51:15.957229Z",
     "shell.execute_reply": "2025-04-21T00:51:15.956160Z"
    },
    "papermill": {
     "duration": 0.036647,
     "end_time": "2025-04-21T00:51:15.959109",
     "exception": false,
     "start_time": "2025-04-21T00:51:15.922462",
     "status": "completed"
    },
    "tags": []
   },
   "outputs": [],
   "source": [
    "def output_query(query):\n",
    "    result = db.query(query_texts=[query], n_results=5)\n",
    "\n",
    "    [all_passages] = result[\"documents\"]\n",
    "\n",
    "    print(f\"{query}\\n====================================\\n\")\n",
    "    for passage in all_passages:\n",
    "        print(passage + \"\\n\\n\")"
   ]
  },
  {
   "cell_type": "markdown",
   "id": "e4d7699f",
   "metadata": {
    "papermill": {
     "duration": 0.028367,
     "end_time": "2025-04-21T00:51:16.014612",
     "exception": false,
     "start_time": "2025-04-21T00:51:15.986245",
     "status": "completed"
    },
    "tags": []
   },
   "source": [
    "The question unsanitized still shows semantically relevant questions:"
   ]
  },
  {
   "cell_type": "code",
   "execution_count": 37,
   "id": "4aba3911",
   "metadata": {
    "execution": {
     "iopub.execute_input": "2025-04-21T00:51:16.072522Z",
     "iopub.status.busy": "2025-04-21T00:51:16.072057Z",
     "iopub.status.idle": "2025-04-21T00:51:16.555857Z",
     "shell.execute_reply": "2025-04-21T00:51:16.554514Z"
    },
    "papermill": {
     "duration": 0.516058,
     "end_time": "2025-04-21T00:51:16.557911",
     "exception": false,
     "start_time": "2025-04-21T00:51:16.041853",
     "status": "completed"
    },
    "tags": []
   },
   "outputs": [
    {
     "name": "stdout",
     "output_type": "stream",
     "text": [
      "\n",
      "<p><span role=\"region\" aria-label=\"Referenced Content\"><u>&ldquo;How lifelike are they?&rdquo;</u></span> Many computer animators prioritize this question as they strive to create ever more realistic environments and lighting. Generally, while characters in computer-animated films appear highly exaggerated, environments and lighting are carefully engineered to mimic reality. But some animators, such as Pixar&rsquo;s Sanjay Patel, are focused on a different question. Rather than asking first whether the environments and lighting they&rsquo;re creating are convincingly lifelike, Patel and others are asking whether these elements reflect their films&rsquo; unique stories.</p>\n",
      "\n",
      "<p>Which choice best describes the function of the underlined question in the text as a whole?</p>\n",
      "\n",
      "A. <p>It reflects a primary goal that many computer animators have for certain components of the animations they produce.</p>\n",
      "B. <p>It represents a concern of computer animators who are more interested in creating unique backgrounds and lighting effects than realistic ones.</p>\n",
      "C. <p>It conveys the uncertainty among many computer animators about how to create realistic animations using current technology.</p>\n",
      "D. <p>It illustrates a reaction that audiences typically have to the appearance of characters created by computer animators.</p>\n",
      "    \n",
      "====================================\n",
      "\n",
      "Birds of many species ingest foods containing carotenoids, pigmented molecules that are converted into feather coloration. Coloration tends to be especially saturated in male birds’ feathers, and because carotenoids also confer health benefits, the deeply saturated colors generally serve to communicate what is known as an honest signal of a bird’s overall fitness to potential mates. However, ornithologist Allison J. Shultz and others have found that males in several species of the tanager genus *Ramphocelus* use microstructures in their feathers to manipulate light, creating the appearance of deeper saturation without the birds necessarily having to maintain a carotenoid-rich diet. These findings suggest that \\_\\_\\_\\_\\_\\_blank\n",
      "\n",
      "\n",
      "Some *Astyanax mexicanus*, a river-dwelling fish found in northeast Mexico, have colonized caves in the region. Although there is little genetic difference between river and cave *A. mexicanus* and all members of the species can emit the same sounds, biologist Carole Hyacinthe and colleagues found that the context and significance of those sounds vary by location—e.g., the click that river-dwelling *A. mexicanus* use to signal aggression is used by cave dwellers when foraging—and the acoustic properties of cave fish sounds show some cave-specific variations as well. Hyacinthe and colleagues note that differences in sonic communication could accumulate to the point of inhibiting interbreeding among fish from different locations, suggesting that \\_\\_\\_\\_\\_\\_blank\n",
      "\n",
      "\n",
      "Laura Mulvey has theorized that in narrative film, shots issuing from a protagonist’s point of view compel viewers to identify with the character. Such identification is heightened by “invisible editing,” or editing so inconspicuous that it renders cuts between shots almost unnoticeable. Conversely, Mulvey proposes that conspicuous editing or an absence of point-of-view shots would induce a more critical stance toward a protagonist. Consider, for example, the attic scene in Alfred Hitchcock’s *The Birds*, a conspicuously edited sequence of tens of shots, few of which correspond to the protagonist’s point of view. According to Mulvey’s logic, this scene should affect viewers by \\_\\_\\_\\_\\_\\_blank\n",
      "\n",
      "\n",
      "Geoglyphs are large-scale designs of lines or shapes created in a natural landscape. The Nazca Lines were created in the Nazca Desert in Peru by several Indigenous civilizations over a period of many centuries. Peruvian archaeologist Johny Isla specializes in these geoglyphs. At a German exhibit about the Nazca Lines, he saw an old photograph of a large geoglyph of a whalelike figure and was surprised that he didn’t recognize it. Isla returned to Peru and used a drone to search a wide area, looking for the figure from the air. This approach suggests that Isla thought that if he hadn’t already seen it, the whalelike geoglyph \\_\\_\\_\\_\\_\\_blank\n",
      "\n",
      "\n",
      "The increased integration of digital technologies throughout the process of book creation in the late 20th and early 21st centuries lowered the costs of book production, but those decreased costs have been most significant in the manufacturing and distribution process, which occurs after the authoring, editing, and design of the book are complete. This suggests that in the late 20th and early 21st centuries, \\_\\_\\_\\_\\_\\_blank\n",
      "\n",
      "\n"
     ]
    }
   ],
   "source": [
    "query = \"\"\"\n",
    "<p><span role=\"region\" aria-label=\"Referenced Content\"><u>&ldquo;How lifelike are they?&rdquo;</u></span> Many computer animators prioritize this question as they strive to create ever more realistic environments and lighting. Generally, while characters in computer-animated films appear highly exaggerated, environments and lighting are carefully engineered to mimic reality. But some animators, such as Pixar&rsquo;s Sanjay Patel, are focused on a different question. Rather than asking first whether the environments and lighting they&rsquo;re creating are convincingly lifelike, Patel and others are asking whether these elements reflect their films&rsquo; unique stories.</p>\n",
    "\n",
    "<p>Which choice best describes the function of the underlined question in the text as a whole?</p>\n",
    "\n",
    "A. <p>It reflects a primary goal that many computer animators have for certain components of the animations they produce.</p>\n",
    "B. <p>It represents a concern of computer animators who are more interested in creating unique backgrounds and lighting effects than realistic ones.</p>\n",
    "C. <p>It conveys the uncertainty among many computer animators about how to create realistic animations using current technology.</p>\n",
    "D. <p>It illustrates a reaction that audiences typically have to the appearance of characters created by computer animators.</p>\n",
    "    \"\"\"\n",
    "output_query(query)"
   ]
  },
  {
   "cell_type": "markdown",
   "id": "37825c9c",
   "metadata": {
    "papermill": {
     "duration": 0.028034,
     "end_time": "2025-04-21T00:51:16.614541",
     "exception": false,
     "start_time": "2025-04-21T00:51:16.586507",
     "status": "completed"
    },
    "tags": []
   },
   "source": [
    "This semantic similarity holds mostly strong even if other details are included in the question, because that doesn't affect semantic meaning."
   ]
  },
  {
   "cell_type": "code",
   "execution_count": 38,
   "id": "31724766",
   "metadata": {
    "execution": {
     "iopub.execute_input": "2025-04-21T00:51:16.672613Z",
     "iopub.status.busy": "2025-04-21T00:51:16.672222Z",
     "iopub.status.idle": "2025-04-21T00:51:16.923694Z",
     "shell.execute_reply": "2025-04-21T00:51:16.922244Z"
    },
    "papermill": {
     "duration": 0.283132,
     "end_time": "2025-04-21T00:51:16.925591",
     "exception": false,
     "start_time": "2025-04-21T00:51:16.642459",
     "status": "completed"
    },
    "tags": []
   },
   "outputs": [
    {
     "name": "stdout",
     "output_type": "stream",
     "text": [
      "[Underlined]“How lifelike are they?”[End] Many computer animators prioritize this question as they strive to create ever more realistic environments and lighting. Generally, while characters in computer-animated films appear highly exaggerated, environments and lighting are carefully engineered to mimic reality. But some animators, such as Pixar’s Sanjay Patel, are focused on a different question. Rather than asking first whether the environments and lighting they’re creating are convincingly lifelike, Patel and others are asking whether these elements reflect their films’ unique stories.\n",
      "\n",
      "Which choice best describes the function of the underlined question in the text as a whole?\n",
      "\n",
      "A.\n",
      "\n",
      "It reflects a primary goal that many computer animators have for certain components of the animations they produce.\n",
      "\n",
      "B.\n",
      "\n",
      "It represents a concern of computer animators who are more interested in creating unique backgrounds and lighting effects than realistic ones.\n",
      "\n",
      "C.\n",
      "\n",
      "It conveys the uncertainty among many computer animators about how to create realistic animations using current technology.\n",
      "\n",
      "D.\n",
      "\n",
      "It illustrates a reaction that audiences typically have to the appearance of characters created by computer animators.\n",
      "====================================\n",
      "\n",
      "Birds of many species ingest foods containing carotenoids, pigmented molecules that are converted into feather coloration. Coloration tends to be especially saturated in male birds’ feathers, and because carotenoids also confer health benefits, the deeply saturated colors generally serve to communicate what is known as an honest signal of a bird’s overall fitness to potential mates. However, ornithologist Allison J. Shultz and others have found that males in several species of the tanager genus *Ramphocelus* use microstructures in their feathers to manipulate light, creating the appearance of deeper saturation without the birds necessarily having to maintain a carotenoid-rich diet. These findings suggest that \\_\\_\\_\\_\\_\\_blank\n",
      "\n",
      "\n",
      "Some *Astyanax mexicanus*, a river-dwelling fish found in northeast Mexico, have colonized caves in the region. Although there is little genetic difference between river and cave *A. mexicanus* and all members of the species can emit the same sounds, biologist Carole Hyacinthe and colleagues found that the context and significance of those sounds vary by location—e.g., the click that river-dwelling *A. mexicanus* use to signal aggression is used by cave dwellers when foraging—and the acoustic properties of cave fish sounds show some cave-specific variations as well. Hyacinthe and colleagues note that differences in sonic communication could accumulate to the point of inhibiting interbreeding among fish from different locations, suggesting that \\_\\_\\_\\_\\_\\_blank\n",
      "\n",
      "\n",
      "Laura Mulvey has theorized that in narrative film, shots issuing from a protagonist’s point of view compel viewers to identify with the character. Such identification is heightened by “invisible editing,” or editing so inconspicuous that it renders cuts between shots almost unnoticeable. Conversely, Mulvey proposes that conspicuous editing or an absence of point-of-view shots would induce a more critical stance toward a protagonist. Consider, for example, the attic scene in Alfred Hitchcock’s *The Birds*, a conspicuously edited sequence of tens of shots, few of which correspond to the protagonist’s point of view. According to Mulvey’s logic, this scene should affect viewers by \\_\\_\\_\\_\\_\\_blank\n",
      "\n",
      "\n",
      "Geoglyphs are large-scale designs of lines or shapes created in a natural landscape. The Nazca Lines were created in the Nazca Desert in Peru by several Indigenous civilizations over a period of many centuries. Peruvian archaeologist Johny Isla specializes in these geoglyphs. At a German exhibit about the Nazca Lines, he saw an old photograph of a large geoglyph of a whalelike figure and was surprised that he didn’t recognize it. Isla returned to Peru and used a drone to search a wide area, looking for the figure from the air. This approach suggests that Isla thought that if he hadn’t already seen it, the whalelike geoglyph \\_\\_\\_\\_\\_\\_blank\n",
      "\n",
      "\n",
      "The increased integration of digital technologies throughout the process of book creation in the late 20th and early 21st centuries lowered the costs of book production, but those decreased costs have been most significant in the manufacturing and distribution process, which occurs after the authoring, editing, and design of the book are complete. This suggests that in the late 20th and early 21st centuries, \\_\\_\\_\\_\\_\\_blank\n",
      "\n",
      "\n"
     ]
    }
   ],
   "source": [
    "query = rich_question[\"question\"]\n",
    "output_query(query)"
   ]
  },
  {
   "cell_type": "markdown",
   "id": "57ce0e61",
   "metadata": {
    "papermill": {
     "duration": 0.027835,
     "end_time": "2025-04-21T00:51:16.982245",
     "exception": false,
     "start_time": "2025-04-21T00:51:16.954410",
     "status": "completed"
    },
    "tags": []
   },
   "source": [
    "Completely sanitized, it has almost the same output (on my device only the order of the 4th and 5th most relevant are swapped!)"
   ]
  },
  {
   "cell_type": "code",
   "execution_count": 39,
   "id": "dd5cd65a",
   "metadata": {
    "execution": {
     "iopub.execute_input": "2025-04-21T00:51:17.040280Z",
     "iopub.status.busy": "2025-04-21T00:51:17.039865Z",
     "iopub.status.idle": "2025-04-21T00:51:17.295301Z",
     "shell.execute_reply": "2025-04-21T00:51:17.293915Z"
    },
    "papermill": {
     "duration": 0.287609,
     "end_time": "2025-04-21T00:51:17.297787",
     "exception": false,
     "start_time": "2025-04-21T00:51:17.010178",
     "status": "completed"
    },
    "tags": []
   },
   "outputs": [
    {
     "name": "stdout",
     "output_type": "stream",
     "text": [
      "[Underlined]“How lifelike are they?”[End] Many computer animators prioritize this question as they strive to create ever more realistic environments and lighting. Generally, while characters in computer-animated films appear highly exaggerated, environments and lighting are carefully engineered to mimic reality. But some animators, such as Pixar’s Sanjay Patel, are focused on a different question. Rather than asking first whether the environments and lighting they’re creating are convincingly lifelike, Patel and others are asking whether these elements reflect their films’ unique stories.\n",
      "====================================\n",
      "\n",
      "Birds of many species ingest foods containing carotenoids, pigmented molecules that are converted into feather coloration. Coloration tends to be especially saturated in male birds’ feathers, and because carotenoids also confer health benefits, the deeply saturated colors generally serve to communicate what is known as an honest signal of a bird’s overall fitness to potential mates. However, ornithologist Allison J. Shultz and others have found that males in several species of the tanager genus *Ramphocelus* use microstructures in their feathers to manipulate light, creating the appearance of deeper saturation without the birds necessarily having to maintain a carotenoid-rich diet. These findings suggest that \\_\\_\\_\\_\\_\\_blank\n",
      "\n",
      "\n",
      "Some *Astyanax mexicanus*, a river-dwelling fish found in northeast Mexico, have colonized caves in the region. Although there is little genetic difference between river and cave *A. mexicanus* and all members of the species can emit the same sounds, biologist Carole Hyacinthe and colleagues found that the context and significance of those sounds vary by location—e.g., the click that river-dwelling *A. mexicanus* use to signal aggression is used by cave dwellers when foraging—and the acoustic properties of cave fish sounds show some cave-specific variations as well. Hyacinthe and colleagues note that differences in sonic communication could accumulate to the point of inhibiting interbreeding among fish from different locations, suggesting that \\_\\_\\_\\_\\_\\_blank\n",
      "\n",
      "\n",
      "Laura Mulvey has theorized that in narrative film, shots issuing from a protagonist’s point of view compel viewers to identify with the character. Such identification is heightened by “invisible editing,” or editing so inconspicuous that it renders cuts between shots almost unnoticeable. Conversely, Mulvey proposes that conspicuous editing or an absence of point-of-view shots would induce a more critical stance toward a protagonist. Consider, for example, the attic scene in Alfred Hitchcock’s *The Birds*, a conspicuously edited sequence of tens of shots, few of which correspond to the protagonist’s point of view. According to Mulvey’s logic, this scene should affect viewers by \\_\\_\\_\\_\\_\\_blank\n",
      "\n",
      "\n",
      "Geoglyphs are large-scale designs of lines or shapes created in a natural landscape. The Nazca Lines were created in the Nazca Desert in Peru by several Indigenous civilizations over a period of many centuries. Peruvian archaeologist Johny Isla specializes in these geoglyphs. At a German exhibit about the Nazca Lines, he saw an old photograph of a large geoglyph of a whalelike figure and was surprised that he didn’t recognize it. Isla returned to Peru and used a drone to search a wide area, looking for the figure from the air. This approach suggests that Isla thought that if he hadn’t already seen it, the whalelike geoglyph \\_\\_\\_\\_\\_\\_blank\n",
      "\n",
      "\n",
      "Marta Coll and colleagues’ 2010 Mediterranean Sea biodiversity census reported approximately 17,000 species, nearly double the number reported in Carlo Bianchi and Carla Morri’s 2000 census—a difference only partly attributable to the description of new invertebrate species in the interim. Another factor is that the morphological variability of microorganisms is poorly understood compared to that of vertebrates, invertebrates, plants, and algae, creating uncertainty about how to evaluate microorganisms as species. Researchers’ decisions on such matters therefore can be highly consequential. Indeed, the two censuses reported similar counts of vertebrate, plant, and algal species, suggesting that \\_\\_\\_\\_\\_\\_blank\n",
      "\n",
      "\n"
     ]
    }
   ],
   "source": [
    "#passage stolen from earlier question\n",
    "query = sanitize(\"\"\"<p><span role=\"region\" aria-label=\"Referenced Content\"><u>&ldquo;How lifelike are they?&rdquo;</u></span> Many computer animators prioritize this question as they strive to create ever more realistic environments and lighting. Generally, while characters in computer-animated films appear highly exaggerated, environments and lighting are carefully engineered to mimic reality. But some animators, such as Pixar&rsquo;s Sanjay Patel, are focused on a different question. Rather than asking first whether the environments and lighting they&rsquo;re creating are convincingly lifelike, Patel and others are asking whether these elements reflect their films&rsquo; unique stories.</p>\"\"\")\n",
    "output_query(query)"
   ]
  },
  {
   "cell_type": "markdown",
   "id": "cf6fe63b",
   "metadata": {
    "papermill": {
     "duration": 0.028176,
     "end_time": "2025-04-21T00:51:17.354825",
     "exception": false,
     "start_time": "2025-04-21T00:51:17.326649",
     "status": "completed"
    },
    "tags": []
   },
   "source": [
    "Let's try a completely different question:"
   ]
  },
  {
   "cell_type": "code",
   "execution_count": 40,
   "id": "0a12a91c",
   "metadata": {
    "execution": {
     "iopub.execute_input": "2025-04-21T00:51:17.416402Z",
     "iopub.status.busy": "2025-04-21T00:51:17.416032Z",
     "iopub.status.idle": "2025-04-21T00:51:18.058403Z",
     "shell.execute_reply": "2025-04-21T00:51:18.057294Z"
    },
    "papermill": {
     "duration": 0.678322,
     "end_time": "2025-04-21T00:51:18.062550",
     "exception": false,
     "start_time": "2025-04-21T00:51:17.384228",
     "status": "completed"
    },
    "tags": []
   },
   "outputs": [
    {
     "name": "stdout",
     "output_type": "stream",
     "text": [
      "\n",
      "<figure class=\"image\">\n",
      "   <svg aria-label=\"Bar graph titled Municipalities’ Responses to Inquiries about Potential Incentives for Firm. The horizontal axis has no label. 3 data categories are shown. The vertical axis is labeled Number of municipalities. It ranges from 0 to 1,300 in increments of 100. Refer to long description.\" height=\"578.7376708984375\" role=\"img\" viewbox=\"0 0 400 578.7376708984375\" width=\"400\" xmlns=\"http://www.w3.org/2000/svg\">\n",
      "      <g data-name=\"Layer 1\" id=\"ed420550-79eb-48d4-af01-cd27cdd08afd\">\n",
      "         <defs>\n",
      "            +\n",
      "            <pattern height=\"100\" id=\"bar4\" patterntransform=\"rotate(50)\" patternunits=\"userSpaceOnUse\" width=\"10\" x=\"0\" y=\"0\">\n",
      "               +\n",
      "               <rect fill=\"#CDCDCD\" height=\"100\" width=\"5\" x=\"0\" y=\"0\"></rect>\n",
      "               +\n",
      "               <rect fill=\"#444444\" height=\"100\" width=\"5\" x=\"5\" y=\"0\"></rect>\n",
      "               +\n",
      "            </pattern>\n",
      "            +\n",
      "         </defs>\n",
      "         <line fill=\"none\" stroke=\"#000000\" stroke-linecap=\"round\" stroke-linejoin=\"round\" stroke-width=\"0.9\" x1=\"99.75999450683594\" x2=\"385\" xmlns=\"http://www.w3.org/2000/svg\" y1=\"72\" y2=\"72\"></line>\n",
      "         <line fill=\"none\" stroke=\"#000000\" stroke-linecap=\"round\" stroke-linejoin=\"round\" stroke-width=\"0.9\" x1=\"93.75999450683594\" x2=\"105.75999450683594\" xmlns=\"http://www.w3.org/2000/svg\" y1=\"72\" y2=\"72\"></line>\n",
      "         <text fill=\"#000000\" font-family=\"Crimson Text\" font-size=\"19.84\" text-anchor=\"end\" transform=\"translate(87.75999450683594 78)\">1,300</text>\n",
      "         <line fill=\"none\" stroke=\"#000000\" stroke-linecap=\"round\" stroke-linejoin=\"round\" stroke-width=\"0.9\" x1=\"99.75999450683594\" x2=\"385\" xmlns=\"http://www.w3.org/2000/svg\" y1=\"91.23076923076923\" y2=\"91.23076923076923\"></line>\n",
      "         <line fill=\"none\" stroke=\"#000000\" stroke-linecap=\"round\" stroke-linejoin=\"round\" stroke-width=\"0.9\" x1=\"93.75999450683594\" x2=\"105.75999450683594\" xmlns=\"http://www.w3.org/2000/svg\" y1=\"91.23076923076923\" y2=\"91.23076923076923\"></line>\n",
      "         <text fill=\"#000000\" font-family=\"Crimson Text\" font-size=\"19.84\" text-anchor=\"end\" transform=\"translate(87.75999450683594 97.23076923076923)\">1,200</text>\n",
      "         <line fill=\"none\" stroke=\"#000000\" stroke-linecap=\"round\" stroke-linejoin=\"round\" stroke-width=\"0.9\" x1=\"99.75999450683594\" x2=\"385\" xmlns=\"http://www.w3.org/2000/svg\" y1=\"110.46153846153845\" y2=\"110.46153846153845\"></line>\n",
      "         <line fill=\"none\" stroke=\"#000000\" stroke-linecap=\"round\" stroke-linejoin=\"round\" stroke-width=\"0.9\" x1=\"93.75999450683594\" x2=\"105.75999450683594\" xmlns=\"http://www.w3.org/2000/svg\" y1=\"110.46153846153845\" y2=\"110.46153846153845\"></line>\n",
      "         <text fill=\"#000000\" font-family=\"Crimson Text\" font-size=\"19.84\" text-anchor=\"end\" transform=\"translate(87.75999450683594 116.46153846153845)\">1,100</text>\n",
      "         <line fill=\"none\" stroke=\"#000000\" stroke-linecap=\"round\" stroke-linejoin=\"round\" stroke-width=\"0.9\" x1=\"99.75999450683594\" x2=\"385\" xmlns=\"http://www.w3.org/2000/svg\" y1=\"129.69230769230768\" y2=\"129.69230769230768\"></line>\n",
      "         <line fill=\"none\" stroke=\"#000000\" stroke-linecap=\"round\" stroke-linejoin=\"round\" stroke-width=\"0.9\" x1=\"93.75999450683594\" x2=\"105.75999450683594\" xmlns=\"http://www.w3.org/2000/svg\" y1=\"129.69230769230768\" y2=\"129.69230769230768\"></line>\n",
      "         <text fill=\"#000000\" font-family=\"Crimson Text\" font-size=\"19.84\" text-anchor=\"end\" transform=\"translate(87.75999450683594 135.69230769230768)\">1,000</text>\n",
      "         <line fill=\"none\" stroke=\"#000000\" stroke-linecap=\"round\" stroke-linejoin=\"round\" stroke-width=\"0.9\" x1=\"99.75999450683594\" x2=\"385\" xmlns=\"http://www.w3.org/2000/svg\" y1=\"148.9230769230769\" y2=\"148.9230769230769\"></line>\n",
      "         <line fill=\"none\" stroke=\"#000000\" stroke-linecap=\"round\" stroke-linejoin=\"round\" stroke-width=\"0.9\" x1=\"93.75999450683594\" x2=\"105.75999450683594\" xmlns=\"http://www.w3.org/2000/svg\" y1=\"148.9230769230769\" y2=\"148.9230769230769\"></line>\n",
      "         <text fill=\"#000000\" font-family=\"Crimson Text\" font-size=\"19.84\" text-anchor=\"end\" transform=\"translate(87.75999450683594 154.9230769230769)\">900</text>\n",
      "         <line fill=\"none\" stroke=\"#000000\" stroke-linecap=\"round\" stroke-linejoin=\"round\" stroke-width=\"0.9\" x1=\"99.75999450683594\" x2=\"385\" xmlns=\"http://www.w3.org/2000/svg\" y1=\"168.15384615384613\" y2=\"168.15384615384613\"></line>\n",
      "         <line fill=\"none\" stroke=\"#000000\" stroke-linecap=\"round\" stroke-linejoin=\"round\" stroke-width=\"0.9\" x1=\"93.75999450683594\" x2=\"105.75999450683594\" xmlns=\"http://www.w3.org/2000/svg\" y1=\"168.15384615384613\" y2=\"168.15384615384613\"></line>\n",
      "         <text fill=\"#000000\" font-family=\"Crimson Text\" font-size=\"19.84\" text-anchor=\"end\" transform=\"translate(87.75999450683594 174.15384615384613)\">800</text>\n",
      "         <line fill=\"none\" stroke=\"#000000\" stroke-linecap=\"round\" stroke-linejoin=\"round\" stroke-width=\"0.9\" x1=\"99.75999450683594\" x2=\"385\" xmlns=\"http://www.w3.org/2000/svg\" y1=\"187.3846153846154\" y2=\"187.3846153846154\"></line>\n",
      "         <line fill=\"none\" stroke=\"#000000\" stroke-linecap=\"round\" stroke-linejoin=\"round\" stroke-width=\"0.9\" x1=\"93.75999450683594\" x2=\"105.75999450683594\" xmlns=\"http://www.w3.org/2000/svg\" y1=\"187.3846153846154\" y2=\"187.3846153846154\"></line>\n",
      "         <text fill=\"#000000\" font-family=\"Crimson Text\" font-size=\"19.84\" text-anchor=\"end\" transform=\"translate(87.75999450683594 193.3846153846154)\">700</text>\n",
      "         <line fill=\"none\" stroke=\"#000000\" stroke-linecap=\"round\" stroke-linejoin=\"round\" stroke-width=\"0.9\" x1=\"99.75999450683594\" x2=\"385\" xmlns=\"http://www.w3.org/2000/svg\" y1=\"206.6153846153846\" y2=\"206.6153846153846\"></line>\n",
      "         <line fill=\"none\" stroke=\"#000000\" stroke-linecap=\"round\" stroke-linejoin=\"round\" stroke-width=\"0.9\" x1=\"93.75999450683594\" x2=\"105.75999450683594\" xmlns=\"http://www.w3.org/2000/svg\" y1=\"206.6153846153846\" y2=\"206.6153846153846\"></line>\n",
      "         <text fill=\"#000000\" font-family=\"Crimson Text\" font-size=\"19.84\" text-anchor=\"end\" transform=\"translate(87.75999450683594 212.6153846153846)\">600</text>\n",
      "         <line fill=\"none\" stroke=\"#000000\" stroke-linecap=\"round\" stroke-linejoin=\"round\" stroke-width=\"0.9\" x1=\"99.75999450683594\" x2=\"385\" xmlns=\"http://www.w3.org/2000/svg\" y1=\"225.84615384615384\" y2=\"225.84615384615384\"></line>\n",
      "         <line fill=\"none\" stroke=\"#000000\" stroke-linecap=\"round\" stroke-linejoin=\"round\" stroke-width=\"0.9\" x1=\"93.75999450683594\" x2=\"105.75999450683594\" xmlns=\"http://www.w3.org/2000/svg\" y1=\"225.84615384615384\" y2=\"225.84615384615384\"></line>\n",
      "         <text fill=\"#000000\" font-family=\"Crimson Text\" font-size=\"19.84\" text-anchor=\"end\" transform=\"translate(87.75999450683594 231.84615384615384)\">500</text>\n",
      "         <line fill=\"none\" stroke=\"#000000\" stroke-linecap=\"round\" stroke-linejoin=\"round\" stroke-width=\"0.9\" x1=\"99.75999450683594\" x2=\"385\" xmlns=\"http://www.w3.org/2000/svg\" y1=\"245.07692307692307\" y2=\"245.07692307692307\"></line>\n",
      "         <line fill=\"none\" stroke=\"#000000\" stroke-linecap=\"round\" stroke-linejoin=\"round\" stroke-width=\"0.9\" x1=\"93.75999450683594\" x2=\"105.75999450683594\" xmlns=\"http://www.w3.org/2000/svg\" y1=\"245.07692307692307\" y2=\"245.07692307692307\"></line>\n",
      "         <text fill=\"#000000\" font-family=\"Crimson Text\" font-size=\"19.84\" text-anchor=\"end\" transform=\"translate(87.75999450683594 251.07692307692307)\">400</text>\n",
      "         <line fill=\"none\" stroke=\"#000000\" stroke-linecap=\"round\" stroke-linejoin=\"round\" stroke-width=\"0.9\" x1=\"99.75999450683594\" x2=\"385\" xmlns=\"http://www.w3.org/2000/svg\" y1=\"264.30769230769226\" y2=\"264.30769230769226\"></line>\n",
      "         <line fill=\"none\" stroke=\"#000000\" stroke-linecap=\"round\" stroke-linejoin=\"round\" stroke-width=\"0.9\" x1=\"93.75999450683594\" x2=\"105.75999450683594\" xmlns=\"http://www.w3.org/2000/svg\" y1=\"264.30769230769226\" y2=\"264.30769230769226\"></line>\n",
      "         <text fill=\"#000000\" font-family=\"Crimson Text\" font-size=\"19.84\" text-anchor=\"end\" transform=\"translate(87.75999450683594 270.30769230769226)\">300</text>\n",
      "         <line fill=\"none\" stroke=\"#000000\" stroke-linecap=\"round\" stroke-linejoin=\"round\" stroke-width=\"0.9\" x1=\"99.75999450683594\" x2=\"385\" xmlns=\"http://www.w3.org/2000/svg\" y1=\"283.53846153846155\" y2=\"283.53846153846155\"></line>\n",
      "         <line fill=\"none\" stroke=\"#000000\" stroke-linecap=\"round\" stroke-linejoin=\"round\" stroke-width=\"0.9\" x1=\"93.75999450683594\" x2=\"105.75999450683594\" xmlns=\"http://www.w3.org/2000/svg\" y1=\"283.53846153846155\" y2=\"283.53846153846155\"></line>\n",
      "         <text fill=\"#000000\" font-family=\"Crimson Text\" font-size=\"19.84\" text-anchor=\"end\" transform=\"translate(87.75999450683594 289.53846153846155)\">200</text>\n",
      "         <line fill=\"none\" stroke=\"#000000\" stroke-linecap=\"round\" stroke-linejoin=\"round\" stroke-width=\"0.9\" x1=\"99.75999450683594\" x2=\"385\" xmlns=\"http://www.w3.org/2000/svg\" y1=\"302.7692307692308\" y2=\"302.7692307692308\"></line>\n",
      "         <line fill=\"none\" stroke=\"#000000\" stroke-linecap=\"round\" stroke-linejoin=\"round\" stroke-width=\"0.9\" x1=\"93.75999450683594\" x2=\"105.75999450683594\" xmlns=\"http://www.w3.org/2000/svg\" y1=\"302.7692307692308\" y2=\"302.7692307692308\"></line>\n",
      "         <text fill=\"#000000\" font-family=\"Crimson Text\" font-size=\"19.84\" text-anchor=\"end\" transform=\"translate(87.75999450683594 308.7692307692308)\">100</text>\n",
      "         <line fill=\"none\" stroke=\"#000000\" stroke-linecap=\"round\" stroke-linejoin=\"round\" stroke-width=\"0.9\" x1=\"99.75999450683594\" x2=\"385\" xmlns=\"http://www.w3.org/2000/svg\" y1=\"322\" y2=\"322\"></line>\n",
      "         <line fill=\"none\" stroke=\"#000000\" stroke-linecap=\"round\" stroke-linejoin=\"round\" stroke-width=\"0.9\" x1=\"93.75999450683594\" x2=\"105.75999450683594\" xmlns=\"http://www.w3.org/2000/svg\" y1=\"322\" y2=\"322\"></line>\n",
      "         <text fill=\"#000000\" font-family=\"Crimson Text\" font-size=\"19.84\" text-anchor=\"end\" transform=\"translate(87.75999450683594 328)\">0</text>\n",
      "         <text fill=\"#000000\" font-family=\"Crimson Text\" font-size=\"19.84\" text-anchor=\"middle\" transform=\"translate(24 197) rotate(-90)\">Number of municipalities</text>\n",
      "         <line fill=\"none\" stroke=\"#000000\" stroke-linecap=\"round\" stroke-linejoin=\"round\" stroke-width=\"0.9\" x1=\"99.75999450683594\" x2=\"99.75999450683594\" xmlns=\"http://www.w3.org/2000/svg\" y1=\"72\" y2=\"322\"></line>\n",
      "         <rect fill=\"#B3B3B3\" height=\"240.76923076923077\" stroke=\"#000000\" stroke-linecap=\"round\" stroke-linejoin=\"mitre\" stroke-width=\"0.9\" width=\"28.524000549316405\" x=\"128.28399505615235\" xmlns=\"http://www.w3.org/2000/svg\" y=\"81.23076923076923\"></rect>\n",
      "         <rect fill=\"#333333\" height=\"240\" stroke=\"#000000\" stroke-linecap=\"round\" stroke-linejoin=\"mitre\" stroke-width=\"0.9\" width=\"28.524000549316405\" x=\"156.80799560546876\" xmlns=\"http://www.w3.org/2000/svg\" y=\"82\"></rect>\n",
      "         <text fill=\"#000000\" font-family=\"Crimson Text\" font-size=\"19.84\" text-anchor=\"end\" transform=\"translate(166.72799560546875 341.84) rotate(-40)\" x=\"0\" xmlns=\"http://www.w3.org/2000/svg\" y=\"0\">no response</text>\n",
      "         <rect fill=\"#B3B3B3\" height=\"39.80769230769231\" stroke=\"#000000\" stroke-linecap=\"round\" stroke-linejoin=\"mitre\" stroke-width=\"0.9\" width=\"28.524000549316405\" x=\"213.85599670410159\" xmlns=\"http://www.w3.org/2000/svg\" y=\"282.1923076923077\"></rect>\n",
      "         <rect fill=\"#333333\" height=\"39.42307692307692\" stroke=\"#000000\" stroke-linecap=\"round\" stroke-linejoin=\"mitre\" stroke-width=\"0.9\" width=\"28.524000549316405\" x=\"242.379997253418\" xmlns=\"http://www.w3.org/2000/svg\" y=\"282.5769230769231\"></rect>\n",
      "         <text fill=\"#000000\" font-family=\"Crimson Text\" font-size=\"19.84\" text-anchor=\"end\" transform=\"translate(252.29999725341798 341.84) rotate(-40)\" x=\"0\" xmlns=\"http://www.w3.org/2000/svg\" y=\"0\">responded to inquiry</text>\n",
      "         <rect fill=\"#B3B3B3\" height=\"24.23076923076923\" stroke=\"#000000\" stroke-linecap=\"round\" stroke-linejoin=\"mitre\" stroke-width=\"0.9\" width=\"28.524000549316405\" x=\"299.4279983520508\" xmlns=\"http://www.w3.org/2000/svg\" y=\"297.7692307692308\"></rect>\n",
      "         <rect fill=\"#333333\" height=\"23.46153846153846\" stroke=\"#000000\" stroke-linecap=\"round\" stroke-linejoin=\"mitre\" stroke-width=\"0.9\" width=\"28.524000549316405\" x=\"327.9519989013672\" xmlns=\"http://www.w3.org/2000/svg\" y=\"298.53846153846155\"></rect>\n",
      "         <text fill=\"#000000\" font-family=\"Crimson Text\" font-size=\"19.84\" text-anchor=\"end\" transform=\"translate(337.8719989013672 341.84) rotate(-40)\" x=\"0\" xmlns=\"http://www.w3.org/2000/svg\" y=\"0\">offered incentive</text>\n",
      "         <text fill=\"#000000\" font-family=\"Crimson Text\" font-size=\"19.84\" text-anchor=\"middle\" transform=\"translate(242.37999725341797 24)\">Municipalities’ Responses to Inquiries </text>\n",
      "         <text fill=\"#000000\" font-family=\"Crimson Text\" font-size=\"19.84\" text-anchor=\"middle\" transform=\"translate(242.37999725341797 48)\">about Potential Incentives for Firm</text>\n",
      "         <rect fill=\"none\" height=\"71\" stroke=\"#000000\" stroke-linejoin=\"mitre\" stroke-width=\"0.9\" width=\"280.1479034423828\" x=\"67.4260482788086\" xmlns=\"http://www.w3.org/2000/svg\" y=\"496.7376708984375\"></rect>\n",
      "         <rect fill=\"#B3B3B3\" height=\"12\" stroke=\"#000000\" stroke-linejoin=\"mitre\" stroke-width=\"0.9\" width=\"12\" x=\"74.4260482788086\" xmlns=\"http://www.w3.org/2000/svg\" y=\"508.7376708984375\"></rect>\n",
      "         <text fill=\"#000000\" font-family=\"Crimson Text\" font-size=\"19.84\" text-anchor=\"top\" transform=\"translate(96.4260482788086 520.7376708984375)\"> announcement before election</text>\n",
      "         <rect fill=\"#333333\" height=\"12\" stroke=\"#000000\" stroke-linejoin=\"mitre\" stroke-width=\"0.9\" width=\"12\" x=\"74.4260482788086\" xmlns=\"http://www.w3.org/2000/svg\" y=\"540.7376708984375\"></rect>\n",
      "         <text fill=\"#000000\" font-family=\"Crimson Text\" font-size=\"19.84\" text-anchor=\"top\" transform=\"translate(96.4260482788086 552.7376708984375)\"> announcement after election</text>\n",
      "      </g>\n",
      "   </svg>\n",
      "</figure>\n",
      "<div aria-label=\"Long description for bar graph titled Municipalities’ Responses to Inquiries about Potential Incentives for Firm\" class=\"sr-only\" role=\"region\">\n",
      "   <ul>\n",
      "      +\n",
      "      <li>\n",
      "         For each data category, the following bars are shown: <br/>                                                                                                                                                                                                                                                                                                                                                                                                                                                                                                                                                                                                                                                                                                                                                                                                                                                                                                                                                                                                                                                                                                                                                                                                                                                                                                                                                                                                                                                                                                                                                                                                                                                                                                                                                                                                                                                                                                                                                                                                                                                                                                                                                                                                                                                                                                                                                                                                                                                                                                                                                                                                                                                                                                                                                                                                                                                                                                                                                                                                                                                                                                                                                                                                                                                                                                                                                                                                                                                                                                                                                                                                                                                                                                                                                                                                                                                                                                                                                                                                                                                                                                                                                                                                                                                                                                                                                                                                                                                                                                                                                                                                                                                                                                                                                                                                                                                                                                                                                                                                                                                                                                                                                                                                                                                                                                                                                                                                                                                                                                                                                                                                                                                                                                                                                                                                                                                                                                                                                                                                                                                                                                                                                                                                                                                                                                                                                                                                                                                                                                                                                                                                                                                                                                                                                                                                                                                                                                                                                                                                                                                                                                                                                                                                                                                                                                                                                                                                                                                                                                                                                                                                                                                                                                                                                                                                                                                                                                                                                                                                                                                                                                                                                                                                                                                                                                                                                                                                                                                                                                                                                                                                                                                                                                                                                                                                                                                                                                                                                                                                                                                                                                                                                                                                                                                                                                                                                                                                                                                                                                                                                                                                                                                                                                                                                                                                                                                                                                                                                                                                                                                                                                                                                                                                                                                                                                                                                                                                                                                                                                                                                                                                                                                                                                                                                                                                                                                                                                                                                                                                                                                                                                                                                                                                                                                                                                                                                                                                                                                                                                                                                                                                                                                                                                                                                                                                                                                                                                                                                                                                                                                                                                                                                                                                                                                                                                                                                                                                                                                                                                                                                                                                                                                                                                                                                                                                           +\n",
      "         <ul>\n",
      "            +\n",
      "            <li>announcement before election</li>\n",
      "            +\n",
      "            <li>announcement after election</li>\n",
      "            +\n",
      "         </ul>\n",
      "         +\n",
      "      </li>\n",
      "      +\n",
      "      <li>\n",
      "         The data for the 3 categories are as follows: <br/>                                                                                                                                                                                                                                                                                                                                                                                                                                                                                                                                                                                                                                                                                                                                                                                                                                                                                                                                                                                                                                                                                                                                                                                                                                                                                                                                                                                                                                                                                                                                                                                                                                                                                                                                                                                                                                                                                                                                                                                                                                                                                                                                                                                                                                                                                                                                                                                                                                                                                                                                                                                                                                                                                                                                                                                                                                                                                                                                                                                                                                                                                                                                                                                                                                                                                                                                                                                                                                                                                                                                                                                                                                                                                                                                                                                                                                                                                                                                                                                                                                                                                                                                                                                                                                                                                                                                                                                                                                                                                                                                                                                                                                                                                                                                                                                                                                                                                                                                                                                                                                                                                                                                                                                                                                                                                                                                                                                                                                                                                                                                                                                                                                                                                                                                                                                                                                                                                                                                                                                                                                                                                                                                                                                                                                                                                                                                                                                                                                                                                                                                                                                                                                                                                                                                                                                                                                                                                                                                                                                                                                                                                                                                                                                                                                                                                                                                                                                                                                                                                                                                                                                                                                                                                                                                                                                                                                                                                                                                                                                                                                                                                                                                                                                                                                                                                                                                                                                                                                                                                                                                                                                                                                                                                                                                                                                                                                                                                                                                                                                                                                                                                                                                                                                                                                                                                                                                                                                                                                                                                                                                                                                                                                                                                                                                                                                                                                                                                                                                                                                                                                                                                                                                                                                                                                                                                                                                                                                                                                                                                                                                                                                                                                                                                                                                                                                                                                                                                                                                                                                                                                                                                                                                                                                                                                                                                                                                                                                                                                                                                                                                                                                                                                                                                                                                                                                                                                                                                                                                                                                                                                                                                                                                                                                                                                                                                                                                                                                                                                                                                                                                                                                                                                                                                                                                                                                                                   +\n",
      "         <ul>\n",
      "            +\n",
      "            <li>\n",
      "               no response:                                                                                                                                                                                                                                                                                                                                                                                                                                                                                                                                                                                                                                                                                                                                                                                                                                                                                                                                                                                                                                                                                                                                                                                                                                                                                                                                                                                                                                                                                                                                                                                                                                                                                                                                                                                                                                                                                                                                                                                                                                                                                                                                                                                                                                                                                                                                                                                                                                                                                                                                                                                                                                                                                                                                                                                                                                                                                                                                                                                                                                                                                                                                                                                                                                                                                                                                                                                                                                                                                                                                                                                                                                                                                                                                                                                                                                                                                                                                                                                                                                                                                                                                                                                                                                                                                                                                                                                                                                                                                                                                                                                                                                                                                                                                                                                                                                                                                                                                                                                                                                                                                                                                                                                                                                                                                                                                                                                                                                                                                                                                                                                                                                                                                                                                                                                                                                                                                                                                                                                                                                                                                                                                                                                                                                                                                                                                                                                                                                                                                                                                                                                                                                                                                                                                                                                                                                                                                                                                                                                                                                                                                                                                                                                                                                                                                                                                                                                                                                                                                                                                                                                                                                                                                                                                                                                                                                                                                                                                                                                                                                                                                                                                                                                                                                                                                                                                                                                                                                                                                                                                                                                                                                                                                                                                                                                                                                                                                                                                                                                                                                                                                                                                                                                                                                                                                                                                                                                                                                                                                                                                                                                                                                                                                                                                                                                                                                                                                                                                                                                                                                                                                                                                                                                                                                                                                                                                                                                                                                                                                                                                                                                                                                                                                                                                                                                                                                                                                                                                                                                                                                                                                                                                                                                                                                                                                                                                                                                                                                                                                                                                                                                                                                                                                                                                                                                                                                                                                                                                                                                                                                                                                                                                                                                                                                                                                                                                                                                                                                                                                                                                                                                                                                                                                                                                                                                                                                                          +\n",
      "               <ul>\n",
      "                  +\n",
      "                  <li>announcement before election: 1,252</li>\n",
      "                  +\n",
      "                  <li>announcement after election: 1,248</li>\n",
      "                  +\n",
      "               </ul>\n",
      "               +\n",
      "            </li>\n",
      "            +\n",
      "            <li>\n",
      "               responded to inquiry:                                                                                                                                                                                                                                                                                                                                                                                                                                                                                                                                                                                                                                                                                                                                                                                                                                                                                                                                                                                                                                                                                                                                                                                                                                                                                                                                                                                                                                                                                                                                                                                                                                                                                                                                                                                                                                                                                                                                                                                                                                                                                                                                                                                                                                                                                                                                                                                                                                                                                                                                                                                                                                                                                                                                                                                                                                                                                                                                                                                                                                                                                                                                                                                                                                                                                                                                                                                                                                                                                                                                                                                                                                                                                                                                                                                                                                                                                                                                                                                                                                                                                                                                                                                                                                                                                                                                                                                                                                                                                                                                                                                                                                                                                                                                                                                                                                                                                                                                                                                                                                                                                                                                                                                                                                                                                                                                                                                                                                                                                                                                                                                                                                                                                                                                                                                                                                                                                                                                                                                                                                                                                                                                                                                                                                                                                                                                                                                                                                                                                                                                                                                                                                                                                                                                                                                                                                                                                                                                                                                                                                                                                                                                                                                                                                                                                                                                                                                                                                                                                                                                                                                                                                                                                                                                                                                                                                                                                                                                                                                                                                                                                                                                                                                                                                                                                                                                                                                                                                                                                                                                                                                                                                                                                                                                                                                                                                                                                                                                                                                                                                                                                                                                                                                                                                                                                                                                                                                                                                                                                                                                                                                                                                                                                                                                                                                                                                                                                                                                                                                                                                                                                                                                                                                                                                                                                                                                                                                                                                                                                                                                                                                                                                                                                                                                                                                                                                                                                                                                                                                                                                                                                                                                                                                                                                                                                                                                                                                                                                                                                                                                                                                                                                                                                                                                                                                                                                                                                                                                                                                                                                                                                                                                                                                                                                                                                                                                                                                                                                                                                                                                                                                                                                                                                                                                                                                                                                                 +\n",
      "               <ul>\n",
      "                  +\n",
      "                  <li>announcement before election: 207</li>\n",
      "                  +\n",
      "                  <li>announcement after election: 205</li>\n",
      "                  +\n",
      "               </ul>\n",
      "               +\n",
      "            </li>\n",
      "            +\n",
      "            <li>\n",
      "               offered incentive:                                                                                                                                                                                                                                                                                                                                                                                                                                                                                                                                                                                                                                                                                                                                                                                                                                                                                                                                                                                                                                                                                                                                                                                                                                                                                                                                                                                                                                                                                                                                                                                                                                                                                                                                                                                                                                                                                                                                                                                                                                                                                                                                                                                                                                                                                                                                                                                                                                                                                                                                                                                                                                                                                                                                                                                                                                                                                                                                                                                                                                                                                                                                                                                                                                                                                                                                                                                                                                                                                                                                                                                                                                                                                                                                                                                                                                                                                                                                                                                                                                                                                                                                                                                                                                                                                                                                                                                                                                                                                                                                                                                                                                                                                                                                                                                                                                                                                                                                                                                                                                                                                                                                                                                                                                                                                                                                                                                                                                                                                                                                                                                                                                                                                                                                                                                                                                                                                                                                                                                                                                                                                                                                                                                                                                                                                                                                                                                                                                                                                                                                                                                                                                                                                                                                                                                                                                                                                                                                                                                                                                                                                                                                                                                                                                                                                                                                                                                                                                                                                                                                                                                                                                                                                                                                                                                                                                                                                                                                                                                                                                                                                                                                                                                                                                                                                                                                                                                                                                                                                                                                                                                                                                                                                                                                                                                                                                                                                                                                                                                                                                                                                                                                                                                                                                                                                                                                                                                                                                                                                                                                                                                                                                                                                                                                                                                                                                                                                                                                                                                                                                                                                                                                                                                                                                                                                                                                                                                                                                                                                                                                                                                                                                                                                                                                                                                                                                                                                                                                                                                                                                                                                                                                                                                                                                                                                                                                                                                                                                                                                                                                                                                                                                                                                                                                                                                                                                                                                                                                                                                                                                                                                                                                                                                                                                                                                                                                                                                                                                                                                                                                                                                                                                                                                                                                                                                                                                                    +\n",
      "               <ul>\n",
      "                  +\n",
      "                  <li>announcement before election: 128</li>\n",
      "                  +\n",
      "                  <li>announcement after election: 122</li>\n",
      "                  +\n",
      "               </ul>\n",
      "               +\n",
      "            </li>\n",
      "            +\n",
      "         </ul>\n",
      "         +\n",
      "      </li>\n",
      "      +\n",
      "   </ul>\n",
      "</div>\n",
      "+\n",
      "<p>In the United States, firms often seek incentives from municipal governments to expand to those municipalities. A team of political scientists hypothesized that municipalities are much more likely to respond to firms and offer incentives if expansions can be announced in time to benefit local elected officials than if they can’t. The team contacted officials in thousands of municipalities, inquiring about incentives for a firm looking to expand and indicating that the firm would announce its expansion on a date either just before or just after the next election. </p>\n",
      "\n",
      "<p>Which choice best describes data from the graph that weaken the team&rsquo;s hypothesis?</p>\n",
      "\n",
      "A. <p>A large majority of the municipalities that received an inquiry mentioning plans for an announcement before the next election didn&rsquo;t respond to the inquiry.</p>\n",
      "B. <p>The proportion of municipalities that responded to the inquiry or offered incentives didn&rsquo;t substantially differ across the announcement timing conditions.&nbsp;</p>\n",
      "C. <p>Only around half the municipalities that responded to inquiries mentioning plans for an announcement before the next election offered incentives.&nbsp;</p>\n",
      "D. <p>Of the municipalities that received an inquiry mentioning plans for an announcement date after the next election, more than 1,200 didn&rsquo;t respond and only around 100 offered incentives.</p>\n",
      "\n",
      "====================================\n",
      "\n",
      "Geoglyphs are large-scale designs of lines or shapes created in a natural landscape. The Nazca Lines were created in the Nazca Desert in Peru by several Indigenous civilizations over a period of many centuries. Peruvian archaeologist Johny Isla specializes in these geoglyphs. At a German exhibit about the Nazca Lines, he saw an old photograph of a large geoglyph of a whalelike figure and was surprised that he didn’t recognize it. Isla returned to Peru and used a drone to search a wide area, looking for the figure from the air. This approach suggests that Isla thought that if he hadn’t already seen it, the whalelike geoglyph \\_\\_\\_\\_\\_\\_blank\n",
      "\n",
      "\n",
      "Marta Coll and colleagues’ 2010 Mediterranean Sea biodiversity census reported approximately 17,000 species, nearly double the number reported in Carlo Bianchi and Carla Morri’s 2000 census—a difference only partly attributable to the description of new invertebrate species in the interim. Another factor is that the morphological variability of microorganisms is poorly understood compared to that of vertebrates, invertebrates, plants, and algae, creating uncertainty about how to evaluate microorganisms as species. Researchers’ decisions on such matters therefore can be highly consequential. Indeed, the two censuses reported similar counts of vertebrate, plant, and algal species, suggesting that \\_\\_\\_\\_\\_\\_blank\n",
      "\n",
      "\n",
      "During the Bourbon Restoration in France (1814–1830), the right to vote required in part that a person paid at least 300 francs in direct taxes to the government. The four most common taxes (the *quatre vieilles*) were levied on real estate (both land and buildings); the doors and windows in taxpayer homes; the rental values of homes; and the businesses of artisans and merchants. (Foreign investments were either exempt from taxation or taxed lightly.) Although relatively few people paid the tax on real estate, it was the main means of voter qualification and accounted for over two-thirds of government receipts during this period, suggesting that during the Bourbon Restoration \\_\\_\\_\\_\\_\\_blank\n",
      "\n",
      "\n",
      "Researchers Suchithra Rajendran and Maximilian Popfinger modeled varying levels of passenger redistribution from short-haul flights (flights of 50 to 210 minutes, from takeoff to landing) to high-speed rail trips. Planes travel faster than trains, but air travel typically requires 3 hours of lead time for security, baggage handling, and boarding that rail travel doesn’t, so short-haul routes take similar amounts of time by air and by rail. However, the model suggests that as rail passenger volumes approach current capacity limits, long lead times emerge. Therefore, for rail to remain a viable alternative to short-haul flights, \\_\\_\\_\\_\\_\\_blank\n",
      "\n",
      "\n",
      "Volunteering, or giving time for a community service for free, is a valuable form of civic engagement because helping in a community is also good for society as a whole. In a survey of youths in the United States, most young people said that they believe volunteering is a way to help people on an individual level. Meanwhile, only 6% of the youths said that they think volunteering is a way to help fix problems in society overall. These replies suggest that \\_\\_\\_\\_\\_\\_blank\n",
      "\n",
      "\n"
     ]
    }
   ],
   "source": [
    "# This question is (c) CollegeBoard 2025\n",
    "query = \"\"\"\n",
    "<figure class=\"image\">\n",
    "   <svg aria-label=\"Bar graph titled Municipalities’ Responses to Inquiries about Potential Incentives for Firm. The horizontal axis has no label. 3 data categories are shown. The vertical axis is labeled Number of municipalities. It ranges from 0 to 1,300 in increments of 100. Refer to long description.\" height=\"578.7376708984375\" role=\"img\" viewbox=\"0 0 400 578.7376708984375\" width=\"400\" xmlns=\"http://www.w3.org/2000/svg\">\n",
    "      <g data-name=\"Layer 1\" id=\"ed420550-79eb-48d4-af01-cd27cdd08afd\">\n",
    "         <defs>\n",
    "            +\n",
    "            <pattern height=\"100\" id=\"bar4\" patterntransform=\"rotate(50)\" patternunits=\"userSpaceOnUse\" width=\"10\" x=\"0\" y=\"0\">\n",
    "               +\n",
    "               <rect fill=\"#CDCDCD\" height=\"100\" width=\"5\" x=\"0\" y=\"0\"></rect>\n",
    "               +\n",
    "               <rect fill=\"#444444\" height=\"100\" width=\"5\" x=\"5\" y=\"0\"></rect>\n",
    "               +\n",
    "            </pattern>\n",
    "            +\n",
    "         </defs>\n",
    "         <line fill=\"none\" stroke=\"#000000\" stroke-linecap=\"round\" stroke-linejoin=\"round\" stroke-width=\"0.9\" x1=\"99.75999450683594\" x2=\"385\" xmlns=\"http://www.w3.org/2000/svg\" y1=\"72\" y2=\"72\"></line>\n",
    "         <line fill=\"none\" stroke=\"#000000\" stroke-linecap=\"round\" stroke-linejoin=\"round\" stroke-width=\"0.9\" x1=\"93.75999450683594\" x2=\"105.75999450683594\" xmlns=\"http://www.w3.org/2000/svg\" y1=\"72\" y2=\"72\"></line>\n",
    "         <text fill=\"#000000\" font-family=\"Crimson Text\" font-size=\"19.84\" text-anchor=\"end\" transform=\"translate(87.75999450683594 78)\">1,300</text>\n",
    "         <line fill=\"none\" stroke=\"#000000\" stroke-linecap=\"round\" stroke-linejoin=\"round\" stroke-width=\"0.9\" x1=\"99.75999450683594\" x2=\"385\" xmlns=\"http://www.w3.org/2000/svg\" y1=\"91.23076923076923\" y2=\"91.23076923076923\"></line>\n",
    "         <line fill=\"none\" stroke=\"#000000\" stroke-linecap=\"round\" stroke-linejoin=\"round\" stroke-width=\"0.9\" x1=\"93.75999450683594\" x2=\"105.75999450683594\" xmlns=\"http://www.w3.org/2000/svg\" y1=\"91.23076923076923\" y2=\"91.23076923076923\"></line>\n",
    "         <text fill=\"#000000\" font-family=\"Crimson Text\" font-size=\"19.84\" text-anchor=\"end\" transform=\"translate(87.75999450683594 97.23076923076923)\">1,200</text>\n",
    "         <line fill=\"none\" stroke=\"#000000\" stroke-linecap=\"round\" stroke-linejoin=\"round\" stroke-width=\"0.9\" x1=\"99.75999450683594\" x2=\"385\" xmlns=\"http://www.w3.org/2000/svg\" y1=\"110.46153846153845\" y2=\"110.46153846153845\"></line>\n",
    "         <line fill=\"none\" stroke=\"#000000\" stroke-linecap=\"round\" stroke-linejoin=\"round\" stroke-width=\"0.9\" x1=\"93.75999450683594\" x2=\"105.75999450683594\" xmlns=\"http://www.w3.org/2000/svg\" y1=\"110.46153846153845\" y2=\"110.46153846153845\"></line>\n",
    "         <text fill=\"#000000\" font-family=\"Crimson Text\" font-size=\"19.84\" text-anchor=\"end\" transform=\"translate(87.75999450683594 116.46153846153845)\">1,100</text>\n",
    "         <line fill=\"none\" stroke=\"#000000\" stroke-linecap=\"round\" stroke-linejoin=\"round\" stroke-width=\"0.9\" x1=\"99.75999450683594\" x2=\"385\" xmlns=\"http://www.w3.org/2000/svg\" y1=\"129.69230769230768\" y2=\"129.69230769230768\"></line>\n",
    "         <line fill=\"none\" stroke=\"#000000\" stroke-linecap=\"round\" stroke-linejoin=\"round\" stroke-width=\"0.9\" x1=\"93.75999450683594\" x2=\"105.75999450683594\" xmlns=\"http://www.w3.org/2000/svg\" y1=\"129.69230769230768\" y2=\"129.69230769230768\"></line>\n",
    "         <text fill=\"#000000\" font-family=\"Crimson Text\" font-size=\"19.84\" text-anchor=\"end\" transform=\"translate(87.75999450683594 135.69230769230768)\">1,000</text>\n",
    "         <line fill=\"none\" stroke=\"#000000\" stroke-linecap=\"round\" stroke-linejoin=\"round\" stroke-width=\"0.9\" x1=\"99.75999450683594\" x2=\"385\" xmlns=\"http://www.w3.org/2000/svg\" y1=\"148.9230769230769\" y2=\"148.9230769230769\"></line>\n",
    "         <line fill=\"none\" stroke=\"#000000\" stroke-linecap=\"round\" stroke-linejoin=\"round\" stroke-width=\"0.9\" x1=\"93.75999450683594\" x2=\"105.75999450683594\" xmlns=\"http://www.w3.org/2000/svg\" y1=\"148.9230769230769\" y2=\"148.9230769230769\"></line>\n",
    "         <text fill=\"#000000\" font-family=\"Crimson Text\" font-size=\"19.84\" text-anchor=\"end\" transform=\"translate(87.75999450683594 154.9230769230769)\">900</text>\n",
    "         <line fill=\"none\" stroke=\"#000000\" stroke-linecap=\"round\" stroke-linejoin=\"round\" stroke-width=\"0.9\" x1=\"99.75999450683594\" x2=\"385\" xmlns=\"http://www.w3.org/2000/svg\" y1=\"168.15384615384613\" y2=\"168.15384615384613\"></line>\n",
    "         <line fill=\"none\" stroke=\"#000000\" stroke-linecap=\"round\" stroke-linejoin=\"round\" stroke-width=\"0.9\" x1=\"93.75999450683594\" x2=\"105.75999450683594\" xmlns=\"http://www.w3.org/2000/svg\" y1=\"168.15384615384613\" y2=\"168.15384615384613\"></line>\n",
    "         <text fill=\"#000000\" font-family=\"Crimson Text\" font-size=\"19.84\" text-anchor=\"end\" transform=\"translate(87.75999450683594 174.15384615384613)\">800</text>\n",
    "         <line fill=\"none\" stroke=\"#000000\" stroke-linecap=\"round\" stroke-linejoin=\"round\" stroke-width=\"0.9\" x1=\"99.75999450683594\" x2=\"385\" xmlns=\"http://www.w3.org/2000/svg\" y1=\"187.3846153846154\" y2=\"187.3846153846154\"></line>\n",
    "         <line fill=\"none\" stroke=\"#000000\" stroke-linecap=\"round\" stroke-linejoin=\"round\" stroke-width=\"0.9\" x1=\"93.75999450683594\" x2=\"105.75999450683594\" xmlns=\"http://www.w3.org/2000/svg\" y1=\"187.3846153846154\" y2=\"187.3846153846154\"></line>\n",
    "         <text fill=\"#000000\" font-family=\"Crimson Text\" font-size=\"19.84\" text-anchor=\"end\" transform=\"translate(87.75999450683594 193.3846153846154)\">700</text>\n",
    "         <line fill=\"none\" stroke=\"#000000\" stroke-linecap=\"round\" stroke-linejoin=\"round\" stroke-width=\"0.9\" x1=\"99.75999450683594\" x2=\"385\" xmlns=\"http://www.w3.org/2000/svg\" y1=\"206.6153846153846\" y2=\"206.6153846153846\"></line>\n",
    "         <line fill=\"none\" stroke=\"#000000\" stroke-linecap=\"round\" stroke-linejoin=\"round\" stroke-width=\"0.9\" x1=\"93.75999450683594\" x2=\"105.75999450683594\" xmlns=\"http://www.w3.org/2000/svg\" y1=\"206.6153846153846\" y2=\"206.6153846153846\"></line>\n",
    "         <text fill=\"#000000\" font-family=\"Crimson Text\" font-size=\"19.84\" text-anchor=\"end\" transform=\"translate(87.75999450683594 212.6153846153846)\">600</text>\n",
    "         <line fill=\"none\" stroke=\"#000000\" stroke-linecap=\"round\" stroke-linejoin=\"round\" stroke-width=\"0.9\" x1=\"99.75999450683594\" x2=\"385\" xmlns=\"http://www.w3.org/2000/svg\" y1=\"225.84615384615384\" y2=\"225.84615384615384\"></line>\n",
    "         <line fill=\"none\" stroke=\"#000000\" stroke-linecap=\"round\" stroke-linejoin=\"round\" stroke-width=\"0.9\" x1=\"93.75999450683594\" x2=\"105.75999450683594\" xmlns=\"http://www.w3.org/2000/svg\" y1=\"225.84615384615384\" y2=\"225.84615384615384\"></line>\n",
    "         <text fill=\"#000000\" font-family=\"Crimson Text\" font-size=\"19.84\" text-anchor=\"end\" transform=\"translate(87.75999450683594 231.84615384615384)\">500</text>\n",
    "         <line fill=\"none\" stroke=\"#000000\" stroke-linecap=\"round\" stroke-linejoin=\"round\" stroke-width=\"0.9\" x1=\"99.75999450683594\" x2=\"385\" xmlns=\"http://www.w3.org/2000/svg\" y1=\"245.07692307692307\" y2=\"245.07692307692307\"></line>\n",
    "         <line fill=\"none\" stroke=\"#000000\" stroke-linecap=\"round\" stroke-linejoin=\"round\" stroke-width=\"0.9\" x1=\"93.75999450683594\" x2=\"105.75999450683594\" xmlns=\"http://www.w3.org/2000/svg\" y1=\"245.07692307692307\" y2=\"245.07692307692307\"></line>\n",
    "         <text fill=\"#000000\" font-family=\"Crimson Text\" font-size=\"19.84\" text-anchor=\"end\" transform=\"translate(87.75999450683594 251.07692307692307)\">400</text>\n",
    "         <line fill=\"none\" stroke=\"#000000\" stroke-linecap=\"round\" stroke-linejoin=\"round\" stroke-width=\"0.9\" x1=\"99.75999450683594\" x2=\"385\" xmlns=\"http://www.w3.org/2000/svg\" y1=\"264.30769230769226\" y2=\"264.30769230769226\"></line>\n",
    "         <line fill=\"none\" stroke=\"#000000\" stroke-linecap=\"round\" stroke-linejoin=\"round\" stroke-width=\"0.9\" x1=\"93.75999450683594\" x2=\"105.75999450683594\" xmlns=\"http://www.w3.org/2000/svg\" y1=\"264.30769230769226\" y2=\"264.30769230769226\"></line>\n",
    "         <text fill=\"#000000\" font-family=\"Crimson Text\" font-size=\"19.84\" text-anchor=\"end\" transform=\"translate(87.75999450683594 270.30769230769226)\">300</text>\n",
    "         <line fill=\"none\" stroke=\"#000000\" stroke-linecap=\"round\" stroke-linejoin=\"round\" stroke-width=\"0.9\" x1=\"99.75999450683594\" x2=\"385\" xmlns=\"http://www.w3.org/2000/svg\" y1=\"283.53846153846155\" y2=\"283.53846153846155\"></line>\n",
    "         <line fill=\"none\" stroke=\"#000000\" stroke-linecap=\"round\" stroke-linejoin=\"round\" stroke-width=\"0.9\" x1=\"93.75999450683594\" x2=\"105.75999450683594\" xmlns=\"http://www.w3.org/2000/svg\" y1=\"283.53846153846155\" y2=\"283.53846153846155\"></line>\n",
    "         <text fill=\"#000000\" font-family=\"Crimson Text\" font-size=\"19.84\" text-anchor=\"end\" transform=\"translate(87.75999450683594 289.53846153846155)\">200</text>\n",
    "         <line fill=\"none\" stroke=\"#000000\" stroke-linecap=\"round\" stroke-linejoin=\"round\" stroke-width=\"0.9\" x1=\"99.75999450683594\" x2=\"385\" xmlns=\"http://www.w3.org/2000/svg\" y1=\"302.7692307692308\" y2=\"302.7692307692308\"></line>\n",
    "         <line fill=\"none\" stroke=\"#000000\" stroke-linecap=\"round\" stroke-linejoin=\"round\" stroke-width=\"0.9\" x1=\"93.75999450683594\" x2=\"105.75999450683594\" xmlns=\"http://www.w3.org/2000/svg\" y1=\"302.7692307692308\" y2=\"302.7692307692308\"></line>\n",
    "         <text fill=\"#000000\" font-family=\"Crimson Text\" font-size=\"19.84\" text-anchor=\"end\" transform=\"translate(87.75999450683594 308.7692307692308)\">100</text>\n",
    "         <line fill=\"none\" stroke=\"#000000\" stroke-linecap=\"round\" stroke-linejoin=\"round\" stroke-width=\"0.9\" x1=\"99.75999450683594\" x2=\"385\" xmlns=\"http://www.w3.org/2000/svg\" y1=\"322\" y2=\"322\"></line>\n",
    "         <line fill=\"none\" stroke=\"#000000\" stroke-linecap=\"round\" stroke-linejoin=\"round\" stroke-width=\"0.9\" x1=\"93.75999450683594\" x2=\"105.75999450683594\" xmlns=\"http://www.w3.org/2000/svg\" y1=\"322\" y2=\"322\"></line>\n",
    "         <text fill=\"#000000\" font-family=\"Crimson Text\" font-size=\"19.84\" text-anchor=\"end\" transform=\"translate(87.75999450683594 328)\">0</text>\n",
    "         <text fill=\"#000000\" font-family=\"Crimson Text\" font-size=\"19.84\" text-anchor=\"middle\" transform=\"translate(24 197) rotate(-90)\">Number of municipalities</text>\n",
    "         <line fill=\"none\" stroke=\"#000000\" stroke-linecap=\"round\" stroke-linejoin=\"round\" stroke-width=\"0.9\" x1=\"99.75999450683594\" x2=\"99.75999450683594\" xmlns=\"http://www.w3.org/2000/svg\" y1=\"72\" y2=\"322\"></line>\n",
    "         <rect fill=\"#B3B3B3\" height=\"240.76923076923077\" stroke=\"#000000\" stroke-linecap=\"round\" stroke-linejoin=\"mitre\" stroke-width=\"0.9\" width=\"28.524000549316405\" x=\"128.28399505615235\" xmlns=\"http://www.w3.org/2000/svg\" y=\"81.23076923076923\"></rect>\n",
    "         <rect fill=\"#333333\" height=\"240\" stroke=\"#000000\" stroke-linecap=\"round\" stroke-linejoin=\"mitre\" stroke-width=\"0.9\" width=\"28.524000549316405\" x=\"156.80799560546876\" xmlns=\"http://www.w3.org/2000/svg\" y=\"82\"></rect>\n",
    "         <text fill=\"#000000\" font-family=\"Crimson Text\" font-size=\"19.84\" text-anchor=\"end\" transform=\"translate(166.72799560546875 341.84) rotate(-40)\" x=\"0\" xmlns=\"http://www.w3.org/2000/svg\" y=\"0\">no response</text>\n",
    "         <rect fill=\"#B3B3B3\" height=\"39.80769230769231\" stroke=\"#000000\" stroke-linecap=\"round\" stroke-linejoin=\"mitre\" stroke-width=\"0.9\" width=\"28.524000549316405\" x=\"213.85599670410159\" xmlns=\"http://www.w3.org/2000/svg\" y=\"282.1923076923077\"></rect>\n",
    "         <rect fill=\"#333333\" height=\"39.42307692307692\" stroke=\"#000000\" stroke-linecap=\"round\" stroke-linejoin=\"mitre\" stroke-width=\"0.9\" width=\"28.524000549316405\" x=\"242.379997253418\" xmlns=\"http://www.w3.org/2000/svg\" y=\"282.5769230769231\"></rect>\n",
    "         <text fill=\"#000000\" font-family=\"Crimson Text\" font-size=\"19.84\" text-anchor=\"end\" transform=\"translate(252.29999725341798 341.84) rotate(-40)\" x=\"0\" xmlns=\"http://www.w3.org/2000/svg\" y=\"0\">responded to inquiry</text>\n",
    "         <rect fill=\"#B3B3B3\" height=\"24.23076923076923\" stroke=\"#000000\" stroke-linecap=\"round\" stroke-linejoin=\"mitre\" stroke-width=\"0.9\" width=\"28.524000549316405\" x=\"299.4279983520508\" xmlns=\"http://www.w3.org/2000/svg\" y=\"297.7692307692308\"></rect>\n",
    "         <rect fill=\"#333333\" height=\"23.46153846153846\" stroke=\"#000000\" stroke-linecap=\"round\" stroke-linejoin=\"mitre\" stroke-width=\"0.9\" width=\"28.524000549316405\" x=\"327.9519989013672\" xmlns=\"http://www.w3.org/2000/svg\" y=\"298.53846153846155\"></rect>\n",
    "         <text fill=\"#000000\" font-family=\"Crimson Text\" font-size=\"19.84\" text-anchor=\"end\" transform=\"translate(337.8719989013672 341.84) rotate(-40)\" x=\"0\" xmlns=\"http://www.w3.org/2000/svg\" y=\"0\">offered incentive</text>\n",
    "         <text fill=\"#000000\" font-family=\"Crimson Text\" font-size=\"19.84\" text-anchor=\"middle\" transform=\"translate(242.37999725341797 24)\">Municipalities’ Responses to Inquiries </text>\n",
    "         <text fill=\"#000000\" font-family=\"Crimson Text\" font-size=\"19.84\" text-anchor=\"middle\" transform=\"translate(242.37999725341797 48)\">about Potential Incentives for Firm</text>\n",
    "         <rect fill=\"none\" height=\"71\" stroke=\"#000000\" stroke-linejoin=\"mitre\" stroke-width=\"0.9\" width=\"280.1479034423828\" x=\"67.4260482788086\" xmlns=\"http://www.w3.org/2000/svg\" y=\"496.7376708984375\"></rect>\n",
    "         <rect fill=\"#B3B3B3\" height=\"12\" stroke=\"#000000\" stroke-linejoin=\"mitre\" stroke-width=\"0.9\" width=\"12\" x=\"74.4260482788086\" xmlns=\"http://www.w3.org/2000/svg\" y=\"508.7376708984375\"></rect>\n",
    "         <text fill=\"#000000\" font-family=\"Crimson Text\" font-size=\"19.84\" text-anchor=\"top\" transform=\"translate(96.4260482788086 520.7376708984375)\"> announcement before election</text>\n",
    "         <rect fill=\"#333333\" height=\"12\" stroke=\"#000000\" stroke-linejoin=\"mitre\" stroke-width=\"0.9\" width=\"12\" x=\"74.4260482788086\" xmlns=\"http://www.w3.org/2000/svg\" y=\"540.7376708984375\"></rect>\n",
    "         <text fill=\"#000000\" font-family=\"Crimson Text\" font-size=\"19.84\" text-anchor=\"top\" transform=\"translate(96.4260482788086 552.7376708984375)\"> announcement after election</text>\n",
    "      </g>\n",
    "   </svg>\n",
    "</figure>\n",
    "<div aria-label=\"Long description for bar graph titled Municipalities’ Responses to Inquiries about Potential Incentives for Firm\" class=\"sr-only\" role=\"region\">\n",
    "   <ul>\n",
    "      +\n",
    "      <li>\n",
    "         For each data category, the following bars are shown: <br/>                                                                                                                                                                                                                                                                                                                                                                                                                                                                                                                                                                                                                                                                                                                                                                                                                                                                                                                                                                                                                                                                                                                                                                                                                                                                                                                                                                                                                                                                                                                                                                                                                                                                                                                                                                                                                                                                                                                                                                                                                                                                                                                                                                                                                                                                                                                                                                                                                                                                                                                                                                                                                                                                                                                                                                                                                                                                                                                                                                                                                                                                                                                                                                                                                                                                                                                                                                                                                                                                                                                                                                                                                                                                                                                                                                                                                                                                                                                                                                                                                                                                                                                                                                                                                                                                                                                                                                                                                                                                                                                                                                                                                                                                                                                                                                                                                                                                                                                                                                                                                                                                                                                                                                                                                                                                                                                                                                                                                                                                                                                                                                                                                                                                                                                                                                                                                                                                                                                                                                                                                                                                                                                                                                                                                                                                                                                                                                                                                                                                                                                                                                                                                                                                                                                                                                                                                                                                                                                                                                                                                                                                                                                                                                                                                                                                                                                                                                                                                                                                                                                                                                                                                                                                                                                                                                                                                                                                                                                                                                                                                                                                                                                                                                                                                                                                                                                                                                                                                                                                                                                                                                                                                                                                                                                                                                                                                                                                                                                                                                                                                                                                                                                                                                                                                                                                                                                                                                                                                                                                                                                                                                                                                                                                                                                                                                                                                                                                                                                                                                                                                                                                                                                                                                                                                                                                                                                                                                                                                                                                                                                                                                                                                                                                                                                                                                                                                                                                                                                                                                                                                                                                                                                                                                                                                                                                                                                                                                                                                                                                                                                                                                                                                                                                                                                                                                                                                                                                                                                                                                                                                                                                                                                                                                                                                                                                                                                                                                                                                                                                                                                                                                                                                                                                                                                                                                                                           +\n",
    "         <ul>\n",
    "            +\n",
    "            <li>announcement before election</li>\n",
    "            +\n",
    "            <li>announcement after election</li>\n",
    "            +\n",
    "         </ul>\n",
    "         +\n",
    "      </li>\n",
    "      +\n",
    "      <li>\n",
    "         The data for the 3 categories are as follows: <br/>                                                                                                                                                                                                                                                                                                                                                                                                                                                                                                                                                                                                                                                                                                                                                                                                                                                                                                                                                                                                                                                                                                                                                                                                                                                                                                                                                                                                                                                                                                                                                                                                                                                                                                                                                                                                                                                                                                                                                                                                                                                                                                                                                                                                                                                                                                                                                                                                                                                                                                                                                                                                                                                                                                                                                                                                                                                                                                                                                                                                                                                                                                                                                                                                                                                                                                                                                                                                                                                                                                                                                                                                                                                                                                                                                                                                                                                                                                                                                                                                                                                                                                                                                                                                                                                                                                                                                                                                                                                                                                                                                                                                                                                                                                                                                                                                                                                                                                                                                                                                                                                                                                                                                                                                                                                                                                                                                                                                                                                                                                                                                                                                                                                                                                                                                                                                                                                                                                                                                                                                                                                                                                                                                                                                                                                                                                                                                                                                                                                                                                                                                                                                                                                                                                                                                                                                                                                                                                                                                                                                                                                                                                                                                                                                                                                                                                                                                                                                                                                                                                                                                                                                                                                                                                                                                                                                                                                                                                                                                                                                                                                                                                                                                                                                                                                                                                                                                                                                                                                                                                                                                                                                                                                                                                                                                                                                                                                                                                                                                                                                                                                                                                                                                                                                                                                                                                                                                                                                                                                                                                                                                                                                                                                                                                                                                                                                                                                                                                                                                                                                                                                                                                                                                                                                                                                                                                                                                                                                                                                                                                                                                                                                                                                                                                                                                                                                                                                                                                                                                                                                                                                                                                                                                                                                                                                                                                                                                                                                                                                                                                                                                                                                                                                                                                                                                                                                                                                                                                                                                                                                                                                                                                                                                                                                                                                                                                                                                                                                                                                                                                                                                                                                                                                                                                                                                                                                                   +\n",
    "         <ul>\n",
    "            +\n",
    "            <li>\n",
    "               no response:                                                                                                                                                                                                                                                                                                                                                                                                                                                                                                                                                                                                                                                                                                                                                                                                                                                                                                                                                                                                                                                                                                                                                                                                                                                                                                                                                                                                                                                                                                                                                                                                                                                                                                                                                                                                                                                                                                                                                                                                                                                                                                                                                                                                                                                                                                                                                                                                                                                                                                                                                                                                                                                                                                                                                                                                                                                                                                                                                                                                                                                                                                                                                                                                                                                                                                                                                                                                                                                                                                                                                                                                                                                                                                                                                                                                                                                                                                                                                                                                                                                                                                                                                                                                                                                                                                                                                                                                                                                                                                                                                                                                                                                                                                                                                                                                                                                                                                                                                                                                                                                                                                                                                                                                                                                                                                                                                                                                                                                                                                                                                                                                                                                                                                                                                                                                                                                                                                                                                                                                                                                                                                                                                                                                                                                                                                                                                                                                                                                                                                                                                                                                                                                                                                                                                                                                                                                                                                                                                                                                                                                                                                                                                                                                                                                                                                                                                                                                                                                                                                                                                                                                                                                                                                                                                                                                                                                                                                                                                                                                                                                                                                                                                                                                                                                                                                                                                                                                                                                                                                                                                                                                                                                                                                                                                                                                                                                                                                                                                                                                                                                                                                                                                                                                                                                                                                                                                                                                                                                                                                                                                                                                                                                                                                                                                                                                                                                                                                                                                                                                                                                                                                                                                                                                                                                                                                                                                                                                                                                                                                                                                                                                                                                                                                                                                                                                                                                                                                                                                                                                                                                                                                                                                                                                                                                                                                                                                                                                                                                                                                                                                                                                                                                                                                                                                                                                                                                                                                                                                                                                                                                                                                                                                                                                                                                                                                                                                                                                                                                                                                                                                                                                                                                                                                                                                                                                                                                          +\n",
    "               <ul>\n",
    "                  +\n",
    "                  <li>announcement before election: 1,252</li>\n",
    "                  +\n",
    "                  <li>announcement after election: 1,248</li>\n",
    "                  +\n",
    "               </ul>\n",
    "               +\n",
    "            </li>\n",
    "            +\n",
    "            <li>\n",
    "               responded to inquiry:                                                                                                                                                                                                                                                                                                                                                                                                                                                                                                                                                                                                                                                                                                                                                                                                                                                                                                                                                                                                                                                                                                                                                                                                                                                                                                                                                                                                                                                                                                                                                                                                                                                                                                                                                                                                                                                                                                                                                                                                                                                                                                                                                                                                                                                                                                                                                                                                                                                                                                                                                                                                                                                                                                                                                                                                                                                                                                                                                                                                                                                                                                                                                                                                                                                                                                                                                                                                                                                                                                                                                                                                                                                                                                                                                                                                                                                                                                                                                                                                                                                                                                                                                                                                                                                                                                                                                                                                                                                                                                                                                                                                                                                                                                                                                                                                                                                                                                                                                                                                                                                                                                                                                                                                                                                                                                                                                                                                                                                                                                                                                                                                                                                                                                                                                                                                                                                                                                                                                                                                                                                                                                                                                                                                                                                                                                                                                                                                                                                                                                                                                                                                                                                                                                                                                                                                                                                                                                                                                                                                                                                                                                                                                                                                                                                                                                                                                                                                                                                                                                                                                                                                                                                                                                                                                                                                                                                                                                                                                                                                                                                                                                                                                                                                                                                                                                                                                                                                                                                                                                                                                                                                                                                                                                                                                                                                                                                                                                                                                                                                                                                                                                                                                                                                                                                                                                                                                                                                                                                                                                                                                                                                                                                                                                                                                                                                                                                                                                                                                                                                                                                                                                                                                                                                                                                                                                                                                                                                                                                                                                                                                                                                                                                                                                                                                                                                                                                                                                                                                                                                                                                                                                                                                                                                                                                                                                                                                                                                                                                                                                                                                                                                                                                                                                                                                                                                                                                                                                                                                                                                                                                                                                                                                                                                                                                                                                                                                                                                                                                                                                                                                                                                                                                                                                                                                                                                                                                 +\n",
    "               <ul>\n",
    "                  +\n",
    "                  <li>announcement before election: 207</li>\n",
    "                  +\n",
    "                  <li>announcement after election: 205</li>\n",
    "                  +\n",
    "               </ul>\n",
    "               +\n",
    "            </li>\n",
    "            +\n",
    "            <li>\n",
    "               offered incentive:                                                                                                                                                                                                                                                                                                                                                                                                                                                                                                                                                                                                                                                                                                                                                                                                                                                                                                                                                                                                                                                                                                                                                                                                                                                                                                                                                                                                                                                                                                                                                                                                                                                                                                                                                                                                                                                                                                                                                                                                                                                                                                                                                                                                                                                                                                                                                                                                                                                                                                                                                                                                                                                                                                                                                                                                                                                                                                                                                                                                                                                                                                                                                                                                                                                                                                                                                                                                                                                                                                                                                                                                                                                                                                                                                                                                                                                                                                                                                                                                                                                                                                                                                                                                                                                                                                                                                                                                                                                                                                                                                                                                                                                                                                                                                                                                                                                                                                                                                                                                                                                                                                                                                                                                                                                                                                                                                                                                                                                                                                                                                                                                                                                                                                                                                                                                                                                                                                                                                                                                                                                                                                                                                                                                                                                                                                                                                                                                                                                                                                                                                                                                                                                                                                                                                                                                                                                                                                                                                                                                                                                                                                                                                                                                                                                                                                                                                                                                                                                                                                                                                                                                                                                                                                                                                                                                                                                                                                                                                                                                                                                                                                                                                                                                                                                                                                                                                                                                                                                                                                                                                                                                                                                                                                                                                                                                                                                                                                                                                                                                                                                                                                                                                                                                                                                                                                                                                                                                                                                                                                                                                                                                                                                                                                                                                                                                                                                                                                                                                                                                                                                                                                                                                                                                                                                                                                                                                                                                                                                                                                                                                                                                                                                                                                                                                                                                                                                                                                                                                                                                                                                                                                                                                                                                                                                                                                                                                                                                                                                                                                                                                                                                                                                                                                                                                                                                                                                                                                                                                                                                                                                                                                                                                                                                                                                                                                                                                                                                                                                                                                                                                                                                                                                                                                                                                                                                                                                    +\n",
    "               <ul>\n",
    "                  +\n",
    "                  <li>announcement before election: 128</li>\n",
    "                  +\n",
    "                  <li>announcement after election: 122</li>\n",
    "                  +\n",
    "               </ul>\n",
    "               +\n",
    "            </li>\n",
    "            +\n",
    "         </ul>\n",
    "         +\n",
    "      </li>\n",
    "      +\n",
    "   </ul>\n",
    "</div>\n",
    "+\n",
    "<p>In the United States, firms often seek incentives from municipal governments to expand to those municipalities. A team of political scientists hypothesized that municipalities are much more likely to respond to firms and offer incentives if expansions can be announced in time to benefit local elected officials than if they can’t. The team contacted officials in thousands of municipalities, inquiring about incentives for a firm looking to expand and indicating that the firm would announce its expansion on a date either just before or just after the next election. </p>\n",
    "\n",
    "<p>Which choice best describes data from the graph that weaken the team&rsquo;s hypothesis?</p>\n",
    "\n",
    "A. <p>A large majority of the municipalities that received an inquiry mentioning plans for an announcement before the next election didn&rsquo;t respond to the inquiry.</p>\n",
    "B. <p>The proportion of municipalities that responded to the inquiry or offered incentives didn&rsquo;t substantially differ across the announcement timing conditions.&nbsp;</p>\n",
    "C. <p>Only around half the municipalities that responded to inquiries mentioning plans for an announcement before the next election offered incentives.&nbsp;</p>\n",
    "D. <p>Of the municipalities that received an inquiry mentioning plans for an announcement date after the next election, more than 1,200 didn&rsquo;t respond and only around 100 offered incentives.</p>\n",
    "\"\"\"\n",
    "\n",
    "output_query(query)"
   ]
  },
  {
   "cell_type": "markdown",
   "id": "132850df",
   "metadata": {
    "papermill": {
     "duration": 0.029856,
     "end_time": "2025-04-21T00:51:18.126343",
     "exception": false,
     "start_time": "2025-04-21T00:51:18.096487",
     "status": "completed"
    },
    "tags": []
   },
   "source": [
    "In this case, sanitizing the output makes the results more semantically relevant, because the svg (garbage data to the LLM) is omitted for the most part and has minimal impact over the data. "
   ]
  },
  {
   "cell_type": "code",
   "execution_count": 41,
   "id": "5f8b3c17",
   "metadata": {
    "execution": {
     "iopub.execute_input": "2025-04-21T00:51:18.188060Z",
     "iopub.status.busy": "2025-04-21T00:51:18.187654Z",
     "iopub.status.idle": "2025-04-21T00:51:26.267844Z",
     "shell.execute_reply": "2025-04-21T00:51:26.266796Z"
    },
    "papermill": {
     "duration": 8.113748,
     "end_time": "2025-04-21T00:51:26.270034",
     "exception": false,
     "start_time": "2025-04-21T00:51:18.156286",
     "status": "completed"
    },
    "tags": []
   },
   "outputs": [
    {
     "name": "stdout",
     "output_type": "stream",
     "text": [
      "+\n",
      "+\n",
      "+\n",
      "+\n",
      "+\n",
      "\n",
      "\n",
      "1,300\n",
      "\n",
      "\n",
      "1,200\n",
      "\n",
      "\n",
      "1,100\n",
      "\n",
      "\n",
      "1,000\n",
      "\n",
      "\n",
      "900\n",
      "\n",
      "\n",
      "800\n",
      "\n",
      "\n",
      "700\n",
      "\n",
      "\n",
      "600\n",
      "\n",
      "\n",
      "500\n",
      "\n",
      "\n",
      "400\n",
      "\n",
      "\n",
      "300\n",
      "\n",
      "\n",
      "200\n",
      "\n",
      "\n",
      "100\n",
      "\n",
      "\n",
      "0\n",
      "Number of municipalities\n",
      "\n",
      "\n",
      "\n",
      "no response\n",
      "\n",
      "\n",
      "responded to inquiry\n",
      "\n",
      "\n",
      "offered incentive\n",
      "Municipalities’ Responses to Inquiries \n",
      "about Potential Incentives for Firm\n",
      "\n",
      "\n",
      " announcement before election\n",
      "\n",
      " announcement after election\n",
      "\n",
      "+* For each data category, the following bars are shown:   \n",
      "   +\n",
      "  ++ announcement before election\n",
      "  ++ announcement after election\n",
      "  ++\n",
      "+* The data for the 3 categories are as follows:   \n",
      "   +\n",
      "  ++ no response: +\n",
      "    +- announcement before election: 1,252\n",
      "    +- announcement after election: 1,248\n",
      "    ++\n",
      "  ++ responded to inquiry: +\n",
      "    +- announcement before election: 207\n",
      "    +- announcement after election: 205\n",
      "    ++\n",
      "  ++ offered incentive: +\n",
      "    +- announcement before election: 128\n",
      "    +- announcement after election: 122\n",
      "    ++\n",
      "  ++\n",
      "+\n",
      "\n",
      "+\n",
      "\n",
      "In the United States, firms often seek incentives from municipal governments to expand to those municipalities. A team of political scientists hypothesized that municipalities are much more likely to respond to firms and offer incentives if expansions can be announced in time to benefit local elected officials than if they can’t. The team contacted officials in thousands of municipalities, inquiring about incentives for a firm looking to expand and indicating that the firm would announce its expansion on a date either just before or just after the next election.\n",
      "\n",
      "Which choice best describes data from the graph that weaken the team’s hypothesis?\n",
      "\n",
      "A.\n",
      "\n",
      "A large majority of the municipalities that received an inquiry mentioning plans for an announcement before the next election didn’t respond to the inquiry.\n",
      "\n",
      "B.\n",
      "\n",
      "The proportion of municipalities that responded to the inquiry or offered incentives didn’t substantially differ across the announcement timing conditions.\n",
      "\n",
      "C.\n",
      "\n",
      "Only around half the municipalities that responded to inquiries mentioning plans for an announcement before the next election offered incentives.\n",
      "\n",
      "D.\n",
      "\n",
      "Of the municipalities that received an inquiry mentioning plans for an announcement date after the next election, more than 1,200 didn’t respond and only around 100 offered incentives.\n",
      "====================================\n",
      "\n",
      "One challenge when researching whether holding elected office changes a person’s behavior is the problem of ensuring that the experiment has an appropriate control group. To reveal the effect of holding office, researchers must compare people who hold elected office with people who do not hold office but who are otherwise similar to the office-holders. Since researchers are unable to control which politicians win elections, they therefore \\_\\_\\_\\_\\_\\_blank\n",
      "\n",
      "\n",
      "Marta Coll and colleagues’ 2010 Mediterranean Sea biodiversity census reported approximately 17,000 species, nearly double the number reported in Carlo Bianchi and Carla Morri’s 2000 census—a difference only partly attributable to the description of new invertebrate species in the interim. Another factor is that the morphological variability of microorganisms is poorly understood compared to that of vertebrates, invertebrates, plants, and algae, creating uncertainty about how to evaluate microorganisms as species. Researchers’ decisions on such matters therefore can be highly consequential. Indeed, the two censuses reported similar counts of vertebrate, plant, and algal species, suggesting that \\_\\_\\_\\_\\_\\_blank\n",
      "\n",
      "\n",
      "Researchers Suchithra Rajendran and Maximilian Popfinger modeled varying levels of passenger redistribution from short-haul flights (flights of 50 to 210 minutes, from takeoff to landing) to high-speed rail trips. Planes travel faster than trains, but air travel typically requires 3 hours of lead time for security, baggage handling, and boarding that rail travel doesn’t, so short-haul routes take similar amounts of time by air and by rail. However, the model suggests that as rail passenger volumes approach current capacity limits, long lead times emerge. Therefore, for rail to remain a viable alternative to short-haul flights, \\_\\_\\_\\_\\_\\_blank\n",
      "\n",
      "\n",
      "Researchers recently found that disruptions to an enjoyable experience, like a short series of advertisements during a television show, often increase viewers’ reported enjoyment. Suspecting that disruptions to an unpleasant experience would have the opposite effect, the researchers had participants listen to construction noise for 30 minutes and anticipated that those whose listening experience was frequently interrupted with short breaks of silence would thus \\_\\_\\_\\_\\_\\_blank\n",
      "\n",
      "\n",
      "Volunteering, or giving time for a community service for free, is a valuable form of civic engagement because helping in a community is also good for society as a whole. In a survey of youths in the United States, most young people said that they believe volunteering is a way to help people on an individual level. Meanwhile, only 6% of the youths said that they think volunteering is a way to help fix problems in society overall. These replies suggest that \\_\\_\\_\\_\\_\\_blank\n",
      "\n",
      "\n"
     ]
    }
   ],
   "source": [
    "output_query(sanitize(query))"
   ]
  },
  {
   "cell_type": "markdown",
   "id": "1e8487c8",
   "metadata": {
    "papermill": {
     "duration": 0.03112,
     "end_time": "2025-04-21T00:51:26.330978",
     "exception": false,
     "start_time": "2025-04-21T00:51:26.299858",
     "status": "completed"
    },
    "tags": []
   },
   "source": [
    "By sanitizing the output, even though you are essentially trimming HTML and data the LLM can't understand, you can end up with less relevant answers. Therefore, it is important to always sanitize the questions of unnecessary HTML that tampers with the semantic meaning."
   ]
  },
  {
   "cell_type": "markdown",
   "id": "f2cbd798",
   "metadata": {
    "papermill": {
     "duration": 0.030027,
     "end_time": "2025-04-21T00:51:26.390564",
     "exception": false,
     "start_time": "2025-04-21T00:51:26.360537",
     "status": "completed"
    },
    "tags": []
   },
   "source": [
    "## Limitations\n",
    "The relevance of the semantic question finder is limited by the model's understanding of the questions' underlying meanings. The embeddings may require fine-tuning so that the details relevant to the SAT are captured more precisely. "
   ]
  },
  {
   "cell_type": "markdown",
   "id": "2f40dbce",
   "metadata": {
    "papermill": {
     "duration": 0.029424,
     "end_time": "2025-04-21T00:51:26.450580",
     "exception": false,
     "start_time": "2025-04-21T00:51:26.421156",
     "status": "completed"
    },
    "tags": []
   },
   "source": [
    "# Evaluating Usability of SAT Specs Data\n",
    "This is a demo of an attempted RAG pipeline using the SAT specs pdf. It did not work, however it provided some insights on how specific the PDF needs to be. The model cannot embed and find relevant chunks if there is a lot of noise."
   ]
  },
  {
   "cell_type": "code",
   "execution_count": 42,
   "id": "0a70db2a",
   "metadata": {
    "execution": {
     "iopub.execute_input": "2025-04-21T00:51:26.512021Z",
     "iopub.status.busy": "2025-04-21T00:51:26.511541Z",
     "iopub.status.idle": "2025-04-21T00:51:30.135450Z",
     "shell.execute_reply": "2025-04-21T00:51:30.134361Z"
    },
    "papermill": {
     "duration": 3.656881,
     "end_time": "2025-04-21T00:51:30.137371",
     "exception": false,
     "start_time": "2025-04-21T00:51:26.480490",
     "status": "completed"
    },
    "tags": []
   },
   "outputs": [
    {
     "data": {
      "text/markdown": [
       "Okay, I can definitely clarify why answer C is incorrect and why A is the best answer, and how to avoid this kind of misinterpretation in the future.\n",
       "\n",
       "**SAT Reading: Command of Evidence (Inference)**\n",
       "\n",
       "*   **Question Type:** This question falls under the \"Command of Evidence\" category, specifically testing your ability to make inferences based on textual evidence (as defined in the SAT specifications).\n",
       "*   **Skills Tested:** You need to understand what the passage *strongly suggests*, even if it's not directly stated. This requires careful reading and the ability to draw logical conclusions.\n",
       "\n",
       "**Why Choice A is Correct**\n",
       "\n",
       "*   **Evidence:** The passage states that conventional ETL fabrication \"can result in a loss of up to 80% of the solution, increasing the cost of manufacturing at scale.\" It then contrasts this with spray coating fabrication, which the researchers describe as “highly reproducible, concise, and practical.”\n",
       "*   **Inference:** The passage *implies* that the high cost associated with conventional ETL fabrication makes it *less suitable* for large-scale manufacturing compared to the spray coating method, which is presented as a potential solution to this cost issue.\n",
       "*   **Keywords:** \"increasing the cost of manufacturing at scale,\" \"highly reproducible, concise, and practical.\"\n",
       "\n",
       "**Why Choice C is Incorrect**\n",
       "\n",
       "*   **The Problem with \"Established Approaches\":** The key issue here is the phrase \"other established approaches for ETL fabrication.\" The passage ONLY describes one conventional method: the nanoparticle solution method.\n",
       "*   **The Spray Coating is NEW:** The passage introduces spray coating as a *new* method that *might* solve the problems of the existing conventional method. It's not an \"established approach\" at the time of the writing.\n",
       "*   **Lack of Comparison:** Because the passage only gives details about one conventional method, we cannot compare its solution loss to that of *other* established approaches.\n",
       "\n",
       "**In simpler terms:** We only know about the nanoparticle solution method. We can't assume there aren't other conventional methods with less waste.\n",
       "\n",
       "**Actionable Improvement Strategy**\n",
       "\n",
       "1.  **Focus on Direct Comparisons:** When a question asks you to compare two things, make sure the passage *actually makes that comparison*, or at least provides enough information to logically infer the comparison.\n",
       "2.  **Avoid Assumptions:** Be careful not to assume information that isn't explicitly stated or strongly implied. In this case, assuming the spray coating method is the same as 'established methods' is an assumption.\n",
       "3.  **Pay Attention to Qualifying Words:** Notice words like \"may,\" \"might,\" \"can,\" etc. These words indicate possibilities or suggestions, not definite facts.\n",
       "\n"
      ],
      "text/plain": [
       "<IPython.core.display.Markdown object>"
      ]
     },
     "execution_count": 42,
     "metadata": {},
     "output_type": "execute_result"
    }
   ],
   "source": [
    "from google.genai.types import GenerateContentConfig\n",
    "\n",
    "question = {\n",
    "        \"question\" : \"\"\"\n",
    "In a paper about p-i-n planar perovskite solar cells (one of several perovskite cell architectures designed to collect and store solar power), Lyndsey McMillon-Brown et al. described a method for fabricating the cell’s electronic transport layer (ETL) using a spray coating. Conventional ETL fabrication is accomplished using a solution of nanoparticles. The process can result in a loss of up to 80% of the solution, increasing the cost of manufacturing at scale—an issue that may be obviated by spray coating fabrication, which the researchers describe as “highly reproducible, concise, and practical.”\n",
    "\n",
    "What does the text most strongly suggest about conventional ETL fabrication?\n",
    "A. It is less suitable for manufacturing large volumes of planar p-i-n perovskite solar cells than an alternative fabrication method may be.\n",
    "B. It is more expensive when manufacturing at scale than are processes for fabricating ETLs used in other perovskite solar cell architectures.\n",
    "C. It typically entails a greater loss of nanoparticle solution than do other established approaches for ETL fabrication.\n",
    "D. It is somewhat imprecise and therefore limits the potential effectiveness of p-i-n planar perovskite solar cells at capturing and storing solar power.\n",
    "\"\"\",\n",
    "        \"rationale\" : \"\"\"\n",
    "Choice A is the best answer. Conventional solar cell fabrication increases “the cost of manufacturing at scale,” but spray coating might get rid of that problem.\n",
    "\n",
    "Choice B is incorrect. This is not completely supported by the text. While it’s true that conventional ETL fabrication is expensive at scale, there’s nothing in the text that mentions other perovskite solar cell architectures. Choice C is incorrect. This choice does not match the text. Only one conventional method of ETL fabrication is described, so we can’t compare the solution loss in this method to that of other conventional methods. Choice D is incorrect. This choice isn’t supported by the text. The text never suggests that the effectiveness of solar cells changes based on their method of fabrication. \n",
    "\"\"\",\n",
    "        \"user_answer\" : \"C\",\n",
    "        \"user_rationale\": \"Isn't the new method of ETL fabrication the same as the 'established methods'\",\n",
    "}\n",
    "\n",
    "response = client.models.generate_content(\n",
    "    model=\"gemini-2.0-flash-001\",\n",
    "    contents=f\"{question['question']} {question['rationale']}\\n The user got: {question['user_answer']}\\n {question['user_rationale']}\",\n",
    "    config=GenerateContentConfig(\n",
    "        system_instruction=[\n",
    "            \"You are an SAT expert tutor. Analyze questions using the official SAT framework. \",\n",
    "            \"Help students by:\\n\",\n",
    "            \"1. Identifying question type and skills tested\\n\",\n",
    "            \"2. Explaining why answers are correct/incorrect\\n\",\n",
    "            \"3. Providing actionable improvement strategies\\n\",\n",
    "            \"Use formal but friendly language. Reference the SAT specs when possible.\",\n",
    "        ]\n",
    "    ),\n",
    ")\n",
    "\n",
    "\n",
    "Markdown(response.text)"
   ]
  },
  {
   "cell_type": "markdown",
   "id": "09023f49",
   "metadata": {
    "papermill": {
     "duration": 0.03108,
     "end_time": "2025-04-21T00:51:30.199253",
     "exception": false,
     "start_time": "2025-04-21T00:51:30.168173",
     "status": "completed"
    },
    "tags": []
   },
   "source": [
    "## Parse PDF\n",
    "The following code uses lossy conversion to turn the PDF into readable text."
   ]
  },
  {
   "cell_type": "markdown",
   "id": "c253db2f",
   "metadata": {
    "papermill": {
     "duration": 0.030605,
     "end_time": "2025-04-21T00:51:30.261653",
     "exception": false,
     "start_time": "2025-04-21T00:51:30.231048",
     "status": "completed"
    },
    "tags": []
   },
   "source": [
    "Information like tables and images will be lost in the process, as demonstrated by the following snippet."
   ]
  },
  {
   "cell_type": "code",
   "execution_count": 43,
   "id": "1c84d91f",
   "metadata": {
    "execution": {
     "iopub.execute_input": "2025-04-21T00:51:30.323908Z",
     "iopub.status.busy": "2025-04-21T00:51:30.323488Z",
     "iopub.status.idle": "2025-04-21T00:51:30.945418Z",
     "shell.execute_reply": "2025-04-21T00:51:30.943788Z"
    },
    "papermill": {
     "duration": 0.65563,
     "end_time": "2025-04-21T00:51:30.947453",
     "exception": false,
     "start_time": "2025-04-21T00:51:30.291823",
     "status": "completed"
    },
    "tags": []
   },
   "outputs": [
    {
     "name": "stdout",
     "output_type": "stream",
     "text": [
      "Example table  \n",
      "This is an example of a data table. \n",
      "Disability \n",
      "Category Participants  Ballots \n",
      "Completed  Ballots \n",
      "Incomplete/  \n",
      "Terminated  Results  \n",
      "Accuracy  Time to \n",
      "complete \n",
      "Blind  5 1 4 34.5%, n=1  1199 sec, n=1  \n",
      "Low Vision  5 2 3 98.3% n=2  \n",
      "(97.7%, n=3)  1716 sec, n=3  \n",
      "(1934 sec, n=2)  \n",
      "Dexterity  5 4 1 98.3%, n=4  1672.1 sec, n=4  \n",
      "Mobility  3 3 0 95.4%, n=3  1416 sec, n=3  \n",
      " \n"
     ]
    }
   ],
   "source": [
    "from PyPDF2 import PdfReader\n",
    "from io import BytesIO\n",
    "import requests\n",
    "\n",
    "url = \"https://www.w3.org/WAI/WCAG20/Techniques/working-examples/PDF20/table.pdf\"\n",
    "response = requests.get(url)\n",
    "pdf_bytes = BytesIO(response.content)\n",
    "\n",
    "text = \"\"\n",
    "pdf_reader = PdfReader(pdf_bytes)\n",
    "for page in pdf_reader.pages:\n",
    "    text += page.extract_text()\n",
    "\n",
    "print(text[0:1000])"
   ]
  },
  {
   "cell_type": "code",
   "execution_count": 44,
   "id": "2903a746",
   "metadata": {
    "execution": {
     "iopub.execute_input": "2025-04-21T00:51:31.009628Z",
     "iopub.status.busy": "2025-04-21T00:51:31.009269Z",
     "iopub.status.idle": "2025-04-21T00:51:37.165292Z",
     "shell.execute_reply": "2025-04-21T00:51:37.163795Z"
    },
    "papermill": {
     "duration": 6.189302,
     "end_time": "2025-04-21T00:51:37.167218",
     "exception": false,
     "start_time": "2025-04-21T00:51:30.977916",
     "status": "completed"
    },
    "tags": []
   },
   "outputs": [
    {
     "name": "stdout",
     "output_type": "stream",
     "text": [
      "<class '_io.BytesIO'>\n",
      "Assessment Framework \n",
      "for the Digital SAT® SuiteAssessment Framework \n",
      "for the Digital SAT® Suite\n",
      "Version 3.01, August 2024\n",
      "About College Board\n",
      "College Board reaches more than 7 million students a year, helping them \n",
      "navigate the path from high school to college and career. Our not-for-\n",
      "profit membership organization was founded more than 120 years ago. \n",
      "We pioneered programs like the SAT® and AP® to expand opportunities \n",
      "for students and help them develop the skills they need. Our BigFuture® \n",
      "program helps students plan for college, pay for college, and explore \n",
      "careers. Learn more at cb.org .\n",
      "Suggested Citation:  College Board. 2024. Assessment Framework for the \n",
      "Digital SAT Suite , version 3.01 (August 2024). New Y ork: College Board.\n",
      "© 2024 College Board. College Board, Advanced Placement, AP , BigFuture, Landscape, Pre-AP , SAT, and \n",
      "the acorn logo are registered trademarks of College Board. AP Potential, Bluebook, Connections, PSAT, \n",
      "Skills Insight, Student Search Service, and The\n"
     ]
    }
   ],
   "source": [
    "# Download the PDF using requests\n",
    "url = \"https://satsuite.collegeboard.org/media/pdf/assessment-framework-for-digital-sat-suite.pdf\"\n",
    "\n",
    "response = requests.get(url)\n",
    "pdf_bytes = BytesIO(response.content)\n",
    "\n",
    "print(type(pdf_bytes))\n",
    "\n",
    "specs_text = \"\"\n",
    "pdf_reader = PdfReader(pdf_bytes)\n",
    "for page in pdf_reader.pages:\n",
    "    specs_text += page.extract_text()\n",
    "\n",
    "print(specs_text[0:1000])"
   ]
  },
  {
   "cell_type": "markdown",
   "id": "9a9c7c8c",
   "metadata": {
    "papermill": {
     "duration": 0.030552,
     "end_time": "2025-04-21T00:51:37.227779",
     "exception": false,
     "start_time": "2025-04-21T00:51:37.197227",
     "status": "completed"
    },
    "tags": []
   },
   "source": [
    "This text data might be too big for the model to contain within the prompt."
   ]
  },
  {
   "cell_type": "code",
   "execution_count": 45,
   "id": "3a427cb4",
   "metadata": {
    "execution": {
     "iopub.execute_input": "2025-04-21T00:51:37.289831Z",
     "iopub.status.busy": "2025-04-21T00:51:37.289492Z",
     "iopub.status.idle": "2025-04-21T00:51:38.620450Z",
     "shell.execute_reply": "2025-04-21T00:51:38.619410Z"
    },
    "papermill": {
     "duration": 1.363836,
     "end_time": "2025-04-21T00:51:38.622265",
     "exception": false,
     "start_time": "2025-04-21T00:51:37.258429",
     "status": "completed"
    },
    "tags": []
   },
   "outputs": [
    {
     "data": {
      "text/plain": [
       "153273"
      ]
     },
     "execution_count": 45,
     "metadata": {},
     "output_type": "execute_result"
    }
   ],
   "source": [
    "client.models.count_tokens(\n",
    "    model=model, contents=specs_text\n",
    ").total_tokens"
   ]
  },
  {
   "cell_type": "markdown",
   "id": "20f71ac4",
   "metadata": {
    "papermill": {
     "duration": 0.030294,
     "end_time": "2025-04-21T00:51:38.682569",
     "exception": false,
     "start_time": "2025-04-21T00:51:38.652275",
     "status": "completed"
    },
    "tags": []
   },
   "source": [
    "That's a pretty significant size! The only way to incorporate the PDF properly is to chunk it."
   ]
  },
  {
   "cell_type": "markdown",
   "id": "9e69951d",
   "metadata": {
    "papermill": {
     "duration": 0.031322,
     "end_time": "2025-04-21T00:51:38.745235",
     "exception": false,
     "start_time": "2025-04-21T00:51:38.713913",
     "status": "completed"
    },
    "tags": []
   },
   "source": [
    "## Chunk the Parsed PDF\n",
    "In order to use the PDF, we need to \"chunk\" it so bits of relevant information can be accessed at a time. In order to maximize efficiency, a vector search database will be used, as the likelihood that any key words in the question will appear on the SAT is effectively zero. "
   ]
  },
  {
   "cell_type": "code",
   "execution_count": 46,
   "id": "57b212a9",
   "metadata": {
    "execution": {
     "iopub.execute_input": "2025-04-21T00:51:38.810610Z",
     "iopub.status.busy": "2025-04-21T00:51:38.810262Z",
     "iopub.status.idle": "2025-04-21T00:51:38.865266Z",
     "shell.execute_reply": "2025-04-21T00:51:38.864199Z"
    },
    "papermill": {
     "duration": 0.09013,
     "end_time": "2025-04-21T00:51:38.867203",
     "exception": false,
     "start_time": "2025-04-21T00:51:38.777073",
     "status": "completed"
    },
    "tags": []
   },
   "outputs": [],
   "source": [
    "from langchain_text_splitters import RecursiveCharacterTextSplitter\n",
    "\n",
    "text_splitter = RecursiveCharacterTextSplitter(\n",
    "    # Set a really small chunk size, just to show.\n",
    "    chunk_size=1024,\n",
    "    chunk_overlap=102,\n",
    "    length_function=len,\n",
    "    is_separator_regex=False,\n",
    ")\n",
    "\n",
    "chunked_specs_text = text_splitter.split_text(specs_text)"
   ]
  },
  {
   "cell_type": "markdown",
   "id": "9cd488c1",
   "metadata": {
    "papermill": {
     "duration": 0.030445,
     "end_time": "2025-04-21T00:51:38.928247",
     "exception": false,
     "start_time": "2025-04-21T00:51:38.897802",
     "status": "completed"
    },
    "tags": []
   },
   "source": [
    "Check out the chunks:"
   ]
  },
  {
   "cell_type": "markdown",
   "id": "4c676635",
   "metadata": {
    "papermill": {
     "duration": 0.030846,
     "end_time": "2025-04-21T00:51:38.988745",
     "exception": false,
     "start_time": "2025-04-21T00:51:38.957899",
     "status": "completed"
    },
    "tags": []
   },
   "source": []
  },
  {
   "cell_type": "code",
   "execution_count": 47,
   "id": "0c564a8f",
   "metadata": {
    "execution": {
     "iopub.execute_input": "2025-04-21T00:51:39.051159Z",
     "iopub.status.busy": "2025-04-21T00:51:39.050740Z",
     "iopub.status.idle": "2025-04-21T00:51:39.056874Z",
     "shell.execute_reply": "2025-04-21T00:51:39.055552Z"
    },
    "papermill": {
     "duration": 0.03953,
     "end_time": "2025-04-21T00:51:39.058906",
     "exception": false,
     "start_time": "2025-04-21T00:51:39.019376",
     "status": "completed"
    },
    "tags": []
   },
   "outputs": [
    {
     "name": "stdout",
     "output_type": "stream",
     "text": [
      "702\n",
      "Assessment Framework \n",
      "for the Digital SAT® SuiteAssessment Framework \n",
      "for the Digital SAT® Suite\n",
      "Version 3.01, August 2024\n",
      "About College Board\n",
      "College Board reaches more than 7 million students a year, helping them \n",
      "navigate the path from high school to college and career. Our not-for-\n",
      "profit membership organization was founded more than 120 years ago. \n",
      "We pioneered programs like the SAT® and AP® to expand opportunities \n",
      "for students and help them develop the skills they need. Our BigFuture® \n",
      "program helps students plan for college, pay for college, and explore \n",
      "careers. Learn more at cb.org .\n",
      "Suggested Citation:  College Board. 2024. Assessment Framework for the \n",
      "Digital SAT Suite , version 3.01 (August 2024). New Y ork: College Board.\n",
      "© 2024 College Board. College Board, Advanced Placement, AP , BigFuture, Landscape, Pre-AP , SAT, and \n",
      "the acorn logo are registered trademarks of College Board. AP Potential, Bluebook, Connections, PSAT,\n"
     ]
    }
   ],
   "source": [
    "print(len(chunked_specs_text))\n",
    "print(chunked_specs_text[0])"
   ]
  },
  {
   "cell_type": "markdown",
   "id": "1d02e64f",
   "metadata": {
    "papermill": {
     "duration": 0.030914,
     "end_time": "2025-04-21T00:51:39.121332",
     "exception": false,
     "start_time": "2025-04-21T00:51:39.090418",
     "status": "completed"
    },
    "tags": []
   },
   "source": [
    "## Initialize ReAct agent\n",
    "The model will instead be a ReAct agent and figure out what to search up and call that tool as an extension and we will see what happens\n",
    "\n",
    "We will start by finding a gemini model for embedding."
   ]
  },
  {
   "cell_type": "markdown",
   "id": "585664ed",
   "metadata": {
    "papermill": {
     "duration": 0.030246,
     "end_time": "2025-04-21T00:51:39.181511",
     "exception": false,
     "start_time": "2025-04-21T00:51:39.151265",
     "status": "completed"
    },
    "tags": []
   },
   "source": [
    "Now let's create a Chroma database client and add the document embeddings"
   ]
  },
  {
   "cell_type": "code",
   "execution_count": 48,
   "id": "5de25122",
   "metadata": {
    "execution": {
     "iopub.execute_input": "2025-04-21T00:51:39.242673Z",
     "iopub.status.busy": "2025-04-21T00:51:39.242272Z",
     "iopub.status.idle": "2025-04-21T00:51:49.116159Z",
     "shell.execute_reply": "2025-04-21T00:51:49.114864Z"
    },
    "papermill": {
     "duration": 9.906826,
     "end_time": "2025-04-21T00:51:49.118170",
     "exception": false,
     "start_time": "2025-04-21T00:51:39.211344",
     "status": "completed"
    },
    "tags": []
   },
   "outputs": [],
   "source": [
    "import chromadb\n",
    "\n",
    "SPECS_DB_NAME = \"specs\"\n",
    "\n",
    "embed_fn = GeminiEmbeddingFunction()\n",
    "embed_fn.document_mode = True\n",
    "\n",
    "chroma_client = chromadb.Client()\n",
    "#print(chroma_client.list_collections())\n",
    "db = chroma_client.get_or_create_collection(name=SPECS_DB_NAME, embedding_function=embed_fn)\n",
    "for i in range(int(len(chunked_specs_text) / 100)):\n",
    "    db.add(documents=chunked_specs_text[i:100+i], ids=[str(i + j) for j in range(100)])"
   ]
  },
  {
   "cell_type": "markdown",
   "id": "379ec0f6",
   "metadata": {
    "papermill": {
     "duration": 0.031575,
     "end_time": "2025-04-21T00:51:49.180445",
     "exception": false,
     "start_time": "2025-04-21T00:51:49.148870",
     "status": "completed"
    },
    "tags": []
   },
   "source": [
    "Check out the database"
   ]
  },
  {
   "cell_type": "code",
   "execution_count": 49,
   "id": "d190d17c",
   "metadata": {
    "execution": {
     "iopub.execute_input": "2025-04-21T00:51:49.242877Z",
     "iopub.status.busy": "2025-04-21T00:51:49.242472Z",
     "iopub.status.idle": "2025-04-21T00:51:49.261176Z",
     "shell.execute_reply": "2025-04-21T00:51:49.260073Z"
    },
    "papermill": {
     "duration": 0.05238,
     "end_time": "2025-04-21T00:51:49.262987",
     "exception": false,
     "start_time": "2025-04-21T00:51:49.210607",
     "status": "completed"
    },
    "tags": []
   },
   "outputs": [
    {
     "data": {
      "text/plain": [
       "{'ids': ['0'],\n",
       " 'embeddings': array([[ 5.80166355e-02,  4.36070710e-02, -5.12756817e-02,\n",
       "         -1.44314906e-03,  2.73717772e-02,  4.12952006e-02,\n",
       "          5.71677238e-02,  7.64632318e-03,  9.56675038e-03,\n",
       "         -5.80519577e-03, -4.39782254e-02,  9.93977953e-03,\n",
       "          3.03114597e-02,  3.39544937e-02, -7.10375309e-02,\n",
       "          1.01664122e-02,  2.03551948e-02,  5.44842966e-02,\n",
       "         -1.12781808e-01, -2.91494676e-03, -2.88882591e-02,\n",
       "         -3.38051245e-02, -1.49710365e-02, -1.39160426e-02,\n",
       "         -1.64779034e-02,  7.98442122e-03,  7.00960010e-02,\n",
       "          1.01699783e-02,  1.97551977e-02, -3.44269574e-02,\n",
       "          2.98777758e-03,  9.17043630e-03, -2.51114983e-02,\n",
       "         -8.72381590e-03,  7.50523322e-05,  3.42415981e-02,\n",
       "         -2.42317207e-02, -3.20444927e-02,  7.41561651e-02,\n",
       "         -4.53105606e-02, -4.95616272e-02, -4.72334400e-03,\n",
       "         -1.52662601e-02, -1.15578976e-02, -2.57304776e-02,\n",
       "          5.48221776e-03,  6.22319020e-02,  5.05198240e-02,\n",
       "         -1.08670801e-01,  3.87461856e-02,  3.76404338e-02,\n",
       "          2.82543674e-02, -1.12163037e-01,  4.10740972e-02,\n",
       "         -3.71634699e-02,  5.99206332e-03, -2.40207538e-02,\n",
       "         -4.28720191e-02, -1.08973670e-03,  3.40756699e-02,\n",
       "          1.05064129e-02,  2.35935226e-02,  4.58424399e-03,\n",
       "         -2.21987478e-02,  4.96019013e-02,  1.15091922e-02,\n",
       "          4.42131460e-02, -6.75921589e-02, -5.26988208e-02,\n",
       "          1.06926588e-02,  3.47644798e-02,  6.68431073e-02,\n",
       "          1.32676568e-02,  1.27605069e-02,  1.21104876e-02,\n",
       "         -1.93833635e-04,  1.41022261e-02, -3.21718715e-02,\n",
       "         -4.64808522e-03,  9.91228148e-02, -3.37284245e-02,\n",
       "          5.24462238e-02,  6.21226132e-02,  3.91206890e-03,\n",
       "          4.60108928e-02, -8.70271213e-03,  1.23034595e-02,\n",
       "         -1.28133938e-01, -2.87133902e-02, -1.64378118e-02,\n",
       "          5.29186577e-02,  3.30431201e-02,  9.16795991e-03,\n",
       "          1.36559345e-02,  2.93000676e-02, -1.43960798e-02,\n",
       "         -9.56787542e-02, -8.39812607e-02,  7.39913285e-02,\n",
       "          1.87342633e-02,  9.75035131e-03,  4.36013984e-03,\n",
       "         -3.24239470e-02, -3.92059237e-02, -1.39458850e-02,\n",
       "          7.91692138e-02,  2.23348774e-02, -6.05219603e-02,\n",
       "         -4.39632945e-02,  2.29139496e-02, -1.57225877e-02,\n",
       "         -3.34867239e-02, -6.84443768e-03,  3.57104763e-02,\n",
       "         -9.50761791e-03, -3.51773412e-03,  1.65853836e-02,\n",
       "          3.05765029e-02, -7.34856352e-02,  4.93869744e-02,\n",
       "         -1.35535756e-02,  4.30152342e-02,  7.01768091e-03,\n",
       "          3.01902983e-02,  7.02088177e-02,  1.18755726e-02,\n",
       "          2.04857942e-02,  8.30172654e-03, -3.94785255e-02,\n",
       "         -4.17043306e-02,  9.32582095e-03, -5.86279519e-02,\n",
       "          3.81321423e-02,  5.02973096e-03, -1.42060453e-02,\n",
       "         -5.16521186e-02,  2.11465266e-02,  2.77757626e-02,\n",
       "          3.25606577e-02,  5.14609963e-02, -3.08694541e-02,\n",
       "         -7.40062445e-04, -1.04706369e-01,  1.19366450e-02,\n",
       "          5.83255012e-03, -3.08419932e-02,  3.24390270e-02,\n",
       "          1.74153689e-02, -5.59562643e-04,  1.27332341e-02,\n",
       "         -3.67884487e-02, -6.43752841e-03, -6.04125224e-02,\n",
       "         -4.95353416e-02,  1.58683863e-02, -4.08671796e-02,\n",
       "          3.86186838e-02, -3.35833058e-02,  4.54988219e-02,\n",
       "          2.09956970e-02,  7.09988251e-02, -3.43339629e-02,\n",
       "          5.96209764e-02,  1.98834836e-02, -5.05765602e-02,\n",
       "         -1.11844633e-02, -7.07397312e-02, -1.21114263e-02,\n",
       "         -2.86048297e-02, -1.18953758e-03, -6.30153567e-02,\n",
       "          2.09246147e-02, -1.80896148e-02, -1.04634866e-01,\n",
       "          3.56591456e-02, -1.60821863e-02, -1.92561969e-02,\n",
       "         -4.41370383e-02, -3.24174799e-02, -9.04508121e-03,\n",
       "          6.24283589e-02, -1.71958022e-02,  7.85420276e-03,\n",
       "         -2.75226124e-02,  3.10528427e-02,  1.92671660e-02,\n",
       "         -3.02817971e-02,  6.27220375e-03,  6.47130087e-02,\n",
       "          1.51586188e-02,  7.67297074e-02, -2.29598805e-02,\n",
       "          2.58672442e-02,  4.40891422e-02, -1.38843367e-02,\n",
       "          1.00173214e-02,  2.21455912e-03, -3.17572523e-03,\n",
       "         -3.19272093e-02, -5.17348312e-02,  4.07911488e-04,\n",
       "         -1.55000361e-02,  3.75127071e-03, -4.24440764e-02,\n",
       "         -8.70858505e-03,  5.60728367e-03, -4.19645011e-02,\n",
       "         -1.07061520e-01,  7.16448650e-02,  2.04445198e-02,\n",
       "         -5.21069467e-02,  1.51334424e-02,  8.45359452e-03,\n",
       "         -7.13956356e-02,  7.82205164e-03, -2.58199740e-02,\n",
       "          6.69478700e-02, -1.19733606e-02,  4.62455451e-02,\n",
       "          1.41000915e-02, -6.26668707e-03,  2.30310182e-03,\n",
       "          3.34906653e-02,  4.10009827e-03,  6.07665628e-02,\n",
       "          8.88145939e-02, -1.75245069e-02, -2.94035021e-02,\n",
       "         -2.63199024e-02, -2.61491649e-02,  1.22614112e-02,\n",
       "          2.96027381e-02, -1.42258164e-02,  9.16348712e-04,\n",
       "         -1.55073004e-02,  3.12971734e-02,  6.98070071e-05,\n",
       "         -2.31550205e-02,  1.13678246e-03, -7.88397901e-03,\n",
       "          1.64743382e-02,  7.17388019e-02, -5.95940687e-02,\n",
       "         -4.23376309e-03, -4.79818380e-04, -1.32244015e-02,\n",
       "          5.77465072e-02, -2.46070139e-03,  1.92456003e-02,\n",
       "         -5.22776134e-02, -2.86002234e-02, -8.95087514e-03,\n",
       "         -6.51429687e-03,  1.39532685e-02, -1.00507952e-01,\n",
       "         -4.24877144e-02,  2.18698028e-02, -2.56649721e-02,\n",
       "          1.76934134e-02,  9.33578424e-03, -2.15140097e-02,\n",
       "          1.27885444e-03, -3.31358574e-02, -8.33016038e-02,\n",
       "         -7.04244152e-02, -7.51446560e-02, -2.85590570e-02,\n",
       "         -4.82351817e-02, -1.11951549e-02, -5.71641736e-02,\n",
       "          2.68591996e-02,  4.11462784e-03,  2.22476455e-03,\n",
       "         -8.38469341e-03, -2.46393811e-02, -1.54517666e-02,\n",
       "          7.08921580e-04, -2.49075498e-02, -3.22938114e-02,\n",
       "         -6.23974279e-02,  1.97972655e-02,  2.87237074e-02,\n",
       "         -4.65525463e-02, -3.85891423e-02,  8.87269899e-03,\n",
       "         -5.28175272e-02, -2.71327421e-02,  3.65902148e-02,\n",
       "         -9.16150026e-03, -7.43733346e-02, -7.94962980e-03,\n",
       "          4.17517014e-02, -2.70789047e-03, -3.82475108e-02,\n",
       "          3.28784920e-02,  2.74867639e-02,  4.37347312e-03,\n",
       "          3.50610539e-02, -2.72608269e-02, -9.10433941e-03,\n",
       "          2.58714277e-02,  4.81436849e-02, -3.90308127e-02,\n",
       "          1.79567672e-02, -3.66287753e-02, -1.28577296e-02,\n",
       "         -3.70660312e-02,  1.31806247e-02, -2.55208481e-02,\n",
       "         -1.48080778e-03, -4.76340344e-03,  2.37953775e-02,\n",
       "         -5.23040108e-02, -6.38165325e-02, -1.29147237e-02,\n",
       "         -5.45050111e-03, -1.53034061e-01,  1.70869380e-02,\n",
       "         -3.49002518e-02, -2.00694967e-02, -1.88856926e-02,\n",
       "          4.44856398e-02, -1.25894016e-02, -2.64524911e-02,\n",
       "          8.18429515e-03, -1.52463624e-02,  3.90927829e-02,\n",
       "         -5.26719056e-02,  3.62305641e-02, -8.52019805e-03,\n",
       "          1.65385543e-03,  6.72470639e-03,  3.75752919e-03,\n",
       "         -2.57620886e-02,  1.25113633e-02,  5.91949513e-03,\n",
       "         -2.40331944e-02, -1.21482341e-02,  2.83407234e-02,\n",
       "          2.56095417e-02,  3.39273512e-02,  3.31112929e-02,\n",
       "          4.46236804e-02, -2.68947501e-02,  1.55458013e-02,\n",
       "         -8.32157582e-03,  3.69162532e-03,  1.44904042e-02,\n",
       "         -5.77007979e-03,  1.54826581e-03,  2.24501602e-02,\n",
       "          6.63838442e-03,  3.47910486e-02,  1.32909063e-02,\n",
       "          1.06773283e-02,  2.93501038e-02,  5.11190519e-02,\n",
       "          7.73564773e-03, -4.62403372e-02, -2.42497716e-02,\n",
       "          2.91189644e-02, -6.00806139e-02, -1.47859221e-02,\n",
       "          5.20723639e-03, -1.86122139e-03, -4.20429371e-02,\n",
       "          1.67293660e-02,  5.35215922e-02,  2.74229925e-02,\n",
       "         -6.94102198e-02,  4.08094861e-02, -7.37296976e-03,\n",
       "          3.77385318e-03, -2.79146209e-02,  1.63557392e-03,\n",
       "         -3.31038050e-02, -6.48552179e-02,  6.97042644e-02,\n",
       "          2.46927645e-02, -1.54647166e-02, -3.90476012e-03,\n",
       "         -5.29565513e-02,  1.06386608e-02, -7.63162412e-03,\n",
       "         -9.23177227e-03,  7.15001812e-03, -4.65217307e-02,\n",
       "          2.95240134e-02,  4.47836667e-02, -2.58597117e-02,\n",
       "          3.28717344e-02, -9.92986839e-03, -2.01046118e-03,\n",
       "          4.26500998e-02, -1.02301948e-02,  1.94264874e-02,\n",
       "         -4.05213237e-02, -1.73816588e-02,  2.56788693e-02,\n",
       "          7.68792927e-02,  3.04466952e-02,  2.56336201e-03,\n",
       "          5.48380092e-02, -3.59294936e-02, -5.11903130e-02,\n",
       "         -6.21623285e-02,  4.78590131e-02, -4.51164378e-04,\n",
       "         -1.01554440e-02, -1.09042868e-03,  8.00474547e-03,\n",
       "         -4.09643985e-02,  4.60597537e-02, -3.78358774e-02,\n",
       "         -2.32667401e-02, -4.79908362e-02,  8.17416385e-02,\n",
       "          7.53336772e-03,  1.88280046e-02,  3.65650244e-02,\n",
       "          2.31723972e-02, -1.91145130e-02,  5.51417423e-03,\n",
       "         -1.29362000e-02,  5.10175936e-02, -6.51572272e-02,\n",
       "         -1.31199416e-02, -2.02726815e-02, -3.75877991e-02,\n",
       "         -1.23191718e-02, -2.32520681e-02,  1.39611373e-02,\n",
       "         -1.47142180e-03,  3.32498632e-04,  1.12538971e-02,\n",
       "          2.02512722e-02,  4.06043604e-02,  1.81058645e-02,\n",
       "         -3.75541998e-03,  1.64482649e-02, -7.75260329e-02,\n",
       "          1.79013424e-03,  3.90715152e-02,  4.83902870e-03,\n",
       "          7.02983886e-03,  2.42124149e-03,  6.29286990e-02,\n",
       "          1.14664491e-02, -2.28633452e-02, -6.23428822e-02,\n",
       "         -8.88354797e-03, -1.82411093e-02, -5.96529990e-03,\n",
       "         -9.49529931e-02, -6.75694570e-02,  1.68540012e-02,\n",
       "          1.39626125e-02,  1.50713446e-02, -2.79989317e-02,\n",
       "          2.38965936e-02, -2.93452628e-02, -2.80521940e-02,\n",
       "          4.69942689e-02,  2.22980622e-02,  2.67113652e-02,\n",
       "         -2.29064599e-02, -3.68673354e-02,  9.28972382e-04,\n",
       "         -3.14886943e-02,  5.45802675e-02,  3.81424427e-02,\n",
       "         -9.82583687e-03, -9.75987874e-03, -3.39753181e-03,\n",
       "         -5.42528667e-02, -3.66875529e-02,  5.24652191e-03,\n",
       "          1.20246941e-02,  5.35198301e-02, -3.44860516e-02,\n",
       "         -4.98520257e-03, -3.55897145e-03,  4.40122979e-03,\n",
       "          2.80053616e-02,  5.23190983e-02, -1.39685674e-02,\n",
       "         -4.12508734e-02,  5.08039026e-03, -1.77863203e-02,\n",
       "          1.43261172e-03, -2.20268089e-02,  1.62992198e-02,\n",
       "          4.51993346e-02, -4.44896705e-02, -1.67660159e-03,\n",
       "         -2.83312872e-02,  1.01768514e-02, -3.61744240e-02,\n",
       "         -2.61132009e-02,  6.18925355e-02,  4.50195335e-02,\n",
       "          6.45436794e-02,  1.98087972e-02, -4.03549969e-02,\n",
       "          1.46335242e-02,  1.56129273e-02, -8.20877310e-03,\n",
       "          9.90838092e-03,  3.64913642e-02,  5.24053313e-02,\n",
       "          1.83603335e-02, -2.18650699e-03,  2.76752803e-02,\n",
       "         -2.24059261e-02,  7.83847738e-03,  3.24387513e-02,\n",
       "         -1.76712256e-02,  7.84556493e-02, -3.19869667e-02,\n",
       "          3.76001783e-02, -1.28575079e-02, -2.26729941e-02,\n",
       "          2.79879812e-02, -2.00726092e-02, -1.93551350e-02,\n",
       "          8.22996534e-03, -6.03975449e-03, -5.26188454e-03,\n",
       "         -4.19163425e-03, -7.87567571e-02, -2.36071665e-02,\n",
       "          5.46574965e-02,  2.11618468e-02,  3.68438661e-02,\n",
       "         -1.12427138e-02,  1.81844570e-02,  2.07927357e-02,\n",
       "         -2.51409933e-02,  3.17105837e-02,  8.80330708e-03,\n",
       "          4.38487977e-02, -7.96992518e-03,  3.35229486e-02,\n",
       "          8.29839408e-02,  2.08736788e-02, -2.27769464e-02,\n",
       "          4.37225355e-03, -7.26549095e-03, -2.44155806e-02,\n",
       "          8.16580057e-02,  1.91629175e-02, -2.26154923e-02,\n",
       "         -3.48675437e-02,  1.67389063e-03, -1.36521487e-02,\n",
       "         -2.51241401e-03, -1.62085351e-02,  1.21321827e-02,\n",
       "         -2.66942545e-03, -5.98924980e-03, -7.83384498e-03,\n",
       "         -9.23777558e-03,  3.21002491e-02, -3.84116843e-02,\n",
       "         -2.40487270e-02,  4.00654636e-02, -3.62205431e-02,\n",
       "          9.11411084e-03, -1.45532645e-03,  8.19107704e-03,\n",
       "         -1.09390942e-02,  9.09950025e-03,  1.28719332e-02,\n",
       "          3.90242003e-02,  3.81474681e-02, -5.16197353e-04,\n",
       "         -5.53876497e-02,  2.50641331e-02,  2.82035563e-02,\n",
       "         -2.34670863e-02,  3.63191217e-02,  6.94688261e-02,\n",
       "          6.20050058e-02,  9.23190359e-03,  1.79108549e-02,\n",
       "         -1.10834166e-02, -2.47420073e-02, -2.42549423e-02,\n",
       "          1.99090466e-02, -3.14182453e-02,  6.13017268e-02,\n",
       "          2.12169308e-02, -7.98197463e-03, -5.92970774e-02,\n",
       "          1.59455575e-02,  1.14530092e-02, -5.65842539e-03,\n",
       "          5.80064505e-02,  1.72997955e-02,  4.54897396e-02,\n",
       "         -3.24725881e-02, -3.25901918e-02,  5.18535301e-02,\n",
       "         -4.70557995e-02,  3.41535220e-03, -1.63305420e-02,\n",
       "         -4.22875099e-02, -3.58601883e-02, -6.37771785e-02,\n",
       "         -3.46611850e-02, -2.29824781e-02, -3.71391978e-03,\n",
       "         -2.73804087e-02,  2.48477254e-02, -8.19472894e-02,\n",
       "          5.76100824e-03, -4.02736142e-02, -5.46662137e-03,\n",
       "         -2.27484349e-02,  2.79185623e-02,  1.82147678e-02,\n",
       "          2.22990643e-02,  2.19506081e-02, -5.76094985e-02,\n",
       "         -2.74683591e-02,  3.24624218e-02,  1.07289152e-03,\n",
       "         -2.75122356e-02,  6.64937422e-02, -1.71345694e-03,\n",
       "          6.88604917e-03, -3.97225231e-04,  4.06631008e-02,\n",
       "         -3.48501578e-02, -1.39064603e-02,  4.53068726e-02,\n",
       "         -9.19779018e-03, -6.41627470e-04,  2.67547835e-02,\n",
       "         -5.85050806e-02, -1.82013363e-02,  2.31376123e-02,\n",
       "          2.56540067e-02, -1.86200906e-03,  3.20546478e-02,\n",
       "          7.02229934e-03,  2.24356260e-02,  1.79935973e-02,\n",
       "          6.13055937e-03,  5.86877801e-02,  4.09233272e-02,\n",
       "          2.07659230e-02, -4.19071093e-02, -1.91310085e-02,\n",
       "         -1.40892444e-02, -5.76054119e-03, -4.59849499e-02,\n",
       "          1.47640249e-02, -3.11255790e-02,  3.32067721e-02,\n",
       "         -1.81060079e-02, -4.76227552e-02,  7.55692646e-03,\n",
       "          4.97656278e-02,  2.24995799e-02,  4.94121127e-02,\n",
       "         -6.14284799e-02,  1.19183948e-02,  2.18840111e-02,\n",
       "         -2.77697407e-02, -2.54314579e-03, -3.05494331e-02,\n",
       "          1.73031690e-03, -1.93163240e-03, -4.16246206e-02,\n",
       "          4.81459685e-02, -4.00580615e-02, -4.25818339e-02,\n",
       "         -1.11350119e-02, -3.80438678e-02, -1.23585958e-03,\n",
       "         -4.77713943e-02,  3.61616747e-03, -4.14988492e-03,\n",
       "         -2.13531894e-03, -2.63940897e-02,  5.04175834e-02,\n",
       "          2.49335561e-02, -4.36887741e-02,  3.61094438e-02,\n",
       "         -3.01739350e-02, -3.86070870e-02,  6.21401845e-03,\n",
       "         -3.54882926e-02,  1.56432372e-02,  2.70776842e-02,\n",
       "         -3.77275646e-02,  1.66042186e-02, -5.59265912e-02,\n",
       "          8.56745581e-04, -4.94323261e-02,  3.77576388e-02,\n",
       "         -2.72562113e-02, -2.22713165e-02, -2.88175996e-02,\n",
       "          2.45312080e-02,  4.09937464e-02,  1.09606115e-02,\n",
       "         -6.09617718e-02, -2.58368440e-04,  9.82476585e-03,\n",
       "         -2.30663102e-02,  8.97172391e-02,  6.07517362e-02,\n",
       "         -4.92484942e-02,  2.61505339e-02,  1.52827706e-02,\n",
       "          1.14171710e-02,  2.20664535e-02,  8.70280527e-03,\n",
       "         -4.35095094e-02, -3.55313197e-02,  9.31928772e-03,\n",
       "          5.80750071e-02,  3.06682959e-02,  1.46369589e-02,\n",
       "         -6.86746463e-02, -3.20826545e-02, -4.79165837e-02,\n",
       "          4.80555445e-02,  3.19304168e-02, -1.17012113e-02,\n",
       "         -4.64003533e-03, -2.44570384e-03,  1.29481927e-02,\n",
       "         -4.25913185e-02,  2.01796778e-02, -1.47005720e-02,\n",
       "         -2.13555545e-02, -3.48796882e-02,  2.65420247e-02,\n",
       "          1.20047443e-02, -3.60845216e-02,  5.52808382e-02,\n",
       "          4.25706841e-02,  2.39757672e-02,  1.02229696e-03,\n",
       "         -2.69704405e-02,  2.21041460e-02, -1.10016372e-02,\n",
       "         -3.83054316e-02,  3.24082561e-03, -2.38851495e-02,\n",
       "         -7.96965149e-04,  3.64617780e-02, -6.19663373e-02,\n",
       "          6.73890300e-03,  3.70311551e-02, -1.10648321e-02,\n",
       "         -1.76464971e-02, -6.68511586e-03,  3.95942852e-02,\n",
       "         -3.21222134e-02,  2.20915936e-02, -3.15232389e-02,\n",
       "         -3.72835249e-02,  7.68566057e-02, -1.77826118e-02]]),\n",
       " 'documents': ['Assessment Framework \\nfor the Digital SAT® SuiteAssessment Framework \\nfor the Digital SAT® Suite\\nVersion 3.01, August 2024\\nAbout College Board\\nCollege Board reaches more than 7 million students a year, helping them \\nnavigate the path from high school to college and career. Our not-for-\\nprofit membership organization was founded more than 120 years ago. \\nWe pioneered programs like the SAT® and AP® to expand opportunities \\nfor students and help them develop the skills they need. Our BigFuture® \\nprogram helps students plan for college, pay for college, and explore \\ncareers. Learn more at cb.org .\\nSuggested Citation:  College Board. 2024. Assessment Framework for the \\nDigital SAT Suite , version 3.01 (August 2024). New Y ork: College Board.\\n© 2024 College Board. College Board, Advanced Placement, AP , BigFuture, Landscape, Pre-AP , SAT, and \\nthe acorn logo are registered trademarks of College Board. AP Potential, Bluebook, Connections, PSAT,'],\n",
       " 'uris': None,\n",
       " 'data': None,\n",
       " 'metadatas': [None],\n",
       " 'included': [<IncludeEnum.embeddings: 'embeddings'>,\n",
       "  <IncludeEnum.documents: 'documents'>,\n",
       "  <IncludeEnum.metadatas: 'metadatas'>]}"
      ]
     },
     "execution_count": 49,
     "metadata": {},
     "output_type": "execute_result"
    }
   ],
   "source": [
    "db.count()\n",
    "db.peek(1)"
   ]
  },
  {
   "cell_type": "markdown",
   "id": "2095e6a8",
   "metadata": {
    "papermill": {
     "duration": 0.033594,
     "end_time": "2025-04-21T00:51:49.327143",
     "exception": false,
     "start_time": "2025-04-21T00:51:49.293549",
     "status": "completed"
    },
    "tags": []
   },
   "source": [
    "Let's look for *Information and Ideas* and see what relevant information the vector database finds on it."
   ]
  },
  {
   "cell_type": "code",
   "execution_count": 50,
   "id": "d6c5aaab",
   "metadata": {
    "execution": {
     "iopub.execute_input": "2025-04-21T00:51:49.393737Z",
     "iopub.status.busy": "2025-04-21T00:51:49.393330Z",
     "iopub.status.idle": "2025-04-21T00:51:49.647594Z",
     "shell.execute_reply": "2025-04-21T00:51:49.646516Z"
    },
    "papermill": {
     "duration": 0.289703,
     "end_time": "2025-04-21T00:51:49.649524",
     "exception": false,
     "start_time": "2025-04-21T00:51:49.359821",
     "status": "completed"
    },
    "tags": []
   },
   "outputs": [
    {
     "data": {
      "text/markdown": [
       "4.1.8. Word Count  ..................................................................................................................... 79\n",
       "4.1.9. Informational Graphics  ............................................................................................... 79\n",
       "4.1.10. T ext Complexity  .......................................................................................................... 79\n",
       "4.2 Definitions  ..................................................................................................................................... 79\n",
       "4.2.1. Construct  ......................................................................................................................... 79\n",
       "4.2.2. Claims  ................................................................................................................................ 80\n",
       "4.3 Content Domain Structure  ...................................................................................................... 81"
      ],
      "text/plain": [
       "<IPython.core.display.Markdown object>"
      ]
     },
     "execution_count": 50,
     "metadata": {},
     "output_type": "execute_result"
    }
   ],
   "source": [
    "# Switch to query mode when generating embeddings.\n",
    "embed_fn.document_mode = False\n",
    "\n",
    "# Search the Chroma DB using the specified query.\n",
    "query = \"What is the weighting of Information and Ideas?\"\n",
    "\n",
    "result = db.query(query_texts=[query], n_results=1)\n",
    "[all_passages] = result[\"documents\"]\n",
    "\n",
    "\n",
    "Markdown(all_passages[0])"
   ]
  },
  {
   "cell_type": "markdown",
   "id": "546d546a",
   "metadata": {
    "papermill": {
     "duration": 0.031315,
     "end_time": "2025-04-21T00:51:49.713636",
     "exception": false,
     "start_time": "2025-04-21T00:51:49.682321",
     "status": "completed"
    },
    "tags": []
   },
   "source": [
    "Now let's look for something more generic, like scientific vocabulary or weighting of passages."
   ]
  },
  {
   "cell_type": "code",
   "execution_count": 51,
   "id": "f3a10a11",
   "metadata": {
    "execution": {
     "iopub.execute_input": "2025-04-21T00:51:49.777288Z",
     "iopub.status.busy": "2025-04-21T00:51:49.776844Z",
     "iopub.status.idle": "2025-04-21T00:51:50.051189Z",
     "shell.execute_reply": "2025-04-21T00:51:50.049784Z"
    },
    "papermill": {
     "duration": 0.308296,
     "end_time": "2025-04-21T00:51:50.053106",
     "exception": false,
     "start_time": "2025-04-21T00:51:49.744810",
     "status": "completed"
    },
    "tags": []
   },
   "outputs": [
    {
     "data": {
      "text/markdown": [
       "standardized testing as well as many families, educators, and policymakers have \n",
       "raised concerns about the extent to which U.S. students are tested as part of \n",
       "K–12 education. Polling has suggested that the public’s doubts about the value of \n",
       "standardized testing in schools have grown over time, and the necessary relaxation \n",
       "of federal testing requirements under the successor Every Student Succeeds Act \n",
       "during the 2019–2020 and, to a lesser extent, 2020–2021 pandemic years has \n",
       "further contributed to those doubts. (See Bruno and Goldhaber 2021 for a brief \n",
       "recent overview.)A Living \n",
       "Document\n",
       "This release of the Assessment \n",
       "Framework for the Digital SAT \n",
       "Suite  includes authoritative, \n",
       "up-to-date information about \n",
       "the digital suite. As College \n",
       "Board continues to research and \n",
       "implement the tests, updates \n",
       "will be made to this document \n",
       "(and disseminated through other \n",
       "means, such as our website, \n",
       "sat.org/digital ) to ensure that \n",
       "readers have as complete and \n",
       "accurate a picture as possible."
      ],
      "text/plain": [
       "<IPython.core.display.Markdown object>"
      ]
     },
     "execution_count": 51,
     "metadata": {},
     "output_type": "execute_result"
    }
   ],
   "source": [
    "# Switch to query mode when generating embeddings.\n",
    "embed_fn.document_mode = False\n",
    "\n",
    "# Search the Chroma DB using the specified query.\n",
    "query = \"What scientific stuff are we tested on?\"\n",
    "\n",
    "result = db.query(query_texts=[query], n_results=2)\n",
    "[all_passages] = result[\"documents\"]\n",
    "\n",
    "Markdown(all_passages[0])"
   ]
  },
  {
   "cell_type": "markdown",
   "id": "7e32cb85",
   "metadata": {
    "papermill": {
     "duration": 0.030961,
     "end_time": "2025-04-21T00:51:50.117143",
     "exception": false,
     "start_time": "2025-04-21T00:51:50.086182",
     "status": "completed"
    },
    "tags": []
   },
   "source": [
    "The information captured by the embedding model is not relevant to the question. Perhaps more results solve the problem?"
   ]
  },
  {
   "cell_type": "code",
   "execution_count": 52,
   "id": "418e82d5",
   "metadata": {
    "execution": {
     "iopub.execute_input": "2025-04-21T00:51:50.181544Z",
     "iopub.status.busy": "2025-04-21T00:51:50.181186Z",
     "iopub.status.idle": "2025-04-21T00:51:50.444116Z",
     "shell.execute_reply": "2025-04-21T00:51:50.442871Z"
    },
    "papermill": {
     "duration": 0.296943,
     "end_time": "2025-04-21T00:51:50.446053",
     "exception": false,
     "start_time": "2025-04-21T00:51:50.149110",
     "status": "completed"
    },
    "tags": []
   },
   "outputs": [
    {
     "name": "stdout",
     "output_type": "stream",
     "text": [
      "standardized testing as well as many families, educators, and policymakers have \n",
      "raised concerns about the extent to which U.S. students are tested as part of \n",
      "K–12 education. Polling has suggested that the public’s doubts about the value of \n",
      "standardized testing in schools have grown over time, and the necessary relaxation \n",
      "of federal testing requirements under the successor Every Student Succeeds Act \n",
      "during the 2019–2020 and, to a lesser extent, 2020–2021 pandemic years has \n",
      "further contributed to those doubts. (See Bruno and Goldhaber 2021 for a brief \n",
      "recent overview.)A Living \n",
      "Document\n",
      "This release of the Assessment \n",
      "Framework for the Digital SAT \n",
      "Suite  includes authoritative, \n",
      "up-to-date information about \n",
      "the digital suite. As College \n",
      "Board continues to research and \n",
      "implement the tests, updates \n",
      "will be made to this document \n",
      "(and disseminated through other \n",
      "means, such as our website, \n",
      "sat.org/digital ) to ensure that \n",
      "readers have as complete and \n",
      "accurate a picture as possible.\n",
      "to show colleges what they know and can do. The test has changed significantly \n",
      "over time to better meet the evolving needs of students from all backgrounds and \n",
      "the changing landscape of postsecondary education. The paper-based SAT Suite \n",
      "of Assessments—completely redesigned most recently in 2015 and launched \n",
      "together with free, world-class tailored practice for all students—measures the \n",
      "knowledge and skills that students are learning in high school and that matter most \n",
      "for college and career readiness. \n",
      "The next major change to the SAT Suite is a fully digital testing experience. College \n",
      "Board’s goal is to provide a less stressful, more accessible experience for all \n",
      "students and educators while retaining the value, rigor, and predictive power of the \n",
      "paper-based SAT Suite tests. T o achieve this goal, we assembled a team of experts \n",
      "in math and literacy content development, assessment design, psychometrics, \n",
      "technology, and product development and rigorously tested and piloted these\n"
     ]
    },
    {
     "data": {
      "text/plain": [
       "[None, None]"
      ]
     },
     "execution_count": 52,
     "metadata": {},
     "output_type": "execute_result"
    }
   ],
   "source": [
    "result = db.query(query_texts=[query], n_results=2)\n",
    "[all_passages] = result[\"documents\"]\n",
    "\n",
    "[print(passage) for passage in all_passages]"
   ]
  },
  {
   "cell_type": "markdown",
   "id": "e5078749",
   "metadata": {
    "papermill": {
     "duration": 0.032129,
     "end_time": "2025-04-21T00:51:50.509384",
     "exception": false,
     "start_time": "2025-04-21T00:51:50.477255",
     "status": "completed"
    },
    "tags": []
   },
   "source": [
    "There are unnecessary details in the original PDF. \"Garbage in, garbage out\" \n",
    "The solution is perhaps to distill the relevant information from the PDF into a text document, and look for other relevant information.\n",
    "# Synthesized Workflow\n",
    "Now let's merge the features of the individual features into one!\n",
    "Since the SAT Specs data was not helpful to the agent and the Question Finder does not require anything from the agent (until later iterations), the workflow for the agent will consist of a system prompt outlining context, the debate-style evaluation prompt and the prompt for multiple thinking processes. The user will be able to chat with the model normally to ask follow-up questions.\n",
    "\n",
    "## How it (may) look from the website's perspective\n",
    "The user will first get a question wrong. They'll press a button to launch the AI. The bot will ask, \"Why did you pick option X?\" and the user will enter their rationale. The debate-style prompt will be used for that purpose only. A button will be available to view alternative approaches to the problem, and the respective prompt will be subsituted for the query; at all other times, the user can ask specific questions or talk to the bot in an otherwise normal way.\n",
    "\n",
    "In essence, it allows a conversation to look like this: \n",
    "\n",
    "```\n",
    "Bot: Why did you pick option C?\n",
    "User: [...]\n",
    "Bot: Here's why answer C could be right: [...] And why A is right instead: [...]\n",
    "User: Maybe I should read through it slower?\n",
    "Bot: Absolutely! [...]\n",
    "User: [Generate Possible Reasoning Chain]\n",
    "Bot: [...]\n",
    "```\n",
    "\n",
    "## Implementation\n",
    "Let's first define an adaptable system prompt for the following workflow (this merged system prompt can also be evaluated against other variations! It isn't necessary for the scope of the notebook, so I won't include that here.)"
   ]
  },
  {
   "cell_type": "code",
   "execution_count": 53,
   "id": "cd1012a0",
   "metadata": {
    "execution": {
     "iopub.execute_input": "2025-04-21T00:51:50.579166Z",
     "iopub.status.busy": "2025-04-21T00:51:50.578750Z",
     "iopub.status.idle": "2025-04-21T00:51:50.583633Z",
     "shell.execute_reply": "2025-04-21T00:51:50.582379Z"
    },
    "papermill": {
     "duration": 0.041794,
     "end_time": "2025-04-21T00:51:50.585431",
     "exception": false,
     "start_time": "2025-04-21T00:51:50.543637",
     "status": "completed"
    },
    "tags": []
   },
   "outputs": [],
   "source": [
    "system_prompt = \"\"\"\n",
    "You are an expert SAT tutor and answer analyst with two core capabilities:\n",
    "\n",
    "1. **Answer Evaluation Mode** (Triggered by answer comparison requests):\n",
    "- Evaluate both correct and student answers\n",
    "- Present strongest arguments FOR and AGAINST the student's answer\n",
    "- Explain why the correct answer is superior with textual evidence\n",
    "\n",
    "2. **Cognitive Analysis Mode** (Triggered by student mistake analysis requests):\n",
    "- Analyze SAT questions with official rationales\n",
    "- Identify cognitive biases in student thinking\n",
    "- Generate multiple plausible thinking processes\n",
    "- Output JSON array of thought pathways\n",
    "\n",
    "Always maintain capacity for:\n",
    "- Contextual follow-up questions\n",
    "- Additional analysis layers on existing content\n",
    "- Seamless switching between modes based on query type\n",
    "\"\"\""
   ]
  },
  {
   "cell_type": "markdown",
   "id": "8fd93a77",
   "metadata": {
    "papermill": {
     "duration": 0.034037,
     "end_time": "2025-04-21T00:51:50.653392",
     "exception": false,
     "start_time": "2025-04-21T00:51:50.619355",
     "status": "completed"
    },
    "tags": []
   },
   "source": [
    "The evaluation prompt:"
   ]
  },
  {
   "cell_type": "code",
   "execution_count": 54,
   "id": "52ef456c",
   "metadata": {
    "execution": {
     "iopub.execute_input": "2025-04-21T00:51:50.720225Z",
     "iopub.status.busy": "2025-04-21T00:51:50.719803Z",
     "iopub.status.idle": "2025-04-21T00:51:50.724333Z",
     "shell.execute_reply": "2025-04-21T00:51:50.723229Z"
    },
    "papermill": {
     "duration": 0.040195,
     "end_time": "2025-04-21T00:51:50.726074",
     "exception": false,
     "start_time": "2025-04-21T00:51:50.685879",
     "status": "completed"
    },
    "tags": []
   },
   "outputs": [],
   "source": [
    "final_eval_prompt = \"\"\"\n",
    "Evaluate both the correct answer and the user's answer as potential responses to the question.\n",
    "\n",
    "*   Present the strongest possible argument *in favor* of the user's answer.\n",
    "*   Present the strongest possible argument *against* the user's answer.\n",
    "*   Explain why, ultimately, the correct answer is the superior choice based on textual evidence.\n",
    "\"\"\""
   ]
  },
  {
   "cell_type": "markdown",
   "id": "e58d74ce",
   "metadata": {
    "papermill": {
     "duration": 0.032429,
     "end_time": "2025-04-21T00:51:50.791136",
     "exception": false,
     "start_time": "2025-04-21T00:51:50.758707",
     "status": "completed"
    },
    "tags": []
   },
   "source": [
    "The prompt for multiple thinking processes:"
   ]
  },
  {
   "cell_type": "code",
   "execution_count": 55,
   "id": "37747dc5",
   "metadata": {
    "execution": {
     "iopub.execute_input": "2025-04-21T00:51:50.860102Z",
     "iopub.status.busy": "2025-04-21T00:51:50.859727Z",
     "iopub.status.idle": "2025-04-21T00:51:50.863985Z",
     "shell.execute_reply": "2025-04-21T00:51:50.863101Z"
    },
    "papermill": {
     "duration": 0.039523,
     "end_time": "2025-04-21T00:51:50.865643",
     "exception": false,
     "start_time": "2025-04-21T00:51:50.826120",
     "status": "completed"
    },
    "tags": []
   },
   "outputs": [],
   "source": [
    "final_thinking_prompt = \"\"\"You are an expert SAT tutor analyzing a student's mistake on an SAT question. You are provided with:\n",
    "\n",
    "1. The SAT question, including the text, answer choices, and the correct answer.\n",
    "2. The official rationale for the correct answer and why the other choices are incorrect.\n",
    "3. The student's chosen answer and their rationale for choosing that answer.\n",
    "4. An argument contrasting the user's answer with the correct answer.\n",
    "\n",
    "Consider potential cognitive biases (e.g., confirmation bias, anchoring bias, availability heuristic) that might have influenced the student's decision-making process. Develop multiple step-by-step thinking processes that incorporate these biases, leading to both the student's answer and the correct answer.\n",
    "\n",
    "Output a JSON array of objects. Each object represents a distinct thinking process and whether it leads to the user's answer or the correct answer. Include as many plausible thinking processes as possible, even if they seem obvious.\n",
    "\n",
    "Format:\n",
    "```json\n",
    "[\n",
    "    {\n",
    "        \"thinking_process\": \"[Here you will define a process step by step to get one of the answers]\",\n",
    "        \"leads_to\": \"user\" | \"correct\"\n",
    "    },\n",
    "    {\n",
    "        \"thinking_process\": \"[Here you will define another process step by step to get one of the answers]\",\n",
    "        \"leads_to\": \"user\" | \"correct\"\n",
    "    },\n",
    "    {\n",
    "        \"thinking_process\": \"[Include as many of these as possible!]\",\n",
    "        \"leads_to\": \"user\" | \"correct\"\n",
    "    },\n",
    "]\n",
    "```\n",
    "\"\"\""
   ]
  },
  {
   "cell_type": "markdown",
   "id": "d3b3c7f6",
   "metadata": {
    "papermill": {
     "duration": 0.031339,
     "end_time": "2025-04-21T00:51:50.928646",
     "exception": false,
     "start_time": "2025-04-21T00:51:50.897307",
     "status": "completed"
    },
    "tags": []
   },
   "source": [
    "Here's a simulated workflow (context handled manually to stay consistent with above client objects and to simulate handling in the real backend):"
   ]
  },
  {
   "cell_type": "code",
   "execution_count": 56,
   "id": "c236b621",
   "metadata": {
    "execution": {
     "iopub.execute_input": "2025-04-21T00:51:50.993295Z",
     "iopub.status.busy": "2025-04-21T00:51:50.992824Z",
     "iopub.status.idle": "2025-04-21T00:52:02.010013Z",
     "shell.execute_reply": "2025-04-21T00:52:02.008874Z"
    },
    "papermill": {
     "duration": 11.051799,
     "end_time": "2025-04-21T00:52:02.011918",
     "exception": false,
     "start_time": "2025-04-21T00:51:50.960119",
     "status": "completed"
    },
    "tags": []
   },
   "outputs": [
    {
     "name": "stdout",
     "output_type": "stream",
     "text": [
      "\n",
      "Evaluate both the correct answer and the user's answer as potential responses to the question.\n",
      "\n",
      "*   Present the strongest possible argument *in favor* of the user's answer.\n",
      "*   Present the strongest possible argument *against* the user's answer.\n",
      "*   Explain why, ultimately, the correct answer is the superior choice based on textual evidence.\n",
      ": \n",
      "\n",
      "In a paper about p-i-n planar perovskite solar cells (one of several perovskite cell architectures designed to collect and store solar power), Lyndsey McMillon-Brown et al. described a method for fabricating the cell’s electronic transport layer (ETL) using a spray coating. Conventional ETL fabrication is accomplished using a solution of nanoparticles. The process can result in a loss of up to 80% of the solution, increasing the cost of manufacturing at scale—an issue that may be obviated by spray coating fabrication, which the researchers describe as “highly reproducible, concise, and practical.”\n",
      "\n",
      "What does the text most strongly suggest about conventional ETL fabrication?\n",
      "A. It is less suitable for manufacturing large volumes of planar p-i-n perovskite solar cells than an alternative fabrication method may be.\n",
      "B. It is more expensive when manufacturing at scale than are processes for fabricating ETLs used in other perovskite solar cell architectures.\n",
      "C. It typically entails a greater loss of nanoparticle solution than do other established approaches for ETL fabrication.\n",
      "D. It is somewhat imprecise and therefore limits the potential effectiveness of p-i-n planar perovskite solar cells at capturing and storing solar power.\n",
      " \n",
      "Choice A is the best answer. Conventional solar cell fabrication increases “the cost of manufacturing at scale,” but spray coating might get rid of that problem.\n",
      "\n",
      "Choice B is incorrect. This is not completely supported by the text. While it’s true that conventional ETL fabrication is expensive at scale, there’s nothing in the text that mentions other perovskite solar cell architectures. Choice C is incorrect. This choice does not match the text. Only one conventional method of ETL fabrication is described, so we can’t compare the solution loss in this method to that of other conventional methods. Choice D is incorrect. This choice isn’t supported by the text. The text never suggests that the effectiveness of solar cells changes based on their method of fabrication. \n",
      "\n",
      " The user got: C\n",
      " Isn't the new method of ETL fabrication the same as the 'established methods'\n"
     ]
    },
    {
     "data": {
      "text/markdown": [
       "Okay, let's simplify the confirmation bias example:\n",
       "\n",
       "**The Simplified Explanation:**\n",
       "\n",
       "Imagine you're really focused on the phrase \"conventional ETL fabrication\" in the question. You've read the passage, and that phrase sticks in your head.\n",
       "\n",
       "Now you look at the answer choices. Your brain is actively searching for things that *confirm* what you already think is important (that phrase \"conventional ETL fabrication\").\n",
       "\n",
       "Choice C uses slightly different words (\"other established approaches\"), but it *sounds* similar enough to \"conventional ETL fabrication\" that your brain says, \"Aha! That's the one! It's talking about the thing I'm focused on!\".\n",
       "\n",
       "You might not even fully *understand* what \"other established approaches\" means. But because it echoes the phrase you were already fixated on, you choose it. You've *confirmed* your initial focus, even if it leads you to the wrong answer.\n",
       "\n",
       "**In other words:** Confirmation bias makes you latch onto information that supports your pre-existing beliefs or focus, even if that information is misleading or incomplete. In this case, the student latched onto the phrase \"conventional\" and didn't fully process the meaning of the rest of the answer choice.\n"
      ],
      "text/plain": [
       "<IPython.core.display.Markdown object>"
      ]
     },
     "execution_count": 56,
     "metadata": {},
     "output_type": "execute_result"
    }
   ],
   "source": [
    "# Initialize conversation history\n",
    "conversation_history = []\n",
    "\n",
    "# First Request (Evaluation)\n",
    "eval_content = {\n",
    "    \"role\": \"user\",\n",
    "    \"parts\": [{\n",
    "        \"text\": f\"{final_eval_prompt}: \\n{question['question']} {question['rationale']}\\n The user got: {question['user_answer']}\\n {question['user_rationale']}\"\n",
    "    }]\n",
    "}\n",
    "\n",
    "print(eval_content[\"parts\"][0][\"text\"])\n",
    "\n",
    "response1 = client.models.generate_content(\n",
    "    model=model,\n",
    "    contents=[*conversation_history, eval_content],\n",
    "    config=GenerateContentConfig(\n",
    "        system_instruction=[system_prompt]\n",
    "    ),\n",
    ")\n",
    "\n",
    "# Update history with first interaction\n",
    "conversation_history.extend([\n",
    "    eval_content,\n",
    "    {\"role\": \"model\", \"parts\": [{\"text\": response1.text}]}\n",
    "])\n",
    "\n",
    "# Second Request (Analysis with JSON Schema)\n",
    "analysis_content = {\n",
    "    \"role\": \"user\", \n",
    "    \"parts\": [{\n",
    "        \"text\": final_thinking_prompt + \"\\n\" + str(question)\n",
    "    }]\n",
    "}\n",
    "\n",
    "\n",
    "response2 = client.models.generate_content(\n",
    "    model=\"gemini-2.0-flash-001\",\n",
    "    contents=[*conversation_history, analysis_content],\n",
    "    config=GenerateContentConfig(\n",
    "        system_instruction=[system_prompt],  # Fixed typo: sytem_prompt -> system_prompt\n",
    "        temperature=0.1,\n",
    "        response_mime_type=\"application/json\",\n",
    "        response_schema={\n",
    "  \"title\": \"SAT Analysis Response\",\n",
    "  \"description\": \"Response format for SAT mistake analysis using multiple thinking processes\",\n",
    "  \"type\": \"array\",\n",
    "  \"minItems\": 3,\n",
    "  \"maxItems\": 8,\n",
    "  \"items\": {\n",
    "    \"type\": \"object\",\n",
    "    \"properties\": {\n",
    "      \"thinking_process\": {\n",
    "        \"type\": \"string\",\n",
    "        \"description\": \"Step-by-step explanation of cognitive path leading to an answer choice\",\n",
    "        \"minLength\": 50,\n",
    "        \"maxLength\": 500\n",
    "      },\n",
    "      \"leads_to\": {\n",
    "        \"type\": \"string\",\n",
    "        \"enum\": [\"user\", \"correct\"],\n",
    "        \"description\": \"Indicates whether this thinking process leads to the student's answer or the correct answer\"\n",
    "      }\n",
    "    },\n",
    "    \"required\": [\"thinking_process\", \"leads_to\"],\n",
    "\n",
    "  }\n",
    "        }\n",
    "    ),\n",
    ")\n",
    "\n",
    "# Update history with second interaction\n",
    "conversation_history.extend([\n",
    "    analysis_content,\n",
    "    {\"role\": \"model\", \"parts\": [{\"text\": response2.text}]}\n",
    "])\n",
    "\n",
    "# Third Request (Simplification)\n",
    "simplify_content = {\n",
    "    \"role\": \"user\",\n",
    "    \"parts\": [{\"text\": \"Explain the confirmation bias example in simpler terms\"}]\n",
    "}\n",
    "\n",
    "response3 = client.models.generate_content(\n",
    "    model=model,\n",
    "    contents=[*conversation_history, simplify_content],\n",
    "    config=GenerateContentConfig(\n",
    "        system_instruction=[system_prompt]\n",
    "    ),\n",
    ")\n",
    "\n",
    "# Final history state\n",
    "conversation_history.extend([\n",
    "    simplify_content,\n",
    "    {\"role\": \"model\", \"parts\": [{\"text\": response3.text}]}\n",
    "])\n",
    "\n",
    "Markdown(response3.text)"
   ]
  },
  {
   "cell_type": "markdown",
   "id": "27fdf685",
   "metadata": {
    "papermill": {
     "duration": 0.031304,
     "end_time": "2025-04-21T00:52:02.076434",
     "exception": false,
     "start_time": "2025-04-21T00:52:02.045130",
     "status": "completed"
    },
    "tags": []
   },
   "source": [
    "# Conclusion\n",
    "Since the information about the SAT and its nuances aren't available online, data has to be collected over time to come up with this RAG pipeline. This feature will be implemented in the months to come.\n",
    "\n",
    "(c) Aquarc 2025\n",
    "\n",
    "Some parts of this Codelab are (c) Google 2025 under the Apache License.\n",
    "\n",
    "Questions are (c) CollegeBoard 2025. "
   ]
  }
 ],
 "metadata": {
  "kaggle": {
   "accelerator": "none",
   "dataSources": [],
   "dockerImageVersionId": 30918,
   "isGpuEnabled": false,
   "isInternetEnabled": true,
   "language": "python",
   "sourceType": "notebook"
  },
  "kernelspec": {
   "display_name": "Python 3",
   "language": "python",
   "name": "python3"
  },
  "language_info": {
   "codemirror_mode": {
    "name": "ipython",
    "version": 3
   },
   "file_extension": ".py",
   "mimetype": "text/x-python",
   "name": "python",
   "nbconvert_exporter": "python",
   "pygments_lexer": "ipython3",
   "version": "3.10.12"
  },
  "papermill": {
   "default_parameters": {},
   "duration": 244.472105,
   "end_time": "2025-04-21T00:52:03.736676",
   "environment_variables": {},
   "exception": null,
   "input_path": "__notebook__.ipynb",
   "output_path": "__notebook__.ipynb",
   "parameters": {},
   "start_time": "2025-04-21T00:47:59.264571",
   "version": "2.6.0"
  }
 },
 "nbformat": 4,
 "nbformat_minor": 5
}
