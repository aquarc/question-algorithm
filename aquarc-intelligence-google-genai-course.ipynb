{
 "cells": [
  {
   "cell_type": "code",
   "execution_count": 1,
   "id": "55c508ff",
   "metadata": {
    "_cell_guid": "b1076dfc-b9ad-4769-8c92-a6c4dae69d19",
    "_uuid": "8f2839f25d086af736a60e9eeb907d3b93b6e0e5",
    "execution": {
     "iopub.execute_input": "2025-04-08T02:42:36.282887Z",
     "iopub.status.busy": "2025-04-08T02:42:36.282574Z",
     "iopub.status.idle": "2025-04-08T02:42:37.185579Z",
     "shell.execute_reply": "2025-04-08T02:42:37.184801Z"
    },
    "papermill": {
     "duration": 0.91305,
     "end_time": "2025-04-08T02:42:37.187132",
     "exception": false,
     "start_time": "2025-04-08T02:42:36.274082",
     "status": "completed"
    },
    "tags": []
   },
   "outputs": [],
   "source": [
    "# This Python 3 environment comes with many helpful analytics libraries installed\n",
    "# It is defined by the kaggle/python Docker image: https://github.com/kaggle/docker-python\n",
    "# For example, here's several helpful packages to load\n",
    "\n",
    "import numpy as np # linear algebra\n",
    "import pandas as pd # data processing, CSV file I/O (e.g. pd.read_csv)\n",
    "\n",
    "# Input data files are available in the read-only \"../input/\" directory\n",
    "# For example, running this (by clicking run or pressing Shift+Enter) will list all files under the input directory\n",
    "\n",
    "import os\n",
    "for dirname, _, filenames in os.walk('/kaggle/input'):\n",
    "    for filename in filenames:\n",
    "        print(os.path.join(dirname, filename))\n",
    "\n",
    "# You can write up to 20GB to the current directory (/kaggle/working/) that gets preserved as output when you create a version using \"Save & Run All\" \n",
    "# You can also write temporary files to /kaggle/temp/, but they won't be saved outside of the current session"
   ]
  },
  {
   "cell_type": "markdown",
   "id": "948dfa8b",
   "metadata": {
    "papermill": {
     "duration": 0.003784,
     "end_time": "2025-04-08T02:42:37.195451",
     "exception": false,
     "start_time": "2025-04-08T02:42:37.191667",
     "status": "completed"
    },
    "tags": []
   },
   "source": [
    "Some parts of this Codelab are (c) Google 2025 under the Apache License.\n",
    "(c) Aquarc 2025"
   ]
  },
  {
   "cell_type": "markdown",
   "id": "50cf28da",
   "metadata": {
    "papermill": {
     "duration": 0.003904,
     "end_time": "2025-04-08T02:42:37.203233",
     "exception": false,
     "start_time": "2025-04-08T02:42:37.199329",
     "status": "completed"
    },
    "tags": []
   },
   "source": [
    "# Synopsis\n",
    "Aquarc is an all-in-one SAT platform for high schoolers designed to minimize time spent using the software and maximizing practice and essential questions. In order to further this mission, Aquarc Intelligence was created to analyze mistakes within a question and to suggest similar questions for efficient practicing."
   ]
  },
  {
   "cell_type": "markdown",
   "id": "c0a27fe1",
   "metadata": {
    "papermill": {
     "duration": 0.003707,
     "end_time": "2025-04-08T02:42:37.211114",
     "exception": false,
     "start_time": "2025-04-08T02:42:37.207407",
     "status": "completed"
    },
    "tags": []
   },
   "source": [
    "# Install the SDK \n",
    "We will be using Google's Gemini and utilities to build the model."
   ]
  },
  {
   "cell_type": "code",
   "execution_count": 2,
   "id": "558e8799",
   "metadata": {
    "execution": {
     "iopub.execute_input": "2025-04-08T02:42:37.220256Z",
     "iopub.status.busy": "2025-04-08T02:42:37.219842Z",
     "iopub.status.idle": "2025-04-08T02:43:17.687251Z",
     "shell.execute_reply": "2025-04-08T02:43:17.686382Z"
    },
    "papermill": {
     "duration": 40.473705,
     "end_time": "2025-04-08T02:43:17.688628",
     "exception": false,
     "start_time": "2025-04-08T02:42:37.214923",
     "status": "completed"
    },
    "tags": []
   },
   "outputs": [
    {
     "name": "stdout",
     "output_type": "stream",
     "text": [
      "\u001b[2K     \u001b[90m━━━━━━━━━━━━━━━━━━━━━━━━━━━━━━━━━━━━━━━━\u001b[0m \u001b[32m67.3/67.3 kB\u001b[0m \u001b[31m4.0 MB/s\u001b[0m eta \u001b[36m0:00:00\u001b[0m\r\n",
      "\u001b[?25h  Installing build dependencies ... \u001b[?25l\u001b[?25hdone\r\n",
      "  Getting requirements to build wheel ... \u001b[?25l\u001b[?25hdone\r\n",
      "  Preparing metadata (pyproject.toml) ... \u001b[?25l\u001b[?25hdone\r\n",
      "\u001b[2K   \u001b[90m━━━━━━━━━━━━━━━━━━━━━━━━━━━━━━━━━━━━━━━━\u001b[0m \u001b[32m144.7/144.7 kB\u001b[0m \u001b[31m7.6 MB/s\u001b[0m eta \u001b[36m0:00:00\u001b[0m\r\n",
      "\u001b[2K   \u001b[90m━━━━━━━━━━━━━━━━━━━━━━━━━━━━━━━━━━━━━━━━\u001b[0m \u001b[32m1.0/1.0 MB\u001b[0m \u001b[31m34.4 MB/s\u001b[0m eta \u001b[36m0:00:00\u001b[0m\r\n",
      "\u001b[2K   \u001b[90m━━━━━━━━━━━━━━━━━━━━━━━━━━━━━━━━━━━━━━━━\u001b[0m \u001b[32m232.6/232.6 kB\u001b[0m \u001b[31m14.9 MB/s\u001b[0m eta \u001b[36m0:00:00\u001b[0m\r\n",
      "\u001b[2K   \u001b[90m━━━━━━━━━━━━━━━━━━━━━━━━━━━━━━━━━━━━━━━━\u001b[0m \u001b[32m18.3/18.3 MB\u001b[0m \u001b[31m83.5 MB/s\u001b[0m eta \u001b[36m0:00:00\u001b[0m\r\n",
      "\u001b[2K   \u001b[90m━━━━━━━━━━━━━━━━━━━━━━━━━━━━━━━━━━━━━━━━\u001b[0m \u001b[32m2.4/2.4 MB\u001b[0m \u001b[31m62.2 MB/s\u001b[0m eta \u001b[36m0:00:00\u001b[0m\r\n",
      "\u001b[2K   \u001b[90m━━━━━━━━━━━━━━━━━━━━━━━━━━━━━━━━━━━━━━━━\u001b[0m \u001b[32m94.9/94.9 kB\u001b[0m \u001b[31m5.8 MB/s\u001b[0m eta \u001b[36m0:00:00\u001b[0m\r\n",
      "\u001b[2K   \u001b[90m━━━━━━━━━━━━━━━━━━━━━━━━━━━━━━━━━━━━━━━━\u001b[0m \u001b[32m100.9/100.9 kB\u001b[0m \u001b[31m5.2 MB/s\u001b[0m eta \u001b[36m0:00:00\u001b[0m\r\n",
      "\u001b[2K   \u001b[90m━━━━━━━━━━━━━━━━━━━━━━━━━━━━━━━━━━━━━━━━\u001b[0m \u001b[32m284.2/284.2 kB\u001b[0m \u001b[31m16.3 MB/s\u001b[0m eta \u001b[36m0:00:00\u001b[0m\r\n",
      "\u001b[2K   \u001b[90m━━━━━━━━━━━━━━━━━━━━━━━━━━━━━━━━━━━━━━━━\u001b[0m \u001b[32m2.0/2.0 MB\u001b[0m \u001b[31m53.3 MB/s\u001b[0m eta \u001b[36m0:00:00\u001b[0m\r\n",
      "\u001b[2K   \u001b[90m━━━━━━━━━━━━━━━━━━━━━━━━━━━━━━━━━━━━━━━━\u001b[0m \u001b[32m423.3/423.3 kB\u001b[0m \u001b[31m21.8 MB/s\u001b[0m eta \u001b[36m0:00:00\u001b[0m\r\n",
      "\u001b[2K   \u001b[90m━━━━━━━━━━━━━━━━━━━━━━━━━━━━━━━━━━━━━━━━\u001b[0m \u001b[32m99.2/99.2 kB\u001b[0m \u001b[31m6.0 MB/s\u001b[0m eta \u001b[36m0:00:00\u001b[0m\r\n",
      "\u001b[2K   \u001b[90m━━━━━━━━━━━━━━━━━━━━━━━━━━━━━━━━━━━━━━━━\u001b[0m \u001b[32m16.0/16.0 MB\u001b[0m \u001b[31m85.5 MB/s\u001b[0m eta \u001b[36m0:00:00\u001b[0m\r\n",
      "\u001b[2K   \u001b[90m━━━━━━━━━━━━━━━━━━━━━━━━━━━━━━━━━━━━━━━━\u001b[0m \u001b[32m55.9/55.9 kB\u001b[0m \u001b[31m2.9 MB/s\u001b[0m eta \u001b[36m0:00:00\u001b[0m\r\n",
      "\u001b[2K   \u001b[90m━━━━━━━━━━━━━━━━━━━━━━━━━━━━━━━━━━━━━━━━\u001b[0m \u001b[32m183.4/183.4 kB\u001b[0m \u001b[31m10.0 MB/s\u001b[0m eta \u001b[36m0:00:00\u001b[0m\r\n",
      "\u001b[2K   \u001b[90m━━━━━━━━━━━━━━━━━━━━━━━━━━━━━━━━━━━━━━━━\u001b[0m \u001b[32m65.2/65.2 kB\u001b[0m \u001b[31m3.7 MB/s\u001b[0m eta \u001b[36m0:00:00\u001b[0m\r\n",
      "\u001b[2K   \u001b[90m━━━━━━━━━━━━━━━━━━━━━━━━━━━━━━━━━━━━━━━━\u001b[0m \u001b[32m118.9/118.9 kB\u001b[0m \u001b[31m7.0 MB/s\u001b[0m eta \u001b[36m0:00:00\u001b[0m\r\n",
      "\u001b[2K   \u001b[90m━━━━━━━━━━━━━━━━━━━━━━━━━━━━━━━━━━━━━━━━\u001b[0m \u001b[32m85.0/85.0 kB\u001b[0m \u001b[31m4.2 MB/s\u001b[0m eta \u001b[36m0:00:00\u001b[0m\r\n",
      "\u001b[2K   \u001b[90m━━━━━━━━━━━━━━━━━━━━━━━━━━━━━━━━━━━━━━━━\u001b[0m \u001b[32m62.3/62.3 kB\u001b[0m \u001b[31m3.2 MB/s\u001b[0m eta \u001b[36m0:00:00\u001b[0m\r\n",
      "\u001b[2K   \u001b[90m━━━━━━━━━━━━━━━━━━━━━━━━━━━━━━━━━━━━━━━━\u001b[0m \u001b[32m442.1/442.1 kB\u001b[0m \u001b[31m26.1 MB/s\u001b[0m eta \u001b[36m0:00:00\u001b[0m\r\n",
      "\u001b[2K   \u001b[90m━━━━━━━━━━━━━━━━━━━━━━━━━━━━━━━━━━━━━━━━\u001b[0m \u001b[32m319.7/319.7 kB\u001b[0m \u001b[31m17.2 MB/s\u001b[0m eta \u001b[36m0:00:00\u001b[0m\r\n",
      "\u001b[2K   \u001b[90m━━━━━━━━━━━━━━━━━━━━━━━━━━━━━━━━━━━━━━━━\u001b[0m \u001b[32m71.5/71.5 kB\u001b[0m \u001b[31m4.3 MB/s\u001b[0m eta \u001b[36m0:00:00\u001b[0m\r\n",
      "\u001b[2K   \u001b[90m━━━━━━━━━━━━━━━━━━━━━━━━━━━━━━━━━━━━━━━━\u001b[0m \u001b[32m3.8/3.8 MB\u001b[0m \u001b[31m75.2 MB/s\u001b[0m eta \u001b[36m0:00:00\u001b[0m\r\n",
      "\u001b[2K   \u001b[90m━━━━━━━━━━━━━━━━━━━━━━━━━━━━━━━━━━━━━━━━\u001b[0m \u001b[32m452.9/452.9 kB\u001b[0m \u001b[31m22.6 MB/s\u001b[0m eta \u001b[36m0:00:00\u001b[0m\r\n",
      "\u001b[2K   \u001b[90m━━━━━━━━━━━━━━━━━━━━━━━━━━━━━━━━━━━━━━━━\u001b[0m \u001b[32m46.0/46.0 kB\u001b[0m \u001b[31m2.5 MB/s\u001b[0m eta \u001b[36m0:00:00\u001b[0m\r\n",
      "\u001b[2K   \u001b[90m━━━━━━━━━━━━━━━━━━━━━━━━━━━━━━━━━━━━━━━━\u001b[0m \u001b[32m86.8/86.8 kB\u001b[0m \u001b[31m4.9 MB/s\u001b[0m eta \u001b[36m0:00:00\u001b[0m\r\n",
      "\u001b[?25h  Building wheel for pypika (pyproject.toml) ... \u001b[?25l\u001b[?25hdone\r\n",
      "\u001b[31mERROR: pip's dependency resolver does not currently take into account all the packages that are installed. This behaviour is the source of the following dependency conflicts.\r\n",
      "gcsfs 2024.10.0 requires fsspec==2024.10.0, but you have fsspec 2024.12.0 which is incompatible.\r\n",
      "google-api-core 1.34.1 requires protobuf!=3.20.0,!=3.20.1,!=4.21.0,!=4.21.1,!=4.21.2,!=4.21.3,!=4.21.4,!=4.21.5,<4.0.0dev,>=3.19.5, but you have protobuf 5.29.4 which is incompatible.\r\n",
      "google-cloud-bigtable 2.27.0 requires google-api-core[grpc]<3.0.0dev,>=2.16.0, but you have google-api-core 1.34.1 which is incompatible.\r\n",
      "google-cloud-translate 3.12.1 requires protobuf!=3.20.0,!=3.20.1,!=4.21.0,!=4.21.1,!=4.21.2,!=4.21.3,!=4.21.4,!=4.21.5,<5.0.0dev,>=3.19.5, but you have protobuf 5.29.4 which is incompatible.\r\n",
      "pandas-gbq 0.25.0 requires google-api-core<3.0.0dev,>=2.10.2, but you have google-api-core 1.34.1 which is incompatible.\r\n",
      "tensorflow 2.17.1 requires protobuf!=4.21.0,!=4.21.1,!=4.21.2,!=4.21.3,!=4.21.4,!=4.21.5,<5.0.0dev,>=3.20.3, but you have protobuf 5.29.4 which is incompatible.\r\n",
      "tensorflow-decision-forests 1.10.0 requires tensorflow==2.17.0, but you have tensorflow 2.17.1 which is incompatible.\r\n",
      "tensorflow-metadata 1.13.1 requires protobuf<5,>=3.20.3, but you have protobuf 5.29.4 which is incompatible.\u001b[0m\u001b[31m\r\n",
      "\u001b[0m"
     ]
    }
   ],
   "source": [
    "!pip uninstall -qqy jupyterlab  # Remove unused packages from Kaggle's base image that conflict\n",
    "!pip install -U -q \"google-genai==1.7.0\" langchain PyPDF2 chromadb"
   ]
  },
  {
   "cell_type": "markdown",
   "id": "4685dbe9",
   "metadata": {
    "papermill": {
     "duration": 0.005011,
     "end_time": "2025-04-08T02:43:17.699253",
     "exception": false,
     "start_time": "2025-04-08T02:43:17.694242",
     "status": "completed"
    },
    "tags": []
   },
   "source": [
    "Import the SDK and set up the API key"
   ]
  },
  {
   "cell_type": "code",
   "execution_count": 3,
   "id": "bced4cc0",
   "metadata": {
    "execution": {
     "iopub.execute_input": "2025-04-08T02:43:17.710757Z",
     "iopub.status.busy": "2025-04-08T02:43:17.710414Z",
     "iopub.status.idle": "2025-04-08T02:43:18.643537Z",
     "shell.execute_reply": "2025-04-08T02:43:18.642942Z"
    },
    "papermill": {
     "duration": 0.940597,
     "end_time": "2025-04-08T02:43:18.644894",
     "exception": false,
     "start_time": "2025-04-08T02:43:17.704297",
     "status": "completed"
    },
    "tags": []
   },
   "outputs": [],
   "source": [
    "from google import genai\n",
    "from google.genai import types\n",
    "\n",
    "from IPython.display import HTML, Markdown, display"
   ]
  },
  {
   "cell_type": "markdown",
   "id": "8e09944d",
   "metadata": {
    "papermill": {
     "duration": 0.005166,
     "end_time": "2025-04-08T02:43:18.655648",
     "exception": false,
     "start_time": "2025-04-08T02:43:18.650482",
     "status": "completed"
    },
    "tags": []
   },
   "source": [
    "Set up a retry helper so we can press \"Run All\" and not worry about hitting the quota. "
   ]
  },
  {
   "cell_type": "code",
   "execution_count": 4,
   "id": "0acc061d",
   "metadata": {
    "execution": {
     "iopub.execute_input": "2025-04-08T02:43:18.666948Z",
     "iopub.status.busy": "2025-04-08T02:43:18.666555Z",
     "iopub.status.idle": "2025-04-08T02:43:18.875302Z",
     "shell.execute_reply": "2025-04-08T02:43:18.874739Z"
    },
    "papermill": {
     "duration": 0.215897,
     "end_time": "2025-04-08T02:43:18.876710",
     "exception": false,
     "start_time": "2025-04-08T02:43:18.660813",
     "status": "completed"
    },
    "tags": []
   },
   "outputs": [],
   "source": [
    "from google.api_core import retry\n",
    "\n",
    "\n",
    "is_retriable = lambda e: (isinstance(e, genai.errors.APIError) and e.code in {429, 503})\n",
    "\n",
    "genai.models.Models.generate_content = retry.Retry(\n",
    "    predicate=is_retriable)(genai.models.Models.generate_content)"
   ]
  },
  {
   "cell_type": "markdown",
   "id": "a76dc5eb",
   "metadata": {
    "papermill": {
     "duration": 0.004965,
     "end_time": "2025-04-08T02:43:18.887265",
     "exception": false,
     "start_time": "2025-04-08T02:43:18.882300",
     "status": "completed"
    },
    "tags": []
   },
   "source": [
    "### Set up your API key\n",
    "\n",
    "To run the following cell, your API key must be stored it in a [Kaggle secret](https://www.kaggle.com/discussions/product-feedback/114053) named `GOOGLE_API_KEY`.\n",
    "\n",
    "If you don't already have an API key, you can grab one from [AI Studio](https://aistudio.google.com/app/apikey). You can find [detailed instructions in the docs](https://ai.google.dev/gemini-api/docs/api-key).\n",
    "\n",
    "To make the key available through Kaggle secrets, choose `Secrets` from the `Add-ons` menu and follow the instructions to add your key or enable it for this notebook."
   ]
  },
  {
   "cell_type": "code",
   "execution_count": 5,
   "id": "c05368f8",
   "metadata": {
    "execution": {
     "iopub.execute_input": "2025-04-08T02:43:18.898458Z",
     "iopub.status.busy": "2025-04-08T02:43:18.898094Z",
     "iopub.status.idle": "2025-04-08T02:43:19.091062Z",
     "shell.execute_reply": "2025-04-08T02:43:19.090451Z"
    },
    "papermill": {
     "duration": 0.200066,
     "end_time": "2025-04-08T02:43:19.092395",
     "exception": false,
     "start_time": "2025-04-08T02:43:18.892329",
     "status": "completed"
    },
    "tags": []
   },
   "outputs": [],
   "source": [
    "from kaggle_secrets import UserSecretsClient\n",
    "\n",
    "GOOGLE_API_KEY = UserSecretsClient().get_secret(\"GOOGLE_API_KEY\")"
   ]
  },
  {
   "cell_type": "markdown",
   "id": "1442315a",
   "metadata": {
    "papermill": {
     "duration": 0.005069,
     "end_time": "2025-04-08T02:43:19.103064",
     "exception": false,
     "start_time": "2025-04-08T02:43:19.097995",
     "status": "completed"
    },
    "tags": []
   },
   "source": [
    "### Choose your model\n",
    "Depending on what's available and your quota, choose a model that's effective for your purposes."
   ]
  },
  {
   "cell_type": "code",
   "execution_count": 6,
   "id": "710ba23b",
   "metadata": {
    "execution": {
     "iopub.execute_input": "2025-04-08T02:43:19.114801Z",
     "iopub.status.busy": "2025-04-08T02:43:19.114486Z",
     "iopub.status.idle": "2025-04-08T02:43:20.023899Z",
     "shell.execute_reply": "2025-04-08T02:43:20.021996Z"
    },
    "papermill": {
     "duration": 0.916643,
     "end_time": "2025-04-08T02:43:20.025253",
     "exception": false,
     "start_time": "2025-04-08T02:43:19.108610",
     "status": "completed"
    },
    "tags": []
   },
   "outputs": [
    {
     "name": "stdout",
     "output_type": "stream",
     "text": [
      "models/chat-bison-001\n",
      "models/text-bison-001\n",
      "models/embedding-gecko-001\n",
      "models/gemini-1.0-pro-vision-latest\n",
      "models/gemini-pro-vision\n",
      "models/gemini-1.5-pro-latest\n",
      "models/gemini-1.5-pro-001\n",
      "models/gemini-1.5-pro-002\n",
      "models/gemini-1.5-pro\n",
      "models/gemini-1.5-flash-latest\n",
      "models/gemini-1.5-flash-001\n",
      "models/gemini-1.5-flash-001-tuning\n",
      "models/gemini-1.5-flash\n",
      "models/gemini-1.5-flash-002\n",
      "models/gemini-1.5-flash-8b\n",
      "models/gemini-1.5-flash-8b-001\n",
      "models/gemini-1.5-flash-8b-latest\n",
      "models/gemini-1.5-flash-8b-exp-0827\n",
      "models/gemini-1.5-flash-8b-exp-0924\n",
      "models/gemini-2.5-pro-exp-03-25\n",
      "models/gemini-2.5-pro-preview-03-25\n",
      "models/gemini-2.0-flash-exp\n",
      "models/gemini-2.0-flash\n",
      "models/gemini-2.0-flash-001\n",
      "models/gemini-2.0-flash-exp-image-generation\n",
      "models/gemini-2.0-flash-lite-001\n",
      "models/gemini-2.0-flash-lite\n",
      "models/gemini-2.0-flash-lite-preview-02-05\n",
      "models/gemini-2.0-flash-lite-preview\n",
      "models/gemini-2.0-pro-exp\n",
      "models/gemini-2.0-pro-exp-02-05\n",
      "models/gemini-exp-1206\n",
      "models/gemini-2.0-flash-thinking-exp-01-21\n",
      "models/gemini-2.0-flash-thinking-exp\n",
      "models/gemini-2.0-flash-thinking-exp-1219\n",
      "models/learnlm-1.5-pro-experimental\n",
      "models/gemma-3-1b-it\n",
      "models/gemma-3-4b-it\n",
      "models/gemma-3-12b-it\n",
      "models/gemma-3-27b-it\n",
      "models/embedding-001\n",
      "models/text-embedding-004\n",
      "models/gemini-embedding-exp-03-07\n",
      "models/gemini-embedding-exp\n",
      "models/aqa\n",
      "models/imagen-3.0-generate-002\n"
     ]
    }
   ],
   "source": [
    "client = genai.Client(api_key=GOOGLE_API_KEY)\n",
    "\n",
    "for model in client.models.list():\n",
    "  print(model.name)"
   ]
  },
  {
   "cell_type": "markdown",
   "id": "bdc237a8",
   "metadata": {
    "papermill": {
     "duration": 0.005293,
     "end_time": "2025-04-08T02:43:20.036099",
     "exception": false,
     "start_time": "2025-04-08T02:43:20.030806",
     "status": "completed"
    },
    "tags": []
   },
   "source": [
    "Check out the detailed information for your model"
   ]
  },
  {
   "cell_type": "code",
   "execution_count": 7,
   "id": "130f3aac",
   "metadata": {
    "execution": {
     "iopub.execute_input": "2025-04-08T02:43:20.048419Z",
     "iopub.status.busy": "2025-04-08T02:43:20.048122Z",
     "iopub.status.idle": "2025-04-08T02:43:20.206848Z",
     "shell.execute_reply": "2025-04-08T02:43:20.205905Z"
    },
    "papermill": {
     "duration": 0.166162,
     "end_time": "2025-04-08T02:43:20.208285",
     "exception": false,
     "start_time": "2025-04-08T02:43:20.042123",
     "status": "completed"
    },
    "tags": []
   },
   "outputs": [
    {
     "name": "stdout",
     "output_type": "stream",
     "text": [
      "{'name': 'models/gemini-2.0-flash', 'display_name': 'Gemini 2.0 Flash', 'description': 'Gemini 2.0 Flash', 'version': '2.0', 'tuned_model_info': {}, 'input_token_limit': 1048576, 'output_token_limit': 8192, 'supported_actions': ['generateContent', 'countTokens']}\n"
     ]
    }
   ],
   "source": [
    "for model in client.models.list():\n",
    "  if model.name == 'models/gemini-2.0-flash':\n",
    "    print(model.to_json_dict())\n",
    "    break\n",
    "\n",
    "# change this line if you want to use a different model\n",
    "model = \"gemini-2.0-flash\""
   ]
  },
  {
   "cell_type": "markdown",
   "id": "1c6a1ba6",
   "metadata": {
    "papermill": {
     "duration": 0.005128,
     "end_time": "2025-04-08T02:43:20.219333",
     "exception": false,
     "start_time": "2025-04-08T02:43:20.214205",
     "status": "completed"
    },
    "tags": []
   },
   "source": [
    "Test your model"
   ]
  },
  {
   "cell_type": "code",
   "execution_count": 8,
   "id": "5190d55f",
   "metadata": {
    "execution": {
     "iopub.execute_input": "2025-04-08T02:43:20.231564Z",
     "iopub.status.busy": "2025-04-08T02:43:20.231204Z",
     "iopub.status.idle": "2025-04-08T02:43:21.196587Z",
     "shell.execute_reply": "2025-04-08T02:43:21.195569Z"
    },
    "papermill": {
     "duration": 0.973634,
     "end_time": "2025-04-08T02:43:21.198269",
     "exception": false,
     "start_time": "2025-04-08T02:43:20.224635",
     "status": "completed"
    },
    "tags": []
   },
   "outputs": [
    {
     "name": "stdout",
     "output_type": "stream",
     "text": [
      "Nice to meet you, Zlork! It's a pleasure to make your acquaintance. Is there anything I can help you with today?\n",
      "\n"
     ]
    }
   ],
   "source": [
    "chat = client.chats.create(model=model, history=[])\n",
    "response = chat.send_message('Hello! My name is Zlork.')\n",
    "print(response.text)"
   ]
  },
  {
   "cell_type": "markdown",
   "id": "ffa0879c",
   "metadata": {
    "papermill": {
     "duration": 0.005384,
     "end_time": "2025-04-08T02:43:21.209400",
     "exception": false,
     "start_time": "2025-04-08T02:43:21.204016",
     "status": "completed"
    },
    "tags": []
   },
   "source": [
    "You can use the `Markdown()` function to format it nicely in Kaggle."
   ]
  },
  {
   "cell_type": "code",
   "execution_count": 9,
   "id": "b184a380",
   "metadata": {
    "execution": {
     "iopub.execute_input": "2025-04-08T02:43:21.221661Z",
     "iopub.status.busy": "2025-04-08T02:43:21.221336Z",
     "iopub.status.idle": "2025-04-08T02:43:22.868490Z",
     "shell.execute_reply": "2025-04-08T02:43:22.867433Z"
    },
    "papermill": {
     "duration": 1.654723,
     "end_time": "2025-04-08T02:43:22.869780",
     "exception": false,
     "start_time": "2025-04-08T02:43:21.215057",
     "status": "completed"
    },
    "tags": []
   },
   "outputs": [
    {
     "data": {
      "text/markdown": [
       "Ah, greetings, Zlork! It is an *uncommon* delight to be communicating with you! I hope this message finds you well.\n",
       "\n",
       "***\n",
       "\n",
       "Perhaps I can assist you with something *intriguing* today? Perhaps a poem in iambic pentameter? Or a complex query about the esoteric properties of, say, **dodecahedrons**?\n",
       "\n",
       "```python\n",
       "def say_hello_fancy(name):\n",
       "  \"\"\"Greets a person with markdown flair.\"\"\"\n",
       "  return f\"## Greetings, {name}!\\n\\nIt is a *singular* pleasure to meet you.\\n\\n***\\n\\nMay your day be filled with wonder and punctuated with moments of exquisite delight!\"\n",
       "\n",
       "print(say_hello_fancy(\"Zlork\"))\n",
       "```\n",
       "\n",
       "Let me know! What manner of assistance can I render?\n"
      ],
      "text/plain": [
       "<IPython.core.display.Markdown object>"
      ]
     },
     "execution_count": 9,
     "metadata": {},
     "output_type": "execute_result"
    }
   ],
   "source": [
    "response = chat.send_message('Hello! My name is Zlork.' + \n",
    "                             'Use some fancy markdown in your message')\n",
    "Markdown(response.text)"
   ]
  },
  {
   "cell_type": "markdown",
   "id": "6c411946",
   "metadata": {
    "papermill": {
     "duration": 0.005144,
     "end_time": "2025-04-08T02:43:22.880787",
     "exception": false,
     "start_time": "2025-04-08T02:43:22.875643",
     "status": "completed"
    },
    "tags": []
   },
   "source": [
    "# A fine prompt\n",
    "Let's start by writing our prompt. What should it include and what should it mention? Following the principles taught throughout the course, let's place an importance on giving **positive** instructions rather than **negative** instructions to maintain effectiveness. \n",
    "\n",
    "The model needs to do the following:\n",
    "- Stick to the SAT: Understand weighting and importance of certain questions, categories, and ensure all advice is applicable to the bounds of the SAT. A document with the specifications of the SAT format can be used for Retrieval Augmented Generation (RAG) rather than potential hallucination over the exact requirements.\n",
    "- Have access to the current question (and maybe the previous questions for even more context)\n",
    "- Have access to the answers and time between each to estimate confidence.\n",
    "- Understand images or SVGs for Inference and other Reading/Writing questions.\n",
    "- Use Tree of Thoughts (ToT) to generate multiple solving processes because multiple methods may be used to arrive at the same answer, and output these answering mechanisms in a JSON array to present on the website effectively (a TUI for this notebook)\n",
    "- Find semantically related questions and present them to the user on the website using ReAct (a TUI for this notebook)"
   ]
  },
  {
   "cell_type": "markdown",
   "id": "95daa14d",
   "metadata": {
    "papermill": {
     "duration": 0.005054,
     "end_time": "2025-04-08T02:43:22.891195",
     "exception": false,
     "start_time": "2025-04-08T02:43:22.886141",
     "status": "completed"
    },
    "tags": []
   },
   "source": [
    "Let's start by finding an effective prompt. \n",
    "Then we can evaluate the effectiveness of including the SAT standards in a PDF to help the user answering a question. We will also evaluate whether a vector search database is useful for this document.\n",
    "\n",
    "Below, the variables for the specific question we are testing are defined."
   ]
  },
  {
   "cell_type": "code",
   "execution_count": 10,
   "id": "4754f638",
   "metadata": {
    "execution": {
     "iopub.execute_input": "2025-04-08T02:43:22.903028Z",
     "iopub.status.busy": "2025-04-08T02:43:22.902718Z",
     "iopub.status.idle": "2025-04-08T02:43:22.907356Z",
     "shell.execute_reply": "2025-04-08T02:43:22.906339Z"
    },
    "papermill": {
     "duration": 0.012055,
     "end_time": "2025-04-08T02:43:22.908591",
     "exception": false,
     "start_time": "2025-04-08T02:43:22.896536",
     "status": "completed"
    },
    "tags": []
   },
   "outputs": [],
   "source": [
    "# All questions are (c) CollegeBoard 2025.\n",
    "question = \"\"\"\n",
    "In a paper about p-i-n planar perovskite solar cells (one of several perovskite cell architectures designed to collect and store solar power), Lyndsey McMillon-Brown et al. described a method for fabricating the cell’s electronic transport layer (ETL) using a spray coating. Conventional ETL fabrication is accomplished using a solution of nanoparticles. The process can result in a loss of up to 80% of the solution, increasing the cost of manufacturing at scale—an issue that may be obviated by spray coating fabrication, which the researchers describe as “highly reproducible, concise, and practical.”\n",
    "\n",
    "What does the text most strongly suggest about conventional ETL fabrication?\n",
    "A. It is less suitable for manufacturing large volumes of planar p-i-n perovskite solar cells than an alternative fabrication method may be.\n",
    "B. It is more expensive when manufacturing at scale than are processes for fabricating ETLs used in other perovskite solar cell architectures.\n",
    "C. It typically entails a greater loss of nanoparticle solution than do other established approaches for ETL fabrication.\n",
    "D. It is somewhat imprecise and therefore limits the potential effectiveness of p-i-n planar perovskite solar cells at capturing and storing solar power.\n",
    "\"\"\"\n",
    "\n",
    "rationale = \"\"\"\n",
    "Choice A is the best answer. Conventional solar cell fabrication increases “the cost of manufacturing at scale,” but spray coating might get rid of that problem.\n",
    "\n",
    "Choice B is incorrect. This is not completely supported by the text. While it’s true that conventional ETL fabrication is expensive at scale, there’s nothing in the text that mentions other perovskite solar cell architectures. Choice C is incorrect. This choice does not match the text. Only one conventional method of ETL fabrication is described, so we can’t compare the solution loss in this method to that of other conventional methods. Choice D is incorrect. This choice isn’t supported by the text. The text never suggests that the effectiveness of solar cells changes based on their method of fabrication. \n",
    "\"\"\"\n",
    "\n",
    "user_answer = \"C\""
   ]
  },
  {
   "cell_type": "markdown",
   "id": "939759a6",
   "metadata": {
    "papermill": {
     "duration": 0.007919,
     "end_time": "2025-04-08T02:43:22.922389",
     "exception": false,
     "start_time": "2025-04-08T02:43:22.914470",
     "status": "completed"
    },
    "tags": []
   },
   "source": [
    "Ideally, the user will talk to the chatbot after it gets the question wrong (or before in some scenarios, too). Either way, the user will have some rationale as to his or her answer to the question. Don't expect this rationale to be well thought out - the objective of the intelligent agent is to draw out what they actually mean. It may be completely omitted as well."
   ]
  },
  {
   "cell_type": "code",
   "execution_count": 11,
   "id": "efcfda70",
   "metadata": {
    "execution": {
     "iopub.execute_input": "2025-04-08T02:43:22.934957Z",
     "iopub.status.busy": "2025-04-08T02:43:22.934658Z",
     "iopub.status.idle": "2025-04-08T02:43:22.937939Z",
     "shell.execute_reply": "2025-04-08T02:43:22.937116Z"
    },
    "papermill": {
     "duration": 0.010494,
     "end_time": "2025-04-08T02:43:22.939059",
     "exception": false,
     "start_time": "2025-04-08T02:43:22.928565",
     "status": "completed"
    },
    "tags": []
   },
   "outputs": [],
   "source": [
    "user_rationale = \"Isn't the new method of ETL fabrication the same as the 'established methods'\""
   ]
  },
  {
   "cell_type": "markdown",
   "id": "f013cef6",
   "metadata": {
    "papermill": {
     "duration": 0.005166,
     "end_time": "2025-04-08T02:43:22.949763",
     "exception": false,
     "start_time": "2025-04-08T02:43:22.944597",
     "status": "completed"
    },
    "tags": []
   },
   "source": [
    "Synthesize the prompt:"
   ]
  },
  {
   "cell_type": "code",
   "execution_count": 12,
   "id": "ce5623d5",
   "metadata": {
    "execution": {
     "iopub.execute_input": "2025-04-08T02:43:22.961543Z",
     "iopub.status.busy": "2025-04-08T02:43:22.961216Z",
     "iopub.status.idle": "2025-04-08T02:43:28.353404Z",
     "shell.execute_reply": "2025-04-08T02:43:28.352379Z"
    },
    "papermill": {
     "duration": 5.399535,
     "end_time": "2025-04-08T02:43:28.354710",
     "exception": false,
     "start_time": "2025-04-08T02:43:22.955175",
     "status": "completed"
    },
    "tags": []
   },
   "outputs": [
    {
     "data": {
      "text/markdown": [
       "Okay, I can definitely understand why you chose option C and how you interpreted the text. Let's break down the question and the answer choices according to the College Board's SAT framework, and hopefully, this will clarify why A is the stronger answer.\n",
       "\n",
       "**Question Type and Skills Tested:**\n",
       "\n",
       "*   **Question Type:** This is a Command of Evidence question, specifically an Inference question. (Reading Test Specifications)\n",
       "*   **Skills Tested:** You need to be able to understand what the author is suggesting, even if it's not stated directly. You have to draw a logical conclusion based on the information given.\n",
       "\n",
       "**Analysis of the Text and Answer Choices:**\n",
       "\n",
       "The key part of the text is: \"...conventional ETL fabrication is accomplished using a solution of nanoparticles. The process can result in a loss of up to 80% of the solution, increasing the cost of manufacturing at scale—an issue that may be obviated by spray coating fabrication...\"\n",
       "\n",
       "*   **A. It is less suitable for manufacturing large volumes of planar p-i-n perovskite solar cells than an alternative fabrication method may be.**\n",
       "\n",
       "    *   **Why it's correct:** The passage directly states that the conventional method increases \"the cost of manufacturing *at scale*.\" The spray coating method \"may obviate\" this issue, implying it *is* more suitable for large-scale manufacturing. \"Less suitable\" is a good way to describe the problem in the original method.\n",
       "*   **B. It is more expensive when manufacturing at scale than are processes for fabricating ETLs used in other perovskite solar cell architectures.**\n",
       "\n",
       "    *   **Why it's incorrect:** The passage *only* discusses p-i-n planar perovskite solar cells. It makes *no comparison* to other perovskite cell architectures. This introduces information not found in the text.\n",
       "*   **C. It typically entails a greater loss of nanoparticle solution than do other established approaches for ETL fabrication.**\n",
       "\n",
       "    *   **Why it's incorrect:** This is where the misunderstanding lies. The passage describes *one* conventional method using nanoparticles. The phrase \"established approaches\" implies multiple conventional methods exist, and that *this* particular method loses more solution than *other* conventional methods. However, the text doesn't provide information about other established approaches or their solution loss.\n",
       "*   **D. It is somewhat imprecise and therefore limits the potential effectiveness of p-i-n planar perovskite solar cells at capturing and storing solar power.**\n",
       "\n",
       "    *   **Why it's incorrect:** The text focuses on *cost* and *reproducibility*. It doesn't mention the precision of conventional ETL fabrication or its impact on the solar cell's effectiveness.\n",
       "\n",
       "**Why Your Initial Thought Was Understandable:**\n",
       "\n",
       "You're right to focus on the idea of \"established methods.\" However, \"conventional ETL fabrication\" in the context of this passage refers to *one specific method* that uses a nanoparticle solution. The passage introduces spray coating as a *potential improvement* to *that specific conventional method.*\n",
       "\n",
       "**Actionable Improvement Strategy:**\n",
       "\n",
       "*   **Focus on the Scope:** Be very careful to only consider information explicitly provided or directly implied within the passage. Don't bring in outside knowledge or make assumptions.\n",
       "*   **Pay Attention to Specificity:** Notice words like \"other,\" \"more,\" \"less,\" etc., as they often indicate comparisons. Make sure those comparisons are actually supported by the text. If a comparison isn't made in the text, then it's not the right answer.\n",
       "*   **Re-read the relevant sentences:** When you're down to 2 answer choices, go back and re-read the specific parts of the passage that relate to those choices. This helps ensure you're not missing subtle implications.\n",
       "\n",
       "Hopefully, this explanation clarifies why option A is the best answer and helps you approach similar questions with more confidence! Let me know if you have any other questions.\n"
      ],
      "text/plain": [
       "<IPython.core.display.Markdown object>"
      ]
     },
     "execution_count": 12,
     "metadata": {},
     "output_type": "execute_result"
    }
   ],
   "source": [
    "from google.genai.types import GenerateContentConfig\n",
    "\n",
    "response = client.models.generate_content(\n",
    "    model=\"gemini-2.0-flash-001\",\n",
    "    # no specs yet\n",
    "    contents=f\"{question} {rationale}\\n The user got: {user_answer}\\n {user_rationale}\",\n",
    "    config=GenerateContentConfig(\n",
    "        system_instruction=[\n",
    "            \"You are an SAT expert tutor. Analyze questions using the official SAT framework. \",\n",
    "            \"Help students by:\\n\",\n",
    "            \"1. Identifying question type and skills tested\\n\",\n",
    "            \"2. Explaining why answers are correct/incorrect\\n\",\n",
    "            \"3. Providing actionable improvement strategies\\n\",\n",
    "            \"Use formal but friendly language. Reference the SAT specs when possible.\",\n",
    "        ]\n",
    "    ),\n",
    ")\n",
    "\n",
    "\n",
    "Markdown(response.text)\n"
   ]
  },
  {
   "cell_type": "markdown",
   "id": "85248acc",
   "metadata": {
    "papermill": {
     "duration": 0.006809,
     "end_time": "2025-04-08T02:43:28.372992",
     "exception": false,
     "start_time": "2025-04-08T02:43:28.366183",
     "status": "completed"
    },
    "tags": []
   },
   "source": [
    "Perhaps the model will be more effective with FAISS vector database searches for the PDF.\n",
    "\n",
    "# Parse PDF\n",
    "The following code uses lossy conversion to turn the PDF into readable text."
   ]
  },
  {
   "cell_type": "markdown",
   "id": "824373f6",
   "metadata": {
    "papermill": {
     "duration": 0.00588,
     "end_time": "2025-04-08T02:43:28.385467",
     "exception": false,
     "start_time": "2025-04-08T02:43:28.379587",
     "status": "completed"
    },
    "tags": []
   },
   "source": [
    "Information like tables and images will be lost in the process, as demonstrated by the following snippet."
   ]
  },
  {
   "cell_type": "code",
   "execution_count": 13,
   "id": "af1d937d",
   "metadata": {
    "execution": {
     "iopub.execute_input": "2025-04-08T02:43:28.403346Z",
     "iopub.status.busy": "2025-04-08T02:43:28.403052Z",
     "iopub.status.idle": "2025-04-08T02:43:29.149938Z",
     "shell.execute_reply": "2025-04-08T02:43:29.148801Z"
    },
    "papermill": {
     "duration": 0.755937,
     "end_time": "2025-04-08T02:43:29.151337",
     "exception": false,
     "start_time": "2025-04-08T02:43:28.395400",
     "status": "completed"
    },
    "tags": []
   },
   "outputs": [
    {
     "name": "stdout",
     "output_type": "stream",
     "text": [
      "Example table  \n",
      "This is an example of a data table. \n",
      "Disability \n",
      "Category Participants  Ballots \n",
      "Completed  Ballots \n",
      "Incomplete/  \n",
      "Terminated  Results  \n",
      "Accuracy  Time to \n",
      "complete \n",
      "Blind  5 1 4 34.5%, n=1  1199 sec, n=1  \n",
      "Low Vision  5 2 3 98.3% n=2  \n",
      "(97.7%, n=3)  1716 sec, n=3  \n",
      "(1934 sec, n=2)  \n",
      "Dexterity  5 4 1 98.3%, n=4  1672.1 sec, n=4  \n",
      "Mobility  3 3 0 95.4%, n=3  1416 sec, n=3  \n",
      " \n"
     ]
    }
   ],
   "source": [
    "from PyPDF2 import PdfReader\n",
    "from io import BytesIO\n",
    "import requests\n",
    "\n",
    "url = \"https://www.w3.org/WAI/WCAG20/Techniques/working-examples/PDF20/table.pdf\"\n",
    "response = requests.get(url)\n",
    "pdf_bytes = BytesIO(response.content)\n",
    "\n",
    "text = \"\"\n",
    "pdf_reader = PdfReader(pdf_bytes)\n",
    "for page in pdf_reader.pages:\n",
    "    text += page.extract_text()\n",
    "\n",
    "print(text[0:1000])"
   ]
  },
  {
   "cell_type": "code",
   "execution_count": 14,
   "id": "1a12290e",
   "metadata": {
    "execution": {
     "iopub.execute_input": "2025-04-08T02:43:29.163891Z",
     "iopub.status.busy": "2025-04-08T02:43:29.163633Z",
     "iopub.status.idle": "2025-04-08T02:43:33.258439Z",
     "shell.execute_reply": "2025-04-08T02:43:33.257063Z"
    },
    "papermill": {
     "duration": 4.10247,
     "end_time": "2025-04-08T02:43:33.259861",
     "exception": false,
     "start_time": "2025-04-08T02:43:29.157391",
     "status": "completed"
    },
    "tags": []
   },
   "outputs": [
    {
     "name": "stdout",
     "output_type": "stream",
     "text": [
      "<class '_io.BytesIO'>\n",
      "Assessment Framework \n",
      "for the Digital SAT® SuiteAssessment Framework \n",
      "for the Digital SAT® Suite\n",
      "Version 3.01, August 2024\n",
      "About College Board\n",
      "College Board reaches more than 7 million students a year, helping them \n",
      "navigate the path from high school to college and career. Our not-for-\n",
      "profit membership organization was founded more than 120 years ago. \n",
      "We pioneered programs like the SAT® and AP® to expand opportunities \n",
      "for students and help them develop the skills they need. Our BigFuture® \n",
      "program helps students plan for college, pay for college, and explore \n",
      "careers. Learn more at cb.org .\n",
      "Suggested Citation:  College Board. 2024. Assessment Framework for the \n",
      "Digital SAT Suite , version 3.01 (August 2024). New Y ork: College Board.\n",
      "© 2024 College Board. College Board, Advanced Placement, AP , BigFuture, Landscape, Pre-AP , SAT, and \n",
      "the acorn logo are registered trademarks of College Board. AP Potential, Bluebook, Connections, PSAT, \n",
      "Skills Insight, Student Search Service, and The\n"
     ]
    }
   ],
   "source": [
    "# Download the PDF using requests\n",
    "url = \"https://satsuite.collegeboard.org/media/pdf/assessment-framework-for-digital-sat-suite.pdf\"\n",
    "\n",
    "response = requests.get(url)\n",
    "pdf_bytes = BytesIO(response.content)\n",
    "\n",
    "print(type(pdf_bytes))\n",
    "\n",
    "text = \"\"\n",
    "pdf_reader = PdfReader(pdf_bytes)\n",
    "for page in pdf_reader.pages:\n",
    "    text += page.extract_text()\n",
    "\n",
    "print(text[0:1000])"
   ]
  },
  {
   "cell_type": "markdown",
   "id": "82f1c7c4",
   "metadata": {
    "papermill": {
     "duration": 0.005577,
     "end_time": "2025-04-08T02:43:33.271849",
     "exception": false,
     "start_time": "2025-04-08T02:43:33.266272",
     "status": "completed"
    },
    "tags": []
   },
   "source": [
    "This text data might be too big for the model to contain within the prompt."
   ]
  },
  {
   "cell_type": "code",
   "execution_count": 15,
   "id": "9af8181e",
   "metadata": {
    "execution": {
     "iopub.execute_input": "2025-04-08T02:43:33.284298Z",
     "iopub.status.busy": "2025-04-08T02:43:33.284014Z",
     "iopub.status.idle": "2025-04-08T02:43:35.163799Z",
     "shell.execute_reply": "2025-04-08T02:43:35.162769Z"
    },
    "papermill": {
     "duration": 1.887481,
     "end_time": "2025-04-08T02:43:35.165142",
     "exception": false,
     "start_time": "2025-04-08T02:43:33.277661",
     "status": "completed"
    },
    "tags": []
   },
   "outputs": [
    {
     "data": {
      "text/plain": [
       "153273"
      ]
     },
     "execution_count": 15,
     "metadata": {},
     "output_type": "execute_result"
    }
   ],
   "source": [
    "client.models.count_tokens(\n",
    "    model=model, contents=text\n",
    ").total_tokens"
   ]
  },
  {
   "cell_type": "markdown",
   "id": "e79a7d06",
   "metadata": {
    "papermill": {
     "duration": 0.005619,
     "end_time": "2025-04-08T02:43:35.177418",
     "exception": false,
     "start_time": "2025-04-08T02:43:35.171799",
     "status": "completed"
    },
    "tags": []
   },
   "source": [
    "# Chunk the Parsed PDF\n",
    "In order to use the PDF, we need to \"chunk\" it so bits of relevant information can be accessed at a time. In order to maximize efficiency, a vector search database will be used, as the likelihood that any key words in the question will appear on the SAT is effectively zero. \n",
    "\n",
    "The model will instead be a ReAct agent and figure out what to search up and call that tool as an extension and we will see what happens"
   ]
  },
  {
   "cell_type": "markdown",
   "id": "7dfc9a87",
   "metadata": {
    "papermill": {
     "duration": 0.005441,
     "end_time": "2025-04-08T02:43:35.188673",
     "exception": false,
     "start_time": "2025-04-08T02:43:35.183232",
     "status": "completed"
    },
    "tags": []
   },
   "source": [
    "do some mathplotlib thingies"
   ]
  }
 ],
 "metadata": {
  "kaggle": {
   "accelerator": "none",
   "dataSources": [],
   "dockerImageVersionId": 30918,
   "isGpuEnabled": false,
   "isInternetEnabled": true,
   "language": "python",
   "sourceType": "notebook"
  },
  "kernelspec": {
   "display_name": "Python 3",
   "language": "python",
   "name": "python3"
  },
  "language_info": {
   "codemirror_mode": {
    "name": "ipython",
    "version": 3
   },
   "file_extension": ".py",
   "mimetype": "text/x-python",
   "name": "python",
   "nbconvert_exporter": "python",
   "pygments_lexer": "ipython3",
   "version": "3.10.12"
  },
  "papermill": {
   "default_parameters": {},
   "duration": 61.835302,
   "end_time": "2025-04-08T02:43:35.913745",
   "environment_variables": {},
   "exception": null,
   "input_path": "__notebook__.ipynb",
   "output_path": "__notebook__.ipynb",
   "parameters": {},
   "start_time": "2025-04-08T02:42:34.078443",
   "version": "2.6.0"
  }
 },
 "nbformat": 4,
 "nbformat_minor": 5
}
